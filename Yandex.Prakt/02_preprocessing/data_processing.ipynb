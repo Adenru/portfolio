{
 "cells": [
  {
   "cell_type": "markdown",
   "metadata": {},
   "source": [
    "# Исследование надёжности заёмщиков\n",
    "\n",
    "Заказчик — кредитный отдел банка. Нужно разобраться, влияет ли семейное положение и количество детей клиента на факт погашения кредита в срок. Входные данные от банка — статистика о платёжеспособности клиентов.\n",
    "\n",
    "Результаты исследования будут учтены при построении модели **кредитного скоринга** — специальной системы, которая оценивает способность потенциального заёмщика вернуть кредит банку."
   ]
  },
  {
   "cell_type": "markdown",
   "metadata": {},
   "source": [
    "## Шаг 1. Откройте файл с данными и изучите общую информацию"
   ]
  },
  {
   "cell_type": "code",
   "execution_count": 433,
   "metadata": {
    "scrolled": false
   },
   "outputs": [
    {
     "name": "stdout",
     "output_type": "stream",
     "text": [
      "<class 'pandas.core.frame.DataFrame'>\n",
      "RangeIndex: 21525 entries, 0 to 21524\n",
      "Data columns (total 12 columns):\n",
      "children            21525 non-null int64\n",
      "days_employed       19351 non-null float64\n",
      "dob_years           21525 non-null int64\n",
      "education           21525 non-null object\n",
      "education_id        21525 non-null int64\n",
      "family_status       21525 non-null object\n",
      "family_status_id    21525 non-null int64\n",
      "gender              21525 non-null object\n",
      "income_type         21525 non-null object\n",
      "debt                21525 non-null int64\n",
      "total_income        19351 non-null float64\n",
      "purpose             21525 non-null object\n",
      "dtypes: float64(2), int64(5), object(5)\n",
      "memory usage: 2.0+ MB\n"
     ]
    },
    {
     "data": {
      "text/plain": [
       "54"
      ]
     },
     "execution_count": 433,
     "metadata": {},
     "output_type": "execute_result"
    }
   ],
   "source": [
    "import pandas as pd\n",
    "df = pd.read_csv('/datasets/data.csv')\n",
    "df.info()\n",
    "df.head()\n",
    "df.duplicated().sum()"
   ]
  },
  {
   "cell_type": "code",
   "execution_count": 434,
   "metadata": {},
   "outputs": [
    {
     "data": {
      "text/html": [
       "<div>\n",
       "<style scoped>\n",
       "    .dataframe tbody tr th:only-of-type {\n",
       "        vertical-align: middle;\n",
       "    }\n",
       "\n",
       "    .dataframe tbody tr th {\n",
       "        vertical-align: top;\n",
       "    }\n",
       "\n",
       "    .dataframe thead th {\n",
       "        text-align: right;\n",
       "    }\n",
       "</style>\n",
       "<table border=\"1\" class=\"dataframe\">\n",
       "  <thead>\n",
       "    <tr style=\"text-align: right;\">\n",
       "      <th></th>\n",
       "      <th>children</th>\n",
       "      <th>days_employed</th>\n",
       "      <th>dob_years</th>\n",
       "      <th>education</th>\n",
       "      <th>education_id</th>\n",
       "      <th>family_status</th>\n",
       "      <th>family_status_id</th>\n",
       "      <th>gender</th>\n",
       "      <th>income_type</th>\n",
       "      <th>debt</th>\n",
       "      <th>total_income</th>\n",
       "      <th>purpose</th>\n",
       "    </tr>\n",
       "  </thead>\n",
       "  <tbody>\n",
       "    <tr>\n",
       "      <td>6954</td>\n",
       "      <td>0</td>\n",
       "      <td>401755.400475</td>\n",
       "      <td>56</td>\n",
       "      <td>среднее</td>\n",
       "      <td>1</td>\n",
       "      <td>вдовец / вдова</td>\n",
       "      <td>2</td>\n",
       "      <td>F</td>\n",
       "      <td>пенсионер</td>\n",
       "      <td>0</td>\n",
       "      <td>176278.441171</td>\n",
       "      <td>ремонт жилью</td>\n",
       "    </tr>\n",
       "    <tr>\n",
       "      <td>10006</td>\n",
       "      <td>0</td>\n",
       "      <td>401715.811749</td>\n",
       "      <td>69</td>\n",
       "      <td>высшее</td>\n",
       "      <td>0</td>\n",
       "      <td>Не женат / не замужем</td>\n",
       "      <td>4</td>\n",
       "      <td>F</td>\n",
       "      <td>пенсионер</td>\n",
       "      <td>0</td>\n",
       "      <td>57390.256908</td>\n",
       "      <td>получение образования</td>\n",
       "    </tr>\n",
       "    <tr>\n",
       "      <td>7664</td>\n",
       "      <td>1</td>\n",
       "      <td>401675.093434</td>\n",
       "      <td>61</td>\n",
       "      <td>среднее</td>\n",
       "      <td>1</td>\n",
       "      <td>женат / замужем</td>\n",
       "      <td>0</td>\n",
       "      <td>F</td>\n",
       "      <td>пенсионер</td>\n",
       "      <td>0</td>\n",
       "      <td>126214.519212</td>\n",
       "      <td>операции с жильем</td>\n",
       "    </tr>\n",
       "    <tr>\n",
       "      <td>2156</td>\n",
       "      <td>0</td>\n",
       "      <td>401674.466633</td>\n",
       "      <td>60</td>\n",
       "      <td>среднее</td>\n",
       "      <td>1</td>\n",
       "      <td>женат / замужем</td>\n",
       "      <td>0</td>\n",
       "      <td>M</td>\n",
       "      <td>пенсионер</td>\n",
       "      <td>0</td>\n",
       "      <td>325395.724541</td>\n",
       "      <td>автомобили</td>\n",
       "    </tr>\n",
       "    <tr>\n",
       "      <td>7794</td>\n",
       "      <td>0</td>\n",
       "      <td>401663.850046</td>\n",
       "      <td>61</td>\n",
       "      <td>среднее</td>\n",
       "      <td>1</td>\n",
       "      <td>гражданский брак</td>\n",
       "      <td>1</td>\n",
       "      <td>F</td>\n",
       "      <td>пенсионер</td>\n",
       "      <td>0</td>\n",
       "      <td>48286.441362</td>\n",
       "      <td>свадьба</td>\n",
       "    </tr>\n",
       "  </tbody>\n",
       "</table>\n",
       "</div>"
      ],
      "text/plain": [
       "       children  days_employed  dob_years education  education_id  \\\n",
       "6954          0  401755.400475         56   среднее             1   \n",
       "10006         0  401715.811749         69    высшее             0   \n",
       "7664          1  401675.093434         61   среднее             1   \n",
       "2156          0  401674.466633         60   среднее             1   \n",
       "7794          0  401663.850046         61   среднее             1   \n",
       "\n",
       "               family_status  family_status_id gender income_type  debt  \\\n",
       "6954          вдовец / вдова                 2      F   пенсионер     0   \n",
       "10006  Не женат / не замужем                 4      F   пенсионер     0   \n",
       "7664         женат / замужем                 0      F   пенсионер     0   \n",
       "2156         женат / замужем                 0      M   пенсионер     0   \n",
       "7794        гражданский брак                 1      F   пенсионер     0   \n",
       "\n",
       "        total_income                purpose  \n",
       "6954   176278.441171           ремонт жилью  \n",
       "10006   57390.256908  получение образования  \n",
       "7664   126214.519212      операции с жильем  \n",
       "2156   325395.724541             автомобили  \n",
       "7794    48286.441362                свадьба  "
      ]
     },
     "execution_count": 434,
     "metadata": {},
     "output_type": "execute_result"
    }
   ],
   "source": [
    "df.sort_values(by = 'days_employed', ascending = False).head()"
   ]
  },
  {
   "cell_type": "code",
   "execution_count": 435,
   "metadata": {},
   "outputs": [
    {
     "data": {
      "text/html": [
       "<div>\n",
       "<style scoped>\n",
       "    .dataframe tbody tr th:only-of-type {\n",
       "        vertical-align: middle;\n",
       "    }\n",
       "\n",
       "    .dataframe tbody tr th {\n",
       "        vertical-align: top;\n",
       "    }\n",
       "\n",
       "    .dataframe thead th {\n",
       "        text-align: right;\n",
       "    }\n",
       "</style>\n",
       "<table border=\"1\" class=\"dataframe\">\n",
       "  <thead>\n",
       "    <tr style=\"text-align: right;\">\n",
       "      <th></th>\n",
       "      <th>children</th>\n",
       "      <th>days_employed</th>\n",
       "      <th>dob_years</th>\n",
       "      <th>education</th>\n",
       "      <th>education_id</th>\n",
       "      <th>family_status</th>\n",
       "      <th>family_status_id</th>\n",
       "      <th>gender</th>\n",
       "      <th>income_type</th>\n",
       "      <th>debt</th>\n",
       "      <th>total_income</th>\n",
       "      <th>purpose</th>\n",
       "    </tr>\n",
       "  </thead>\n",
       "  <tbody>\n",
       "    <tr>\n",
       "      <td>6859</td>\n",
       "      <td>1</td>\n",
       "      <td>-260.992722</td>\n",
       "      <td>0</td>\n",
       "      <td>неоконченное высшее</td>\n",
       "      <td>2</td>\n",
       "      <td>гражданский брак</td>\n",
       "      <td>1</td>\n",
       "      <td>F</td>\n",
       "      <td>сотрудник</td>\n",
       "      <td>0</td>\n",
       "      <td>128246.646591</td>\n",
       "      <td>покупка недвижимости</td>\n",
       "    </tr>\n",
       "    <tr>\n",
       "      <td>16042</td>\n",
       "      <td>2</td>\n",
       "      <td>-176.404487</td>\n",
       "      <td>0</td>\n",
       "      <td>среднее</td>\n",
       "      <td>1</td>\n",
       "      <td>женат / замужем</td>\n",
       "      <td>0</td>\n",
       "      <td>F</td>\n",
       "      <td>сотрудник</td>\n",
       "      <td>0</td>\n",
       "      <td>137563.630693</td>\n",
       "      <td>жилье</td>\n",
       "    </tr>\n",
       "    <tr>\n",
       "      <td>7034</td>\n",
       "      <td>0</td>\n",
       "      <td>366067.781030</td>\n",
       "      <td>0</td>\n",
       "      <td>высшее</td>\n",
       "      <td>0</td>\n",
       "      <td>Не женат / не замужем</td>\n",
       "      <td>4</td>\n",
       "      <td>F</td>\n",
       "      <td>пенсионер</td>\n",
       "      <td>0</td>\n",
       "      <td>263121.074528</td>\n",
       "      <td>образование</td>\n",
       "    </tr>\n",
       "    <tr>\n",
       "      <td>21179</td>\n",
       "      <td>2</td>\n",
       "      <td>-108.967042</td>\n",
       "      <td>0</td>\n",
       "      <td>высшее</td>\n",
       "      <td>0</td>\n",
       "      <td>женат / замужем</td>\n",
       "      <td>0</td>\n",
       "      <td>M</td>\n",
       "      <td>компаньон</td>\n",
       "      <td>0</td>\n",
       "      <td>240702.007382</td>\n",
       "      <td>строительство жилой недвижимости</td>\n",
       "    </tr>\n",
       "    <tr>\n",
       "      <td>4147</td>\n",
       "      <td>0</td>\n",
       "      <td>-3549.117333</td>\n",
       "      <td>0</td>\n",
       "      <td>среднее</td>\n",
       "      <td>1</td>\n",
       "      <td>в разводе</td>\n",
       "      <td>3</td>\n",
       "      <td>M</td>\n",
       "      <td>сотрудник</td>\n",
       "      <td>0</td>\n",
       "      <td>108130.933212</td>\n",
       "      <td>покупка жилой недвижимости</td>\n",
       "    </tr>\n",
       "  </tbody>\n",
       "</table>\n",
       "</div>"
      ],
      "text/plain": [
       "       children  days_employed  dob_years            education  education_id  \\\n",
       "6859          1    -260.992722          0  неоконченное высшее             2   \n",
       "16042         2    -176.404487          0              среднее             1   \n",
       "7034          0  366067.781030          0               высшее             0   \n",
       "21179         2    -108.967042          0               высшее             0   \n",
       "4147          0   -3549.117333          0              среднее             1   \n",
       "\n",
       "               family_status  family_status_id gender income_type  debt  \\\n",
       "6859        гражданский брак                 1      F   сотрудник     0   \n",
       "16042        женат / замужем                 0      F   сотрудник     0   \n",
       "7034   Не женат / не замужем                 4      F   пенсионер     0   \n",
       "21179        женат / замужем                 0      M   компаньон     0   \n",
       "4147               в разводе                 3      M   сотрудник     0   \n",
       "\n",
       "        total_income                           purpose  \n",
       "6859   128246.646591              покупка недвижимости  \n",
       "16042  137563.630693                             жилье  \n",
       "7034   263121.074528                       образование  \n",
       "21179  240702.007382  строительство жилой недвижимости  \n",
       "4147   108130.933212        покупка жилой недвижимости  "
      ]
     },
     "execution_count": 435,
     "metadata": {},
     "output_type": "execute_result"
    }
   ],
   "source": [
    "df.sort_values(by = 'dob_years', ascending = True).head()"
   ]
  },
  {
   "cell_type": "markdown",
   "metadata": {},
   "source": [
    "**Вывод**"
   ]
  },
  {
   "cell_type": "markdown",
   "metadata": {},
   "source": [
    "Обраружены пропуски в столбцах со стажем и доходом.\n",
    "В стобцах с катагориальными значениями без аналогов с идентификационными номерами может понадобиться я убрать неявные дубликаты.\n",
    "\n",
    "Попадаются отрицательные стажи, попадаются стажи более тысячи лет. Число дней в стаже дробное. Скорее всего, стаж был подсчитан как разность дат (это объясняет отрицательные значения) в секундах и переведён в дни.\n",
    "\n",
    "Попадаются люди с нулевым возрастом."
   ]
  },
  {
   "cell_type": "markdown",
   "metadata": {},
   "source": [
    "## Шаг 2. Предобработка данных"
   ]
  },
  {
   "cell_type": "markdown",
   "metadata": {},
   "source": [
    "### Обработка пропусков"
   ]
  },
  {
   "cell_type": "code",
   "execution_count": 436,
   "metadata": {},
   "outputs": [
    {
     "data": {
      "text/plain": [
       "children               0\n",
       "days_employed       2174\n",
       "dob_years              0\n",
       "education              0\n",
       "education_id           0\n",
       "family_status          0\n",
       "family_status_id       0\n",
       "gender                 0\n",
       "income_type            0\n",
       "debt                   0\n",
       "total_income        2174\n",
       "purpose                0\n",
       "dtype: int64"
      ]
     },
     "execution_count": 436,
     "metadata": {},
     "output_type": "execute_result"
    }
   ],
   "source": [
    "df.isnull().sum()"
   ]
  },
  {
   "cell_type": "markdown",
   "metadata": {},
   "source": [
    "Гипотеза: пропуски в столбцах days_employed и total_income находятся в одних и тех же строках."
   ]
  },
  {
   "cell_type": "code",
   "execution_count": 437,
   "metadata": {},
   "outputs": [
    {
     "data": {
      "text/plain": [
       "True"
      ]
     },
     "execution_count": 437,
     "metadata": {},
     "output_type": "execute_result"
    }
   ],
   "source": [
    "df[df['days_employed'].isnull()].equals(df[df['total_income'].isnull()])"
   ]
  },
  {
   "cell_type": "markdown",
   "metadata": {},
   "source": [
    "**Вывод**"
   ]
  },
  {
   "cell_type": "markdown",
   "metadata": {},
   "source": [
    "Гипотеза подтведилась. Поскольку отсутсвуют сразу оба значения у тех же людей, скорее всего они работали неофициально на серую зарплату, либо не работали вообще.\n",
    "\n",
    "Поскольку стаж не известен, точнее всего будет взять медианный доход, сгруппировав категории по образованию и возрасту.\n",
    "В настоящем проекте я бы не стал такого делать, но задание требует объяснение для заполнения пропусков, то есть их надо заполнить.\n",
    "\n",
    "Сгруппируем людей по образованию, возрасту и посмотрим на их медианный доход. Учитываем даже строки с нулевым возрастом.\n",
    "Для корректного заполнения пустых ячеек явные будубликаты требуется убрать уже сейчас.\n"
   ]
  },
  {
   "cell_type": "code",
   "execution_count": 438,
   "metadata": {},
   "outputs": [],
   "source": [
    "df.drop_duplicates(inplace = True)\n",
    "df_income = df.groupby(['education_id','dob_years'])['total_income'].median()"
   ]
  },
  {
   "cell_type": "markdown",
   "metadata": {},
   "source": [
    "Поскольку в серии нет всех возможных возрастов, словарём не обойтись, и для заполнения недостающих значений придётся написать функцию."
   ]
  },
  {
   "cell_type": "code",
   "execution_count": 439,
   "metadata": {},
   "outputs": [],
   "source": [
    "ed_age_to_income_dict = df_income.to_dict()\n",
    "#для функции необходимо знать минимальные возраста для каждой категории\n",
    "min_ages_dict = df.groupby('education_id')['dob_years'].min().to_dict()\n",
    "\n",
    "def ed_age_to_income_func(row):\n",
    "    age = row.dob_years\n",
    "    ed = row.education_id\n",
    "    \n",
    "    #для людей младше минимума в выборке ставим минимальный возраст в выборке\n",
    "    if age < min_ages_dict[ed] and age > 0:\n",
    "        age = min_ages_dict[ed] \n",
    "    \n",
    "    #если значения возраста нет в выборке, берём его из предыдушего\n",
    "    dict_keys = ed_age_to_income_dict.keys()\n",
    "    while (ed, age) not in dict_keys:\n",
    "        age -= 1\n",
    "   \n",
    "    return ed_age_to_income_dict[ed, age]"
   ]
  },
  {
   "cell_type": "code",
   "execution_count": 440,
   "metadata": {},
   "outputs": [],
   "source": [
    "df['total_income'] = df.apply(lambda x: ed_age_to_income_func(x) if pd.isnull(x.total_income) else x.total_income, axis=1)"
   ]
  },
  {
   "cell_type": "markdown",
   "metadata": {},
   "source": [
    "Заполним пропуски в колонке со стажем медианными значениями по возрастам. Используем тот же принцип, что и с доходом, но без учёта образования.\n",
    "Однако, многие значения стажа отрицательны, очевидно, при их нахождении разностью уменьшаемое и вычитаемое менялось местами. Придётся привести их к модулю уже на этом этапе."
   ]
  },
  {
   "cell_type": "code",
   "execution_count": 441,
   "metadata": {},
   "outputs": [],
   "source": [
    "df['days_employed'] = df['days_employed'].abs()\n",
    "\n",
    "df_days_employed = df.groupby('dob_years')['days_employed'].median()\n",
    "\n",
    "age_to_days_employed_dict = df_days_employed.to_dict()\n",
    "#для функции необходимо знать минимальный возраст в выборке\n",
    "min_age = df['dob_years'][df['dob_years'] != 0].min()\n",
    "\n",
    "def ed_age_to_days_employed_func(row):\n",
    "    age = row.dob_years\n",
    " \n",
    "    #для людей младше минимума в выборке ставим минимальный возраст в выборке\n",
    "    if age < min_age and age > 0:\n",
    "        age = min_age \n",
    "    \n",
    "    dict_keys = age_to_days_employed_dict.keys()\n",
    "    while age not in dict_keys:\n",
    "        age -= 1\n",
    "    \n",
    "    return age_to_days_employed_dict[age]\n"
   ]
  },
  {
   "cell_type": "code",
   "execution_count": 442,
   "metadata": {},
   "outputs": [
    {
     "name": "stdout",
     "output_type": "stream",
     "text": [
      "<class 'pandas.core.frame.DataFrame'>\n",
      "Int64Index: 21471 entries, 0 to 21524\n",
      "Data columns (total 12 columns):\n",
      "children            21471 non-null int64\n",
      "days_employed       21471 non-null float64\n",
      "dob_years           21471 non-null int64\n",
      "education           21471 non-null object\n",
      "education_id        21471 non-null int64\n",
      "family_status       21471 non-null object\n",
      "family_status_id    21471 non-null int64\n",
      "gender              21471 non-null object\n",
      "income_type         21471 non-null object\n",
      "debt                21471 non-null int64\n",
      "total_income        21471 non-null float64\n",
      "purpose             21471 non-null object\n",
      "dtypes: float64(2), int64(5), object(5)\n",
      "memory usage: 2.1+ MB\n"
     ]
    }
   ],
   "source": [
    "df['days_employed'] = df.apply(lambda x: ed_age_to_days_employed_func(x) if pd.isnull(x.days_employed) else x.days_employed, axis=1)\n",
    "df.info()"
   ]
  },
  {
   "cell_type": "markdown",
   "metadata": {},
   "source": [
    "Все пропуски заменены на медианные значения категорий."
   ]
  },
  {
   "cell_type": "markdown",
   "metadata": {},
   "source": [
    "### Замена типа данных"
   ]
  },
  {
   "cell_type": "markdown",
   "metadata": {},
   "source": [
    "В таблице нет данных формата object, поэтому заменим тип float на integer в стобцах с доходом и стажем. Точность после запятой для них не нужна, а там данных int занимает меньше места и будет быстрее обрабатываться."
   ]
  },
  {
   "cell_type": "code",
   "execution_count": 443,
   "metadata": {},
   "outputs": [],
   "source": [
    "df['days_employed'] = df['days_employed'].astype(int)\n",
    "df['total_income'] = df['total_income'].astype(int)"
   ]
  },
  {
   "cell_type": "markdown",
   "metadata": {},
   "source": [
    "**Вывод**"
   ]
  },
  {
   "cell_type": "markdown",
   "metadata": {},
   "source": [
    "Поскольку преобразовывали числа в числа, был пременён метод astype().\n",
    "Теперь таблица будет легче, а операции над ней будут производиться быстрее."
   ]
  },
  {
   "cell_type": "markdown",
   "metadata": {},
   "source": [
    "### Обработка дубликатов"
   ]
  },
  {
   "cell_type": "markdown",
   "metadata": {},
   "source": [
    "Явные дубликаты были убраны во время заполнения пустых ячеек.\n",
    "Посмотрим список значений у каждой колонки с категориальными данными:"
   ]
  },
  {
   "cell_type": "code",
   "execution_count": 444,
   "metadata": {},
   "outputs": [
    {
     "name": "stdout",
     "output_type": "stream",
     "text": [
      "среднее                13705\n",
      "высшее                  4710\n",
      "СРЕДНЕЕ                  772\n",
      "Среднее                  711\n",
      "неоконченное высшее      668\n",
      "ВЫСШЕЕ                   273\n",
      "Высшее                   268\n",
      "начальное                250\n",
      "Неоконченное высшее       47\n",
      "НЕОКОНЧЕННОЕ ВЫСШЕЕ       29\n",
      "НАЧАЛЬНОЕ                 17\n",
      "Начальное                 15\n",
      "ученая степень             4\n",
      "Ученая степень             1\n",
      "УЧЕНАЯ СТЕПЕНЬ             1\n",
      "Name: education, dtype: int64\n",
      "\n",
      "женат / замужем          12344\n",
      "гражданский брак          4163\n",
      "Не женат / не замужем     2810\n",
      "в разводе                 1195\n",
      "вдовец / вдова             959\n",
      "Name: family_status, dtype: int64\n",
      "\n",
      "F      14189\n",
      "M       7281\n",
      "XNA        1\n",
      "Name: gender, dtype: int64\n",
      "\n",
      "сотрудник          11091\n",
      "компаньон           5080\n",
      "пенсионер           3837\n",
      "госслужащий         1457\n",
      "безработный            2\n",
      "предприниматель        2\n",
      "в декрете              1\n",
      "студент                1\n",
      "Name: income_type, dtype: int64\n",
      "\n",
      "свадьба                                   793\n",
      "на проведение свадьбы                     773\n",
      "сыграть свадьбу                           769\n",
      "операции с недвижимостью                  675\n",
      "покупка коммерческой недвижимости         662\n",
      "покупка жилья для сдачи                   652\n",
      "операции с жильем                         652\n",
      "операции с коммерческой недвижимостью     650\n",
      "жилье                                     646\n",
      "покупка жилья                             646\n",
      "покупка жилья для семьи                   638\n",
      "строительство собственной недвижимости    635\n",
      "недвижимость                              633\n",
      "операции со своей недвижимостью           627\n",
      "строительство жилой недвижимости          625\n",
      "покупка недвижимости                      621\n",
      "покупка своего жилья                      620\n",
      "строительство недвижимости                619\n",
      "ремонт жилью                              607\n",
      "покупка жилой недвижимости                606\n",
      "на покупку своего автомобиля              505\n",
      "заняться высшим образованием              496\n",
      "автомобиль                                494\n",
      "сделка с подержанным автомобилем          486\n",
      "свой автомобиль                           479\n",
      "на покупку подержанного автомобиля        478\n",
      "автомобили                                478\n",
      "на покупку автомобиля                     472\n",
      "приобретение автомобиля                   461\n",
      "дополнительное образование                460\n",
      "сделка с автомобилем                      455\n",
      "высшее образование                        452\n",
      "образование                               447\n",
      "получение дополнительного образования     447\n",
      "получение образования                     442\n",
      "профильное образование                    436\n",
      "получение высшего образования             426\n",
      "заняться образованием                     408\n",
      "Name: purpose, dtype: int64\n",
      "\n"
     ]
    }
   ],
   "source": [
    "category_list = ['education','family_status','gender','income_type','purpose']\n",
    "for category in category_list:\n",
    "    print(df[category].value_counts())\n",
    "    print()"
   ]
  },
  {
   "cell_type": "markdown",
   "metadata": {},
   "source": [
    "**Вывод**"
   ]
  },
  {
   "cell_type": "markdown",
   "metadata": {},
   "source": [
    "В стобец с образованием данные заносились с разным региством, а столбец целей — просто со слов клиента\n",
    "Неявные дубликаты в столбце образования можно убрать обычной функцией lower(), а для целей уже требуется лемматизация.\n"
   ]
  },
  {
   "cell_type": "code",
   "execution_count": 445,
   "metadata": {},
   "outputs": [
    {
     "data": {
      "text/plain": [
       "среднее                15188\n",
       "высшее                  5251\n",
       "неоконченное высшее      744\n",
       "начальное                282\n",
       "ученая степень             6\n",
       "Name: education, dtype: int64"
      ]
     },
     "execution_count": 445,
     "metadata": {},
     "output_type": "execute_result"
    }
   ],
   "source": [
    "df['education'] = df['education'].apply(lambda x: x.lower()) \n",
    "df['education'].value_counts()"
   ]
  },
  {
   "cell_type": "markdown",
   "metadata": {},
   "source": [
    "### Лемматизация"
   ]
  },
  {
   "cell_type": "code",
   "execution_count": 446,
   "metadata": {},
   "outputs": [
    {
     "data": {
      "text/plain": [
       "[автомобиль, \\n]                                          972\n",
       "[свадьба, \\n]                                             793\n",
       "[на,  , проведение,  , свадьба, \\n]                       773\n",
       "[сыграть,  , свадьба, \\n]                                 769\n",
       "[операция,  , с,  , недвижимость, \\n]                     675\n",
       "[покупка,  , коммерческий,  , недвижимость, \\n]           662\n",
       "[операция,  , с,  , жилье, \\n]                            652\n",
       "[покупка,  , жилье,  , для,  , сдача, \\n]                 652\n",
       "[операция,  , с,  , коммерческий,  , недвижимость, \\n]    650\n",
       "[покупка,  , жилье, \\n]                                   646\n",
       "[жилье, \\n]                                               646\n",
       "[покупка,  , жилье,  , для,  , семья, \\n]                 638\n",
       "[строительство,  , собственный,  , недвижимость, \\n]      635\n",
       "[недвижимость, \\n]                                        633\n",
       "[операция,  , со,  , свой,  , недвижимость, \\n]           627\n",
       "[строительство,  , жилой,  , недвижимость, \\n]            625\n",
       "[покупка,  , недвижимость, \\n]                            621\n",
       "[покупка,  , свой,  , жилье, \\n]                          620\n",
       "[строительство,  , недвижимость, \\n]                      619\n",
       "[ремонт,  , жилье, \\n]                                    607\n",
       "[покупка,  , жилой,  , недвижимость, \\n]                  606\n",
       "[на,  , покупка,  , свой,  , автомобиль, \\n]              505\n",
       "[заниматься,  , высокий,  , образование, \\n]              496\n",
       "[сделка,  , с,  , подержанный,  , автомобиль, \\n]         486\n",
       "[свой,  , автомобиль, \\n]                                 479\n",
       "[на,  , покупка,  , подержать,  , автомобиль, \\n]         478\n",
       "[на,  , покупка,  , автомобиль, \\n]                       472\n",
       "[приобретение,  , автомобиль, \\n]                         461\n",
       "[дополнительный,  , образование, \\n]                      460\n",
       "[сделка,  , с,  , автомобиль, \\n]                         455\n",
       "[высокий,  , образование, \\n]                             452\n",
       "[получение,  , дополнительный,  , образование, \\n]        447\n",
       "[образование, \\n]                                         447\n",
       "[получение,  , образование, \\n]                           442\n",
       "[профильный,  , образование, \\n]                          436\n",
       "[получение,  , высокий,  , образование, \\n]               426\n",
       "[заниматься,  , образование, \\n]                          408\n",
       "Name: purpose, dtype: int64"
      ]
     },
     "execution_count": 446,
     "metadata": {},
     "output_type": "execute_result"
    }
   ],
   "source": [
    "from pymystem3 import Mystem \n",
    "m = Mystem() \n",
    "\n",
    "df['purpose'] = df['purpose'].apply(lambda x: m.lemmatize(x))\n",
    "df['purpose'].value_counts()"
   ]
  },
  {
   "cell_type": "markdown",
   "metadata": {},
   "source": [
    "**Вывод**"
   ]
  },
  {
   "cell_type": "markdown",
   "metadata": {},
   "source": [
    "Лемматизация произведена с помощью библиотеки pymystem3, потому что на русском языке начальную форму слова куда проще воспринимать, чем корень."
   ]
  },
  {
   "cell_type": "markdown",
   "metadata": {},
   "source": [
    "### Категоризация данных"
   ]
  },
  {
   "cell_type": "markdown",
   "metadata": {},
   "source": [
    "Разделим получившиеся данные на категории:\n",
    "\n",
    "1. Жилье.\n",
    "Сюда можно отнести как покупку жилья, так и затраты на его строительства, потому что по сути это то же самое.\n",
    "\n",
    "2. Автомобиль.\n",
    "Определённо речь всегда идёт о покупке.\n",
    "\n",
    "3. Свадьба.\n",
    "Без комментариев.\n",
    "\n",
    "4. Нежилая недвижимость.\n",
    "По закону идёт строгое разделение недвижимости на жилую и нежилую. Если указывается просто \"недвижимость\", значит она не относится к жилью.\n",
    "\n",
    "5. Коммерческая недвижимость.\n",
    "При выдаче кредита всегда указыается цель, и если целью является коммерческое использование, это должно быть указано.\n",
    "Сюда же отнесеры операции с ней. Вряд ли кредит берут на что-то, кроме покупки.\n",
    "\n",
    "6. Образование.\n",
    "Расходы на образование.\n",
    "\n",
    "7. Ремонт жилья.\n",
    "Без комментариев.\n",
    "\n",
    "Для категоризации требуется написать функцию."
   ]
  },
  {
   "cell_type": "code",
   "execution_count": 447,
   "metadata": {},
   "outputs": [
    {
     "data": {
      "text/plain": [
       "покупка жилья                5085\n",
       "автомобиль                   4308\n",
       "образование                  4014\n",
       "нежилая недвижимость         3810\n",
       "свадьба                      2335\n",
       "коммерческая недвижимость    1312\n",
       "ремонт жилья                  607\n",
       "Name: purpose, dtype: int64"
      ]
     },
     "execution_count": 447,
     "metadata": {},
     "output_type": "execute_result"
    }
   ],
   "source": [
    "def categorize_goals(goal):\n",
    "    \n",
    "    #жилая недвижимость\n",
    "    if 'жилье' in goal or 'жилой' in goal:\n",
    "        if 'ремонт' in goal:\n",
    "            return 'ремонт жилья'\n",
    "        return 'покупка жилья'\n",
    "    \n",
    "    #автомобиль\n",
    "    if 'автомобиль' in goal:\n",
    "        return 'автомобиль'\n",
    "        \n",
    "    #иная недвижимость\n",
    "    if 'недвижимость' in goal:\n",
    "        if 'коммерческий' in goal:\n",
    "            return 'коммерческая недвижимость'\n",
    "        return 'нежилая недвижимость'\n",
    "    \n",
    "    #свадьба\n",
    "    if 'свадьба' in goal:\n",
    "        return 'свадьба'\n",
    "    \n",
    "    #образование\n",
    "    if 'образование' in goal:\n",
    "        return 'образование'\n",
    "    \n",
    "    else:\n",
    "        return goal\n",
    "    \n",
    "    \n",
    "df['purpose'] = df['purpose'].apply(categorize_goals)\n",
    "df['purpose'].value_counts()"
   ]
  },
  {
   "cell_type": "markdown",
   "metadata": {},
   "source": [
    "Категоризируем людей по уровню дохода.\n",
    "Для выделения категорий нужно знать максимум и минимум."
   ]
  },
  {
   "cell_type": "code",
   "execution_count": 448,
   "metadata": {},
   "outputs": [
    {
     "name": "stdout",
     "output_type": "stream",
     "text": [
      "2265604 20667\n"
     ]
    }
   ],
   "source": [
    "print(df['total_income'].max(),df['total_income'].min())"
   ]
  },
  {
   "cell_type": "markdown",
   "metadata": {},
   "source": [
    "Выделим категории по доходу в тысячах рублях:\n",
    "1. до 30\n",
    "2. 30-60\n",
    "3. 60-120\n",
    "4. 120-250\n",
    "5. 250-500\n",
    "6. 500-1000\n",
    "7. более 1000"
   ]
  },
  {
   "cell_type": "code",
   "execution_count": 449,
   "metadata": {},
   "outputs": [
    {
     "data": {
      "text/plain": [
       "4. 120-250К       11640\n",
       "3. 60-120К         6211\n",
       "5. 250-500К        2592\n",
       "2. 30-60К           784\n",
       "6. 500-1000К        197\n",
       "7. более 1000К       25\n",
       "1. до 30К            22\n",
       "Name: income_categorized, dtype: int64"
      ]
     },
     "execution_count": 449,
     "metadata": {},
     "output_type": "execute_result"
    }
   ],
   "source": [
    "def categorize_income(income):\n",
    "    \n",
    "    if income < 30000:\n",
    "        return '1. до 30К'\n",
    "    \n",
    "    if income <= 60000:\n",
    "        return '2. 30-60К'\n",
    "\n",
    "    if income <= 120000:\n",
    "        return '3. 60-120К'\n",
    "    \n",
    "    if income <= 250000:\n",
    "        return '4. 120-250К'\n",
    "    \n",
    "    if income <= 500000:\n",
    "        return '5. 250-500К'\n",
    "    \n",
    "    if income <= 1000000:\n",
    "        return '6. 500-1000К'\n",
    "    \n",
    "    else:\n",
    "        return '7. более 1000К'\n",
    "    \n",
    "df['income_categorized'] = df['total_income'].apply(categorize_income)\n",
    "df['income_categorized'].value_counts()"
   ]
  },
  {
   "cell_type": "markdown",
   "metadata": {},
   "source": [
    "**Вывод**"
   ]
  },
  {
   "cell_type": "markdown",
   "metadata": {},
   "source": [
    "Данные успешно категоризированные и готовы к анализу.\n",
    "\n",
    "В данных присутствуют артефакты, такие как тысячилетние стажи у пенсионеров и нулевой возраст у некоторых людей. Первые появились, скорее всего из-за неправильной обработки данных пенсионеров, а вторые в результате отсутствия возраста у какой-то категории.\n",
    "\n",
    "Функция подсчёта медианной заработной платы можно считать применимой к группе с нулевым возрастом, так как, скорее всего, они из одного источника и имеют между собой что-то общее.\n",
    "Отрицательный стаж был исправлен перед прим\n",
    "Исправлять остальные артефакты не имеет смылса, так как при исследовании они не будут использоваться.\n",
    "\n",
    "Отрицательное количество детей, скорее всего, было получено из-за ошибочного учёта дефиса как минуса."
   ]
  },
  {
   "cell_type": "markdown",
   "metadata": {},
   "source": [
    "## Шаг 3. Ответьте на вопросы"
   ]
  },
  {
   "cell_type": "markdown",
   "metadata": {},
   "source": [
    "- Есть ли зависимость между наличием детей и возвратом кредита в срок?\n",
    "\n",
    "Избавляемся от отрицательных значений в количестве детей и смотрим зависимости среднего значения просрочки по их количеству."
   ]
  },
  {
   "cell_type": "code",
   "execution_count": 450,
   "metadata": {},
   "outputs": [
    {
     "name": "stdout",
     "output_type": "stream",
     "text": [
      "доля людей с долгом\n",
      " children\n",
      "0     0.075353\n",
      "1     0.091639\n",
      "2     0.094542\n",
      "3     0.081818\n",
      "4     0.097561\n",
      "5     0.000000\n",
      "20    0.105263\n",
      "Name: debt, dtype: float64\n",
      "\n",
      "количество людей в выборке\n",
      " children\n",
      "0     14107\n",
      "1      4856\n",
      "2      2052\n",
      "3       330\n",
      "4        41\n",
      "5         9\n",
      "20       76\n",
      "Name: debt, dtype: int64\n"
     ]
    },
    {
     "data": {
      "text/plain": [
       "<matplotlib.axes._subplots.AxesSubplot at 0x7f44bba0f310>"
      ]
     },
     "execution_count": 450,
     "metadata": {},
     "output_type": "execute_result"
    },
    {
     "data": {
      "image/png": "[encoded data removed]",
      "text/plain": [
       "<Figure size 432x288 with 1 Axes>"
      ]
     },
     "metadata": {
      "needs_background": "light"
     },
     "output_type": "display_data"
    }
   ],
   "source": [
    "import seaborn as sns\n",
    "df['children'] = df['children'].abs()\n",
    "child_debt = df.sort_values('children').groupby('children')['debt'].mean()\n",
    "\n",
    "print('доля людей с долгом\\n',child_debt)\n",
    "print('\\nколичество людей в выборке\\n',df.sort_values('children').groupby('children')['debt'].count())\n",
    "\n",
    "sns.barplot(data = child_debt.reset_index(), x='children', y='debt')"
   ]
  },
  {
   "cell_type": "markdown",
   "metadata": {},
   "source": [
    "**Вывод**"
   ]
  },
  {
   "cell_type": "markdown",
   "metadata": {},
   "source": [
    "Прослеживается явная положительная зависимость между количеством детей и наличием просроченнх долгов в категории от 0 до 2 детей.\n",
    "Выборки с большим количеством детей сложно назвать репрезентативными из-за малого размера.\n",
    "Значения с 20 детьми, скорее всего, являются неконнектными."
   ]
  },
  {
   "cell_type": "markdown",
   "metadata": {},
   "source": [
    "- Есть ли зависимость между семейным положением и возвратом кредита в срок?\n",
    "\n",
    "Рассмотрим долю должников по категориям семейного положения."
   ]
  },
  {
   "cell_type": "code",
   "execution_count": 457,
   "metadata": {},
   "outputs": [
    {
     "name": "stdout",
     "output_type": "stream",
     "text": [
      "           family_status      debt\n",
      "0  Не женат / не замужем  0.097509\n",
      "1              в разводе  0.071130\n",
      "2         вдовец / вдова  0.065693\n",
      "3       гражданский брак  0.093202\n",
      "4        женат / замужем  0.075421\n"
     ]
    },
    {
     "data": {
      "text/plain": [
       "[Text(0, 0, 'Не женат / не замужем'),\n",
       " Text(0, 0, 'в разводе'),\n",
       " Text(0, 0, 'вдовец / вдова'),\n",
       " Text(0, 0, 'гражданский брак'),\n",
       " Text(0, 0, 'женат / замужем')]"
      ]
     },
     "execution_count": 457,
     "metadata": {},
     "output_type": "execute_result"
    },
    {
     "data": {
      "image/png": "[encoded data removed]",
      "text/plain": [
       "<Figure size 432x288 with 1 Axes>"
      ]
     },
     "metadata": {
      "needs_background": "light"
     },
     "output_type": "display_data"
    }
   ],
   "source": [
    "married_debt = df.sort_values('family_status').groupby('family_status')['debt'].mean().reset_index()\n",
    "print(married_debt)\n",
    "\n",
    "plot = sns.barplot(data = married_debt, x='family_status', y='debt')\n",
    "\n",
    "plot.set_xticklabels(plot.get_xticklabels(), rotation=90)"
   ]
  },
  {
   "cell_type": "markdown",
   "metadata": {},
   "source": [
    "**Вывод**"
   ]
  },
  {
   "cell_type": "markdown",
   "metadata": {},
   "source": [
    "Группы наибольшего риска - холостые/незамужние и люди, живущие в гражданском браке.\n",
    "Наименьший риск у разведённых и вдов/вдовцов."
   ]
  },
  {
   "cell_type": "markdown",
   "metadata": {},
   "source": [
    "- Есть ли зависимость между уровнем дохода и возвратом кредита в срок?\n",
    "\n",
    "Рассмотрим долю людей с просроченными кредитами в каждой категории."
   ]
  },
  {
   "cell_type": "code",
   "execution_count": 460,
   "metadata": {},
   "outputs": [
    {
     "name": "stdout",
     "output_type": "stream",
     "text": [
      "  income_categorized      debt\n",
      "0          1. до 30К  0.090909\n",
      "1          2. 30-60К  0.059949\n",
      "2         3. 60-120К  0.083400\n",
      "3        4. 120-250К  0.084192\n",
      "4        5. 250-500К  0.069444\n",
      "5       6. 500-1000К  0.060914\n",
      "6     7. более 1000К  0.080000\n"
     ]
    },
    {
     "data": {
      "text/plain": [
       "[Text(0, 0, '1. до 30К'),\n",
       " Text(0, 0, '2. 30-60К'),\n",
       " Text(0, 0, '3. 60-120К'),\n",
       " Text(0, 0, '4. 120-250К'),\n",
       " Text(0, 0, '5. 250-500К'),\n",
       " Text(0, 0, '6. 500-1000К'),\n",
       " Text(0, 0, '7. более 1000К')]"
      ]
     },
     "execution_count": 460,
     "metadata": {},
     "output_type": "execute_result"
    },
    {
     "data": {
      "image/png": "[encoded data removed]",
      "text/plain": [
       "<Figure size 432x288 with 1 Axes>"
      ]
     },
     "metadata": {
      "needs_background": "light"
     },
     "output_type": "display_data"
    }
   ],
   "source": [
    "income_debt = df.groupby('income_categorized')['debt'].mean().reset_index()\n",
    "print(income_debt)\n",
    "\n",
    "plot2 = sns.barplot(data = income_debt, x='income_categorized', y='debt')\n",
    "\n",
    "plot2.set_xticklabels(plot2.get_xticklabels(), rotation=90)"
   ]
  },
  {
   "cell_type": "markdown",
   "metadata": {},
   "source": [
    "**Вывод**"
   ]
  },
  {
   "cell_type": "markdown",
   "metadata": {},
   "source": [
    "Зависимости не обранужено."
   ]
  },
  {
   "cell_type": "markdown",
   "metadata": {},
   "source": [
    "- Как разные цели кредита влияют на его возврат в срок?\n",
    "\n",
    "Посмотрим долю просроченных кредитов по категориям целей:"
   ]
  },
  {
   "cell_type": "code",
   "execution_count": 461,
   "metadata": {},
   "outputs": [
    {
     "name": "stdout",
     "output_type": "stream",
     "text": [
      "                     purpose      debt\n",
      "0                 автомобиль  0.093547\n",
      "1  коммерческая недвижимость  0.075457\n",
      "2       нежилая недвижимость  0.075066\n",
      "3                образование  0.092177\n",
      "4              покупка жилья  0.071190\n",
      "5               ремонт жилья  0.057661\n",
      "6                    свадьба  0.079657\n"
     ]
    },
    {
     "data": {
      "text/plain": [
       "[Text(0, 0, '1. до 30К'),\n",
       " Text(0, 0, '2. 30-60К'),\n",
       " Text(0, 0, '3. 60-120К'),\n",
       " Text(0, 0, '4. 120-250К'),\n",
       " Text(0, 0, '5. 250-500К'),\n",
       " Text(0, 0, '6. 500-1000К'),\n",
       " Text(0, 0, '7. более 1000К')]"
      ]
     },
     "execution_count": 461,
     "metadata": {},
     "output_type": "execute_result"
    },
    {
     "data": {
      "image/png": "[encoded data removed]",
      "text/plain": [
       "<Figure size 432x288 with 1 Axes>"
      ]
     },
     "metadata": {
      "needs_background": "light"
     },
     "output_type": "display_data"
    }
   ],
   "source": [
    "goal_debt = df.groupby('purpose')['debt'].mean().reset_index()\n",
    "print(goal_debt)\n",
    "plot3 = sns.barplot(data = income_debt, x='income_categorized', y='debt')\n",
    "\n",
    "plot3.set_xticklabels(plot3.get_xticklabels(), rotation=90)"
   ]
  },
  {
   "cell_type": "markdown",
   "metadata": {},
   "source": [
    "**Вывод**"
   ]
  },
  {
   "cell_type": "markdown",
   "metadata": {},
   "source": [
    "Зависимость отсутсвует."
   ]
  },
  {
   "cell_type": "markdown",
   "metadata": {},
   "source": [
    "## Шаг 4. Общий вывод"
   ]
  },
  {
   "cell_type": "markdown",
   "metadata": {},
   "source": [
    "Зависимости от уровня дохода не обнаружно.\n",
    "Очень вероятно, что количество детей прямо пропорционально доле должников. Доля людей с количеством детей более двух — минимальна. Возможно, это связано с расходами.\n",
    "Судя по распределению должников по категориям семейного положения, должна обнаружиться сильная отрицательная корреляция между количеством должников и их возрастом. Для этого требуеются дополнительные исследования."
   ]
  }
 ],
 "metadata": {
  "ExecuteTimeLog": [
   {
    "duration": 816,
    "start_time": "2021-11-27T13:00:47.637Z"
   },
   {
    "duration": 94,
    "start_time": "2021-11-27T13:02:51.205Z"
   },
   {
    "duration": 87,
    "start_time": "2021-11-27T13:03:17.218Z"
   },
   {
    "duration": 29,
    "start_time": "2021-11-27T13:08:18.675Z"
   },
   {
    "duration": 13,
    "start_time": "2021-11-27T13:08:31.628Z"
   },
   {
    "duration": 12,
    "start_time": "2021-11-27T13:08:44.099Z"
   },
   {
    "duration": 468,
    "start_time": "2021-11-27T13:16:33.502Z"
   },
   {
    "duration": 359,
    "start_time": "2021-11-27T13:16:53.676Z"
   },
   {
    "duration": 383,
    "start_time": "2021-11-27T13:17:05.661Z"
   },
   {
    "duration": 114,
    "start_time": "2021-11-27T13:17:27.997Z"
   },
   {
    "duration": 372,
    "start_time": "2021-11-27T13:20:50.176Z"
   },
   {
    "duration": 121,
    "start_time": "2021-11-27T13:20:57.615Z"
   },
   {
    "duration": 152,
    "start_time": "2021-11-27T13:25:15.081Z"
   },
   {
    "duration": 90,
    "start_time": "2021-11-27T13:28:42.770Z"
   },
   {
    "duration": 96,
    "start_time": "2021-11-27T13:29:14.562Z"
   },
   {
    "duration": 74,
    "start_time": "2021-11-27T13:29:54.281Z"
   },
   {
    "duration": 25,
    "start_time": "2021-11-27T13:30:13.177Z"
   },
   {
    "duration": 12,
    "start_time": "2021-11-27T13:44:11.505Z"
   },
   {
    "duration": 54,
    "start_time": "2021-11-27T13:45:00.526Z"
   },
   {
    "duration": 32,
    "start_time": "2021-11-27T13:45:56.799Z"
   },
   {
    "duration": 86,
    "start_time": "2021-11-27T13:47:44.887Z"
   },
   {
    "duration": 80,
    "start_time": "2021-11-27T13:47:50.734Z"
   },
   {
    "duration": 36,
    "start_time": "2021-11-27T13:47:59.390Z"
   },
   {
    "duration": 366,
    "start_time": "2021-11-27T13:48:55.344Z"
   },
   {
    "duration": 85,
    "start_time": "2021-11-27T13:51:40.377Z"
   },
   {
    "duration": 12,
    "start_time": "2021-11-27T13:51:51.095Z"
   },
   {
    "duration": 10,
    "start_time": "2021-11-27T13:55:18.309Z"
   },
   {
    "duration": 124,
    "start_time": "2021-11-27T14:23:55.864Z"
   },
   {
    "duration": 248,
    "start_time": "2021-11-27T14:37:56.531Z"
   },
   {
    "duration": 289,
    "start_time": "2021-11-27T14:38:34.787Z"
   },
   {
    "duration": 22,
    "start_time": "2021-11-27T14:38:56.844Z"
   },
   {
    "duration": 349,
    "start_time": "2021-11-27T14:48:11.582Z"
   },
   {
    "duration": 82,
    "start_time": "2021-11-27T14:48:26.366Z"
   },
   {
    "duration": 272,
    "start_time": "2021-11-27T14:48:35.622Z"
   },
   {
    "duration": 7,
    "start_time": "2021-11-27T14:48:48.262Z"
   },
   {
    "duration": 17,
    "start_time": "2021-11-27T14:48:58.231Z"
   },
   {
    "duration": 10,
    "start_time": "2021-11-27T14:50:11.207Z"
   },
   {
    "duration": 91,
    "start_time": "2021-11-27T14:50:30.135Z"
   },
   {
    "duration": 34,
    "start_time": "2021-11-27T14:50:33.998Z"
   },
   {
    "duration": -16,
    "start_time": "2021-11-27T14:51:18.454Z"
   },
   {
    "duration": 14,
    "start_time": "2021-11-27T14:51:27.143Z"
   },
   {
    "duration": 26,
    "start_time": "2021-11-27T14:54:20.720Z"
   },
   {
    "duration": 22,
    "start_time": "2021-11-27T14:54:30.072Z"
   },
   {
    "duration": 17,
    "start_time": "2021-11-27T15:04:02.723Z"
   },
   {
    "duration": 6351,
    "start_time": "2021-11-27T15:05:59.459Z"
   },
   {
    "duration": 6597,
    "start_time": "2021-11-27T15:06:06.746Z"
   },
   {
    "duration": 8996,
    "start_time": "2021-11-27T15:06:31.036Z"
   },
   {
    "duration": 275,
    "start_time": "2021-11-27T15:07:49.334Z"
   },
   {
    "duration": 24,
    "start_time": "2021-11-27T15:08:14.219Z"
   },
   {
    "duration": 14,
    "start_time": "2021-11-27T15:12:06.477Z"
   },
   {
    "duration": 10,
    "start_time": "2021-11-27T15:13:12.717Z"
   },
   {
    "duration": 26,
    "start_time": "2021-11-27T15:14:07.661Z"
   },
   {
    "duration": 15,
    "start_time": "2021-11-27T15:14:17.276Z"
   },
   {
    "duration": 23,
    "start_time": "2021-11-27T15:27:00.234Z"
   },
   {
    "duration": 15,
    "start_time": "2021-11-27T15:27:10.257Z"
   },
   {
    "duration": 87,
    "start_time": "2021-11-27T15:27:12.687Z"
   },
   {
    "duration": 9,
    "start_time": "2021-11-27T15:29:34.178Z"
   },
   {
    "duration": 13,
    "start_time": "2021-11-27T15:29:42.765Z"
   },
   {
    "duration": 245,
    "start_time": "2021-11-27T15:30:40.950Z"
   },
   {
    "duration": 13,
    "start_time": "2021-11-27T15:30:56.216Z"
   },
   {
    "duration": 14,
    "start_time": "2021-11-27T15:31:11.072Z"
   },
   {
    "duration": 87,
    "start_time": "2021-11-27T15:53:23.822Z"
   },
   {
    "duration": 252,
    "start_time": "2021-11-27T15:53:45.806Z"
   },
   {
    "duration": 7,
    "start_time": "2021-11-27T15:54:03.799Z"
   },
   {
    "duration": 81,
    "start_time": "2021-11-28T14:13:38.528Z"
   },
   {
    "duration": 280,
    "start_time": "2021-11-28T14:14:04.607Z"
   },
   {
    "duration": 923,
    "start_time": "2021-11-28T14:14:11.033Z"
   },
   {
    "duration": 26,
    "start_time": "2021-11-28T14:14:11.958Z"
   },
   {
    "duration": 16,
    "start_time": "2021-11-28T14:14:11.986Z"
   },
   {
    "duration": 9,
    "start_time": "2021-11-28T14:14:12.004Z"
   },
   {
    "duration": 7,
    "start_time": "2021-11-28T14:14:12.015Z"
   },
   {
    "duration": 41,
    "start_time": "2021-11-28T14:14:12.023Z"
   },
   {
    "duration": 6,
    "start_time": "2021-11-28T14:14:12.066Z"
   },
   {
    "duration": -18,
    "start_time": "2021-11-28T14:14:18.837Z"
   },
   {
    "duration": -18,
    "start_time": "2021-11-28T14:14:35.754Z"
   },
   {
    "duration": 68,
    "start_time": "2021-11-28T14:14:47.105Z"
   },
   {
    "duration": 17,
    "start_time": "2021-11-28T14:14:47.174Z"
   },
   {
    "duration": 15,
    "start_time": "2021-11-28T14:14:47.193Z"
   },
   {
    "duration": 10,
    "start_time": "2021-11-28T14:14:47.210Z"
   },
   {
    "duration": 8,
    "start_time": "2021-11-28T14:14:47.222Z"
   },
   {
    "duration": 41,
    "start_time": "2021-11-28T14:14:47.232Z"
   },
   {
    "duration": 6,
    "start_time": "2021-11-28T14:14:47.274Z"
   },
   {
    "duration": 6560,
    "start_time": "2021-11-28T14:14:47.283Z"
   },
   {
    "duration": 1030,
    "start_time": "2021-11-28T14:16:01.380Z"
   },
   {
    "duration": 412,
    "start_time": "2021-11-28T14:16:23.093Z"
   },
   {
    "duration": 449,
    "start_time": "2021-11-28T14:17:30.045Z"
   },
   {
    "duration": 453,
    "start_time": "2021-11-28T14:18:26.438Z"
   },
   {
    "duration": 27,
    "start_time": "2021-11-28T14:20:51.702Z"
   },
   {
    "duration": 29,
    "start_time": "2021-11-28T14:21:10.622Z"
   },
   {
    "duration": 11,
    "start_time": "2021-11-28T14:21:41.887Z"
   },
   {
    "duration": 9,
    "start_time": "2021-11-28T14:22:42.550Z"
   },
   {
    "duration": 21,
    "start_time": "2021-11-28T14:23:18.695Z"
   },
   {
    "duration": 493,
    "start_time": "2021-11-28T14:23:47.655Z"
   },
   {
    "duration": 606,
    "start_time": "2021-11-28T14:24:05.214Z"
   },
   {
    "duration": 1217,
    "start_time": "2021-11-28T14:24:57.096Z"
   },
   {
    "duration": 421,
    "start_time": "2021-11-28T14:25:34.303Z"
   },
   {
    "duration": 426,
    "start_time": "2021-11-28T14:26:18.383Z"
   },
   {
    "duration": 6,
    "start_time": "2021-11-28T14:26:49.880Z"
   },
   {
    "duration": 6,
    "start_time": "2021-11-28T14:27:35.640Z"
   },
   {
    "duration": 5,
    "start_time": "2021-11-28T14:27:47.424Z"
   },
   {
    "duration": 10,
    "start_time": "2021-11-28T14:28:15.392Z"
   },
   {
    "duration": 5,
    "start_time": "2021-11-28T14:28:47.416Z"
   },
   {
    "duration": 7,
    "start_time": "2021-11-28T14:29:32.200Z"
   },
   {
    "duration": 239,
    "start_time": "2021-11-28T14:30:26.273Z"
   },
   {
    "duration": 7,
    "start_time": "2021-11-28T14:30:38.456Z"
   },
   {
    "duration": -19,
    "start_time": "2021-11-28T14:31:16.692Z"
   },
   {
    "duration": 30,
    "start_time": "2021-11-28T14:34:11.033Z"
   },
   {
    "duration": 22,
    "start_time": "2021-11-28T14:34:46.506Z"
   },
   {
    "duration": 7,
    "start_time": "2021-11-28T14:35:23.035Z"
   },
   {
    "duration": 22,
    "start_time": "2021-11-28T14:35:30.401Z"
   },
   {
    "duration": 22,
    "start_time": "2021-11-28T14:36:48.834Z"
   },
   {
    "duration": -18,
    "start_time": "2021-11-28T14:37:07.552Z"
   },
   {
    "duration": 7506,
    "start_time": "2021-11-28T14:37:24.146Z"
   },
   {
    "duration": 8,
    "start_time": "2021-11-28T14:37:43.307Z"
   },
   {
    "duration": 7,
    "start_time": "2021-11-28T14:38:29.379Z"
   },
   {
    "duration": 22,
    "start_time": "2021-11-28T14:38:47.954Z"
   },
   {
    "duration": 8,
    "start_time": "2021-11-28T14:38:55.043Z"
   },
   {
    "duration": 801,
    "start_time": "2021-11-28T14:47:44.820Z"
   },
   {
    "duration": 5079,
    "start_time": "2021-11-28T15:02:05.240Z"
   },
   {
    "duration": 440,
    "start_time": "2021-11-28T15:02:43.733Z"
   },
   {
    "duration": 422,
    "start_time": "2021-11-28T15:03:16.592Z"
   },
   {
    "duration": 3661,
    "start_time": "2021-11-28T15:03:48.841Z"
   },
   {
    "duration": 123,
    "start_time": "2021-11-28T15:04:46.773Z"
   },
   {
    "duration": 3725,
    "start_time": "2021-11-28T15:07:37.249Z"
   },
   {
    "duration": 84,
    "start_time": "2021-11-28T15:08:39.680Z"
   },
   {
    "duration": 78,
    "start_time": "2021-11-28T15:09:27.689Z"
   },
   {
    "duration": 3594,
    "start_time": "2021-11-28T15:09:55.834Z"
   },
   {
    "duration": 16,
    "start_time": "2021-11-28T15:10:21.361Z"
   },
   {
    "duration": 80,
    "start_time": "2021-11-28T15:12:37.127Z"
   },
   {
    "duration": 625,
    "start_time": "2021-11-28T15:13:09.091Z"
   },
   {
    "duration": 2411,
    "start_time": "2021-11-28T15:13:29.683Z"
   },
   {
    "duration": 2171,
    "start_time": "2021-11-28T15:14:15.412Z"
   },
   {
    "duration": 10,
    "start_time": "2021-11-28T15:14:52.730Z"
   },
   {
    "duration": 11,
    "start_time": "2021-11-28T15:15:05.187Z"
   },
   {
    "duration": 2327,
    "start_time": "2021-11-28T15:16:33.971Z"
   },
   {
    "duration": 2229,
    "start_time": "2021-11-28T15:16:48.420Z"
   },
   {
    "duration": 2212,
    "start_time": "2021-11-28T15:17:04.372Z"
   },
   {
    "duration": 7,
    "start_time": "2021-11-28T15:25:33.661Z"
   },
   {
    "duration": 529,
    "start_time": "2021-11-28T15:27:48.622Z"
   },
   {
    "duration": 6,
    "start_time": "2021-11-28T15:39:54.649Z"
   },
   {
    "duration": 1485,
    "start_time": "2021-11-28T15:39:56.721Z"
   },
   {
    "duration": 7,
    "start_time": "2021-11-28T15:41:28.777Z"
   },
   {
    "duration": 1236,
    "start_time": "2021-11-28T15:41:30.601Z"
   },
   {
    "duration": 7,
    "start_time": "2021-11-28T15:42:06.233Z"
   },
   {
    "duration": 1457,
    "start_time": "2021-11-28T15:42:07.850Z"
   },
   {
    "duration": 529,
    "start_time": "2021-11-28T15:42:38.578Z"
   },
   {
    "duration": 6,
    "start_time": "2021-11-28T15:43:28.426Z"
   },
   {
    "duration": 326,
    "start_time": "2021-11-28T15:43:30.266Z"
   },
   {
    "duration": 6,
    "start_time": "2021-11-28T15:44:01.746Z"
   },
   {
    "duration": 3522,
    "start_time": "2021-11-28T15:44:04.026Z"
   },
   {
    "duration": 7,
    "start_time": "2021-11-28T15:45:14.634Z"
   },
   {
    "duration": 8,
    "start_time": "2021-11-28T15:45:45.394Z"
   },
   {
    "duration": 9,
    "start_time": "2021-11-28T15:46:30.195Z"
   },
   {
    "duration": 3410,
    "start_time": "2021-11-28T15:46:32.204Z"
   },
   {
    "duration": 7,
    "start_time": "2021-11-28T15:47:03.578Z"
   },
   {
    "duration": 3410,
    "start_time": "2021-11-28T15:47:05.468Z"
   },
   {
    "duration": 546,
    "start_time": "2021-11-28T15:48:29.748Z"
   },
   {
    "duration": 604,
    "start_time": "2021-11-28T15:48:59.843Z"
   },
   {
    "duration": 38,
    "start_time": "2021-11-28T15:50:46.125Z"
   },
   {
    "duration": 3477,
    "start_time": "2021-11-28T15:51:19.028Z"
   },
   {
    "duration": 8517,
    "start_time": "2021-11-28T15:52:01.109Z"
   },
   {
    "duration": 7,
    "start_time": "2021-11-28T15:52:42.452Z"
   },
   {
    "duration": 494,
    "start_time": "2021-11-28T15:52:44.381Z"
   },
   {
    "duration": 7,
    "start_time": "2021-11-28T15:53:02.364Z"
   },
   {
    "duration": 498,
    "start_time": "2021-11-28T15:53:03.622Z"
   },
   {
    "duration": 7,
    "start_time": "2021-11-28T15:53:50.349Z"
   },
   {
    "duration": 500,
    "start_time": "2021-11-28T15:53:52.214Z"
   },
   {
    "duration": 7,
    "start_time": "2021-11-28T15:54:56.893Z"
   },
   {
    "duration": 549,
    "start_time": "2021-11-28T15:54:58.086Z"
   },
   {
    "duration": 12,
    "start_time": "2021-11-28T15:55:38.782Z"
   },
   {
    "duration": 665,
    "start_time": "2021-11-28T15:55:59.846Z"
   },
   {
    "duration": 8,
    "start_time": "2021-11-28T15:56:57.782Z"
   },
   {
    "duration": 7,
    "start_time": "2021-11-28T15:57:40.703Z"
   },
   {
    "duration": 565,
    "start_time": "2021-11-28T15:57:43.064Z"
   },
   {
    "duration": 8,
    "start_time": "2021-11-28T15:58:31.614Z"
   },
   {
    "duration": 501,
    "start_time": "2021-11-28T15:58:36.255Z"
   },
   {
    "duration": 8,
    "start_time": "2021-11-28T15:58:59.343Z"
   },
   {
    "duration": 8,
    "start_time": "2021-11-28T15:59:13.143Z"
   },
   {
    "duration": 7050,
    "start_time": "2021-11-28T15:59:16.160Z"
   },
   {
    "duration": 7,
    "start_time": "2021-11-28T15:59:37.822Z"
   },
   {
    "duration": 486,
    "start_time": "2021-11-28T15:59:40.144Z"
   },
   {
    "duration": 464,
    "start_time": "2021-11-28T15:59:58.463Z"
   },
   {
    "duration": 620,
    "start_time": "2021-11-28T16:00:10.391Z"
   },
   {
    "duration": 2612,
    "start_time": "2021-11-28T16:01:23.831Z"
   },
   {
    "duration": 32,
    "start_time": "2021-11-28T16:01:34.367Z"
   },
   {
    "duration": 20,
    "start_time": "2021-11-28T16:02:24.000Z"
   },
   {
    "duration": 19,
    "start_time": "2021-11-28T16:02:55.832Z"
   },
   {
    "duration": 9,
    "start_time": "2021-11-28T16:03:09.008Z"
   },
   {
    "duration": 22,
    "start_time": "2021-11-28T16:03:25.720Z"
   },
   {
    "duration": 70,
    "start_time": "2021-11-28T16:03:36.949Z"
   },
   {
    "duration": 41,
    "start_time": "2021-11-28T16:03:37.022Z"
   },
   {
    "duration": 24,
    "start_time": "2021-11-28T16:03:37.066Z"
   },
   {
    "duration": 15,
    "start_time": "2021-11-28T16:03:37.092Z"
   },
   {
    "duration": 8,
    "start_time": "2021-11-28T16:03:37.108Z"
   },
   {
    "duration": 10,
    "start_time": "2021-11-28T16:03:37.118Z"
   },
   {
    "duration": 36,
    "start_time": "2021-11-28T16:03:37.130Z"
   },
   {
    "duration": 31,
    "start_time": "2021-11-28T16:03:37.169Z"
   },
   {
    "duration": 21,
    "start_time": "2021-11-28T16:13:21.051Z"
   },
   {
    "duration": 3340,
    "start_time": "2021-11-28T16:29:57.710Z"
   },
   {
    "duration": 9,
    "start_time": "2021-11-28T16:30:35.655Z"
   },
   {
    "duration": 10,
    "start_time": "2021-11-28T16:31:23.512Z"
   },
   {
    "duration": 17,
    "start_time": "2021-11-28T16:31:39.510Z"
   },
   {
    "duration": 37,
    "start_time": "2021-11-28T16:32:01.872Z"
   },
   {
    "duration": 70,
    "start_time": "2021-11-28T16:32:26.838Z"
   },
   {
    "duration": 16,
    "start_time": "2021-11-28T16:32:26.910Z"
   },
   {
    "duration": 15,
    "start_time": "2021-11-28T16:32:26.928Z"
   },
   {
    "duration": 26,
    "start_time": "2021-11-28T16:32:26.945Z"
   },
   {
    "duration": 11,
    "start_time": "2021-11-28T16:32:26.972Z"
   },
   {
    "duration": 11,
    "start_time": "2021-11-28T16:32:26.984Z"
   },
   {
    "duration": 6,
    "start_time": "2021-11-28T16:32:26.996Z"
   },
   {
    "duration": 24,
    "start_time": "2021-11-28T16:32:27.004Z"
   },
   {
    "duration": 37,
    "start_time": "2021-11-28T16:32:27.030Z"
   },
   {
    "duration": 6160,
    "start_time": "2021-11-28T16:32:30.423Z"
   },
   {
    "duration": 8,
    "start_time": "2021-11-28T16:32:55.016Z"
   },
   {
    "duration": 28,
    "start_time": "2021-11-28T16:33:09.224Z"
   },
   {
    "duration": 92,
    "start_time": "2021-11-29T07:38:19.820Z"
   },
   {
    "duration": 660,
    "start_time": "2021-11-29T07:51:29.777Z"
   },
   {
    "duration": 13,
    "start_time": "2021-11-29T07:51:30.439Z"
   },
   {
    "duration": 14,
    "start_time": "2021-11-29T07:51:30.454Z"
   },
   {
    "duration": 12,
    "start_time": "2021-11-29T07:51:30.469Z"
   },
   {
    "duration": 7,
    "start_time": "2021-11-29T07:51:30.488Z"
   },
   {
    "duration": 16,
    "start_time": "2021-11-29T07:51:30.497Z"
   },
   {
    "duration": 5,
    "start_time": "2021-11-29T07:51:30.515Z"
   },
   {
    "duration": 24,
    "start_time": "2021-11-29T07:51:30.522Z"
   },
   {
    "duration": 10,
    "start_time": "2021-11-29T07:51:30.548Z"
   },
   {
    "duration": 39,
    "start_time": "2021-11-29T07:51:30.559Z"
   },
   {
    "duration": 6133,
    "start_time": "2021-11-29T07:51:30.599Z"
   },
   {
    "duration": 6179,
    "start_time": "2021-11-29T07:52:54.984Z"
   },
   {
    "duration": 268,
    "start_time": "2021-11-29T07:53:30.016Z"
   },
   {
    "duration": 244,
    "start_time": "2021-11-29T07:54:40.104Z"
   },
   {
    "duration": 275,
    "start_time": "2021-11-29T07:54:59.312Z"
   },
   {
    "duration": 982,
    "start_time": "2021-11-29T07:55:16.768Z"
   },
   {
    "duration": 926,
    "start_time": "2021-11-29T07:57:07.777Z"
   },
   {
    "duration": 1006,
    "start_time": "2021-11-29T08:00:17.090Z"
   },
   {
    "duration": 1165,
    "start_time": "2021-11-29T08:00:29.242Z"
   },
   {
    "duration": 1003,
    "start_time": "2021-11-29T08:00:47.217Z"
   },
   {
    "duration": 359,
    "start_time": "2021-11-29T08:01:26.003Z"
   },
   {
    "duration": 248,
    "start_time": "2021-11-29T08:01:44.315Z"
   },
   {
    "duration": 936,
    "start_time": "2021-11-29T08:02:59.003Z"
   },
   {
    "duration": 11,
    "start_time": "2021-11-29T08:04:05.986Z"
   },
   {
    "duration": 931,
    "start_time": "2021-11-29T08:04:44.459Z"
   },
   {
    "duration": 1229,
    "start_time": "2021-11-29T08:04:52.347Z"
   },
   {
    "duration": 1023,
    "start_time": "2021-11-29T08:05:11.291Z"
   },
   {
    "duration": 11,
    "start_time": "2021-11-29T08:06:04.171Z"
   },
   {
    "duration": 60,
    "start_time": "2021-11-29T08:06:52.156Z"
   },
   {
    "duration": 9,
    "start_time": "2021-11-29T08:07:03.651Z"
   },
   {
    "duration": 7,
    "start_time": "2021-11-29T08:07:09.899Z"
   },
   {
    "duration": 9,
    "start_time": "2021-11-29T08:07:14.588Z"
   },
   {
    "duration": 6,
    "start_time": "2021-11-29T08:07:31.746Z"
   },
   {
    "duration": 26,
    "start_time": "2021-11-29T08:07:44.587Z"
   },
   {
    "duration": 6,
    "start_time": "2021-11-29T08:09:17.884Z"
   },
   {
    "duration": 23,
    "start_time": "2021-11-29T08:09:20.676Z"
   },
   {
    "duration": 15,
    "start_time": "2021-11-29T08:10:43.460Z"
   },
   {
    "duration": 5,
    "start_time": "2021-11-29T08:12:14.989Z"
   },
   {
    "duration": 6,
    "start_time": "2021-11-29T08:13:41.852Z"
   },
   {
    "duration": 16,
    "start_time": "2021-11-29T08:13:43.436Z"
   },
   {
    "duration": 59,
    "start_time": "2021-11-29T08:14:18.523Z"
   },
   {
    "duration": 13,
    "start_time": "2021-11-29T08:14:18.584Z"
   },
   {
    "duration": 13,
    "start_time": "2021-11-29T08:14:18.599Z"
   },
   {
    "duration": 8,
    "start_time": "2021-11-29T08:14:18.614Z"
   },
   {
    "duration": 7,
    "start_time": "2021-11-29T08:14:18.623Z"
   },
   {
    "duration": 10,
    "start_time": "2021-11-29T08:14:18.632Z"
   },
   {
    "duration": 6,
    "start_time": "2021-11-29T08:14:18.643Z"
   },
   {
    "duration": 51,
    "start_time": "2021-11-29T08:14:18.651Z"
   },
   {
    "duration": 10,
    "start_time": "2021-11-29T08:14:18.704Z"
   },
   {
    "duration": 24,
    "start_time": "2021-11-29T08:14:18.715Z"
   },
   {
    "duration": 4,
    "start_time": "2021-11-29T08:14:18.741Z"
   },
   {
    "duration": 11,
    "start_time": "2021-11-29T08:15:58.845Z"
   },
   {
    "duration": 10,
    "start_time": "2021-11-29T08:16:59.718Z"
   },
   {
    "duration": 239,
    "start_time": "2021-11-29T08:20:39.567Z"
   },
   {
    "duration": 1728,
    "start_time": "2021-11-29T08:23:03.432Z"
   },
   {
    "duration": 8,
    "start_time": "2021-11-29T08:23:44.656Z"
   },
   {
    "duration": 13,
    "start_time": "2021-11-29T08:23:55.392Z"
   },
   {
    "duration": 15,
    "start_time": "2021-11-29T08:24:20.816Z"
   },
   {
    "duration": 260,
    "start_time": "2021-11-29T08:26:50.440Z"
   },
   {
    "duration": 248,
    "start_time": "2021-11-29T08:27:13.041Z"
   },
   {
    "duration": 10,
    "start_time": "2021-11-29T08:28:02.298Z"
   },
   {
    "duration": 62,
    "start_time": "2021-11-29T08:28:13.584Z"
   },
   {
    "duration": 13,
    "start_time": "2021-11-29T08:28:13.648Z"
   },
   {
    "duration": 26,
    "start_time": "2021-11-29T08:28:13.663Z"
   },
   {
    "duration": 9,
    "start_time": "2021-11-29T08:28:13.691Z"
   },
   {
    "duration": 7,
    "start_time": "2021-11-29T08:28:13.702Z"
   },
   {
    "duration": 10,
    "start_time": "2021-11-29T08:28:13.710Z"
   },
   {
    "duration": 6,
    "start_time": "2021-11-29T08:28:13.722Z"
   },
   {
    "duration": 17,
    "start_time": "2021-11-29T08:28:13.731Z"
   },
   {
    "duration": 47,
    "start_time": "2021-11-29T08:28:13.749Z"
   },
   {
    "duration": 26,
    "start_time": "2021-11-29T08:28:13.797Z"
   },
   {
    "duration": 10,
    "start_time": "2021-11-29T08:28:13.824Z"
   },
   {
    "duration": 18,
    "start_time": "2021-11-29T08:28:13.835Z"
   },
   {
    "duration": 8,
    "start_time": "2021-11-29T08:28:13.854Z"
   },
   {
    "duration": 10,
    "start_time": "2021-11-29T08:29:19.385Z"
   },
   {
    "duration": 8,
    "start_time": "2021-11-29T08:29:40.579Z"
   },
   {
    "duration": 60,
    "start_time": "2021-11-29T08:30:58.129Z"
   },
   {
    "duration": 12,
    "start_time": "2021-11-29T08:30:58.190Z"
   },
   {
    "duration": 12,
    "start_time": "2021-11-29T08:30:58.204Z"
   },
   {
    "duration": 8,
    "start_time": "2021-11-29T08:30:58.218Z"
   },
   {
    "duration": 6,
    "start_time": "2021-11-29T08:30:58.228Z"
   },
   {
    "duration": 10,
    "start_time": "2021-11-29T08:30:58.236Z"
   },
   {
    "duration": 39,
    "start_time": "2021-11-29T08:30:58.248Z"
   },
   {
    "duration": 17,
    "start_time": "2021-11-29T08:30:58.290Z"
   },
   {
    "duration": 19,
    "start_time": "2021-11-29T08:31:09.955Z"
   },
   {
    "duration": 13,
    "start_time": "2021-11-29T08:31:24.666Z"
   },
   {
    "duration": 18,
    "start_time": "2021-11-29T08:31:39.626Z"
   },
   {
    "duration": 9,
    "start_time": "2021-11-29T08:31:47.801Z"
   },
   {
    "duration": 60,
    "start_time": "2021-11-29T08:32:22.521Z"
   },
   {
    "duration": 13,
    "start_time": "2021-11-29T08:32:22.583Z"
   },
   {
    "duration": 21,
    "start_time": "2021-11-29T08:32:22.597Z"
   },
   {
    "duration": 8,
    "start_time": "2021-11-29T08:32:22.620Z"
   },
   {
    "duration": 20,
    "start_time": "2021-11-29T08:32:22.630Z"
   },
   {
    "duration": 23,
    "start_time": "2021-11-29T08:32:22.652Z"
   },
   {
    "duration": 16,
    "start_time": "2021-11-29T08:32:22.677Z"
   },
   {
    "duration": 45,
    "start_time": "2021-11-29T08:32:22.694Z"
   },
   {
    "duration": 10,
    "start_time": "2021-11-29T08:32:22.741Z"
   },
   {
    "duration": 15,
    "start_time": "2021-11-29T08:32:22.752Z"
   },
   {
    "duration": 7,
    "start_time": "2021-11-29T08:33:35.403Z"
   },
   {
    "duration": 16,
    "start_time": "2021-11-29T08:33:35.884Z"
   },
   {
    "duration": 61,
    "start_time": "2021-11-29T08:53:58.249Z"
   },
   {
    "duration": 13,
    "start_time": "2021-11-29T08:53:58.312Z"
   },
   {
    "duration": 13,
    "start_time": "2021-11-29T08:53:58.327Z"
   },
   {
    "duration": 8,
    "start_time": "2021-11-29T08:53:58.342Z"
   },
   {
    "duration": 9,
    "start_time": "2021-11-29T08:53:58.352Z"
   },
   {
    "duration": 29,
    "start_time": "2021-11-29T08:53:58.362Z"
   },
   {
    "duration": 20,
    "start_time": "2021-11-29T08:54:06.726Z"
   },
   {
    "duration": 25,
    "start_time": "2021-11-29T08:54:37.038Z"
   },
   {
    "duration": 61,
    "start_time": "2021-11-29T08:54:51.051Z"
   },
   {
    "duration": 13,
    "start_time": "2021-11-29T08:54:51.114Z"
   },
   {
    "duration": 13,
    "start_time": "2021-11-29T08:54:51.129Z"
   },
   {
    "duration": 8,
    "start_time": "2021-11-29T08:54:51.144Z"
   },
   {
    "duration": 21,
    "start_time": "2021-11-29T08:54:51.153Z"
   },
   {
    "duration": 17,
    "start_time": "2021-11-29T08:54:51.175Z"
   },
   {
    "duration": 10,
    "start_time": "2021-11-29T08:54:54.671Z"
   },
   {
    "duration": 241,
    "start_time": "2021-11-29T08:56:35.311Z"
   },
   {
    "duration": 93,
    "start_time": "2021-11-29T08:56:38.608Z"
   },
   {
    "duration": 1033,
    "start_time": "2021-11-29T08:56:46.375Z"
   },
   {
    "duration": 777,
    "start_time": "2021-11-29T08:57:05.479Z"
   },
   {
    "duration": 6,
    "start_time": "2021-11-29T08:57:12.543Z"
   },
   {
    "duration": 5220,
    "start_time": "2021-11-29T08:58:47.176Z"
   },
   {
    "duration": 441,
    "start_time": "2021-11-29T09:01:42.137Z"
   },
   {
    "duration": 437,
    "start_time": "2021-11-29T09:04:30.682Z"
   },
   {
    "duration": 445,
    "start_time": "2021-11-29T09:04:40.025Z"
   },
   {
    "duration": 4021,
    "start_time": "2021-11-29T09:06:04.769Z"
   },
   {
    "duration": 453,
    "start_time": "2021-11-29T09:06:36.689Z"
   },
   {
    "duration": 812,
    "start_time": "2021-11-29T09:07:00.377Z"
   },
   {
    "duration": 457,
    "start_time": "2021-11-29T09:07:07.417Z"
   },
   {
    "duration": 64,
    "start_time": "2021-11-29T09:08:29.903Z"
   },
   {
    "duration": 17,
    "start_time": "2021-11-29T09:08:29.969Z"
   },
   {
    "duration": 39,
    "start_time": "2021-11-29T09:08:29.988Z"
   },
   {
    "duration": 27,
    "start_time": "2021-11-29T09:08:30.030Z"
   },
   {
    "duration": 36,
    "start_time": "2021-11-29T09:08:30.059Z"
   },
   {
    "duration": 44,
    "start_time": "2021-11-29T09:08:30.096Z"
   },
   {
    "duration": 33,
    "start_time": "2021-11-29T09:08:30.142Z"
   },
   {
    "duration": 149,
    "start_time": "2021-11-29T09:08:37.443Z"
   },
   {
    "duration": 111,
    "start_time": "2021-11-29T09:09:14.754Z"
   },
   {
    "duration": 78,
    "start_time": "2021-11-29T09:10:02.226Z"
   },
   {
    "duration": 485,
    "start_time": "2021-11-29T09:10:45.587Z"
   },
   {
    "duration": 719,
    "start_time": "2021-11-29T09:10:59.764Z"
   },
   {
    "duration": 437,
    "start_time": "2021-11-29T09:13:11.620Z"
   },
   {
    "duration": 520,
    "start_time": "2021-11-29T09:18:19.110Z"
   },
   {
    "duration": 82,
    "start_time": "2021-11-29T09:18:33.899Z"
   },
   {
    "duration": 20,
    "start_time": "2021-11-29T09:18:33.983Z"
   },
   {
    "duration": 22,
    "start_time": "2021-11-29T09:18:34.010Z"
   },
   {
    "duration": 11,
    "start_time": "2021-11-29T09:18:34.034Z"
   },
   {
    "duration": 7,
    "start_time": "2021-11-29T09:18:34.048Z"
   },
   {
    "duration": 53,
    "start_time": "2021-11-29T09:18:34.057Z"
   },
   {
    "duration": 11,
    "start_time": "2021-11-29T09:18:34.112Z"
   },
   {
    "duration": 456,
    "start_time": "2021-11-29T09:18:37.358Z"
   },
   {
    "duration": 434,
    "start_time": "2021-11-29T09:18:45.550Z"
   },
   {
    "duration": 450,
    "start_time": "2021-11-29T09:19:02.549Z"
   },
   {
    "duration": 439,
    "start_time": "2021-11-29T09:19:30.806Z"
   },
   {
    "duration": 5,
    "start_time": "2021-11-29T09:20:39.454Z"
   },
   {
    "duration": 429,
    "start_time": "2021-11-29T09:20:40.630Z"
   },
   {
    "duration": 8,
    "start_time": "2021-11-29T09:20:42.191Z"
   },
   {
    "duration": 754,
    "start_time": "2021-11-29T09:20:44.199Z"
   },
   {
    "duration": 8,
    "start_time": "2021-11-29T09:21:21.295Z"
   },
   {
    "duration": 796,
    "start_time": "2021-11-29T09:21:22.256Z"
   },
   {
    "duration": 8,
    "start_time": "2021-11-29T09:21:33.046Z"
   },
   {
    "duration": 429,
    "start_time": "2021-11-29T09:21:35.103Z"
   },
   {
    "duration": 11,
    "start_time": "2021-11-29T09:21:44.063Z"
   },
   {
    "duration": 440,
    "start_time": "2021-11-29T09:43:47.700Z"
   },
   {
    "duration": 480,
    "start_time": "2021-11-29T09:43:54.771Z"
   },
   {
    "duration": 59,
    "start_time": "2021-11-29T09:46:47.658Z"
   },
   {
    "duration": 14,
    "start_time": "2021-11-29T09:46:47.719Z"
   },
   {
    "duration": 16,
    "start_time": "2021-11-29T09:46:47.735Z"
   },
   {
    "duration": 10,
    "start_time": "2021-11-29T09:46:47.753Z"
   },
   {
    "duration": 29,
    "start_time": "2021-11-29T09:46:47.765Z"
   },
   {
    "duration": 10,
    "start_time": "2021-11-29T09:46:47.796Z"
   },
   {
    "duration": 7,
    "start_time": "2021-11-29T09:46:47.807Z"
   },
   {
    "duration": 490,
    "start_time": "2021-11-29T09:46:47.816Z"
   },
   {
    "duration": 7,
    "start_time": "2021-11-29T09:46:48.308Z"
   },
   {
    "duration": 461,
    "start_time": "2021-11-29T09:46:48.316Z"
   },
   {
    "duration": 9,
    "start_time": "2021-11-29T09:46:54.269Z"
   },
   {
    "duration": 4,
    "start_time": "2021-11-29T09:51:15.069Z"
   },
   {
    "duration": 4,
    "start_time": "2021-11-29T09:51:37.493Z"
   },
   {
    "duration": 11,
    "start_time": "2021-11-29T09:51:46.565Z"
   },
   {
    "duration": 4,
    "start_time": "2021-11-29T09:52:34.766Z"
   },
   {
    "duration": 260,
    "start_time": "2021-11-29T09:56:51.478Z"
   },
   {
    "duration": 15,
    "start_time": "2021-11-29T09:56:57.575Z"
   },
   {
    "duration": 593,
    "start_time": "2021-11-29T09:57:35.143Z"
   },
   {
    "duration": 65,
    "start_time": "2021-11-29T09:57:43.799Z"
   },
   {
    "duration": 61,
    "start_time": "2021-11-29T11:05:02.926Z"
   },
   {
    "duration": 13,
    "start_time": "2021-11-29T11:05:02.989Z"
   },
   {
    "duration": 12,
    "start_time": "2021-11-29T11:05:03.003Z"
   },
   {
    "duration": 9,
    "start_time": "2021-11-29T11:05:06.107Z"
   },
   {
    "duration": 63,
    "start_time": "2021-11-29T11:05:19.888Z"
   },
   {
    "duration": 14,
    "start_time": "2021-11-29T11:05:19.952Z"
   },
   {
    "duration": 25,
    "start_time": "2021-11-29T11:05:19.967Z"
   },
   {
    "duration": 8,
    "start_time": "2021-11-29T11:05:19.994Z"
   },
   {
    "duration": 11,
    "start_time": "2021-11-29T11:05:20.003Z"
   },
   {
    "duration": 6,
    "start_time": "2021-11-29T11:05:20.016Z"
   },
   {
    "duration": 5,
    "start_time": "2021-11-29T11:05:20.024Z"
   },
   {
    "duration": 486,
    "start_time": "2021-11-29T11:05:20.031Z"
   },
   {
    "duration": 7,
    "start_time": "2021-11-29T11:05:20.519Z"
   },
   {
    "duration": 471,
    "start_time": "2021-11-29T11:05:20.528Z"
   },
   {
    "duration": 4,
    "start_time": "2021-11-29T11:05:21.001Z"
   },
   {
    "duration": 17,
    "start_time": "2021-11-29T11:05:21.006Z"
   },
   {
    "duration": 262,
    "start_time": "2021-11-29T11:05:31.275Z"
   },
   {
    "duration": 3,
    "start_time": "2021-11-29T11:05:39.859Z"
   },
   {
    "duration": 3,
    "start_time": "2021-11-29T11:06:20.401Z"
   },
   {
    "duration": 4,
    "start_time": "2021-11-29T11:06:27.347Z"
   },
   {
    "duration": 3,
    "start_time": "2021-11-29T11:06:36.859Z"
   },
   {
    "duration": 3,
    "start_time": "2021-11-29T11:06:43.091Z"
   },
   {
    "duration": 4,
    "start_time": "2021-11-29T11:06:52.812Z"
   },
   {
    "duration": 4,
    "start_time": "2021-11-29T11:07:02.555Z"
   },
   {
    "duration": 4,
    "start_time": "2021-11-29T11:07:08.171Z"
   },
   {
    "duration": 4,
    "start_time": "2021-11-29T11:07:20.547Z"
   },
   {
    "duration": 4,
    "start_time": "2021-11-29T11:07:31.410Z"
   },
   {
    "duration": 3,
    "start_time": "2021-11-29T11:07:53.764Z"
   },
   {
    "duration": 3,
    "start_time": "2021-11-29T11:07:57.380Z"
   },
   {
    "duration": 19,
    "start_time": "2021-11-29T11:20:29.661Z"
   },
   {
    "duration": 64,
    "start_time": "2021-11-29T11:20:42.588Z"
   },
   {
    "duration": 13,
    "start_time": "2021-11-29T11:20:42.654Z"
   },
   {
    "duration": 25,
    "start_time": "2021-11-29T11:20:42.669Z"
   },
   {
    "duration": 22,
    "start_time": "2021-11-29T11:20:42.695Z"
   },
   {
    "duration": 51,
    "start_time": "2021-11-29T11:20:42.718Z"
   },
   {
    "duration": 38,
    "start_time": "2021-11-29T11:20:42.770Z"
   },
   {
    "duration": 26,
    "start_time": "2021-11-29T11:20:42.810Z"
   },
   {
    "duration": 475,
    "start_time": "2021-11-29T11:20:42.838Z"
   },
   {
    "duration": 7,
    "start_time": "2021-11-29T11:20:43.315Z"
   },
   {
    "duration": 462,
    "start_time": "2021-11-29T11:20:43.323Z"
   },
   {
    "duration": 4,
    "start_time": "2021-11-29T11:20:43.786Z"
   },
   {
    "duration": 358,
    "start_time": "2021-11-29T11:49:31.344Z"
   },
   {
    "duration": 238,
    "start_time": "2021-11-29T11:49:42.820Z"
   },
   {
    "duration": 282,
    "start_time": "2021-11-29T11:50:51.848Z"
   },
   {
    "duration": 270,
    "start_time": "2021-11-29T11:51:04.411Z"
   },
   {
    "duration": 66,
    "start_time": "2021-11-29T11:51:34.638Z"
   },
   {
    "duration": 14,
    "start_time": "2021-11-29T11:51:34.705Z"
   },
   {
    "duration": 13,
    "start_time": "2021-11-29T11:51:34.721Z"
   },
   {
    "duration": 8,
    "start_time": "2021-11-29T11:51:34.736Z"
   },
   {
    "duration": 7,
    "start_time": "2021-11-29T11:51:34.746Z"
   },
   {
    "duration": 46,
    "start_time": "2021-11-29T11:51:34.755Z"
   },
   {
    "duration": 6,
    "start_time": "2021-11-29T11:51:34.802Z"
   },
   {
    "duration": 472,
    "start_time": "2021-11-29T11:51:34.810Z"
   },
   {
    "duration": 7,
    "start_time": "2021-11-29T11:51:35.287Z"
   },
   {
    "duration": 445,
    "start_time": "2021-11-29T11:51:35.295Z"
   },
   {
    "duration": 3,
    "start_time": "2021-11-29T11:51:35.742Z"
   },
   {
    "duration": 247,
    "start_time": "2021-11-29T11:51:41.209Z"
   },
   {
    "duration": 6,
    "start_time": "2021-11-29T11:53:18.401Z"
   },
   {
    "duration": 6,
    "start_time": "2021-11-29T11:53:46.225Z"
   },
   {
    "duration": 16,
    "start_time": "2021-11-29T11:54:41.433Z"
   },
   {
    "duration": 16,
    "start_time": "2021-11-29T11:55:08.345Z"
   },
   {
    "duration": 1242,
    "start_time": "2021-11-29T12:06:30.188Z"
   },
   {
    "duration": 14,
    "start_time": "2021-11-29T12:06:38.484Z"
   },
   {
    "duration": 393,
    "start_time": "2021-11-29T12:20:49.064Z"
   },
   {
    "duration": 17,
    "start_time": "2021-11-29T12:21:09.112Z"
   },
   {
    "duration": 853,
    "start_time": "2021-11-29T12:21:47.376Z"
   },
   {
    "duration": 945,
    "start_time": "2021-11-29T12:21:55.872Z"
   },
   {
    "duration": 63,
    "start_time": "2021-11-29T12:22:43.446Z"
   },
   {
    "duration": 13,
    "start_time": "2021-11-29T12:22:43.511Z"
   },
   {
    "duration": 13,
    "start_time": "2021-11-29T12:22:43.526Z"
   },
   {
    "duration": 12,
    "start_time": "2021-11-29T12:22:43.541Z"
   },
   {
    "duration": 8,
    "start_time": "2021-11-29T12:22:43.554Z"
   },
   {
    "duration": 45,
    "start_time": "2021-11-29T12:22:43.563Z"
   },
   {
    "duration": 7,
    "start_time": "2021-11-29T12:22:43.609Z"
   },
   {
    "duration": 716,
    "start_time": "2021-11-29T12:22:43.618Z"
   },
   {
    "duration": 9,
    "start_time": "2021-11-29T12:22:44.336Z"
   },
   {
    "duration": 702,
    "start_time": "2021-11-29T12:22:44.347Z"
   },
   {
    "duration": 5,
    "start_time": "2021-11-29T12:22:45.051Z"
   },
   {
    "duration": 30,
    "start_time": "2021-11-29T12:22:45.057Z"
   },
   {
    "duration": 34,
    "start_time": "2021-11-29T12:22:45.089Z"
   },
   {
    "duration": 631,
    "start_time": "2021-11-29T12:23:41.481Z"
   },
   {
    "duration": 4208,
    "start_time": "2021-11-29T12:23:58.994Z"
   },
   {
    "duration": 303,
    "start_time": "2021-11-29T13:08:56.509Z"
   },
   {
    "duration": 1082,
    "start_time": "2021-11-29T13:09:06.540Z"
   },
   {
    "duration": 1129,
    "start_time": "2021-11-29T13:09:31.004Z"
   },
   {
    "duration": 72,
    "start_time": "2021-11-29T13:09:54.666Z"
   },
   {
    "duration": 13,
    "start_time": "2021-11-29T13:09:54.740Z"
   },
   {
    "duration": 13,
    "start_time": "2021-11-29T13:09:54.755Z"
   },
   {
    "duration": 24,
    "start_time": "2021-11-29T13:09:54.769Z"
   },
   {
    "duration": 9,
    "start_time": "2021-11-29T13:09:54.795Z"
   },
   {
    "duration": 17,
    "start_time": "2021-11-29T13:09:54.806Z"
   },
   {
    "duration": 6,
    "start_time": "2021-11-29T13:09:54.824Z"
   },
   {
    "duration": 566,
    "start_time": "2021-11-29T13:09:54.832Z"
   },
   {
    "duration": 8,
    "start_time": "2021-11-29T13:09:55.401Z"
   },
   {
    "duration": 507,
    "start_time": "2021-11-29T13:09:55.411Z"
   },
   {
    "duration": 4,
    "start_time": "2021-11-29T13:09:55.919Z"
   },
   {
    "duration": 18,
    "start_time": "2021-11-29T13:09:55.925Z"
   },
   {
    "duration": 13,
    "start_time": "2021-11-29T13:09:55.945Z"
   },
   {
    "duration": 277,
    "start_time": "2021-11-29T13:09:58.893Z"
   },
   {
    "duration": 3583,
    "start_time": "2021-11-29T13:10:15.973Z"
   },
   {
    "duration": 23,
    "start_time": "2021-11-29T13:25:17.010Z"
   },
   {
    "duration": 260,
    "start_time": "2021-11-29T13:48:00.767Z"
   },
   {
    "duration": 7,
    "start_time": "2021-11-29T13:48:09.807Z"
   },
   {
    "duration": 10,
    "start_time": "2021-11-29T13:48:14.591Z"
   },
   {
    "duration": 10,
    "start_time": "2021-11-29T13:48:24.536Z"
   },
   {
    "duration": 10,
    "start_time": "2021-11-29T13:51:36.298Z"
   },
   {
    "duration": 260,
    "start_time": "2021-11-29T13:54:18.810Z"
   },
   {
    "duration": 243,
    "start_time": "2021-11-29T13:54:32.458Z"
   },
   {
    "duration": 122,
    "start_time": "2021-11-29T13:55:21.595Z"
   },
   {
    "duration": 374,
    "start_time": "2021-11-29T13:58:53.804Z"
   },
   {
    "duration": 115,
    "start_time": "2021-11-29T14:01:50.292Z"
   },
   {
    "duration": 146,
    "start_time": "2021-11-29T14:01:54.156Z"
   },
   {
    "duration": 572,
    "start_time": "2021-11-29T14:05:57.174Z"
   },
   {
    "duration": 278,
    "start_time": "2021-11-29T14:06:07.565Z"
   },
   {
    "duration": 262,
    "start_time": "2021-11-29T14:06:46.549Z"
   },
   {
    "duration": 119,
    "start_time": "2021-11-29T14:07:05.870Z"
   },
   {
    "duration": 247,
    "start_time": "2021-11-29T14:08:15.054Z"
   },
   {
    "duration": 170,
    "start_time": "2021-11-29T14:09:24.199Z"
   },
   {
    "duration": 118,
    "start_time": "2021-11-29T14:09:41.511Z"
   },
   {
    "duration": 373,
    "start_time": "2021-11-29T14:10:02.015Z"
   },
   {
    "duration": 117,
    "start_time": "2021-11-29T14:10:56.328Z"
   },
   {
    "duration": 246,
    "start_time": "2021-11-29T14:11:32.343Z"
   },
   {
    "duration": 148,
    "start_time": "2021-11-29T14:11:45.111Z"
   },
   {
    "duration": 153,
    "start_time": "2021-11-29T14:17:00.848Z"
   },
   {
    "duration": 325,
    "start_time": "2021-11-29T14:35:37.244Z"
   },
   {
    "duration": 359,
    "start_time": "2021-11-29T14:36:55.435Z"
   },
   {
    "duration": 399,
    "start_time": "2021-11-29T14:37:03.538Z"
   },
   {
    "duration": 456,
    "start_time": "2021-11-29T14:38:27.362Z"
   },
   {
    "duration": 232,
    "start_time": "2021-11-29T14:38:34.475Z"
   },
   {
    "duration": 424,
    "start_time": "2021-11-29T14:38:45.266Z"
   },
   {
    "duration": 160,
    "start_time": "2021-11-29T14:38:53.899Z"
   },
   {
    "duration": 177,
    "start_time": "2021-11-29T14:39:16.163Z"
   },
   {
    "duration": 307,
    "start_time": "2021-11-29T14:46:40.646Z"
   },
   {
    "duration": 157,
    "start_time": "2021-11-29T14:46:57.877Z"
   },
   {
    "duration": 150,
    "start_time": "2021-11-29T14:49:38.543Z"
   },
   {
    "duration": 232,
    "start_time": "2021-11-29T14:50:00.014Z"
   },
   {
    "duration": 155,
    "start_time": "2021-11-29T14:50:14.134Z"
   },
   {
    "duration": 157,
    "start_time": "2021-11-29T14:50:26.078Z"
   },
   {
    "duration": 153,
    "start_time": "2021-11-29T14:50:50.239Z"
   },
   {
    "duration": 150,
    "start_time": "2021-11-29T14:53:58.735Z"
   },
   {
    "duration": 4,
    "start_time": "2021-11-29T15:01:43.937Z"
   },
   {
    "duration": 5,
    "start_time": "2021-11-29T15:17:44.133Z"
   },
   {
    "duration": 12,
    "start_time": "2021-11-29T15:18:55.350Z"
   },
   {
    "duration": 251,
    "start_time": "2021-11-29T15:19:18.838Z"
   },
   {
    "duration": 351,
    "start_time": "2021-11-29T15:19:32.175Z"
   },
   {
    "duration": 260,
    "start_time": "2021-11-29T15:20:47.590Z"
   },
   {
    "duration": 13,
    "start_time": "2021-11-29T15:20:55.231Z"
   },
   {
    "duration": 21,
    "start_time": "2021-11-29T15:21:25.223Z"
   },
   {
    "duration": 22,
    "start_time": "2021-11-29T15:24:24.224Z"
   },
   {
    "duration": 20,
    "start_time": "2021-11-29T15:24:46.384Z"
   },
   {
    "duration": 20,
    "start_time": "2021-11-29T15:24:57.415Z"
   },
   {
    "duration": 164,
    "start_time": "2021-11-29T15:26:40.680Z"
   },
   {
    "duration": 247,
    "start_time": "2021-11-29T15:27:39.753Z"
   },
   {
    "duration": 470,
    "start_time": "2021-11-29T15:27:55.417Z"
   },
   {
    "duration": 164,
    "start_time": "2021-11-29T15:28:44.649Z"
   },
   {
    "duration": 171,
    "start_time": "2021-11-29T15:30:09.394Z"
   },
   {
    "duration": 187,
    "start_time": "2021-11-29T15:32:00.482Z"
   },
   {
    "duration": 839,
    "start_time": "2021-11-29T15:33:52.675Z"
   },
   {
    "duration": 391,
    "start_time": "2021-11-29T15:34:28.500Z"
   },
   {
    "duration": 373,
    "start_time": "2021-11-29T15:34:50.322Z"
   },
   {
    "duration": 289,
    "start_time": "2021-11-29T15:35:07.595Z"
   },
   {
    "duration": 284,
    "start_time": "2021-11-29T15:37:42.684Z"
   },
   {
    "duration": 161,
    "start_time": "2021-11-29T15:38:11.748Z"
   },
   {
    "duration": 1242,
    "start_time": "2021-11-29T15:38:55.229Z"
   },
   {
    "duration": 162,
    "start_time": "2021-11-29T15:39:59.893Z"
   },
   {
    "duration": 4,
    "start_time": "2021-11-29T15:42:42.965Z"
   },
   {
    "duration": 79,
    "start_time": "2021-11-29T15:42:46.295Z"
   },
   {
    "duration": 158,
    "start_time": "2021-11-29T15:42:54.182Z"
   },
   {
    "duration": 14,
    "start_time": "2021-11-29T15:47:54.454Z"
   },
   {
    "duration": 159,
    "start_time": "2021-11-29T15:48:37.992Z"
   },
   {
    "duration": 25,
    "start_time": "2021-11-29T15:49:14.984Z"
   },
   {
    "duration": 14,
    "start_time": "2021-11-29T15:49:34.031Z"
   },
   {
    "duration": 67,
    "start_time": "2021-11-29T15:49:56.494Z"
   },
   {
    "duration": 16,
    "start_time": "2021-11-29T15:49:56.563Z"
   },
   {
    "duration": 125,
    "start_time": "2021-11-29T15:49:56.581Z"
   },
   {
    "duration": 11,
    "start_time": "2021-11-29T15:49:56.708Z"
   },
   {
    "duration": 8,
    "start_time": "2021-11-29T15:49:56.721Z"
   },
   {
    "duration": 21,
    "start_time": "2021-11-29T15:49:56.731Z"
   },
   {
    "duration": 36,
    "start_time": "2021-11-29T15:49:56.754Z"
   },
   {
    "duration": 531,
    "start_time": "2021-11-29T15:49:56.793Z"
   },
   {
    "duration": 43,
    "start_time": "2021-11-29T15:49:57.332Z"
   },
   {
    "duration": 599,
    "start_time": "2021-11-29T15:49:57.392Z"
   },
   {
    "duration": 5,
    "start_time": "2021-11-29T15:49:57.993Z"
   },
   {
    "duration": 20,
    "start_time": "2021-11-29T15:49:58.000Z"
   },
   {
    "duration": 29,
    "start_time": "2021-11-29T15:49:58.022Z"
   },
   {
    "duration": 3805,
    "start_time": "2021-11-29T15:49:58.053Z"
   },
   {
    "duration": 34,
    "start_time": "2021-11-29T15:50:01.860Z"
   },
   {
    "duration": 140,
    "start_time": "2021-11-29T15:50:01.896Z"
   },
   {
    "duration": -27,
    "start_time": "2021-11-29T15:50:02.065Z"
   },
   {
    "duration": -31,
    "start_time": "2021-11-29T15:50:02.070Z"
   },
   {
    "duration": -34,
    "start_time": "2021-11-29T15:50:02.074Z"
   },
   {
    "duration": -41,
    "start_time": "2021-11-29T15:50:02.082Z"
   },
   {
    "duration": -46,
    "start_time": "2021-11-29T15:50:02.088Z"
   },
   {
    "duration": 302,
    "start_time": "2021-11-29T15:50:23.535Z"
   },
   {
    "duration": 116,
    "start_time": "2021-11-29T15:50:36.808Z"
   },
   {
    "duration": 29,
    "start_time": "2021-11-29T15:50:36.926Z"
   },
   {
    "duration": 52,
    "start_time": "2021-11-29T15:50:36.958Z"
   },
   {
    "duration": 16,
    "start_time": "2021-11-29T15:50:37.013Z"
   },
   {
    "duration": 8,
    "start_time": "2021-11-29T15:50:37.031Z"
   },
   {
    "duration": 24,
    "start_time": "2021-11-29T15:50:37.041Z"
   },
   {
    "duration": 23,
    "start_time": "2021-11-29T15:50:37.068Z"
   },
   {
    "duration": 521,
    "start_time": "2021-11-29T15:50:37.095Z"
   },
   {
    "duration": 10,
    "start_time": "2021-11-29T15:50:37.619Z"
   },
   {
    "duration": 488,
    "start_time": "2021-11-29T15:50:37.632Z"
   },
   {
    "duration": 5,
    "start_time": "2021-11-29T15:50:38.122Z"
   },
   {
    "duration": 24,
    "start_time": "2021-11-29T15:50:38.128Z"
   },
   {
    "duration": 18,
    "start_time": "2021-11-29T15:50:38.153Z"
   },
   {
    "duration": 3914,
    "start_time": "2021-11-29T15:50:38.173Z"
   },
   {
    "duration": 21,
    "start_time": "2021-11-29T15:50:42.089Z"
   },
   {
    "duration": 95,
    "start_time": "2021-11-29T15:50:42.111Z"
   },
   {
    "duration": -25,
    "start_time": "2021-11-29T15:50:42.233Z"
   },
   {
    "duration": -32,
    "start_time": "2021-11-29T15:50:42.240Z"
   },
   {
    "duration": -36,
    "start_time": "2021-11-29T15:50:42.245Z"
   },
   {
    "duration": -42,
    "start_time": "2021-11-29T15:50:42.252Z"
   },
   {
    "duration": 76,
    "start_time": "2021-11-29T15:50:54.175Z"
   },
   {
    "duration": 36,
    "start_time": "2021-11-29T15:50:54.253Z"
   },
   {
    "duration": 14,
    "start_time": "2021-11-29T15:50:54.291Z"
   },
   {
    "duration": 22,
    "start_time": "2021-11-29T15:50:54.307Z"
   },
   {
    "duration": 7,
    "start_time": "2021-11-29T15:50:54.332Z"
   },
   {
    "duration": 19,
    "start_time": "2021-11-29T15:50:54.340Z"
   },
   {
    "duration": 10,
    "start_time": "2021-11-29T15:50:54.388Z"
   },
   {
    "duration": 549,
    "start_time": "2021-11-29T15:50:54.402Z"
   },
   {
    "duration": 8,
    "start_time": "2021-11-29T15:50:54.953Z"
   },
   {
    "duration": 713,
    "start_time": "2021-11-29T15:50:54.963Z"
   },
   {
    "duration": 9,
    "start_time": "2021-11-29T15:50:55.679Z"
   },
   {
    "duration": 23,
    "start_time": "2021-11-29T15:50:55.690Z"
   },
   {
    "duration": 17,
    "start_time": "2021-11-29T15:50:55.715Z"
   },
   {
    "duration": 3666,
    "start_time": "2021-11-29T15:50:55.734Z"
   },
   {
    "duration": 43,
    "start_time": "2021-11-29T15:50:59.403Z"
   },
   {
    "duration": 79,
    "start_time": "2021-11-29T15:50:59.448Z"
   },
   {
    "duration": -24,
    "start_time": "2021-11-29T15:50:59.553Z"
   },
   {
    "duration": -28,
    "start_time": "2021-11-29T15:50:59.558Z"
   },
   {
    "duration": -32,
    "start_time": "2021-11-29T15:50:59.563Z"
   },
   {
    "duration": -38,
    "start_time": "2021-11-29T15:50:59.570Z"
   },
   {
    "duration": 339,
    "start_time": "2021-11-29T15:51:25.007Z"
   },
   {
    "duration": 278,
    "start_time": "2021-11-29T15:51:28.825Z"
   },
   {
    "duration": 164,
    "start_time": "2021-11-29T15:51:35.670Z"
   },
   {
    "duration": 14,
    "start_time": "2021-11-29T15:51:39.768Z"
   },
   {
    "duration": 67,
    "start_time": "2021-11-29T15:52:32.223Z"
   },
   {
    "duration": 15,
    "start_time": "2021-11-29T15:52:32.291Z"
   },
   {
    "duration": 14,
    "start_time": "2021-11-29T15:52:32.308Z"
   },
   {
    "duration": 8,
    "start_time": "2021-11-29T15:52:32.324Z"
   },
   {
    "duration": 11,
    "start_time": "2021-11-29T15:52:32.334Z"
   },
   {
    "duration": 42,
    "start_time": "2021-11-29T15:52:32.347Z"
   },
   {
    "duration": 5,
    "start_time": "2021-11-29T15:52:32.391Z"
   },
   {
    "duration": 479,
    "start_time": "2021-11-29T15:52:32.399Z"
   },
   {
    "duration": 10,
    "start_time": "2021-11-29T15:52:32.880Z"
   },
   {
    "duration": 457,
    "start_time": "2021-11-29T15:52:32.891Z"
   },
   {
    "duration": 4,
    "start_time": "2021-11-29T15:52:33.349Z"
   },
   {
    "duration": 34,
    "start_time": "2021-11-29T15:52:33.354Z"
   },
   {
    "duration": 16,
    "start_time": "2021-11-29T15:52:33.391Z"
   },
   {
    "duration": 4056,
    "start_time": "2021-11-29T15:52:33.409Z"
   },
   {
    "duration": 30,
    "start_time": "2021-11-29T15:52:37.466Z"
   },
   {
    "duration": 5,
    "start_time": "2021-11-29T15:52:37.498Z"
   },
   {
    "duration": 14,
    "start_time": "2021-11-29T15:52:37.505Z"
   },
   {
    "duration": 187,
    "start_time": "2021-11-29T15:52:37.521Z"
   },
   {
    "duration": 182,
    "start_time": "2021-11-29T15:52:37.709Z"
   },
   {
    "duration": 172,
    "start_time": "2021-11-29T15:52:37.892Z"
   },
   {
    "duration": 166,
    "start_time": "2021-11-29T15:59:29.927Z"
   },
   {
    "duration": 174,
    "start_time": "2021-11-29T15:59:58.983Z"
   },
   {
    "duration": 160,
    "start_time": "2021-11-29T16:00:42.495Z"
   },
   {
    "duration": 73,
    "start_time": "2021-11-29T16:00:47.843Z"
   },
   {
    "duration": 14,
    "start_time": "2021-11-29T16:00:47.918Z"
   },
   {
    "duration": 13,
    "start_time": "2021-11-29T16:00:47.934Z"
   },
   {
    "duration": 9,
    "start_time": "2021-11-29T16:00:47.949Z"
   },
   {
    "duration": 30,
    "start_time": "2021-11-29T16:00:47.959Z"
   },
   {
    "duration": 18,
    "start_time": "2021-11-29T16:00:47.990Z"
   },
   {
    "duration": 6,
    "start_time": "2021-11-29T16:00:48.010Z"
   },
   {
    "duration": 472,
    "start_time": "2021-11-29T16:00:48.018Z"
   },
   {
    "duration": 7,
    "start_time": "2021-11-29T16:00:48.492Z"
   },
   {
    "duration": 457,
    "start_time": "2021-11-29T16:00:48.501Z"
   },
   {
    "duration": 4,
    "start_time": "2021-11-29T16:00:48.960Z"
   },
   {
    "duration": 33,
    "start_time": "2021-11-29T16:00:48.966Z"
   },
   {
    "duration": 15,
    "start_time": "2021-11-29T16:00:49.001Z"
   },
   {
    "duration": 3971,
    "start_time": "2021-11-29T16:00:49.018Z"
   },
   {
    "duration": 23,
    "start_time": "2021-11-29T16:00:52.991Z"
   },
   {
    "duration": 7,
    "start_time": "2021-11-29T16:00:53.016Z"
   },
   {
    "duration": 21,
    "start_time": "2021-11-29T16:00:53.025Z"
   },
   {
    "duration": 263,
    "start_time": "2021-11-29T16:00:53.049Z"
   },
   {
    "duration": 178,
    "start_time": "2021-11-29T16:00:53.314Z"
   },
   {
    "duration": 172,
    "start_time": "2021-11-29T16:00:53.494Z"
   },
   {
    "duration": 173,
    "start_time": "2021-11-29T16:00:53.667Z"
   },
   {
    "duration": 298,
    "start_time": "2021-11-29T16:03:28.280Z"
   },
   {
    "duration": 153,
    "start_time": "2021-11-29T16:04:22.625Z"
   },
   {
    "duration": 154,
    "start_time": "2021-11-29T16:05:05.297Z"
   },
   {
    "duration": 165,
    "start_time": "2021-11-29T16:05:26.018Z"
   },
   {
    "duration": 167,
    "start_time": "2021-11-29T16:05:48.487Z"
   },
   {
    "duration": 183,
    "start_time": "2021-11-29T16:06:23.769Z"
   },
   {
    "duration": 156,
    "start_time": "2021-11-29T16:07:51.129Z"
   },
   {
    "duration": 172,
    "start_time": "2021-11-29T16:08:43.306Z"
   }
  ],
  "kernelspec": {
   "display_name": "Python 3 (ipykernel)",
   "language": "python",
   "name": "python3"
  },
  "language_info": {
   "codemirror_mode": {
    "name": "ipython",
    "version": 3
   },
   "file_extension": ".py",
   "mimetype": "text/x-python",
   "name": "python",
   "nbconvert_exporter": "python",
   "pygments_lexer": "ipython3",
   "version": "3.9.0"
  },
  "toc": {
   "base_numbering": 1,
   "nav_menu": {},
   "number_sections": true,
   "sideBar": true,
   "skip_h1_title": true,
   "title_cell": "Table of Contents",
   "title_sidebar": "Contents",
   "toc_cell": false,
   "toc_position": {},
   "toc_section_display": true,
   "toc_window_display": false
  }
 },
 "nbformat": 4,
 "nbformat_minor": 2
}
