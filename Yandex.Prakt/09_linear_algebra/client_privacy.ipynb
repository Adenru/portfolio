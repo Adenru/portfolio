{
 "cells": [
  {
   "cell_type": "code",
   "execution_count": 1,
   "metadata": {},
   "outputs": [
    {
     "data": {
      "text/plain": [
       "{'CodeCell': {'cm_config': {'autoCloseBrackets': False}}}"
      ]
     },
     "execution_count": 1,
     "metadata": {},
     "output_type": "execute_result"
    }
   ],
   "source": [
    "from notebook.services.config import ConfigManager\n",
    "c = ConfigManager()\n",
    "c.update('notebook', {\"CodeCell\": {\"cm_config\": {\"autoCloseBrackets\": False}}})"
   ]
  },
  {
   "cell_type": "markdown",
   "metadata": {
    "toc": true
   },
   "source": [
    "<h1>Содержание<span class=\"tocSkip\"></span></h1>\n",
    "<div class=\"toc\"><ul class=\"toc-item\"><li><span><a href=\"#Загрузка-данных\" data-toc-modified-id=\"Загрузка-данных-1\"><span class=\"toc-item-num\">1&nbsp;&nbsp;</span>Загрузка данных</a></span><ul class=\"toc-item\"><li><span><a href=\"#Наименования-столбцов\" data-toc-modified-id=\"Наименования-столбцов-1.1\"><span class=\"toc-item-num\">1.1&nbsp;&nbsp;</span>Наименования столбцов</a></span></li><li><span><a href=\"#Проверка-данных-и-конвертирование-их-типов\" data-toc-modified-id=\"Проверка-данных-и-конвертирование-их-типов-1.2\"><span class=\"toc-item-num\">1.2&nbsp;&nbsp;</span>Проверка данных и конвертирование их типов</a></span></li><li><span><a href=\"#Дубликаты\" data-toc-modified-id=\"Дубликаты-1.3\"><span class=\"toc-item-num\">1.3&nbsp;&nbsp;</span>Дубликаты</a></span></li></ul></li><li><span><a href=\"#Умножение-матриц\" data-toc-modified-id=\"Умножение-матриц-2\"><span class=\"toc-item-num\">2&nbsp;&nbsp;</span>Умножение матриц</a></span></li><li><span><a href=\"#Алгоритм-преобразования\" data-toc-modified-id=\"Алгоритм-преобразования-3\"><span class=\"toc-item-num\">3&nbsp;&nbsp;</span>Алгоритм преобразования</a></span></li><li><span><a href=\"#Проверка-алгоритма\" data-toc-modified-id=\"Проверка-алгоритма-4\"><span class=\"toc-item-num\">4&nbsp;&nbsp;</span>Проверка алгоритма</a></span><ul class=\"toc-item\"><li><span><a href=\"#Без-преобразования\" data-toc-modified-id=\"Без-преобразования-4.1\"><span class=\"toc-item-num\">4.1&nbsp;&nbsp;</span>Без преобразования</a></span></li><li><span><a href=\"#С-преобразованием\" data-toc-modified-id=\"С-преобразованием-4.2\"><span class=\"toc-item-num\">4.2&nbsp;&nbsp;</span>С преобразованием</a></span></li><li><span><a href=\"#Сравнение-метрик\" data-toc-modified-id=\"Сравнение-метрик-4.3\"><span class=\"toc-item-num\">4.3&nbsp;&nbsp;</span>Сравнение метрик</a></span></li></ul></li></ul></div>"
   ]
  },
  {
   "cell_type": "code",
   "execution_count": 2,
   "metadata": {},
   "outputs": [],
   "source": [
    "import pandas as pd\n",
    "import numpy as np\n",
    "from sklearn.linear_model import LinearRegression\n",
    "from sklearn.metrics import r2_score\n",
    "from sklearn.model_selection import train_test_split"
   ]
  },
  {
   "cell_type": "markdown",
   "metadata": {},
   "source": [
    "# Защита персональных данных клиентов"
   ]
  },
  {
   "cell_type": "markdown",
   "metadata": {},
   "source": [
    "Вам нужно защитить данные клиентов страховой компании «Хоть потоп». Разработайте такой метод преобразования данных, чтобы по ним было сложно восстановить персональную информацию. Обоснуйте корректность его работы.\n",
    "\n",
    "Нужно защитить данные, чтобы при преобразовании качество моделей машинного обучения не ухудшилось. Подбирать наилучшую модель не требуется."
   ]
  },
  {
   "cell_type": "markdown",
   "metadata": {},
   "source": [
    "## Загрузка данных"
   ]
  },
  {
   "cell_type": "code",
   "execution_count": 3,
   "metadata": {},
   "outputs": [],
   "source": [
    "df = pd.read_csv('/datasets/insurance.csv')"
   ]
  },
  {
   "cell_type": "code",
   "execution_count": 4,
   "metadata": {},
   "outputs": [
    {
     "data": {
      "text/html": [
       "<div>\n",
       "<style scoped>\n",
       "    .dataframe tbody tr th:only-of-type {\n",
       "        vertical-align: middle;\n",
       "    }\n",
       "\n",
       "    .dataframe tbody tr th {\n",
       "        vertical-align: top;\n",
       "    }\n",
       "\n",
       "    .dataframe thead th {\n",
       "        text-align: right;\n",
       "    }\n",
       "</style>\n",
       "<table border=\"1\" class=\"dataframe\">\n",
       "  <thead>\n",
       "    <tr style=\"text-align: right;\">\n",
       "      <th></th>\n",
       "      <th>Пол</th>\n",
       "      <th>Возраст</th>\n",
       "      <th>Зарплата</th>\n",
       "      <th>Члены семьи</th>\n",
       "      <th>Страховые выплаты</th>\n",
       "    </tr>\n",
       "  </thead>\n",
       "  <tbody>\n",
       "    <tr>\n",
       "      <th>0</th>\n",
       "      <td>1</td>\n",
       "      <td>41.0</td>\n",
       "      <td>49600.0</td>\n",
       "      <td>1</td>\n",
       "      <td>0</td>\n",
       "    </tr>\n",
       "    <tr>\n",
       "      <th>1</th>\n",
       "      <td>0</td>\n",
       "      <td>46.0</td>\n",
       "      <td>38000.0</td>\n",
       "      <td>1</td>\n",
       "      <td>1</td>\n",
       "    </tr>\n",
       "    <tr>\n",
       "      <th>2</th>\n",
       "      <td>0</td>\n",
       "      <td>29.0</td>\n",
       "      <td>21000.0</td>\n",
       "      <td>0</td>\n",
       "      <td>0</td>\n",
       "    </tr>\n",
       "    <tr>\n",
       "      <th>3</th>\n",
       "      <td>0</td>\n",
       "      <td>21.0</td>\n",
       "      <td>41700.0</td>\n",
       "      <td>2</td>\n",
       "      <td>0</td>\n",
       "    </tr>\n",
       "    <tr>\n",
       "      <th>4</th>\n",
       "      <td>1</td>\n",
       "      <td>28.0</td>\n",
       "      <td>26100.0</td>\n",
       "      <td>0</td>\n",
       "      <td>0</td>\n",
       "    </tr>\n",
       "    <tr>\n",
       "      <th>...</th>\n",
       "      <td>...</td>\n",
       "      <td>...</td>\n",
       "      <td>...</td>\n",
       "      <td>...</td>\n",
       "      <td>...</td>\n",
       "    </tr>\n",
       "    <tr>\n",
       "      <th>4995</th>\n",
       "      <td>0</td>\n",
       "      <td>28.0</td>\n",
       "      <td>35700.0</td>\n",
       "      <td>2</td>\n",
       "      <td>0</td>\n",
       "    </tr>\n",
       "    <tr>\n",
       "      <th>4996</th>\n",
       "      <td>0</td>\n",
       "      <td>34.0</td>\n",
       "      <td>52400.0</td>\n",
       "      <td>1</td>\n",
       "      <td>0</td>\n",
       "    </tr>\n",
       "    <tr>\n",
       "      <th>4997</th>\n",
       "      <td>0</td>\n",
       "      <td>20.0</td>\n",
       "      <td>33900.0</td>\n",
       "      <td>2</td>\n",
       "      <td>0</td>\n",
       "    </tr>\n",
       "    <tr>\n",
       "      <th>4998</th>\n",
       "      <td>1</td>\n",
       "      <td>22.0</td>\n",
       "      <td>32700.0</td>\n",
       "      <td>3</td>\n",
       "      <td>0</td>\n",
       "    </tr>\n",
       "    <tr>\n",
       "      <th>4999</th>\n",
       "      <td>1</td>\n",
       "      <td>28.0</td>\n",
       "      <td>40600.0</td>\n",
       "      <td>1</td>\n",
       "      <td>0</td>\n",
       "    </tr>\n",
       "  </tbody>\n",
       "</table>\n",
       "<p>5000 rows × 5 columns</p>\n",
       "</div>"
      ],
      "text/plain": [
       "      Пол  Возраст  Зарплата  Члены семьи  Страховые выплаты\n",
       "0       1     41.0   49600.0            1                  0\n",
       "1       0     46.0   38000.0            1                  1\n",
       "2       0     29.0   21000.0            0                  0\n",
       "3       0     21.0   41700.0            2                  0\n",
       "4       1     28.0   26100.0            0                  0\n",
       "...   ...      ...       ...          ...                ...\n",
       "4995    0     28.0   35700.0            2                  0\n",
       "4996    0     34.0   52400.0            1                  0\n",
       "4997    0     20.0   33900.0            2                  0\n",
       "4998    1     22.0   32700.0            3                  0\n",
       "4999    1     28.0   40600.0            1                  0\n",
       "\n",
       "[5000 rows x 5 columns]"
      ]
     },
     "execution_count": 4,
     "metadata": {},
     "output_type": "execute_result"
    }
   ],
   "source": [
    "df"
   ]
  },
  {
   "cell_type": "markdown",
   "metadata": {},
   "source": [
    "### Наименования столбцов"
   ]
  },
  {
   "cell_type": "markdown",
   "metadata": {},
   "source": [
    "От кириллического шрифта нужно избавиться во избежание проблем."
   ]
  },
  {
   "cell_type": "code",
   "execution_count": 5,
   "metadata": {},
   "outputs": [],
   "source": [
    "df.columns = ['gender', 'age', 'salary', 'family_members', 'insurance_payments']"
   ]
  },
  {
   "cell_type": "code",
   "execution_count": 6,
   "metadata": {},
   "outputs": [
    {
     "data": {
      "text/html": [
       "<div>\n",
       "<style scoped>\n",
       "    .dataframe tbody tr th:only-of-type {\n",
       "        vertical-align: middle;\n",
       "    }\n",
       "\n",
       "    .dataframe tbody tr th {\n",
       "        vertical-align: top;\n",
       "    }\n",
       "\n",
       "    .dataframe thead th {\n",
       "        text-align: right;\n",
       "    }\n",
       "</style>\n",
       "<table border=\"1\" class=\"dataframe\">\n",
       "  <thead>\n",
       "    <tr style=\"text-align: right;\">\n",
       "      <th></th>\n",
       "      <th>gender</th>\n",
       "      <th>age</th>\n",
       "      <th>salary</th>\n",
       "      <th>family_members</th>\n",
       "      <th>insurance_payments</th>\n",
       "    </tr>\n",
       "  </thead>\n",
       "  <tbody>\n",
       "    <tr>\n",
       "      <th>0</th>\n",
       "      <td>1</td>\n",
       "      <td>41.0</td>\n",
       "      <td>49600.0</td>\n",
       "      <td>1</td>\n",
       "      <td>0</td>\n",
       "    </tr>\n",
       "    <tr>\n",
       "      <th>1</th>\n",
       "      <td>0</td>\n",
       "      <td>46.0</td>\n",
       "      <td>38000.0</td>\n",
       "      <td>1</td>\n",
       "      <td>1</td>\n",
       "    </tr>\n",
       "    <tr>\n",
       "      <th>2</th>\n",
       "      <td>0</td>\n",
       "      <td>29.0</td>\n",
       "      <td>21000.0</td>\n",
       "      <td>0</td>\n",
       "      <td>0</td>\n",
       "    </tr>\n",
       "    <tr>\n",
       "      <th>3</th>\n",
       "      <td>0</td>\n",
       "      <td>21.0</td>\n",
       "      <td>41700.0</td>\n",
       "      <td>2</td>\n",
       "      <td>0</td>\n",
       "    </tr>\n",
       "    <tr>\n",
       "      <th>4</th>\n",
       "      <td>1</td>\n",
       "      <td>28.0</td>\n",
       "      <td>26100.0</td>\n",
       "      <td>0</td>\n",
       "      <td>0</td>\n",
       "    </tr>\n",
       "    <tr>\n",
       "      <th>...</th>\n",
       "      <td>...</td>\n",
       "      <td>...</td>\n",
       "      <td>...</td>\n",
       "      <td>...</td>\n",
       "      <td>...</td>\n",
       "    </tr>\n",
       "    <tr>\n",
       "      <th>4995</th>\n",
       "      <td>0</td>\n",
       "      <td>28.0</td>\n",
       "      <td>35700.0</td>\n",
       "      <td>2</td>\n",
       "      <td>0</td>\n",
       "    </tr>\n",
       "    <tr>\n",
       "      <th>4996</th>\n",
       "      <td>0</td>\n",
       "      <td>34.0</td>\n",
       "      <td>52400.0</td>\n",
       "      <td>1</td>\n",
       "      <td>0</td>\n",
       "    </tr>\n",
       "    <tr>\n",
       "      <th>4997</th>\n",
       "      <td>0</td>\n",
       "      <td>20.0</td>\n",
       "      <td>33900.0</td>\n",
       "      <td>2</td>\n",
       "      <td>0</td>\n",
       "    </tr>\n",
       "    <tr>\n",
       "      <th>4998</th>\n",
       "      <td>1</td>\n",
       "      <td>22.0</td>\n",
       "      <td>32700.0</td>\n",
       "      <td>3</td>\n",
       "      <td>0</td>\n",
       "    </tr>\n",
       "    <tr>\n",
       "      <th>4999</th>\n",
       "      <td>1</td>\n",
       "      <td>28.0</td>\n",
       "      <td>40600.0</td>\n",
       "      <td>1</td>\n",
       "      <td>0</td>\n",
       "    </tr>\n",
       "  </tbody>\n",
       "</table>\n",
       "<p>5000 rows × 5 columns</p>\n",
       "</div>"
      ],
      "text/plain": [
       "      gender   age   salary  family_members  insurance_payments\n",
       "0          1  41.0  49600.0               1                   0\n",
       "1          0  46.0  38000.0               1                   1\n",
       "2          0  29.0  21000.0               0                   0\n",
       "3          0  21.0  41700.0               2                   0\n",
       "4          1  28.0  26100.0               0                   0\n",
       "...      ...   ...      ...             ...                 ...\n",
       "4995       0  28.0  35700.0               2                   0\n",
       "4996       0  34.0  52400.0               1                   0\n",
       "4997       0  20.0  33900.0               2                   0\n",
       "4998       1  22.0  32700.0               3                   0\n",
       "4999       1  28.0  40600.0               1                   0\n",
       "\n",
       "[5000 rows x 5 columns]"
      ]
     },
     "execution_count": 6,
     "metadata": {},
     "output_type": "execute_result"
    }
   ],
   "source": [
    "df"
   ]
  },
  {
   "cell_type": "markdown",
   "metadata": {},
   "source": [
    "### Проверка данных и конвертирование их типов"
   ]
  },
  {
   "cell_type": "code",
   "execution_count": 7,
   "metadata": {},
   "outputs": [
    {
     "name": "stdout",
     "output_type": "stream",
     "text": [
      "count    5000.000000\n",
      "mean       30.952800\n",
      "std         8.440807\n",
      "min        18.000000\n",
      "25%        24.000000\n",
      "50%        30.000000\n",
      "75%        37.000000\n",
      "max        65.000000\n",
      "Name: age, dtype: float64 \n",
      "\n",
      "count     5000.000000\n",
      "mean     39916.360000\n",
      "std       9900.083569\n",
      "min       5300.000000\n",
      "25%      33300.000000\n",
      "50%      40200.000000\n",
      "75%      46600.000000\n",
      "max      79000.000000\n",
      "Name: salary, dtype: float64 \n",
      "\n"
     ]
    }
   ],
   "source": [
    "for column in ['age','salary']:\n",
    "    print(df[column].describe(),'\\n')"
   ]
  },
  {
   "cell_type": "code",
   "execution_count": 8,
   "metadata": {},
   "outputs": [],
   "source": [
    "for column in ['age','salary']:\n",
    "    df[column] = df[column].astype('int')"
   ]
  },
  {
   "cell_type": "code",
   "execution_count": 9,
   "metadata": {},
   "outputs": [
    {
     "name": "stdout",
     "output_type": "stream",
     "text": [
      "0    2505\n",
      "1    2495\n",
      "Name: gender, dtype: int64 \n",
      "\n",
      "1    1814\n",
      "0    1513\n",
      "2    1071\n",
      "3     439\n",
      "4     124\n",
      "5      32\n",
      "6       7\n",
      "Name: family_members, dtype: int64 \n",
      "\n",
      "0    4436\n",
      "1     423\n",
      "2     115\n",
      "3      18\n",
      "4       7\n",
      "5       1\n",
      "Name: insurance_payments, dtype: int64 \n",
      "\n"
     ]
    }
   ],
   "source": [
    "for column in ['gender', 'family_members', 'insurance_payments']:\n",
    "    print(df[column].value_counts(),'\\n')"
   ]
  },
  {
   "cell_type": "markdown",
   "metadata": {},
   "source": [
    "Аномалий нет."
   ]
  },
  {
   "cell_type": "markdown",
   "metadata": {},
   "source": [
    "### Дубликаты"
   ]
  },
  {
   "cell_type": "code",
   "execution_count": 10,
   "metadata": {},
   "outputs": [
    {
     "data": {
      "text/plain": [
       "False    4847\n",
       "True      153\n",
       "dtype: int64"
      ]
     },
     "execution_count": 10,
     "metadata": {},
     "output_type": "execute_result"
    }
   ],
   "source": [
    "df.duplicated().value_counts()"
   ]
  },
  {
   "cell_type": "markdown",
   "metadata": {},
   "source": [
    "Учитывая количество вводных и то, что зарплаты и возраста имеют существенный разброс, такое количество повторов не может быть случайностью.<br>\n",
    "Во избежание удаления информации, стоило бы использовать уникальные идентификаторы клиентов."
   ]
  },
  {
   "cell_type": "code",
   "execution_count": 11,
   "metadata": {},
   "outputs": [],
   "source": [
    "df = df.drop_duplicates().reset_index(drop=True)"
   ]
  },
  {
   "cell_type": "markdown",
   "metadata": {},
   "source": [
    "## Умножение матриц"
   ]
  },
  {
   "cell_type": "markdown",
   "metadata": {},
   "source": [
    "В этом задании вы можете записывать формулы в *Jupyter Notebook.*\n",
    "\n",
    "Чтобы записать формулу внутри текста, окружите её символами доллара \\\\$; если снаружи —  двойными символами \\\\$\\\\$. Эти формулы записываются на языке вёрстки *LaTeX.* \n",
    "\n",
    "Для примера мы записали формулы линейной регрессии. Можете их скопировать и отредактировать, чтобы решить задачу.\n",
    "\n",
    "Работать в *LaTeX* необязательно."
   ]
  },
  {
   "cell_type": "markdown",
   "metadata": {},
   "source": [
    "Обозначения:\n",
    "\n",
    "- $X$ — матрица признаков (нулевой столбец состоит из единиц)\n",
    "\n",
    "- $y$ — вектор целевого признака\n",
    "\n",
    "- $P$ — матрица, на которую умножаются признаки\n",
    "\n",
    "- $w$ — вектор весов линейной регрессии (нулевой элемент равен сдвигу)"
   ]
  },
  {
   "cell_type": "markdown",
   "metadata": {},
   "source": [
    "Предсказания:\n",
    "\n",
    "$$\n",
    "a = Xw\n",
    "$$\n",
    "\n",
    "Задача обучения:\n",
    "\n",
    "$$\n",
    "w = \\arg\\min_w MSE(Xw, y)\n",
    "$$\n",
    "\n",
    "Формула обучения:\n",
    "\n",
    "$$\n",
    "w = (X^T X)^{-1} X^T y\n",
    "$$"
   ]
  },
  {
   "cell_type": "markdown",
   "metadata": {},
   "source": [
    "**Ответ:** качество предсказаний не изменится.\n",
    "\n",
    "**Обоснование:**"
   ]
  },
  {
   "cell_type": "markdown",
   "metadata": {},
   "source": [
    "$$\n",
    "a = Xw = XEw = XPP^{-1}w = (XP)P^{-1}w = (XP)w'\n",
    "$$\n",
    "\n",
    "$$\n",
    "w = (X^T X)^{-1} X^T y\n",
    "$$\n",
    "$$\n",
    "w' = ((XP)^T XP)^{-1} (XP)^T y\n",
    "$$\n",
    "$$\n",
    "w' = (P^T (X^T X) P)^{-1} (XP)^T y\n",
    "$$\n",
    "$$\n",
    "....\n",
    "$$\n",
    "$$\n",
    ".....\n",
    "$$\n",
    "$$\n",
    "w' = P^{-1} (X^T X)^{-1} E X^T y\n",
    "$$\n",
    "$$\n",
    "w' = P^{-1}w\n",
    "$$"
   ]
  },
  {
   "cell_type": "markdown",
   "metadata": {},
   "source": [
    "$$\n",
    "w' = ((XP)^T XP)^{-1} (XP)^T y\n",
    "$$\n",
    "$$\n",
    "w' = (P^T (X^T X) P)^{-1} (XP)^T y\n",
    "$$\n",
    "$$\n",
    "w' = (P^T (X^T X) P)^{-1} P^T X^T y\n",
    "$$\n",
    "$$\n",
    "w' = P^{-1} (X^T X)^{-1} (P^T)^{-1} P^T X^T y\n",
    "$$\n",
    "$$\n",
    ".......\n",
    "$$"
   ]
  },
  {
   "cell_type": "markdown",
   "metadata": {},
   "source": [
    "$$\n",
    "w' = P^{-1} (X^T X)^{-1} E X^T y\n",
    "$$"
   ]
  },
  {
   "cell_type": "markdown",
   "metadata": {},
   "source": [
    "$$\n",
    "w' = P^{-1} (X^T X)^{-1} X^T y\n",
    "$$\n",
    "$$\n",
    "w = (X^T X)^{-1} X^T y\n",
    "$$\n",
    "$$\n",
    "w' = P^{-1}w\n",
    "$$"
   ]
  },
  {
   "cell_type": "markdown",
   "metadata": {},
   "source": [
    "Предсказания:\n",
    "$$\n",
    "a = X*w\n",
    "$$\n",
    "$$\n",
    "a' = X*P*w' = X*P*P^{-1}w = X*E*w = X*w\n",
    "$$"
   ]
  },
  {
   "cell_type": "markdown",
   "metadata": {},
   "source": [
    "$$\n",
    "a' = a\n",
    "$$"
   ]
  },
  {
   "cell_type": "markdown",
   "metadata": {},
   "source": [
    "## Алгоритм преобразования"
   ]
  },
  {
   "cell_type": "markdown",
   "metadata": {},
   "source": [
    "**Алгоритм**\n",
    "\n",
    "1. Создать случайную матрицу.\n",
    "2. Проверить, что её определитель не равен нулю.\n",
    "3. Умножить матрицу признаков на сгенерированную обратимую матрицу."
   ]
  },
  {
   "cell_type": "markdown",
   "metadata": {},
   "source": [
    "**Обоснование**\n",
    "\n",
    "Полученный результат при использовании регрессии не будет отличаться, если матрица обратима."
   ]
  },
  {
   "cell_type": "code",
   "execution_count": 12,
   "metadata": {},
   "outputs": [],
   "source": [
    "def generate_matrix(in_feat):\n",
    "    X = in_feat.shape[1]\n",
    "    while True:\n",
    "        Matrix = np.random.randint(1,99999,size = (X,X))\n",
    "        if np.linalg.det(Matrix) !=0:\n",
    "            break\n",
    "    return Matrix"
   ]
  },
  {
   "cell_type": "markdown",
   "metadata": {},
   "source": [
    "## Проверка алгоритма"
   ]
  },
  {
   "cell_type": "code",
   "execution_count": 13,
   "metadata": {},
   "outputs": [],
   "source": [
    "df_train, df_valid  = train_test_split(df, test_size=1/4, random_state=10001)\n",
    "\n",
    "model = LinearRegression()\n",
    "\n",
    "features_train = df_train.drop('insurance_payments', axis=1)\n",
    "target_train = df_train['insurance_payments']\n",
    "features_valid = df_valid.drop('insurance_payments', axis=1)\n",
    "target_valid = df_valid['insurance_payments']\n",
    "train_index = df_train.index\n",
    "valid_index = df_valid.index"
   ]
  },
  {
   "cell_type": "markdown",
   "metadata": {},
   "source": [
    "### Без преобразования"
   ]
  },
  {
   "cell_type": "code",
   "execution_count": 14,
   "metadata": {},
   "outputs": [
    {
     "data": {
      "text/plain": [
       "0.37924339961703435"
      ]
     },
     "execution_count": 14,
     "metadata": {},
     "output_type": "execute_result"
    }
   ],
   "source": [
    "model.fit(features_train,target_train)\n",
    "prediction = model.predict(features_valid)\n",
    "score = r2_score(target_valid, prediction)\n",
    "score"
   ]
  },
  {
   "cell_type": "markdown",
   "metadata": {},
   "source": [
    "### С преобразованием"
   ]
  },
  {
   "cell_type": "markdown",
   "metadata": {},
   "source": [
    "Для точности эксперимента повторим его 100 раз."
   ]
  },
  {
   "cell_type": "code",
   "execution_count": 15,
   "metadata": {},
   "outputs": [],
   "source": [
    "features = df.drop('insurance_payments', axis=1)"
   ]
  },
  {
   "cell_type": "code",
   "execution_count": 16,
   "metadata": {},
   "outputs": [],
   "source": [
    "df_r = pd.DataFrame((features @ generate_matrix(features)))\n",
    "df_r.columns = features.columns"
   ]
  },
  {
   "cell_type": "code",
   "execution_count": 17,
   "metadata": {},
   "outputs": [],
   "source": [
    "score_list = []\n",
    "for x in range(100):\n",
    "    matrix = generate_matrix(features)\n",
    "\n",
    "    features_train = features.iloc[train_index] @ matrix\n",
    "    features_valid = features.iloc[valid_index] @ matrix\n",
    "\n",
    "    model.fit(features_train,target_train)\n",
    "    prediction = model.predict(features_valid)\n",
    "    score_r = r2_score(target_valid,prediction)\n",
    "    score_list.append(score_r)"
   ]
  },
  {
   "cell_type": "code",
   "execution_count": 18,
   "metadata": {},
   "outputs": [
    {
     "data": {
      "text/plain": [
       "count    1.000000e+02\n",
       "mean     3.792434e-01\n",
       "std      6.180162e-13\n",
       "min      3.792434e-01\n",
       "25%      3.792434e-01\n",
       "50%      3.792434e-01\n",
       "75%      3.792434e-01\n",
       "max      3.792434e-01\n",
       "dtype: float64"
      ]
     },
     "execution_count": 18,
     "metadata": {},
     "output_type": "execute_result"
    }
   ],
   "source": [
    "pd.Series(score_list).describe()"
   ]
  },
  {
   "cell_type": "markdown",
   "metadata": {},
   "source": [
    "### Сравнение метрик"
   ]
  },
  {
   "cell_type": "code",
   "execution_count": 19,
   "metadata": {},
   "outputs": [
    {
     "name": "stdout",
     "output_type": "stream",
     "text": [
      "0.37924339961708214\n"
     ]
    },
    {
     "data": {
      "text/plain": [
       "0.37924339961703435"
      ]
     },
     "execution_count": 19,
     "metadata": {},
     "output_type": "execute_result"
    }
   ],
   "source": [
    "print(pd.Series(score_list).mean())\n",
    "score"
   ]
  },
  {
   "cell_type": "markdown",
   "metadata": {},
   "source": [
    "Метрика R2 не изменилась."
   ]
  }
 ],
 "metadata": {
  "ExecuteTimeLog": [
   {
    "duration": 36,
    "start_time": "2022-03-29T17:28:27.021Z"
   },
   {
    "duration": 7,
    "start_time": "2022-03-29T17:28:38.413Z"
   },
   {
    "duration": 618,
    "start_time": "2022-03-29T17:28:53.760Z"
   },
   {
    "duration": 15,
    "start_time": "2022-03-29T17:29:33.944Z"
   },
   {
    "duration": 22,
    "start_time": "2022-03-29T17:29:40.168Z"
   },
   {
    "duration": 6,
    "start_time": "2022-03-29T17:31:04.304Z"
   },
   {
    "duration": 5,
    "start_time": "2022-03-29T17:32:09.497Z"
   },
   {
    "duration": 18,
    "start_time": "2022-03-29T17:32:14.793Z"
   },
   {
    "duration": 16,
    "start_time": "2022-03-29T17:34:37.642Z"
   },
   {
    "duration": 5,
    "start_time": "2022-03-29T17:37:47.515Z"
   },
   {
    "duration": 5,
    "start_time": "2022-03-29T17:38:08.019Z"
   },
   {
    "duration": 14,
    "start_time": "2022-03-29T17:38:25.486Z"
   },
   {
    "duration": 18,
    "start_time": "2022-03-29T17:38:44.388Z"
   },
   {
    "duration": 25,
    "start_time": "2022-03-29T17:38:48.067Z"
   },
   {
    "duration": 29,
    "start_time": "2022-03-29T17:38:53.796Z"
   },
   {
    "duration": 14,
    "start_time": "2022-03-29T17:39:40.227Z"
   },
   {
    "duration": 6,
    "start_time": "2022-03-29T17:40:26.164Z"
   },
   {
    "duration": 10,
    "start_time": "2022-03-29T17:41:17.748Z"
   },
   {
    "duration": 23,
    "start_time": "2022-03-29T18:30:58.987Z"
   },
   {
    "duration": 392,
    "start_time": "2022-03-29T18:30:59.012Z"
   },
   {
    "duration": 28,
    "start_time": "2022-03-29T18:30:59.406Z"
   },
   {
    "duration": 16,
    "start_time": "2022-03-29T18:30:59.435Z"
   },
   {
    "duration": 3,
    "start_time": "2022-03-29T18:30:59.453Z"
   },
   {
    "duration": 12,
    "start_time": "2022-03-29T18:30:59.457Z"
   },
   {
    "duration": 10,
    "start_time": "2022-03-29T18:30:59.470Z"
   },
   {
    "duration": 3,
    "start_time": "2022-03-29T18:30:59.481Z"
   },
   {
    "duration": 19,
    "start_time": "2022-03-29T18:30:59.486Z"
   },
   {
    "duration": 8,
    "start_time": "2022-03-29T18:31:22.128Z"
   },
   {
    "duration": 7,
    "start_time": "2022-03-29T18:31:37.751Z"
   },
   {
    "duration": 12,
    "start_time": "2022-03-29T18:32:27.440Z"
   },
   {
    "duration": 6,
    "start_time": "2022-03-29T18:34:49.624Z"
   },
   {
    "duration": 36,
    "start_time": "2022-03-30T16:44:01.107Z"
   },
   {
    "duration": 1732,
    "start_time": "2022-03-30T16:44:01.146Z"
   },
   {
    "duration": 13,
    "start_time": "2022-03-30T16:44:02.880Z"
   },
   {
    "duration": 28,
    "start_time": "2022-03-30T16:44:02.895Z"
   },
   {
    "duration": 13,
    "start_time": "2022-03-30T16:44:02.925Z"
   },
   {
    "duration": 32,
    "start_time": "2022-03-30T16:44:02.940Z"
   },
   {
    "duration": 40,
    "start_time": "2022-03-30T16:44:02.975Z"
   },
   {
    "duration": 9,
    "start_time": "2022-03-30T16:44:03.017Z"
   },
   {
    "duration": 27,
    "start_time": "2022-03-30T16:44:03.028Z"
   },
   {
    "duration": 24,
    "start_time": "2022-03-30T16:44:03.057Z"
   },
   {
    "duration": 21,
    "start_time": "2022-03-30T16:44:03.083Z"
   },
   {
    "duration": 40,
    "start_time": "2022-03-30T17:05:03.024Z"
   },
   {
    "duration": 1512,
    "start_time": "2022-03-30T17:05:03.068Z"
   },
   {
    "duration": 19,
    "start_time": "2022-03-30T17:05:04.582Z"
   },
   {
    "duration": 21,
    "start_time": "2022-03-30T17:05:04.604Z"
   },
   {
    "duration": 4,
    "start_time": "2022-03-30T17:05:04.630Z"
   },
   {
    "duration": 43,
    "start_time": "2022-03-30T17:05:04.637Z"
   },
   {
    "duration": 26,
    "start_time": "2022-03-30T17:05:04.682Z"
   },
   {
    "duration": 5,
    "start_time": "2022-03-30T17:05:04.711Z"
   },
   {
    "duration": 18,
    "start_time": "2022-03-30T17:05:04.718Z"
   },
   {
    "duration": 40,
    "start_time": "2022-03-30T17:05:04.738Z"
   },
   {
    "duration": 8,
    "start_time": "2022-03-30T17:05:04.781Z"
   },
   {
    "duration": 83,
    "start_time": "2022-03-30T18:08:09.709Z"
   },
   {
    "duration": 34,
    "start_time": "2022-03-31T07:04:31.289Z"
   },
   {
    "duration": 1618,
    "start_time": "2022-03-31T07:04:31.326Z"
   },
   {
    "duration": 20,
    "start_time": "2022-03-31T07:04:32.946Z"
   },
   {
    "duration": 38,
    "start_time": "2022-03-31T07:04:32.969Z"
   },
   {
    "duration": 4,
    "start_time": "2022-03-31T07:04:33.010Z"
   },
   {
    "duration": 65,
    "start_time": "2022-03-31T07:04:33.016Z"
   },
   {
    "duration": 22,
    "start_time": "2022-03-31T07:04:33.083Z"
   },
   {
    "duration": 5,
    "start_time": "2022-03-31T07:04:33.108Z"
   },
   {
    "duration": 18,
    "start_time": "2022-03-31T07:04:33.116Z"
   },
   {
    "duration": 19,
    "start_time": "2022-03-31T07:04:33.137Z"
   },
   {
    "duration": 26,
    "start_time": "2022-03-31T07:04:33.158Z"
   },
   {
    "duration": 5,
    "start_time": "2022-03-31T07:46:58.245Z"
   },
   {
    "duration": 5,
    "start_time": "2022-03-31T07:50:52.447Z"
   },
   {
    "duration": 11,
    "start_time": "2022-03-31T07:54:16.799Z"
   },
   {
    "duration": 10,
    "start_time": "2022-03-31T07:57:46.201Z"
   },
   {
    "duration": 11,
    "start_time": "2022-03-31T07:57:52.266Z"
   },
   {
    "duration": 13,
    "start_time": "2022-03-31T07:57:58.722Z"
   },
   {
    "duration": 13,
    "start_time": "2022-03-31T07:58:01.658Z"
   },
   {
    "duration": 3,
    "start_time": "2022-03-31T08:00:37.186Z"
   },
   {
    "duration": 284,
    "start_time": "2022-03-31T08:05:30.897Z"
   },
   {
    "duration": 754,
    "start_time": "2022-03-31T08:05:36.133Z"
   },
   {
    "duration": 5,
    "start_time": "2022-03-31T08:07:18.181Z"
   },
   {
    "duration": 20,
    "start_time": "2022-03-31T08:07:21.277Z"
   },
   {
    "duration": 5,
    "start_time": "2022-03-31T08:07:43.700Z"
   },
   {
    "duration": 154,
    "start_time": "2022-03-31T08:07:46.420Z"
   },
   {
    "duration": 281,
    "start_time": "2022-03-31T08:08:30.582Z"
   },
   {
    "duration": 7,
    "start_time": "2022-03-31T08:09:24.452Z"
   },
   {
    "duration": 1313,
    "start_time": "2022-03-31T08:09:30.469Z"
   },
   {
    "duration": 8,
    "start_time": "2022-03-31T08:09:49.685Z"
   },
   {
    "duration": 606,
    "start_time": "2022-03-31T08:10:25.054Z"
   },
   {
    "duration": 7,
    "start_time": "2022-03-31T08:11:09.110Z"
   },
   {
    "duration": 6,
    "start_time": "2022-03-31T08:11:13.301Z"
   },
   {
    "duration": 6,
    "start_time": "2022-03-31T08:11:20.566Z"
   },
   {
    "duration": 7,
    "start_time": "2022-03-31T08:13:01.126Z"
   },
   {
    "duration": 6,
    "start_time": "2022-03-31T08:13:06.766Z"
   },
   {
    "duration": 1114,
    "start_time": "2022-03-31T08:13:15.302Z"
   },
   {
    "duration": 7,
    "start_time": "2022-03-31T08:13:24.374Z"
   },
   {
    "duration": 6,
    "start_time": "2022-03-31T08:13:27.830Z"
   },
   {
    "duration": 6,
    "start_time": "2022-03-31T08:14:18.551Z"
   },
   {
    "duration": 6,
    "start_time": "2022-03-31T08:14:23.990Z"
   },
   {
    "duration": 106,
    "start_time": "2022-03-31T08:14:49.591Z"
   },
   {
    "duration": 5,
    "start_time": "2022-03-31T08:14:57.687Z"
   },
   {
    "duration": 134,
    "start_time": "2022-03-31T08:14:58.479Z"
   },
   {
    "duration": 5,
    "start_time": "2022-03-31T08:15:17.631Z"
   },
   {
    "duration": 169,
    "start_time": "2022-03-31T08:15:19.591Z"
   },
   {
    "duration": 4,
    "start_time": "2022-03-31T08:21:37.561Z"
   },
   {
    "duration": 140,
    "start_time": "2022-03-31T08:21:54.192Z"
   },
   {
    "duration": 5,
    "start_time": "2022-03-31T08:22:12.649Z"
   },
   {
    "duration": 130,
    "start_time": "2022-03-31T08:22:17.730Z"
   },
   {
    "duration": 4,
    "start_time": "2022-03-31T08:24:34.922Z"
   },
   {
    "duration": 6,
    "start_time": "2022-03-31T08:24:36.514Z"
   },
   {
    "duration": 6,
    "start_time": "2022-03-31T08:25:00.826Z"
   },
   {
    "duration": 5,
    "start_time": "2022-03-31T08:25:04.595Z"
   },
   {
    "duration": 5,
    "start_time": "2022-03-31T08:25:06.705Z"
   },
   {
    "duration": 542,
    "start_time": "2022-03-31T08:25:13.378Z"
   },
   {
    "duration": 7,
    "start_time": "2022-03-31T08:25:25.962Z"
   },
   {
    "duration": 8,
    "start_time": "2022-03-31T08:30:42.476Z"
   },
   {
    "duration": 531,
    "start_time": "2022-03-31T08:30:58.595Z"
   },
   {
    "duration": 8,
    "start_time": "2022-03-31T08:31:00.571Z"
   },
   {
    "duration": 25,
    "start_time": "2022-03-31T08:35:13.732Z"
   },
   {
    "duration": 28,
    "start_time": "2022-03-31T08:36:09.413Z"
   },
   {
    "duration": 26,
    "start_time": "2022-03-31T08:36:30.196Z"
   },
   {
    "duration": 5,
    "start_time": "2022-03-31T08:36:40.109Z"
   },
   {
    "duration": 16,
    "start_time": "2022-03-31T08:36:47.820Z"
   },
   {
    "duration": 5,
    "start_time": "2022-03-31T08:37:12.109Z"
   },
   {
    "duration": 13,
    "start_time": "2022-03-31T08:37:17.614Z"
   },
   {
    "duration": 17,
    "start_time": "2022-03-31T08:51:45.546Z"
   },
   {
    "duration": 10,
    "start_time": "2022-03-31T08:52:03.402Z"
   },
   {
    "duration": 5,
    "start_time": "2022-03-31T08:54:08.604Z"
   },
   {
    "duration": 6,
    "start_time": "2022-03-31T09:07:00.397Z"
   },
   {
    "duration": 14,
    "start_time": "2022-03-31T09:07:08.662Z"
   },
   {
    "duration": 5,
    "start_time": "2022-03-31T09:07:25.996Z"
   },
   {
    "duration": 13,
    "start_time": "2022-03-31T09:07:26.438Z"
   },
   {
    "duration": 5,
    "start_time": "2022-03-31T09:08:56.404Z"
   },
   {
    "duration": 12,
    "start_time": "2022-03-31T09:08:57.013Z"
   },
   {
    "duration": 20,
    "start_time": "2022-03-31T09:11:39.887Z"
   },
   {
    "duration": 13,
    "start_time": "2022-03-31T09:12:03.622Z"
   },
   {
    "duration": 6,
    "start_time": "2022-03-31T09:12:36.839Z"
   },
   {
    "duration": 3,
    "start_time": "2022-03-31T09:14:03.704Z"
   },
   {
    "duration": 19,
    "start_time": "2022-03-31T09:15:10.882Z"
   },
   {
    "duration": 24,
    "start_time": "2022-03-31T09:16:07.719Z"
   },
   {
    "duration": 12,
    "start_time": "2022-03-31T09:16:12.544Z"
   },
   {
    "duration": 16,
    "start_time": "2022-03-31T09:16:23.000Z"
   },
   {
    "duration": 14,
    "start_time": "2022-03-31T09:19:42.609Z"
   },
   {
    "duration": 643,
    "start_time": "2022-03-31T09:20:02.576Z"
   },
   {
    "duration": 8,
    "start_time": "2022-03-31T09:20:06.232Z"
   },
   {
    "duration": 6,
    "start_time": "2022-03-31T09:20:38.591Z"
   },
   {
    "duration": 12,
    "start_time": "2022-03-31T09:21:37.480Z"
   },
   {
    "duration": 13,
    "start_time": "2022-03-31T09:21:44.784Z"
   },
   {
    "duration": 2027,
    "start_time": "2022-03-31T09:21:54.528Z"
   },
   {
    "duration": 11,
    "start_time": "2022-03-31T09:22:07.944Z"
   },
   {
    "duration": 7,
    "start_time": "2022-03-31T09:22:53.425Z"
   },
   {
    "duration": 5,
    "start_time": "2022-03-31T09:23:19.353Z"
   },
   {
    "duration": 625,
    "start_time": "2022-03-31T09:23:30.233Z"
   },
   {
    "duration": 11,
    "start_time": "2022-03-31T09:23:34.241Z"
   },
   {
    "duration": 11,
    "start_time": "2022-03-31T09:23:37.009Z"
   },
   {
    "duration": 10,
    "start_time": "2022-03-31T09:23:44.154Z"
   },
   {
    "duration": 6,
    "start_time": "2022-03-31T09:24:39.864Z"
   },
   {
    "duration": 609,
    "start_time": "2022-03-31T09:24:52.657Z"
   },
   {
    "duration": 6,
    "start_time": "2022-03-31T09:24:55.265Z"
   },
   {
    "duration": 14,
    "start_time": "2022-03-31T09:25:08.072Z"
   },
   {
    "duration": 12,
    "start_time": "2022-03-31T09:25:14.456Z"
   },
   {
    "duration": 14,
    "start_time": "2022-03-31T09:25:15.985Z"
   },
   {
    "duration": 10,
    "start_time": "2022-03-31T09:25:36.381Z"
   },
   {
    "duration": 5,
    "start_time": "2022-03-31T09:25:36.395Z"
   },
   {
    "duration": 21,
    "start_time": "2022-03-31T09:25:36.403Z"
   },
   {
    "duration": 21,
    "start_time": "2022-03-31T09:25:36.426Z"
   },
   {
    "duration": 34,
    "start_time": "2022-03-31T09:25:36.450Z"
   },
   {
    "duration": 23,
    "start_time": "2022-03-31T09:25:36.487Z"
   },
   {
    "duration": 17,
    "start_time": "2022-03-31T09:25:36.512Z"
   },
   {
    "duration": 6,
    "start_time": "2022-03-31T09:25:36.531Z"
   },
   {
    "duration": 49,
    "start_time": "2022-03-31T09:25:36.540Z"
   },
   {
    "duration": 13,
    "start_time": "2022-03-31T09:25:36.591Z"
   },
   {
    "duration": 11,
    "start_time": "2022-03-31T09:25:36.606Z"
   },
   {
    "duration": 6,
    "start_time": "2022-03-31T09:25:36.619Z"
   },
   {
    "duration": 13,
    "start_time": "2022-03-31T09:25:36.628Z"
   },
   {
    "duration": 51,
    "start_time": "2022-03-31T09:25:36.645Z"
   },
   {
    "duration": 13,
    "start_time": "2022-03-31T09:25:49.497Z"
   },
   {
    "duration": 6,
    "start_time": "2022-03-31T09:25:52.713Z"
   },
   {
    "duration": 4,
    "start_time": "2022-03-31T09:25:53.233Z"
   },
   {
    "duration": 605,
    "start_time": "2022-03-31T09:25:54.538Z"
   },
   {
    "duration": 12,
    "start_time": "2022-03-31T09:25:57.601Z"
   },
   {
    "duration": 7,
    "start_time": "2022-03-31T09:26:21.857Z"
   },
   {
    "duration": 13,
    "start_time": "2022-03-31T09:27:51.778Z"
   },
   {
    "duration": 15,
    "start_time": "2022-03-31T09:28:51.802Z"
   },
   {
    "duration": 4,
    "start_time": "2022-03-31T09:28:53.347Z"
   },
   {
    "duration": 5,
    "start_time": "2022-03-31T09:28:53.683Z"
   },
   {
    "duration": 615,
    "start_time": "2022-03-31T09:28:53.971Z"
   },
   {
    "duration": 10,
    "start_time": "2022-03-31T09:28:54.667Z"
   },
   {
    "duration": 12,
    "start_time": "2022-03-31T09:30:19.820Z"
   },
   {
    "duration": 7,
    "start_time": "2022-03-31T09:30:25.187Z"
   },
   {
    "duration": 584,
    "start_time": "2022-03-31T09:31:58.694Z"
   },
   {
    "duration": 10,
    "start_time": "2022-03-31T09:32:00.948Z"
   },
   {
    "duration": 616,
    "start_time": "2022-03-31T09:43:19.527Z"
   },
   {
    "duration": 10,
    "start_time": "2022-03-31T09:43:21.744Z"
   },
   {
    "duration": 593,
    "start_time": "2022-03-31T09:43:57.871Z"
   },
   {
    "duration": 10,
    "start_time": "2022-03-31T09:44:00.616Z"
   },
   {
    "duration": 11,
    "start_time": "2022-03-31T09:48:14.411Z"
   },
   {
    "duration": 10,
    "start_time": "2022-03-31T09:48:38.936Z"
   },
   {
    "duration": 14,
    "start_time": "2022-03-31T09:48:43.985Z"
   },
   {
    "duration": 606,
    "start_time": "2022-03-31T09:48:58.217Z"
   },
   {
    "duration": 5,
    "start_time": "2022-03-31T09:49:07.689Z"
   },
   {
    "duration": 5,
    "start_time": "2022-03-31T09:49:08.025Z"
   },
   {
    "duration": 645,
    "start_time": "2022-03-31T09:49:08.410Z"
   },
   {
    "duration": 10,
    "start_time": "2022-03-31T09:49:11.737Z"
   },
   {
    "duration": 14,
    "start_time": "2022-03-31T09:49:24.978Z"
   },
   {
    "duration": 24,
    "start_time": "2022-03-31T10:08:31.736Z"
   },
   {
    "duration": 1185,
    "start_time": "2022-03-31T10:08:31.763Z"
   },
   {
    "duration": 30,
    "start_time": "2022-03-31T10:08:32.950Z"
   },
   {
    "duration": 19,
    "start_time": "2022-03-31T10:08:32.982Z"
   },
   {
    "duration": 3,
    "start_time": "2022-03-31T10:08:33.003Z"
   },
   {
    "duration": 14,
    "start_time": "2022-03-31T10:08:33.007Z"
   },
   {
    "duration": 11,
    "start_time": "2022-03-31T10:08:33.022Z"
   },
   {
    "duration": 3,
    "start_time": "2022-03-31T10:08:33.034Z"
   },
   {
    "duration": 7,
    "start_time": "2022-03-31T10:08:33.039Z"
   },
   {
    "duration": 6,
    "start_time": "2022-03-31T10:08:33.047Z"
   },
   {
    "duration": 5,
    "start_time": "2022-03-31T10:08:33.055Z"
   },
   {
    "duration": 3,
    "start_time": "2022-03-31T10:08:33.062Z"
   },
   {
    "duration": 39,
    "start_time": "2022-03-31T10:08:33.066Z"
   },
   {
    "duration": 10,
    "start_time": "2022-03-31T10:08:33.107Z"
   },
   {
    "duration": 4,
    "start_time": "2022-03-31T10:08:33.118Z"
   },
   {
    "duration": 7,
    "start_time": "2022-03-31T10:08:33.123Z"
   },
   {
    "duration": 402,
    "start_time": "2022-03-31T10:08:33.131Z"
   },
   {
    "duration": 7,
    "start_time": "2022-03-31T10:08:33.534Z"
   },
   {
    "duration": 9,
    "start_time": "2022-03-31T10:08:33.542Z"
   },
   {
    "duration": 432,
    "start_time": "2022-03-31T10:09:06.728Z"
   },
   {
    "duration": 7,
    "start_time": "2022-03-31T10:09:07.840Z"
   },
   {
    "duration": 361,
    "start_time": "2022-03-31T10:09:46.751Z"
   },
   {
    "duration": 8,
    "start_time": "2022-03-31T10:09:47.751Z"
   },
   {
    "duration": 7,
    "start_time": "2022-03-31T10:10:22.400Z"
   },
   {
    "duration": 5,
    "start_time": "2022-03-31T10:10:33.872Z"
   },
   {
    "duration": 4,
    "start_time": "2022-03-31T10:10:50.984Z"
   },
   {
    "duration": 26,
    "start_time": "2022-03-31T10:11:57.633Z"
   },
   {
    "duration": 1179,
    "start_time": "2022-03-31T10:11:57.661Z"
   },
   {
    "duration": 19,
    "start_time": "2022-03-31T10:11:58.841Z"
   },
   {
    "duration": 14,
    "start_time": "2022-03-31T10:11:58.862Z"
   },
   {
    "duration": 4,
    "start_time": "2022-03-31T10:11:58.878Z"
   },
   {
    "duration": 22,
    "start_time": "2022-03-31T10:11:58.883Z"
   },
   {
    "duration": 12,
    "start_time": "2022-03-31T10:11:58.907Z"
   },
   {
    "duration": 5,
    "start_time": "2022-03-31T10:11:58.920Z"
   },
   {
    "duration": 7,
    "start_time": "2022-03-31T10:11:58.926Z"
   },
   {
    "duration": 7,
    "start_time": "2022-03-31T10:11:58.935Z"
   },
   {
    "duration": 6,
    "start_time": "2022-03-31T10:11:58.943Z"
   },
   {
    "duration": 5,
    "start_time": "2022-03-31T10:11:58.950Z"
   },
   {
    "duration": 11,
    "start_time": "2022-03-31T10:11:58.957Z"
   },
   {
    "duration": 39,
    "start_time": "2022-03-31T10:11:58.970Z"
   },
   {
    "duration": 3,
    "start_time": "2022-03-31T10:11:59.011Z"
   },
   {
    "duration": 7,
    "start_time": "2022-03-31T10:11:59.015Z"
   },
   {
    "duration": 406,
    "start_time": "2022-03-31T10:11:59.023Z"
   },
   {
    "duration": 8,
    "start_time": "2022-03-31T10:11:59.430Z"
   },
   {
    "duration": 19,
    "start_time": "2022-03-31T10:11:59.440Z"
   },
   {
    "duration": 5,
    "start_time": "2022-03-31T10:12:23.277Z"
   },
   {
    "duration": 62442,
    "start_time": "2022-04-01T05:50:33.782Z"
   },
   {
    "duration": 21,
    "start_time": "2022-04-01T05:51:36.226Z"
   },
   {
    "duration": 28,
    "start_time": "2022-04-01T05:51:36.249Z"
   },
   {
    "duration": 5,
    "start_time": "2022-04-01T05:51:36.279Z"
   },
   {
    "duration": 18,
    "start_time": "2022-04-01T05:51:36.286Z"
   },
   {
    "duration": 14,
    "start_time": "2022-04-01T05:51:36.306Z"
   },
   {
    "duration": 5,
    "start_time": "2022-04-01T05:51:36.322Z"
   },
   {
    "duration": 11,
    "start_time": "2022-04-01T05:51:36.329Z"
   },
   {
    "duration": 11,
    "start_time": "2022-04-01T05:51:36.343Z"
   },
   {
    "duration": 20,
    "start_time": "2022-04-01T05:51:36.357Z"
   },
   {
    "duration": 5,
    "start_time": "2022-04-01T05:56:21.376Z"
   },
   {
    "duration": 10,
    "start_time": "2022-04-01T05:56:55.757Z"
   },
   {
    "duration": 13,
    "start_time": "2022-04-01T05:56:57.175Z"
   },
   {
    "duration": 6,
    "start_time": "2022-04-01T05:56:58.523Z"
   },
   {
    "duration": 4,
    "start_time": "2022-04-01T05:56:58.884Z"
   },
   {
    "duration": 602,
    "start_time": "2022-04-01T05:56:59.487Z"
   },
   {
    "duration": 10,
    "start_time": "2022-04-01T05:57:00.092Z"
   },
   {
    "duration": 6,
    "start_time": "2022-04-01T05:57:01.372Z"
   },
   {
    "duration": 13,
    "start_time": "2022-04-01T05:57:51.800Z"
   },
   {
    "duration": 22,
    "start_time": "2022-04-01T13:26:08.072Z"
   },
   {
    "duration": 1142,
    "start_time": "2022-04-01T13:26:08.096Z"
   },
   {
    "duration": 13,
    "start_time": "2022-04-01T13:26:09.239Z"
   },
   {
    "duration": 16,
    "start_time": "2022-04-01T13:26:09.254Z"
   },
   {
    "duration": 3,
    "start_time": "2022-04-01T13:26:09.272Z"
   },
   {
    "duration": 15,
    "start_time": "2022-04-01T13:26:09.276Z"
   },
   {
    "duration": 22,
    "start_time": "2022-04-01T13:26:09.293Z"
   },
   {
    "duration": 4,
    "start_time": "2022-04-01T13:26:09.317Z"
   },
   {
    "duration": 10,
    "start_time": "2022-04-01T13:26:09.322Z"
   },
   {
    "duration": 6,
    "start_time": "2022-04-01T13:26:09.334Z"
   },
   {
    "duration": 6,
    "start_time": "2022-04-01T13:26:09.342Z"
   },
   {
    "duration": 10,
    "start_time": "2022-04-01T13:26:09.349Z"
   },
   {
    "duration": 13,
    "start_time": "2022-04-01T13:26:09.361Z"
   },
   {
    "duration": 39,
    "start_time": "2022-04-01T13:26:09.376Z"
   },
   {
    "duration": 4,
    "start_time": "2022-04-01T13:26:09.416Z"
   },
   {
    "duration": 6,
    "start_time": "2022-04-01T13:26:09.421Z"
   },
   {
    "duration": 434,
    "start_time": "2022-04-01T13:26:09.429Z"
   },
   {
    "duration": 8,
    "start_time": "2022-04-01T13:26:09.864Z"
   },
   {
    "duration": 9,
    "start_time": "2022-04-01T13:26:09.874Z"
   },
   {
    "duration": 61,
    "start_time": "2022-04-01T14:22:23.485Z"
   },
   {
    "duration": 63,
    "start_time": "2022-04-01T14:31:19.251Z"
   },
   {
    "duration": 158,
    "start_time": "2022-04-01T22:30:38.438Z"
   }
  ],
  "kernelspec": {
   "display_name": "Python 3 (ipykernel)",
   "language": "python",
   "name": "python3"
  },
  "language_info": {
   "codemirror_mode": {
    "name": "ipython",
    "version": 3
   },
   "file_extension": ".py",
   "mimetype": "text/x-python",
   "name": "python",
   "nbconvert_exporter": "python",
   "pygments_lexer": "ipython3",
   "version": "3.9.0"
  },
  "toc": {
   "base_numbering": 1,
   "nav_menu": {},
   "number_sections": true,
   "sideBar": true,
   "skip_h1_title": true,
   "title_cell": "Содержание",
   "title_sidebar": "Contents",
   "toc_cell": true,
   "toc_position": {},
   "toc_section_display": true,
   "toc_window_display": true
  }
 },
 "nbformat": 4,
 "nbformat_minor": 2
}
