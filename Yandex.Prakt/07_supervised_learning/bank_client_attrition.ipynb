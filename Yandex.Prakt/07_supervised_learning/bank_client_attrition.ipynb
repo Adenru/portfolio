{
 "cells": [
  {
   "cell_type": "markdown",
   "metadata": {
    "toc": true
   },
   "source": [
    "<h1>Содержание<span class=\"tocSkip\"></span></h1>\n",
    "<div class=\"toc\"><ul class=\"toc-item\"><li><span><a href=\"#Подготовка-данных\" data-toc-modified-id=\"Подготовка-данных-1\"><span class=\"toc-item-num\">1&nbsp;&nbsp;</span>Подготовка данных</a></span><ul class=\"toc-item\"><li><span><a href=\"#Первичная-обработка\" data-toc-modified-id=\"Первичная-обработка-1.1\"><span class=\"toc-item-num\">1.1&nbsp;&nbsp;</span>Первичная обработка</a></span></li><li><span><a href=\"#Работа-с-пропусками\" data-toc-modified-id=\"Работа-с-пропусками-1.2\"><span class=\"toc-item-num\">1.2&nbsp;&nbsp;</span>Работа с пропусками</a></span></li><li><span><a href=\"#Остальные-столбцы\" data-toc-modified-id=\"Остальные-столбцы-1.3\"><span class=\"toc-item-num\">1.3&nbsp;&nbsp;</span>Остальные столбцы</a></span></li></ul></li><li><span><a href=\"#Исследование-задачи\" data-toc-modified-id=\"Исследование-задачи-2\"><span class=\"toc-item-num\">2&nbsp;&nbsp;</span>Исследование задачи</a></span><ul class=\"toc-item\"><li><span><a href=\"#Срок-договора-с-банком\" data-toc-modified-id=\"Срок-договора-с-банком-2.1\"><span class=\"toc-item-num\">2.1&nbsp;&nbsp;</span>Срок договора с банком</a></span></li><li><span><a href=\"#Возраст\" data-toc-modified-id=\"Возраст-2.2\"><span class=\"toc-item-num\">2.2&nbsp;&nbsp;</span>Возраст</a></span></li><li><span><a href=\"#Страна\" data-toc-modified-id=\"Страна-2.3\"><span class=\"toc-item-num\">2.3&nbsp;&nbsp;</span>Страна</a></span></li><li><span><a href=\"#Кредитный-рейтинг,-баланс,-примерная-зарплата\" data-toc-modified-id=\"Кредитный-рейтинг,-баланс,-примерная-зарплата-2.4\"><span class=\"toc-item-num\">2.4&nbsp;&nbsp;</span>Кредитный рейтинг, баланс, примерная зарплата</a></span></li><li><span><a href=\"#Количество-продуктов,-пол,-кредитная-карта,-активность.\" data-toc-modified-id=\"Количество-продуктов,-пол,-кредитная-карта,-активность.-2.5\"><span class=\"toc-item-num\">2.5&nbsp;&nbsp;</span>Количество продуктов, пол, кредитная карта, активность.</a></span></li><li><span><a href=\"#Вывод\" data-toc-modified-id=\"Вывод-2.6\"><span class=\"toc-item-num\">2.6&nbsp;&nbsp;</span>Вывод</a></span></li></ul></li><li><span><a href=\"#Борьба-с-дисбалансом\" data-toc-modified-id=\"Борьба-с-дисбалансом-3\"><span class=\"toc-item-num\">3&nbsp;&nbsp;</span>Борьба с дисбалансом</a></span><ul class=\"toc-item\"><li><span><a href=\"#Без-учёта-баланса\" data-toc-modified-id=\"Без-учёта-баланса-3.1\"><span class=\"toc-item-num\">3.1&nbsp;&nbsp;</span>Без учёта баланса</a></span><ul class=\"toc-item\"><li><span><a href=\"#Случайный-лес\" data-toc-modified-id=\"Случайный-лес-3.1.1\"><span class=\"toc-item-num\">3.1.1&nbsp;&nbsp;</span>Случайный лес</a></span></li><li><span><a href=\"#Градиентный-бустинг\" data-toc-modified-id=\"Градиентный-бустинг-3.1.2\"><span class=\"toc-item-num\">3.1.2&nbsp;&nbsp;</span>Градиентный бустинг</a></span></li></ul></li><li><span><a href=\"#С-балансированием\" data-toc-modified-id=\"С-балансированием-3.2\"><span class=\"toc-item-num\">3.2&nbsp;&nbsp;</span>С балансированием</a></span><ul class=\"toc-item\"><li><span><a href=\"#Случайный-лес\" data-toc-modified-id=\"Случайный-лес-3.2.1\"><span class=\"toc-item-num\">3.2.1&nbsp;&nbsp;</span>Случайный лес</a></span></li><li><span><a href=\"#Градиентный-бустинг\" data-toc-modified-id=\"Градиентный-бустинг-3.2.2\"><span class=\"toc-item-num\">3.2.2&nbsp;&nbsp;</span>Градиентный бустинг</a></span></li></ul></li></ul></li><li><span><a href=\"#Тестирование-модели\" data-toc-modified-id=\"Тестирование-модели-4\"><span class=\"toc-item-num\">4&nbsp;&nbsp;</span>Тестирование модели</a></span><ul class=\"toc-item\"><li><span><a href=\"#Поиск-оптимальных-гиперпараметров\" data-toc-modified-id=\"Поиск-оптимальных-гиперпараметров-4.1\"><span class=\"toc-item-num\">4.1&nbsp;&nbsp;</span>Поиск оптимальных гиперпараметров</a></span><ul class=\"toc-item\"><li><span><a href=\"#Градиентный-бустинг\" data-toc-modified-id=\"Градиентный-бустинг-4.1.1\"><span class=\"toc-item-num\">4.1.1&nbsp;&nbsp;</span>Градиентный бустинг</a></span></li><li><span><a href=\"#Случайный-лес\" data-toc-modified-id=\"Случайный-лес-4.1.2\"><span class=\"toc-item-num\">4.1.2&nbsp;&nbsp;</span>Случайный лес</a></span></li><li><span><a href=\"#Лучшая-модель\" data-toc-modified-id=\"Лучшая-модель-4.1.3\"><span class=\"toc-item-num\">4.1.3&nbsp;&nbsp;</span>Лучшая модель</a></span></li></ul></li><li><span><a href=\"#Проверка-на-тестовой-выборке\" data-toc-modified-id=\"Проверка-на-тестовой-выборке-4.2\"><span class=\"toc-item-num\">4.2&nbsp;&nbsp;</span>Проверка на тестовой выборке</a></span></li><li><span><a href=\"#Кросс-валидация\" data-toc-modified-id=\"Кросс-валидация-4.3\"><span class=\"toc-item-num\">4.3&nbsp;&nbsp;</span>Кросс-валидация</a></span></li></ul></li><li><span><a href=\"#Итоговый-вовод\" data-toc-modified-id=\"Итоговый-вовод-5\"><span class=\"toc-item-num\">5&nbsp;&nbsp;</span>Итоговый вовод</a></span></li><li><span><a href=\"#Чек-лист-готовности-проекта\" data-toc-modified-id=\"Чек-лист-готовности-проекта-6\"><span class=\"toc-item-num\">6&nbsp;&nbsp;</span>Чек-лист готовности проекта</a></span></li></ul></div>"
   ]
  },
  {
   "cell_type": "code",
   "execution_count": 1,
   "metadata": {},
   "outputs": [
    {
     "data": {
      "text/plain": [
       "{'CodeCell': {'cm_config': {'autoCloseBrackets': False}}}"
      ]
     },
     "execution_count": 1,
     "metadata": {},
     "output_type": "execute_result"
    }
   ],
   "source": [
    "from notebook.services.config import ConfigManager\n",
    "c = ConfigManager()\n",
    "c.update('notebook', {\"CodeCell\": {\"cm_config\": {\"autoCloseBrackets\": False}}})"
   ]
  },
  {
   "cell_type": "markdown",
   "metadata": {},
   "source": [
    "# Отток клиентов"
   ]
  },
  {
   "cell_type": "markdown",
   "metadata": {},
   "source": [
    "Из «Бета-Банка» стали уходить клиенты. Каждый месяц. Немного, но заметно. Банковские маркетологи посчитали: сохранять текущих клиентов дешевле, чем привлекать новых.\n",
    "\n",
    "Нужно спрогнозировать, уйдёт клиент из банка в ближайшее время или нет. Вам предоставлены исторические данные о поведении клиентов и расторжении договоров с банком. \n",
    "\n",
    "Постройте модель с предельно большим значением *F1*-меры. Чтобы сдать проект успешно, нужно довести метрику до 0.59. Проверьте *F1*-меру на тестовой выборке самостоятельно.\n",
    "\n",
    "Дополнительно измеряйте *AUC-ROC*, сравнивайте её значение с *F1*-мерой.\n",
    "\n",
    "Источник данных: [https://www.kaggle.com/barelydedicated/bank-customer-churn-modeling](https://www.kaggle.com/barelydedicated/bank-customer-churn-modeling)"
   ]
  },
  {
   "cell_type": "code",
   "execution_count": 2,
   "metadata": {},
   "outputs": [],
   "source": [
    "import pandas as pd"
   ]
  },
  {
   "cell_type": "code",
   "execution_count": 3,
   "metadata": {},
   "outputs": [],
   "source": [
    "import seaborn as sns\n",
    "import matplotlib.pyplot as plt"
   ]
  },
  {
   "cell_type": "code",
   "execution_count": 4,
   "metadata": {},
   "outputs": [],
   "source": [
    "from sklearn.model_selection import train_test_split\n",
    "from sklearn.ensemble import RandomForestClassifier,GradientBoostingClassifier\n",
    "#from sklearn.dummy import DummyClassifier"
   ]
  },
  {
   "cell_type": "code",
   "execution_count": 5,
   "metadata": {},
   "outputs": [],
   "source": [
    "from sklearn.preprocessing import StandardScaler, OneHotEncoder\n",
    "from sklearn.pipeline import make_pipeline\n",
    "from sklearn.compose import ColumnTransformer"
   ]
  },
  {
   "cell_type": "code",
   "execution_count": 6,
   "metadata": {},
   "outputs": [],
   "source": [
    "from sklearn.metrics import f1_score, roc_auc_score\n",
    "from sklearn.utils import shuffle"
   ]
  },
  {
   "cell_type": "code",
   "execution_count": 7,
   "metadata": {},
   "outputs": [],
   "source": [
    "from sklearn.model_selection import KFold"
   ]
  },
  {
   "cell_type": "code",
   "execution_count": 8,
   "metadata": {},
   "outputs": [],
   "source": [
    "#import random"
   ]
  },
  {
   "cell_type": "markdown",
   "metadata": {},
   "source": [
    "## Подготовка данных"
   ]
  },
  {
   "cell_type": "markdown",
   "metadata": {},
   "source": [
    "### Первичная обработка"
   ]
  },
  {
   "cell_type": "code",
   "execution_count": 9,
   "metadata": {},
   "outputs": [],
   "source": [
    "df = pd.read_csv('/datasets/Churn.csv').drop_duplicates()"
   ]
  },
  {
   "cell_type": "code",
   "execution_count": 10,
   "metadata": {},
   "outputs": [
    {
     "data": {
      "text/html": [
       "<div>\n",
       "<style scoped>\n",
       "    .dataframe tbody tr th:only-of-type {\n",
       "        vertical-align: middle;\n",
       "    }\n",
       "\n",
       "    .dataframe tbody tr th {\n",
       "        vertical-align: top;\n",
       "    }\n",
       "\n",
       "    .dataframe thead th {\n",
       "        text-align: right;\n",
       "    }\n",
       "</style>\n",
       "<table border=\"1\" class=\"dataframe\">\n",
       "  <thead>\n",
       "    <tr style=\"text-align: right;\">\n",
       "      <th></th>\n",
       "      <th>RowNumber</th>\n",
       "      <th>CustomerId</th>\n",
       "      <th>Surname</th>\n",
       "      <th>CreditScore</th>\n",
       "      <th>Geography</th>\n",
       "      <th>Gender</th>\n",
       "      <th>Age</th>\n",
       "      <th>Tenure</th>\n",
       "      <th>Balance</th>\n",
       "      <th>NumOfProducts</th>\n",
       "      <th>HasCrCard</th>\n",
       "      <th>IsActiveMember</th>\n",
       "      <th>EstimatedSalary</th>\n",
       "      <th>Exited</th>\n",
       "    </tr>\n",
       "  </thead>\n",
       "  <tbody>\n",
       "    <tr>\n",
       "      <td>0</td>\n",
       "      <td>1</td>\n",
       "      <td>15634602</td>\n",
       "      <td>Hargrave</td>\n",
       "      <td>619</td>\n",
       "      <td>France</td>\n",
       "      <td>Female</td>\n",
       "      <td>42</td>\n",
       "      <td>2.0</td>\n",
       "      <td>0.00</td>\n",
       "      <td>1</td>\n",
       "      <td>1</td>\n",
       "      <td>1</td>\n",
       "      <td>101348.88</td>\n",
       "      <td>1</td>\n",
       "    </tr>\n",
       "    <tr>\n",
       "      <td>1</td>\n",
       "      <td>2</td>\n",
       "      <td>15647311</td>\n",
       "      <td>Hill</td>\n",
       "      <td>608</td>\n",
       "      <td>Spain</td>\n",
       "      <td>Female</td>\n",
       "      <td>41</td>\n",
       "      <td>1.0</td>\n",
       "      <td>83807.86</td>\n",
       "      <td>1</td>\n",
       "      <td>0</td>\n",
       "      <td>1</td>\n",
       "      <td>112542.58</td>\n",
       "      <td>0</td>\n",
       "    </tr>\n",
       "    <tr>\n",
       "      <td>2</td>\n",
       "      <td>3</td>\n",
       "      <td>15619304</td>\n",
       "      <td>Onio</td>\n",
       "      <td>502</td>\n",
       "      <td>France</td>\n",
       "      <td>Female</td>\n",
       "      <td>42</td>\n",
       "      <td>8.0</td>\n",
       "      <td>159660.80</td>\n",
       "      <td>3</td>\n",
       "      <td>1</td>\n",
       "      <td>0</td>\n",
       "      <td>113931.57</td>\n",
       "      <td>1</td>\n",
       "    </tr>\n",
       "    <tr>\n",
       "      <td>3</td>\n",
       "      <td>4</td>\n",
       "      <td>15701354</td>\n",
       "      <td>Boni</td>\n",
       "      <td>699</td>\n",
       "      <td>France</td>\n",
       "      <td>Female</td>\n",
       "      <td>39</td>\n",
       "      <td>1.0</td>\n",
       "      <td>0.00</td>\n",
       "      <td>2</td>\n",
       "      <td>0</td>\n",
       "      <td>0</td>\n",
       "      <td>93826.63</td>\n",
       "      <td>0</td>\n",
       "    </tr>\n",
       "    <tr>\n",
       "      <td>4</td>\n",
       "      <td>5</td>\n",
       "      <td>15737888</td>\n",
       "      <td>Mitchell</td>\n",
       "      <td>850</td>\n",
       "      <td>Spain</td>\n",
       "      <td>Female</td>\n",
       "      <td>43</td>\n",
       "      <td>2.0</td>\n",
       "      <td>125510.82</td>\n",
       "      <td>1</td>\n",
       "      <td>1</td>\n",
       "      <td>1</td>\n",
       "      <td>79084.10</td>\n",
       "      <td>0</td>\n",
       "    </tr>\n",
       "    <tr>\n",
       "      <td>...</td>\n",
       "      <td>...</td>\n",
       "      <td>...</td>\n",
       "      <td>...</td>\n",
       "      <td>...</td>\n",
       "      <td>...</td>\n",
       "      <td>...</td>\n",
       "      <td>...</td>\n",
       "      <td>...</td>\n",
       "      <td>...</td>\n",
       "      <td>...</td>\n",
       "      <td>...</td>\n",
       "      <td>...</td>\n",
       "      <td>...</td>\n",
       "      <td>...</td>\n",
       "    </tr>\n",
       "    <tr>\n",
       "      <td>9995</td>\n",
       "      <td>9996</td>\n",
       "      <td>15606229</td>\n",
       "      <td>Obijiaku</td>\n",
       "      <td>771</td>\n",
       "      <td>France</td>\n",
       "      <td>Male</td>\n",
       "      <td>39</td>\n",
       "      <td>5.0</td>\n",
       "      <td>0.00</td>\n",
       "      <td>2</td>\n",
       "      <td>1</td>\n",
       "      <td>0</td>\n",
       "      <td>96270.64</td>\n",
       "      <td>0</td>\n",
       "    </tr>\n",
       "    <tr>\n",
       "      <td>9996</td>\n",
       "      <td>9997</td>\n",
       "      <td>15569892</td>\n",
       "      <td>Johnstone</td>\n",
       "      <td>516</td>\n",
       "      <td>France</td>\n",
       "      <td>Male</td>\n",
       "      <td>35</td>\n",
       "      <td>10.0</td>\n",
       "      <td>57369.61</td>\n",
       "      <td>1</td>\n",
       "      <td>1</td>\n",
       "      <td>1</td>\n",
       "      <td>101699.77</td>\n",
       "      <td>0</td>\n",
       "    </tr>\n",
       "    <tr>\n",
       "      <td>9997</td>\n",
       "      <td>9998</td>\n",
       "      <td>15584532</td>\n",
       "      <td>Liu</td>\n",
       "      <td>709</td>\n",
       "      <td>France</td>\n",
       "      <td>Female</td>\n",
       "      <td>36</td>\n",
       "      <td>7.0</td>\n",
       "      <td>0.00</td>\n",
       "      <td>1</td>\n",
       "      <td>0</td>\n",
       "      <td>1</td>\n",
       "      <td>42085.58</td>\n",
       "      <td>1</td>\n",
       "    </tr>\n",
       "    <tr>\n",
       "      <td>9998</td>\n",
       "      <td>9999</td>\n",
       "      <td>15682355</td>\n",
       "      <td>Sabbatini</td>\n",
       "      <td>772</td>\n",
       "      <td>Germany</td>\n",
       "      <td>Male</td>\n",
       "      <td>42</td>\n",
       "      <td>3.0</td>\n",
       "      <td>75075.31</td>\n",
       "      <td>2</td>\n",
       "      <td>1</td>\n",
       "      <td>0</td>\n",
       "      <td>92888.52</td>\n",
       "      <td>1</td>\n",
       "    </tr>\n",
       "    <tr>\n",
       "      <td>9999</td>\n",
       "      <td>10000</td>\n",
       "      <td>15628319</td>\n",
       "      <td>Walker</td>\n",
       "      <td>792</td>\n",
       "      <td>France</td>\n",
       "      <td>Female</td>\n",
       "      <td>28</td>\n",
       "      <td>NaN</td>\n",
       "      <td>130142.79</td>\n",
       "      <td>1</td>\n",
       "      <td>1</td>\n",
       "      <td>0</td>\n",
       "      <td>38190.78</td>\n",
       "      <td>0</td>\n",
       "    </tr>\n",
       "  </tbody>\n",
       "</table>\n",
       "<p>10000 rows × 14 columns</p>\n",
       "</div>"
      ],
      "text/plain": [
       "      RowNumber  CustomerId    Surname  CreditScore Geography  Gender  Age  \\\n",
       "0             1    15634602   Hargrave          619    France  Female   42   \n",
       "1             2    15647311       Hill          608     Spain  Female   41   \n",
       "2             3    15619304       Onio          502    France  Female   42   \n",
       "3             4    15701354       Boni          699    France  Female   39   \n",
       "4             5    15737888   Mitchell          850     Spain  Female   43   \n",
       "...         ...         ...        ...          ...       ...     ...  ...   \n",
       "9995       9996    15606229   Obijiaku          771    France    Male   39   \n",
       "9996       9997    15569892  Johnstone          516    France    Male   35   \n",
       "9997       9998    15584532        Liu          709    France  Female   36   \n",
       "9998       9999    15682355  Sabbatini          772   Germany    Male   42   \n",
       "9999      10000    15628319     Walker          792    France  Female   28   \n",
       "\n",
       "      Tenure    Balance  NumOfProducts  HasCrCard  IsActiveMember  \\\n",
       "0        2.0       0.00              1          1               1   \n",
       "1        1.0   83807.86              1          0               1   \n",
       "2        8.0  159660.80              3          1               0   \n",
       "3        1.0       0.00              2          0               0   \n",
       "4        2.0  125510.82              1          1               1   \n",
       "...      ...        ...            ...        ...             ...   \n",
       "9995     5.0       0.00              2          1               0   \n",
       "9996    10.0   57369.61              1          1               1   \n",
       "9997     7.0       0.00              1          0               1   \n",
       "9998     3.0   75075.31              2          1               0   \n",
       "9999     NaN  130142.79              1          1               0   \n",
       "\n",
       "      EstimatedSalary  Exited  \n",
       "0           101348.88       1  \n",
       "1           112542.58       0  \n",
       "2           113931.57       1  \n",
       "3            93826.63       0  \n",
       "4            79084.10       0  \n",
       "...               ...     ...  \n",
       "9995         96270.64       0  \n",
       "9996        101699.77       0  \n",
       "9997         42085.58       1  \n",
       "9998         92888.52       1  \n",
       "9999         38190.78       0  \n",
       "\n",
       "[10000 rows x 14 columns]"
      ]
     },
     "execution_count": 10,
     "metadata": {},
     "output_type": "execute_result"
    }
   ],
   "source": [
    "df"
   ]
  },
  {
   "cell_type": "code",
   "execution_count": 11,
   "metadata": {},
   "outputs": [
    {
     "data": {
      "text/html": [
       "<div>\n",
       "<style scoped>\n",
       "    .dataframe tbody tr th:only-of-type {\n",
       "        vertical-align: middle;\n",
       "    }\n",
       "\n",
       "    .dataframe tbody tr th {\n",
       "        vertical-align: top;\n",
       "    }\n",
       "\n",
       "    .dataframe thead th {\n",
       "        text-align: right;\n",
       "    }\n",
       "</style>\n",
       "<table border=\"1\" class=\"dataframe\">\n",
       "  <thead>\n",
       "    <tr style=\"text-align: right;\">\n",
       "      <th></th>\n",
       "      <th>rownumber</th>\n",
       "      <th>customerid</th>\n",
       "      <th>surname</th>\n",
       "      <th>creditscore</th>\n",
       "      <th>geography</th>\n",
       "      <th>gender</th>\n",
       "      <th>age</th>\n",
       "      <th>tenure</th>\n",
       "      <th>balance</th>\n",
       "      <th>numofproducts</th>\n",
       "      <th>hascrcard</th>\n",
       "      <th>isactivemember</th>\n",
       "      <th>estimatedsalary</th>\n",
       "      <th>exited</th>\n",
       "    </tr>\n",
       "  </thead>\n",
       "  <tbody>\n",
       "    <tr>\n",
       "      <td>0</td>\n",
       "      <td>1</td>\n",
       "      <td>15634602</td>\n",
       "      <td>Hargrave</td>\n",
       "      <td>619</td>\n",
       "      <td>France</td>\n",
       "      <td>Female</td>\n",
       "      <td>42</td>\n",
       "      <td>2.0</td>\n",
       "      <td>0.00</td>\n",
       "      <td>1</td>\n",
       "      <td>1</td>\n",
       "      <td>1</td>\n",
       "      <td>101348.88</td>\n",
       "      <td>1</td>\n",
       "    </tr>\n",
       "    <tr>\n",
       "      <td>1</td>\n",
       "      <td>2</td>\n",
       "      <td>15647311</td>\n",
       "      <td>Hill</td>\n",
       "      <td>608</td>\n",
       "      <td>Spain</td>\n",
       "      <td>Female</td>\n",
       "      <td>41</td>\n",
       "      <td>1.0</td>\n",
       "      <td>83807.86</td>\n",
       "      <td>1</td>\n",
       "      <td>0</td>\n",
       "      <td>1</td>\n",
       "      <td>112542.58</td>\n",
       "      <td>0</td>\n",
       "    </tr>\n",
       "    <tr>\n",
       "      <td>2</td>\n",
       "      <td>3</td>\n",
       "      <td>15619304</td>\n",
       "      <td>Onio</td>\n",
       "      <td>502</td>\n",
       "      <td>France</td>\n",
       "      <td>Female</td>\n",
       "      <td>42</td>\n",
       "      <td>8.0</td>\n",
       "      <td>159660.80</td>\n",
       "      <td>3</td>\n",
       "      <td>1</td>\n",
       "      <td>0</td>\n",
       "      <td>113931.57</td>\n",
       "      <td>1</td>\n",
       "    </tr>\n",
       "    <tr>\n",
       "      <td>3</td>\n",
       "      <td>4</td>\n",
       "      <td>15701354</td>\n",
       "      <td>Boni</td>\n",
       "      <td>699</td>\n",
       "      <td>France</td>\n",
       "      <td>Female</td>\n",
       "      <td>39</td>\n",
       "      <td>1.0</td>\n",
       "      <td>0.00</td>\n",
       "      <td>2</td>\n",
       "      <td>0</td>\n",
       "      <td>0</td>\n",
       "      <td>93826.63</td>\n",
       "      <td>0</td>\n",
       "    </tr>\n",
       "    <tr>\n",
       "      <td>4</td>\n",
       "      <td>5</td>\n",
       "      <td>15737888</td>\n",
       "      <td>Mitchell</td>\n",
       "      <td>850</td>\n",
       "      <td>Spain</td>\n",
       "      <td>Female</td>\n",
       "      <td>43</td>\n",
       "      <td>2.0</td>\n",
       "      <td>125510.82</td>\n",
       "      <td>1</td>\n",
       "      <td>1</td>\n",
       "      <td>1</td>\n",
       "      <td>79084.10</td>\n",
       "      <td>0</td>\n",
       "    </tr>\n",
       "    <tr>\n",
       "      <td>...</td>\n",
       "      <td>...</td>\n",
       "      <td>...</td>\n",
       "      <td>...</td>\n",
       "      <td>...</td>\n",
       "      <td>...</td>\n",
       "      <td>...</td>\n",
       "      <td>...</td>\n",
       "      <td>...</td>\n",
       "      <td>...</td>\n",
       "      <td>...</td>\n",
       "      <td>...</td>\n",
       "      <td>...</td>\n",
       "      <td>...</td>\n",
       "      <td>...</td>\n",
       "    </tr>\n",
       "    <tr>\n",
       "      <td>9995</td>\n",
       "      <td>9996</td>\n",
       "      <td>15606229</td>\n",
       "      <td>Obijiaku</td>\n",
       "      <td>771</td>\n",
       "      <td>France</td>\n",
       "      <td>Male</td>\n",
       "      <td>39</td>\n",
       "      <td>5.0</td>\n",
       "      <td>0.00</td>\n",
       "      <td>2</td>\n",
       "      <td>1</td>\n",
       "      <td>0</td>\n",
       "      <td>96270.64</td>\n",
       "      <td>0</td>\n",
       "    </tr>\n",
       "    <tr>\n",
       "      <td>9996</td>\n",
       "      <td>9997</td>\n",
       "      <td>15569892</td>\n",
       "      <td>Johnstone</td>\n",
       "      <td>516</td>\n",
       "      <td>France</td>\n",
       "      <td>Male</td>\n",
       "      <td>35</td>\n",
       "      <td>10.0</td>\n",
       "      <td>57369.61</td>\n",
       "      <td>1</td>\n",
       "      <td>1</td>\n",
       "      <td>1</td>\n",
       "      <td>101699.77</td>\n",
       "      <td>0</td>\n",
       "    </tr>\n",
       "    <tr>\n",
       "      <td>9997</td>\n",
       "      <td>9998</td>\n",
       "      <td>15584532</td>\n",
       "      <td>Liu</td>\n",
       "      <td>709</td>\n",
       "      <td>France</td>\n",
       "      <td>Female</td>\n",
       "      <td>36</td>\n",
       "      <td>7.0</td>\n",
       "      <td>0.00</td>\n",
       "      <td>1</td>\n",
       "      <td>0</td>\n",
       "      <td>1</td>\n",
       "      <td>42085.58</td>\n",
       "      <td>1</td>\n",
       "    </tr>\n",
       "    <tr>\n",
       "      <td>9998</td>\n",
       "      <td>9999</td>\n",
       "      <td>15682355</td>\n",
       "      <td>Sabbatini</td>\n",
       "      <td>772</td>\n",
       "      <td>Germany</td>\n",
       "      <td>Male</td>\n",
       "      <td>42</td>\n",
       "      <td>3.0</td>\n",
       "      <td>75075.31</td>\n",
       "      <td>2</td>\n",
       "      <td>1</td>\n",
       "      <td>0</td>\n",
       "      <td>92888.52</td>\n",
       "      <td>1</td>\n",
       "    </tr>\n",
       "    <tr>\n",
       "      <td>9999</td>\n",
       "      <td>10000</td>\n",
       "      <td>15628319</td>\n",
       "      <td>Walker</td>\n",
       "      <td>792</td>\n",
       "      <td>France</td>\n",
       "      <td>Female</td>\n",
       "      <td>28</td>\n",
       "      <td>NaN</td>\n",
       "      <td>130142.79</td>\n",
       "      <td>1</td>\n",
       "      <td>1</td>\n",
       "      <td>0</td>\n",
       "      <td>38190.78</td>\n",
       "      <td>0</td>\n",
       "    </tr>\n",
       "  </tbody>\n",
       "</table>\n",
       "<p>10000 rows × 14 columns</p>\n",
       "</div>"
      ],
      "text/plain": [
       "      rownumber  customerid    surname  creditscore geography  gender  age  \\\n",
       "0             1    15634602   Hargrave          619    France  Female   42   \n",
       "1             2    15647311       Hill          608     Spain  Female   41   \n",
       "2             3    15619304       Onio          502    France  Female   42   \n",
       "3             4    15701354       Boni          699    France  Female   39   \n",
       "4             5    15737888   Mitchell          850     Spain  Female   43   \n",
       "...         ...         ...        ...          ...       ...     ...  ...   \n",
       "9995       9996    15606229   Obijiaku          771    France    Male   39   \n",
       "9996       9997    15569892  Johnstone          516    France    Male   35   \n",
       "9997       9998    15584532        Liu          709    France  Female   36   \n",
       "9998       9999    15682355  Sabbatini          772   Germany    Male   42   \n",
       "9999      10000    15628319     Walker          792    France  Female   28   \n",
       "\n",
       "      tenure    balance  numofproducts  hascrcard  isactivemember  \\\n",
       "0        2.0       0.00              1          1               1   \n",
       "1        1.0   83807.86              1          0               1   \n",
       "2        8.0  159660.80              3          1               0   \n",
       "3        1.0       0.00              2          0               0   \n",
       "4        2.0  125510.82              1          1               1   \n",
       "...      ...        ...            ...        ...             ...   \n",
       "9995     5.0       0.00              2          1               0   \n",
       "9996    10.0   57369.61              1          1               1   \n",
       "9997     7.0       0.00              1          0               1   \n",
       "9998     3.0   75075.31              2          1               0   \n",
       "9999     NaN  130142.79              1          1               0   \n",
       "\n",
       "      estimatedsalary  exited  \n",
       "0           101348.88       1  \n",
       "1           112542.58       0  \n",
       "2           113931.57       1  \n",
       "3            93826.63       0  \n",
       "4            79084.10       0  \n",
       "...               ...     ...  \n",
       "9995         96270.64       0  \n",
       "9996        101699.77       0  \n",
       "9997         42085.58       1  \n",
       "9998         92888.52       1  \n",
       "9999         38190.78       0  \n",
       "\n",
       "[10000 rows x 14 columns]"
      ]
     },
     "execution_count": 11,
     "metadata": {},
     "output_type": "execute_result"
    }
   ],
   "source": [
    "df.columns= df.columns.str.lower()\n",
    "df"
   ]
  },
  {
   "cell_type": "code",
   "execution_count": 12,
   "metadata": {},
   "outputs": [
    {
     "name": "stdout",
     "output_type": "stream",
     "text": [
      "<class 'pandas.core.frame.DataFrame'>\n",
      "Int64Index: 10000 entries, 0 to 9999\n",
      "Data columns (total 14 columns):\n",
      "rownumber          10000 non-null int64\n",
      "customerid         10000 non-null int64\n",
      "surname            10000 non-null object\n",
      "creditscore        10000 non-null int64\n",
      "geography          10000 non-null object\n",
      "gender             10000 non-null object\n",
      "age                10000 non-null int64\n",
      "tenure             9091 non-null float64\n",
      "balance            10000 non-null float64\n",
      "numofproducts      10000 non-null int64\n",
      "hascrcard          10000 non-null int64\n",
      "isactivemember     10000 non-null int64\n",
      "estimatedsalary    10000 non-null float64\n",
      "exited             10000 non-null int64\n",
      "dtypes: float64(3), int64(8), object(3)\n",
      "memory usage: 1.1+ MB\n"
     ]
    }
   ],
   "source": [
    "df.info()"
   ]
  },
  {
   "cell_type": "markdown",
   "metadata": {},
   "source": [
    "Пропуски есть только в столбце tenure."
   ]
  },
  {
   "cell_type": "markdown",
   "metadata": {},
   "source": [
    "### Работа с пропусками"
   ]
  },
  {
   "cell_type": "code",
   "execution_count": 13,
   "metadata": {},
   "outputs": [
    {
     "data": {
      "text/plain": [
       "1.0     952\n",
       "2.0     950\n",
       "8.0     933\n",
       "3.0     928\n",
       "5.0     927\n",
       "7.0     925\n",
       "4.0     885\n",
       "9.0     882\n",
       "6.0     881\n",
       "10.0    446\n",
       "0.0     382\n",
       "Name: tenure, dtype: int64"
      ]
     },
     "execution_count": 13,
     "metadata": {},
     "output_type": "execute_result"
    }
   ],
   "source": [
    "df['tenure'].value_counts()"
   ]
  },
  {
   "cell_type": "code",
   "execution_count": 14,
   "metadata": {},
   "outputs": [
    {
     "data": {
      "text/html": [
       "<div>\n",
       "<style scoped>\n",
       "    .dataframe tbody tr th:only-of-type {\n",
       "        vertical-align: middle;\n",
       "    }\n",
       "\n",
       "    .dataframe tbody tr th {\n",
       "        vertical-align: top;\n",
       "    }\n",
       "\n",
       "    .dataframe thead th {\n",
       "        text-align: right;\n",
       "    }\n",
       "</style>\n",
       "<table border=\"1\" class=\"dataframe\">\n",
       "  <thead>\n",
       "    <tr style=\"text-align: right;\">\n",
       "      <th></th>\n",
       "      <th>rownumber</th>\n",
       "      <th>customerid</th>\n",
       "      <th>surname</th>\n",
       "      <th>creditscore</th>\n",
       "      <th>geography</th>\n",
       "      <th>gender</th>\n",
       "      <th>age</th>\n",
       "      <th>tenure</th>\n",
       "      <th>balance</th>\n",
       "      <th>numofproducts</th>\n",
       "      <th>hascrcard</th>\n",
       "      <th>isactivemember</th>\n",
       "      <th>estimatedsalary</th>\n",
       "      <th>exited</th>\n",
       "    </tr>\n",
       "  </thead>\n",
       "  <tbody>\n",
       "    <tr>\n",
       "      <td>30</td>\n",
       "      <td>31</td>\n",
       "      <td>15589475</td>\n",
       "      <td>Azikiwe</td>\n",
       "      <td>591</td>\n",
       "      <td>Spain</td>\n",
       "      <td>Female</td>\n",
       "      <td>39</td>\n",
       "      <td>NaN</td>\n",
       "      <td>0.00</td>\n",
       "      <td>3</td>\n",
       "      <td>1</td>\n",
       "      <td>0</td>\n",
       "      <td>140469.38</td>\n",
       "      <td>1</td>\n",
       "    </tr>\n",
       "    <tr>\n",
       "      <td>48</td>\n",
       "      <td>49</td>\n",
       "      <td>15766205</td>\n",
       "      <td>Yin</td>\n",
       "      <td>550</td>\n",
       "      <td>Germany</td>\n",
       "      <td>Male</td>\n",
       "      <td>38</td>\n",
       "      <td>NaN</td>\n",
       "      <td>103391.38</td>\n",
       "      <td>1</td>\n",
       "      <td>0</td>\n",
       "      <td>1</td>\n",
       "      <td>90878.13</td>\n",
       "      <td>0</td>\n",
       "    </tr>\n",
       "    <tr>\n",
       "      <td>51</td>\n",
       "      <td>52</td>\n",
       "      <td>15768193</td>\n",
       "      <td>Trevisani</td>\n",
       "      <td>585</td>\n",
       "      <td>Germany</td>\n",
       "      <td>Male</td>\n",
       "      <td>36</td>\n",
       "      <td>NaN</td>\n",
       "      <td>146050.97</td>\n",
       "      <td>2</td>\n",
       "      <td>0</td>\n",
       "      <td>0</td>\n",
       "      <td>86424.57</td>\n",
       "      <td>0</td>\n",
       "    </tr>\n",
       "    <tr>\n",
       "      <td>53</td>\n",
       "      <td>54</td>\n",
       "      <td>15702298</td>\n",
       "      <td>Parkhill</td>\n",
       "      <td>655</td>\n",
       "      <td>Germany</td>\n",
       "      <td>Male</td>\n",
       "      <td>41</td>\n",
       "      <td>NaN</td>\n",
       "      <td>125561.97</td>\n",
       "      <td>1</td>\n",
       "      <td>0</td>\n",
       "      <td>0</td>\n",
       "      <td>164040.94</td>\n",
       "      <td>1</td>\n",
       "    </tr>\n",
       "    <tr>\n",
       "      <td>60</td>\n",
       "      <td>61</td>\n",
       "      <td>15651280</td>\n",
       "      <td>Hunter</td>\n",
       "      <td>742</td>\n",
       "      <td>Germany</td>\n",
       "      <td>Male</td>\n",
       "      <td>35</td>\n",
       "      <td>NaN</td>\n",
       "      <td>136857.00</td>\n",
       "      <td>1</td>\n",
       "      <td>0</td>\n",
       "      <td>0</td>\n",
       "      <td>84509.57</td>\n",
       "      <td>0</td>\n",
       "    </tr>\n",
       "    <tr>\n",
       "      <td>...</td>\n",
       "      <td>...</td>\n",
       "      <td>...</td>\n",
       "      <td>...</td>\n",
       "      <td>...</td>\n",
       "      <td>...</td>\n",
       "      <td>...</td>\n",
       "      <td>...</td>\n",
       "      <td>...</td>\n",
       "      <td>...</td>\n",
       "      <td>...</td>\n",
       "      <td>...</td>\n",
       "      <td>...</td>\n",
       "      <td>...</td>\n",
       "      <td>...</td>\n",
       "    </tr>\n",
       "    <tr>\n",
       "      <td>9944</td>\n",
       "      <td>9945</td>\n",
       "      <td>15703923</td>\n",
       "      <td>Cameron</td>\n",
       "      <td>744</td>\n",
       "      <td>Germany</td>\n",
       "      <td>Male</td>\n",
       "      <td>41</td>\n",
       "      <td>NaN</td>\n",
       "      <td>190409.34</td>\n",
       "      <td>2</td>\n",
       "      <td>1</td>\n",
       "      <td>1</td>\n",
       "      <td>138361.48</td>\n",
       "      <td>0</td>\n",
       "    </tr>\n",
       "    <tr>\n",
       "      <td>9956</td>\n",
       "      <td>9957</td>\n",
       "      <td>15707861</td>\n",
       "      <td>Nucci</td>\n",
       "      <td>520</td>\n",
       "      <td>France</td>\n",
       "      <td>Female</td>\n",
       "      <td>46</td>\n",
       "      <td>NaN</td>\n",
       "      <td>85216.61</td>\n",
       "      <td>1</td>\n",
       "      <td>1</td>\n",
       "      <td>0</td>\n",
       "      <td>117369.52</td>\n",
       "      <td>1</td>\n",
       "    </tr>\n",
       "    <tr>\n",
       "      <td>9964</td>\n",
       "      <td>9965</td>\n",
       "      <td>15642785</td>\n",
       "      <td>Douglas</td>\n",
       "      <td>479</td>\n",
       "      <td>France</td>\n",
       "      <td>Male</td>\n",
       "      <td>34</td>\n",
       "      <td>NaN</td>\n",
       "      <td>117593.48</td>\n",
       "      <td>2</td>\n",
       "      <td>0</td>\n",
       "      <td>0</td>\n",
       "      <td>113308.29</td>\n",
       "      <td>0</td>\n",
       "    </tr>\n",
       "    <tr>\n",
       "      <td>9985</td>\n",
       "      <td>9986</td>\n",
       "      <td>15586914</td>\n",
       "      <td>Nepean</td>\n",
       "      <td>659</td>\n",
       "      <td>France</td>\n",
       "      <td>Male</td>\n",
       "      <td>36</td>\n",
       "      <td>NaN</td>\n",
       "      <td>123841.49</td>\n",
       "      <td>2</td>\n",
       "      <td>1</td>\n",
       "      <td>0</td>\n",
       "      <td>96833.00</td>\n",
       "      <td>0</td>\n",
       "    </tr>\n",
       "    <tr>\n",
       "      <td>9999</td>\n",
       "      <td>10000</td>\n",
       "      <td>15628319</td>\n",
       "      <td>Walker</td>\n",
       "      <td>792</td>\n",
       "      <td>France</td>\n",
       "      <td>Female</td>\n",
       "      <td>28</td>\n",
       "      <td>NaN</td>\n",
       "      <td>130142.79</td>\n",
       "      <td>1</td>\n",
       "      <td>1</td>\n",
       "      <td>0</td>\n",
       "      <td>38190.78</td>\n",
       "      <td>0</td>\n",
       "    </tr>\n",
       "  </tbody>\n",
       "</table>\n",
       "<p>909 rows × 14 columns</p>\n",
       "</div>"
      ],
      "text/plain": [
       "      rownumber  customerid    surname  creditscore geography  gender  age  \\\n",
       "30           31    15589475    Azikiwe          591     Spain  Female   39   \n",
       "48           49    15766205        Yin          550   Germany    Male   38   \n",
       "51           52    15768193  Trevisani          585   Germany    Male   36   \n",
       "53           54    15702298   Parkhill          655   Germany    Male   41   \n",
       "60           61    15651280     Hunter          742   Germany    Male   35   \n",
       "...         ...         ...        ...          ...       ...     ...  ...   \n",
       "9944       9945    15703923    Cameron          744   Germany    Male   41   \n",
       "9956       9957    15707861      Nucci          520    France  Female   46   \n",
       "9964       9965    15642785    Douglas          479    France    Male   34   \n",
       "9985       9986    15586914     Nepean          659    France    Male   36   \n",
       "9999      10000    15628319     Walker          792    France  Female   28   \n",
       "\n",
       "      tenure    balance  numofproducts  hascrcard  isactivemember  \\\n",
       "30       NaN       0.00              3          1               0   \n",
       "48       NaN  103391.38              1          0               1   \n",
       "51       NaN  146050.97              2          0               0   \n",
       "53       NaN  125561.97              1          0               0   \n",
       "60       NaN  136857.00              1          0               0   \n",
       "...      ...        ...            ...        ...             ...   \n",
       "9944     NaN  190409.34              2          1               1   \n",
       "9956     NaN   85216.61              1          1               0   \n",
       "9964     NaN  117593.48              2          0               0   \n",
       "9985     NaN  123841.49              2          1               0   \n",
       "9999     NaN  130142.79              1          1               0   \n",
       "\n",
       "      estimatedsalary  exited  \n",
       "30          140469.38       1  \n",
       "48           90878.13       0  \n",
       "51           86424.57       0  \n",
       "53          164040.94       1  \n",
       "60           84509.57       0  \n",
       "...               ...     ...  \n",
       "9944        138361.48       0  \n",
       "9956        117369.52       1  \n",
       "9964        113308.29       0  \n",
       "9985         96833.00       0  \n",
       "9999         38190.78       0  \n",
       "\n",
       "[909 rows x 14 columns]"
      ]
     },
     "execution_count": 14,
     "metadata": {},
     "output_type": "execute_result"
    }
   ],
   "source": [
    "df[pd.isna(df['tenure'])]"
   ]
  },
  {
   "cell_type": "markdown",
   "metadata": {},
   "source": [
    "В таблице строках с пропусками совершенно непримечательные данные, можно было бы списать пропуски на новых клиентов, но в таблице уже имеются клиенты с нулевым значением tenure, хоть их и мало.\n",
    "<br>\n",
    "Скорее всего, банк присваивал клиентам идентификациооный номер по порядку, значит, если это так, то можно будет найти недостающие значения с помощью сравнения текущих номеров."
   ]
  },
  {
   "cell_type": "code",
   "execution_count": 15,
   "metadata": {},
   "outputs": [
    {
     "data": {
      "text/html": [
       "<div>\n",
       "<style scoped>\n",
       "    .dataframe tbody tr th:only-of-type {\n",
       "        vertical-align: middle;\n",
       "    }\n",
       "\n",
       "    .dataframe tbody tr th {\n",
       "        vertical-align: top;\n",
       "    }\n",
       "\n",
       "    .dataframe thead tr th {\n",
       "        text-align: left;\n",
       "    }\n",
       "\n",
       "    .dataframe thead tr:last-of-type th {\n",
       "        text-align: right;\n",
       "    }\n",
       "</style>\n",
       "<table border=\"1\" class=\"dataframe\">\n",
       "  <thead>\n",
       "    <tr>\n",
       "      <th></th>\n",
       "      <th colspan=\"2\" halign=\"left\">customerid</th>\n",
       "    </tr>\n",
       "    <tr>\n",
       "      <th></th>\n",
       "      <th>min</th>\n",
       "      <th>max</th>\n",
       "    </tr>\n",
       "    <tr>\n",
       "      <th>tenure</th>\n",
       "      <th></th>\n",
       "      <th></th>\n",
       "    </tr>\n",
       "  </thead>\n",
       "  <tbody>\n",
       "    <tr>\n",
       "      <td>0.0</td>\n",
       "      <td>15566467</td>\n",
       "      <td>15815534</td>\n",
       "    </tr>\n",
       "    <tr>\n",
       "      <td>1.0</td>\n",
       "      <td>15565706</td>\n",
       "      <td>15815660</td>\n",
       "    </tr>\n",
       "    <tr>\n",
       "      <td>2.0</td>\n",
       "      <td>15566494</td>\n",
       "      <td>15815626</td>\n",
       "    </tr>\n",
       "    <tr>\n",
       "      <td>3.0</td>\n",
       "      <td>15565878</td>\n",
       "      <td>15815428</td>\n",
       "    </tr>\n",
       "    <tr>\n",
       "      <td>4.0</td>\n",
       "      <td>15566091</td>\n",
       "      <td>15815125</td>\n",
       "    </tr>\n",
       "    <tr>\n",
       "      <td>5.0</td>\n",
       "      <td>15566030</td>\n",
       "      <td>15815236</td>\n",
       "    </tr>\n",
       "    <tr>\n",
       "      <td>6.0</td>\n",
       "      <td>15565779</td>\n",
       "      <td>15815552</td>\n",
       "    </tr>\n",
       "    <tr>\n",
       "      <td>7.0</td>\n",
       "      <td>15566958</td>\n",
       "      <td>15815560</td>\n",
       "    </tr>\n",
       "    <tr>\n",
       "      <td>8.0</td>\n",
       "      <td>15565891</td>\n",
       "      <td>15815645</td>\n",
       "    </tr>\n",
       "    <tr>\n",
       "      <td>9.0</td>\n",
       "      <td>15565701</td>\n",
       "      <td>15815656</td>\n",
       "    </tr>\n",
       "    <tr>\n",
       "      <td>10.0</td>\n",
       "      <td>15565796</td>\n",
       "      <td>15815530</td>\n",
       "    </tr>\n",
       "  </tbody>\n",
       "</table>\n",
       "</div>"
      ],
      "text/plain": [
       "       customerid          \n",
       "              min       max\n",
       "tenure                     \n",
       "0.0      15566467  15815534\n",
       "1.0      15565706  15815660\n",
       "2.0      15566494  15815626\n",
       "3.0      15565878  15815428\n",
       "4.0      15566091  15815125\n",
       "5.0      15566030  15815236\n",
       "6.0      15565779  15815552\n",
       "7.0      15566958  15815560\n",
       "8.0      15565891  15815645\n",
       "9.0      15565701  15815656\n",
       "10.0     15565796  15815530"
      ]
     },
     "execution_count": 15,
     "metadata": {},
     "output_type": "execute_result"
    }
   ],
   "source": [
    "df.groupby('tenure').agg({'customerid':['min', 'max']})"
   ]
  },
  {
   "cell_type": "markdown",
   "metadata": {},
   "source": [
    "Может быть, номера связаны со странами."
   ]
  },
  {
   "cell_type": "code",
   "execution_count": 16,
   "metadata": {},
   "outputs": [
    {
     "data": {
      "text/html": [
       "<div>\n",
       "<style scoped>\n",
       "    .dataframe tbody tr th:only-of-type {\n",
       "        vertical-align: middle;\n",
       "    }\n",
       "\n",
       "    .dataframe tbody tr th {\n",
       "        vertical-align: top;\n",
       "    }\n",
       "\n",
       "    .dataframe thead tr th {\n",
       "        text-align: left;\n",
       "    }\n",
       "\n",
       "    .dataframe thead tr:last-of-type th {\n",
       "        text-align: right;\n",
       "    }\n",
       "</style>\n",
       "<table border=\"1\" class=\"dataframe\">\n",
       "  <thead>\n",
       "    <tr>\n",
       "      <th></th>\n",
       "      <th></th>\n",
       "      <th colspan=\"2\" halign=\"left\">customerid</th>\n",
       "    </tr>\n",
       "    <tr>\n",
       "      <th></th>\n",
       "      <th></th>\n",
       "      <th>min</th>\n",
       "      <th>max</th>\n",
       "    </tr>\n",
       "    <tr>\n",
       "      <th>geography</th>\n",
       "      <th>tenure</th>\n",
       "      <th></th>\n",
       "      <th></th>\n",
       "    </tr>\n",
       "  </thead>\n",
       "  <tbody>\n",
       "    <tr>\n",
       "      <td rowspan=\"11\" valign=\"top\">France</td>\n",
       "      <td>0.0</td>\n",
       "      <td>15568469</td>\n",
       "      <td>15813645</td>\n",
       "    </tr>\n",
       "    <tr>\n",
       "      <td>1.0</td>\n",
       "      <td>15565714</td>\n",
       "      <td>15815660</td>\n",
       "    </tr>\n",
       "    <tr>\n",
       "      <td>2.0</td>\n",
       "      <td>15566494</td>\n",
       "      <td>15815626</td>\n",
       "    </tr>\n",
       "    <tr>\n",
       "      <td>3.0</td>\n",
       "      <td>15566894</td>\n",
       "      <td>15815428</td>\n",
       "    </tr>\n",
       "    <tr>\n",
       "      <td>4.0</td>\n",
       "      <td>15566563</td>\n",
       "      <td>15814816</td>\n",
       "    </tr>\n",
       "    <tr>\n",
       "      <td>5.0</td>\n",
       "      <td>15566139</td>\n",
       "      <td>15814553</td>\n",
       "    </tr>\n",
       "    <tr>\n",
       "      <td>6.0</td>\n",
       "      <td>15566295</td>\n",
       "      <td>15815552</td>\n",
       "    </tr>\n",
       "    <tr>\n",
       "      <td>7.0</td>\n",
       "      <td>15567333</td>\n",
       "      <td>15814519</td>\n",
       "    </tr>\n",
       "    <tr>\n",
       "      <td>8.0</td>\n",
       "      <td>15565891</td>\n",
       "      <td>15815645</td>\n",
       "    </tr>\n",
       "    <tr>\n",
       "      <td>9.0</td>\n",
       "      <td>15565879</td>\n",
       "      <td>15815316</td>\n",
       "    </tr>\n",
       "    <tr>\n",
       "      <td>10.0</td>\n",
       "      <td>15566660</td>\n",
       "      <td>15815530</td>\n",
       "    </tr>\n",
       "    <tr>\n",
       "      <td rowspan=\"11\" valign=\"top\">Germany</td>\n",
       "      <td>0.0</td>\n",
       "      <td>15566467</td>\n",
       "      <td>15811389</td>\n",
       "    </tr>\n",
       "    <tr>\n",
       "      <td>1.0</td>\n",
       "      <td>15566211</td>\n",
       "      <td>15814468</td>\n",
       "    </tr>\n",
       "    <tr>\n",
       "      <td>2.0</td>\n",
       "      <td>15566735</td>\n",
       "      <td>15814690</td>\n",
       "    </tr>\n",
       "    <tr>\n",
       "      <td>3.0</td>\n",
       "      <td>15566891</td>\n",
       "      <td>15814237</td>\n",
       "    </tr>\n",
       "    <tr>\n",
       "      <td>4.0</td>\n",
       "      <td>15566531</td>\n",
       "      <td>15814772</td>\n",
       "    </tr>\n",
       "    <tr>\n",
       "      <td>5.0</td>\n",
       "      <td>15566030</td>\n",
       "      <td>15815070</td>\n",
       "    </tr>\n",
       "    <tr>\n",
       "      <td>6.0</td>\n",
       "      <td>15565779</td>\n",
       "      <td>15812607</td>\n",
       "    </tr>\n",
       "    <tr>\n",
       "      <td>7.0</td>\n",
       "      <td>15566988</td>\n",
       "      <td>15815560</td>\n",
       "    </tr>\n",
       "    <tr>\n",
       "      <td>8.0</td>\n",
       "      <td>15566633</td>\n",
       "      <td>15815040</td>\n",
       "    </tr>\n",
       "    <tr>\n",
       "      <td>9.0</td>\n",
       "      <td>15566253</td>\n",
       "      <td>15815656</td>\n",
       "    </tr>\n",
       "    <tr>\n",
       "      <td>10.0</td>\n",
       "      <td>15565796</td>\n",
       "      <td>15814930</td>\n",
       "    </tr>\n",
       "    <tr>\n",
       "      <td rowspan=\"11\" valign=\"top\">Spain</td>\n",
       "      <td>0.0</td>\n",
       "      <td>15567991</td>\n",
       "      <td>15815534</td>\n",
       "    </tr>\n",
       "    <tr>\n",
       "      <td>1.0</td>\n",
       "      <td>15565706</td>\n",
       "      <td>15814236</td>\n",
       "    </tr>\n",
       "    <tr>\n",
       "      <td>2.0</td>\n",
       "      <td>15566495</td>\n",
       "      <td>15815364</td>\n",
       "    </tr>\n",
       "    <tr>\n",
       "      <td>3.0</td>\n",
       "      <td>15565878</td>\n",
       "      <td>15812767</td>\n",
       "    </tr>\n",
       "    <tr>\n",
       "      <td>4.0</td>\n",
       "      <td>15566091</td>\n",
       "      <td>15815125</td>\n",
       "    </tr>\n",
       "    <tr>\n",
       "      <td>5.0</td>\n",
       "      <td>15566312</td>\n",
       "      <td>15815236</td>\n",
       "    </tr>\n",
       "    <tr>\n",
       "      <td>6.0</td>\n",
       "      <td>15568834</td>\n",
       "      <td>15813741</td>\n",
       "    </tr>\n",
       "    <tr>\n",
       "      <td>7.0</td>\n",
       "      <td>15566958</td>\n",
       "      <td>15815131</td>\n",
       "    </tr>\n",
       "    <tr>\n",
       "      <td>8.0</td>\n",
       "      <td>15566689</td>\n",
       "      <td>15815420</td>\n",
       "    </tr>\n",
       "    <tr>\n",
       "      <td>9.0</td>\n",
       "      <td>15565701</td>\n",
       "      <td>15814940</td>\n",
       "    </tr>\n",
       "    <tr>\n",
       "      <td>10.0</td>\n",
       "      <td>15566380</td>\n",
       "      <td>15813303</td>\n",
       "    </tr>\n",
       "  </tbody>\n",
       "</table>\n",
       "</div>"
      ],
      "text/plain": [
       "                 customerid          \n",
       "                        min       max\n",
       "geography tenure                     \n",
       "France    0.0      15568469  15813645\n",
       "          1.0      15565714  15815660\n",
       "          2.0      15566494  15815626\n",
       "          3.0      15566894  15815428\n",
       "          4.0      15566563  15814816\n",
       "          5.0      15566139  15814553\n",
       "          6.0      15566295  15815552\n",
       "          7.0      15567333  15814519\n",
       "          8.0      15565891  15815645\n",
       "          9.0      15565879  15815316\n",
       "          10.0     15566660  15815530\n",
       "Germany   0.0      15566467  15811389\n",
       "          1.0      15566211  15814468\n",
       "          2.0      15566735  15814690\n",
       "          3.0      15566891  15814237\n",
       "          4.0      15566531  15814772\n",
       "          5.0      15566030  15815070\n",
       "          6.0      15565779  15812607\n",
       "          7.0      15566988  15815560\n",
       "          8.0      15566633  15815040\n",
       "          9.0      15566253  15815656\n",
       "          10.0     15565796  15814930\n",
       "Spain     0.0      15567991  15815534\n",
       "          1.0      15565706  15814236\n",
       "          2.0      15566495  15815364\n",
       "          3.0      15565878  15812767\n",
       "          4.0      15566091  15815125\n",
       "          5.0      15566312  15815236\n",
       "          6.0      15568834  15813741\n",
       "          7.0      15566958  15815131\n",
       "          8.0      15566689  15815420\n",
       "          9.0      15565701  15814940\n",
       "          10.0     15566380  15813303"
      ]
     },
     "execution_count": 16,
     "metadata": {},
     "output_type": "execute_result"
    }
   ],
   "source": [
    "df.groupby(['geography','tenure']).agg({'customerid':['min', 'max']})"
   ]
  },
  {
   "cell_type": "markdown",
   "metadata": {},
   "source": [
    "Похоже, что никакой логики в нумерации клиентов банк не использует, что странно. Зато выяснилось, что станы всего три.\n",
    "<br>\n",
    "Осмысленно заполнить пропуски не представляется возможным. Вероятно, после более детального анализа можно будет либо выделить пропуски в отдельную категорию, или даже оставить их там для обучения модели."
   ]
  },
  {
   "cell_type": "code",
   "execution_count": 17,
   "metadata": {
    "scrolled": false
   },
   "outputs": [
    {
     "data": {
      "text/plain": [
       "0        2\n",
       "1        1\n",
       "2        8\n",
       "3        1\n",
       "4        2\n",
       "        ..\n",
       "9995     5\n",
       "9996    10\n",
       "9997     7\n",
       "9998     3\n",
       "9999    -1\n",
       "Name: tenure, Length: 10000, dtype: int64"
      ]
     },
     "execution_count": 17,
     "metadata": {},
     "output_type": "execute_result"
    }
   ],
   "source": [
    "df['tenure'] = df['tenure'].fillna(-1).astype('int')\n",
    "df['tenure']"
   ]
  },
  {
   "cell_type": "markdown",
   "metadata": {},
   "source": [
    "### Остальные столбцы"
   ]
  },
  {
   "cell_type": "code",
   "execution_count": 18,
   "metadata": {},
   "outputs": [
    {
     "name": "stdout",
     "output_type": "stream",
     "text": [
      "count    10000.000000\n",
      "mean        38.921800\n",
      "std         10.487806\n",
      "min         18.000000\n",
      "25%         32.000000\n",
      "50%         37.000000\n",
      "75%         44.000000\n",
      "max         92.000000\n",
      "Name: age, dtype: float64\n",
      "\n",
      "count     10000.000000\n",
      "mean      76485.889288\n",
      "std       62397.405202\n",
      "min           0.000000\n",
      "25%           0.000000\n",
      "50%       97198.540000\n",
      "75%      127644.240000\n",
      "max      250898.090000\n",
      "Name: balance, dtype: float64\n",
      "\n",
      "count     10000.000000\n",
      "mean     100090.239881\n",
      "std       57510.492818\n",
      "min          11.580000\n",
      "25%       51002.110000\n",
      "50%      100193.915000\n",
      "75%      149388.247500\n",
      "max      199992.480000\n",
      "Name: estimatedsalary, dtype: float64\n",
      "\n"
     ]
    }
   ],
   "source": [
    "cols = ['age', 'balance', 'estimatedsalary']\n",
    "for col in cols:\n",
    "    print(df[col].describe())\n",
    "    print()"
   ]
  },
  {
   "cell_type": "code",
   "execution_count": 19,
   "metadata": {},
   "outputs": [
    {
     "name": "stdout",
     "output_type": "stream",
     "text": [
      "Male      5457\n",
      "Female    4543\n",
      "Name: gender, dtype: int64\n",
      "\n",
      "1    5084\n",
      "2    4590\n",
      "3     266\n",
      "4      60\n",
      "Name: numofproducts, dtype: int64\n",
      "\n",
      "1    7055\n",
      "0    2945\n",
      "Name: hascrcard, dtype: int64\n",
      "\n",
      "1    5151\n",
      "0    4849\n",
      "Name: isactivemember, dtype: int64\n",
      "\n",
      "0    7963\n",
      "1    2037\n",
      "Name: exited, dtype: int64\n",
      "\n"
     ]
    }
   ],
   "source": [
    "cols = ['gender', 'numofproducts', 'hascrcard',\n",
    "       'isactivemember', 'exited']\n",
    "for col in cols:\n",
    "    print(df[col].value_counts())\n",
    "    print()"
   ]
  },
  {
   "cell_type": "markdown",
   "metadata": {},
   "source": [
    "Данные выглядят вменяемыми. Число ушедших в выборке в четыре раза меньше, чем оставшихся."
   ]
  },
  {
   "cell_type": "markdown",
   "metadata": {},
   "source": [
    "## Исследование задачи"
   ]
  },
  {
   "cell_type": "markdown",
   "metadata": {},
   "source": [
    "### Срок договора с банком"
   ]
  },
  {
   "cell_type": "code",
   "execution_count": 20,
   "metadata": {},
   "outputs": [
    {
     "data": {
      "text/plain": [
       "<matplotlib.axes._subplots.AxesSubplot at 0x7fd721ddc3d0>"
      ]
     },
     "execution_count": 20,
     "metadata": {},
     "output_type": "execute_result"
    },
    {
     "data": {
      "image/png": "[encoded data removed]",
      "text/plain": [
       "<Figure size 720x504 with 1 Axes>"
      ]
     },
     "metadata": {
      "needs_background": "light"
     },
     "output_type": "display_data"
    }
   ],
   "source": [
    "plt.subplots(figsize=(10,7))\n",
    "sns.barplot(data=df, x= 'tenure', y= 'exited')"
   ]
  },
  {
   "cell_type": "markdown",
   "metadata": {},
   "source": [
    "В целом заметно, что чем дольше клиент с банком, тем меньше шансов, что он уйдёт, и только в конце идёт рост. Условная категория с пустыми значениями имеет самый низкий процент ухода, заметно ниже, чем у группы новых клиентов. Вряд ли они к ним относятся.\n",
    "<br>\n",
    "Как таковой сильной корреляции нет. В условиях, когда не с кого про пропуски, вполне хорошей идеей может оказаться работа с сроком как с качественной хорактеристикой клиентов, либо отказаться от принятия её в рассчёт совсем."
   ]
  },
  {
   "cell_type": "markdown",
   "metadata": {},
   "source": [
    "### Возраст"
   ]
  },
  {
   "cell_type": "code",
   "execution_count": 21,
   "metadata": {},
   "outputs": [
    {
     "data": {
      "text/plain": [
       "<matplotlib.axes._subplots.AxesSubplot at 0x7fd719caf0d0>"
      ]
     },
     "execution_count": 21,
     "metadata": {},
     "output_type": "execute_result"
    },
    {
     "data": {
      "image/png": "[encoded data removed]",
      "text/plain": [
       "<Figure size 1152x720 with 1 Axes>"
      ]
     },
     "metadata": {
      "needs_background": "light"
     },
     "output_type": "display_data"
    }
   ],
   "source": [
    "df.groupby(['age'])['exited'].mean().plot.bar(figsize = (16,10))"
   ]
  },
  {
   "cell_type": "markdown",
   "metadata": {},
   "source": [
    "В распределение даже похоже на нормальное, кроме некоторых выбросов. Особенно заметен возраст 84 с 50% разрывов отношений с банками. Скорее всего, таких людей в выборке двое, и один из них ушёл.\n",
    "<br>\n",
    "Интересно, считает ли банк смерть клиента разрывом отношений? Судя по распределению, нет.\n",
    "<br>\n",
    "Люди предпенсионного возраста мпссово покидают банк. Дальнейшее падение доли уходов может быть связано именно с уходом клиентов в этом возрасте."
   ]
  },
  {
   "cell_type": "code",
   "execution_count": 22,
   "metadata": {},
   "outputs": [
    {
     "data": {
      "text/plain": [
       "<matplotlib.axes._subplots.AxesSubplot at 0x7fd7190d2b90>"
      ]
     },
     "execution_count": 22,
     "metadata": {},
     "output_type": "execute_result"
    },
    {
     "data": {
      "image/png": "[encoded data removed]",
      "text/plain": [
       "<Figure size 1152x720 with 1 Axes>"
      ]
     },
     "metadata": {
      "needs_background": "light"
     },
     "output_type": "display_data"
    }
   ],
   "source": [
    "df.groupby(['age'])['exited'].count().plot.bar(figsize = (16,10))"
   ]
  },
  {
   "cell_type": "markdown",
   "metadata": {},
   "source": [
    "Так и есть. Можно было бы для большей точности привести распределение по возрастному составу для каждой страны."
   ]
  },
  {
   "cell_type": "markdown",
   "metadata": {},
   "source": [
    "### Страна"
   ]
  },
  {
   "cell_type": "code",
   "execution_count": 23,
   "metadata": {},
   "outputs": [
    {
     "data": {
      "text/plain": [
       "<matplotlib.axes._subplots.AxesSubplot at 0x7fd721e819d0>"
      ]
     },
     "execution_count": 23,
     "metadata": {},
     "output_type": "execute_result"
    },
    {
     "data": {
      "image/png": "[encoded data removed]",
      "text/plain": [
       "<Figure size 720x504 with 1 Axes>"
      ]
     },
     "metadata": {
      "needs_background": "light"
     },
     "output_type": "display_data"
    }
   ],
   "source": [
    "plt.subplots(figsize=(10,7))\n",
    "sns.barplot(data=df, x= 'geography', y= 'exited')"
   ]
  },
  {
   "cell_type": "markdown",
   "metadata": {},
   "source": [
    "В Германии одно из самых старых населений в мире. Возможно, что в таком распределение виноваты именно возраста."
   ]
  },
  {
   "cell_type": "code",
   "execution_count": 24,
   "metadata": {},
   "outputs": [],
   "source": [
    "age_geography = df.groupby(['age',df['geography'] == 'Germany'])['exited'].count().reset_index()\n",
    "\n",
    "ger_total = age_geography[age_geography['geography']]['exited'].sum()\n",
    "other_total = age_geography[~age_geography['geography']]['exited'].sum()\n",
    "age_geography['share'] = age_geography.apply(lambda x: x['exited']/ger_total if x['geography'] else x['exited']/other_total, axis = 1)"
   ]
  },
  {
   "cell_type": "code",
   "execution_count": 25,
   "metadata": {},
   "outputs": [
    {
     "data": {
      "text/plain": [
       "<seaborn.axisgrid.FacetGrid at 0x7fd726f9ae10>"
      ]
     },
     "execution_count": 25,
     "metadata": {},
     "output_type": "execute_result"
    },
    {
     "data": {
      "image/png": "[encoded data removed]",
      "text/plain": [
       "<Figure size 926.125x576 with 1 Axes>"
      ]
     },
     "metadata": {
      "needs_background": "light"
     },
     "output_type": "display_data"
    }
   ],
   "source": [
    "plot = sns.catplot(x=\"age\", y=\"share\", hue=\"geography\", kind=\"bar\", data=age_geography, height=8, aspect=12/8)\n",
    "\n",
    "plot.set(title='client share by age')\n",
    "plot.set(ylabel='share')\n",
    "plt.xticks(rotation=90)\n",
    "\n",
    "plot"
   ]
  },
  {
   "cell_type": "markdown",
   "metadata": {},
   "source": [
    "В Германии на самом деле значительно больше доля клиентов старше сорока, но отнюдь не в два раза. Значит, помимо связи с возрастом, география влияет и по другим причинам."
   ]
  },
  {
   "cell_type": "markdown",
   "metadata": {},
   "source": [
    "### Кредитный рейтинг, баланс, примерная зарплата"
   ]
  },
  {
   "cell_type": "code",
   "execution_count": 26,
   "metadata": {},
   "outputs": [
    {
     "data": {
      "image/png": "[encoded data removed]",
      "text/plain": [
       "<Figure size 720x360 with 1 Axes>"
      ]
     },
     "metadata": {
      "needs_background": "light"
     },
     "output_type": "display_data"
    },
    {
     "data": {
      "image/png": "[encoded data removed]",
      "text/plain": [
       "<Figure size 720x360 with 1 Axes>"
      ]
     },
     "metadata": {
      "needs_background": "light"
     },
     "output_type": "display_data"
    },
    {
     "data": {
      "image/png": "[encoded data removed]",
      "text/plain": [
       "<Figure size 720x360 with 1 Axes>"
      ]
     },
     "metadata": {
      "needs_background": "light"
     },
     "output_type": "display_data"
    }
   ],
   "source": [
    "item_list = ['creditscore','balance','estimatedsalary']\n",
    "\n",
    "for item in item_list:\n",
    "    #df.groupby(pd.cut(df[item], 10))['exited'].mean().plot.bar(figsize = (16,5))\n",
    "    plt.subplots(figsize=(10, 5))\n",
    "    sns.violinplot(data=df,x='exited', y=item, scale = 'count')\n",
    "    \n",
    "    \n",
    "    plt.show()"
   ]
  },
  {
   "cell_type": "markdown",
   "metadata": {},
   "source": [
    "Людей с самым низким кредитным рейтингом очень мало, и они все покинули банк. Возможно, банк сам разрывает с ними отношения. <br>Оценённая зарплата особого влияния не имеет.\n",
    "<br>Люди с нулевым балансом скорее останутся с баноком чем покинут его. Возможно, это должники и неакьивные клиенты. К сожалению, данных по размерам долгов не предоставлено."
   ]
  },
  {
   "cell_type": "markdown",
   "metadata": {},
   "source": [
    "### Количество продуктов, пол, кредитная карта, активность."
   ]
  },
  {
   "cell_type": "code",
   "execution_count": 27,
   "metadata": {},
   "outputs": [
    {
     "data": {
      "image/png": "[encoded data removed]",
      "text/plain": [
       "<Figure size 504x360 with 1 Axes>"
      ]
     },
     "metadata": {
      "needs_background": "light"
     },
     "output_type": "display_data"
    },
    {
     "name": "stdout",
     "output_type": "stream",
     "text": [
      "numofproducts\n",
      "1    5084\n",
      "2    4590\n",
      "3     266\n",
      "4      60\n",
      "Name: exited, dtype: int64\n"
     ]
    },
    {
     "data": {
      "image/png": "[encoded data removed]",
      "text/plain": [
       "<Figure size 504x360 with 1 Axes>"
      ]
     },
     "metadata": {
      "needs_background": "light"
     },
     "output_type": "display_data"
    },
    {
     "name": "stdout",
     "output_type": "stream",
     "text": [
      "gender\n",
      "Female    4543\n",
      "Male      5457\n",
      "Name: exited, dtype: int64\n"
     ]
    },
    {
     "data": {
      "image/png": "[encoded data removed]",
      "text/plain": [
       "<Figure size 504x360 with 1 Axes>"
      ]
     },
     "metadata": {
      "needs_background": "light"
     },
     "output_type": "display_data"
    },
    {
     "name": "stdout",
     "output_type": "stream",
     "text": [
      "hascrcard\n",
      "0    2945\n",
      "1    7055\n",
      "Name: exited, dtype: int64\n"
     ]
    },
    {
     "data": {
      "image/png": "[encoded data removed]",
      "text/plain": [
       "<Figure size 504x360 with 1 Axes>"
      ]
     },
     "metadata": {
      "needs_background": "light"
     },
     "output_type": "display_data"
    },
    {
     "name": "stdout",
     "output_type": "stream",
     "text": [
      "isactivemember\n",
      "0    4849\n",
      "1    5151\n",
      "Name: exited, dtype: int64\n"
     ]
    }
   ],
   "source": [
    "item_list = ['numofproducts','gender','hascrcard','isactivemember']\n",
    "for item in item_list:\n",
    "    df.groupby(item)['exited'].mean().plot.bar(figsize = (7,5))\n",
    "    plt.show()\n",
    "    print(df.groupby(item)['exited'].count())"
   ]
  },
  {
   "cell_type": "markdown",
   "metadata": {},
   "source": [
    "Клиенты с тремя и более продуктами активно уходят, хоть таких клиентов и немного.\n",
    "<br>\n",
    "Женщины уходят чаще.\n",
    "<br>\n",
    "Наличие карты не влияет никак.\n",
    "<br>\n",
    "Низкая активность толкает на разрыв, что логично. Очень было хотелось узнать, кого именно посчитали активным, а ещё было бы лучше эту активность рассчитать не бинарным значением, а коэффициентом."
   ]
  },
  {
   "cell_type": "markdown",
   "metadata": {},
   "source": [
    "### Вывод"
   ]
  },
  {
   "cell_type": "markdown",
   "metadata": {},
   "source": [
    "Самые значимые факторы: возраст, страна, кредитный рейтинг, баланс, примерная зарплата, пол, количество продуктов и активность.<br> Использовать tenure может в качестве классов."
   ]
  },
  {
   "cell_type": "code",
   "execution_count": 28,
   "metadata": {},
   "outputs": [
    {
     "data": {
      "text/html": [
       "<div>\n",
       "<style scoped>\n",
       "    .dataframe tbody tr th:only-of-type {\n",
       "        vertical-align: middle;\n",
       "    }\n",
       "\n",
       "    .dataframe tbody tr th {\n",
       "        vertical-align: top;\n",
       "    }\n",
       "\n",
       "    .dataframe thead th {\n",
       "        text-align: right;\n",
       "    }\n",
       "</style>\n",
       "<table border=\"1\" class=\"dataframe\">\n",
       "  <thead>\n",
       "    <tr style=\"text-align: right;\">\n",
       "      <th></th>\n",
       "      <th>rownumber</th>\n",
       "      <th>customerid</th>\n",
       "      <th>surname</th>\n",
       "      <th>creditscore</th>\n",
       "      <th>geography</th>\n",
       "      <th>gender</th>\n",
       "      <th>age</th>\n",
       "      <th>tenure</th>\n",
       "      <th>balance</th>\n",
       "      <th>numofproducts</th>\n",
       "      <th>hascrcard</th>\n",
       "      <th>isactivemember</th>\n",
       "      <th>estimatedsalary</th>\n",
       "      <th>exited</th>\n",
       "    </tr>\n",
       "  </thead>\n",
       "  <tbody>\n",
       "    <tr>\n",
       "      <td>0</td>\n",
       "      <td>1</td>\n",
       "      <td>15634602</td>\n",
       "      <td>Hargrave</td>\n",
       "      <td>619</td>\n",
       "      <td>France</td>\n",
       "      <td>Female</td>\n",
       "      <td>42</td>\n",
       "      <td>2</td>\n",
       "      <td>0.00</td>\n",
       "      <td>1</td>\n",
       "      <td>1</td>\n",
       "      <td>1</td>\n",
       "      <td>101348.88</td>\n",
       "      <td>1</td>\n",
       "    </tr>\n",
       "    <tr>\n",
       "      <td>1</td>\n",
       "      <td>2</td>\n",
       "      <td>15647311</td>\n",
       "      <td>Hill</td>\n",
       "      <td>608</td>\n",
       "      <td>Spain</td>\n",
       "      <td>Female</td>\n",
       "      <td>41</td>\n",
       "      <td>1</td>\n",
       "      <td>83807.86</td>\n",
       "      <td>1</td>\n",
       "      <td>0</td>\n",
       "      <td>1</td>\n",
       "      <td>112542.58</td>\n",
       "      <td>0</td>\n",
       "    </tr>\n",
       "    <tr>\n",
       "      <td>2</td>\n",
       "      <td>3</td>\n",
       "      <td>15619304</td>\n",
       "      <td>Onio</td>\n",
       "      <td>502</td>\n",
       "      <td>France</td>\n",
       "      <td>Female</td>\n",
       "      <td>42</td>\n",
       "      <td>8</td>\n",
       "      <td>159660.80</td>\n",
       "      <td>3</td>\n",
       "      <td>1</td>\n",
       "      <td>0</td>\n",
       "      <td>113931.57</td>\n",
       "      <td>1</td>\n",
       "    </tr>\n",
       "    <tr>\n",
       "      <td>3</td>\n",
       "      <td>4</td>\n",
       "      <td>15701354</td>\n",
       "      <td>Boni</td>\n",
       "      <td>699</td>\n",
       "      <td>France</td>\n",
       "      <td>Female</td>\n",
       "      <td>39</td>\n",
       "      <td>1</td>\n",
       "      <td>0.00</td>\n",
       "      <td>2</td>\n",
       "      <td>0</td>\n",
       "      <td>0</td>\n",
       "      <td>93826.63</td>\n",
       "      <td>0</td>\n",
       "    </tr>\n",
       "    <tr>\n",
       "      <td>4</td>\n",
       "      <td>5</td>\n",
       "      <td>15737888</td>\n",
       "      <td>Mitchell</td>\n",
       "      <td>850</td>\n",
       "      <td>Spain</td>\n",
       "      <td>Female</td>\n",
       "      <td>43</td>\n",
       "      <td>2</td>\n",
       "      <td>125510.82</td>\n",
       "      <td>1</td>\n",
       "      <td>1</td>\n",
       "      <td>1</td>\n",
       "      <td>79084.10</td>\n",
       "      <td>0</td>\n",
       "    </tr>\n",
       "    <tr>\n",
       "      <td>...</td>\n",
       "      <td>...</td>\n",
       "      <td>...</td>\n",
       "      <td>...</td>\n",
       "      <td>...</td>\n",
       "      <td>...</td>\n",
       "      <td>...</td>\n",
       "      <td>...</td>\n",
       "      <td>...</td>\n",
       "      <td>...</td>\n",
       "      <td>...</td>\n",
       "      <td>...</td>\n",
       "      <td>...</td>\n",
       "      <td>...</td>\n",
       "      <td>...</td>\n",
       "    </tr>\n",
       "    <tr>\n",
       "      <td>9995</td>\n",
       "      <td>9996</td>\n",
       "      <td>15606229</td>\n",
       "      <td>Obijiaku</td>\n",
       "      <td>771</td>\n",
       "      <td>France</td>\n",
       "      <td>Male</td>\n",
       "      <td>39</td>\n",
       "      <td>5</td>\n",
       "      <td>0.00</td>\n",
       "      <td>2</td>\n",
       "      <td>1</td>\n",
       "      <td>0</td>\n",
       "      <td>96270.64</td>\n",
       "      <td>0</td>\n",
       "    </tr>\n",
       "    <tr>\n",
       "      <td>9996</td>\n",
       "      <td>9997</td>\n",
       "      <td>15569892</td>\n",
       "      <td>Johnstone</td>\n",
       "      <td>516</td>\n",
       "      <td>France</td>\n",
       "      <td>Male</td>\n",
       "      <td>35</td>\n",
       "      <td>10</td>\n",
       "      <td>57369.61</td>\n",
       "      <td>1</td>\n",
       "      <td>1</td>\n",
       "      <td>1</td>\n",
       "      <td>101699.77</td>\n",
       "      <td>0</td>\n",
       "    </tr>\n",
       "    <tr>\n",
       "      <td>9997</td>\n",
       "      <td>9998</td>\n",
       "      <td>15584532</td>\n",
       "      <td>Liu</td>\n",
       "      <td>709</td>\n",
       "      <td>France</td>\n",
       "      <td>Female</td>\n",
       "      <td>36</td>\n",
       "      <td>7</td>\n",
       "      <td>0.00</td>\n",
       "      <td>1</td>\n",
       "      <td>0</td>\n",
       "      <td>1</td>\n",
       "      <td>42085.58</td>\n",
       "      <td>1</td>\n",
       "    </tr>\n",
       "    <tr>\n",
       "      <td>9998</td>\n",
       "      <td>9999</td>\n",
       "      <td>15682355</td>\n",
       "      <td>Sabbatini</td>\n",
       "      <td>772</td>\n",
       "      <td>Germany</td>\n",
       "      <td>Male</td>\n",
       "      <td>42</td>\n",
       "      <td>3</td>\n",
       "      <td>75075.31</td>\n",
       "      <td>2</td>\n",
       "      <td>1</td>\n",
       "      <td>0</td>\n",
       "      <td>92888.52</td>\n",
       "      <td>1</td>\n",
       "    </tr>\n",
       "    <tr>\n",
       "      <td>9999</td>\n",
       "      <td>10000</td>\n",
       "      <td>15628319</td>\n",
       "      <td>Walker</td>\n",
       "      <td>792</td>\n",
       "      <td>France</td>\n",
       "      <td>Female</td>\n",
       "      <td>28</td>\n",
       "      <td>-1</td>\n",
       "      <td>130142.79</td>\n",
       "      <td>1</td>\n",
       "      <td>1</td>\n",
       "      <td>0</td>\n",
       "      <td>38190.78</td>\n",
       "      <td>0</td>\n",
       "    </tr>\n",
       "  </tbody>\n",
       "</table>\n",
       "<p>10000 rows × 14 columns</p>\n",
       "</div>"
      ],
      "text/plain": [
       "      rownumber  customerid    surname  creditscore geography  gender  age  \\\n",
       "0             1    15634602   Hargrave          619    France  Female   42   \n",
       "1             2    15647311       Hill          608     Spain  Female   41   \n",
       "2             3    15619304       Onio          502    France  Female   42   \n",
       "3             4    15701354       Boni          699    France  Female   39   \n",
       "4             5    15737888   Mitchell          850     Spain  Female   43   \n",
       "...         ...         ...        ...          ...       ...     ...  ...   \n",
       "9995       9996    15606229   Obijiaku          771    France    Male   39   \n",
       "9996       9997    15569892  Johnstone          516    France    Male   35   \n",
       "9997       9998    15584532        Liu          709    France  Female   36   \n",
       "9998       9999    15682355  Sabbatini          772   Germany    Male   42   \n",
       "9999      10000    15628319     Walker          792    France  Female   28   \n",
       "\n",
       "      tenure    balance  numofproducts  hascrcard  isactivemember  \\\n",
       "0          2       0.00              1          1               1   \n",
       "1          1   83807.86              1          0               1   \n",
       "2          8  159660.80              3          1               0   \n",
       "3          1       0.00              2          0               0   \n",
       "4          2  125510.82              1          1               1   \n",
       "...      ...        ...            ...        ...             ...   \n",
       "9995       5       0.00              2          1               0   \n",
       "9996      10   57369.61              1          1               1   \n",
       "9997       7       0.00              1          0               1   \n",
       "9998       3   75075.31              2          1               0   \n",
       "9999      -1  130142.79              1          1               0   \n",
       "\n",
       "      estimatedsalary  exited  \n",
       "0           101348.88       1  \n",
       "1           112542.58       0  \n",
       "2           113931.57       1  \n",
       "3            93826.63       0  \n",
       "4            79084.10       0  \n",
       "...               ...     ...  \n",
       "9995         96270.64       0  \n",
       "9996        101699.77       0  \n",
       "9997         42085.58       1  \n",
       "9998         92888.52       1  \n",
       "9999         38190.78       0  \n",
       "\n",
       "[10000 rows x 14 columns]"
      ]
     },
     "execution_count": 28,
     "metadata": {},
     "output_type": "execute_result"
    }
   ],
   "source": [
    "df"
   ]
  },
  {
   "cell_type": "code",
   "execution_count": 29,
   "metadata": {
    "scrolled": true
   },
   "outputs": [
    {
     "data": {
      "text/html": [
       "<div>\n",
       "<style scoped>\n",
       "    .dataframe tbody tr th:only-of-type {\n",
       "        vertical-align: middle;\n",
       "    }\n",
       "\n",
       "    .dataframe tbody tr th {\n",
       "        vertical-align: top;\n",
       "    }\n",
       "\n",
       "    .dataframe thead th {\n",
       "        text-align: right;\n",
       "    }\n",
       "</style>\n",
       "<table border=\"1\" class=\"dataframe\">\n",
       "  <thead>\n",
       "    <tr style=\"text-align: right;\">\n",
       "      <th></th>\n",
       "      <th>creditscore</th>\n",
       "      <th>geography</th>\n",
       "      <th>gender</th>\n",
       "      <th>age</th>\n",
       "      <th>tenure</th>\n",
       "      <th>balance</th>\n",
       "      <th>numofproducts</th>\n",
       "      <th>hascrcard</th>\n",
       "      <th>isactivemember</th>\n",
       "      <th>estimatedsalary</th>\n",
       "      <th>exited</th>\n",
       "    </tr>\n",
       "  </thead>\n",
       "  <tbody>\n",
       "    <tr>\n",
       "      <td>0</td>\n",
       "      <td>619</td>\n",
       "      <td>France</td>\n",
       "      <td>Female</td>\n",
       "      <td>42</td>\n",
       "      <td>2</td>\n",
       "      <td>0.00</td>\n",
       "      <td>1</td>\n",
       "      <td>1</td>\n",
       "      <td>1</td>\n",
       "      <td>101348.88</td>\n",
       "      <td>1</td>\n",
       "    </tr>\n",
       "    <tr>\n",
       "      <td>1</td>\n",
       "      <td>608</td>\n",
       "      <td>Spain</td>\n",
       "      <td>Female</td>\n",
       "      <td>41</td>\n",
       "      <td>1</td>\n",
       "      <td>83807.86</td>\n",
       "      <td>1</td>\n",
       "      <td>0</td>\n",
       "      <td>1</td>\n",
       "      <td>112542.58</td>\n",
       "      <td>0</td>\n",
       "    </tr>\n",
       "    <tr>\n",
       "      <td>2</td>\n",
       "      <td>502</td>\n",
       "      <td>France</td>\n",
       "      <td>Female</td>\n",
       "      <td>42</td>\n",
       "      <td>8</td>\n",
       "      <td>159660.80</td>\n",
       "      <td>3</td>\n",
       "      <td>1</td>\n",
       "      <td>0</td>\n",
       "      <td>113931.57</td>\n",
       "      <td>1</td>\n",
       "    </tr>\n",
       "    <tr>\n",
       "      <td>3</td>\n",
       "      <td>699</td>\n",
       "      <td>France</td>\n",
       "      <td>Female</td>\n",
       "      <td>39</td>\n",
       "      <td>1</td>\n",
       "      <td>0.00</td>\n",
       "      <td>2</td>\n",
       "      <td>0</td>\n",
       "      <td>0</td>\n",
       "      <td>93826.63</td>\n",
       "      <td>0</td>\n",
       "    </tr>\n",
       "    <tr>\n",
       "      <td>4</td>\n",
       "      <td>850</td>\n",
       "      <td>Spain</td>\n",
       "      <td>Female</td>\n",
       "      <td>43</td>\n",
       "      <td>2</td>\n",
       "      <td>125510.82</td>\n",
       "      <td>1</td>\n",
       "      <td>1</td>\n",
       "      <td>1</td>\n",
       "      <td>79084.10</td>\n",
       "      <td>0</td>\n",
       "    </tr>\n",
       "    <tr>\n",
       "      <td>...</td>\n",
       "      <td>...</td>\n",
       "      <td>...</td>\n",
       "      <td>...</td>\n",
       "      <td>...</td>\n",
       "      <td>...</td>\n",
       "      <td>...</td>\n",
       "      <td>...</td>\n",
       "      <td>...</td>\n",
       "      <td>...</td>\n",
       "      <td>...</td>\n",
       "      <td>...</td>\n",
       "    </tr>\n",
       "    <tr>\n",
       "      <td>9995</td>\n",
       "      <td>771</td>\n",
       "      <td>France</td>\n",
       "      <td>Male</td>\n",
       "      <td>39</td>\n",
       "      <td>5</td>\n",
       "      <td>0.00</td>\n",
       "      <td>2</td>\n",
       "      <td>1</td>\n",
       "      <td>0</td>\n",
       "      <td>96270.64</td>\n",
       "      <td>0</td>\n",
       "    </tr>\n",
       "    <tr>\n",
       "      <td>9996</td>\n",
       "      <td>516</td>\n",
       "      <td>France</td>\n",
       "      <td>Male</td>\n",
       "      <td>35</td>\n",
       "      <td>10</td>\n",
       "      <td>57369.61</td>\n",
       "      <td>1</td>\n",
       "      <td>1</td>\n",
       "      <td>1</td>\n",
       "      <td>101699.77</td>\n",
       "      <td>0</td>\n",
       "    </tr>\n",
       "    <tr>\n",
       "      <td>9997</td>\n",
       "      <td>709</td>\n",
       "      <td>France</td>\n",
       "      <td>Female</td>\n",
       "      <td>36</td>\n",
       "      <td>7</td>\n",
       "      <td>0.00</td>\n",
       "      <td>1</td>\n",
       "      <td>0</td>\n",
       "      <td>1</td>\n",
       "      <td>42085.58</td>\n",
       "      <td>1</td>\n",
       "    </tr>\n",
       "    <tr>\n",
       "      <td>9998</td>\n",
       "      <td>772</td>\n",
       "      <td>Germany</td>\n",
       "      <td>Male</td>\n",
       "      <td>42</td>\n",
       "      <td>3</td>\n",
       "      <td>75075.31</td>\n",
       "      <td>2</td>\n",
       "      <td>1</td>\n",
       "      <td>0</td>\n",
       "      <td>92888.52</td>\n",
       "      <td>1</td>\n",
       "    </tr>\n",
       "    <tr>\n",
       "      <td>9999</td>\n",
       "      <td>792</td>\n",
       "      <td>France</td>\n",
       "      <td>Female</td>\n",
       "      <td>28</td>\n",
       "      <td>-1</td>\n",
       "      <td>130142.79</td>\n",
       "      <td>1</td>\n",
       "      <td>1</td>\n",
       "      <td>0</td>\n",
       "      <td>38190.78</td>\n",
       "      <td>0</td>\n",
       "    </tr>\n",
       "  </tbody>\n",
       "</table>\n",
       "<p>10000 rows × 11 columns</p>\n",
       "</div>"
      ],
      "text/plain": [
       "      creditscore geography  gender  age  tenure    balance  numofproducts  \\\n",
       "0             619    France  Female   42       2       0.00              1   \n",
       "1             608     Spain  Female   41       1   83807.86              1   \n",
       "2             502    France  Female   42       8  159660.80              3   \n",
       "3             699    France  Female   39       1       0.00              2   \n",
       "4             850     Spain  Female   43       2  125510.82              1   \n",
       "...           ...       ...     ...  ...     ...        ...            ...   \n",
       "9995          771    France    Male   39       5       0.00              2   \n",
       "9996          516    France    Male   35      10   57369.61              1   \n",
       "9997          709    France  Female   36       7       0.00              1   \n",
       "9998          772   Germany    Male   42       3   75075.31              2   \n",
       "9999          792    France  Female   28      -1  130142.79              1   \n",
       "\n",
       "      hascrcard  isactivemember  estimatedsalary  exited  \n",
       "0             1               1        101348.88       1  \n",
       "1             0               1        112542.58       0  \n",
       "2             1               0        113931.57       1  \n",
       "3             0               0         93826.63       0  \n",
       "4             1               1         79084.10       0  \n",
       "...         ...             ...              ...     ...  \n",
       "9995          1               0         96270.64       0  \n",
       "9996          1               1        101699.77       0  \n",
       "9997          0               1         42085.58       1  \n",
       "9998          1               0         92888.52       1  \n",
       "9999          1               0         38190.78       0  \n",
       "\n",
       "[10000 rows x 11 columns]"
      ]
     },
     "execution_count": 29,
     "metadata": {},
     "output_type": "execute_result"
    }
   ],
   "source": [
    "data = df.drop(['rownumber','customerid','surname'],axis = 1)\n",
    "data"
   ]
  },
  {
   "cell_type": "markdown",
   "metadata": {},
   "source": [
    "## Борьба с дисбалансом"
   ]
  },
  {
   "cell_type": "code",
   "execution_count": 30,
   "metadata": {},
   "outputs": [
    {
     "data": {
      "text/plain": [
       "0    7963\n",
       "1    2037\n",
       "Name: exited, dtype: int64"
      ]
     },
     "execution_count": 30,
     "metadata": {},
     "output_type": "execute_result"
    }
   ],
   "source": [
    "data['exited'].value_counts()"
   ]
  },
  {
   "cell_type": "markdown",
   "metadata": {},
   "source": [
    "Ушедших клиентов в выборке в четыре раза меньше, чем оставшихся."
   ]
  },
  {
   "cell_type": "code",
   "execution_count": 31,
   "metadata": {},
   "outputs": [],
   "source": [
    "features = data.drop(['exited'], axis=1)\n",
    "target = data['exited']\n",
    "df_train, df_valid  = train_test_split(data, test_size=2/5, random_state=10000,stratify=data['exited'])\n",
    "df_valid, df_test = train_test_split(df_valid, test_size=1/2, random_state=10000,stratify=df_valid['exited'])\n",
    "\n",
    "features_train = df_train.drop(['exited'], axis=1)\n",
    "target_train = df_train['exited']\n",
    "\n",
    "features_valid = df_valid.drop(['exited'], axis=1)\n",
    "target_valid = df_valid['exited']\n",
    "\n",
    "features_test = df.drop(['exited'], axis=1)\n",
    "target_test = df['exited']"
   ]
  },
  {
   "cell_type": "code",
   "execution_count": 32,
   "metadata": {},
   "outputs": [],
   "source": [
    "transformer = ColumnTransformer(transformers=[('standardscaler', StandardScaler(),\n",
    "                                 ['creditscore', 'estimatedsalary', 'age', 'balance', 'numofproducts']),\n",
    "                                ('onehotencoder', OneHotEncoder(drop = 'first'),\n",
    "                                 ['geography', 'gender','tenure'])],remainder='passthrough')"
   ]
  },
  {
   "cell_type": "markdown",
   "metadata": {},
   "source": [
    "### Без учёта баланса"
   ]
  },
  {
   "cell_type": "markdown",
   "metadata": {},
   "source": [
    "#### Случайный лес"
   ]
  },
  {
   "cell_type": "code",
   "execution_count": 33,
   "metadata": {},
   "outputs": [],
   "source": [
    "model = RandomForestClassifier(random_state=10000)"
   ]
  },
  {
   "cell_type": "code",
   "execution_count": 34,
   "metadata": {},
   "outputs": [
    {
     "name": "stderr",
     "output_type": "stream",
     "text": [
      "/opt/conda/lib/python3.7/site-packages/sklearn/ensemble/forest.py:245: FutureWarning: The default value of n_estimators will change from 10 in version 0.20 to 100 in 0.22.\n",
      "  \"10 in version 0.20 to 100 in 0.22.\", FutureWarning)\n"
     ]
    },
    {
     "data": {
      "text/plain": [
       "Pipeline(memory=None,\n",
       "         steps=[('columntransformer',\n",
       "                 ColumnTransformer(n_jobs=None, remainder='passthrough',\n",
       "                                   sparse_threshold=0.3,\n",
       "                                   transformer_weights=None,\n",
       "                                   transformers=[('standardscaler',\n",
       "                                                  StandardScaler(copy=True,\n",
       "                                                                 with_mean=True,\n",
       "                                                                 with_std=True),\n",
       "                                                  ['creditscore',\n",
       "                                                   'estimatedsalary', 'age',\n",
       "                                                   'balance',\n",
       "                                                   'numofproducts']),\n",
       "                                                 ('onehotencoder',\n",
       "                                                  OneHotEncoder(categorical_feat...\n",
       "                 RandomForestClassifier(bootstrap=True, class_weight=None,\n",
       "                                        criterion='gini', max_depth=None,\n",
       "                                        max_features='auto',\n",
       "                                        max_leaf_nodes=None,\n",
       "                                        min_impurity_decrease=0.0,\n",
       "                                        min_impurity_split=None,\n",
       "                                        min_samples_leaf=1, min_samples_split=2,\n",
       "                                        min_weight_fraction_leaf=0.0,\n",
       "                                        n_estimators=10, n_jobs=None,\n",
       "                                        oob_score=False, random_state=10000,\n",
       "                                        verbose=0, warm_start=False))],\n",
       "         verbose=False)"
      ]
     },
     "execution_count": 34,
     "metadata": {},
     "output_type": "execute_result"
    }
   ],
   "source": [
    "pipeline = make_pipeline(transformer,model)\n",
    "pipeline.fit(features_train, target_train)"
   ]
  },
  {
   "cell_type": "code",
   "execution_count": 35,
   "metadata": {},
   "outputs": [
    {
     "data": {
      "text/plain": [
       "(0.5284810126582278, 0.6867548526948467)"
      ]
     },
     "execution_count": 35,
     "metadata": {},
     "output_type": "execute_result"
    }
   ],
   "source": [
    "predicted = pipeline.predict(features_valid)\n",
    "f1_score(target_valid, predicted),roc_auc_score(target_valid, predicted)"
   ]
  },
  {
   "cell_type": "markdown",
   "metadata": {},
   "source": [
    "Даже без устранения баланса модель что-то может предсказать, судя по ROC-AUC."
   ]
  },
  {
   "cell_type": "markdown",
   "metadata": {},
   "source": [
    "#### Градиентный бустинг"
   ]
  },
  {
   "cell_type": "code",
   "execution_count": 36,
   "metadata": {},
   "outputs": [
    {
     "data": {
      "text/plain": [
       "(0.5945121951219512, 0.7223248595920782)"
      ]
     },
     "execution_count": 36,
     "metadata": {},
     "output_type": "execute_result"
    }
   ],
   "source": [
    "model = GradientBoostingClassifier(random_state=10000)\n",
    "pipeline = make_pipeline(transformer,model)\n",
    "pipeline.fit(features_train, target_train)\n",
    "predicted = pipeline.predict(features_valid)\n",
    "f1_score(target_valid, predicted),roc_auc_score(target_valid, predicted)"
   ]
  },
  {
   "cell_type": "markdown",
   "metadata": {},
   "source": [
    "Градиентный бустинг справляется лучше."
   ]
  },
  {
   "cell_type": "markdown",
   "metadata": {},
   "source": [
    "### С балансированием"
   ]
  },
  {
   "cell_type": "markdown",
   "metadata": {},
   "source": [
    "####  Случайный лес"
   ]
  },
  {
   "cell_type": "code",
   "execution_count": 37,
   "metadata": {},
   "outputs": [
    {
     "name": "stderr",
     "output_type": "stream",
     "text": [
      "/opt/conda/lib/python3.7/site-packages/sklearn/ensemble/forest.py:245: FutureWarning: The default value of n_estimators will change from 10 in version 0.20 to 100 in 0.22.\n",
      "  \"10 in version 0.20 to 100 in 0.22.\", FutureWarning)\n"
     ]
    },
    {
     "data": {
      "text/plain": [
       "(0.4895330112721416, 0.6671162183466351)"
      ]
     },
     "execution_count": 37,
     "metadata": {},
     "output_type": "execute_result"
    }
   ],
   "source": [
    "model = RandomForestClassifier(class_weight='balanced',random_state=10000)\n",
    "pipeline = make_pipeline(transformer,model)\n",
    "pipeline.fit(features_train, target_train)\n",
    "predicted = pipeline.predict(features_valid)\n",
    "f1_score(target_valid, predicted),roc_auc_score(target_valid, predicted)"
   ]
  },
  {
   "cell_type": "markdown",
   "metadata": {},
   "source": [
    "Балансирование сработало не так, как хотелось бы."
   ]
  },
  {
   "cell_type": "markdown",
   "metadata": {},
   "source": [
    "####  Градиентный бустинг"
   ]
  },
  {
   "cell_type": "markdown",
   "metadata": {},
   "source": [
    "Потребуется вручную изменить соотношение классов."
   ]
  },
  {
   "cell_type": "code",
   "execution_count": 38,
   "metadata": {},
   "outputs": [
    {
     "data": {
      "text/plain": [
       "0    4778\n",
       "1    1222\n",
       "Name: exited, dtype: int64"
      ]
     },
     "execution_count": 38,
     "metadata": {},
     "output_type": "execute_result"
    }
   ],
   "source": [
    "df_train['exited'].value_counts()"
   ]
  },
  {
   "cell_type": "markdown",
   "metadata": {},
   "source": [
    "Функция для балансирования:"
   ]
  },
  {
   "cell_type": "code",
   "execution_count": 39,
   "metadata": {},
   "outputs": [],
   "source": [
    "def balancer(df_trainx,repeats = 3):\n",
    "    df_trainx = pd.concat([df_trainx] +[df_trainx[df_trainx['exited'] == 1]]*repeats)\n",
    "    #print(df_trainx['exited'].value_counts())\n",
    "    df_trainx = shuffle(df_trainx, random_state=10000)\n",
    "    features_trainx = df_trainx.drop(['exited'], axis=1)\n",
    "    target_trainx = df_trainx['exited']\n",
    "    #print(df_trainx['exited'].value_counts())\n",
    "    return features_trainx, target_trainx"
   ]
  },
  {
   "cell_type": "code",
   "execution_count": 40,
   "metadata": {},
   "outputs": [],
   "source": [
    "features_train, target_train = balancer(df_train)"
   ]
  },
  {
   "cell_type": "code",
   "execution_count": 41,
   "metadata": {},
   "outputs": [
    {
     "data": {
      "text/plain": [
       "1    4888\n",
       "0    4778\n",
       "Name: exited, dtype: int64"
      ]
     },
     "execution_count": 41,
     "metadata": {},
     "output_type": "execute_result"
    }
   ],
   "source": [
    "target_train.value_counts()"
   ]
  },
  {
   "cell_type": "code",
   "execution_count": 42,
   "metadata": {},
   "outputs": [
    {
     "data": {
      "text/plain": [
       "(0.6227180527383367, 0.7911124248694453)"
      ]
     },
     "execution_count": 42,
     "metadata": {},
     "output_type": "execute_result"
    }
   ],
   "source": [
    "model = GradientBoostingClassifier(random_state=10000)\n",
    "pipeline = make_pipeline(transformer,model)\n",
    "pipeline.fit(features_train, target_train)\n",
    "predicted = pipeline.predict(features_valid)\n",
    "f1_score(target_valid, predicted),roc_auc_score(target_valid, predicted)"
   ]
  },
  {
   "cell_type": "markdown",
   "metadata": {},
   "source": [
    "На градиентном бустинге балансирование сказалось в положительную сторону.<br>Интересно посмотреть на поведение случайного леса на вручную сбалансированной выборке."
   ]
  },
  {
   "cell_type": "code",
   "execution_count": 43,
   "metadata": {},
   "outputs": [
    {
     "name": "stderr",
     "output_type": "stream",
     "text": [
      "/opt/conda/lib/python3.7/site-packages/sklearn/ensemble/forest.py:245: FutureWarning: The default value of n_estimators will change from 10 in version 0.20 to 100 in 0.22.\n",
      "  \"10 in version 0.20 to 100 in 0.22.\", FutureWarning)\n"
     ]
    },
    {
     "data": {
      "text/plain": [
       "(0.5857740585774057, 0.72625997635235)"
      ]
     },
     "execution_count": 43,
     "metadata": {},
     "output_type": "execute_result"
    }
   ],
   "source": [
    "model = RandomForestClassifier(random_state=10000)\n",
    "pipeline = make_pipeline(transformer,model)\n",
    "pipeline.fit(features_train, target_train)\n",
    "predicted = pipeline.predict(features_valid)\n",
    "f1_score(target_valid, predicted),roc_auc_score(target_valid, predicted)"
   ]
  },
  {
   "cell_type": "markdown",
   "metadata": {},
   "source": [
    "Похоже, что ручная балансировка работает несоизмеримо лучше автоматической."
   ]
  },
  {
   "cell_type": "markdown",
   "metadata": {},
   "source": [
    "## Тестирование модели"
   ]
  },
  {
   "cell_type": "markdown",
   "metadata": {},
   "source": [
    "### Поиск оптимальных гиперпараметров"
   ]
  },
  {
   "cell_type": "markdown",
   "metadata": {},
   "source": [
    "#### Градиентный бустинг"
   ]
  },
  {
   "cell_type": "code",
   "execution_count": 44,
   "metadata": {},
   "outputs": [],
   "source": [
    "loss_n = ['deviance', 'exponential']\n",
    "n_estimators_n = [x for x in range(50,201,10)]\n",
    "#criterion_n = ['friedman_mse', 'squared_error']\n",
    "#min_samples_split_n = [2,3,4,5]\n",
    "max_depth_n = [1,2,3,4,5,6,7]\n",
    "#learning_rate_n = [x/10 for x in range(1,11)]\n",
    "#subsample_n = [(1-x/10) for x in range(10)]\n",
    "repeats = [0,1,2,3,4,5]"
   ]
  },
  {
   "cell_type": "markdown",
   "metadata": {},
   "source": [
    "Выполнение следующей ячейки займёт 42 минуты."
   ]
  },
  {
   "cell_type": "code",
   "execution_count": 45,
   "metadata": {},
   "outputs": [
    {
     "name": "stdout",
     "output_type": "stream",
     "text": [
      "\n",
      "Best repeats: 1\n",
      "Best f1: 0.6649550706033375\n",
      "Best loss: exponential\n",
      "Best n_estimators: 130\n",
      "Best max_depth: 3\n",
      "CPU times: user 58min 5s, sys: 3.02 s, total: 58min 8s\n",
      "Wall time: 58min 41s\n"
     ]
    }
   ],
   "source": [
    "%%time\n",
    "best_f1 = 0\n",
    "for repeat in repeats:\n",
    "    features_train, target_train = balancer(df_train,repeat) \n",
    "    for x in loss_n:\n",
    "        for y in n_estimators_n:\n",
    "            for z in max_depth_n:\n",
    "                model = GradientBoostingClassifier(loss = x, random_state=10000,n_estimators = y, max_depth = z)\n",
    "                pipeline = make_pipeline(transformer,model)\n",
    "                pipeline.fit(features_train, target_train)\n",
    "                predicted = pipeline.predict(features_valid)\n",
    "                score = f1_score(target_valid, predicted)\n",
    "                if score > best_f1:\n",
    "                    best_f1 = score\n",
    "                    best_loss = x\n",
    "                    best_n_estimators = y\n",
    "                    best_max_depth = z\n",
    "                    best_repeat = repeat\n",
    "                \n",
    "        \n",
    "        \n",
    "        \n",
    "print('\\nBest repeats:',best_repeat)\n",
    "print('Best f1:',best_f1)\n",
    "print('Best loss:',best_loss)\n",
    "print('Best n_estimators:',best_n_estimators)\n",
    "print('Best max_depth:',best_max_depth)"
   ]
  },
  {
   "cell_type": "code",
   "execution_count": 46,
   "metadata": {},
   "outputs": [],
   "source": [
    "repeat = 1"
   ]
  },
  {
   "cell_type": "code",
   "execution_count": 47,
   "metadata": {},
   "outputs": [],
   "source": [
    "features_train, target_train = balancer(df_train,repeat) "
   ]
  },
  {
   "cell_type": "code",
   "execution_count": 48,
   "metadata": {},
   "outputs": [],
   "source": [
    "min_impurity_decrease_n = [0,0.1,0.2,0.3,0.4,0.5,0.6,0.7]"
   ]
  },
  {
   "cell_type": "code",
   "execution_count": 49,
   "metadata": {},
   "outputs": [
    {
     "name": "stdout",
     "output_type": "stream",
     "text": [
      "0.6658130601792573\n",
      "0.5\n"
     ]
    }
   ],
   "source": [
    "best_f1 = 0\n",
    "for x in min_impurity_decrease_n:\n",
    "    model = GradientBoostingClassifier(min_impurity_decrease = x, loss = 'exponential',random_state=10000,n_estimators = 130,max_depth = 3)\n",
    "    pipeline = make_pipeline(transformer,model)\n",
    "    pipeline.fit(features_train, target_train)\n",
    "    predicted = pipeline.predict(features_valid)\n",
    "    score = f1_score(target_valid, predicted)\n",
    "    if score > best_f1:\n",
    "        best_f1 = score\n",
    "        best_hyper = x\n",
    "print(best_f1)\n",
    "print(best_hyper)"
   ]
  },
  {
   "cell_type": "markdown",
   "metadata": {},
   "source": [
    "#### Случайный лес"
   ]
  },
  {
   "cell_type": "code",
   "execution_count": 50,
   "metadata": {},
   "outputs": [],
   "source": [
    "criterion_n = ['gini','entropy']"
   ]
  },
  {
   "cell_type": "code",
   "execution_count": 51,
   "metadata": {},
   "outputs": [
    {
     "name": "stderr",
     "output_type": "stream",
     "text": [
      "/opt/conda/lib/python3.7/site-packages/sklearn/metrics/classification.py:1437: UndefinedMetricWarning: F-score is ill-defined and being set to 0.0 due to no predicted samples.\n",
      "  'precision', 'predicted', average, warn_for)\n",
      "/opt/conda/lib/python3.7/site-packages/sklearn/metrics/classification.py:1437: UndefinedMetricWarning: F-score is ill-defined and being set to 0.0 due to no predicted samples.\n",
      "  'precision', 'predicted', average, warn_for)\n",
      "/opt/conda/lib/python3.7/site-packages/sklearn/metrics/classification.py:1437: UndefinedMetricWarning: F-score is ill-defined and being set to 0.0 due to no predicted samples.\n",
      "  'precision', 'predicted', average, warn_for)\n",
      "/opt/conda/lib/python3.7/site-packages/sklearn/metrics/classification.py:1437: UndefinedMetricWarning: F-score is ill-defined and being set to 0.0 due to no predicted samples.\n",
      "  'precision', 'predicted', average, warn_for)\n",
      "/opt/conda/lib/python3.7/site-packages/sklearn/metrics/classification.py:1437: UndefinedMetricWarning: F-score is ill-defined and being set to 0.0 due to no predicted samples.\n",
      "  'precision', 'predicted', average, warn_for)\n",
      "/opt/conda/lib/python3.7/site-packages/sklearn/metrics/classification.py:1437: UndefinedMetricWarning: F-score is ill-defined and being set to 0.0 due to no predicted samples.\n",
      "  'precision', 'predicted', average, warn_for)\n",
      "/opt/conda/lib/python3.7/site-packages/sklearn/metrics/classification.py:1437: UndefinedMetricWarning: F-score is ill-defined and being set to 0.0 due to no predicted samples.\n",
      "  'precision', 'predicted', average, warn_for)\n",
      "/opt/conda/lib/python3.7/site-packages/sklearn/metrics/classification.py:1437: UndefinedMetricWarning: F-score is ill-defined and being set to 0.0 due to no predicted samples.\n",
      "  'precision', 'predicted', average, warn_for)\n",
      "/opt/conda/lib/python3.7/site-packages/sklearn/metrics/classification.py:1437: UndefinedMetricWarning: F-score is ill-defined and being set to 0.0 due to no predicted samples.\n",
      "  'precision', 'predicted', average, warn_for)\n",
      "/opt/conda/lib/python3.7/site-packages/sklearn/metrics/classification.py:1437: UndefinedMetricWarning: F-score is ill-defined and being set to 0.0 due to no predicted samples.\n",
      "  'precision', 'predicted', average, warn_for)\n",
      "/opt/conda/lib/python3.7/site-packages/sklearn/metrics/classification.py:1437: UndefinedMetricWarning: F-score is ill-defined and being set to 0.0 due to no predicted samples.\n",
      "  'precision', 'predicted', average, warn_for)\n",
      "/opt/conda/lib/python3.7/site-packages/sklearn/metrics/classification.py:1437: UndefinedMetricWarning: F-score is ill-defined and being set to 0.0 due to no predicted samples.\n",
      "  'precision', 'predicted', average, warn_for)\n",
      "/opt/conda/lib/python3.7/site-packages/sklearn/metrics/classification.py:1437: UndefinedMetricWarning: F-score is ill-defined and being set to 0.0 due to no predicted samples.\n",
      "  'precision', 'predicted', average, warn_for)\n",
      "/opt/conda/lib/python3.7/site-packages/sklearn/metrics/classification.py:1437: UndefinedMetricWarning: F-score is ill-defined and being set to 0.0 due to no predicted samples.\n",
      "  'precision', 'predicted', average, warn_for)\n",
      "/opt/conda/lib/python3.7/site-packages/sklearn/metrics/classification.py:1437: UndefinedMetricWarning: F-score is ill-defined and being set to 0.0 due to no predicted samples.\n",
      "  'precision', 'predicted', average, warn_for)\n",
      "/opt/conda/lib/python3.7/site-packages/sklearn/metrics/classification.py:1437: UndefinedMetricWarning: F-score is ill-defined and being set to 0.0 due to no predicted samples.\n",
      "  'precision', 'predicted', average, warn_for)\n",
      "/opt/conda/lib/python3.7/site-packages/sklearn/metrics/classification.py:1437: UndefinedMetricWarning: F-score is ill-defined and being set to 0.0 due to no predicted samples.\n",
      "  'precision', 'predicted', average, warn_for)\n",
      "/opt/conda/lib/python3.7/site-packages/sklearn/metrics/classification.py:1437: UndefinedMetricWarning: F-score is ill-defined and being set to 0.0 due to no predicted samples.\n",
      "  'precision', 'predicted', average, warn_for)\n",
      "/opt/conda/lib/python3.7/site-packages/sklearn/metrics/classification.py:1437: UndefinedMetricWarning: F-score is ill-defined and being set to 0.0 due to no predicted samples.\n",
      "  'precision', 'predicted', average, warn_for)\n",
      "/opt/conda/lib/python3.7/site-packages/sklearn/metrics/classification.py:1437: UndefinedMetricWarning: F-score is ill-defined and being set to 0.0 due to no predicted samples.\n",
      "  'precision', 'predicted', average, warn_for)\n",
      "/opt/conda/lib/python3.7/site-packages/sklearn/metrics/classification.py:1437: UndefinedMetricWarning: F-score is ill-defined and being set to 0.0 due to no predicted samples.\n",
      "  'precision', 'predicted', average, warn_for)\n",
      "/opt/conda/lib/python3.7/site-packages/sklearn/metrics/classification.py:1437: UndefinedMetricWarning: F-score is ill-defined and being set to 0.0 due to no predicted samples.\n",
      "  'precision', 'predicted', average, warn_for)\n",
      "/opt/conda/lib/python3.7/site-packages/sklearn/metrics/classification.py:1437: UndefinedMetricWarning: F-score is ill-defined and being set to 0.0 due to no predicted samples.\n",
      "  'precision', 'predicted', average, warn_for)\n",
      "/opt/conda/lib/python3.7/site-packages/sklearn/metrics/classification.py:1437: UndefinedMetricWarning: F-score is ill-defined and being set to 0.0 due to no predicted samples.\n",
      "  'precision', 'predicted', average, warn_for)\n",
      "/opt/conda/lib/python3.7/site-packages/sklearn/metrics/classification.py:1437: UndefinedMetricWarning: F-score is ill-defined and being set to 0.0 due to no predicted samples.\n",
      "  'precision', 'predicted', average, warn_for)\n",
      "/opt/conda/lib/python3.7/site-packages/sklearn/metrics/classification.py:1437: UndefinedMetricWarning: F-score is ill-defined and being set to 0.0 due to no predicted samples.\n",
      "  'precision', 'predicted', average, warn_for)\n",
      "/opt/conda/lib/python3.7/site-packages/sklearn/metrics/classification.py:1437: UndefinedMetricWarning: F-score is ill-defined and being set to 0.0 due to no predicted samples.\n",
      "  'precision', 'predicted', average, warn_for)\n",
      "/opt/conda/lib/python3.7/site-packages/sklearn/metrics/classification.py:1437: UndefinedMetricWarning: F-score is ill-defined and being set to 0.0 due to no predicted samples.\n",
      "  'precision', 'predicted', average, warn_for)\n",
      "/opt/conda/lib/python3.7/site-packages/sklearn/metrics/classification.py:1437: UndefinedMetricWarning: F-score is ill-defined and being set to 0.0 due to no predicted samples.\n",
      "  'precision', 'predicted', average, warn_for)\n",
      "/opt/conda/lib/python3.7/site-packages/sklearn/metrics/classification.py:1437: UndefinedMetricWarning: F-score is ill-defined and being set to 0.0 due to no predicted samples.\n",
      "  'precision', 'predicted', average, warn_for)\n",
      "/opt/conda/lib/python3.7/site-packages/sklearn/metrics/classification.py:1437: UndefinedMetricWarning: F-score is ill-defined and being set to 0.0 due to no predicted samples.\n",
      "  'precision', 'predicted', average, warn_for)\n",
      "/opt/conda/lib/python3.7/site-packages/sklearn/metrics/classification.py:1437: UndefinedMetricWarning: F-score is ill-defined and being set to 0.0 due to no predicted samples.\n",
      "  'precision', 'predicted', average, warn_for)\n"
     ]
    },
    {
     "name": "stdout",
     "output_type": "stream",
     "text": [
      "\n",
      "Best repeats: 2\n",
      "Best f1: 0.6562123039806996\n",
      "Best criterion: gini\n",
      "Best n_estimators: 110\n",
      "Best max_depth: 6\n",
      "CPU times: user 19min 6s, sys: 5.48 s, total: 19min 11s\n",
      "Wall time: 19min 23s\n"
     ]
    }
   ],
   "source": [
    "%%time\n",
    "best_f1 = 0\n",
    "for repeat in repeats:\n",
    "    features_train, target_train = balancer(df_train,repeat) \n",
    "    for x in criterion_n:\n",
    "        for y in n_estimators_n:\n",
    "            for z in max_depth_n:\n",
    "                model = RandomForestClassifier(criterion = x, random_state=10000,n_estimators = y, max_depth = z)\n",
    "                pipeline = make_pipeline(transformer,model)\n",
    "                pipeline.fit(features_train, target_train)\n",
    "                predicted = pipeline.predict(features_valid)\n",
    "                score = f1_score(target_valid, predicted)\n",
    "                if score > best_f1:\n",
    "                    best_f1 = score\n",
    "                    best_criterion = x\n",
    "                    best_n_estimators = y\n",
    "                    best_max_depth = z\n",
    "                    best_repeat = repeat\n",
    "                \n",
    "        \n",
    "        \n",
    "        \n",
    "print('\\nBest repeats:',best_repeat)\n",
    "print('Best f1:',best_f1)\n",
    "print('Best criterion:',best_criterion)\n",
    "print('Best n_estimators:',best_n_estimators)\n",
    "print('Best max_depth:',best_max_depth)"
   ]
  },
  {
   "cell_type": "markdown",
   "metadata": {},
   "source": [
    "Случайный лес работает немного хуже."
   ]
  },
  {
   "cell_type": "markdown",
   "metadata": {},
   "source": [
    "#### Лучшая модель"
   ]
  },
  {
   "cell_type": "code",
   "execution_count": 52,
   "metadata": {},
   "outputs": [],
   "source": [
    "repeat = 1"
   ]
  },
  {
   "cell_type": "code",
   "execution_count": 53,
   "metadata": {},
   "outputs": [],
   "source": [
    "model = GradientBoostingClassifier(min_impurity_decrease = 0.5, loss = 'exponential',random_state=10000,n_estimators = 130,max_depth = 3)"
   ]
  },
  {
   "cell_type": "markdown",
   "metadata": {},
   "source": [
    "<div class=\"alert alert-success\">\n",
    "<b>Комментарий ревьюера ✔️:</b>\n",
    "    \n",
    "Молодец, что настраиваешь гиперпараметры, и сразу несколько!"
   ]
  },
  {
   "cell_type": "markdown",
   "metadata": {},
   "source": [
    "### Проверка на тестовой выборке"
   ]
  },
  {
   "cell_type": "markdown",
   "metadata": {},
   "source": [
    "Для теста модель будет обучаться на тренировочной и валидационной выборках."
   ]
  },
  {
   "cell_type": "code",
   "execution_count": 54,
   "metadata": {},
   "outputs": [],
   "source": [
    "df_train = pd.concat([df_train]+[df_valid])"
   ]
  },
  {
   "cell_type": "code",
   "execution_count": 55,
   "metadata": {
    "scrolled": false
   },
   "outputs": [
    {
     "data": {
      "text/plain": [
       "Pipeline(memory=None,\n",
       "         steps=[('columntransformer',\n",
       "                 ColumnTransformer(n_jobs=None, remainder='passthrough',\n",
       "                                   sparse_threshold=0.3,\n",
       "                                   transformer_weights=None,\n",
       "                                   transformers=[('standardscaler',\n",
       "                                                  StandardScaler(copy=True,\n",
       "                                                                 with_mean=True,\n",
       "                                                                 with_std=True),\n",
       "                                                  ['creditscore',\n",
       "                                                   'estimatedsalary', 'age',\n",
       "                                                   'balance',\n",
       "                                                   'numofproducts']),\n",
       "                                                 ('onehotencoder',\n",
       "                                                  OneHotEncoder(categorical_feat...\n",
       "                                            loss='exponential', max_depth=3,\n",
       "                                            max_features=None,\n",
       "                                            max_leaf_nodes=None,\n",
       "                                            min_impurity_decrease=0.5,\n",
       "                                            min_impurity_split=None,\n",
       "                                            min_samples_leaf=1,\n",
       "                                            min_samples_split=2,\n",
       "                                            min_weight_fraction_leaf=0.0,\n",
       "                                            n_estimators=130,\n",
       "                                            n_iter_no_change=None,\n",
       "                                            presort='auto', random_state=10000,\n",
       "                                            subsample=1.0, tol=0.0001,\n",
       "                                            validation_fraction=0.1, verbose=0,\n",
       "                                            warm_start=False))],\n",
       "         verbose=False)"
      ]
     },
     "execution_count": 55,
     "metadata": {},
     "output_type": "execute_result"
    }
   ],
   "source": [
    "features_train, target_train = balancer(df_train,repeat)\n",
    "pipeline = make_pipeline(transformer,model)\n",
    "pipeline.fit(features_train, target_train)"
   ]
  },
  {
   "cell_type": "code",
   "execution_count": 56,
   "metadata": {},
   "outputs": [
    {
     "data": {
      "text/plain": [
       "(0.5738850080601827, 0.7234085406418529)"
      ]
     },
     "execution_count": 56,
     "metadata": {},
     "output_type": "execute_result"
    }
   ],
   "source": [
    "predicted = pipeline.predict(features_test)\n",
    "f1_score(target_test, predicted), roc_auc_score(target_test, predicted)"
   ]
  },
  {
   "cell_type": "markdown",
   "metadata": {},
   "source": [
    "На тестовой выборке результат ниже, но хороший."
   ]
  },
  {
   "cell_type": "markdown",
   "metadata": {},
   "source": [
    "### Кросс-валидация"
   ]
  },
  {
   "cell_type": "code",
   "execution_count": 57,
   "metadata": {},
   "outputs": [],
   "source": [
    "kfold = KFold(n_splits=5, shuffle=True, random_state=9999)"
   ]
  },
  {
   "cell_type": "code",
   "execution_count": 58,
   "metadata": {},
   "outputs": [
    {
     "name": "stdout",
     "output_type": "stream",
     "text": [
      "0.6600741656365884 0.779249547920434\n",
      "0.5939553219448095 0.7411605468039323\n",
      "0.6388206388206388 0.7640809265250398\n",
      "0.6224489795918368 0.7636894199298079\n",
      "0.6376440460947503 0.7714934686379913\n",
      "среднее значение f1 0.6305886304177248\n"
     ]
    }
   ],
   "source": [
    "mean_score = 0\n",
    "for train_ix, test_ix in kfold.split(data):\n",
    "    train, test = data.iloc[train_ix], data.iloc[test_ix]\n",
    "       \n",
    "    features_train, target_train = balancer(train,repeat)\n",
    "    features_test, target_test = test.drop('exited',axis = 1), test['exited']\n",
    "    pipeline.fit(features_train, target_train)\n",
    "    predicted = pipeline.predict(features_test)\n",
    "    mean_score += f1_score(target_test, predicted)   \n",
    "    print(f1_score(target_test, predicted), roc_auc_score(target_test, predicted))\n",
    "print('среднее значение f1',mean_score/5)"
   ]
  },
  {
   "cell_type": "markdown",
   "metadata": {},
   "source": [
    "Кросс-валидация дала удовлетворительный результат.<br>\n",
    "Итоговая модель:"
   ]
  },
  {
   "cell_type": "code",
   "execution_count": 59,
   "metadata": {},
   "outputs": [
    {
     "data": {
      "text/plain": [
       "Pipeline(memory=None,\n",
       "         steps=[('columntransformer',\n",
       "                 ColumnTransformer(n_jobs=None, remainder='passthrough',\n",
       "                                   sparse_threshold=0.3,\n",
       "                                   transformer_weights=None,\n",
       "                                   transformers=[('standardscaler',\n",
       "                                                  StandardScaler(copy=True,\n",
       "                                                                 with_mean=True,\n",
       "                                                                 with_std=True),\n",
       "                                                  ['creditscore',\n",
       "                                                   'estimatedsalary', 'age',\n",
       "                                                   'balance',\n",
       "                                                   'numofproducts']),\n",
       "                                                 ('onehotencoder',\n",
       "                                                  OneHotEncoder(categorical_feat...\n",
       "                                            loss='exponential', max_depth=3,\n",
       "                                            max_features=None,\n",
       "                                            max_leaf_nodes=None,\n",
       "                                            min_impurity_decrease=0.5,\n",
       "                                            min_impurity_split=None,\n",
       "                                            min_samples_leaf=1,\n",
       "                                            min_samples_split=2,\n",
       "                                            min_weight_fraction_leaf=0.0,\n",
       "                                            n_estimators=130,\n",
       "                                            n_iter_no_change=None,\n",
       "                                            presort='auto', random_state=10000,\n",
       "                                            subsample=1.0, tol=0.0001,\n",
       "                                            validation_fraction=0.1, verbose=0,\n",
       "                                            warm_start=False))],\n",
       "         verbose=False)"
      ]
     },
     "execution_count": 59,
     "metadata": {},
     "output_type": "execute_result"
    }
   ],
   "source": [
    "features_train, target_train = balancer(data,repeat)\n",
    "pipeline.fit(features_train, target_train)"
   ]
  },
  {
   "cell_type": "markdown",
   "metadata": {},
   "source": [
    "## Итоговый вовод"
   ]
  },
  {
   "cell_type": "markdown",
   "metadata": {},
   "source": [
    "Данные были исследованы, были опробованы модели случайного леса и градиентного бустинга с обычной и сбалансированной выборкой. Предпочтение было отдано градиентному бустингу как более точной.<br>\n",
    "Для модели были подобраны гиперпараметры: баланс классов, алгоритм оптимизации функции потерь, количество стадий бустинга, глубина деревьев, после чего было подобрано максимальное уменьшение примеси.\n",
    "<br>\n",
    "Была выбрана модель по значению f1 на валидационной выборке, как требовалось задании, причём на кросс-валидации модель себя проявила лучше, чем на тестовой выборке."
   ]
  }
 ],
 "metadata": {
  "ExecuteTimeLog": [
   {
    "duration": 621,
    "start_time": "2022-02-15T15:05:27.216Z"
   },
   {
    "duration": 26,
    "start_time": "2022-02-15T15:06:17.823Z"
   },
   {
    "duration": 20,
    "start_time": "2022-02-15T15:07:56.757Z"
   },
   {
    "duration": 21,
    "start_time": "2022-02-15T15:08:06.815Z"
   },
   {
    "duration": 566,
    "start_time": "2022-02-15T15:08:06.838Z"
   },
   {
    "duration": 23,
    "start_time": "2022-02-15T15:08:07.406Z"
   },
   {
    "duration": 8,
    "start_time": "2022-02-15T15:09:02.701Z"
   },
   {
    "duration": 19,
    "start_time": "2022-02-15T15:09:02.711Z"
   },
   {
    "duration": 51,
    "start_time": "2022-02-15T15:09:02.733Z"
   },
   {
    "duration": 22,
    "start_time": "2022-02-15T15:09:13.703Z"
   },
   {
    "duration": 341,
    "start_time": "2022-02-15T15:19:04.995Z"
   },
   {
    "duration": 32,
    "start_time": "2022-02-15T15:19:10.075Z"
   },
   {
    "duration": 20,
    "start_time": "2022-02-15T15:19:10.916Z"
   },
   {
    "duration": 252,
    "start_time": "2022-02-15T15:20:23.427Z"
   },
   {
    "duration": 283,
    "start_time": "2022-02-15T15:20:30.395Z"
   },
   {
    "duration": 21,
    "start_time": "2022-02-15T15:21:47.596Z"
   },
   {
    "duration": 8,
    "start_time": "2022-02-15T15:22:53.028Z"
   },
   {
    "duration": 8,
    "start_time": "2022-02-15T15:23:22.405Z"
   },
   {
    "duration": 9,
    "start_time": "2022-02-15T15:24:46.732Z"
   },
   {
    "duration": 6,
    "start_time": "2022-02-15T15:25:24.805Z"
   },
   {
    "duration": 21,
    "start_time": "2022-02-15T15:33:11.137Z"
   },
   {
    "duration": 13,
    "start_time": "2022-02-15T15:50:19.134Z"
   },
   {
    "duration": 17,
    "start_time": "2022-02-15T15:55:18.240Z"
   },
   {
    "duration": 2,
    "start_time": "2022-02-15T16:04:52.524Z"
   },
   {
    "duration": 4,
    "start_time": "2022-02-15T16:07:52.717Z"
   },
   {
    "duration": 9,
    "start_time": "2022-02-15T16:08:11.381Z"
   },
   {
    "duration": 4,
    "start_time": "2022-02-15T16:08:33.614Z"
   },
   {
    "duration": 252,
    "start_time": "2022-02-15T16:17:12.913Z"
   },
   {
    "duration": 11,
    "start_time": "2022-02-15T16:17:19.404Z"
   },
   {
    "duration": 15,
    "start_time": "2022-02-15T16:17:32.785Z"
   },
   {
    "duration": 14,
    "start_time": "2022-02-15T16:17:47.118Z"
   },
   {
    "duration": 252,
    "start_time": "2022-02-15T16:20:36.608Z"
   },
   {
    "duration": 15,
    "start_time": "2022-02-15T16:20:47.655Z"
   },
   {
    "duration": 13,
    "start_time": "2022-02-15T16:21:21.497Z"
   },
   {
    "duration": 86,
    "start_time": "2022-02-15T16:29:35.491Z"
   },
   {
    "duration": 22,
    "start_time": "2022-02-15T16:37:14.446Z"
   },
   {
    "duration": 8,
    "start_time": "2022-02-15T16:38:39.593Z"
   },
   {
    "duration": 331,
    "start_time": "2022-02-15T16:39:36.095Z"
   },
   {
    "duration": 219,
    "start_time": "2022-02-15T16:40:17.801Z"
   },
   {
    "duration": 910,
    "start_time": "2022-02-15T17:03:55.121Z"
   },
   {
    "duration": 910,
    "start_time": "2022-02-15T17:15:58.836Z"
   },
   {
    "duration": 974,
    "start_time": "2022-02-15T17:16:04.685Z"
   },
   {
    "duration": 968,
    "start_time": "2022-02-15T17:19:55.494Z"
   },
   {
    "duration": 200,
    "start_time": "2022-02-15T17:29:02.010Z"
   },
   {
    "duration": 206,
    "start_time": "2022-02-15T17:34:28.679Z"
   },
   {
    "duration": 207,
    "start_time": "2022-02-15T17:35:06.257Z"
   },
   {
    "duration": 30,
    "start_time": "2022-02-16T08:25:57.732Z"
   },
   {
    "duration": 760,
    "start_time": "2022-02-16T08:25:57.765Z"
   },
   {
    "duration": 45,
    "start_time": "2022-02-16T08:25:58.528Z"
   },
   {
    "duration": 35,
    "start_time": "2022-02-16T08:25:58.576Z"
   },
   {
    "duration": 67,
    "start_time": "2022-02-16T08:25:58.614Z"
   },
   {
    "duration": 15,
    "start_time": "2022-02-16T08:25:58.684Z"
   },
   {
    "duration": 11,
    "start_time": "2022-02-16T08:25:58.702Z"
   },
   {
    "duration": 78,
    "start_time": "2022-02-16T08:25:58.715Z"
   },
   {
    "duration": 17,
    "start_time": "2022-02-16T08:25:58.796Z"
   },
   {
    "duration": 23,
    "start_time": "2022-02-16T08:25:58.816Z"
   },
   {
    "duration": 5,
    "start_time": "2022-02-16T08:25:58.869Z"
   },
   {
    "duration": 25,
    "start_time": "2022-02-16T08:25:58.876Z"
   },
   {
    "duration": 18,
    "start_time": "2022-02-16T08:25:58.904Z"
   },
   {
    "duration": 515,
    "start_time": "2022-02-16T08:25:58.925Z"
   },
   {
    "duration": 1438,
    "start_time": "2022-02-16T08:25:59.443Z"
   },
   {
    "duration": 1560,
    "start_time": "2022-02-16T08:26:00.883Z"
   },
   {
    "duration": 338,
    "start_time": "2022-02-16T08:26:02.447Z"
   },
   {
    "duration": 4327,
    "start_time": "2022-02-16T08:27:30.954Z"
   },
   {
    "duration": 11,
    "start_time": "2022-02-16T08:28:28.123Z"
   },
   {
    "duration": 11,
    "start_time": "2022-02-16T08:28:43.874Z"
   },
   {
    "duration": 20,
    "start_time": "2022-02-16T08:30:44.782Z"
   },
   {
    "duration": 516,
    "start_time": "2022-02-16T08:32:27.668Z"
   },
   {
    "duration": 1060,
    "start_time": "2022-02-16T08:36:58.230Z"
   },
   {
    "duration": 4,
    "start_time": "2022-02-16T08:37:49.845Z"
   },
   {
    "duration": 1007,
    "start_time": "2022-02-16T08:38:25.934Z"
   },
   {
    "duration": 984,
    "start_time": "2022-02-16T08:38:47.206Z"
   },
   {
    "duration": 1048,
    "start_time": "2022-02-16T08:39:00.870Z"
   },
   {
    "duration": 732,
    "start_time": "2022-02-16T08:44:32.328Z"
   },
   {
    "duration": 7158,
    "start_time": "2022-02-16T08:45:59.968Z"
   },
   {
    "duration": 326,
    "start_time": "2022-02-16T09:12:56.537Z"
   },
   {
    "duration": 271,
    "start_time": "2022-02-16T09:13:04.834Z"
   },
   {
    "duration": 24,
    "start_time": "2022-02-16T09:13:27.978Z"
   },
   {
    "duration": 14,
    "start_time": "2022-02-16T09:14:04.913Z"
   },
   {
    "duration": 3395,
    "start_time": "2022-02-16T09:14:42.274Z"
   },
   {
    "duration": 3095,
    "start_time": "2022-02-16T09:14:54.770Z"
   },
   {
    "duration": 32,
    "start_time": "2022-02-16T09:26:23.686Z"
   },
   {
    "duration": 26,
    "start_time": "2022-02-16T09:26:53.398Z"
   },
   {
    "duration": 3194,
    "start_time": "2022-02-16T09:27:46.646Z"
   },
   {
    "duration": 3301,
    "start_time": "2022-02-16T09:29:07.343Z"
   },
   {
    "duration": 3250,
    "start_time": "2022-02-16T09:29:30.614Z"
   },
   {
    "duration": 279,
    "start_time": "2022-02-16T09:32:40.343Z"
   },
   {
    "duration": 88,
    "start_time": "2022-02-16T09:32:58.232Z"
   },
   {
    "duration": 372,
    "start_time": "2022-02-16T09:33:16.279Z"
   },
   {
    "duration": 3341,
    "start_time": "2022-02-16T09:34:13.576Z"
   },
   {
    "duration": 3561,
    "start_time": "2022-02-16T09:35:20.680Z"
   },
   {
    "duration": 3808,
    "start_time": "2022-02-16T09:35:35.993Z"
   },
   {
    "duration": 3181,
    "start_time": "2022-02-16T09:36:56.306Z"
   },
   {
    "duration": 4074,
    "start_time": "2022-02-16T09:37:21.617Z"
   },
   {
    "duration": 3370,
    "start_time": "2022-02-16T09:39:00.162Z"
   },
   {
    "duration": 3517,
    "start_time": "2022-02-16T09:39:11.330Z"
   },
   {
    "duration": 95,
    "start_time": "2022-02-16T09:52:47.255Z"
   },
   {
    "duration": 3430,
    "start_time": "2022-02-16T09:53:30.646Z"
   },
   {
    "duration": 3791,
    "start_time": "2022-02-16T10:05:53.613Z"
   },
   {
    "duration": 98,
    "start_time": "2022-02-16T10:11:08.861Z"
   },
   {
    "duration": 3460,
    "start_time": "2022-02-16T10:11:23.397Z"
   },
   {
    "duration": 449,
    "start_time": "2022-02-16T10:13:58.454Z"
   },
   {
    "duration": 486,
    "start_time": "2022-02-16T10:14:45.622Z"
   },
   {
    "duration": 20,
    "start_time": "2022-02-16T10:15:01.960Z"
   },
   {
    "duration": 496,
    "start_time": "2022-02-16T10:15:06.198Z"
   },
   {
    "duration": 25,
    "start_time": "2022-02-16T10:15:30.823Z"
   },
   {
    "duration": 3880,
    "start_time": "2022-02-16T10:15:49.462Z"
   },
   {
    "duration": 84,
    "start_time": "2022-02-16T11:21:48.521Z"
   },
   {
    "duration": 20,
    "start_time": "2022-02-16T11:21:58.250Z"
   },
   {
    "duration": 19,
    "start_time": "2022-02-16T11:24:04.002Z"
   },
   {
    "duration": 37,
    "start_time": "2022-02-16T11:25:01.043Z"
   },
   {
    "duration": 88,
    "start_time": "2022-02-16T11:27:01.747Z"
   },
   {
    "duration": 5167,
    "start_time": "2022-02-16T11:27:10.035Z"
   },
   {
    "duration": 7311,
    "start_time": "2022-02-16T11:27:56.916Z"
   },
   {
    "duration": 857,
    "start_time": "2022-02-16T11:28:31.804Z"
   },
   {
    "duration": 2220,
    "start_time": "2022-02-16T11:28:49.331Z"
   },
   {
    "duration": 1881,
    "start_time": "2022-02-16T11:29:25.020Z"
   },
   {
    "duration": 1538,
    "start_time": "2022-02-16T11:29:38.084Z"
   },
   {
    "duration": 1304,
    "start_time": "2022-02-16T11:35:25.861Z"
   },
   {
    "duration": 94,
    "start_time": "2022-02-16T15:34:16.523Z"
   },
   {
    "duration": 931,
    "start_time": "2022-02-16T15:34:21.755Z"
   },
   {
    "duration": 791,
    "start_time": "2022-02-16T15:34:44.224Z"
   },
   {
    "duration": 709,
    "start_time": "2022-02-16T15:34:52.169Z"
   },
   {
    "duration": 9,
    "start_time": "2022-02-16T15:54:45.767Z"
   },
   {
    "duration": 6,
    "start_time": "2022-02-16T15:56:13.799Z"
   },
   {
    "duration": 932,
    "start_time": "2022-02-16T15:57:15.024Z"
   },
   {
    "duration": 27,
    "start_time": "2022-02-16T15:59:02.210Z"
   },
   {
    "duration": 401,
    "start_time": "2022-02-16T16:04:14.595Z"
   },
   {
    "duration": 296,
    "start_time": "2022-02-16T16:04:50.451Z"
   },
   {
    "duration": 33,
    "start_time": "2022-02-16T16:05:54.828Z"
   },
   {
    "duration": 4,
    "start_time": "2022-02-16T16:18:02.691Z"
   },
   {
    "duration": 24,
    "start_time": "2022-02-16T16:23:13.335Z"
   },
   {
    "duration": 3,
    "start_time": "2022-02-16T16:23:44.017Z"
   },
   {
    "duration": 21,
    "start_time": "2022-02-16T16:26:44.426Z"
   },
   {
    "duration": 38,
    "start_time": "2022-02-16T16:26:51.689Z"
   },
   {
    "duration": 7,
    "start_time": "2022-02-16T16:27:24.185Z"
   },
   {
    "duration": 38,
    "start_time": "2022-02-16T16:28:13.154Z"
   },
   {
    "duration": 13,
    "start_time": "2022-02-16T16:28:25.969Z"
   },
   {
    "duration": 23,
    "start_time": "2022-02-16T16:28:42.049Z"
   },
   {
    "duration": 31,
    "start_time": "2022-02-16T16:29:42.234Z"
   },
   {
    "duration": 9,
    "start_time": "2022-02-16T16:31:15.899Z"
   },
   {
    "duration": 24,
    "start_time": "2022-02-16T16:53:15.897Z"
   },
   {
    "duration": 271,
    "start_time": "2022-02-16T16:54:00.283Z"
   },
   {
    "duration": 4,
    "start_time": "2022-02-16T16:54:54.097Z"
   },
   {
    "duration": 295,
    "start_time": "2022-02-16T16:54:59.697Z"
   },
   {
    "duration": 4,
    "start_time": "2022-02-16T16:55:11.611Z"
   },
   {
    "duration": 264,
    "start_time": "2022-02-16T16:57:27.755Z"
   },
   {
    "duration": 312,
    "start_time": "2022-02-16T16:58:08.467Z"
   },
   {
    "duration": 294,
    "start_time": "2022-02-16T16:58:27.555Z"
   },
   {
    "duration": 299,
    "start_time": "2022-02-16T16:59:42.596Z"
   },
   {
    "duration": 35,
    "start_time": "2022-02-16T16:59:57.947Z"
   },
   {
    "duration": 22,
    "start_time": "2022-02-16T17:00:30.085Z"
   },
   {
    "duration": 6,
    "start_time": "2022-02-16T17:00:31.644Z"
   },
   {
    "duration": 12,
    "start_time": "2022-02-16T17:00:56.636Z"
   },
   {
    "duration": 16,
    "start_time": "2022-02-16T17:04:09.942Z"
   },
   {
    "duration": 28,
    "start_time": "2022-02-16T17:12:31.023Z"
   },
   {
    "duration": 9,
    "start_time": "2022-02-16T17:12:33.591Z"
   },
   {
    "duration": 4,
    "start_time": "2022-02-16T17:12:38.231Z"
   },
   {
    "duration": 5,
    "start_time": "2022-02-16T17:20:21.171Z"
   },
   {
    "duration": 11,
    "start_time": "2022-02-16T17:23:55.050Z"
   },
   {
    "duration": 26,
    "start_time": "2022-02-16T17:24:08.803Z"
   },
   {
    "duration": 6,
    "start_time": "2022-02-16T17:24:17.034Z"
   },
   {
    "duration": 10,
    "start_time": "2022-02-16T17:26:28.450Z"
   },
   {
    "duration": 5,
    "start_time": "2022-02-16T17:26:45.747Z"
   },
   {
    "duration": 8,
    "start_time": "2022-02-16T17:26:52.899Z"
   },
   {
    "duration": 5,
    "start_time": "2022-02-16T17:28:39.900Z"
   },
   {
    "duration": 25,
    "start_time": "2022-02-16T17:34:03.478Z"
   },
   {
    "duration": 335,
    "start_time": "2022-02-16T17:34:21.501Z"
   },
   {
    "duration": 278,
    "start_time": "2022-02-16T17:34:52.205Z"
   },
   {
    "duration": 20,
    "start_time": "2022-02-16T17:35:09.509Z"
   },
   {
    "duration": 34,
    "start_time": "2022-02-16T17:35:23.165Z"
   },
   {
    "duration": 27,
    "start_time": "2022-02-16T17:35:59.486Z"
   },
   {
    "duration": 4,
    "start_time": "2022-02-16T17:37:24.151Z"
   },
   {
    "duration": 317,
    "start_time": "2022-02-16T17:37:26.681Z"
   },
   {
    "duration": 300,
    "start_time": "2022-02-16T17:37:48.535Z"
   },
   {
    "duration": 4,
    "start_time": "2022-02-16T17:40:15.692Z"
   },
   {
    "duration": 295,
    "start_time": "2022-02-16T17:41:06.720Z"
   },
   {
    "duration": 253,
    "start_time": "2022-02-16T17:42:54.073Z"
   },
   {
    "duration": 27,
    "start_time": "2022-02-16T17:44:29.681Z"
   },
   {
    "duration": 268,
    "start_time": "2022-02-16T17:44:43.698Z"
   },
   {
    "duration": 22,
    "start_time": "2022-02-16T17:44:57.691Z"
   },
   {
    "duration": 395,
    "start_time": "2022-02-16T17:45:04.974Z"
   },
   {
    "duration": 4,
    "start_time": "2022-02-16T17:45:17.225Z"
   },
   {
    "duration": 23,
    "start_time": "2022-02-16T17:46:48.329Z"
   },
   {
    "duration": 4,
    "start_time": "2022-02-16T17:46:49.762Z"
   },
   {
    "duration": 4,
    "start_time": "2022-02-16T17:46:52.922Z"
   },
   {
    "duration": 439,
    "start_time": "2022-02-16T17:47:01.170Z"
   },
   {
    "duration": 17,
    "start_time": "2022-02-16T17:48:33.034Z"
   },
   {
    "duration": 284,
    "start_time": "2022-02-16T17:49:24.835Z"
   },
   {
    "duration": 3,
    "start_time": "2022-02-16T17:50:17.931Z"
   },
   {
    "duration": 5,
    "start_time": "2022-02-16T17:51:56.339Z"
   },
   {
    "duration": 299,
    "start_time": "2022-02-16T17:52:21.485Z"
   },
   {
    "duration": 16,
    "start_time": "2022-02-16T17:52:38.084Z"
   },
   {
    "duration": 328,
    "start_time": "2022-02-16T17:52:45.244Z"
   },
   {
    "duration": 296,
    "start_time": "2022-02-16T17:53:54.260Z"
   },
   {
    "duration": 4,
    "start_time": "2022-02-16T17:54:04.252Z"
   },
   {
    "duration": 5,
    "start_time": "2022-02-16T17:54:27.790Z"
   },
   {
    "duration": 5,
    "start_time": "2022-02-16T17:54:32.061Z"
   },
   {
    "duration": 584,
    "start_time": "2022-02-16T17:54:34.397Z"
   },
   {
    "duration": 25,
    "start_time": "2022-02-16T17:54:42.701Z"
   },
   {
    "duration": 295,
    "start_time": "2022-02-16T18:03:56.744Z"
   },
   {
    "duration": 5,
    "start_time": "2022-02-16T18:06:23.097Z"
   },
   {
    "duration": 3,
    "start_time": "2022-02-16T18:06:23.561Z"
   },
   {
    "duration": 133,
    "start_time": "2022-02-16T18:06:23.938Z"
   },
   {
    "duration": 29,
    "start_time": "2022-02-16T18:06:32.393Z"
   },
   {
    "duration": 4,
    "start_time": "2022-02-16T18:08:52.362Z"
   },
   {
    "duration": 145,
    "start_time": "2022-02-16T18:09:10.883Z"
   },
   {
    "duration": 363,
    "start_time": "2022-02-16T18:13:42.924Z"
   },
   {
    "duration": 429,
    "start_time": "2022-02-16T18:13:48.546Z"
   },
   {
    "duration": 539,
    "start_time": "2022-02-16T18:13:58.067Z"
   },
   {
    "duration": 121,
    "start_time": "2022-02-16T18:14:19.033Z"
   },
   {
    "duration": 38,
    "start_time": "2022-02-16T18:37:56.170Z"
   },
   {
    "duration": 92,
    "start_time": "2022-02-16T18:40:17.006Z"
   },
   {
    "duration": 73,
    "start_time": "2022-02-16T18:40:33.251Z"
   },
   {
    "duration": 8,
    "start_time": "2022-02-16T18:40:57.132Z"
   },
   {
    "duration": 55,
    "start_time": "2022-02-16T18:43:07.477Z"
   },
   {
    "duration": 55,
    "start_time": "2022-02-16T18:43:26.326Z"
   },
   {
    "duration": 35,
    "start_time": "2022-02-16T18:43:36.357Z"
   },
   {
    "duration": 50,
    "start_time": "2022-02-16T18:45:49.860Z"
   },
   {
    "duration": 43,
    "start_time": "2022-02-16T18:46:12.719Z"
   },
   {
    "duration": 266,
    "start_time": "2022-02-16T18:47:47.606Z"
   },
   {
    "duration": 39,
    "start_time": "2022-02-16T18:47:51.950Z"
   },
   {
    "duration": 256,
    "start_time": "2022-02-16T18:48:19.621Z"
   },
   {
    "duration": 9,
    "start_time": "2022-02-16T18:48:22.702Z"
   },
   {
    "duration": 35,
    "start_time": "2022-02-16T18:48:43.806Z"
   },
   {
    "duration": 13,
    "start_time": "2022-02-16T18:48:58.990Z"
   },
   {
    "duration": 10,
    "start_time": "2022-02-16T18:49:20.014Z"
   },
   {
    "duration": 352,
    "start_time": "2022-02-16T18:49:26.895Z"
   },
   {
    "duration": 25,
    "start_time": "2022-02-16T18:50:24.910Z"
   },
   {
    "duration": 40,
    "start_time": "2022-02-16T18:51:34.428Z"
   },
   {
    "duration": 17,
    "start_time": "2022-02-16T18:51:53.031Z"
   },
   {
    "duration": 9,
    "start_time": "2022-02-16T18:51:53.670Z"
   },
   {
    "duration": 21,
    "start_time": "2022-02-16T18:53:11.230Z"
   },
   {
    "duration": 8,
    "start_time": "2022-02-16T18:53:16.582Z"
   },
   {
    "duration": 14,
    "start_time": "2022-02-16T18:53:18.318Z"
   },
   {
    "duration": 10,
    "start_time": "2022-02-16T18:53:18.958Z"
   },
   {
    "duration": 8,
    "start_time": "2022-02-16T18:53:23.816Z"
   },
   {
    "duration": 744,
    "start_time": "2022-02-16T18:53:25.174Z"
   },
   {
    "duration": 26,
    "start_time": "2022-02-16T18:53:55.557Z"
   },
   {
    "duration": 4,
    "start_time": "2022-02-16T18:53:56.007Z"
   },
   {
    "duration": 3,
    "start_time": "2022-02-16T18:53:56.534Z"
   },
   {
    "duration": 5,
    "start_time": "2022-02-16T18:53:58.358Z"
   },
   {
    "duration": 4,
    "start_time": "2022-02-16T18:53:58.766Z"
   },
   {
    "duration": 125,
    "start_time": "2022-02-16T18:53:59.718Z"
   },
   {
    "duration": 27,
    "start_time": "2022-02-16T18:54:03.902Z"
   },
   {
    "duration": 570,
    "start_time": "2022-02-16T18:54:14.734Z"
   },
   {
    "duration": 132,
    "start_time": "2022-02-16T18:54:33.854Z"
   },
   {
    "duration": 13,
    "start_time": "2022-02-16T18:55:55.143Z"
   },
   {
    "duration": 21,
    "start_time": "2022-02-16T18:55:55.663Z"
   },
   {
    "duration": 10,
    "start_time": "2022-02-16T18:55:56.039Z"
   },
   {
    "duration": 8,
    "start_time": "2022-02-16T18:55:56.559Z"
   },
   {
    "duration": 786,
    "start_time": "2022-02-16T18:55:57.104Z"
   },
   {
    "duration": 764,
    "start_time": "2022-02-16T18:56:04.431Z"
   },
   {
    "duration": 815,
    "start_time": "2022-02-16T18:59:12.969Z"
   },
   {
    "duration": 262,
    "start_time": "2022-02-16T18:59:38.393Z"
   },
   {
    "duration": 6,
    "start_time": "2022-02-16T19:02:40.026Z"
   },
   {
    "duration": 11,
    "start_time": "2022-02-16T19:02:59.315Z"
   },
   {
    "duration": 12,
    "start_time": "2022-02-16T19:03:08.994Z"
   },
   {
    "duration": 9,
    "start_time": "2022-02-16T19:03:11.291Z"
   },
   {
    "duration": 879,
    "start_time": "2022-02-16T19:03:13.924Z"
   },
   {
    "duration": 187,
    "start_time": "2022-02-16T19:03:20.050Z"
   },
   {
    "duration": 6,
    "start_time": "2022-02-16T19:16:20.614Z"
   },
   {
    "duration": 5,
    "start_time": "2022-02-16T19:18:11.407Z"
   },
   {
    "duration": 86,
    "start_time": "2022-02-16T19:24:44.088Z"
   },
   {
    "duration": 144842,
    "start_time": "2022-02-16T19:24:56.479Z"
   },
   {
    "duration": 386,
    "start_time": "2022-02-16T19:29:46.337Z"
   },
   {
    "duration": 470,
    "start_time": "2022-02-16T19:30:25.633Z"
   },
   {
    "duration": 5,
    "start_time": "2022-02-16T19:31:29.786Z"
   },
   {
    "duration": 446,
    "start_time": "2022-02-16T19:31:30.354Z"
   },
   {
    "duration": 184,
    "start_time": "2022-02-16T19:34:58.995Z"
   },
   {
    "duration": 97,
    "start_time": "2022-02-16T19:37:22.136Z"
   },
   {
    "duration": 457,
    "start_time": "2022-02-16T19:37:32.141Z"
   },
   {
    "duration": 95,
    "start_time": "2022-02-16T19:41:08.045Z"
   },
   {
    "duration": 4297,
    "start_time": "2022-02-16T19:41:32.759Z"
   },
   {
    "duration": 5,
    "start_time": "2022-02-16T19:43:47.229Z"
   },
   {
    "duration": 36630492,
    "start_time": "2022-02-16T19:43:47.943Z"
   },
   {
    "duration": 1458,
    "start_time": "2022-02-17T06:00:45.498Z"
   },
   {
    "duration": 265,
    "start_time": "2022-02-17T06:02:28.562Z"
   },
   {
    "duration": 1489,
    "start_time": "2022-02-17T06:03:00.762Z"
   },
   {
    "duration": 254,
    "start_time": "2022-02-17T06:03:13.530Z"
   },
   {
    "duration": 276,
    "start_time": "2022-02-17T06:03:21.442Z"
   },
   {
    "duration": 280,
    "start_time": "2022-02-17T06:03:39.026Z"
   },
   {
    "duration": 8480,
    "start_time": "2022-02-17T06:03:53.242Z"
   },
   {
    "duration": 5,
    "start_time": "2022-02-17T06:04:14.162Z"
   },
   {
    "duration": 14863,
    "start_time": "2022-02-17T06:04:17.162Z"
   },
   {
    "duration": 269,
    "start_time": "2022-02-17T06:05:30.299Z"
   },
   {
    "duration": 284,
    "start_time": "2022-02-17T06:05:38.851Z"
   },
   {
    "duration": 173889,
    "start_time": "2022-02-17T06:06:34.323Z"
   },
   {
    "duration": 163251,
    "start_time": "2022-02-17T06:10:18.846Z"
   },
   {
    "duration": 307,
    "start_time": "2022-02-17T06:13:02.100Z"
   },
   {
    "duration": 307,
    "start_time": "2022-02-17T06:13:13.725Z"
   },
   {
    "duration": 3092,
    "start_time": "2022-02-17T06:13:22.677Z"
   },
   {
    "duration": 5,
    "start_time": "2022-02-17T06:14:03.294Z"
   },
   {
    "duration": 341,
    "start_time": "2022-02-17T06:14:08.846Z"
   },
   {
    "duration": 5,
    "start_time": "2022-02-17T06:14:28.733Z"
   },
   {
    "duration": 5,
    "start_time": "2022-02-17T06:14:40.157Z"
   },
   {
    "duration": 4371,
    "start_time": "2022-02-17T06:14:43.366Z"
   },
   {
    "duration": 11915,
    "start_time": "2022-02-17T06:15:53.214Z"
   },
   {
    "duration": 7,
    "start_time": "2022-02-17T06:17:50.974Z"
   },
   {
    "duration": 260,
    "start_time": "2022-02-17T06:17:55.717Z"
   },
   {
    "duration": 286,
    "start_time": "2022-02-17T06:18:02.069Z"
   },
   {
    "duration": 68995,
    "start_time": "2022-02-17T06:18:19.317Z"
   },
   {
    "duration": 253,
    "start_time": "2022-02-17T06:23:24.807Z"
   },
   {
    "duration": 5,
    "start_time": "2022-02-17T06:23:28.494Z"
   },
   {
    "duration": 3116,
    "start_time": "2022-02-17T06:23:33.262Z"
   },
   {
    "duration": 6,
    "start_time": "2022-02-17T06:26:04.006Z"
   },
   {
    "duration": 374,
    "start_time": "2022-02-17T06:26:12.423Z"
   },
   {
    "duration": 5,
    "start_time": "2022-02-17T06:26:47.698Z"
   },
   {
    "duration": 9238,
    "start_time": "2022-02-17T06:26:50.975Z"
   },
   {
    "duration": 10622,
    "start_time": "2022-02-17T06:27:08.023Z"
   },
   {
    "duration": 1336,
    "start_time": "2022-02-17T06:38:34.838Z"
   },
   {
    "duration": 1103,
    "start_time": "2022-02-17T06:38:40.555Z"
   },
   {
    "duration": 1017,
    "start_time": "2022-02-17T06:38:45.371Z"
   },
   {
    "duration": 33,
    "start_time": "2022-02-17T06:40:46.228Z"
   },
   {
    "duration": 90,
    "start_time": "2022-02-17T06:41:43.022Z"
   },
   {
    "duration": 288,
    "start_time": "2022-02-17T06:41:48.333Z"
   },
   {
    "duration": 271,
    "start_time": "2022-02-17T06:42:02.621Z"
   },
   {
    "duration": 34,
    "start_time": "2022-02-17T06:42:19.733Z"
   },
   {
    "duration": 21,
    "start_time": "2022-02-17T06:42:51.781Z"
   },
   {
    "duration": 4,
    "start_time": "2022-02-17T06:43:56.846Z"
   },
   {
    "duration": 4,
    "start_time": "2022-02-17T06:44:11.261Z"
   },
   {
    "duration": 131,
    "start_time": "2022-02-17T06:44:19.094Z"
   },
   {
    "duration": 26,
    "start_time": "2022-02-17T06:44:23.893Z"
   },
   {
    "duration": 30,
    "start_time": "2022-02-17T06:44:27.781Z"
   },
   {
    "duration": 847,
    "start_time": "2022-02-17T06:44:32.046Z"
   },
   {
    "duration": 177,
    "start_time": "2022-02-17T06:44:38.590Z"
   },
   {
    "duration": 9,
    "start_time": "2022-02-17T06:44:48.597Z"
   },
   {
    "duration": 13,
    "start_time": "2022-02-17T06:44:49.422Z"
   },
   {
    "duration": 10,
    "start_time": "2022-02-17T06:44:49.909Z"
   },
   {
    "duration": 8,
    "start_time": "2022-02-17T06:44:50.390Z"
   },
   {
    "duration": 7,
    "start_time": "2022-02-17T06:44:54.749Z"
   },
   {
    "duration": 1174,
    "start_time": "2022-02-17T06:44:55.214Z"
   },
   {
    "duration": 207,
    "start_time": "2022-02-17T06:45:05.470Z"
   },
   {
    "duration": 210,
    "start_time": "2022-02-17T06:45:35.453Z"
   },
   {
    "duration": 1185,
    "start_time": "2022-02-17T06:45:47.790Z"
   },
   {
    "duration": 199,
    "start_time": "2022-02-17T06:45:53.134Z"
   },
   {
    "duration": 192,
    "start_time": "2022-02-17T06:47:18.822Z"
   },
   {
    "duration": 7,
    "start_time": "2022-02-17T06:47:23.478Z"
   },
   {
    "duration": 2363,
    "start_time": "2022-02-17T06:47:24.439Z"
   },
   {
    "duration": 22086,
    "start_time": "2022-02-17T06:47:32.663Z"
   },
   {
    "duration": 6335,
    "start_time": "2022-02-17T06:47:59.887Z"
   },
   {
    "duration": 6899,
    "start_time": "2022-02-17T06:48:29.742Z"
   },
   {
    "duration": 19434,
    "start_time": "2022-02-17T06:48:55.255Z"
   },
   {
    "duration": 19588,
    "start_time": "2022-02-17T06:49:31.646Z"
   },
   {
    "duration": 14020,
    "start_time": "2022-02-17T06:50:21.984Z"
   },
   {
    "duration": 120,
    "start_time": "2022-02-17T06:54:11.304Z"
   },
   {
    "duration": 4,
    "start_time": "2022-02-17T06:54:15.985Z"
   },
   {
    "duration": 20,
    "start_time": "2022-02-17T06:54:55.812Z"
   },
   {
    "duration": 13624,
    "start_time": "2022-02-17T06:55:12.065Z"
   },
   {
    "duration": 5,
    "start_time": "2022-02-17T06:56:57.346Z"
   },
   {
    "duration": 29,
    "start_time": "2022-02-17T06:56:59.394Z"
   },
   {
    "duration": 33325,
    "start_time": "2022-02-17T06:57:28.099Z"
   },
   {
    "duration": 128068,
    "start_time": "2022-02-17T06:58:15.919Z"
   },
   {
    "duration": 6,
    "start_time": "2022-02-17T07:03:29.442Z"
   },
   {
    "duration": 120398,
    "start_time": "2022-02-17T07:03:48.897Z"
   },
   {
    "duration": 144254,
    "start_time": "2022-02-17T07:06:24.475Z"
   },
   {
    "duration": 87,
    "start_time": "2022-02-17T07:12:41.813Z"
   },
   {
    "duration": 121674,
    "start_time": "2022-02-17T07:15:01.695Z"
   },
   {
    "duration": 86,
    "start_time": "2022-02-17T07:18:27.510Z"
   },
   {
    "duration": 14583,
    "start_time": "2022-02-17T07:18:37.606Z"
   },
   {
    "duration": 16303,
    "start_time": "2022-02-17T07:19:09.848Z"
   },
   {
    "duration": 5373,
    "start_time": "2022-02-17T07:19:39.335Z"
   },
   {
    "duration": 52216,
    "start_time": "2022-02-17T07:20:03.583Z"
   },
   {
    "duration": 5,
    "start_time": "2022-02-17T07:21:31.607Z"
   },
   {
    "duration": 30,
    "start_time": "2022-02-17T07:21:36.233Z"
   },
   {
    "duration": 3026,
    "start_time": "2022-02-17T07:21:37.024Z"
   },
   {
    "duration": 389,
    "start_time": "2022-02-17T07:21:44.752Z"
   },
   {
    "duration": 5352,
    "start_time": "2022-02-17T07:22:10.784Z"
   },
   {
    "duration": 5575,
    "start_time": "2022-02-17T07:22:28.104Z"
   },
   {
    "duration": 8,
    "start_time": "2022-02-17T07:23:04.736Z"
   },
   {
    "duration": 22,
    "start_time": "2022-02-17T07:23:31.696Z"
   },
   {
    "duration": 5,
    "start_time": "2022-02-17T07:23:32.505Z"
   },
   {
    "duration": 4,
    "start_time": "2022-02-17T07:23:33.833Z"
   },
   {
    "duration": 135,
    "start_time": "2022-02-17T07:23:36.010Z"
   },
   {
    "duration": 26,
    "start_time": "2022-02-17T07:23:37.377Z"
   },
   {
    "duration": 745,
    "start_time": "2022-02-17T07:23:41.426Z"
   },
   {
    "duration": 149,
    "start_time": "2022-02-17T07:23:43.289Z"
   },
   {
    "duration": 9,
    "start_time": "2022-02-17T07:23:56.290Z"
   },
   {
    "duration": 5,
    "start_time": "2022-02-17T07:24:20.610Z"
   },
   {
    "duration": 19,
    "start_time": "2022-02-17T07:24:21.617Z"
   },
   {
    "duration": 10,
    "start_time": "2022-02-17T07:24:22.329Z"
   },
   {
    "duration": 9,
    "start_time": "2022-02-17T07:24:35.921Z"
   },
   {
    "duration": 5,
    "start_time": "2022-02-17T07:24:38.225Z"
   },
   {
    "duration": 18,
    "start_time": "2022-02-17T07:24:38.929Z"
   },
   {
    "duration": 9,
    "start_time": "2022-02-17T07:24:39.393Z"
   },
   {
    "duration": 6,
    "start_time": "2022-02-17T07:25:17.570Z"
   },
   {
    "duration": 19,
    "start_time": "2022-02-17T07:25:18.321Z"
   },
   {
    "duration": 5,
    "start_time": "2022-02-17T07:25:56.177Z"
   },
   {
    "duration": 541,
    "start_time": "2022-02-17T07:25:56.650Z"
   },
   {
    "duration": 6,
    "start_time": "2022-02-17T07:26:02.825Z"
   },
   {
    "duration": 23,
    "start_time": "2022-02-17T07:26:03.386Z"
   },
   {
    "duration": 10,
    "start_time": "2022-02-17T07:26:16.977Z"
   },
   {
    "duration": 9,
    "start_time": "2022-02-17T07:26:22.666Z"
   },
   {
    "duration": 6,
    "start_time": "2022-02-17T07:26:32.801Z"
   },
   {
    "duration": 21,
    "start_time": "2022-02-17T07:26:33.675Z"
   },
   {
    "duration": 8,
    "start_time": "2022-02-17T07:26:42.561Z"
   },
   {
    "duration": 6,
    "start_time": "2022-02-17T07:26:57.842Z"
   },
   {
    "duration": 22,
    "start_time": "2022-02-17T07:26:59.578Z"
   },
   {
    "duration": 6,
    "start_time": "2022-02-17T07:27:28.338Z"
   },
   {
    "duration": 21,
    "start_time": "2022-02-17T07:27:29.082Z"
   },
   {
    "duration": 6,
    "start_time": "2022-02-17T07:28:14.026Z"
   },
   {
    "duration": 21,
    "start_time": "2022-02-17T07:28:15.787Z"
   },
   {
    "duration": 5,
    "start_time": "2022-02-17T07:29:13.674Z"
   },
   {
    "duration": 21,
    "start_time": "2022-02-17T07:29:15.355Z"
   },
   {
    "duration": 9,
    "start_time": "2022-02-17T07:29:18.703Z"
   },
   {
    "duration": 1177,
    "start_time": "2022-02-17T07:29:32.500Z"
   },
   {
    "duration": 197,
    "start_time": "2022-02-17T07:29:37.020Z"
   },
   {
    "duration": 6,
    "start_time": "2022-02-17T07:29:49.098Z"
   },
   {
    "duration": 2410,
    "start_time": "2022-02-17T07:29:53.252Z"
   },
   {
    "duration": 22621,
    "start_time": "2022-02-17T07:30:13.891Z"
   },
   {
    "duration": 7007,
    "start_time": "2022-02-17T07:30:44.155Z"
   },
   {
    "duration": 19322,
    "start_time": "2022-02-17T07:31:19.611Z"
   },
   {
    "duration": 8486,
    "start_time": "2022-02-17T07:32:31.633Z"
   },
   {
    "duration": 22901,
    "start_time": "2022-02-17T07:32:59.981Z"
   },
   {
    "duration": 66699,
    "start_time": "2022-02-17T07:33:28.989Z"
   },
   {
    "duration": 57907,
    "start_time": "2022-02-17T07:34:51.701Z"
   },
   {
    "duration": 57106,
    "start_time": "2022-02-17T07:38:43.698Z"
   },
   {
    "duration": 7,
    "start_time": "2022-02-17T07:41:11.750Z"
   },
   {
    "duration": 58048,
    "start_time": "2022-02-17T07:46:36.066Z"
   },
   {
    "duration": 22,
    "start_time": "2022-02-17T07:48:36.553Z"
   },
   {
    "duration": 33,
    "start_time": "2022-02-17T07:48:56.426Z"
   },
   {
    "duration": 7349,
    "start_time": "2022-02-17T07:56:47.924Z"
   },
   {
    "duration": 7268,
    "start_time": "2022-02-17T07:57:10.302Z"
   },
   {
    "duration": 11706,
    "start_time": "2022-02-17T07:57:25.437Z"
   },
   {
    "duration": 7249,
    "start_time": "2022-02-17T07:57:42.197Z"
   },
   {
    "duration": 7364,
    "start_time": "2022-02-17T07:57:55.493Z"
   },
   {
    "duration": 7263,
    "start_time": "2022-02-17T07:58:08.325Z"
   },
   {
    "duration": 98,
    "start_time": "2022-02-17T07:58:43.485Z"
   },
   {
    "duration": 258,
    "start_time": "2022-02-17T07:59:44.365Z"
   },
   {
    "duration": 8,
    "start_time": "2022-02-17T08:00:02.079Z"
   },
   {
    "duration": 278,
    "start_time": "2022-02-17T08:08:05.112Z"
   },
   {
    "duration": 268,
    "start_time": "2022-02-17T08:08:09.554Z"
   },
   {
    "duration": 39,
    "start_time": "2022-02-17T08:08:24.505Z"
   },
   {
    "duration": 30,
    "start_time": "2022-02-17T08:08:41.034Z"
   },
   {
    "duration": 28,
    "start_time": "2022-02-17T08:08:46.097Z"
   },
   {
    "duration": 9,
    "start_time": "2022-02-17T08:08:59.426Z"
   },
   {
    "duration": 9549,
    "start_time": "2022-02-17T08:09:33.609Z"
   },
   {
    "duration": 271,
    "start_time": "2022-02-17T08:09:48.162Z"
   },
   {
    "duration": 12079,
    "start_time": "2022-02-17T08:10:13.394Z"
   },
   {
    "duration": 97,
    "start_time": "2022-02-17T08:10:36.795Z"
   },
   {
    "duration": 381,
    "start_time": "2022-02-17T08:12:10.395Z"
   },
   {
    "duration": 100,
    "start_time": "2022-02-17T08:12:22.163Z"
   },
   {
    "duration": 4,
    "start_time": "2022-02-17T08:24:43.970Z"
   },
   {
    "duration": 5,
    "start_time": "2022-02-17T08:26:12.317Z"
   },
   {
    "duration": 83,
    "start_time": "2022-02-17T08:34:13.823Z"
   },
   {
    "duration": 560,
    "start_time": "2022-02-17T08:34:22.576Z"
   },
   {
    "duration": 7,
    "start_time": "2022-02-17T08:36:27.256Z"
   },
   {
    "duration": 514,
    "start_time": "2022-02-17T08:36:35.952Z"
   },
   {
    "duration": 6,
    "start_time": "2022-02-17T08:38:46.833Z"
   },
   {
    "duration": 6,
    "start_time": "2022-02-17T08:38:54.064Z"
   },
   {
    "duration": 5,
    "start_time": "2022-02-17T08:40:34.562Z"
   },
   {
    "duration": 30,
    "start_time": "2022-02-17T08:40:45.265Z"
   },
   {
    "duration": 6,
    "start_time": "2022-02-17T08:41:27.602Z"
   },
   {
    "duration": 5,
    "start_time": "2022-02-17T08:41:39.209Z"
   },
   {
    "duration": 312,
    "start_time": "2022-02-17T08:44:29.554Z"
   },
   {
    "duration": 42,
    "start_time": "2022-02-17T08:45:18.230Z"
   },
   {
    "duration": 7,
    "start_time": "2022-02-17T08:45:19.003Z"
   },
   {
    "duration": 10,
    "start_time": "2022-02-17T08:45:38.576Z"
   },
   {
    "duration": 42,
    "start_time": "2022-02-17T08:45:38.955Z"
   },
   {
    "duration": 12,
    "start_time": "2022-02-17T08:45:41.323Z"
   },
   {
    "duration": 495,
    "start_time": "2022-02-17T08:45:57.546Z"
   },
   {
    "duration": 47,
    "start_time": "2022-02-17T08:46:43.851Z"
   },
   {
    "duration": 10,
    "start_time": "2022-02-17T08:46:46.516Z"
   },
   {
    "duration": 24,
    "start_time": "2022-02-17T08:46:47.315Z"
   },
   {
    "duration": 336,
    "start_time": "2022-02-17T08:50:10.685Z"
   },
   {
    "duration": 277,
    "start_time": "2022-02-17T08:50:44.940Z"
   },
   {
    "duration": 244,
    "start_time": "2022-02-17T08:51:29.437Z"
   },
   {
    "duration": 6,
    "start_time": "2022-02-17T08:51:45.965Z"
   },
   {
    "duration": 7,
    "start_time": "2022-02-17T08:51:54.420Z"
   },
   {
    "duration": 5,
    "start_time": "2022-02-17T08:52:01.125Z"
   },
   {
    "duration": 16,
    "start_time": "2022-02-17T08:53:19.654Z"
   },
   {
    "duration": 6,
    "start_time": "2022-02-17T08:53:22.580Z"
   },
   {
    "duration": 30,
    "start_time": "2022-02-17T08:53:27.572Z"
   },
   {
    "duration": 295,
    "start_time": "2022-02-17T08:53:45.179Z"
   },
   {
    "duration": 90,
    "start_time": "2022-02-17T08:54:02.877Z"
   },
   {
    "duration": 295,
    "start_time": "2022-02-17T08:54:06.123Z"
   },
   {
    "duration": 33,
    "start_time": "2022-02-17T08:54:25.710Z"
   },
   {
    "duration": 308,
    "start_time": "2022-02-17T08:54:38.252Z"
   },
   {
    "duration": 159,
    "start_time": "2022-02-17T08:55:07.005Z"
   },
   {
    "duration": 82,
    "start_time": "2022-02-17T08:55:10.442Z"
   },
   {
    "duration": 41,
    "start_time": "2022-02-17T08:55:17.709Z"
   },
   {
    "duration": 37299,
    "start_time": "2022-02-17T08:55:25.979Z"
   },
   {
    "duration": 7384,
    "start_time": "2022-02-17T08:57:32.566Z"
   },
   {
    "duration": 30,
    "start_time": "2022-02-17T09:18:53.082Z"
   },
   {
    "duration": 812,
    "start_time": "2022-02-17T09:18:53.114Z"
   },
   {
    "duration": 890,
    "start_time": "2022-02-17T09:18:53.929Z"
   },
   {
    "duration": 175,
    "start_time": "2022-02-17T09:18:54.839Z"
   },
   {
    "duration": 9,
    "start_time": "2022-02-17T09:18:55.017Z"
   },
   {
    "duration": 8,
    "start_time": "2022-02-17T09:18:55.030Z"
   },
   {
    "duration": 10,
    "start_time": "2022-02-17T09:18:55.041Z"
   },
   {
    "duration": 60,
    "start_time": "2022-02-17T09:18:55.056Z"
   },
   {
    "duration": 42,
    "start_time": "2022-02-17T09:18:55.119Z"
   },
   {
    "duration": 32,
    "start_time": "2022-02-17T09:18:55.164Z"
   },
   {
    "duration": 38,
    "start_time": "2022-02-17T09:18:55.198Z"
   },
   {
    "duration": 11,
    "start_time": "2022-02-17T09:18:55.240Z"
   },
   {
    "duration": 74,
    "start_time": "2022-02-17T09:18:55.254Z"
   },
   {
    "duration": 21,
    "start_time": "2022-02-17T09:18:55.331Z"
   },
   {
    "duration": 26,
    "start_time": "2022-02-17T09:18:55.355Z"
   },
   {
    "duration": 47,
    "start_time": "2022-02-17T09:18:55.384Z"
   },
   {
    "duration": 23,
    "start_time": "2022-02-17T09:18:55.435Z"
   },
   {
    "duration": 21,
    "start_time": "2022-02-17T09:18:55.461Z"
   },
   {
    "duration": 1163,
    "start_time": "2022-02-17T09:18:55.485Z"
   },
   {
    "duration": 1539,
    "start_time": "2022-02-17T09:18:56.652Z"
   },
   {
    "duration": 1605,
    "start_time": "2022-02-17T09:18:58.194Z"
   },
   {
    "duration": 1143,
    "start_time": "2022-02-17T09:18:59.803Z"
   },
   {
    "duration": 39,
    "start_time": "2022-02-17T09:19:00.957Z"
   },
   {
    "duration": 3361,
    "start_time": "2022-02-17T09:19:01.001Z"
   },
   {
    "duration": 1318,
    "start_time": "2022-02-17T09:19:04.365Z"
   },
   {
    "duration": 1624,
    "start_time": "2022-02-17T09:19:05.686Z"
   },
   {
    "duration": 44,
    "start_time": "2022-02-17T09:19:07.312Z"
   },
   {
    "duration": 33,
    "start_time": "2022-02-17T09:19:07.359Z"
   },
   {
    "duration": 38,
    "start_time": "2022-02-17T09:19:07.395Z"
   },
   {
    "duration": 27,
    "start_time": "2022-02-17T09:19:07.436Z"
   },
   {
    "duration": 5,
    "start_time": "2022-02-17T09:19:07.465Z"
   },
   {
    "duration": 11,
    "start_time": "2022-02-17T09:19:07.472Z"
   },
   {
    "duration": 171,
    "start_time": "2022-02-17T09:19:07.486Z"
   },
   {
    "duration": 27,
    "start_time": "2022-02-17T09:19:07.660Z"
   },
   {
    "duration": 813,
    "start_time": "2022-02-17T09:19:07.690Z"
   },
   {
    "duration": 171,
    "start_time": "2022-02-17T09:19:08.505Z"
   },
   {
    "duration": 11,
    "start_time": "2022-02-17T09:19:08.678Z"
   },
   {
    "duration": 13,
    "start_time": "2022-02-17T09:19:08.692Z"
   },
   {
    "duration": 19,
    "start_time": "2022-02-17T09:19:08.727Z"
   },
   {
    "duration": 8,
    "start_time": "2022-02-17T09:19:08.749Z"
   },
   {
    "duration": 1294,
    "start_time": "2022-02-17T09:19:08.760Z"
   },
   {
    "duration": 213,
    "start_time": "2022-02-17T09:19:10.057Z"
   },
   {
    "duration": 6,
    "start_time": "2022-02-17T09:19:10.273Z"
   },
   {
    "duration": 2569,
    "start_time": "2022-02-17T09:19:10.282Z"
   },
   {
    "duration": 22890,
    "start_time": "2022-02-17T09:19:12.853Z"
   },
   {
    "duration": 6955,
    "start_time": "2022-02-17T09:19:35.746Z"
   },
   {
    "duration": 22281,
    "start_time": "2022-02-17T09:19:42.704Z"
   },
   {
    "duration": 66190,
    "start_time": "2022-02-17T09:20:04.988Z"
   },
   {
    "duration": 55546,
    "start_time": "2022-02-17T09:21:11.181Z"
   },
   {
    "duration": 57685,
    "start_time": "2022-02-17T09:22:06.730Z"
   },
   {
    "duration": 11,
    "start_time": "2022-02-17T09:23:04.418Z"
   },
   {
    "duration": 13,
    "start_time": "2022-02-17T09:23:04.431Z"
   },
   {
    "duration": 9497,
    "start_time": "2022-02-17T09:23:04.447Z"
   },
   {
    "duration": 117,
    "start_time": "2022-02-17T09:23:13.947Z"
   },
   {
    "duration": 6,
    "start_time": "2022-02-17T09:23:14.067Z"
   },
   {
    "duration": 50318,
    "start_time": "2022-02-17T09:23:14.076Z"
   },
   {
    "duration": 17774,
    "start_time": "2022-02-17T09:24:04.397Z"
   },
   {
    "duration": 4,
    "start_time": "2022-02-17T09:27:06.137Z"
   },
   {
    "duration": 49851,
    "start_time": "2022-02-17T09:27:06.752Z"
   },
   {
    "duration": 4,
    "start_time": "2022-02-17T09:28:06.137Z"
   },
   {
    "duration": 49960,
    "start_time": "2022-02-17T09:28:07.970Z"
   },
   {
    "duration": 4,
    "start_time": "2022-02-17T09:30:19.094Z"
   },
   {
    "duration": 62219,
    "start_time": "2022-02-17T09:30:21.467Z"
   },
   {
    "duration": 4,
    "start_time": "2022-02-17T09:37:01.901Z"
   },
   {
    "duration": 47996,
    "start_time": "2022-02-17T09:37:02.489Z"
   },
   {
    "duration": 401,
    "start_time": "2022-02-17T09:41:24.722Z"
   },
   {
    "duration": 4,
    "start_time": "2022-02-17T09:42:58.482Z"
   },
   {
    "duration": 242,
    "start_time": "2022-02-17T09:43:38.891Z"
   },
   {
    "duration": 258,
    "start_time": "2022-02-17T09:43:49.675Z"
   },
   {
    "duration": 4,
    "start_time": "2022-02-17T09:44:25.868Z"
   },
   {
    "duration": 6,
    "start_time": "2022-02-17T09:44:35.298Z"
   },
   {
    "duration": 4,
    "start_time": "2022-02-17T09:44:48.242Z"
   },
   {
    "duration": 6,
    "start_time": "2022-02-17T09:44:50.131Z"
   },
   {
    "duration": 5,
    "start_time": "2022-02-17T09:44:50.643Z"
   },
   {
    "duration": 6,
    "start_time": "2022-02-17T09:44:52.778Z"
   },
   {
    "duration": 7,
    "start_time": "2022-02-17T09:44:57.347Z"
   },
   {
    "duration": 6,
    "start_time": "2022-02-17T09:44:59.674Z"
   },
   {
    "duration": 5,
    "start_time": "2022-02-17T09:45:11.491Z"
   },
   {
    "duration": 31,
    "start_time": "2022-02-17T09:46:42.645Z"
   },
   {
    "duration": 849,
    "start_time": "2022-02-17T09:46:42.680Z"
   },
   {
    "duration": 727,
    "start_time": "2022-02-17T09:46:43.532Z"
   },
   {
    "duration": 94,
    "start_time": "2022-02-17T09:46:44.262Z"
   },
   {
    "duration": 9,
    "start_time": "2022-02-17T09:46:44.359Z"
   },
   {
    "duration": 7,
    "start_time": "2022-02-17T09:46:44.371Z"
   },
   {
    "duration": 6,
    "start_time": "2022-02-17T09:46:44.380Z"
   },
   {
    "duration": 4,
    "start_time": "2022-02-17T09:46:44.390Z"
   },
   {
    "duration": 53,
    "start_time": "2022-02-17T09:46:44.427Z"
   },
   {
    "duration": 44,
    "start_time": "2022-02-17T09:46:44.483Z"
   },
   {
    "duration": 36,
    "start_time": "2022-02-17T09:46:44.530Z"
   },
   {
    "duration": 17,
    "start_time": "2022-02-17T09:46:44.569Z"
   },
   {
    "duration": 40,
    "start_time": "2022-02-17T09:46:44.588Z"
   },
   {
    "duration": 37,
    "start_time": "2022-02-17T09:46:44.630Z"
   },
   {
    "duration": 19,
    "start_time": "2022-02-17T09:46:44.669Z"
   },
   {
    "duration": 59,
    "start_time": "2022-02-17T09:46:44.690Z"
   },
   {
    "duration": 3,
    "start_time": "2022-02-17T09:46:44.751Z"
   },
   {
    "duration": 17,
    "start_time": "2022-02-17T09:46:44.757Z"
   },
   {
    "duration": 57,
    "start_time": "2022-02-17T09:46:44.777Z"
   },
   {
    "duration": 19,
    "start_time": "2022-02-17T09:46:44.837Z"
   },
   {
    "duration": 1060,
    "start_time": "2022-02-17T09:46:44.859Z"
   },
   {
    "duration": 1475,
    "start_time": "2022-02-17T09:46:45.926Z"
   },
   {
    "duration": 1586,
    "start_time": "2022-02-17T09:46:47.409Z"
   },
   {
    "duration": 788,
    "start_time": "2022-02-17T09:46:48.998Z"
   },
   {
    "duration": 38,
    "start_time": "2022-02-17T09:46:49.789Z"
   },
   {
    "duration": 3226,
    "start_time": "2022-02-17T09:46:49.829Z"
   },
   {
    "duration": 1284,
    "start_time": "2022-02-17T09:46:53.057Z"
   },
   {
    "duration": 1048,
    "start_time": "2022-02-17T09:46:54.343Z"
   },
   {
    "duration": 49,
    "start_time": "2022-02-17T09:46:55.393Z"
   },
   {
    "duration": 32,
    "start_time": "2022-02-17T09:46:55.445Z"
   },
   {
    "duration": 8,
    "start_time": "2022-02-17T09:46:55.479Z"
   },
   {
    "duration": 50,
    "start_time": "2022-02-17T09:46:55.490Z"
   },
   {
    "duration": 4,
    "start_time": "2022-02-17T09:46:55.544Z"
   },
   {
    "duration": 14,
    "start_time": "2022-02-17T09:46:55.551Z"
   },
   {
    "duration": 169,
    "start_time": "2022-02-17T09:46:55.568Z"
   },
   {
    "duration": 25,
    "start_time": "2022-02-17T09:46:55.740Z"
   },
   {
    "duration": 549,
    "start_time": "2022-02-17T09:46:55.768Z"
   },
   {
    "duration": 160,
    "start_time": "2022-02-17T09:46:56.320Z"
   },
   {
    "duration": 8,
    "start_time": "2022-02-17T09:46:56.482Z"
   },
   {
    "duration": 6,
    "start_time": "2022-02-17T09:46:56.492Z"
   },
   {
    "duration": 43,
    "start_time": "2022-02-17T09:46:56.500Z"
   },
   {
    "duration": 7,
    "start_time": "2022-02-17T09:46:56.546Z"
   },
   {
    "duration": 871,
    "start_time": "2022-02-17T09:46:56.556Z"
   },
   {
    "duration": 224,
    "start_time": "2022-02-17T09:46:57.429Z"
   },
   {
    "duration": 6,
    "start_time": "2022-02-17T09:46:57.655Z"
   },
   {
    "duration": 1665,
    "start_time": "2022-02-17T09:46:57.663Z"
   },
   {
    "duration": 15421,
    "start_time": "2022-02-17T09:46:59.330Z"
   },
   {
    "duration": 4898,
    "start_time": "2022-02-17T09:47:14.753Z"
   },
   {
    "duration": 14773,
    "start_time": "2022-02-17T09:47:19.654Z"
   },
   {
    "duration": 43938,
    "start_time": "2022-02-17T09:47:34.430Z"
   },
   {
    "duration": 38463,
    "start_time": "2022-02-17T09:48:18.371Z"
   },
   {
    "duration": 15941,
    "start_time": "2022-02-17T09:48:56.836Z"
   },
   {
    "duration": 0,
    "start_time": "2022-02-17T09:49:12.780Z"
   },
   {
    "duration": -10,
    "start_time": "2022-02-17T09:49:12.792Z"
   },
   {
    "duration": -13,
    "start_time": "2022-02-17T09:49:12.796Z"
   },
   {
    "duration": -19,
    "start_time": "2022-02-17T09:49:12.804Z"
   },
   {
    "duration": -24,
    "start_time": "2022-02-17T09:49:12.811Z"
   },
   {
    "duration": -30,
    "start_time": "2022-02-17T09:49:12.818Z"
   },
   {
    "duration": -35,
    "start_time": "2022-02-17T09:49:12.825Z"
   },
   {
    "duration": 19348,
    "start_time": "2022-02-17T09:49:33.691Z"
   },
   {
    "duration": 12256,
    "start_time": "2022-02-17T09:49:53.042Z"
   },
   {
    "duration": 1,
    "start_time": "2022-02-17T09:50:05.301Z"
   },
   {
    "duration": -5,
    "start_time": "2022-02-17T09:50:05.309Z"
   },
   {
    "duration": -11,
    "start_time": "2022-02-17T09:50:05.317Z"
   },
   {
    "duration": -17,
    "start_time": "2022-02-17T09:50:05.325Z"
   },
   {
    "duration": -23,
    "start_time": "2022-02-17T09:50:05.333Z"
   },
   {
    "duration": -28,
    "start_time": "2022-02-17T09:50:05.340Z"
   },
   {
    "duration": -33,
    "start_time": "2022-02-17T09:50:05.348Z"
   },
   {
    "duration": -38,
    "start_time": "2022-02-17T09:50:05.355Z"
   },
   {
    "duration": -41,
    "start_time": "2022-02-17T09:50:05.360Z"
   },
   {
    "duration": 19242,
    "start_time": "2022-02-17T09:50:36.980Z"
   },
   {
    "duration": 19274,
    "start_time": "2022-02-17T09:51:20.653Z"
   },
   {
    "duration": 6385,
    "start_time": "2022-02-17T09:51:44.004Z"
   },
   {
    "duration": 19981,
    "start_time": "2022-02-17T09:52:11.219Z"
   },
   {
    "duration": 21113,
    "start_time": "2022-02-17T09:52:35.396Z"
   },
   {
    "duration": 30,
    "start_time": "2022-02-17T09:53:29.266Z"
   },
   {
    "duration": 1075,
    "start_time": "2022-02-17T09:53:29.298Z"
   },
   {
    "duration": 804,
    "start_time": "2022-02-17T09:53:30.377Z"
   },
   {
    "duration": 96,
    "start_time": "2022-02-17T09:53:31.184Z"
   },
   {
    "duration": 6,
    "start_time": "2022-02-17T09:53:31.283Z"
   },
   {
    "duration": 7,
    "start_time": "2022-02-17T09:53:31.291Z"
   },
   {
    "duration": 25,
    "start_time": "2022-02-17T09:53:31.301Z"
   },
   {
    "duration": 13,
    "start_time": "2022-02-17T09:53:31.328Z"
   },
   {
    "duration": 68,
    "start_time": "2022-02-17T09:53:31.346Z"
   },
   {
    "duration": 64,
    "start_time": "2022-02-17T09:53:31.419Z"
   },
   {
    "duration": 60,
    "start_time": "2022-02-17T09:53:31.486Z"
   },
   {
    "duration": 14,
    "start_time": "2022-02-17T09:53:31.549Z"
   },
   {
    "duration": 9,
    "start_time": "2022-02-17T09:53:31.566Z"
   },
   {
    "duration": 73,
    "start_time": "2022-02-17T09:53:31.577Z"
   },
   {
    "duration": 23,
    "start_time": "2022-02-17T09:53:31.654Z"
   },
   {
    "duration": 49,
    "start_time": "2022-02-17T09:53:31.680Z"
   },
   {
    "duration": 4,
    "start_time": "2022-02-17T09:53:31.731Z"
   },
   {
    "duration": 39,
    "start_time": "2022-02-17T09:53:31.737Z"
   },
   {
    "duration": 37,
    "start_time": "2022-02-17T09:53:31.779Z"
   },
   {
    "duration": 31,
    "start_time": "2022-02-17T09:53:31.818Z"
   },
   {
    "duration": 1027,
    "start_time": "2022-02-17T09:53:31.851Z"
   },
   {
    "duration": 1607,
    "start_time": "2022-02-17T09:53:32.881Z"
   },
   {
    "duration": 1713,
    "start_time": "2022-02-17T09:53:34.491Z"
   },
   {
    "duration": 759,
    "start_time": "2022-02-17T09:53:36.207Z"
   },
   {
    "duration": 23,
    "start_time": "2022-02-17T09:53:36.969Z"
   },
   {
    "duration": 3222,
    "start_time": "2022-02-17T09:53:36.995Z"
   },
   {
    "duration": 1293,
    "start_time": "2022-02-17T09:53:40.228Z"
   },
   {
    "duration": 1070,
    "start_time": "2022-02-17T09:53:41.527Z"
   },
   {
    "duration": 48,
    "start_time": "2022-02-17T09:53:42.600Z"
   },
   {
    "duration": 33,
    "start_time": "2022-02-17T09:53:42.651Z"
   },
   {
    "duration": 40,
    "start_time": "2022-02-17T09:53:42.687Z"
   },
   {
    "duration": 20,
    "start_time": "2022-02-17T09:53:42.730Z"
   },
   {
    "duration": 4,
    "start_time": "2022-02-17T09:53:42.753Z"
   },
   {
    "duration": 13,
    "start_time": "2022-02-17T09:53:42.760Z"
   },
   {
    "duration": 171,
    "start_time": "2022-02-17T09:53:42.776Z"
   },
   {
    "duration": 23,
    "start_time": "2022-02-17T09:53:42.949Z"
   },
   {
    "duration": 560,
    "start_time": "2022-02-17T09:53:42.975Z"
   },
   {
    "duration": 154,
    "start_time": "2022-02-17T09:53:43.538Z"
   },
   {
    "duration": 7,
    "start_time": "2022-02-17T09:53:43.695Z"
   },
   {
    "duration": 24,
    "start_time": "2022-02-17T09:53:43.704Z"
   },
   {
    "duration": 23,
    "start_time": "2022-02-17T09:53:43.730Z"
   },
   {
    "duration": 11,
    "start_time": "2022-02-17T09:53:43.756Z"
   },
   {
    "duration": 839,
    "start_time": "2022-02-17T09:53:43.770Z"
   },
   {
    "duration": 220,
    "start_time": "2022-02-17T09:53:44.612Z"
   },
   {
    "duration": 5,
    "start_time": "2022-02-17T09:53:44.835Z"
   },
   {
    "duration": 1592,
    "start_time": "2022-02-17T09:53:44.843Z"
   },
   {
    "duration": 22170,
    "start_time": "2022-02-17T09:53:46.439Z"
   },
   {
    "duration": 6950,
    "start_time": "2022-02-17T09:54:08.611Z"
   },
   {
    "duration": 14784,
    "start_time": "2022-02-17T09:54:15.564Z"
   },
   {
    "duration": 23218,
    "start_time": "2022-02-17T09:54:30.350Z"
   },
   {
    "duration": -9,
    "start_time": "2022-02-17T09:54:53.579Z"
   },
   {
    "duration": -19,
    "start_time": "2022-02-17T09:54:53.591Z"
   },
   {
    "duration": -26,
    "start_time": "2022-02-17T09:54:53.599Z"
   },
   {
    "duration": -28,
    "start_time": "2022-02-17T09:54:53.603Z"
   },
   {
    "duration": -35,
    "start_time": "2022-02-17T09:54:53.611Z"
   },
   {
    "duration": -42,
    "start_time": "2022-02-17T09:54:53.619Z"
   },
   {
    "duration": -48,
    "start_time": "2022-02-17T09:54:53.626Z"
   },
   {
    "duration": -53,
    "start_time": "2022-02-17T09:54:53.633Z"
   },
   {
    "duration": -60,
    "start_time": "2022-02-17T09:54:53.641Z"
   },
   {
    "duration": 11934,
    "start_time": "2022-02-17T09:55:01.962Z"
   },
   {
    "duration": 11494,
    "start_time": "2022-02-17T09:55:39.145Z"
   },
   {
    "duration": 12362,
    "start_time": "2022-02-17T09:56:01.858Z"
   },
   {
    "duration": 13483,
    "start_time": "2022-02-17T09:56:25.770Z"
   },
   {
    "duration": 9,
    "start_time": "2022-02-17T09:59:15.073Z"
   },
   {
    "duration": 29,
    "start_time": "2022-02-17T10:01:30.052Z"
   },
   {
    "duration": 806,
    "start_time": "2022-02-17T10:01:30.084Z"
   },
   {
    "duration": 732,
    "start_time": "2022-02-17T10:01:30.894Z"
   },
   {
    "duration": 86,
    "start_time": "2022-02-17T10:01:31.628Z"
   },
   {
    "duration": 7,
    "start_time": "2022-02-17T10:01:31.726Z"
   },
   {
    "duration": 11,
    "start_time": "2022-02-17T10:01:31.735Z"
   },
   {
    "duration": 7,
    "start_time": "2022-02-17T10:01:31.749Z"
   },
   {
    "duration": 6,
    "start_time": "2022-02-17T10:01:31.760Z"
   },
   {
    "duration": 61,
    "start_time": "2022-02-17T10:01:31.769Z"
   },
   {
    "duration": 37,
    "start_time": "2022-02-17T10:01:31.833Z"
   },
   {
    "duration": 63,
    "start_time": "2022-02-17T10:01:31.873Z"
   },
   {
    "duration": 14,
    "start_time": "2022-02-17T10:01:31.940Z"
   },
   {
    "duration": 9,
    "start_time": "2022-02-17T10:01:31.957Z"
   },
   {
    "duration": 70,
    "start_time": "2022-02-17T10:01:31.968Z"
   },
   {
    "duration": 18,
    "start_time": "2022-02-17T10:01:32.041Z"
   },
   {
    "duration": 38,
    "start_time": "2022-02-17T10:01:32.061Z"
   },
   {
    "duration": 25,
    "start_time": "2022-02-17T10:01:32.102Z"
   },
   {
    "duration": 23,
    "start_time": "2022-02-17T10:01:32.130Z"
   },
   {
    "duration": 18,
    "start_time": "2022-02-17T10:01:32.156Z"
   },
   {
    "duration": 1119,
    "start_time": "2022-02-17T10:01:32.176Z"
   },
   {
    "duration": 1591,
    "start_time": "2022-02-17T10:01:33.297Z"
   },
   {
    "duration": 1555,
    "start_time": "2022-02-17T10:01:34.891Z"
   },
   {
    "duration": 781,
    "start_time": "2022-02-17T10:01:36.451Z"
   },
   {
    "duration": 25,
    "start_time": "2022-02-17T10:01:37.236Z"
   },
   {
    "duration": 3298,
    "start_time": "2022-02-17T10:01:37.263Z"
   },
   {
    "duration": 1458,
    "start_time": "2022-02-17T10:01:40.564Z"
   },
   {
    "duration": 1055,
    "start_time": "2022-02-17T10:01:42.027Z"
   },
   {
    "duration": 45,
    "start_time": "2022-02-17T10:01:43.085Z"
   },
   {
    "duration": 33,
    "start_time": "2022-02-17T10:01:43.133Z"
   },
   {
    "duration": 8,
    "start_time": "2022-02-17T10:01:43.168Z"
   },
   {
    "duration": 53,
    "start_time": "2022-02-17T10:01:43.178Z"
   },
   {
    "duration": 4,
    "start_time": "2022-02-17T10:01:43.234Z"
   },
   {
    "duration": 8,
    "start_time": "2022-02-17T10:01:43.240Z"
   },
   {
    "duration": 154,
    "start_time": "2022-02-17T10:01:43.250Z"
   },
   {
    "duration": 39,
    "start_time": "2022-02-17T10:01:43.407Z"
   },
   {
    "duration": 790,
    "start_time": "2022-02-17T10:01:43.448Z"
   },
   {
    "duration": 149,
    "start_time": "2022-02-17T10:01:44.241Z"
   },
   {
    "duration": 8,
    "start_time": "2022-02-17T10:01:44.393Z"
   },
   {
    "duration": 23,
    "start_time": "2022-02-17T10:01:44.403Z"
   },
   {
    "duration": 36,
    "start_time": "2022-02-17T10:01:44.429Z"
   },
   {
    "duration": 10,
    "start_time": "2022-02-17T10:01:44.468Z"
   },
   {
    "duration": 1221,
    "start_time": "2022-02-17T10:01:44.480Z"
   },
   {
    "duration": 212,
    "start_time": "2022-02-17T10:01:45.704Z"
   },
   {
    "duration": 13,
    "start_time": "2022-02-17T10:01:45.919Z"
   },
   {
    "duration": 2392,
    "start_time": "2022-02-17T10:01:45.934Z"
   },
   {
    "duration": 22015,
    "start_time": "2022-02-17T10:01:48.329Z"
   },
   {
    "duration": -1,
    "start_time": "2022-02-17T10:02:10.347Z"
   },
   {
    "duration": -7,
    "start_time": "2022-02-17T10:02:10.355Z"
   },
   {
    "duration": -15,
    "start_time": "2022-02-17T10:02:10.364Z"
   },
   {
    "duration": -21,
    "start_time": "2022-02-17T10:02:10.372Z"
   },
   {
    "duration": -28,
    "start_time": "2022-02-17T10:02:10.380Z"
   },
   {
    "duration": -31,
    "start_time": "2022-02-17T10:02:10.385Z"
   },
   {
    "duration": -37,
    "start_time": "2022-02-17T10:02:10.392Z"
   },
   {
    "duration": -43,
    "start_time": "2022-02-17T10:02:10.399Z"
   },
   {
    "duration": -48,
    "start_time": "2022-02-17T10:02:10.406Z"
   },
   {
    "duration": -54,
    "start_time": "2022-02-17T10:02:10.413Z"
   },
   {
    "duration": -56,
    "start_time": "2022-02-17T10:02:10.417Z"
   },
   {
    "duration": -62,
    "start_time": "2022-02-17T10:02:10.424Z"
   },
   {
    "duration": 23367,
    "start_time": "2022-02-17T10:02:54.692Z"
   },
   {
    "duration": 7140,
    "start_time": "2022-02-17T10:03:34.368Z"
   },
   {
    "duration": 22061,
    "start_time": "2022-02-17T10:04:10.496Z"
   },
   {
    "duration": 11441,
    "start_time": "2022-02-17T10:05:05.937Z"
   },
   {
    "duration": 12491,
    "start_time": "2022-02-17T10:05:50.865Z"
   },
   {
    "duration": 12367,
    "start_time": "2022-02-17T10:06:25.977Z"
   },
   {
    "duration": 13618,
    "start_time": "2022-02-17T10:07:55.754Z"
   },
   {
    "duration": 11,
    "start_time": "2022-02-17T10:09:17.020Z"
   },
   {
    "duration": 3235,
    "start_time": "2022-02-17T10:09:17.811Z"
   },
   {
    "duration": 85,
    "start_time": "2022-02-17T10:09:21.049Z"
   },
   {
    "duration": 4,
    "start_time": "2022-02-17T10:09:27.279Z"
   },
   {
    "duration": 16367,
    "start_time": "2022-02-17T10:09:28.602Z"
   },
   {
    "duration": 309,
    "start_time": "2022-02-17T10:17:06.058Z"
   },
   {
    "duration": 29,
    "start_time": "2022-02-17T10:17:16.144Z"
   },
   {
    "duration": 732,
    "start_time": "2022-02-17T10:17:16.175Z"
   },
   {
    "duration": 738,
    "start_time": "2022-02-17T10:17:16.910Z"
   },
   {
    "duration": 105,
    "start_time": "2022-02-17T10:17:17.651Z"
   },
   {
    "duration": 7,
    "start_time": "2022-02-17T10:17:17.759Z"
   },
   {
    "duration": 8,
    "start_time": "2022-02-17T10:17:17.769Z"
   },
   {
    "duration": 6,
    "start_time": "2022-02-17T10:17:17.780Z"
   },
   {
    "duration": 4,
    "start_time": "2022-02-17T10:17:17.791Z"
   },
   {
    "duration": 76,
    "start_time": "2022-02-17T10:17:17.799Z"
   },
   {
    "duration": 51,
    "start_time": "2022-02-17T10:17:17.877Z"
   },
   {
    "duration": 34,
    "start_time": "2022-02-17T10:17:17.932Z"
   },
   {
    "duration": 14,
    "start_time": "2022-02-17T10:17:17.969Z"
   },
   {
    "duration": 47,
    "start_time": "2022-02-17T10:17:17.985Z"
   },
   {
    "duration": 33,
    "start_time": "2022-02-17T10:17:18.035Z"
   },
   {
    "duration": 17,
    "start_time": "2022-02-17T10:17:18.071Z"
   },
   {
    "duration": 57,
    "start_time": "2022-02-17T10:17:18.090Z"
   },
   {
    "duration": 9,
    "start_time": "2022-02-17T10:17:18.149Z"
   },
   {
    "duration": 22,
    "start_time": "2022-02-17T10:17:18.160Z"
   },
   {
    "duration": 48,
    "start_time": "2022-02-17T10:17:18.184Z"
   },
   {
    "duration": 1112,
    "start_time": "2022-02-17T10:17:18.234Z"
   },
   {
    "duration": 1497,
    "start_time": "2022-02-17T10:17:19.348Z"
   },
   {
    "duration": 1613,
    "start_time": "2022-02-17T10:17:20.848Z"
   },
   {
    "duration": 770,
    "start_time": "2022-02-17T10:17:22.466Z"
   },
   {
    "duration": 24,
    "start_time": "2022-02-17T10:17:23.239Z"
   },
   {
    "duration": 3413,
    "start_time": "2022-02-17T10:17:23.265Z"
   },
   {
    "duration": 1323,
    "start_time": "2022-02-17T10:17:26.681Z"
   },
   {
    "duration": 1062,
    "start_time": "2022-02-17T10:17:28.006Z"
   },
   {
    "duration": 34,
    "start_time": "2022-02-17T10:17:29.070Z"
   },
   {
    "duration": 47,
    "start_time": "2022-02-17T10:17:29.106Z"
   },
   {
    "duration": 19,
    "start_time": "2022-02-17T10:17:29.155Z"
   },
   {
    "duration": 28,
    "start_time": "2022-02-17T10:17:29.176Z"
   },
   {
    "duration": 3,
    "start_time": "2022-02-17T10:17:29.207Z"
   },
   {
    "duration": 10,
    "start_time": "2022-02-17T10:17:29.226Z"
   },
   {
    "duration": 148,
    "start_time": "2022-02-17T10:17:29.239Z"
   },
   {
    "duration": 38,
    "start_time": "2022-02-17T10:17:29.389Z"
   },
   {
    "duration": 747,
    "start_time": "2022-02-17T10:17:29.430Z"
   },
   {
    "duration": 153,
    "start_time": "2022-02-17T10:17:30.180Z"
   },
   {
    "duration": 8,
    "start_time": "2022-02-17T10:17:30.335Z"
   },
   {
    "duration": 19,
    "start_time": "2022-02-17T10:17:30.346Z"
   },
   {
    "duration": 38,
    "start_time": "2022-02-17T10:17:30.367Z"
   },
   {
    "duration": 8,
    "start_time": "2022-02-17T10:17:30.408Z"
   },
   {
    "duration": 1194,
    "start_time": "2022-02-17T10:17:30.427Z"
   },
   {
    "duration": 216,
    "start_time": "2022-02-17T10:17:31.624Z"
   },
   {
    "duration": 5,
    "start_time": "2022-02-17T10:18:24.343Z"
   },
   {
    "duration": 2298,
    "start_time": "2022-02-17T10:18:31.975Z"
   },
   {
    "duration": 23371,
    "start_time": "2022-02-17T10:18:45.862Z"
   },
   {
    "duration": 6944,
    "start_time": "2022-02-17T10:19:21.384Z"
   },
   {
    "duration": 22457,
    "start_time": "2022-02-17T10:19:55.427Z"
   },
   {
    "duration": 78353,
    "start_time": "2022-02-17T10:21:11.616Z"
   },
   {
    "duration": 56503,
    "start_time": "2022-02-17T10:23:08.272Z"
   },
   {
    "duration": 57325,
    "start_time": "2022-02-17T10:24:56.306Z"
   },
   {
    "duration": 96663,
    "start_time": "2022-02-17T10:26:42.217Z"
   },
   {
    "duration": 27,
    "start_time": "2022-02-17T10:28:46.186Z"
   },
   {
    "duration": 83286,
    "start_time": "2022-02-17T10:28:49.130Z"
   },
   {
    "duration": 19,
    "start_time": "2022-02-17T10:30:25.075Z"
   },
   {
    "duration": 60708,
    "start_time": "2022-02-17T10:30:27.123Z"
   },
   {
    "duration": 63405,
    "start_time": "2022-02-17T10:31:40.476Z"
   },
   {
    "duration": 6,
    "start_time": "2022-02-17T10:33:04.180Z"
   },
   {
    "duration": 11,
    "start_time": "2022-02-17T10:33:56.676Z"
   },
   {
    "duration": 24,
    "start_time": "2022-02-17T10:36:10.819Z"
   },
   {
    "duration": 418,
    "start_time": "2022-02-17T10:36:13.821Z"
   },
   {
    "duration": 319,
    "start_time": "2022-02-17T10:36:46.732Z"
   },
   {
    "duration": 207057,
    "start_time": "2022-02-17T10:37:06.653Z"
   },
   {
    "duration": 21,
    "start_time": "2022-02-17T10:42:19.926Z"
   },
   {
    "duration": 10493,
    "start_time": "2022-02-17T10:42:45.791Z"
   },
   {
    "duration": 9,
    "start_time": "2022-02-17T10:44:05.199Z"
   },
   {
    "duration": 13517,
    "start_time": "2022-02-17T10:44:05.752Z"
   },
   {
    "duration": 107,
    "start_time": "2022-02-17T10:44:32.687Z"
   },
   {
    "duration": 4,
    "start_time": "2022-02-17T10:44:39.695Z"
   },
   {
    "duration": 58696,
    "start_time": "2022-02-17T10:44:49.632Z"
   },
   {
    "duration": 4,
    "start_time": "2022-02-17T10:49:14.913Z"
   },
   {
    "duration": 51508,
    "start_time": "2022-02-17T10:49:15.897Z"
   },
   {
    "duration": 4,
    "start_time": "2022-02-17T10:50:27.305Z"
   },
   {
    "duration": 4,
    "start_time": "2022-02-17T10:51:52.218Z"
   },
   {
    "duration": 13124,
    "start_time": "2022-02-17T10:52:03.282Z"
   },
   {
    "duration": 36,
    "start_time": "2022-02-17T10:52:19.314Z"
   },
   {
    "duration": 4,
    "start_time": "2022-02-17T10:52:26.410Z"
   },
   {
    "duration": 50821,
    "start_time": "2022-02-17T10:52:27.706Z"
   },
   {
    "duration": 30,
    "start_time": "2022-02-17T10:54:41.964Z"
   },
   {
    "duration": 829,
    "start_time": "2022-02-17T10:54:41.997Z"
   },
   {
    "duration": 776,
    "start_time": "2022-02-17T10:54:42.829Z"
   },
   {
    "duration": 129,
    "start_time": "2022-02-17T10:54:43.609Z"
   },
   {
    "duration": 9,
    "start_time": "2022-02-17T10:54:43.741Z"
   },
   {
    "duration": 13,
    "start_time": "2022-02-17T10:54:43.753Z"
   },
   {
    "duration": 11,
    "start_time": "2022-02-17T10:54:43.769Z"
   },
   {
    "duration": 13,
    "start_time": "2022-02-17T10:54:43.783Z"
   },
   {
    "duration": 61,
    "start_time": "2022-02-17T10:54:43.802Z"
   },
   {
    "duration": 36,
    "start_time": "2022-02-17T10:54:43.867Z"
   },
   {
    "duration": 54,
    "start_time": "2022-02-17T10:54:43.906Z"
   },
   {
    "duration": 16,
    "start_time": "2022-02-17T10:54:43.962Z"
   },
   {
    "duration": 8,
    "start_time": "2022-02-17T10:54:43.981Z"
   },
   {
    "duration": 82,
    "start_time": "2022-02-17T10:54:43.992Z"
   },
   {
    "duration": 19,
    "start_time": "2022-02-17T10:54:44.076Z"
   },
   {
    "duration": 45,
    "start_time": "2022-02-17T10:54:44.097Z"
   },
   {
    "duration": 11,
    "start_time": "2022-02-17T10:54:44.146Z"
   },
   {
    "duration": 27,
    "start_time": "2022-02-17T10:54:44.160Z"
   },
   {
    "duration": 49,
    "start_time": "2022-02-17T10:54:44.192Z"
   },
   {
    "duration": 1235,
    "start_time": "2022-02-17T10:54:44.244Z"
   },
   {
    "duration": 1464,
    "start_time": "2022-02-17T10:54:45.482Z"
   },
   {
    "duration": 1665,
    "start_time": "2022-02-17T10:54:46.949Z"
   },
   {
    "duration": 755,
    "start_time": "2022-02-17T10:54:48.617Z"
   },
   {
    "duration": 24,
    "start_time": "2022-02-17T10:54:49.376Z"
   },
   {
    "duration": 3240,
    "start_time": "2022-02-17T10:54:49.402Z"
   },
   {
    "duration": 1395,
    "start_time": "2022-02-17T10:54:52.645Z"
   },
   {
    "duration": 1060,
    "start_time": "2022-02-17T10:54:54.046Z"
   },
   {
    "duration": 43,
    "start_time": "2022-02-17T10:54:55.111Z"
   },
   {
    "duration": 30,
    "start_time": "2022-02-17T10:54:55.157Z"
   },
   {
    "duration": 55,
    "start_time": "2022-02-17T10:54:55.190Z"
   },
   {
    "duration": 20,
    "start_time": "2022-02-17T10:54:55.248Z"
   },
   {
    "duration": 5,
    "start_time": "2022-02-17T10:54:55.271Z"
   },
   {
    "duration": 10,
    "start_time": "2022-02-17T10:54:55.279Z"
   },
   {
    "duration": 159,
    "start_time": "2022-02-17T10:54:55.292Z"
   },
   {
    "duration": 25,
    "start_time": "2022-02-17T10:54:55.454Z"
   },
   {
    "duration": 734,
    "start_time": "2022-02-17T10:54:55.481Z"
   },
   {
    "duration": 147,
    "start_time": "2022-02-17T10:54:56.218Z"
   },
   {
    "duration": 8,
    "start_time": "2022-02-17T10:54:56.367Z"
   },
   {
    "duration": 14,
    "start_time": "2022-02-17T10:54:56.378Z"
   },
   {
    "duration": 41,
    "start_time": "2022-02-17T10:54:56.395Z"
   },
   {
    "duration": 8,
    "start_time": "2022-02-17T10:54:56.439Z"
   },
   {
    "duration": 1160,
    "start_time": "2022-02-17T10:54:56.449Z"
   },
   {
    "duration": 207,
    "start_time": "2022-02-17T10:54:57.612Z"
   },
   {
    "duration": 6,
    "start_time": "2022-02-17T10:54:57.821Z"
   },
   {
    "duration": 2348,
    "start_time": "2022-02-17T10:54:57.830Z"
   },
   {
    "duration": 22007,
    "start_time": "2022-02-17T10:55:00.181Z"
   },
   {
    "duration": 7054,
    "start_time": "2022-02-17T10:55:22.192Z"
   },
   {
    "duration": 21345,
    "start_time": "2022-02-17T10:55:29.248Z"
   },
   {
    "duration": 40932,
    "start_time": "2022-02-17T10:55:50.595Z"
   },
   {
    "duration": 12,
    "start_time": "2022-02-17T10:56:31.518Z"
   },
   {
    "duration": 0,
    "start_time": "2022-02-17T10:56:31.531Z"
   },
   {
    "duration": -7,
    "start_time": "2022-02-17T10:56:31.539Z"
   },
   {
    "duration": -13,
    "start_time": "2022-02-17T10:56:31.547Z"
   },
   {
    "duration": -19,
    "start_time": "2022-02-17T10:56:31.555Z"
   },
   {
    "duration": -21,
    "start_time": "2022-02-17T10:56:31.559Z"
   },
   {
    "duration": -28,
    "start_time": "2022-02-17T10:56:31.567Z"
   },
   {
    "duration": -35,
    "start_time": "2022-02-17T10:56:31.576Z"
   },
   {
    "duration": -40,
    "start_time": "2022-02-17T10:56:31.583Z"
   },
   {
    "duration": -45,
    "start_time": "2022-02-17T10:56:31.590Z"
   },
   {
    "duration": 21911,
    "start_time": "2022-02-17T10:57:06.188Z"
   },
   {
    "duration": 2492,
    "start_time": "2022-02-17T10:57:41.208Z"
   },
   {
    "duration": 18120,
    "start_time": "2022-02-17T10:58:02.192Z"
   },
   {
    "duration": 2524,
    "start_time": "2022-02-17T10:58:30.120Z"
   },
   {
    "duration": 7459,
    "start_time": "2022-02-17T10:58:53.177Z"
   },
   {
    "duration": 5705,
    "start_time": "2022-02-17T10:59:23.440Z"
   },
   {
    "duration": 17982,
    "start_time": "2022-02-17T10:59:44.992Z"
   },
   {
    "duration": 5536,
    "start_time": "2022-02-17T11:00:14.737Z"
   },
   {
    "duration": 20607,
    "start_time": "2022-02-17T11:00:38.912Z"
   },
   {
    "duration": 6537,
    "start_time": "2022-02-17T11:01:10.001Z"
   },
   {
    "duration": 21,
    "start_time": "2022-02-17T11:01:46.737Z"
   },
   {
    "duration": 53895,
    "start_time": "2022-02-17T11:02:15.689Z"
   },
   {
    "duration": 14763,
    "start_time": "2022-02-17T11:04:21.729Z"
   },
   {
    "duration": 5,
    "start_time": "2022-02-17T11:06:25.787Z"
   },
   {
    "duration": 21,
    "start_time": "2022-02-17T11:07:34.403Z"
   },
   {
    "duration": 11,
    "start_time": "2022-02-17T11:07:52.467Z"
   },
   {
    "duration": 5,
    "start_time": "2022-02-17T11:07:52.481Z"
   },
   {
    "duration": 11,
    "start_time": "2022-02-17T11:07:52.490Z"
   },
   {
    "duration": 9,
    "start_time": "2022-02-17T11:07:52.505Z"
   },
   {
    "duration": 6,
    "start_time": "2022-02-17T11:07:52.516Z"
   },
   {
    "duration": 21,
    "start_time": "2022-02-17T11:07:52.525Z"
   },
   {
    "duration": 10,
    "start_time": "2022-02-17T11:07:52.549Z"
   },
   {
    "duration": 16,
    "start_time": "2022-02-17T11:07:52.565Z"
   },
   {
    "duration": 64,
    "start_time": "2022-02-17T11:07:52.587Z"
   },
   {
    "duration": 33,
    "start_time": "2022-02-17T11:07:52.654Z"
   },
   {
    "duration": 55,
    "start_time": "2022-02-17T11:07:52.690Z"
   },
   {
    "duration": 15,
    "start_time": "2022-02-17T11:07:52.748Z"
   },
   {
    "duration": 8,
    "start_time": "2022-02-17T11:07:52.765Z"
   },
   {
    "duration": 63,
    "start_time": "2022-02-17T11:07:52.776Z"
   },
   {
    "duration": 18,
    "start_time": "2022-02-17T11:07:52.842Z"
   },
   {
    "duration": 25,
    "start_time": "2022-02-17T11:07:52.863Z"
   },
   {
    "duration": 41,
    "start_time": "2022-02-17T11:07:52.891Z"
   },
   {
    "duration": 22,
    "start_time": "2022-02-17T11:07:52.935Z"
   },
   {
    "duration": 18,
    "start_time": "2022-02-17T11:07:52.960Z"
   },
   {
    "duration": 1139,
    "start_time": "2022-02-17T11:07:52.981Z"
   },
   {
    "duration": 1479,
    "start_time": "2022-02-17T11:07:54.127Z"
   },
   {
    "duration": 1564,
    "start_time": "2022-02-17T11:07:55.609Z"
   },
   {
    "duration": 760,
    "start_time": "2022-02-17T11:07:57.178Z"
   },
   {
    "duration": 23,
    "start_time": "2022-02-17T11:07:57.941Z"
   },
   {
    "duration": 3378,
    "start_time": "2022-02-17T11:07:57.966Z"
   },
   {
    "duration": 1270,
    "start_time": "2022-02-17T11:08:01.347Z"
   },
   {
    "duration": 977,
    "start_time": "2022-02-17T11:08:02.619Z"
   },
   {
    "duration": 47,
    "start_time": "2022-02-17T11:08:03.598Z"
   },
   {
    "duration": 36,
    "start_time": "2022-02-17T11:08:03.648Z"
   },
   {
    "duration": 18,
    "start_time": "2022-02-17T11:08:03.686Z"
   },
   {
    "duration": 43,
    "start_time": "2022-02-17T11:08:03.706Z"
   },
   {
    "duration": 9,
    "start_time": "2022-02-17T11:08:03.752Z"
   },
   {
    "duration": 19,
    "start_time": "2022-02-17T11:08:03.763Z"
   },
   {
    "duration": 160,
    "start_time": "2022-02-17T11:08:03.784Z"
   },
   {
    "duration": 25,
    "start_time": "2022-02-17T11:08:03.947Z"
   },
   {
    "duration": 874,
    "start_time": "2022-02-17T11:08:03.975Z"
   },
   {
    "duration": 151,
    "start_time": "2022-02-17T11:08:04.852Z"
   },
   {
    "duration": 20,
    "start_time": "2022-02-17T11:08:05.006Z"
   },
   {
    "duration": 5,
    "start_time": "2022-02-17T11:08:05.029Z"
   },
   {
    "duration": 33,
    "start_time": "2022-02-17T11:08:05.037Z"
   },
   {
    "duration": 22,
    "start_time": "2022-02-17T11:08:05.073Z"
   },
   {
    "duration": 1799,
    "start_time": "2022-02-17T11:08:05.098Z"
   },
   {
    "duration": 279,
    "start_time": "2022-02-17T11:08:06.909Z"
   },
   {
    "duration": 7,
    "start_time": "2022-02-17T11:08:07.191Z"
   },
   {
    "duration": 2307,
    "start_time": "2022-02-17T11:09:00.870Z"
   },
   {
    "duration": 58302,
    "start_time": "2022-02-17T11:09:19.285Z"
   },
   {
    "duration": 137294,
    "start_time": "2022-02-17T11:13:46.611Z"
   },
   {
    "duration": 6844,
    "start_time": "2022-02-17T11:16:31.622Z"
   },
   {
    "duration": 23025,
    "start_time": "2022-02-17T11:18:00.790Z"
   },
   {
    "duration": 21685,
    "start_time": "2022-02-17T11:18:51.222Z"
   },
   {
    "duration": 33363,
    "start_time": "2022-02-17T11:19:34.206Z"
   },
   {
    "duration": 54239,
    "start_time": "2022-02-17T11:20:31.927Z"
   },
   {
    "duration": 72820,
    "start_time": "2022-02-17T11:22:28.896Z"
   },
   {
    "duration": 57374,
    "start_time": "2022-02-17T11:23:41.719Z"
   },
   {
    "duration": 257,
    "start_time": "2022-02-17T11:24:54.561Z"
   },
   {
    "duration": 7,
    "start_time": "2022-02-17T11:25:05.136Z"
   },
   {
    "duration": 7267,
    "start_time": "2022-02-17T11:25:09.454Z"
   },
   {
    "duration": 4,
    "start_time": "2022-02-17T11:27:03.078Z"
   },
   {
    "duration": 41529,
    "start_time": "2022-02-17T11:27:04.665Z"
   },
   {
    "duration": 4,
    "start_time": "2022-02-17T11:28:37.153Z"
   },
   {
    "duration": 40070,
    "start_time": "2022-02-17T11:28:37.778Z"
   },
   {
    "duration": 4,
    "start_time": "2022-02-17T11:36:45.830Z"
   },
   {
    "duration": 859,
    "start_time": "2022-02-17T11:36:46.366Z"
   },
   {
    "duration": 22695,
    "start_time": "2022-02-17T11:37:04.197Z"
   },
   {
    "duration": 50878,
    "start_time": "2022-02-17T11:38:52.395Z"
   },
   {
    "duration": 84,
    "start_time": "2022-02-17T11:40:22.480Z"
   },
   {
    "duration": 9,
    "start_time": "2022-02-17T11:42:59.077Z"
   },
   {
    "duration": 4,
    "start_time": "2022-02-17T11:43:27.062Z"
   },
   {
    "duration": 9,
    "start_time": "2022-02-17T11:44:24.935Z"
   },
   {
    "duration": 9462,
    "start_time": "2022-02-17T11:44:30.831Z"
   },
   {
    "duration": 103,
    "start_time": "2022-02-17T11:44:56.638Z"
   },
   {
    "duration": 3,
    "start_time": "2022-02-17T11:45:21.520Z"
   },
   {
    "duration": 79,
    "start_time": "2022-02-17T11:45:22.495Z"
   },
   {
    "duration": 37578,
    "start_time": "2022-02-17T11:45:39.853Z"
   },
   {
    "duration": 4,
    "start_time": "2022-02-17T11:46:25.350Z"
   },
   {
    "duration": 45316,
    "start_time": "2022-02-17T11:46:25.727Z"
   },
   {
    "duration": 5,
    "start_time": "2022-02-17T11:47:29.639Z"
   },
   {
    "duration": 37559,
    "start_time": "2022-02-17T11:47:29.975Z"
   },
   {
    "duration": 13519,
    "start_time": "2022-02-17T11:48:18.823Z"
   },
   {
    "duration": 29,
    "start_time": "2022-02-17T11:48:53.690Z"
   },
   {
    "duration": 875,
    "start_time": "2022-02-17T11:48:53.722Z"
   },
   {
    "duration": 965,
    "start_time": "2022-02-17T11:48:54.600Z"
   },
   {
    "duration": 98,
    "start_time": "2022-02-17T11:48:55.569Z"
   },
   {
    "duration": 7,
    "start_time": "2022-02-17T11:48:55.670Z"
   },
   {
    "duration": 17,
    "start_time": "2022-02-17T11:48:55.680Z"
   },
   {
    "duration": 10,
    "start_time": "2022-02-17T11:48:55.700Z"
   },
   {
    "duration": 4,
    "start_time": "2022-02-17T11:48:55.726Z"
   },
   {
    "duration": 55,
    "start_time": "2022-02-17T11:48:55.736Z"
   },
   {
    "duration": 63,
    "start_time": "2022-02-17T11:48:55.795Z"
   },
   {
    "duration": 35,
    "start_time": "2022-02-17T11:48:55.860Z"
   },
   {
    "duration": 41,
    "start_time": "2022-02-17T11:48:55.899Z"
   },
   {
    "duration": 11,
    "start_time": "2022-02-17T11:48:55.943Z"
   },
   {
    "duration": 69,
    "start_time": "2022-02-17T11:48:55.957Z"
   },
   {
    "duration": 21,
    "start_time": "2022-02-17T11:48:56.029Z"
   },
   {
    "duration": 27,
    "start_time": "2022-02-17T11:48:56.053Z"
   },
   {
    "duration": 45,
    "start_time": "2022-02-17T11:48:56.083Z"
   },
   {
    "duration": 26,
    "start_time": "2022-02-17T11:48:56.131Z"
   },
   {
    "duration": 22,
    "start_time": "2022-02-17T11:48:56.160Z"
   },
   {
    "duration": 1144,
    "start_time": "2022-02-17T11:48:56.185Z"
   },
   {
    "duration": 1490,
    "start_time": "2022-02-17T11:48:57.331Z"
   },
   {
    "duration": 1859,
    "start_time": "2022-02-17T11:48:58.823Z"
   },
   {
    "duration": 749,
    "start_time": "2022-02-17T11:49:00.686Z"
   },
   {
    "duration": 27,
    "start_time": "2022-02-17T11:49:01.438Z"
   },
   {
    "duration": 3275,
    "start_time": "2022-02-17T11:49:01.468Z"
   },
   {
    "duration": 1297,
    "start_time": "2022-02-17T11:49:04.746Z"
   },
   {
    "duration": 1065,
    "start_time": "2022-02-17T11:49:06.049Z"
   },
   {
    "duration": 51,
    "start_time": "2022-02-17T11:49:07.119Z"
   },
   {
    "duration": 69,
    "start_time": "2022-02-17T11:49:07.173Z"
   },
   {
    "duration": 10,
    "start_time": "2022-02-17T11:49:07.245Z"
   },
   {
    "duration": 23,
    "start_time": "2022-02-17T11:49:07.259Z"
   },
   {
    "duration": 4,
    "start_time": "2022-02-17T11:49:07.285Z"
   },
   {
    "duration": 36,
    "start_time": "2022-02-17T11:49:07.292Z"
   },
   {
    "duration": 149,
    "start_time": "2022-02-17T11:49:07.331Z"
   },
   {
    "duration": 42,
    "start_time": "2022-02-17T11:49:07.483Z"
   },
   {
    "duration": 736,
    "start_time": "2022-02-17T11:49:07.528Z"
   },
   {
    "duration": 155,
    "start_time": "2022-02-17T11:49:08.266Z"
   },
   {
    "duration": 9,
    "start_time": "2022-02-17T11:49:08.427Z"
   },
   {
    "duration": 16,
    "start_time": "2022-02-17T11:49:08.439Z"
   },
   {
    "duration": 31,
    "start_time": "2022-02-17T11:49:08.458Z"
   },
   {
    "duration": 8,
    "start_time": "2022-02-17T11:49:08.491Z"
   },
   {
    "duration": 1165,
    "start_time": "2022-02-17T11:49:08.501Z"
   },
   {
    "duration": 203,
    "start_time": "2022-02-17T11:49:09.669Z"
   },
   {
    "duration": 7,
    "start_time": "2022-02-17T11:49:09.876Z"
   },
   {
    "duration": 2364,
    "start_time": "2022-02-17T11:49:09.886Z"
   },
   {
    "duration": 136817,
    "start_time": "2022-02-17T11:49:12.253Z"
   },
   {
    "duration": 8085,
    "start_time": "2022-02-17T11:51:29.073Z"
   },
   {
    "duration": 22685,
    "start_time": "2022-02-17T11:51:37.160Z"
   },
   {
    "duration": 68531,
    "start_time": "2022-02-17T11:51:59.847Z"
   },
   {
    "duration": 55571,
    "start_time": "2022-02-17T11:53:08.380Z"
   },
   {
    "duration": 4,
    "start_time": "2022-02-17T11:54:03.954Z"
   },
   {
    "duration": 41427,
    "start_time": "2022-02-17T11:54:03.960Z"
   },
   {
    "duration": 52710,
    "start_time": "2022-02-17T11:54:45.390Z"
   },
   {
    "duration": 4,
    "start_time": "2022-02-17T11:55:38.102Z"
   },
   {
    "duration": 38,
    "start_time": "2022-02-17T11:55:38.108Z"
   },
   {
    "duration": 10557,
    "start_time": "2022-02-17T11:55:38.149Z"
   },
   {
    "duration": 126,
    "start_time": "2022-02-17T11:55:48.709Z"
   },
   {
    "duration": 5,
    "start_time": "2022-02-17T11:55:48.838Z"
   },
   {
    "duration": 55518,
    "start_time": "2022-02-17T11:55:48.846Z"
   },
   {
    "duration": 16528,
    "start_time": "2022-02-17T11:56:44.367Z"
   },
   {
    "duration": 21,
    "start_time": "2022-02-17T20:42:20.387Z"
   },
   {
    "duration": 633,
    "start_time": "2022-02-17T20:42:20.411Z"
   },
   {
    "duration": 590,
    "start_time": "2022-02-17T20:42:21.046Z"
   },
   {
    "duration": 76,
    "start_time": "2022-02-17T20:42:21.638Z"
   },
   {
    "duration": 11,
    "start_time": "2022-02-17T20:42:21.716Z"
   },
   {
    "duration": 3,
    "start_time": "2022-02-17T20:42:21.729Z"
   },
   {
    "duration": 10,
    "start_time": "2022-02-17T20:42:21.733Z"
   },
   {
    "duration": 8,
    "start_time": "2022-02-17T20:42:21.746Z"
   },
   {
    "duration": 62,
    "start_time": "2022-02-17T20:42:21.756Z"
   },
   {
    "duration": 24,
    "start_time": "2022-02-17T20:42:21.820Z"
   },
   {
    "duration": 22,
    "start_time": "2022-02-17T20:42:21.846Z"
   },
   {
    "duration": 22,
    "start_time": "2022-02-17T20:42:21.871Z"
   },
   {
    "duration": 7,
    "start_time": "2022-02-17T20:42:21.895Z"
   },
   {
    "duration": 25,
    "start_time": "2022-02-17T20:42:21.904Z"
   },
   {
    "duration": 14,
    "start_time": "2022-02-17T20:42:21.930Z"
   },
   {
    "duration": 45,
    "start_time": "2022-02-17T20:42:21.946Z"
   },
   {
    "duration": 6,
    "start_time": "2022-02-17T20:42:21.993Z"
   },
   {
    "duration": 18,
    "start_time": "2022-02-17T20:42:22.001Z"
   },
   {
    "duration": 12,
    "start_time": "2022-02-17T20:42:22.020Z"
   },
   {
    "duration": 776,
    "start_time": "2022-02-17T20:42:22.034Z"
   },
   {
    "duration": 1109,
    "start_time": "2022-02-17T20:42:22.812Z"
   },
   {
    "duration": 1227,
    "start_time": "2022-02-17T20:42:23.923Z"
   },
   {
    "duration": 567,
    "start_time": "2022-02-17T20:42:25.155Z"
   },
   {
    "duration": 17,
    "start_time": "2022-02-17T20:42:25.725Z"
   },
   {
    "duration": 2479,
    "start_time": "2022-02-17T20:42:25.744Z"
   },
   {
    "duration": 981,
    "start_time": "2022-02-17T20:42:28.224Z"
   },
   {
    "duration": 808,
    "start_time": "2022-02-17T20:42:29.206Z"
   },
   {
    "duration": 24,
    "start_time": "2022-02-17T20:42:30.016Z"
   },
   {
    "duration": 49,
    "start_time": "2022-02-17T20:42:30.042Z"
   },
   {
    "duration": 6,
    "start_time": "2022-02-17T20:42:30.093Z"
   },
   {
    "duration": 20,
    "start_time": "2022-02-17T20:42:30.100Z"
   },
   {
    "duration": 3,
    "start_time": "2022-02-17T20:42:30.122Z"
   },
   {
    "duration": 10,
    "start_time": "2022-02-17T20:42:30.127Z"
   },
   {
    "duration": 137,
    "start_time": "2022-02-17T20:42:30.138Z"
   },
   {
    "duration": 20,
    "start_time": "2022-02-17T20:42:30.279Z"
   },
   {
    "duration": 593,
    "start_time": "2022-02-17T20:42:30.301Z"
   },
   {
    "duration": 114,
    "start_time": "2022-02-17T20:42:30.896Z"
   },
   {
    "duration": 7,
    "start_time": "2022-02-17T20:42:31.013Z"
   },
   {
    "duration": 5,
    "start_time": "2022-02-17T20:42:31.070Z"
   },
   {
    "duration": 41,
    "start_time": "2022-02-17T20:42:31.079Z"
   },
   {
    "duration": 6,
    "start_time": "2022-02-17T20:42:31.122Z"
   },
   {
    "duration": 976,
    "start_time": "2022-02-17T20:42:31.130Z"
   },
   {
    "duration": 151,
    "start_time": "2022-02-17T20:42:32.108Z"
   },
   {
    "duration": 9,
    "start_time": "2022-02-17T20:42:32.261Z"
   },
   {
    "duration": 1800,
    "start_time": "2022-02-17T20:42:32.273Z"
   },
   {
    "duration": 97377,
    "start_time": "2022-02-17T20:42:34.076Z"
   },
   {
    "duration": 4986,
    "start_time": "2022-02-17T20:44:11.455Z"
   },
   {
    "duration": 15563,
    "start_time": "2022-02-17T20:44:16.443Z"
   },
   {
    "duration": 47157,
    "start_time": "2022-02-17T20:44:32.008Z"
   },
   {
    "duration": 40950,
    "start_time": "2022-02-17T20:45:19.166Z"
   },
   {
    "duration": 3,
    "start_time": "2022-02-17T20:46:00.118Z"
   },
   {
    "duration": 28472,
    "start_time": "2022-02-17T20:46:00.123Z"
   },
   {
    "duration": 37107,
    "start_time": "2022-02-17T20:46:28.597Z"
   },
   {
    "duration": 3,
    "start_time": "2022-02-17T20:47:05.706Z"
   },
   {
    "duration": 10,
    "start_time": "2022-02-17T20:47:05.711Z"
   },
   {
    "duration": 4739,
    "start_time": "2022-02-17T20:47:05.723Z"
   },
   {
    "duration": 70,
    "start_time": "2022-02-17T20:47:10.464Z"
   },
   {
    "duration": 3,
    "start_time": "2022-02-17T20:47:10.536Z"
   },
   {
    "duration": 25746,
    "start_time": "2022-02-17T20:47:10.541Z"
   },
   {
    "duration": 7107,
    "start_time": "2022-02-17T20:47:36.289Z"
   },
   {
    "duration": 80,
    "start_time": "2022-02-17T22:43:10.116Z"
   },
   {
    "duration": 97,
    "start_time": "2022-02-18T00:34:01.713Z"
   },
   {
    "duration": 91,
    "start_time": "2022-02-18T02:08:47.042Z"
   },
   {
    "duration": 631,
    "start_time": "2022-02-18T09:02:23.035Z"
   },
   {
    "duration": 604,
    "start_time": "2022-02-18T09:02:23.668Z"
   },
   {
    "duration": 75,
    "start_time": "2022-02-18T09:02:24.275Z"
   },
   {
    "duration": 74,
    "start_time": "2022-02-18T09:02:24.402Z"
   },
   {
    "duration": 3,
    "start_time": "2022-02-18T09:02:24.889Z"
   },
   {
    "duration": 3,
    "start_time": "2022-02-18T09:02:25.313Z"
   },
   {
    "duration": 2,
    "start_time": "2022-02-18T09:02:30.537Z"
   },
   {
    "duration": 76,
    "start_time": "2022-02-18T09:02:32.041Z"
   },
   {
    "duration": 28,
    "start_time": "2022-02-18T09:02:32.466Z"
   },
   {
    "duration": 25,
    "start_time": "2022-02-18T09:02:32.945Z"
   },
   {
    "duration": 9,
    "start_time": "2022-02-18T09:02:33.321Z"
   },
   {
    "duration": 7,
    "start_time": "2022-02-18T09:02:34.961Z"
   },
   {
    "duration": 24,
    "start_time": "2022-02-18T09:02:35.362Z"
   },
   {
    "duration": 13,
    "start_time": "2022-02-18T09:02:36.321Z"
   },
   {
    "duration": 17,
    "start_time": "2022-02-18T09:02:37.218Z"
   },
   {
    "duration": 7,
    "start_time": "2022-02-18T09:02:38.137Z"
   },
   {
    "duration": 17,
    "start_time": "2022-02-18T09:02:39.993Z"
   },
   {
    "duration": 15,
    "start_time": "2022-02-18T09:02:40.545Z"
   },
   {
    "duration": 662,
    "start_time": "2022-02-18T09:02:43.153Z"
   },
   {
    "duration": 921,
    "start_time": "2022-02-18T09:02:45.601Z"
   },
   {
    "duration": 976,
    "start_time": "2022-02-18T09:02:47.289Z"
   },
   {
    "duration": 517,
    "start_time": "2022-02-18T09:04:00.980Z"
   },
   {
    "duration": 361,
    "start_time": "2022-02-18T09:18:09.095Z"
   },
   {
    "duration": 897,
    "start_time": "2022-02-18T09:18:33.602Z"
   },
   {
    "duration": 246,
    "start_time": "2022-02-18T09:19:17.366Z"
   },
   {
    "duration": 889,
    "start_time": "2022-02-18T09:19:25.790Z"
   },
   {
    "duration": 907,
    "start_time": "2022-02-18T09:21:31.495Z"
   },
   {
    "duration": 908,
    "start_time": "2022-02-18T09:22:13.380Z"
   },
   {
    "duration": 944,
    "start_time": "2022-02-18T09:24:25.863Z"
   },
   {
    "duration": 1467,
    "start_time": "2022-02-18T09:26:05.632Z"
   },
   {
    "duration": 1073,
    "start_time": "2022-02-18T09:26:24.056Z"
   },
   {
    "duration": 1033,
    "start_time": "2022-02-18T09:38:29.951Z"
   },
   {
    "duration": 652,
    "start_time": "2022-02-18T09:39:29.064Z"
   },
   {
    "duration": 663,
    "start_time": "2022-02-18T09:39:33.578Z"
   },
   {
    "duration": 651,
    "start_time": "2022-02-18T09:39:48.508Z"
   },
   {
    "duration": 24,
    "start_time": "2022-02-18T09:41:00.864Z"
   },
   {
    "duration": 23,
    "start_time": "2022-02-18T09:41:06.824Z"
   },
   {
    "duration": 8,
    "start_time": "2022-02-18T10:40:35.921Z"
   },
   {
    "duration": 261,
    "start_time": "2022-02-18T10:43:06.489Z"
   },
   {
    "duration": 259,
    "start_time": "2022-02-18T10:43:20.764Z"
   },
   {
    "duration": 366,
    "start_time": "2022-02-18T10:45:54.606Z"
   },
   {
    "duration": 20,
    "start_time": "2022-02-18T10:57:59.424Z"
   },
   {
    "duration": 5,
    "start_time": "2022-02-18T10:58:53.645Z"
   },
   {
    "duration": 3,
    "start_time": "2022-02-18T10:59:33.342Z"
   },
   {
    "duration": 101,
    "start_time": "2022-02-18T10:59:35.344Z"
   },
   {
    "duration": 21,
    "start_time": "2022-02-18T10:59:41.607Z"
   },
   {
    "duration": 132,
    "start_time": "2022-02-18T11:01:49.704Z"
   },
   {
    "duration": 3,
    "start_time": "2022-02-18T11:01:51.495Z"
   },
   {
    "duration": 93,
    "start_time": "2022-02-18T11:01:51.936Z"
   },
   {
    "duration": 21,
    "start_time": "2022-02-18T11:01:58.856Z"
   },
   {
    "duration": 195,
    "start_time": "2022-02-18T11:02:05.552Z"
   },
   {
    "duration": 1241,
    "start_time": "2022-02-18T11:02:32.658Z"
   },
   {
    "duration": 887,
    "start_time": "2022-02-18T11:03:10.896Z"
   },
   {
    "duration": 145,
    "start_time": "2022-02-18T11:04:03.225Z"
   },
   {
    "duration": 608,
    "start_time": "2022-02-18T11:04:09.746Z"
   },
   {
    "duration": 151,
    "start_time": "2022-02-18T11:04:12.360Z"
   },
   {
    "duration": 7,
    "start_time": "2022-02-18T11:04:21.993Z"
   },
   {
    "duration": 4,
    "start_time": "2022-02-18T11:04:28.177Z"
   },
   {
    "duration": 15,
    "start_time": "2022-02-18T11:04:30.497Z"
   },
   {
    "duration": 8,
    "start_time": "2022-02-18T11:04:31.754Z"
   },
   {
    "duration": 962,
    "start_time": "2022-02-18T11:04:40.826Z"
   },
   {
    "duration": 138,
    "start_time": "2022-02-18T11:04:48.986Z"
   },
   {
    "duration": 4,
    "start_time": "2022-02-18T11:08:29.566Z"
   },
   {
    "duration": 6,
    "start_time": "2022-02-18T11:13:58.772Z"
   },
   {
    "duration": 9706,
    "start_time": "2022-02-18T11:16:22.803Z"
   },
   {
    "duration": 103,
    "start_time": "2022-02-18T11:22:46.912Z"
   },
   {
    "duration": 10183,
    "start_time": "2022-02-18T11:22:54.061Z"
   },
   {
    "duration": 9807,
    "start_time": "2022-02-18T11:23:29.293Z"
   },
   {
    "duration": 9750,
    "start_time": "2022-02-18T11:24:27.723Z"
   },
   {
    "duration": 5,
    "start_time": "2022-02-18T11:27:50.312Z"
   },
   {
    "duration": 296,
    "start_time": "2022-02-18T11:40:44.796Z"
   },
   {
    "duration": 4,
    "start_time": "2022-02-18T11:40:53.508Z"
   },
   {
    "duration": 13482,
    "start_time": "2022-02-18T11:40:55.269Z"
   },
   {
    "duration": 2343931,
    "start_time": "2022-02-18T11:42:05.439Z"
   },
   {
    "duration": 3,
    "start_time": "2022-02-18T13:11:35.998Z"
   },
   {
    "duration": 3,
    "start_time": "2022-02-18T13:11:36.332Z"
   },
   {
    "duration": 10634,
    "start_time": "2022-02-18T13:11:37.100Z"
   },
   {
    "duration": 22,
    "start_time": "2022-02-18T13:14:57.495Z"
   },
   {
    "duration": 5264,
    "start_time": "2022-02-18T13:18:19.624Z"
   },
   {
    "duration": 3,
    "start_time": "2022-02-18T13:18:29.143Z"
   },
   {
    "duration": 17,
    "start_time": "2022-02-18T13:18:29.968Z"
   },
   {
    "duration": 3,
    "start_time": "2022-02-18T13:18:30.457Z"
   },
   {
    "duration": 10388,
    "start_time": "2022-02-18T13:18:31.889Z"
   },
   {
    "duration": 1475,
    "start_time": "2022-02-18T13:20:03.936Z"
   },
   {
    "duration": 1495,
    "start_time": "2022-02-18T13:21:38.265Z"
   },
   {
    "duration": 3,
    "start_time": "2022-02-18T13:21:47.284Z"
   },
   {
    "duration": 14,
    "start_time": "2022-02-18T13:21:47.857Z"
   },
   {
    "duration": 3,
    "start_time": "2022-02-18T13:21:48.305Z"
   },
   {
    "duration": 1350,
    "start_time": "2022-02-18T13:21:49.801Z"
   },
   {
    "duration": 3,
    "start_time": "2022-02-18T13:21:56.896Z"
   },
   {
    "duration": 13,
    "start_time": "2022-02-18T13:21:57.529Z"
   },
   {
    "duration": 4,
    "start_time": "2022-02-18T13:21:57.841Z"
   },
   {
    "duration": 1203,
    "start_time": "2022-02-18T13:21:58.145Z"
   },
   {
    "duration": 3,
    "start_time": "2022-02-18T13:22:05.385Z"
   },
   {
    "duration": 12,
    "start_time": "2022-02-18T13:22:05.978Z"
   },
   {
    "duration": 3,
    "start_time": "2022-02-18T13:22:06.233Z"
   },
   {
    "duration": 1185,
    "start_time": "2022-02-18T13:22:06.522Z"
   },
   {
    "duration": 3,
    "start_time": "2022-02-18T13:22:14.704Z"
   },
   {
    "duration": 11,
    "start_time": "2022-02-18T13:22:15.410Z"
   },
   {
    "duration": 3,
    "start_time": "2022-02-18T13:22:15.721Z"
   },
   {
    "duration": 992,
    "start_time": "2022-02-18T13:22:15.969Z"
   },
   {
    "duration": 6288,
    "start_time": "2022-02-18T13:26:19.097Z"
   },
   {
    "duration": 3,
    "start_time": "2022-02-18T13:26:44.803Z"
   },
   {
    "duration": 8,
    "start_time": "2022-02-18T13:26:58.282Z"
   },
   {
    "duration": 1212,
    "start_time": "2022-02-18T13:27:08.076Z"
   },
   {
    "duration": 47,
    "start_time": "2022-02-18T13:27:26.169Z"
   },
   {
    "duration": 4,
    "start_time": "2022-02-18T13:29:37.034Z"
   },
   {
    "duration": 3455252,
    "start_time": "2022-02-18T13:29:39.748Z"
   },
   {
    "duration": 4,
    "start_time": "2022-02-18T14:27:15.003Z"
   },
   {
    "duration": 3,
    "start_time": "2022-02-18T14:29:33.369Z"
   },
   {
    "duration": 14,
    "start_time": "2022-02-18T14:29:36.974Z"
   },
   {
    "duration": 4,
    "start_time": "2022-02-18T14:29:37.929Z"
   },
   {
    "duration": 8117,
    "start_time": "2022-02-18T14:29:41.281Z"
   },
   {
    "duration": 27244,
    "start_time": "2022-02-18T14:30:47.921Z"
   },
   {
    "duration": 15633,
    "start_time": "2022-02-18T14:31:55.345Z"
   },
   {
    "duration": 3,
    "start_time": "2022-02-18T14:33:33.378Z"
   },
   {
    "duration": 7,
    "start_time": "2022-02-18T14:33:57.186Z"
   },
   {
    "duration": 1423,
    "start_time": "2022-02-18T14:34:02.114Z"
   },
   {
    "duration": 50,
    "start_time": "2022-02-18T14:34:18.402Z"
   },
   {
    "duration": 3,
    "start_time": "2022-02-18T14:34:45.546Z"
   },
   {
    "duration": 16,
    "start_time": "2022-02-18T14:34:47.178Z"
   },
   {
    "duration": 3,
    "start_time": "2022-02-18T14:34:47.482Z"
   },
   {
    "duration": 41136,
    "start_time": "2022-02-18T14:34:48.194Z"
   },
   {
    "duration": 2,
    "start_time": "2022-02-18T14:35:58.123Z"
   },
   {
    "duration": 15,
    "start_time": "2022-02-18T14:35:58.852Z"
   },
   {
    "duration": 4,
    "start_time": "2022-02-18T14:36:32.458Z"
   },
   {
    "duration": 7,
    "start_time": "2022-02-18T14:36:34.227Z"
   },
   {
    "duration": 2524,
    "start_time": "2022-02-18T14:36:35.363Z"
   },
   {
    "duration": 50,
    "start_time": "2022-02-18T14:36:40.227Z"
   },
   {
    "duration": 322,
    "start_time": "2022-02-18T14:38:23.315Z"
   },
   {
    "duration": 279,
    "start_time": "2022-02-18T14:38:43.915Z"
   },
   {
    "duration": 24,
    "start_time": "2022-02-18T14:38:48.075Z"
   },
   {
    "duration": 15,
    "start_time": "2022-02-18T14:39:03.092Z"
   },
   {
    "duration": 24,
    "start_time": "2022-02-18T14:39:05.244Z"
   },
   {
    "duration": 26,
    "start_time": "2022-02-18T14:39:23.580Z"
   },
   {
    "duration": 26,
    "start_time": "2022-02-18T14:39:28.211Z"
   },
   {
    "duration": 21,
    "start_time": "2022-02-18T14:39:40.027Z"
   },
   {
    "duration": 7,
    "start_time": "2022-02-18T14:40:05.451Z"
   },
   {
    "duration": 27,
    "start_time": "2022-02-18T14:40:27.179Z"
   },
   {
    "duration": 4,
    "start_time": "2022-02-18T14:40:33.724Z"
   },
   {
    "duration": 3,
    "start_time": "2022-02-18T14:40:36.772Z"
   },
   {
    "duration": 97,
    "start_time": "2022-02-18T14:40:37.028Z"
   },
   {
    "duration": 21,
    "start_time": "2022-02-18T14:40:39.548Z"
   },
   {
    "duration": 565,
    "start_time": "2022-02-18T14:40:48.996Z"
   },
   {
    "duration": 106,
    "start_time": "2022-02-18T14:40:56.308Z"
   },
   {
    "duration": 7,
    "start_time": "2022-02-18T14:41:01.013Z"
   },
   {
    "duration": 4,
    "start_time": "2022-02-18T14:41:03.124Z"
   },
   {
    "duration": 14,
    "start_time": "2022-02-18T14:41:06.475Z"
   },
   {
    "duration": 8,
    "start_time": "2022-02-18T14:41:07.172Z"
   },
   {
    "duration": 942,
    "start_time": "2022-02-18T14:41:08.196Z"
   },
   {
    "duration": 137,
    "start_time": "2022-02-18T14:41:17.989Z"
   },
   {
    "duration": 4,
    "start_time": "2022-02-18T14:41:21.916Z"
   },
   {
    "duration": 2530076,
    "start_time": "2022-02-18T14:41:47.533Z"
   },
   {
    "duration": 3,
    "start_time": "2022-02-18T15:26:26.307Z"
   },
   {
    "duration": 11,
    "start_time": "2022-02-18T15:26:27.003Z"
   },
   {
    "duration": 3,
    "start_time": "2022-02-18T15:26:27.644Z"
   },
   {
    "duration": 7281,
    "start_time": "2022-02-18T15:26:29.708Z"
   },
   {
    "duration": 3,
    "start_time": "2022-02-18T15:27:00.723Z"
   },
   {
    "duration": 3,
    "start_time": "2022-02-18T15:27:04.779Z"
   },
   {
    "duration": 8,
    "start_time": "2022-02-18T15:27:07.915Z"
   },
   {
    "duration": 1240,
    "start_time": "2022-02-18T15:27:08.868Z"
   },
   {
    "duration": 46,
    "start_time": "2022-02-18T15:27:15.756Z"
   },
   {
    "duration": 3,
    "start_time": "2022-02-18T15:27:19.635Z"
   },
   {
    "duration": 3,
    "start_time": "2022-02-18T15:27:37.236Z"
   },
   {
    "duration": 6188,
    "start_time": "2022-02-18T15:27:38.007Z"
   },
   {
    "duration": 1504,
    "start_time": "2022-02-18T15:27:55.316Z"
   },
   {
    "duration": 28,
    "start_time": "2022-02-18T22:27:31.995Z"
   },
   {
    "duration": 846,
    "start_time": "2022-02-18T22:27:32.026Z"
   },
   {
    "duration": 707,
    "start_time": "2022-02-18T22:27:32.875Z"
   },
   {
    "duration": 91,
    "start_time": "2022-02-18T22:27:33.584Z"
   },
   {
    "duration": 11,
    "start_time": "2022-02-18T22:27:33.678Z"
   },
   {
    "duration": 4,
    "start_time": "2022-02-18T22:27:33.691Z"
   },
   {
    "duration": 6,
    "start_time": "2022-02-18T22:27:33.697Z"
   },
   {
    "duration": 3,
    "start_time": "2022-02-18T22:27:33.707Z"
   },
   {
    "duration": 69,
    "start_time": "2022-02-18T22:27:33.714Z"
   },
   {
    "duration": 36,
    "start_time": "2022-02-18T22:27:33.786Z"
   },
   {
    "duration": 55,
    "start_time": "2022-02-18T22:27:33.825Z"
   },
   {
    "duration": 15,
    "start_time": "2022-02-18T22:27:33.883Z"
   },
   {
    "duration": 9,
    "start_time": "2022-02-18T22:27:33.901Z"
   },
   {
    "duration": 89,
    "start_time": "2022-02-18T22:27:33.913Z"
   },
   {
    "duration": 19,
    "start_time": "2022-02-18T22:27:34.005Z"
   },
   {
    "duration": 47,
    "start_time": "2022-02-18T22:27:34.026Z"
   },
   {
    "duration": 10,
    "start_time": "2022-02-18T22:27:34.076Z"
   },
   {
    "duration": 21,
    "start_time": "2022-02-18T22:27:34.089Z"
   },
   {
    "duration": 56,
    "start_time": "2022-02-18T22:27:34.112Z"
   },
   {
    "duration": 1080,
    "start_time": "2022-02-18T22:27:34.171Z"
   },
   {
    "duration": 1489,
    "start_time": "2022-02-18T22:27:35.261Z"
   },
   {
    "duration": 1555,
    "start_time": "2022-02-18T22:27:36.753Z"
   },
   {
    "duration": 694,
    "start_time": "2022-02-18T22:27:38.313Z"
   },
   {
    "duration": 22,
    "start_time": "2022-02-18T22:27:39.010Z"
   },
   {
    "duration": 3153,
    "start_time": "2022-02-18T22:27:39.034Z"
   },
   {
    "duration": 1289,
    "start_time": "2022-02-18T22:27:42.189Z"
   },
   {
    "duration": 1348,
    "start_time": "2022-02-18T22:27:43.481Z"
   },
   {
    "duration": 48,
    "start_time": "2022-02-18T22:27:44.832Z"
   },
   {
    "duration": 29,
    "start_time": "2022-02-18T22:27:44.882Z"
   },
   {
    "duration": 8,
    "start_time": "2022-02-18T22:27:44.913Z"
   },
   {
    "duration": 61,
    "start_time": "2022-02-18T22:27:44.923Z"
   },
   {
    "duration": 4,
    "start_time": "2022-02-18T22:27:44.986Z"
   },
   {
    "duration": 10,
    "start_time": "2022-02-18T22:27:44.992Z"
   },
   {
    "duration": 151,
    "start_time": "2022-02-18T22:27:45.005Z"
   },
   {
    "duration": 25,
    "start_time": "2022-02-18T22:27:45.162Z"
   },
   {
    "duration": 803,
    "start_time": "2022-02-18T22:27:45.190Z"
   },
   {
    "duration": 139,
    "start_time": "2022-02-18T22:27:45.995Z"
   },
   {
    "duration": 23,
    "start_time": "2022-02-18T22:27:46.137Z"
   },
   {
    "duration": 5,
    "start_time": "2022-02-18T22:27:46.162Z"
   },
   {
    "duration": 22,
    "start_time": "2022-02-18T22:27:46.169Z"
   },
   {
    "duration": 8,
    "start_time": "2022-02-18T22:27:46.193Z"
   },
   {
    "duration": 1213,
    "start_time": "2022-02-18T22:27:46.203Z"
   },
   {
    "duration": 183,
    "start_time": "2022-02-18T22:27:47.419Z"
   },
   {
    "duration": 5,
    "start_time": "2022-02-18T22:27:47.604Z"
   },
   {
    "duration": 3290344,
    "start_time": "2022-02-18T22:27:47.611Z"
   },
   {
    "duration": 4,
    "start_time": "2022-02-18T23:22:37.961Z"
   },
   {
    "duration": 18,
    "start_time": "2022-02-18T23:22:37.967Z"
   },
   {
    "duration": 4,
    "start_time": "2022-02-18T23:22:37.988Z"
   },
   {
    "duration": 9389,
    "start_time": "2022-02-18T23:22:37.994Z"
   },
   {
    "duration": 4,
    "start_time": "2022-02-18T23:22:47.386Z"
   },
   {
    "duration": 10,
    "start_time": "2022-02-18T23:22:47.393Z"
   },
   {
    "duration": 1599,
    "start_time": "2022-02-18T23:22:47.406Z"
   },
   {
    "duration": 68,
    "start_time": "2022-02-18T23:22:49.008Z"
   },
   {
    "duration": 3,
    "start_time": "2022-02-18T23:22:49.079Z"
   },
   {
    "duration": 7760,
    "start_time": "2022-02-18T23:22:49.085Z"
   },
   {
    "duration": 1898,
    "start_time": "2022-02-18T23:22:56.848Z"
   },
   {
    "duration": 36,
    "start_time": "2022-02-19T09:43:56.987Z"
   },
   {
    "duration": 800,
    "start_time": "2022-02-19T09:43:57.026Z"
   },
   {
    "duration": 715,
    "start_time": "2022-02-19T09:43:57.829Z"
   },
   {
    "duration": 88,
    "start_time": "2022-02-19T09:43:58.547Z"
   },
   {
    "duration": 7,
    "start_time": "2022-02-19T09:43:58.637Z"
   },
   {
    "duration": 16,
    "start_time": "2022-02-19T09:43:58.647Z"
   },
   {
    "duration": 4,
    "start_time": "2022-02-19T09:43:58.666Z"
   },
   {
    "duration": 4,
    "start_time": "2022-02-19T09:43:58.674Z"
   },
   {
    "duration": 45,
    "start_time": "2022-02-19T09:43:58.681Z"
   },
   {
    "duration": 55,
    "start_time": "2022-02-19T09:43:58.728Z"
   },
   {
    "duration": 33,
    "start_time": "2022-02-19T09:43:58.785Z"
   },
   {
    "duration": 44,
    "start_time": "2022-02-19T09:43:58.820Z"
   },
   {
    "duration": 8,
    "start_time": "2022-02-19T09:43:58.867Z"
   },
   {
    "duration": 32,
    "start_time": "2022-02-19T09:43:58.877Z"
   },
   {
    "duration": 51,
    "start_time": "2022-02-19T09:43:58.911Z"
   },
   {
    "duration": 21,
    "start_time": "2022-02-19T09:43:58.965Z"
   },
   {
    "duration": 9,
    "start_time": "2022-02-19T09:43:58.989Z"
   },
   {
    "duration": 22,
    "start_time": "2022-02-19T09:43:59.000Z"
   },
   {
    "duration": 52,
    "start_time": "2022-02-19T09:43:59.025Z"
   },
   {
    "duration": 1070,
    "start_time": "2022-02-19T09:43:59.079Z"
   },
   {
    "duration": 1482,
    "start_time": "2022-02-19T09:44:00.152Z"
   },
   {
    "duration": 1538,
    "start_time": "2022-02-19T09:44:01.637Z"
   },
   {
    "duration": 793,
    "start_time": "2022-02-19T09:44:03.180Z"
   },
   {
    "duration": 30,
    "start_time": "2022-02-19T09:44:03.976Z"
   },
   {
    "duration": 3156,
    "start_time": "2022-02-19T09:44:04.009Z"
   },
   {
    "duration": 1374,
    "start_time": "2022-02-19T09:44:07.168Z"
   },
   {
    "duration": 1032,
    "start_time": "2022-02-19T09:44:08.544Z"
   },
   {
    "duration": 35,
    "start_time": "2022-02-19T09:44:09.579Z"
   },
   {
    "duration": 68,
    "start_time": "2022-02-19T09:44:09.616Z"
   },
   {
    "duration": 11,
    "start_time": "2022-02-19T09:44:09.686Z"
   },
   {
    "duration": 29,
    "start_time": "2022-02-19T09:44:09.700Z"
   },
   {
    "duration": 4,
    "start_time": "2022-02-19T09:44:09.762Z"
   },
   {
    "duration": 8,
    "start_time": "2022-02-19T09:44:09.769Z"
   },
   {
    "duration": 149,
    "start_time": "2022-02-19T09:44:09.779Z"
   },
   {
    "duration": 38,
    "start_time": "2022-02-19T09:44:09.931Z"
   },
   {
    "duration": 809,
    "start_time": "2022-02-19T09:44:09.971Z"
   },
   {
    "duration": 144,
    "start_time": "2022-02-19T09:44:10.783Z"
   },
   {
    "duration": 7,
    "start_time": "2022-02-19T09:44:10.930Z"
   },
   {
    "duration": 22,
    "start_time": "2022-02-19T09:44:10.939Z"
   },
   {
    "duration": 21,
    "start_time": "2022-02-19T09:44:10.963Z"
   },
   {
    "duration": 9,
    "start_time": "2022-02-19T09:44:10.986Z"
   },
   {
    "duration": 1253,
    "start_time": "2022-02-19T09:44:10.997Z"
   },
   {
    "duration": 194,
    "start_time": "2022-02-19T09:44:12.252Z"
   },
   {
    "duration": 12,
    "start_time": "2022-02-19T09:44:12.449Z"
   },
   {
    "duration": 3,
    "start_time": "2022-02-19T09:44:51.750Z"
   },
   {
    "duration": 4,
    "start_time": "2022-02-19T09:47:33.314Z"
   },
   {
    "duration": 382,
    "start_time": "2022-02-19T09:48:24.690Z"
   },
   {
    "duration": 277,
    "start_time": "2022-02-19T09:48:43.888Z"
   },
   {
    "duration": 233,
    "start_time": "2022-02-19T09:49:53.307Z"
   },
   {
    "duration": 30575,
    "start_time": "2022-02-19T09:50:42.674Z"
   },
   {
    "duration": 6,
    "start_time": "2022-02-19T09:52:32.787Z"
   },
   {
    "duration": 302,
    "start_time": "2022-02-19T09:52:54.292Z"
   },
   {
    "duration": 7,
    "start_time": "2022-02-19T09:53:01.659Z"
   },
   {
    "duration": 5,
    "start_time": "2022-02-19T09:53:34.892Z"
   },
   {
    "duration": 5,
    "start_time": "2022-02-19T09:53:39.835Z"
   },
   {
    "duration": 8721,
    "start_time": "2022-02-19T09:53:40.901Z"
   },
   {
    "duration": 8,
    "start_time": "2022-02-19T09:54:35.644Z"
   },
   {
    "duration": 21,
    "start_time": "2022-02-19T09:56:31.133Z"
   },
   {
    "duration": 1192083,
    "start_time": "2022-02-19T09:58:51.584Z"
   },
   {
    "duration": 4,
    "start_time": "2022-02-19T10:28:04.584Z"
   },
   {
    "duration": 4748,
    "start_time": "2022-02-19T10:28:28.641Z"
   },
   {
    "duration": 19,
    "start_time": "2022-02-19T10:30:03.970Z"
   },
   {
    "duration": 3791,
    "start_time": "2022-02-19T10:30:04.770Z"
   },
   {
    "duration": 4,
    "start_time": "2022-02-19T10:31:22.433Z"
   },
   {
    "duration": 3,
    "start_time": "2022-02-19T10:31:27.138Z"
   },
   {
    "duration": 4,
    "start_time": "2022-02-19T10:31:29.465Z"
   },
   {
    "duration": 9,
    "start_time": "2022-02-19T10:31:32.836Z"
   },
   {
    "duration": 1558,
    "start_time": "2022-02-19T10:31:33.698Z"
   },
   {
    "duration": 57,
    "start_time": "2022-02-19T10:31:37.906Z"
   },
   {
    "duration": 3,
    "start_time": "2022-02-19T10:31:42.026Z"
   },
   {
    "duration": 8125,
    "start_time": "2022-02-19T10:31:42.450Z"
   },
   {
    "duration": 1998,
    "start_time": "2022-02-19T10:31:58.467Z"
   },
   {
    "duration": 28,
    "start_time": "2022-02-19T13:09:51.763Z"
   },
   {
    "duration": 838,
    "start_time": "2022-02-19T13:09:51.794Z"
   },
   {
    "duration": 814,
    "start_time": "2022-02-19T13:09:52.635Z"
   },
   {
    "duration": 125,
    "start_time": "2022-02-19T13:09:53.453Z"
   },
   {
    "duration": 7,
    "start_time": "2022-02-19T13:09:53.581Z"
   },
   {
    "duration": 12,
    "start_time": "2022-02-19T13:09:53.591Z"
   },
   {
    "duration": 21,
    "start_time": "2022-02-19T13:09:53.605Z"
   },
   {
    "duration": 5,
    "start_time": "2022-02-19T13:09:53.630Z"
   },
   {
    "duration": 49,
    "start_time": "2022-02-19T13:09:53.639Z"
   },
   {
    "duration": 53,
    "start_time": "2022-02-19T13:09:53.691Z"
   },
   {
    "duration": 34,
    "start_time": "2022-02-19T13:09:53.747Z"
   },
   {
    "duration": 43,
    "start_time": "2022-02-19T13:09:53.783Z"
   },
   {
    "duration": 9,
    "start_time": "2022-02-19T13:09:53.829Z"
   },
   {
    "duration": 44,
    "start_time": "2022-02-19T13:09:53.841Z"
   },
   {
    "duration": 44,
    "start_time": "2022-02-19T13:09:53.888Z"
   },
   {
    "duration": 25,
    "start_time": "2022-02-19T13:09:53.934Z"
   },
   {
    "duration": 10,
    "start_time": "2022-02-19T13:09:53.961Z"
   },
   {
    "duration": 56,
    "start_time": "2022-02-19T13:09:53.973Z"
   },
   {
    "duration": 18,
    "start_time": "2022-02-19T13:09:54.031Z"
   },
   {
    "duration": 1157,
    "start_time": "2022-02-19T13:09:54.052Z"
   },
   {
    "duration": 1472,
    "start_time": "2022-02-19T13:09:55.211Z"
   },
   {
    "duration": 1660,
    "start_time": "2022-02-19T13:09:56.686Z"
   },
   {
    "duration": 752,
    "start_time": "2022-02-19T13:09:58.352Z"
   },
   {
    "duration": 33,
    "start_time": "2022-02-19T13:09:59.108Z"
   },
   {
    "duration": 3312,
    "start_time": "2022-02-19T13:09:59.144Z"
   },
   {
    "duration": 1245,
    "start_time": "2022-02-19T13:10:02.459Z"
   },
   {
    "duration": 1052,
    "start_time": "2022-02-19T13:10:03.707Z"
   },
   {
    "duration": 32,
    "start_time": "2022-02-19T13:10:04.761Z"
   },
   {
    "duration": 56,
    "start_time": "2022-02-19T13:10:04.796Z"
   },
   {
    "duration": 10,
    "start_time": "2022-02-19T13:10:04.855Z"
   },
   {
    "duration": 70,
    "start_time": "2022-02-19T13:10:04.867Z"
   },
   {
    "duration": 4,
    "start_time": "2022-02-19T13:10:04.940Z"
   },
   {
    "duration": 9,
    "start_time": "2022-02-19T13:10:04.946Z"
   },
   {
    "duration": 155,
    "start_time": "2022-02-19T13:10:04.957Z"
   },
   {
    "duration": 34,
    "start_time": "2022-02-19T13:10:05.115Z"
   },
   {
    "duration": 890,
    "start_time": "2022-02-19T13:10:05.151Z"
   },
   {
    "duration": 143,
    "start_time": "2022-02-19T13:10:06.043Z"
   },
   {
    "duration": 8,
    "start_time": "2022-02-19T13:10:06.188Z"
   },
   {
    "duration": 9,
    "start_time": "2022-02-19T13:10:06.198Z"
   },
   {
    "duration": 31,
    "start_time": "2022-02-19T13:10:06.210Z"
   },
   {
    "duration": 8,
    "start_time": "2022-02-19T13:10:06.244Z"
   },
   {
    "duration": 1553,
    "start_time": "2022-02-19T13:10:06.254Z"
   },
   {
    "duration": 210,
    "start_time": "2022-02-19T13:10:07.809Z"
   },
   {
    "duration": 6,
    "start_time": "2022-02-19T13:10:08.021Z"
   },
   {
    "duration": 3521389,
    "start_time": "2022-02-19T13:10:08.029Z"
   },
   {
    "duration": 3,
    "start_time": "2022-02-19T14:08:49.428Z"
   },
   {
    "duration": 31,
    "start_time": "2022-02-19T14:08:49.434Z"
   },
   {
    "duration": 5,
    "start_time": "2022-02-19T14:08:49.467Z"
   },
   {
    "duration": 10984,
    "start_time": "2022-02-19T14:08:49.474Z"
   },
   {
    "duration": 4,
    "start_time": "2022-02-19T14:09:00.460Z"
   },
   {
    "duration": 1163167,
    "start_time": "2022-02-19T14:09:00.468Z"
   },
   {
    "duration": 3,
    "start_time": "2022-02-19T14:28:23.638Z"
   },
   {
    "duration": 6,
    "start_time": "2022-02-19T14:28:23.644Z"
   },
   {
    "duration": 10,
    "start_time": "2022-02-19T14:28:23.653Z"
   },
   {
    "duration": 1686,
    "start_time": "2022-02-19T14:28:23.666Z"
   },
   {
    "duration": 73,
    "start_time": "2022-02-19T14:28:25.355Z"
   },
   {
    "duration": 4,
    "start_time": "2022-02-19T14:28:25.431Z"
   },
   {
    "duration": 8410,
    "start_time": "2022-02-19T14:28:25.437Z"
   },
   {
    "duration": 1966,
    "start_time": "2022-02-19T14:28:33.849Z"
   }
  ],
  "kernelspec": {
   "display_name": "Python 3 (ipykernel)",
   "language": "python",
   "name": "python3"
  },
  "language_info": {
   "codemirror_mode": {
    "name": "ipython",
    "version": 3
   },
   "file_extension": ".py",
   "mimetype": "text/x-python",
   "name": "python",
   "nbconvert_exporter": "python",
   "pygments_lexer": "ipython3",
   "version": "3.9.0"
  },
  "toc": {
   "base_numbering": 1,
   "nav_menu": {},
   "number_sections": true,
   "sideBar": true,
   "skip_h1_title": true,
   "title_cell": "Содержание",
   "title_sidebar": "Contents",
   "toc_cell": true,
   "toc_position": {
    "height": "calc(100% - 180px)",
    "left": "10px",
    "top": "150px",
    "width": "246.4px"
   },
   "toc_section_display": true,
   "toc_window_display": true
  }
 },
 "nbformat": 4,
 "nbformat_minor": 2
}
