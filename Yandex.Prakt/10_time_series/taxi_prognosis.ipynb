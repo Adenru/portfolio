{
 "cells": [
  {
   "cell_type": "code",
   "execution_count": 1,
   "metadata": {},
   "outputs": [
    {
     "data": {
      "text/plain": [
       "{'CodeCell': {'cm_config': {'autoCloseBrackets': False}}}"
      ]
     },
     "execution_count": 1,
     "metadata": {},
     "output_type": "execute_result"
    }
   ],
   "source": [
    "from notebook.services.config import ConfigManager\n",
    "c = ConfigManager()\n",
    "c.update('notebook', {\"CodeCell\": {\"cm_config\": {\"autoCloseBrackets\": False}}})"
   ]
  },
  {
   "cell_type": "code",
   "execution_count": 2,
   "metadata": {},
   "outputs": [
    {
     "name": "stdout",
     "output_type": "stream",
     "text": [
      "Collecting neuralprophet[live]\n",
      "  Downloading neuralprophet-0.3.2-py3-none-any.whl (74 kB)\n",
      "\u001b[K     |████████████████████████████████| 74 kB 1.3 MB/s eta 0:00:011\n",
      "\u001b[?25hRequirement already satisfied: ipywidgets>=7.5.1 in /opt/conda/lib/python3.9/site-packages (from neuralprophet[live]) (7.6.3)\n",
      "Requirement already satisfied: holidays>=0.11.3.1 in /opt/conda/lib/python3.9/site-packages (from neuralprophet[live]) (0.11.3.1)\n",
      "Requirement already satisfied: convertdate>=2.1.2 in /opt/conda/lib/python3.9/site-packages (from neuralprophet[live]) (2.4.0)\n",
      "Requirement already satisfied: pandas>=1.0.4 in /opt/conda/lib/python3.9/site-packages (from neuralprophet[live]) (1.2.4)\n",
      "Requirement already satisfied: python-dateutil>=2.8.0 in /opt/conda/lib/python3.9/site-packages (from neuralprophet[live]) (2.8.1)\n",
      "Collecting torch-lr-finder>=0.2.1\n",
      "  Downloading torch_lr_finder-0.2.1-py3-none-any.whl (11 kB)\n",
      "Requirement already satisfied: torch>=1.4.0 in /opt/conda/lib/python3.9/site-packages (from neuralprophet[live]) (1.10.0)\n",
      "Requirement already satisfied: tqdm>=4.50.2 in /opt/conda/lib/python3.9/site-packages (from neuralprophet[live]) (4.61.2)\n",
      "Requirement already satisfied: matplotlib>=2.0.0 in /opt/conda/lib/python3.9/site-packages (from neuralprophet[live]) (3.3.4)\n",
      "Requirement already satisfied: numpy>=1.15.4 in /opt/conda/lib/python3.9/site-packages (from neuralprophet[live]) (1.21.1)\n",
      "Collecting dataclasses>=0.6\n",
      "  Downloading dataclasses-0.6-py3-none-any.whl (14 kB)\n",
      "Collecting LunarCalendar>=0.0.9\n",
      "  Downloading LunarCalendar-0.0.9-py2.py3-none-any.whl (18 kB)\n",
      "Collecting livelossplot>=0.5.3\n",
      "  Downloading livelossplot-0.5.5-py3-none-any.whl (22 kB)\n",
      "Requirement already satisfied: pymeeus<=1,>=0.3.13 in /opt/conda/lib/python3.9/site-packages (from convertdate>=2.1.2->neuralprophet[live]) (0.5.11)\n",
      "Requirement already satisfied: hijri-converter in /opt/conda/lib/python3.9/site-packages (from holidays>=0.11.3.1->neuralprophet[live]) (2.2.3)\n",
      "Requirement already satisfied: korean-lunar-calendar in /opt/conda/lib/python3.9/site-packages (from holidays>=0.11.3.1->neuralprophet[live]) (0.2.1)\n",
      "Requirement already satisfied: ipython>=4.0.0 in /opt/conda/lib/python3.9/site-packages (from ipywidgets>=7.5.1->neuralprophet[live]) (7.25.0)\n",
      "Requirement already satisfied: nbformat>=4.2.0 in /opt/conda/lib/python3.9/site-packages (from ipywidgets>=7.5.1->neuralprophet[live]) (5.1.3)\n",
      "Requirement already satisfied: jupyterlab-widgets>=1.0.0 in /opt/conda/lib/python3.9/site-packages (from ipywidgets>=7.5.1->neuralprophet[live]) (1.1.0)\n",
      "Requirement already satisfied: traitlets>=4.3.1 in /opt/conda/lib/python3.9/site-packages (from ipywidgets>=7.5.1->neuralprophet[live]) (5.0.5)\n",
      "Requirement already satisfied: widgetsnbextension~=3.5.0 in /opt/conda/lib/python3.9/site-packages (from ipywidgets>=7.5.1->neuralprophet[live]) (3.5.2)\n",
      "Requirement already satisfied: ipykernel>=4.5.1 in /opt/conda/lib/python3.9/site-packages (from ipywidgets>=7.5.1->neuralprophet[live]) (6.0.1)\n",
      "Requirement already satisfied: tornado>=4.2 in /opt/conda/lib/python3.9/site-packages (from ipykernel>=4.5.1->ipywidgets>=7.5.1->neuralprophet[live]) (6.1)\n",
      "Requirement already satisfied: debugpy>=1.0.0 in /opt/conda/lib/python3.9/site-packages (from ipykernel>=4.5.1->ipywidgets>=7.5.1->neuralprophet[live]) (1.3.0)\n",
      "Requirement already satisfied: jupyter-client in /opt/conda/lib/python3.9/site-packages (from ipykernel>=4.5.1->ipywidgets>=7.5.1->neuralprophet[live]) (6.1.12)\n",
      "Requirement already satisfied: jedi>=0.16 in /opt/conda/lib/python3.9/site-packages (from ipython>=4.0.0->ipywidgets>=7.5.1->neuralprophet[live]) (0.18.0)\n",
      "Requirement already satisfied: setuptools>=18.5 in /opt/conda/lib/python3.9/site-packages (from ipython>=4.0.0->ipywidgets>=7.5.1->neuralprophet[live]) (49.6.0.post20210108)\n",
      "Requirement already satisfied: pygments in /opt/conda/lib/python3.9/site-packages (from ipython>=4.0.0->ipywidgets>=7.5.1->neuralprophet[live]) (2.9.0)\n",
      "Requirement already satisfied: backcall in /opt/conda/lib/python3.9/site-packages (from ipython>=4.0.0->ipywidgets>=7.5.1->neuralprophet[live]) (0.2.0)\n",
      "Requirement already satisfied: pickleshare in /opt/conda/lib/python3.9/site-packages (from ipython>=4.0.0->ipywidgets>=7.5.1->neuralprophet[live]) (0.7.5)\n",
      "Requirement already satisfied: decorator in /opt/conda/lib/python3.9/site-packages (from ipython>=4.0.0->ipywidgets>=7.5.1->neuralprophet[live]) (5.0.9)\n",
      "Requirement already satisfied: prompt-toolkit!=3.0.0,!=3.0.1,<3.1.0,>=2.0.0 in /opt/conda/lib/python3.9/site-packages (from ipython>=4.0.0->ipywidgets>=7.5.1->neuralprophet[live]) (3.0.19)\n",
      "Requirement already satisfied: pexpect>4.3 in /opt/conda/lib/python3.9/site-packages (from ipython>=4.0.0->ipywidgets>=7.5.1->neuralprophet[live]) (4.8.0)\n",
      "Requirement already satisfied: matplotlib-inline in /opt/conda/lib/python3.9/site-packages (from ipython>=4.0.0->ipywidgets>=7.5.1->neuralprophet[live]) (0.1.2)\n",
      "Requirement already satisfied: parso<0.9.0,>=0.8.0 in /opt/conda/lib/python3.9/site-packages (from jedi>=0.16->ipython>=4.0.0->ipywidgets>=7.5.1->neuralprophet[live]) (0.8.2)\n",
      "Collecting bokeh\n",
      "  Downloading bokeh-2.4.2-py3-none-any.whl (18.5 MB)\n",
      "\u001b[K     |████████████████████████████████| 18.5 MB 136 kB/s eta 0:00:01    |████████████▋                   | 7.2 MB 3.4 MB/s eta 0:00:04\n",
      "\u001b[?25hRequirement already satisfied: pytz in /opt/conda/lib/python3.9/site-packages (from LunarCalendar>=0.0.9->neuralprophet[live]) (2021.1)\n",
      "Collecting ephem>=3.7.5.3\n",
      "  Downloading ephem-4.1.3-cp39-cp39-manylinux_2_17_x86_64.manylinux2014_x86_64.whl (1.8 MB)\n",
      "\u001b[K     |████████████████████████████████| 1.8 MB 558 kB/s eta 0:00:01\n",
      "\u001b[?25hRequirement already satisfied: cycler>=0.10 in /opt/conda/lib/python3.9/site-packages (from matplotlib>=2.0.0->neuralprophet[live]) (0.11.0)\n",
      "Requirement already satisfied: pyparsing!=2.0.4,!=2.1.2,!=2.1.6,>=2.0.3 in /opt/conda/lib/python3.9/site-packages (from matplotlib>=2.0.0->neuralprophet[live]) (2.4.7)\n",
      "Requirement already satisfied: kiwisolver>=1.0.1 in /opt/conda/lib/python3.9/site-packages (from matplotlib>=2.0.0->neuralprophet[live]) (1.4.0)\n",
      "Requirement already satisfied: pillow>=6.2.0 in /opt/conda/lib/python3.9/site-packages (from matplotlib>=2.0.0->neuralprophet[live]) (8.4.0)\n",
      "Requirement already satisfied: ipython-genutils in /opt/conda/lib/python3.9/site-packages (from nbformat>=4.2.0->ipywidgets>=7.5.1->neuralprophet[live]) (0.2.0)\n",
      "Requirement already satisfied: jupyter-core in /opt/conda/lib/python3.9/site-packages (from nbformat>=4.2.0->ipywidgets>=7.5.1->neuralprophet[live]) (4.7.1)\n",
      "Requirement already satisfied: jsonschema!=2.5.0,>=2.4 in /opt/conda/lib/python3.9/site-packages (from nbformat>=4.2.0->ipywidgets>=7.5.1->neuralprophet[live]) (3.2.0)\n",
      "Requirement already satisfied: attrs>=17.4.0 in /opt/conda/lib/python3.9/site-packages (from jsonschema!=2.5.0,>=2.4->nbformat>=4.2.0->ipywidgets>=7.5.1->neuralprophet[live]) (21.2.0)\n",
      "Requirement already satisfied: six>=1.11.0 in /opt/conda/lib/python3.9/site-packages (from jsonschema!=2.5.0,>=2.4->nbformat>=4.2.0->ipywidgets>=7.5.1->neuralprophet[live]) (1.16.0)\n",
      "Requirement already satisfied: pyrsistent>=0.14.0 in /opt/conda/lib/python3.9/site-packages (from jsonschema!=2.5.0,>=2.4->nbformat>=4.2.0->ipywidgets>=7.5.1->neuralprophet[live]) (0.17.3)\n",
      "Requirement already satisfied: ptyprocess>=0.5 in /opt/conda/lib/python3.9/site-packages (from pexpect>4.3->ipython>=4.0.0->ipywidgets>=7.5.1->neuralprophet[live]) (0.7.0)\n",
      "Requirement already satisfied: wcwidth in /opt/conda/lib/python3.9/site-packages (from prompt-toolkit!=3.0.0,!=3.0.1,<3.1.0,>=2.0.0->ipython>=4.0.0->ipywidgets>=7.5.1->neuralprophet[live]) (0.2.5)\n",
      "Requirement already satisfied: typing-extensions in /opt/conda/lib/python3.9/site-packages (from torch>=1.4.0->neuralprophet[live]) (4.1.1)\n",
      "Requirement already satisfied: packaging in /opt/conda/lib/python3.9/site-packages (from torch-lr-finder>=0.2.1->neuralprophet[live]) (21.3)\n",
      "Requirement already satisfied: notebook>=4.4.1 in /opt/conda/lib/python3.9/site-packages (from widgetsnbextension~=3.5.0->ipywidgets>=7.5.1->neuralprophet[live]) (6.4.0)\n",
      "Requirement already satisfied: jinja2 in /opt/conda/lib/python3.9/site-packages (from notebook>=4.4.1->widgetsnbextension~=3.5.0->ipywidgets>=7.5.1->neuralprophet[live]) (3.0.1)\n",
      "Requirement already satisfied: Send2Trash>=1.5.0 in /opt/conda/lib/python3.9/site-packages (from notebook>=4.4.1->widgetsnbextension~=3.5.0->ipywidgets>=7.5.1->neuralprophet[live]) (1.7.1)\n",
      "Requirement already satisfied: prometheus-client in /opt/conda/lib/python3.9/site-packages (from notebook>=4.4.1->widgetsnbextension~=3.5.0->ipywidgets>=7.5.1->neuralprophet[live]) (0.11.0)\n",
      "Requirement already satisfied: pyzmq>=17 in /opt/conda/lib/python3.9/site-packages (from notebook>=4.4.1->widgetsnbextension~=3.5.0->ipywidgets>=7.5.1->neuralprophet[live]) (22.1.0)\n",
      "Requirement already satisfied: terminado>=0.8.3 in /opt/conda/lib/python3.9/site-packages (from notebook>=4.4.1->widgetsnbextension~=3.5.0->ipywidgets>=7.5.1->neuralprophet[live]) (0.10.1)\n",
      "Requirement already satisfied: argon2-cffi in /opt/conda/lib/python3.9/site-packages (from notebook>=4.4.1->widgetsnbextension~=3.5.0->ipywidgets>=7.5.1->neuralprophet[live]) (20.1.0)\n",
      "Requirement already satisfied: nbconvert in /opt/conda/lib/python3.9/site-packages (from notebook>=4.4.1->widgetsnbextension~=3.5.0->ipywidgets>=7.5.1->neuralprophet[live]) (6.1.0)\n",
      "Requirement already satisfied: cffi>=1.0.0 in /opt/conda/lib/python3.9/site-packages (from argon2-cffi->notebook>=4.4.1->widgetsnbextension~=3.5.0->ipywidgets>=7.5.1->neuralprophet[live]) (1.14.5)\n",
      "Requirement already satisfied: pycparser in /opt/conda/lib/python3.9/site-packages (from cffi>=1.0.0->argon2-cffi->notebook>=4.4.1->widgetsnbextension~=3.5.0->ipywidgets>=7.5.1->neuralprophet[live]) (2.20)\n",
      "Requirement already satisfied: PyYAML>=3.10 in /opt/conda/lib/python3.9/site-packages (from bokeh->livelossplot>=0.5.3->neuralprophet[live]) (6.0)\n",
      "Requirement already satisfied: MarkupSafe>=2.0 in /opt/conda/lib/python3.9/site-packages (from jinja2->notebook>=4.4.1->widgetsnbextension~=3.5.0->ipywidgets>=7.5.1->neuralprophet[live]) (2.0.1)\n",
      "Requirement already satisfied: jupyterlab-pygments in /opt/conda/lib/python3.9/site-packages (from nbconvert->notebook>=4.4.1->widgetsnbextension~=3.5.0->ipywidgets>=7.5.1->neuralprophet[live]) (0.1.2)\n",
      "Requirement already satisfied: pandocfilters>=1.4.1 in /opt/conda/lib/python3.9/site-packages (from nbconvert->notebook>=4.4.1->widgetsnbextension~=3.5.0->ipywidgets>=7.5.1->neuralprophet[live]) (1.4.2)\n",
      "Requirement already satisfied: bleach in /opt/conda/lib/python3.9/site-packages (from nbconvert->notebook>=4.4.1->widgetsnbextension~=3.5.0->ipywidgets>=7.5.1->neuralprophet[live]) (3.3.0)\n",
      "Requirement already satisfied: entrypoints>=0.2.2 in /opt/conda/lib/python3.9/site-packages (from nbconvert->notebook>=4.4.1->widgetsnbextension~=3.5.0->ipywidgets>=7.5.1->neuralprophet[live]) (0.3)\n",
      "Requirement already satisfied: defusedxml in /opt/conda/lib/python3.9/site-packages (from nbconvert->notebook>=4.4.1->widgetsnbextension~=3.5.0->ipywidgets>=7.5.1->neuralprophet[live]) (0.7.1)\n",
      "Requirement already satisfied: testpath in /opt/conda/lib/python3.9/site-packages (from nbconvert->notebook>=4.4.1->widgetsnbextension~=3.5.0->ipywidgets>=7.5.1->neuralprophet[live]) (0.5.0)\n",
      "Requirement already satisfied: mistune<2,>=0.8.1 in /opt/conda/lib/python3.9/site-packages (from nbconvert->notebook>=4.4.1->widgetsnbextension~=3.5.0->ipywidgets>=7.5.1->neuralprophet[live]) (0.8.4)\n",
      "Requirement already satisfied: nbclient<0.6.0,>=0.5.0 in /opt/conda/lib/python3.9/site-packages (from nbconvert->notebook>=4.4.1->widgetsnbextension~=3.5.0->ipywidgets>=7.5.1->neuralprophet[live]) (0.5.3)\n",
      "Requirement already satisfied: nest-asyncio in /opt/conda/lib/python3.9/site-packages (from nbclient<0.6.0,>=0.5.0->nbconvert->notebook>=4.4.1->widgetsnbextension~=3.5.0->ipywidgets>=7.5.1->neuralprophet[live]) (1.5.1)\n",
      "Requirement already satisfied: async-generator in /opt/conda/lib/python3.9/site-packages (from nbclient<0.6.0,>=0.5.0->nbconvert->notebook>=4.4.1->widgetsnbextension~=3.5.0->ipywidgets>=7.5.1->neuralprophet[live]) (1.10)\n",
      "Requirement already satisfied: webencodings in /opt/conda/lib/python3.9/site-packages (from bleach->nbconvert->notebook>=4.4.1->widgetsnbextension~=3.5.0->ipywidgets>=7.5.1->neuralprophet[live]) (0.5.1)\n",
      "Installing collected packages: ephem, torch-lr-finder, LunarCalendar, dataclasses, bokeh, neuralprophet, livelossplot\n",
      "Successfully installed LunarCalendar-0.0.9 bokeh-2.4.2 dataclasses-0.6 ephem-4.1.3 livelossplot-0.5.5 neuralprophet-0.3.2 torch-lr-finder-0.2.1\n",
      "Requirement already satisfied: holidays in /opt/conda/lib/python3.9/site-packages (0.11.3.1)\n",
      "Requirement already satisfied: python-dateutil in /opt/conda/lib/python3.9/site-packages (from holidays) (2.8.1)\n",
      "Requirement already satisfied: hijri-converter in /opt/conda/lib/python3.9/site-packages (from holidays) (2.2.3)\n",
      "Requirement already satisfied: korean-lunar-calendar in /opt/conda/lib/python3.9/site-packages (from holidays) (0.2.1)\n",
      "Requirement already satisfied: convertdate>=2.3.0 in /opt/conda/lib/python3.9/site-packages (from holidays) (2.4.0)\n",
      "Requirement already satisfied: pymeeus<=1,>=0.3.13 in /opt/conda/lib/python3.9/site-packages (from convertdate>=2.3.0->holidays) (0.5.11)\n",
      "Requirement already satisfied: six>=1.5 in /opt/conda/lib/python3.9/site-packages (from python-dateutil->holidays) (1.16.0)\n"
     ]
    }
   ],
   "source": [
    "!pip install neuralprophet[live]\n",
    "!pip install holidays"
   ]
  },
  {
   "cell_type": "code",
   "execution_count": 3,
   "metadata": {},
   "outputs": [],
   "source": [
    "import pandas as pd\n",
    "from sklearn.ensemble import GradientBoostingRegressor\n",
    "from sklearn.metrics import mean_squared_error\n",
    "#from sklearn.pipeline import Pipeline\n",
    "from neuralprophet import NeuralProphet\n",
    "from sklearn.model_selection import GridSearchCV, train_test_split, TimeSeriesSplit, PredefinedSplit\n",
    "from sklearn.preprocessing import StandardScaler, LabelEncoder, OneHotEncoder\n",
    "import matplotlib.pyplot as plt\n",
    "from statsmodels.tsa.seasonal import seasonal_decompose\n",
    "import holidays\n",
    "import numpy as np"
   ]
  },
  {
   "cell_type": "markdown",
   "metadata": {
    "toc": true
   },
   "source": [
    "<h1>Содержание<span class=\"tocSkip\"></span></h1>\n",
    "<div class=\"toc\"><ul class=\"toc-item\"><li><span><a href=\"#Подготовка\" data-toc-modified-id=\"Подготовка-1\"><span class=\"toc-item-num\">1&nbsp;&nbsp;</span>Подготовка</a></span><ul class=\"toc-item\"><li><span><a href=\"#Загрузка-данных\" data-toc-modified-id=\"Загрузка-данных-1.1\"><span class=\"toc-item-num\">1.1&nbsp;&nbsp;</span>Загрузка данных</a></span></li><li><span><a href=\"#Преобразование-и-поиск-пропусков\" data-toc-modified-id=\"Преобразование-и-поиск-пропусков-1.2\"><span class=\"toc-item-num\">1.2&nbsp;&nbsp;</span>Преобразование и поиск пропусков</a></span></li></ul></li><li><span><a href=\"#Анализ\" data-toc-modified-id=\"Анализ-2\"><span class=\"toc-item-num\">2&nbsp;&nbsp;</span>Анализ</a></span></li><li><span><a href=\"#Обучение\" data-toc-modified-id=\"Обучение-3\"><span class=\"toc-item-num\">3&nbsp;&nbsp;</span>Обучение</a></span><ul class=\"toc-item\"><li><span><a href=\"#GradientBoostingRegressor\" data-toc-modified-id=\"GradientBoostingRegressor-3.1\"><span class=\"toc-item-num\">3.1&nbsp;&nbsp;</span>GradientBoostingRegressor</a></span></li><li><span><a href=\"#NeuralProphet\" data-toc-modified-id=\"NeuralProphet-3.2\"><span class=\"toc-item-num\">3.2&nbsp;&nbsp;</span>NeuralProphet</a></span></li></ul></li><li><span><a href=\"#Тестирование\" data-toc-modified-id=\"Тестирование-4\"><span class=\"toc-item-num\">4&nbsp;&nbsp;</span>Тестирование</a></span><ul class=\"toc-item\"><li><span><a href=\"#GradientBoostingRegressor\" data-toc-modified-id=\"GradientBoostingRegressor-4.1\"><span class=\"toc-item-num\">4.1&nbsp;&nbsp;</span>GradientBoostingRegressor</a></span></li><li><span><a href=\"#NeuralProphet\" data-toc-modified-id=\"NeuralProphet-4.2\"><span class=\"toc-item-num\">4.2&nbsp;&nbsp;</span>NeuralProphet</a></span></li><li><span><a href=\"#Лучшая-модель\" data-toc-modified-id=\"Лучшая-модель-4.3\"><span class=\"toc-item-num\">4.3&nbsp;&nbsp;</span>Лучшая модель</a></span></li></ul></li><li><span><a href=\"#Вывод\" data-toc-modified-id=\"Вывод-5\"><span class=\"toc-item-num\">5&nbsp;&nbsp;</span>Вывод</a></span></li><li><span><a href=\"#Чек-лист-проверки\" data-toc-modified-id=\"Чек-лист-проверки-6\"><span class=\"toc-item-num\">6&nbsp;&nbsp;</span>Чек-лист проверки</a></span></li></ul></div>"
   ]
  },
  {
   "cell_type": "markdown",
   "metadata": {},
   "source": [
    "#  Прогнозирование заказов такси"
   ]
  },
  {
   "cell_type": "markdown",
   "metadata": {},
   "source": [
    "Компания «Чётенькое такси» собрала исторические данные о заказах такси в аэропортах. Чтобы привлекать больше водителей в период пиковой нагрузки, нужно спрогнозировать количество заказов такси на следующий час. Постройте модель для такого предсказания.\n",
    "\n",
    "Значение метрики *RMSE* на тестовой выборке должно быть не больше 48.\n",
    "\n",
    "Вам нужно:\n",
    "\n",
    "1. Загрузить данные и выполнить их ресемплирование по одному часу.\n",
    "2. Проанализировать данные.\n",
    "3. Обучить разные модели с различными гиперпараметрами. Сделать тестовую выборку размером 10% от исходных данных.\n",
    "4. Проверить данные на тестовой выборке и сделать выводы.\n",
    "\n",
    "\n",
    "Данные лежат в файле `taxi.csv`. Количество заказов находится в столбце `num_orders` (от англ. *number of orders*, «число заказов»)."
   ]
  },
  {
   "cell_type": "markdown",
   "metadata": {},
   "source": [
    "## Подготовка"
   ]
  },
  {
   "cell_type": "markdown",
   "metadata": {},
   "source": [
    "### Загрузка данных"
   ]
  },
  {
   "cell_type": "code",
   "execution_count": 4,
   "metadata": {},
   "outputs": [
    {
     "data": {
      "text/html": [
       "<div>\n",
       "<style scoped>\n",
       "    .dataframe tbody tr th:only-of-type {\n",
       "        vertical-align: middle;\n",
       "    }\n",
       "\n",
       "    .dataframe tbody tr th {\n",
       "        vertical-align: top;\n",
       "    }\n",
       "\n",
       "    .dataframe thead th {\n",
       "        text-align: right;\n",
       "    }\n",
       "</style>\n",
       "<table border=\"1\" class=\"dataframe\">\n",
       "  <thead>\n",
       "    <tr style=\"text-align: right;\">\n",
       "      <th></th>\n",
       "      <th>datetime</th>\n",
       "      <th>num_orders</th>\n",
       "    </tr>\n",
       "  </thead>\n",
       "  <tbody>\n",
       "    <tr>\n",
       "      <th>0</th>\n",
       "      <td>2018-03-01 00:00:00</td>\n",
       "      <td>9</td>\n",
       "    </tr>\n",
       "    <tr>\n",
       "      <th>1</th>\n",
       "      <td>2018-03-01 00:10:00</td>\n",
       "      <td>14</td>\n",
       "    </tr>\n",
       "    <tr>\n",
       "      <th>2</th>\n",
       "      <td>2018-03-01 00:20:00</td>\n",
       "      <td>28</td>\n",
       "    </tr>\n",
       "    <tr>\n",
       "      <th>3</th>\n",
       "      <td>2018-03-01 00:30:00</td>\n",
       "      <td>20</td>\n",
       "    </tr>\n",
       "    <tr>\n",
       "      <th>4</th>\n",
       "      <td>2018-03-01 00:40:00</td>\n",
       "      <td>32</td>\n",
       "    </tr>\n",
       "    <tr>\n",
       "      <th>...</th>\n",
       "      <td>...</td>\n",
       "      <td>...</td>\n",
       "    </tr>\n",
       "    <tr>\n",
       "      <th>26491</th>\n",
       "      <td>2018-08-31 23:10:00</td>\n",
       "      <td>32</td>\n",
       "    </tr>\n",
       "    <tr>\n",
       "      <th>26492</th>\n",
       "      <td>2018-08-31 23:20:00</td>\n",
       "      <td>24</td>\n",
       "    </tr>\n",
       "    <tr>\n",
       "      <th>26493</th>\n",
       "      <td>2018-08-31 23:30:00</td>\n",
       "      <td>27</td>\n",
       "    </tr>\n",
       "    <tr>\n",
       "      <th>26494</th>\n",
       "      <td>2018-08-31 23:40:00</td>\n",
       "      <td>39</td>\n",
       "    </tr>\n",
       "    <tr>\n",
       "      <th>26495</th>\n",
       "      <td>2018-08-31 23:50:00</td>\n",
       "      <td>53</td>\n",
       "    </tr>\n",
       "  </tbody>\n",
       "</table>\n",
       "<p>26496 rows × 2 columns</p>\n",
       "</div>"
      ],
      "text/plain": [
       "                 datetime  num_orders\n",
       "0     2018-03-01 00:00:00           9\n",
       "1     2018-03-01 00:10:00          14\n",
       "2     2018-03-01 00:20:00          28\n",
       "3     2018-03-01 00:30:00          20\n",
       "4     2018-03-01 00:40:00          32\n",
       "...                   ...         ...\n",
       "26491 2018-08-31 23:10:00          32\n",
       "26492 2018-08-31 23:20:00          24\n",
       "26493 2018-08-31 23:30:00          27\n",
       "26494 2018-08-31 23:40:00          39\n",
       "26495 2018-08-31 23:50:00          53\n",
       "\n",
       "[26496 rows x 2 columns]"
      ]
     },
     "execution_count": 4,
     "metadata": {},
     "output_type": "execute_result"
    }
   ],
   "source": [
    "df = pd.read_csv('/datasets/taxi.csv',parse_dates=['datetime'])\n",
    "df"
   ]
  },
  {
   "cell_type": "code",
   "execution_count": 5,
   "metadata": {},
   "outputs": [
    {
     "name": "stdout",
     "output_type": "stream",
     "text": [
      "<class 'pandas.core.frame.DataFrame'>\n",
      "RangeIndex: 26496 entries, 0 to 26495\n",
      "Data columns (total 2 columns):\n",
      " #   Column      Non-Null Count  Dtype         \n",
      "---  ------      --------------  -----         \n",
      " 0   datetime    26496 non-null  datetime64[ns]\n",
      " 1   num_orders  26496 non-null  int64         \n",
      "dtypes: datetime64[ns](1), int64(1)\n",
      "memory usage: 414.1 KB\n"
     ]
    }
   ],
   "source": [
    "df.info()"
   ]
  },
  {
   "cell_type": "code",
   "execution_count": 6,
   "metadata": {},
   "outputs": [
    {
     "data": {
      "text/plain": [
       "count    26496.000000\n",
       "mean        14.070463\n",
       "std          9.211330\n",
       "min          0.000000\n",
       "25%          8.000000\n",
       "50%         13.000000\n",
       "75%         19.000000\n",
       "max        119.000000\n",
       "Name: num_orders, dtype: float64"
      ]
     },
     "execution_count": 6,
     "metadata": {},
     "output_type": "execute_result"
    }
   ],
   "source": [
    "df['num_orders'].describe()"
   ]
  },
  {
   "cell_type": "code",
   "execution_count": 7,
   "metadata": {},
   "outputs": [
    {
     "data": {
      "text/plain": [
       "count                  26496\n",
       "mean     2018-05-31 23:55:00\n",
       "min      2018-03-01 00:00:00\n",
       "25%      2018-04-15 23:57:30\n",
       "50%      2018-05-31 23:55:00\n",
       "75%      2018-07-16 23:52:30\n",
       "max      2018-08-31 23:50:00\n",
       "Name: datetime, dtype: object"
      ]
     },
     "execution_count": 7,
     "metadata": {},
     "output_type": "execute_result"
    }
   ],
   "source": [
    "df['datetime'].describe(datetime_is_numeric=True)"
   ]
  },
  {
   "cell_type": "markdown",
   "metadata": {},
   "source": [
    "Предоставлена информация за полгода, нули заполнены, что хорошо."
   ]
  },
  {
   "cell_type": "markdown",
   "metadata": {},
   "source": [
    "### Преобразование и поиск пропусков"
   ]
  },
  {
   "cell_type": "code",
   "execution_count": 8,
   "metadata": {},
   "outputs": [
    {
     "data": {
      "text/html": [
       "<div>\n",
       "<style scoped>\n",
       "    .dataframe tbody tr th:only-of-type {\n",
       "        vertical-align: middle;\n",
       "    }\n",
       "\n",
       "    .dataframe tbody tr th {\n",
       "        vertical-align: top;\n",
       "    }\n",
       "\n",
       "    .dataframe thead th {\n",
       "        text-align: right;\n",
       "    }\n",
       "</style>\n",
       "<table border=\"1\" class=\"dataframe\">\n",
       "  <thead>\n",
       "    <tr style=\"text-align: right;\">\n",
       "      <th></th>\n",
       "      <th>num_orders</th>\n",
       "    </tr>\n",
       "    <tr>\n",
       "      <th>datetime</th>\n",
       "      <th></th>\n",
       "    </tr>\n",
       "  </thead>\n",
       "  <tbody>\n",
       "    <tr>\n",
       "      <th>2018-03-01 00:00:00</th>\n",
       "      <td>9</td>\n",
       "    </tr>\n",
       "    <tr>\n",
       "      <th>2018-03-01 00:10:00</th>\n",
       "      <td>14</td>\n",
       "    </tr>\n",
       "    <tr>\n",
       "      <th>2018-03-01 00:20:00</th>\n",
       "      <td>28</td>\n",
       "    </tr>\n",
       "    <tr>\n",
       "      <th>2018-03-01 00:30:00</th>\n",
       "      <td>20</td>\n",
       "    </tr>\n",
       "    <tr>\n",
       "      <th>2018-03-01 00:40:00</th>\n",
       "      <td>32</td>\n",
       "    </tr>\n",
       "    <tr>\n",
       "      <th>...</th>\n",
       "      <td>...</td>\n",
       "    </tr>\n",
       "    <tr>\n",
       "      <th>2018-08-31 23:10:00</th>\n",
       "      <td>32</td>\n",
       "    </tr>\n",
       "    <tr>\n",
       "      <th>2018-08-31 23:20:00</th>\n",
       "      <td>24</td>\n",
       "    </tr>\n",
       "    <tr>\n",
       "      <th>2018-08-31 23:30:00</th>\n",
       "      <td>27</td>\n",
       "    </tr>\n",
       "    <tr>\n",
       "      <th>2018-08-31 23:40:00</th>\n",
       "      <td>39</td>\n",
       "    </tr>\n",
       "    <tr>\n",
       "      <th>2018-08-31 23:50:00</th>\n",
       "      <td>53</td>\n",
       "    </tr>\n",
       "  </tbody>\n",
       "</table>\n",
       "<p>26496 rows × 1 columns</p>\n",
       "</div>"
      ],
      "text/plain": [
       "                     num_orders\n",
       "datetime                       \n",
       "2018-03-01 00:00:00           9\n",
       "2018-03-01 00:10:00          14\n",
       "2018-03-01 00:20:00          28\n",
       "2018-03-01 00:30:00          20\n",
       "2018-03-01 00:40:00          32\n",
       "...                         ...\n",
       "2018-08-31 23:10:00          32\n",
       "2018-08-31 23:20:00          24\n",
       "2018-08-31 23:30:00          27\n",
       "2018-08-31 23:40:00          39\n",
       "2018-08-31 23:50:00          53\n",
       "\n",
       "[26496 rows x 1 columns]"
      ]
     },
     "execution_count": 8,
     "metadata": {},
     "output_type": "execute_result"
    }
   ],
   "source": [
    "df = df.set_index('datetime').sort_index()\n",
    "df"
   ]
  },
  {
   "cell_type": "code",
   "execution_count": 9,
   "metadata": {},
   "outputs": [
    {
     "data": {
      "text/html": [
       "<div>\n",
       "<style scoped>\n",
       "    .dataframe tbody tr th:only-of-type {\n",
       "        vertical-align: middle;\n",
       "    }\n",
       "\n",
       "    .dataframe tbody tr th {\n",
       "        vertical-align: top;\n",
       "    }\n",
       "\n",
       "    .dataframe thead th {\n",
       "        text-align: right;\n",
       "    }\n",
       "</style>\n",
       "<table border=\"1\" class=\"dataframe\">\n",
       "  <thead>\n",
       "    <tr style=\"text-align: right;\">\n",
       "      <th></th>\n",
       "      <th>num_orders</th>\n",
       "    </tr>\n",
       "    <tr>\n",
       "      <th>datetime</th>\n",
       "      <th></th>\n",
       "    </tr>\n",
       "  </thead>\n",
       "  <tbody>\n",
       "    <tr>\n",
       "      <th>2018-03-01 00:00:00</th>\n",
       "      <td>124</td>\n",
       "    </tr>\n",
       "    <tr>\n",
       "      <th>2018-03-01 01:00:00</th>\n",
       "      <td>85</td>\n",
       "    </tr>\n",
       "    <tr>\n",
       "      <th>2018-03-01 02:00:00</th>\n",
       "      <td>71</td>\n",
       "    </tr>\n",
       "    <tr>\n",
       "      <th>2018-03-01 03:00:00</th>\n",
       "      <td>66</td>\n",
       "    </tr>\n",
       "    <tr>\n",
       "      <th>2018-03-01 04:00:00</th>\n",
       "      <td>43</td>\n",
       "    </tr>\n",
       "    <tr>\n",
       "      <th>...</th>\n",
       "      <td>...</td>\n",
       "    </tr>\n",
       "    <tr>\n",
       "      <th>2018-08-31 19:00:00</th>\n",
       "      <td>136</td>\n",
       "    </tr>\n",
       "    <tr>\n",
       "      <th>2018-08-31 20:00:00</th>\n",
       "      <td>154</td>\n",
       "    </tr>\n",
       "    <tr>\n",
       "      <th>2018-08-31 21:00:00</th>\n",
       "      <td>159</td>\n",
       "    </tr>\n",
       "    <tr>\n",
       "      <th>2018-08-31 22:00:00</th>\n",
       "      <td>223</td>\n",
       "    </tr>\n",
       "    <tr>\n",
       "      <th>2018-08-31 23:00:00</th>\n",
       "      <td>205</td>\n",
       "    </tr>\n",
       "  </tbody>\n",
       "</table>\n",
       "<p>4416 rows × 1 columns</p>\n",
       "</div>"
      ],
      "text/plain": [
       "                     num_orders\n",
       "datetime                       \n",
       "2018-03-01 00:00:00         124\n",
       "2018-03-01 01:00:00          85\n",
       "2018-03-01 02:00:00          71\n",
       "2018-03-01 03:00:00          66\n",
       "2018-03-01 04:00:00          43\n",
       "...                         ...\n",
       "2018-08-31 19:00:00         136\n",
       "2018-08-31 20:00:00         154\n",
       "2018-08-31 21:00:00         159\n",
       "2018-08-31 22:00:00         223\n",
       "2018-08-31 23:00:00         205\n",
       "\n",
       "[4416 rows x 1 columns]"
      ]
     },
     "execution_count": 9,
     "metadata": {},
     "output_type": "execute_result"
    }
   ],
   "source": [
    "df = df.resample('1H').sum()\n",
    "df"
   ]
  },
  {
   "cell_type": "markdown",
   "metadata": {},
   "source": [
    "Нужно удостовериться, что в данных нет пропусков. Если пропуски имеются, то значения будут заполнены нулями как отсутствие заказов такси."
   ]
  },
  {
   "cell_type": "code",
   "execution_count": 10,
   "metadata": {},
   "outputs": [
    {
     "data": {
      "text/plain": [
       "(DatetimeIndex(['2018-03-01 00:00:00', '2018-03-01 01:00:00',\n",
       "                '2018-03-01 02:00:00', '2018-03-01 03:00:00',\n",
       "                '2018-03-01 04:00:00', '2018-03-01 05:00:00',\n",
       "                '2018-03-01 06:00:00', '2018-03-01 07:00:00',\n",
       "                '2018-03-01 08:00:00', '2018-03-01 09:00:00',\n",
       "                ...\n",
       "                '2018-08-31 14:00:00', '2018-08-31 15:00:00',\n",
       "                '2018-08-31 16:00:00', '2018-08-31 17:00:00',\n",
       "                '2018-08-31 18:00:00', '2018-08-31 19:00:00',\n",
       "                '2018-08-31 20:00:00', '2018-08-31 21:00:00',\n",
       "                '2018-08-31 22:00:00', '2018-08-31 23:00:00'],\n",
       "               dtype='datetime64[ns]', length=4416, freq='H'),\n",
       " ('Количество часов совпадает', True))"
      ]
     },
     "execution_count": 10,
     "metadata": {},
     "output_type": "execute_result"
    }
   ],
   "source": [
    "r = pd.date_range(start=df.index.min(), end=df.index.max(),freq='H')\n",
    "r, ('Количество часов совпадает',len(r)==len(df))"
   ]
  },
  {
   "cell_type": "markdown",
   "metadata": {},
   "source": [
    "Пропусков в датах нет."
   ]
  },
  {
   "cell_type": "markdown",
   "metadata": {},
   "source": [
    "## Анализ"
   ]
  },
  {
   "cell_type": "code",
   "execution_count": 11,
   "metadata": {},
   "outputs": [
    {
     "data": {
      "text/plain": [
       "<AxesSubplot:xlabel='datetime'>"
      ]
     },
     "execution_count": 11,
     "metadata": {},
     "output_type": "execute_result"
    },
    {
     "data": {
      "image/png": "[encoded data removed]",
      "text/plain": [
       "<Figure size 1152x576 with 1 Axes>"
      ]
     },
     "metadata": {
      "needs_background": "light"
     },
     "output_type": "display_data"
    }
   ],
   "source": [
    "df.plot(figsize=(16, 8))"
   ]
  },
  {
   "cell_type": "code",
   "execution_count": 12,
   "metadata": {},
   "outputs": [],
   "source": [
    "decomposed = seasonal_decompose(df)"
   ]
  },
  {
   "cell_type": "code",
   "execution_count": 13,
   "metadata": {},
   "outputs": [
    {
     "data": {
      "image/png": "[encoded data removed]",
      "text/plain": [
       "<Figure size 1152x864 with 3 Axes>"
      ]
     },
     "metadata": {
      "needs_background": "light"
     },
     "output_type": "display_data"
    }
   ],
   "source": [
    "plt.figure(figsize=(16, 12))\n",
    "plt.subplot(311)\n",
    "decomposed.trend.plot(ax=plt.gca())\n",
    "plt.title('Trend')\n",
    "plt.subplot(312)\n",
    "decomposed.seasonal.plot(ax=plt.gca()) \n",
    "plt.title('Seasonality')\n",
    "plt.subplot(313)\n",
    "decomposed.resid.plot(ax=plt.gca()) \n",
    "plt.title('Residuals')\n",
    "plt.tight_layout()"
   ]
  },
  {
   "cell_type": "markdown",
   "metadata": {},
   "source": [
    "Чётко прослеживаются тренд и сезонность."
   ]
  },
  {
   "cell_type": "code",
   "execution_count": 14,
   "metadata": {},
   "outputs": [
    {
     "data": {
      "text/plain": [
       "<AxesSubplot:xlabel='datetime'>"
      ]
     },
     "execution_count": 14,
     "metadata": {},
     "output_type": "execute_result"
    },
    {
     "data": {
      "image/png": "[encoded data removed]",
      "text/plain": [
       "<Figure size 1152x576 with 1 Axes>"
      ]
     },
     "metadata": {
      "needs_background": "light"
     },
     "output_type": "display_data"
    }
   ],
   "source": [
    "df.groupby(df.index.hour)['num_orders'].mean().plot.bar(figsize=(16, 8))"
   ]
  },
  {
   "cell_type": "code",
   "execution_count": 15,
   "metadata": {},
   "outputs": [
    {
     "data": {
      "text/plain": [
       "<AxesSubplot:xlabel='datetime'>"
      ]
     },
     "execution_count": 15,
     "metadata": {},
     "output_type": "execute_result"
    },
    {
     "data": {
      "image/png": "[encoded data removed]",
      "text/plain": [
       "<Figure size 1152x576 with 1 Axes>"
      ]
     },
     "metadata": {
      "needs_background": "light"
     },
     "output_type": "display_data"
    }
   ],
   "source": [
    "df[df.index > '2018-08-15'].plot(figsize=(16, 8))"
   ]
  },
  {
   "cell_type": "markdown",
   "metadata": {},
   "source": [
    "На графиках очень хорошо видно сильную зависимость от времени дня."
   ]
  },
  {
   "cell_type": "code",
   "execution_count": 16,
   "metadata": {},
   "outputs": [
    {
     "data": {
      "text/plain": [
       "<AxesSubplot:xlabel='datetime'>"
      ]
     },
     "execution_count": 16,
     "metadata": {},
     "output_type": "execute_result"
    },
    {
     "data": {
      "image/png": "[encoded data removed]",
      "text/plain": [
       "<Figure size 1152x576 with 1 Axes>"
      ]
     },
     "metadata": {
      "needs_background": "light"
     },
     "output_type": "display_data"
    }
   ],
   "source": [
    "df.groupby(df.index.day_of_week)['num_orders'].mean().plot.bar(figsize=(16, 8))"
   ]
  },
  {
   "cell_type": "markdown",
   "metadata": {},
   "source": [
    "Зависимость от дня недели не очень сильная, но изменения заметны."
   ]
  },
  {
   "cell_type": "markdown",
   "metadata": {},
   "source": [
    "<div class=\"alert alert-block alert-success\">\n",
    "<b>Успех:</b> В целом, этот шаг был сделан хорошо.\n",
    "</div>\n",
    "\n",
    "<div class=\"alert alert-block alert-info\">\n",
    "<b>Совет: </b> Однако, сезонность стоит визуализировать на более коротком интервале (н-р неделя).\n",
    "</div>"
   ]
  },
  {
   "cell_type": "markdown",
   "metadata": {},
   "source": [
    "## Обучение"
   ]
  },
  {
   "cell_type": "markdown",
   "metadata": {},
   "source": [
    "### GradientBoostingRegressor"
   ]
  },
  {
   "cell_type": "markdown",
   "metadata": {},
   "source": [
    "Модель требует создание новых признаков. Для возможности использования модели в течение нескольких лет, будет добавлен год. Также может понадобиться проверка на празаничные дни."
   ]
  },
  {
   "cell_type": "code",
   "execution_count": 17,
   "metadata": {},
   "outputs": [],
   "source": [
    "holidays = holidays.RU()"
   ]
  },
  {
   "cell_type": "code",
   "execution_count": 18,
   "metadata": {},
   "outputs": [],
   "source": [
    "def make_features(x,rolling = 24, max_lag = 24):\n",
    "    x['rolling_mean'] = x['num_orders'].shift().rolling(rolling).mean()\n",
    "    for lag in range(1, max_lag + 1):\n",
    "        x[f'lag_{lag}'] = x['num_orders'].shift(lag)\n",
    "\n",
    "    x['year'] = x.index.year\n",
    "    x['month'] = x.index.month\n",
    "    x['day'] = x.index.day\n",
    "    x['hour'] = x.index.hour\n",
    "    x['day_of_week'] = x.index.day_of_week\n",
    "    x['is_holiday'] = x.index.map(lambda x: x in holidays)\n",
    "    x.dropna(inplace=True)"
   ]
  },
  {
   "cell_type": "markdown",
   "metadata": {},
   "source": [
    "<div class=\"alert alert-block alert-success\">\n",
    "<b>Успех (ревью 3):</b> Верно!\n",
    "</div>"
   ]
  },
  {
   "cell_type": "code",
   "execution_count": 19,
   "metadata": {},
   "outputs": [
    {
     "data": {
      "text/html": [
       "<div>\n",
       "<style scoped>\n",
       "    .dataframe tbody tr th:only-of-type {\n",
       "        vertical-align: middle;\n",
       "    }\n",
       "\n",
       "    .dataframe tbody tr th {\n",
       "        vertical-align: top;\n",
       "    }\n",
       "\n",
       "    .dataframe thead th {\n",
       "        text-align: right;\n",
       "    }\n",
       "</style>\n",
       "<table border=\"1\" class=\"dataframe\">\n",
       "  <thead>\n",
       "    <tr style=\"text-align: right;\">\n",
       "      <th></th>\n",
       "      <th>num_orders</th>\n",
       "      <th>rolling_mean</th>\n",
       "      <th>lag_1</th>\n",
       "      <th>lag_2</th>\n",
       "      <th>lag_3</th>\n",
       "      <th>lag_4</th>\n",
       "      <th>lag_5</th>\n",
       "      <th>lag_6</th>\n",
       "      <th>lag_7</th>\n",
       "      <th>lag_8</th>\n",
       "      <th>...</th>\n",
       "      <th>lag_21</th>\n",
       "      <th>lag_22</th>\n",
       "      <th>lag_23</th>\n",
       "      <th>lag_24</th>\n",
       "      <th>year</th>\n",
       "      <th>month</th>\n",
       "      <th>day</th>\n",
       "      <th>hour</th>\n",
       "      <th>day_of_week</th>\n",
       "      <th>is_holiday</th>\n",
       "    </tr>\n",
       "    <tr>\n",
       "      <th>datetime</th>\n",
       "      <th></th>\n",
       "      <th></th>\n",
       "      <th></th>\n",
       "      <th></th>\n",
       "      <th></th>\n",
       "      <th></th>\n",
       "      <th></th>\n",
       "      <th></th>\n",
       "      <th></th>\n",
       "      <th></th>\n",
       "      <th></th>\n",
       "      <th></th>\n",
       "      <th></th>\n",
       "      <th></th>\n",
       "      <th></th>\n",
       "      <th></th>\n",
       "      <th></th>\n",
       "      <th></th>\n",
       "      <th></th>\n",
       "      <th></th>\n",
       "      <th></th>\n",
       "    </tr>\n",
       "  </thead>\n",
       "  <tbody>\n",
       "    <tr>\n",
       "      <th>2018-03-02 00:00:00</th>\n",
       "      <td>90</td>\n",
       "      <td>56.833333</td>\n",
       "      <td>58.0</td>\n",
       "      <td>113.0</td>\n",
       "      <td>66.0</td>\n",
       "      <td>61.0</td>\n",
       "      <td>45.0</td>\n",
       "      <td>73.0</td>\n",
       "      <td>44.0</td>\n",
       "      <td>43.0</td>\n",
       "      <td>...</td>\n",
       "      <td>66.0</td>\n",
       "      <td>71.0</td>\n",
       "      <td>85.0</td>\n",
       "      <td>124.0</td>\n",
       "      <td>2018</td>\n",
       "      <td>3</td>\n",
       "      <td>2</td>\n",
       "      <td>0</td>\n",
       "      <td>4</td>\n",
       "      <td>False</td>\n",
       "    </tr>\n",
       "    <tr>\n",
       "      <th>2018-03-02 01:00:00</th>\n",
       "      <td>120</td>\n",
       "      <td>55.416667</td>\n",
       "      <td>90.0</td>\n",
       "      <td>58.0</td>\n",
       "      <td>113.0</td>\n",
       "      <td>66.0</td>\n",
       "      <td>61.0</td>\n",
       "      <td>45.0</td>\n",
       "      <td>73.0</td>\n",
       "      <td>44.0</td>\n",
       "      <td>...</td>\n",
       "      <td>43.0</td>\n",
       "      <td>66.0</td>\n",
       "      <td>71.0</td>\n",
       "      <td>85.0</td>\n",
       "      <td>2018</td>\n",
       "      <td>3</td>\n",
       "      <td>2</td>\n",
       "      <td>1</td>\n",
       "      <td>4</td>\n",
       "      <td>False</td>\n",
       "    </tr>\n",
       "    <tr>\n",
       "      <th>2018-03-02 02:00:00</th>\n",
       "      <td>75</td>\n",
       "      <td>56.875000</td>\n",
       "      <td>120.0</td>\n",
       "      <td>90.0</td>\n",
       "      <td>58.0</td>\n",
       "      <td>113.0</td>\n",
       "      <td>66.0</td>\n",
       "      <td>61.0</td>\n",
       "      <td>45.0</td>\n",
       "      <td>73.0</td>\n",
       "      <td>...</td>\n",
       "      <td>6.0</td>\n",
       "      <td>43.0</td>\n",
       "      <td>66.0</td>\n",
       "      <td>71.0</td>\n",
       "      <td>2018</td>\n",
       "      <td>3</td>\n",
       "      <td>2</td>\n",
       "      <td>2</td>\n",
       "      <td>4</td>\n",
       "      <td>False</td>\n",
       "    </tr>\n",
       "    <tr>\n",
       "      <th>2018-03-02 03:00:00</th>\n",
       "      <td>64</td>\n",
       "      <td>57.041667</td>\n",
       "      <td>75.0</td>\n",
       "      <td>120.0</td>\n",
       "      <td>90.0</td>\n",
       "      <td>58.0</td>\n",
       "      <td>113.0</td>\n",
       "      <td>66.0</td>\n",
       "      <td>61.0</td>\n",
       "      <td>45.0</td>\n",
       "      <td>...</td>\n",
       "      <td>12.0</td>\n",
       "      <td>6.0</td>\n",
       "      <td>43.0</td>\n",
       "      <td>66.0</td>\n",
       "      <td>2018</td>\n",
       "      <td>3</td>\n",
       "      <td>2</td>\n",
       "      <td>3</td>\n",
       "      <td>4</td>\n",
       "      <td>False</td>\n",
       "    </tr>\n",
       "    <tr>\n",
       "      <th>2018-03-02 04:00:00</th>\n",
       "      <td>20</td>\n",
       "      <td>56.958333</td>\n",
       "      <td>64.0</td>\n",
       "      <td>75.0</td>\n",
       "      <td>120.0</td>\n",
       "      <td>90.0</td>\n",
       "      <td>58.0</td>\n",
       "      <td>113.0</td>\n",
       "      <td>66.0</td>\n",
       "      <td>61.0</td>\n",
       "      <td>...</td>\n",
       "      <td>15.0</td>\n",
       "      <td>12.0</td>\n",
       "      <td>6.0</td>\n",
       "      <td>43.0</td>\n",
       "      <td>2018</td>\n",
       "      <td>3</td>\n",
       "      <td>2</td>\n",
       "      <td>4</td>\n",
       "      <td>4</td>\n",
       "      <td>False</td>\n",
       "    </tr>\n",
       "    <tr>\n",
       "      <th>...</th>\n",
       "      <td>...</td>\n",
       "      <td>...</td>\n",
       "      <td>...</td>\n",
       "      <td>...</td>\n",
       "      <td>...</td>\n",
       "      <td>...</td>\n",
       "      <td>...</td>\n",
       "      <td>...</td>\n",
       "      <td>...</td>\n",
       "      <td>...</td>\n",
       "      <td>...</td>\n",
       "      <td>...</td>\n",
       "      <td>...</td>\n",
       "      <td>...</td>\n",
       "      <td>...</td>\n",
       "      <td>...</td>\n",
       "      <td>...</td>\n",
       "      <td>...</td>\n",
       "      <td>...</td>\n",
       "      <td>...</td>\n",
       "      <td>...</td>\n",
       "    </tr>\n",
       "    <tr>\n",
       "      <th>2018-08-31 19:00:00</th>\n",
       "      <td>136</td>\n",
       "      <td>164.875000</td>\n",
       "      <td>207.0</td>\n",
       "      <td>217.0</td>\n",
       "      <td>197.0</td>\n",
       "      <td>116.0</td>\n",
       "      <td>133.0</td>\n",
       "      <td>166.0</td>\n",
       "      <td>136.0</td>\n",
       "      <td>167.0</td>\n",
       "      <td>...</td>\n",
       "      <td>158.0</td>\n",
       "      <td>198.0</td>\n",
       "      <td>142.0</td>\n",
       "      <td>72.0</td>\n",
       "      <td>2018</td>\n",
       "      <td>8</td>\n",
       "      <td>31</td>\n",
       "      <td>19</td>\n",
       "      <td>4</td>\n",
       "      <td>False</td>\n",
       "    </tr>\n",
       "    <tr>\n",
       "      <th>2018-08-31 20:00:00</th>\n",
       "      <td>154</td>\n",
       "      <td>167.541667</td>\n",
       "      <td>136.0</td>\n",
       "      <td>207.0</td>\n",
       "      <td>217.0</td>\n",
       "      <td>197.0</td>\n",
       "      <td>116.0</td>\n",
       "      <td>133.0</td>\n",
       "      <td>166.0</td>\n",
       "      <td>136.0</td>\n",
       "      <td>...</td>\n",
       "      <td>246.0</td>\n",
       "      <td>158.0</td>\n",
       "      <td>198.0</td>\n",
       "      <td>142.0</td>\n",
       "      <td>2018</td>\n",
       "      <td>8</td>\n",
       "      <td>31</td>\n",
       "      <td>20</td>\n",
       "      <td>4</td>\n",
       "      <td>False</td>\n",
       "    </tr>\n",
       "    <tr>\n",
       "      <th>2018-08-31 21:00:00</th>\n",
       "      <td>159</td>\n",
       "      <td>168.041667</td>\n",
       "      <td>154.0</td>\n",
       "      <td>136.0</td>\n",
       "      <td>207.0</td>\n",
       "      <td>217.0</td>\n",
       "      <td>197.0</td>\n",
       "      <td>116.0</td>\n",
       "      <td>133.0</td>\n",
       "      <td>166.0</td>\n",
       "      <td>...</td>\n",
       "      <td>276.0</td>\n",
       "      <td>246.0</td>\n",
       "      <td>158.0</td>\n",
       "      <td>198.0</td>\n",
       "      <td>2018</td>\n",
       "      <td>8</td>\n",
       "      <td>31</td>\n",
       "      <td>21</td>\n",
       "      <td>4</td>\n",
       "      <td>False</td>\n",
       "    </tr>\n",
       "    <tr>\n",
       "      <th>2018-08-31 22:00:00</th>\n",
       "      <td>223</td>\n",
       "      <td>166.416667</td>\n",
       "      <td>159.0</td>\n",
       "      <td>154.0</td>\n",
       "      <td>136.0</td>\n",
       "      <td>207.0</td>\n",
       "      <td>217.0</td>\n",
       "      <td>197.0</td>\n",
       "      <td>116.0</td>\n",
       "      <td>133.0</td>\n",
       "      <td>...</td>\n",
       "      <td>194.0</td>\n",
       "      <td>276.0</td>\n",
       "      <td>246.0</td>\n",
       "      <td>158.0</td>\n",
       "      <td>2018</td>\n",
       "      <td>8</td>\n",
       "      <td>31</td>\n",
       "      <td>22</td>\n",
       "      <td>4</td>\n",
       "      <td>False</td>\n",
       "    </tr>\n",
       "    <tr>\n",
       "      <th>2018-08-31 23:00:00</th>\n",
       "      <td>205</td>\n",
       "      <td>169.125000</td>\n",
       "      <td>223.0</td>\n",
       "      <td>159.0</td>\n",
       "      <td>154.0</td>\n",
       "      <td>136.0</td>\n",
       "      <td>207.0</td>\n",
       "      <td>217.0</td>\n",
       "      <td>197.0</td>\n",
       "      <td>116.0</td>\n",
       "      <td>...</td>\n",
       "      <td>230.0</td>\n",
       "      <td>194.0</td>\n",
       "      <td>276.0</td>\n",
       "      <td>246.0</td>\n",
       "      <td>2018</td>\n",
       "      <td>8</td>\n",
       "      <td>31</td>\n",
       "      <td>23</td>\n",
       "      <td>4</td>\n",
       "      <td>False</td>\n",
       "    </tr>\n",
       "  </tbody>\n",
       "</table>\n",
       "<p>4392 rows × 32 columns</p>\n",
       "</div>"
      ],
      "text/plain": [
       "                     num_orders  rolling_mean  lag_1  lag_2  lag_3  lag_4  \\\n",
       "datetime                                                                    \n",
       "2018-03-02 00:00:00          90     56.833333   58.0  113.0   66.0   61.0   \n",
       "2018-03-02 01:00:00         120     55.416667   90.0   58.0  113.0   66.0   \n",
       "2018-03-02 02:00:00          75     56.875000  120.0   90.0   58.0  113.0   \n",
       "2018-03-02 03:00:00          64     57.041667   75.0  120.0   90.0   58.0   \n",
       "2018-03-02 04:00:00          20     56.958333   64.0   75.0  120.0   90.0   \n",
       "...                         ...           ...    ...    ...    ...    ...   \n",
       "2018-08-31 19:00:00         136    164.875000  207.0  217.0  197.0  116.0   \n",
       "2018-08-31 20:00:00         154    167.541667  136.0  207.0  217.0  197.0   \n",
       "2018-08-31 21:00:00         159    168.041667  154.0  136.0  207.0  217.0   \n",
       "2018-08-31 22:00:00         223    166.416667  159.0  154.0  136.0  207.0   \n",
       "2018-08-31 23:00:00         205    169.125000  223.0  159.0  154.0  136.0   \n",
       "\n",
       "                     lag_5  lag_6  lag_7  lag_8  ...  lag_21  lag_22  lag_23  \\\n",
       "datetime                                         ...                           \n",
       "2018-03-02 00:00:00   45.0   73.0   44.0   43.0  ...    66.0    71.0    85.0   \n",
       "2018-03-02 01:00:00   61.0   45.0   73.0   44.0  ...    43.0    66.0    71.0   \n",
       "2018-03-02 02:00:00   66.0   61.0   45.0   73.0  ...     6.0    43.0    66.0   \n",
       "2018-03-02 03:00:00  113.0   66.0   61.0   45.0  ...    12.0     6.0    43.0   \n",
       "2018-03-02 04:00:00   58.0  113.0   66.0   61.0  ...    15.0    12.0     6.0   \n",
       "...                    ...    ...    ...    ...  ...     ...     ...     ...   \n",
       "2018-08-31 19:00:00  133.0  166.0  136.0  167.0  ...   158.0   198.0   142.0   \n",
       "2018-08-31 20:00:00  116.0  133.0  166.0  136.0  ...   246.0   158.0   198.0   \n",
       "2018-08-31 21:00:00  197.0  116.0  133.0  166.0  ...   276.0   246.0   158.0   \n",
       "2018-08-31 22:00:00  217.0  197.0  116.0  133.0  ...   194.0   276.0   246.0   \n",
       "2018-08-31 23:00:00  207.0  217.0  197.0  116.0  ...   230.0   194.0   276.0   \n",
       "\n",
       "                     lag_24  year  month  day  hour  day_of_week  is_holiday  \n",
       "datetime                                                                      \n",
       "2018-03-02 00:00:00   124.0  2018      3    2     0            4       False  \n",
       "2018-03-02 01:00:00    85.0  2018      3    2     1            4       False  \n",
       "2018-03-02 02:00:00    71.0  2018      3    2     2            4       False  \n",
       "2018-03-02 03:00:00    66.0  2018      3    2     3            4       False  \n",
       "2018-03-02 04:00:00    43.0  2018      3    2     4            4       False  \n",
       "...                     ...   ...    ...  ...   ...          ...         ...  \n",
       "2018-08-31 19:00:00    72.0  2018      8   31    19            4       False  \n",
       "2018-08-31 20:00:00   142.0  2018      8   31    20            4       False  \n",
       "2018-08-31 21:00:00   198.0  2018      8   31    21            4       False  \n",
       "2018-08-31 22:00:00   158.0  2018      8   31    22            4       False  \n",
       "2018-08-31 23:00:00   246.0  2018      8   31    23            4       False  \n",
       "\n",
       "[4392 rows x 32 columns]"
      ]
     },
     "execution_count": 19,
     "metadata": {},
     "output_type": "execute_result"
    }
   ],
   "source": [
    "data = df.copy()\n",
    "make_features(data)\n",
    "data"
   ]
  },
  {
   "cell_type": "code",
   "execution_count": 20,
   "metadata": {},
   "outputs": [
    {
     "data": {
      "text/plain": [
       "96"
      ]
     },
     "execution_count": 20,
     "metadata": {},
     "output_type": "execute_result"
    }
   ],
   "source": [
    "data['is_holiday'].sum()"
   ]
  },
  {
   "cell_type": "code",
   "execution_count": 21,
   "metadata": {},
   "outputs": [],
   "source": [
    "train, test = train_test_split(data, test_size=0.1,shuffle = False)"
   ]
  },
  {
   "cell_type": "code",
   "execution_count": 22,
   "metadata": {},
   "outputs": [],
   "source": [
    "features_train = train.drop(['num_orders'],axis = 1)\n",
    "target_train = train['num_orders']\n",
    "#features_valid = valid .drop(['num_orders'],axis = 1)\n",
    "#target_valid  = valid['num_orders']\n",
    "features_test = test.drop(['num_orders'],axis = 1)\n",
    "target_test = test['num_orders']\n",
    "#data_features = data.drop(['num_orders'],axis = 1)\n",
    "#data_target = data['num_orders']"
   ]
  },
  {
   "cell_type": "code",
   "execution_count": 24,
   "metadata": {},
   "outputs": [],
   "source": [
    "sp = TimeSeriesSplit()\n",
    "#test_ind = np.concatenate([[-1 for x in range(len(train))],[0 for x in range(len(test))]])"
   ]
  },
  {
   "cell_type": "code",
   "execution_count": 25,
   "metadata": {},
   "outputs": [],
   "source": [
    "#sp = PredefinedSplit(test_ind)"
   ]
  },
  {
   "cell_type": "code",
   "execution_count": 32,
   "metadata": {},
   "outputs": [
    {
     "name": "stdout",
     "output_type": "stream",
     "text": [
      "Fitting 5 folds for each of 12 candidates, totalling 60 fits\n",
      "CPU times: user 1min 22s, sys: 64.4 ms, total: 1min 22s\n",
      "Wall time: 1min 24s\n"
     ]
    },
    {
     "data": {
      "text/plain": [
       "{'max_depth': 5, 'min_samples_leaf': 2, 'random_state': 13}"
      ]
     },
     "execution_count": 32,
     "metadata": {},
     "output_type": "execute_result"
    }
   ],
   "source": [
    "%%time\n",
    "parameters = {'min_samples_leaf':[1,2,3], 'max_depth':[2,3,4,5],'random_state':[13]}\n",
    "\n",
    "model = GradientBoostingRegressor()\n",
    "clf = GridSearchCV(model, param_grid=parameters, scoring='neg_mean_squared_error', verbose=1,refit=1)\n",
    "\n",
    "clf.fit(features_train, target_train)\n",
    "\n",
    "params = clf.best_params_\n",
    "params"
   ]
  },
  {
   "cell_type": "code",
   "execution_count": 35,
   "metadata": {},
   "outputs": [
    {
     "data": {
      "text/plain": [
       "25.221400995574218"
      ]
     },
     "execution_count": 35,
     "metadata": {},
     "output_type": "execute_result"
    }
   ],
   "source": [
    "(-clf.best_score_)**0.5"
   ]
  },
  {
   "cell_type": "markdown",
   "metadata": {},
   "source": [
    "### NeuralProphet"
   ]
  },
  {
   "cell_type": "code",
   "execution_count": 36,
   "metadata": {},
   "outputs": [
    {
     "data": {
      "text/html": [
       "<div>\n",
       "<style scoped>\n",
       "    .dataframe tbody tr th:only-of-type {\n",
       "        vertical-align: middle;\n",
       "    }\n",
       "\n",
       "    .dataframe tbody tr th {\n",
       "        vertical-align: top;\n",
       "    }\n",
       "\n",
       "    .dataframe thead th {\n",
       "        text-align: right;\n",
       "    }\n",
       "</style>\n",
       "<table border=\"1\" class=\"dataframe\">\n",
       "  <thead>\n",
       "    <tr style=\"text-align: right;\">\n",
       "      <th></th>\n",
       "      <th>ds</th>\n",
       "      <th>y</th>\n",
       "    </tr>\n",
       "  </thead>\n",
       "  <tbody>\n",
       "    <tr>\n",
       "      <th>0</th>\n",
       "      <td>2018-03-01 00:00:00</td>\n",
       "      <td>124</td>\n",
       "    </tr>\n",
       "    <tr>\n",
       "      <th>1</th>\n",
       "      <td>2018-03-01 01:00:00</td>\n",
       "      <td>85</td>\n",
       "    </tr>\n",
       "    <tr>\n",
       "      <th>2</th>\n",
       "      <td>2018-03-01 02:00:00</td>\n",
       "      <td>71</td>\n",
       "    </tr>\n",
       "    <tr>\n",
       "      <th>3</th>\n",
       "      <td>2018-03-01 03:00:00</td>\n",
       "      <td>66</td>\n",
       "    </tr>\n",
       "    <tr>\n",
       "      <th>4</th>\n",
       "      <td>2018-03-01 04:00:00</td>\n",
       "      <td>43</td>\n",
       "    </tr>\n",
       "    <tr>\n",
       "      <th>...</th>\n",
       "      <td>...</td>\n",
       "      <td>...</td>\n",
       "    </tr>\n",
       "    <tr>\n",
       "      <th>4411</th>\n",
       "      <td>2018-08-31 19:00:00</td>\n",
       "      <td>136</td>\n",
       "    </tr>\n",
       "    <tr>\n",
       "      <th>4412</th>\n",
       "      <td>2018-08-31 20:00:00</td>\n",
       "      <td>154</td>\n",
       "    </tr>\n",
       "    <tr>\n",
       "      <th>4413</th>\n",
       "      <td>2018-08-31 21:00:00</td>\n",
       "      <td>159</td>\n",
       "    </tr>\n",
       "    <tr>\n",
       "      <th>4414</th>\n",
       "      <td>2018-08-31 22:00:00</td>\n",
       "      <td>223</td>\n",
       "    </tr>\n",
       "    <tr>\n",
       "      <th>4415</th>\n",
       "      <td>2018-08-31 23:00:00</td>\n",
       "      <td>205</td>\n",
       "    </tr>\n",
       "  </tbody>\n",
       "</table>\n",
       "<p>4416 rows × 2 columns</p>\n",
       "</div>"
      ],
      "text/plain": [
       "                      ds    y\n",
       "0    2018-03-01 00:00:00  124\n",
       "1    2018-03-01 01:00:00   85\n",
       "2    2018-03-01 02:00:00   71\n",
       "3    2018-03-01 03:00:00   66\n",
       "4    2018-03-01 04:00:00   43\n",
       "...                  ...  ...\n",
       "4411 2018-08-31 19:00:00  136\n",
       "4412 2018-08-31 20:00:00  154\n",
       "4413 2018-08-31 21:00:00  159\n",
       "4414 2018-08-31 22:00:00  223\n",
       "4415 2018-08-31 23:00:00  205\n",
       "\n",
       "[4416 rows x 2 columns]"
      ]
     },
     "execution_count": 36,
     "metadata": {},
     "output_type": "execute_result"
    }
   ],
   "source": [
    "df = df.reset_index()\n",
    "df.columns = ['ds','y']\n",
    "df"
   ]
  },
  {
   "cell_type": "code",
   "execution_count": 41,
   "metadata": {},
   "outputs": [],
   "source": [
    "m = NeuralProphet(\n",
    "    n_lags = 24,\n",
    "    n_forecasts=1,\n",
    "    epochs=100\n",
    ")\n",
    "m = m.add_country_holidays(\"RU\")"
   ]
  },
  {
   "cell_type": "code",
   "execution_count": 42,
   "metadata": {},
   "outputs": [
    {
     "name": "stderr",
     "output_type": "stream",
     "text": [
      "INFO - (NP.df_utils._infer_frequency) - Major frequency H corresponds to 99.977% of the data.\n",
      "INFO - (NP.df_utils._infer_frequency) - Dataframe freq automatically defined as H\n"
     ]
    }
   ],
   "source": [
    "train_m, test_m = m.split_df(df, valid_p=0.1)"
   ]
  },
  {
   "cell_type": "code",
   "execution_count": 43,
   "metadata": {},
   "outputs": [
    {
     "name": "stderr",
     "output_type": "stream",
     "text": [
      "INFO - (NP.df_utils._infer_frequency) - Major frequency H corresponds to 99.975% of the data.\n",
      "INFO - (NP.df_utils._infer_frequency) - Dataframe freq automatically defined as H\n",
      "INFO - (NP.config.init_data_params) - Setting normalization to global as only one dataframe provided for training.\n",
      "INFO - (NP.utils.set_auto_seasonalities) - Disabling yearly seasonality. Run NeuralProphet with yearly_seasonality=True to override this.\n",
      "INFO - (NP.config.set_auto_batch_epoch) - Auto-set batch_size to 32\n"
     ]
    },
    {
     "data": {
      "application/vnd.jupyter.widget-view+json": {
       "model_id": "67551c83dce341e8a7bab5fbf3bafb4b",
       "version_major": 2,
       "version_minor": 0
      },
      "text/plain": [
       "  0%|          | 0/140 [00:00<?, ?it/s]"
      ]
     },
     "metadata": {},
     "output_type": "display_data"
    },
    {
     "name": "stderr",
     "output_type": "stream",
     "text": [
      "INFO - (NP.utils_torch.lr_range_test) - lr-range-test results: steep: 7.80E-02, min: 7.30E-01\n"
     ]
    },
    {
     "data": {
      "application/vnd.jupyter.widget-view+json": {
       "model_id": "23e0a9914d1c4b28af5c261b1bc21422",
       "version_major": 2,
       "version_minor": 0
      },
      "text/plain": [
       "  0%|          | 0/140 [00:00<?, ?it/s]"
      ]
     },
     "metadata": {},
     "output_type": "display_data"
    },
    {
     "name": "stderr",
     "output_type": "stream",
     "text": [
      "INFO - (NP.utils_torch.lr_range_test) - lr-range-test results: steep: 7.80E-02, min: 9.84E-01\n",
      "INFO - (NP.forecaster._init_train_loader) - lr-range-test selected learning rate: 8.47E-02\n",
      "Epoch[100/100]: 100%|██████████| 100/100 [05:19<00:00,  3.19s/it, SmoothL1Loss=0.0118, MAE=17.2, RMSE=22.3, RegLoss=0]\n"
     ]
    }
   ],
   "source": [
    "metrics = m.fit(train_m)"
   ]
  },
  {
   "cell_type": "code",
   "execution_count": 44,
   "metadata": {},
   "outputs": [
    {
     "data": {
      "text/html": [
       "<div>\n",
       "<style scoped>\n",
       "    .dataframe tbody tr th:only-of-type {\n",
       "        vertical-align: middle;\n",
       "    }\n",
       "\n",
       "    .dataframe tbody tr th {\n",
       "        vertical-align: top;\n",
       "    }\n",
       "\n",
       "    .dataframe thead th {\n",
       "        text-align: right;\n",
       "    }\n",
       "</style>\n",
       "<table border=\"1\" class=\"dataframe\">\n",
       "  <thead>\n",
       "    <tr style=\"text-align: right;\">\n",
       "      <th></th>\n",
       "      <th>SmoothL1Loss</th>\n",
       "      <th>MAE</th>\n",
       "      <th>RMSE</th>\n",
       "      <th>RegLoss</th>\n",
       "    </tr>\n",
       "  </thead>\n",
       "  <tbody>\n",
       "    <tr>\n",
       "      <th>99</th>\n",
       "      <td>0.011781</td>\n",
       "      <td>17.208782</td>\n",
       "      <td>22.271051</td>\n",
       "      <td>0.0</td>\n",
       "    </tr>\n",
       "  </tbody>\n",
       "</table>\n",
       "</div>"
      ],
      "text/plain": [
       "    SmoothL1Loss        MAE       RMSE  RegLoss\n",
       "99      0.011781  17.208782  22.271051      0.0"
      ]
     },
     "execution_count": 44,
     "metadata": {},
     "output_type": "execute_result"
    }
   ],
   "source": [
    "metrics.dropna().tail(1)"
   ]
  },
  {
   "cell_type": "markdown",
   "metadata": {},
   "source": [
    "## Тестирование"
   ]
  },
  {
   "cell_type": "markdown",
   "metadata": {},
   "source": [
    "### GradientBoostingRegressor"
   ]
  },
  {
   "cell_type": "code",
   "execution_count": 47,
   "metadata": {},
   "outputs": [
    {
     "data": {
      "text/plain": [
       "42.34758423841965"
      ]
     },
     "execution_count": 47,
     "metadata": {},
     "output_type": "execute_result"
    }
   ],
   "source": [
    "prediction = clf.predict(features_test)\n",
    "mean_squared_error(target_test,prediction,squared=False)"
   ]
  },
  {
   "cell_type": "markdown",
   "metadata": {},
   "source": [
    "Результат тестирования соответствует требованию."
   ]
  },
  {
   "cell_type": "code",
   "execution_count": 48,
   "metadata": {},
   "outputs": [],
   "source": [
    "predictiongr = pd.Series (prediction,index = target_test.index,name='prediction')"
   ]
  },
  {
   "cell_type": "code",
   "execution_count": 49,
   "metadata": {},
   "outputs": [
    {
     "data": {
      "text/plain": [
       "<AxesSubplot:xlabel='datetime'>"
      ]
     },
     "execution_count": 49,
     "metadata": {},
     "output_type": "execute_result"
    },
    {
     "data": {
      "image/png": "[encoded data removed]",
      "text/plain": [
       "<Figure size 1152x720 with 1 Axes>"
      ]
     },
     "metadata": {
      "needs_background": "light"
     },
     "output_type": "display_data"
    }
   ],
   "source": [
    "target_test.plot(figsize=(16,10),legend = True)\n",
    "predictiongr.plot(figsize=(16,10),legend = True)"
   ]
  },
  {
   "cell_type": "markdown",
   "metadata": {},
   "source": [
    "### NeuralProphet"
   ]
  },
  {
   "cell_type": "code",
   "execution_count": 45,
   "metadata": {},
   "outputs": [
    {
     "name": "stderr",
     "output_type": "stream",
     "text": [
      "INFO - (NP.df_utils._infer_frequency) - Major frequency H corresponds to 99.784% of the data.\n",
      "INFO - (NP.df_utils._infer_frequency) - Defined frequency is equal to major frequency - H\n",
      "INFO - (NP.forecaster._evaluate) - Validation metrics:    SmoothL1Loss    MAE   RMSE\n",
      "1         0.042 32.053 44.056\n"
     ]
    },
    {
     "data": {
      "text/html": [
       "<div>\n",
       "<style scoped>\n",
       "    .dataframe tbody tr th:only-of-type {\n",
       "        vertical-align: middle;\n",
       "    }\n",
       "\n",
       "    .dataframe tbody tr th {\n",
       "        vertical-align: top;\n",
       "    }\n",
       "\n",
       "    .dataframe thead th {\n",
       "        text-align: right;\n",
       "    }\n",
       "</style>\n",
       "<table border=\"1\" class=\"dataframe\">\n",
       "  <thead>\n",
       "    <tr style=\"text-align: right;\">\n",
       "      <th></th>\n",
       "      <th>SmoothL1Loss</th>\n",
       "      <th>MAE</th>\n",
       "      <th>RMSE</th>\n",
       "    </tr>\n",
       "  </thead>\n",
       "  <tbody>\n",
       "    <tr>\n",
       "      <th>0</th>\n",
       "      <td>0.04242</td>\n",
       "      <td>32.052578</td>\n",
       "      <td>44.056366</td>\n",
       "    </tr>\n",
       "  </tbody>\n",
       "</table>\n",
       "</div>"
      ],
      "text/plain": [
       "   SmoothL1Loss        MAE       RMSE\n",
       "0       0.04242  32.052578  44.056366"
      ]
     },
     "execution_count": 45,
     "metadata": {},
     "output_type": "execute_result"
    }
   ],
   "source": [
    "m.test(test_m)"
   ]
  },
  {
   "cell_type": "markdown",
   "metadata": {},
   "source": [
    "Результат тестирования соответствует требованию."
   ]
  },
  {
   "cell_type": "markdown",
   "metadata": {},
   "source": [
    "### Лучшая модель"
   ]
  },
  {
   "cell_type": "markdown",
   "metadata": {},
   "source": [
    "Градиентный бустинг с подготовкой из sklearn дал немного более хороший результат, чем NeuralProphet. Осталось дообучить модель на полной базе."
   ]
  },
  {
   "cell_type": "code",
   "execution_count": 50,
   "metadata": {},
   "outputs": [],
   "source": [
    "features_train = data.drop(['num_orders'],axis = 1)\n",
    "target_train = data['num_orders']"
   ]
  },
  {
   "cell_type": "code",
   "execution_count": 51,
   "metadata": {},
   "outputs": [],
   "source": [
    "model = GradientBoostingRegressor(**params)"
   ]
  },
  {
   "cell_type": "code",
   "execution_count": 52,
   "metadata": {},
   "outputs": [
    {
     "data": {
      "text/plain": [
       "GradientBoostingRegressor(max_depth=5, min_samples_leaf=2, random_state=13)"
      ]
     },
     "execution_count": 52,
     "metadata": {},
     "output_type": "execute_result"
    }
   ],
   "source": [
    "model.fit(features_train,target_train)"
   ]
  },
  {
   "cell_type": "markdown",
   "metadata": {},
   "source": [
    "## Вывод"
   ]
  },
  {
   "cell_type": "markdown",
   "metadata": {},
   "source": [
    "Данные были проанализированы и преобразованы для построения моделей. Опробованы две модели, из которых лучшей является градиентный бустинг из библиотеки skrlearn с предподготовкой данных. NeuralProphet дал результат немного хуже."
   ]
  },
  {
   "cell_type": "markdown",
   "metadata": {},
   "source": [
    "## Чек-лист проверки"
   ]
  },
  {
   "cell_type": "markdown",
   "metadata": {},
   "source": [
    "- [x]  Jupyter Notebook открыт\n",
    "- [x]  Весь код выполняется без ошибок\n",
    "- [x]  Ячейки с кодом расположены в порядке исполнения\n",
    "- [x]  Данные загружены и подготовлены\n",
    "- [x]  Данные проанализированы\n",
    "- [x]  Модель обучена, гиперпараметры подобраны\n",
    "- [x]  Качество моделей проверено, выводы сделаны\n",
    "- [x]  Значение *RMSE* на тестовой выборке не больше 48"
   ]
  }
 ],
 "metadata": {
  "ExecuteTimeLog": [
   {
    "duration": 101,
    "start_time": "2022-04-20T07:50:36.756Z"
   },
   {
    "duration": 6447,
    "start_time": "2022-04-20T07:51:00.720Z"
   },
   {
    "duration": 29,
    "start_time": "2022-04-20T07:51:28.960Z"
   },
   {
    "duration": 8,
    "start_time": "2022-04-20T07:51:55.132Z"
   },
   {
    "duration": 4,
    "start_time": "2022-04-20T07:51:56.026Z"
   },
   {
    "duration": 2345,
    "start_time": "2022-04-20T07:51:57.136Z"
   },
   {
    "duration": 113,
    "start_time": "2022-04-20T07:53:08.946Z"
   },
   {
    "duration": 727,
    "start_time": "2022-04-20T07:53:15.801Z"
   },
   {
    "duration": 14,
    "start_time": "2022-04-20T07:53:23.015Z"
   },
   {
    "duration": 94,
    "start_time": "2022-04-20T07:54:38.217Z"
   },
   {
    "duration": 44,
    "start_time": "2022-04-20T08:43:52.626Z"
   },
   {
    "duration": 47,
    "start_time": "2022-04-20T08:44:53.746Z"
   },
   {
    "duration": 51,
    "start_time": "2022-04-20T08:45:01.850Z"
   },
   {
    "duration": 5,
    "start_time": "2022-04-20T09:30:38.385Z"
   },
   {
    "duration": 9835,
    "start_time": "2022-04-20T09:31:56.137Z"
   },
   {
    "duration": 5,
    "start_time": "2022-04-20T09:32:07.449Z"
   },
   {
    "duration": 4,
    "start_time": "2022-04-20T09:35:59.914Z"
   },
   {
    "duration": 20,
    "start_time": "2022-04-20T09:36:24.986Z"
   },
   {
    "duration": 1856,
    "start_time": "2022-04-20T09:37:06.090Z"
   },
   {
    "duration": 1844,
    "start_time": "2022-04-20T09:37:15.802Z"
   },
   {
    "duration": 6,
    "start_time": "2022-04-20T09:37:32.066Z"
   },
   {
    "duration": 21,
    "start_time": "2022-04-20T09:37:48.922Z"
   },
   {
    "duration": 15,
    "start_time": "2022-04-20T09:38:14.130Z"
   },
   {
    "duration": 11,
    "start_time": "2022-04-20T09:38:38.675Z"
   },
   {
    "duration": 15,
    "start_time": "2022-04-20T09:39:03.114Z"
   },
   {
    "duration": 14,
    "start_time": "2022-04-20T09:39:47.952Z"
   },
   {
    "duration": 94,
    "start_time": "2022-04-20T09:40:39.579Z"
   },
   {
    "duration": 23,
    "start_time": "2022-04-20T09:51:06.848Z"
   },
   {
    "duration": 13,
    "start_time": "2022-04-20T09:51:38.960Z"
   },
   {
    "duration": 17,
    "start_time": "2022-04-20T09:51:48.528Z"
   },
   {
    "duration": 13,
    "start_time": "2022-04-20T09:53:17.905Z"
   },
   {
    "duration": 17,
    "start_time": "2022-04-20T09:53:22.176Z"
   },
   {
    "duration": 50,
    "start_time": "2022-04-20T09:55:22.329Z"
   },
   {
    "duration": 13,
    "start_time": "2022-04-20T09:55:26.513Z"
   },
   {
    "duration": 17,
    "start_time": "2022-04-20T09:55:30.321Z"
   },
   {
    "duration": 8,
    "start_time": "2022-04-20T10:03:59.096Z"
   },
   {
    "duration": 3,
    "start_time": "2022-04-20T10:03:59.107Z"
   },
   {
    "duration": 7,
    "start_time": "2022-04-20T10:03:59.112Z"
   },
   {
    "duration": 66,
    "start_time": "2022-04-20T10:03:59.121Z"
   },
   {
    "duration": 16,
    "start_time": "2022-04-20T10:03:59.191Z"
   },
   {
    "duration": 10,
    "start_time": "2022-04-20T10:03:59.209Z"
   },
   {
    "duration": 13,
    "start_time": "2022-04-20T10:03:59.221Z"
   },
   {
    "duration": 48,
    "start_time": "2022-04-20T10:03:59.236Z"
   },
   {
    "duration": 27,
    "start_time": "2022-04-20T10:03:59.287Z"
   },
   {
    "duration": 0,
    "start_time": "2022-04-20T10:03:59.316Z"
   },
   {
    "duration": 5546,
    "start_time": "2022-04-20T10:04:25.947Z"
   },
   {
    "duration": 8,
    "start_time": "2022-04-20T10:04:44.502Z"
   },
   {
    "duration": 7,
    "start_time": "2022-04-20T10:04:44.513Z"
   },
   {
    "duration": 8,
    "start_time": "2022-04-20T10:04:44.522Z"
   },
   {
    "duration": 51,
    "start_time": "2022-04-20T10:04:44.532Z"
   },
   {
    "duration": 14,
    "start_time": "2022-04-20T10:04:44.586Z"
   },
   {
    "duration": 13,
    "start_time": "2022-04-20T10:04:44.602Z"
   },
   {
    "duration": 10,
    "start_time": "2022-04-20T10:04:44.617Z"
   },
   {
    "duration": 13,
    "start_time": "2022-04-20T10:04:44.629Z"
   },
   {
    "duration": 13,
    "start_time": "2022-04-20T10:04:44.681Z"
   },
   {
    "duration": 0,
    "start_time": "2022-04-20T10:04:44.696Z"
   },
   {
    "duration": 18,
    "start_time": "2022-04-20T10:07:42.822Z"
   },
   {
    "duration": 16,
    "start_time": "2022-04-20T10:07:51.333Z"
   },
   {
    "duration": 104,
    "start_time": "2022-04-20T10:08:22.518Z"
   },
   {
    "duration": 3522,
    "start_time": "2022-04-20T10:08:35.805Z"
   },
   {
    "duration": 8,
    "start_time": "2022-04-20T10:09:06.606Z"
   },
   {
    "duration": 8,
    "start_time": "2022-04-20T10:10:40.781Z"
   },
   {
    "duration": 8,
    "start_time": "2022-04-20T10:10:58.550Z"
   },
   {
    "duration": 8,
    "start_time": "2022-04-20T10:12:00.062Z"
   },
   {
    "duration": 354,
    "start_time": "2022-04-20T10:13:58.503Z"
   },
   {
    "duration": 370,
    "start_time": "2022-04-20T10:14:32.063Z"
   },
   {
    "duration": 446,
    "start_time": "2022-04-20T10:14:41.072Z"
   },
   {
    "duration": 563,
    "start_time": "2022-04-20T10:14:46.702Z"
   },
   {
    "duration": 121,
    "start_time": "2022-04-20T10:29:21.451Z"
   },
   {
    "duration": 487,
    "start_time": "2022-04-20T10:29:28.082Z"
   },
   {
    "duration": 668,
    "start_time": "2022-04-20T10:29:43.755Z"
   },
   {
    "duration": 555,
    "start_time": "2022-04-20T10:30:07.139Z"
   },
   {
    "duration": 42,
    "start_time": "2022-04-20T10:37:05.805Z"
   },
   {
    "duration": 25,
    "start_time": "2022-04-20T10:39:48.750Z"
   },
   {
    "duration": 10,
    "start_time": "2022-04-20T10:39:54.150Z"
   },
   {
    "duration": 1003,
    "start_time": "2022-04-20T10:41:00.342Z"
   },
   {
    "duration": 714,
    "start_time": "2022-04-20T10:41:25.358Z"
   },
   {
    "duration": 964,
    "start_time": "2022-04-20T10:41:37.663Z"
   },
   {
    "duration": 1122,
    "start_time": "2022-04-20T10:42:21.767Z"
   },
   {
    "duration": 1276,
    "start_time": "2022-04-20T10:42:32.831Z"
   },
   {
    "duration": 185,
    "start_time": "2022-04-20T10:42:58.134Z"
   },
   {
    "duration": 995,
    "start_time": "2022-04-20T10:43:08.087Z"
   },
   {
    "duration": 1319,
    "start_time": "2022-04-20T10:43:26.479Z"
   },
   {
    "duration": 113,
    "start_time": "2022-04-20T10:44:23.567Z"
   },
   {
    "duration": 6,
    "start_time": "2022-04-20T10:46:48.256Z"
   },
   {
    "duration": 7,
    "start_time": "2022-04-20T10:47:01.264Z"
   },
   {
    "duration": 13,
    "start_time": "2022-04-20T11:04:10.670Z"
   },
   {
    "duration": 5,
    "start_time": "2022-04-20T11:04:13.045Z"
   },
   {
    "duration": 9,
    "start_time": "2022-04-20T11:04:13.558Z"
   },
   {
    "duration": 5,
    "start_time": "2022-04-20T11:04:22.885Z"
   },
   {
    "duration": 13,
    "start_time": "2022-04-20T11:04:27.077Z"
   },
   {
    "duration": 17,
    "start_time": "2022-04-20T11:04:41.701Z"
   },
   {
    "duration": 10,
    "start_time": "2022-04-20T11:05:06.961Z"
   },
   {
    "duration": 6,
    "start_time": "2022-04-20T11:05:06.974Z"
   },
   {
    "duration": 7,
    "start_time": "2022-04-20T11:05:06.982Z"
   },
   {
    "duration": 70,
    "start_time": "2022-04-20T11:05:06.992Z"
   },
   {
    "duration": 29,
    "start_time": "2022-04-20T11:05:07.066Z"
   },
   {
    "duration": 12,
    "start_time": "2022-04-20T11:05:07.098Z"
   },
   {
    "duration": 12,
    "start_time": "2022-04-20T11:05:07.113Z"
   },
   {
    "duration": 55,
    "start_time": "2022-04-20T11:05:07.128Z"
   },
   {
    "duration": 19,
    "start_time": "2022-04-20T11:05:07.186Z"
   },
   {
    "duration": 9,
    "start_time": "2022-04-20T11:05:07.208Z"
   },
   {
    "duration": 516,
    "start_time": "2022-04-20T11:05:07.220Z"
   },
   {
    "duration": 14,
    "start_time": "2022-04-20T11:05:07.738Z"
   },
   {
    "duration": 1531,
    "start_time": "2022-04-20T11:05:07.754Z"
   },
   {
    "duration": 16,
    "start_time": "2022-04-20T11:06:10.439Z"
   },
   {
    "duration": 10,
    "start_time": "2022-04-20T11:06:19.126Z"
   },
   {
    "duration": 22,
    "start_time": "2022-04-20T11:06:19.485Z"
   },
   {
    "duration": 17,
    "start_time": "2022-04-20T11:06:22.790Z"
   },
   {
    "duration": 10,
    "start_time": "2022-04-20T11:06:44.697Z"
   },
   {
    "duration": 3,
    "start_time": "2022-04-20T11:06:44.710Z"
   },
   {
    "duration": 8,
    "start_time": "2022-04-20T11:06:44.716Z"
   },
   {
    "duration": 75,
    "start_time": "2022-04-20T11:06:44.728Z"
   },
   {
    "duration": 14,
    "start_time": "2022-04-20T11:06:44.805Z"
   },
   {
    "duration": 13,
    "start_time": "2022-04-20T11:06:44.821Z"
   },
   {
    "duration": 10,
    "start_time": "2022-04-20T11:06:44.836Z"
   },
   {
    "duration": 48,
    "start_time": "2022-04-20T11:06:44.848Z"
   },
   {
    "duration": 18,
    "start_time": "2022-04-20T11:06:44.898Z"
   },
   {
    "duration": 8,
    "start_time": "2022-04-20T11:06:44.921Z"
   },
   {
    "duration": 526,
    "start_time": "2022-04-20T11:06:44.932Z"
   },
   {
    "duration": 26,
    "start_time": "2022-04-20T11:06:45.460Z"
   },
   {
    "duration": 1474,
    "start_time": "2022-04-20T11:06:45.488Z"
   },
   {
    "duration": 18,
    "start_time": "2022-04-20T11:06:46.965Z"
   },
   {
    "duration": 14,
    "start_time": "2022-04-20T11:06:51.766Z"
   },
   {
    "duration": 7,
    "start_time": "2022-04-20T11:06:59.159Z"
   },
   {
    "duration": 23,
    "start_time": "2022-04-20T11:06:59.511Z"
   },
   {
    "duration": 18,
    "start_time": "2022-04-20T11:07:01.382Z"
   },
   {
    "duration": 8,
    "start_time": "2022-04-20T11:08:22.257Z"
   },
   {
    "duration": 4,
    "start_time": "2022-04-20T11:08:22.268Z"
   },
   {
    "duration": 6,
    "start_time": "2022-04-20T11:08:22.274Z"
   },
   {
    "duration": 50,
    "start_time": "2022-04-20T11:08:22.283Z"
   },
   {
    "duration": 15,
    "start_time": "2022-04-20T11:08:22.335Z"
   },
   {
    "duration": 35,
    "start_time": "2022-04-20T11:08:22.352Z"
   },
   {
    "duration": 11,
    "start_time": "2022-04-20T11:08:22.389Z"
   },
   {
    "duration": 14,
    "start_time": "2022-04-20T11:08:22.402Z"
   },
   {
    "duration": 18,
    "start_time": "2022-04-20T11:08:22.418Z"
   },
   {
    "duration": 46,
    "start_time": "2022-04-20T11:08:22.440Z"
   },
   {
    "duration": 480,
    "start_time": "2022-04-20T11:08:22.489Z"
   },
   {
    "duration": 21,
    "start_time": "2022-04-20T11:08:22.971Z"
   },
   {
    "duration": 1502,
    "start_time": "2022-04-20T11:08:22.995Z"
   },
   {
    "duration": 5,
    "start_time": "2022-04-20T11:08:24.499Z"
   },
   {
    "duration": 29,
    "start_time": "2022-04-20T11:08:24.506Z"
   },
   {
    "duration": 13,
    "start_time": "2022-04-20T11:08:50.295Z"
   },
   {
    "duration": 22,
    "start_time": "2022-04-20T11:08:55.792Z"
   },
   {
    "duration": 18,
    "start_time": "2022-04-20T11:08:58.464Z"
   },
   {
    "duration": 10,
    "start_time": "2022-04-20T11:12:31.570Z"
   },
   {
    "duration": 3,
    "start_time": "2022-04-20T11:12:31.584Z"
   },
   {
    "duration": 17,
    "start_time": "2022-04-20T11:12:31.589Z"
   },
   {
    "duration": 65,
    "start_time": "2022-04-20T11:12:31.609Z"
   },
   {
    "duration": 15,
    "start_time": "2022-04-20T11:12:31.677Z"
   },
   {
    "duration": 31,
    "start_time": "2022-04-20T11:12:31.695Z"
   },
   {
    "duration": 17,
    "start_time": "2022-04-20T11:12:31.728Z"
   },
   {
    "duration": 29,
    "start_time": "2022-04-20T11:12:31.747Z"
   },
   {
    "duration": 17,
    "start_time": "2022-04-20T11:12:31.779Z"
   },
   {
    "duration": 10,
    "start_time": "2022-04-20T11:12:31.799Z"
   },
   {
    "duration": 676,
    "start_time": "2022-04-20T11:12:31.811Z"
   },
   {
    "duration": 13,
    "start_time": "2022-04-20T11:12:32.490Z"
   },
   {
    "duration": 1417,
    "start_time": "2022-04-20T11:12:32.505Z"
   },
   {
    "duration": 16,
    "start_time": "2022-04-20T11:13:58.217Z"
   },
   {
    "duration": 209,
    "start_time": "2022-04-20T11:14:08.977Z"
   },
   {
    "duration": 6,
    "start_time": "2022-04-20T11:15:14.796Z"
   },
   {
    "duration": 14,
    "start_time": "2022-04-20T11:15:27.809Z"
   },
   {
    "duration": 14,
    "start_time": "2022-04-20T11:15:39.250Z"
   },
   {
    "duration": 478,
    "start_time": "2022-04-20T11:17:21.026Z"
   },
   {
    "duration": 422,
    "start_time": "2022-04-20T11:17:32.024Z"
   },
   {
    "duration": 5,
    "start_time": "2022-04-20T11:19:11.545Z"
   },
   {
    "duration": 37,
    "start_time": "2022-04-20T11:19:12.033Z"
   },
   {
    "duration": 336,
    "start_time": "2022-04-20T11:22:34.440Z"
   },
   {
    "duration": 418,
    "start_time": "2022-04-20T11:22:55.816Z"
   },
   {
    "duration": 257,
    "start_time": "2022-04-20T11:23:17.585Z"
   },
   {
    "duration": 11590,
    "start_time": "2022-04-20T11:25:37.927Z"
   },
   {
    "duration": 6594,
    "start_time": "2022-04-20T11:26:28.921Z"
   },
   {
    "duration": 6277,
    "start_time": "2022-04-20T11:26:55.744Z"
   },
   {
    "duration": 3740,
    "start_time": "2022-04-20T11:27:06.602Z"
   },
   {
    "duration": 27,
    "start_time": "2022-04-20T11:29:59.811Z"
   },
   {
    "duration": 34,
    "start_time": "2022-04-20T11:30:27.687Z"
   },
   {
    "duration": 3384,
    "start_time": "2022-04-20T11:30:27.723Z"
   },
   {
    "duration": 3034,
    "start_time": "2022-04-20T11:30:31.110Z"
   },
   {
    "duration": 61,
    "start_time": "2022-04-20T11:30:34.146Z"
   },
   {
    "duration": 17,
    "start_time": "2022-04-20T11:30:34.211Z"
   },
   {
    "duration": 13,
    "start_time": "2022-04-20T11:30:34.231Z"
   },
   {
    "duration": 49,
    "start_time": "2022-04-20T11:30:34.246Z"
   },
   {
    "duration": 16,
    "start_time": "2022-04-20T11:30:34.297Z"
   },
   {
    "duration": 25,
    "start_time": "2022-04-20T11:30:34.315Z"
   },
   {
    "duration": 39,
    "start_time": "2022-04-20T11:30:34.343Z"
   },
   {
    "duration": 543,
    "start_time": "2022-04-20T11:30:34.384Z"
   },
   {
    "duration": 11,
    "start_time": "2022-04-20T11:30:34.929Z"
   },
   {
    "duration": 1606,
    "start_time": "2022-04-20T11:30:34.942Z"
   },
   {
    "duration": 541,
    "start_time": "2022-04-20T11:30:36.554Z"
   },
   {
    "duration": 400,
    "start_time": "2022-04-20T11:30:37.098Z"
   },
   {
    "duration": 299,
    "start_time": "2022-04-20T11:30:37.501Z"
   },
   {
    "duration": 5,
    "start_time": "2022-04-20T11:30:37.803Z"
   },
   {
    "duration": 29,
    "start_time": "2022-04-20T11:30:37.810Z"
   },
   {
    "duration": 40,
    "start_time": "2022-04-20T11:30:37.841Z"
   },
   {
    "duration": 5,
    "start_time": "2022-04-20T11:34:00.558Z"
   },
   {
    "duration": 233,
    "start_time": "2022-04-20T11:38:25.936Z"
   },
   {
    "duration": 6,
    "start_time": "2022-04-20T11:40:52.946Z"
   },
   {
    "duration": 25,
    "start_time": "2022-04-20T11:41:05.985Z"
   },
   {
    "duration": 337,
    "start_time": "2022-04-20T11:41:18.211Z"
   },
   {
    "duration": 48,
    "start_time": "2022-04-20T11:41:28.802Z"
   },
   {
    "duration": 6,
    "start_time": "2022-04-20T11:42:42.090Z"
   },
   {
    "duration": 7,
    "start_time": "2022-04-20T11:43:00.283Z"
   },
   {
    "duration": 136,
    "start_time": "2022-04-20T11:43:13.226Z"
   },
   {
    "duration": 104,
    "start_time": "2022-04-20T11:45:25.788Z"
   },
   {
    "duration": 6,
    "start_time": "2022-04-20T11:45:31.963Z"
   },
   {
    "duration": 27,
    "start_time": "2022-04-20T11:45:36.299Z"
   },
   {
    "duration": 5,
    "start_time": "2022-04-20T11:47:01.844Z"
   },
   {
    "duration": 57,
    "start_time": "2022-04-20T11:47:03.460Z"
   },
   {
    "duration": 6,
    "start_time": "2022-04-20T11:47:55.972Z"
   },
   {
    "duration": 65,
    "start_time": "2022-04-20T11:47:56.485Z"
   },
   {
    "duration": 5,
    "start_time": "2022-04-20T11:48:35.052Z"
   },
   {
    "duration": 59,
    "start_time": "2022-04-20T11:48:35.524Z"
   },
   {
    "duration": 6,
    "start_time": "2022-04-20T11:48:43.603Z"
   },
   {
    "duration": 63,
    "start_time": "2022-04-20T11:48:43.933Z"
   },
   {
    "duration": 9,
    "start_time": "2022-04-20T11:49:08.243Z"
   },
   {
    "duration": 6,
    "start_time": "2022-04-20T11:49:19.700Z"
   },
   {
    "duration": 298,
    "start_time": "2022-04-20T11:51:08.149Z"
   },
   {
    "duration": 161,
    "start_time": "2022-04-20T11:51:17.541Z"
   },
   {
    "duration": 154,
    "start_time": "2022-04-20T11:51:22.933Z"
   },
   {
    "duration": 140,
    "start_time": "2022-04-20T11:51:39.965Z"
   },
   {
    "duration": 374,
    "start_time": "2022-04-20T11:52:02.293Z"
   },
   {
    "duration": 346,
    "start_time": "2022-04-20T11:53:09.405Z"
   },
   {
    "duration": 183,
    "start_time": "2022-04-20T11:53:18.518Z"
   },
   {
    "duration": 190,
    "start_time": "2022-04-20T11:53:30.462Z"
   },
   {
    "duration": 139,
    "start_time": "2022-04-20T11:54:07.086Z"
   },
   {
    "duration": 49,
    "start_time": "2022-04-20T11:54:14.599Z"
   },
   {
    "duration": 5,
    "start_time": "2022-04-20T11:54:36.174Z"
   },
   {
    "duration": 57,
    "start_time": "2022-04-20T11:54:38.736Z"
   },
   {
    "duration": 8,
    "start_time": "2022-04-20T11:55:12.111Z"
   },
   {
    "duration": 8,
    "start_time": "2022-04-20T11:55:15.207Z"
   },
   {
    "duration": 179,
    "start_time": "2022-04-20T11:55:19.526Z"
   },
   {
    "duration": 4,
    "start_time": "2022-04-20T11:56:59.071Z"
   },
   {
    "duration": 4,
    "start_time": "2022-04-20T11:57:17.018Z"
   },
   {
    "duration": 5,
    "start_time": "2022-04-20T11:57:17.478Z"
   },
   {
    "duration": 56,
    "start_time": "2022-04-20T11:57:18.695Z"
   },
   {
    "duration": 58,
    "start_time": "2022-04-20T11:57:26.823Z"
   },
   {
    "duration": 3856,
    "start_time": "2022-04-20T11:59:15.399Z"
   },
   {
    "duration": 6,
    "start_time": "2022-04-20T12:00:04.861Z"
   },
   {
    "duration": 5,
    "start_time": "2022-04-20T12:01:18.696Z"
   },
   {
    "duration": 6,
    "start_time": "2022-04-20T12:02:06.240Z"
   },
   {
    "duration": 55,
    "start_time": "2022-04-20T12:02:07.648Z"
   },
   {
    "duration": 7,
    "start_time": "2022-04-20T12:02:14.503Z"
   },
   {
    "duration": 7,
    "start_time": "2022-04-20T12:23:30.053Z"
   },
   {
    "duration": 29,
    "start_time": "2022-04-20T12:46:37.315Z"
   },
   {
    "duration": 8,
    "start_time": "2022-04-20T12:49:46.113Z"
   },
   {
    "duration": 16,
    "start_time": "2022-04-20T12:49:46.762Z"
   },
   {
    "duration": 9,
    "start_time": "2022-04-20T12:50:31.346Z"
   },
   {
    "duration": 4,
    "start_time": "2022-04-20T12:55:33.909Z"
   },
   {
    "duration": 8,
    "start_time": "2022-04-20T13:02:53.464Z"
   },
   {
    "duration": 10,
    "start_time": "2022-04-20T13:02:54.360Z"
   },
   {
    "duration": 124,
    "start_time": "2022-04-20T13:19:16.187Z"
   },
   {
    "duration": 187,
    "start_time": "2022-04-20T13:19:31.291Z"
   },
   {
    "duration": 14,
    "start_time": "2022-04-20T13:20:03.301Z"
   },
   {
    "duration": 5,
    "start_time": "2022-04-20T13:20:09.574Z"
   },
   {
    "duration": 8345,
    "start_time": "2022-04-20T13:20:44.231Z"
   },
   {
    "duration": 12,
    "start_time": "2022-04-20T13:21:19.367Z"
   },
   {
    "duration": 5,
    "start_time": "2022-04-20T13:21:24.455Z"
   },
   {
    "duration": 8481,
    "start_time": "2022-04-20T13:23:06.047Z"
   },
   {
    "duration": 10,
    "start_time": "2022-04-20T13:24:04.214Z"
   },
   {
    "duration": 7,
    "start_time": "2022-04-20T13:25:14.608Z"
   },
   {
    "duration": 7,
    "start_time": "2022-04-20T13:25:33.544Z"
   },
   {
    "duration": 15,
    "start_time": "2022-04-20T13:25:43.423Z"
   },
   {
    "duration": 5,
    "start_time": "2022-04-20T13:29:47.474Z"
   },
   {
    "duration": 20,
    "start_time": "2022-04-20T13:29:54.162Z"
   },
   {
    "duration": 11,
    "start_time": "2022-04-20T13:36:07.979Z"
   },
   {
    "duration": 15,
    "start_time": "2022-04-20T13:36:19.507Z"
   },
   {
    "duration": 19,
    "start_time": "2022-04-20T13:41:02.147Z"
   },
   {
    "duration": 99,
    "start_time": "2022-04-20T13:45:25.780Z"
   },
   {
    "duration": 22,
    "start_time": "2022-04-20T13:45:38.381Z"
   },
   {
    "duration": 7,
    "start_time": "2022-04-20T13:46:04.596Z"
   },
   {
    "duration": 15,
    "start_time": "2022-04-20T13:46:39.141Z"
   },
   {
    "duration": 16,
    "start_time": "2022-04-20T13:47:19.668Z"
   },
   {
    "duration": 14,
    "start_time": "2022-04-20T13:47:36.717Z"
   },
   {
    "duration": 12,
    "start_time": "2022-04-20T13:47:43.885Z"
   },
   {
    "duration": 6,
    "start_time": "2022-04-20T13:47:49.974Z"
   },
   {
    "duration": 14,
    "start_time": "2022-04-20T13:48:48.901Z"
   },
   {
    "duration": 1752,
    "start_time": "2022-04-20T13:49:11.061Z"
   },
   {
    "duration": 1648,
    "start_time": "2022-04-20T13:49:34.478Z"
   },
   {
    "duration": 12,
    "start_time": "2022-04-20T13:49:51.111Z"
   },
   {
    "duration": 7,
    "start_time": "2022-04-20T13:49:52.166Z"
   },
   {
    "duration": 28,
    "start_time": "2022-04-20T13:49:53.007Z"
   },
   {
    "duration": 25,
    "start_time": "2022-04-20T13:51:24.718Z"
   },
   {
    "duration": 15,
    "start_time": "2022-04-20T13:51:39.574Z"
   },
   {
    "duration": 1460,
    "start_time": "2022-04-20T13:54:27.441Z"
   },
   {
    "duration": 4547,
    "start_time": "2022-04-20T13:54:38.721Z"
   },
   {
    "duration": 2764,
    "start_time": "2022-04-20T13:54:57.638Z"
   },
   {
    "duration": 34,
    "start_time": "2022-04-20T13:55:19.150Z"
   },
   {
    "duration": 3,
    "start_time": "2022-04-20T13:55:19.187Z"
   },
   {
    "duration": 2850,
    "start_time": "2022-04-20T13:55:19.192Z"
   },
   {
    "duration": 58,
    "start_time": "2022-04-20T13:55:22.044Z"
   },
   {
    "duration": 16,
    "start_time": "2022-04-20T13:55:22.107Z"
   },
   {
    "duration": 10,
    "start_time": "2022-04-20T13:55:22.125Z"
   },
   {
    "duration": 11,
    "start_time": "2022-04-20T13:55:22.137Z"
   },
   {
    "duration": 14,
    "start_time": "2022-04-20T13:55:22.183Z"
   },
   {
    "duration": 23,
    "start_time": "2022-04-20T13:55:22.199Z"
   },
   {
    "duration": 8,
    "start_time": "2022-04-20T13:55:22.224Z"
   },
   {
    "duration": 544,
    "start_time": "2022-04-20T13:55:22.234Z"
   },
   {
    "duration": 11,
    "start_time": "2022-04-20T13:55:22.781Z"
   },
   {
    "duration": 1524,
    "start_time": "2022-04-20T13:55:22.794Z"
   },
   {
    "duration": 435,
    "start_time": "2022-04-20T13:55:24.322Z"
   },
   {
    "duration": 407,
    "start_time": "2022-04-20T13:55:24.759Z"
   },
   {
    "duration": 393,
    "start_time": "2022-04-20T13:55:25.168Z"
   },
   {
    "duration": 3,
    "start_time": "2022-04-20T13:55:25.564Z"
   },
   {
    "duration": 240,
    "start_time": "2022-04-20T13:55:25.569Z"
   },
   {
    "duration": 1,
    "start_time": "2022-04-20T13:55:25.810Z"
   },
   {
    "duration": 0,
    "start_time": "2022-04-20T13:55:25.812Z"
   },
   {
    "duration": 0,
    "start_time": "2022-04-20T13:55:25.814Z"
   },
   {
    "duration": 0,
    "start_time": "2022-04-20T13:55:25.815Z"
   },
   {
    "duration": 0,
    "start_time": "2022-04-20T13:55:25.816Z"
   },
   {
    "duration": 0,
    "start_time": "2022-04-20T13:55:25.818Z"
   },
   {
    "duration": 0,
    "start_time": "2022-04-20T13:55:25.819Z"
   },
   {
    "duration": 0,
    "start_time": "2022-04-20T13:55:25.820Z"
   },
   {
    "duration": 0,
    "start_time": "2022-04-20T13:55:25.822Z"
   },
   {
    "duration": 0,
    "start_time": "2022-04-20T13:55:25.823Z"
   },
   {
    "duration": 0,
    "start_time": "2022-04-20T13:55:25.824Z"
   },
   {
    "duration": 13,
    "start_time": "2022-04-20T13:56:12.375Z"
   },
   {
    "duration": 0,
    "start_time": "2022-04-20T13:56:12.390Z"
   },
   {
    "duration": 0,
    "start_time": "2022-04-20T13:56:12.392Z"
   },
   {
    "duration": 0,
    "start_time": "2022-04-20T13:56:12.393Z"
   },
   {
    "duration": 0,
    "start_time": "2022-04-20T13:56:12.395Z"
   },
   {
    "duration": 0,
    "start_time": "2022-04-20T13:56:12.397Z"
   },
   {
    "duration": 0,
    "start_time": "2022-04-20T13:56:12.399Z"
   },
   {
    "duration": 15,
    "start_time": "2022-04-20T13:56:12.402Z"
   },
   {
    "duration": 67,
    "start_time": "2022-04-20T13:56:12.419Z"
   },
   {
    "duration": 6,
    "start_time": "2022-04-20T13:56:12.488Z"
   },
   {
    "duration": 28,
    "start_time": "2022-04-20T13:56:12.496Z"
   },
   {
    "duration": 14,
    "start_time": "2022-04-20T13:56:12.526Z"
   },
   {
    "duration": 35,
    "start_time": "2022-04-20T13:56:35.394Z"
   },
   {
    "duration": 2,
    "start_time": "2022-04-20T13:56:35.432Z"
   },
   {
    "duration": 2797,
    "start_time": "2022-04-20T13:56:35.436Z"
   },
   {
    "duration": 55,
    "start_time": "2022-04-20T13:56:38.235Z"
   },
   {
    "duration": 15,
    "start_time": "2022-04-20T13:56:38.293Z"
   },
   {
    "duration": 16,
    "start_time": "2022-04-20T13:56:38.310Z"
   },
   {
    "duration": 11,
    "start_time": "2022-04-20T13:56:38.328Z"
   },
   {
    "duration": 42,
    "start_time": "2022-04-20T13:56:38.341Z"
   },
   {
    "duration": 21,
    "start_time": "2022-04-20T13:56:38.385Z"
   },
   {
    "duration": 7,
    "start_time": "2022-04-20T13:56:38.408Z"
   },
   {
    "duration": 528,
    "start_time": "2022-04-20T13:56:38.418Z"
   },
   {
    "duration": 12,
    "start_time": "2022-04-20T13:56:38.949Z"
   },
   {
    "duration": 1339,
    "start_time": "2022-04-20T13:56:38.963Z"
   },
   {
    "duration": 536,
    "start_time": "2022-04-20T13:56:40.307Z"
   },
   {
    "duration": 436,
    "start_time": "2022-04-20T13:56:40.845Z"
   },
   {
    "duration": 390,
    "start_time": "2022-04-20T13:56:41.284Z"
   },
   {
    "duration": 6,
    "start_time": "2022-04-20T13:56:41.676Z"
   },
   {
    "duration": 11,
    "start_time": "2022-04-20T13:56:41.684Z"
   },
   {
    "duration": 51,
    "start_time": "2022-04-20T13:56:41.697Z"
   },
   {
    "duration": 6,
    "start_time": "2022-04-20T13:56:41.750Z"
   },
   {
    "duration": 7,
    "start_time": "2022-04-20T13:56:41.781Z"
   },
   {
    "duration": 8,
    "start_time": "2022-04-20T13:56:41.791Z"
   },
   {
    "duration": 8529,
    "start_time": "2022-04-20T13:56:41.801Z"
   },
   {
    "duration": 16,
    "start_time": "2022-04-20T13:56:50.332Z"
   },
   {
    "duration": 36,
    "start_time": "2022-04-20T13:56:50.350Z"
   },
   {
    "duration": 8,
    "start_time": "2022-04-20T13:56:50.388Z"
   },
   {
    "duration": 30,
    "start_time": "2022-04-20T13:56:50.397Z"
   },
   {
    "duration": 254,
    "start_time": "2022-04-20T13:56:50.429Z"
   },
   {
    "duration": 155148,
    "start_time": "2022-04-20T14:08:05.364Z"
   },
   {
    "duration": 76,
    "start_time": "2022-04-20T14:11:47.327Z"
   },
   {
    "duration": 15,
    "start_time": "2022-04-20T14:13:42.917Z"
   },
   {
    "duration": 26,
    "start_time": "2022-04-20T14:13:51.406Z"
   },
   {
    "duration": 80,
    "start_time": "2022-04-20T14:13:58.310Z"
   },
   {
    "duration": 12,
    "start_time": "2022-04-20T14:14:46.973Z"
   },
   {
    "duration": 28,
    "start_time": "2022-04-20T14:14:47.494Z"
   },
   {
    "duration": 493403,
    "start_time": "2022-04-20T14:14:49.495Z"
   },
   {
    "duration": 108,
    "start_time": "2022-04-20T14:24:48.673Z"
   },
   {
    "duration": 131,
    "start_time": "2022-04-20T14:24:57.874Z"
   },
   {
    "duration": 13,
    "start_time": "2022-04-20T14:28:35.689Z"
   },
   {
    "duration": 28,
    "start_time": "2022-04-20T14:28:36.553Z"
   },
   {
    "duration": 16886,
    "start_time": "2022-04-20T14:28:37.331Z"
   },
   {
    "duration": 18,
    "start_time": "2022-04-20T14:29:03.361Z"
   },
   {
    "duration": 12,
    "start_time": "2022-04-20T14:29:08.777Z"
   },
   {
    "duration": 27,
    "start_time": "2022-04-20T14:29:09.441Z"
   },
   {
    "duration": 190287,
    "start_time": "2022-04-20T14:29:10.212Z"
   },
   {
    "duration": 10,
    "start_time": "2022-04-20T14:32:45.491Z"
   },
   {
    "duration": 18,
    "start_time": "2022-04-20T14:33:48.964Z"
   },
   {
    "duration": 9,
    "start_time": "2022-04-20T14:34:05.116Z"
   },
   {
    "duration": 1615,
    "start_time": "2022-04-20T14:34:09.915Z"
   },
   {
    "duration": 9,
    "start_time": "2022-04-20T14:34:15.612Z"
   },
   {
    "duration": 10,
    "start_time": "2022-04-20T14:34:39.099Z"
   },
   {
    "duration": 9,
    "start_time": "2022-04-20T14:35:07.132Z"
   },
   {
    "duration": 17,
    "start_time": "2022-04-20T14:35:19.324Z"
   },
   {
    "duration": 13,
    "start_time": "2022-04-20T14:36:40.644Z"
   },
   {
    "duration": 27,
    "start_time": "2022-04-20T14:36:41.214Z"
   },
   {
    "duration": 350646,
    "start_time": "2022-04-20T14:36:42.071Z"
   },
   {
    "duration": 58,
    "start_time": "2022-04-20T14:42:32.732Z"
   },
   {
    "duration": 23,
    "start_time": "2022-04-20T14:45:42.127Z"
   },
   {
    "duration": 1584,
    "start_time": "2022-04-20T14:45:57.207Z"
   },
   {
    "duration": 7,
    "start_time": "2022-04-20T14:46:04.391Z"
   },
   {
    "duration": 81,
    "start_time": "2022-04-20T14:46:16.090Z"
   },
   {
    "duration": 106,
    "start_time": "2022-04-20T14:46:35.033Z"
   },
   {
    "duration": 26,
    "start_time": "2022-04-20T14:46:52.271Z"
   },
   {
    "duration": 18,
    "start_time": "2022-04-20T14:46:57.826Z"
   },
   {
    "duration": 14,
    "start_time": "2022-04-20T14:47:04.055Z"
   },
   {
    "duration": 16,
    "start_time": "2022-04-20T14:47:55.871Z"
   },
   {
    "duration": 14,
    "start_time": "2022-04-20T14:48:10.135Z"
   },
   {
    "duration": 18,
    "start_time": "2022-04-20T14:49:19.201Z"
   },
   {
    "duration": 16,
    "start_time": "2022-04-20T14:49:34.551Z"
   },
   {
    "duration": 26,
    "start_time": "2022-04-20T14:49:47.151Z"
   },
   {
    "duration": 7,
    "start_time": "2022-04-20T14:50:46.262Z"
   },
   {
    "duration": 112,
    "start_time": "2022-04-20T14:50:48.482Z"
   },
   {
    "duration": 12,
    "start_time": "2022-04-20T14:51:04.087Z"
   },
   {
    "duration": 25,
    "start_time": "2022-04-20T14:51:04.576Z"
   },
   {
    "duration": 6,
    "start_time": "2022-04-20T14:51:05.161Z"
   },
   {
    "duration": 349472,
    "start_time": "2022-04-20T14:51:05.929Z"
   },
   {
    "duration": 5394,
    "start_time": "2022-04-20T14:58:06.019Z"
   },
   {
    "duration": 59,
    "start_time": "2022-04-20T14:58:18.387Z"
   },
   {
    "duration": 45,
    "start_time": "2022-04-20T14:58:52.164Z"
   },
   {
    "duration": 9,
    "start_time": "2022-04-20T14:59:14.405Z"
   },
   {
    "duration": 6,
    "start_time": "2022-04-20T14:59:38.724Z"
   },
   {
    "duration": 10,
    "start_time": "2022-04-20T14:59:43.323Z"
   },
   {
    "duration": 7,
    "start_time": "2022-04-20T15:00:09.388Z"
   },
   {
    "duration": 18,
    "start_time": "2022-04-20T15:01:09.220Z"
   },
   {
    "duration": 4,
    "start_time": "2022-04-20T15:01:10.124Z"
   },
   {
    "duration": 9,
    "start_time": "2022-04-20T15:01:11.036Z"
   },
   {
    "duration": 9,
    "start_time": "2022-04-20T15:01:30.709Z"
   },
   {
    "duration": 17,
    "start_time": "2022-04-20T15:02:40.276Z"
   },
   {
    "duration": 4,
    "start_time": "2022-04-20T15:02:41.109Z"
   },
   {
    "duration": 7,
    "start_time": "2022-04-20T15:02:41.661Z"
   },
   {
    "duration": 228588,
    "start_time": "2022-04-20T15:02:42.527Z"
   },
   {
    "duration": 205,
    "start_time": "2022-04-20T15:07:03.921Z"
   },
   {
    "duration": 13,
    "start_time": "2022-04-20T15:07:07.230Z"
   },
   {
    "duration": 4,
    "start_time": "2022-04-20T15:07:07.622Z"
   },
   {
    "duration": 7,
    "start_time": "2022-04-20T15:07:07.950Z"
   },
   {
    "duration": 339813,
    "start_time": "2022-04-20T15:07:08.496Z"
   },
   {
    "duration": 20,
    "start_time": "2022-04-20T15:16:34.896Z"
   },
   {
    "duration": 15,
    "start_time": "2022-04-20T15:22:02.027Z"
   },
   {
    "duration": 6,
    "start_time": "2022-04-20T15:22:23.774Z"
   },
   {
    "duration": 6,
    "start_time": "2022-04-20T15:22:33.010Z"
   },
   {
    "duration": 5,
    "start_time": "2022-04-20T15:22:50.915Z"
   },
   {
    "duration": 4,
    "start_time": "2022-04-20T15:22:54.690Z"
   },
   {
    "duration": 277,
    "start_time": "2022-04-20T15:23:14.698Z"
   },
   {
    "duration": 44,
    "start_time": "2022-04-20T15:28:41.793Z"
   },
   {
    "duration": 4,
    "start_time": "2022-04-20T15:28:41.841Z"
   },
   {
    "duration": 3001,
    "start_time": "2022-04-20T15:28:41.847Z"
   },
   {
    "duration": 58,
    "start_time": "2022-04-20T15:28:44.851Z"
   },
   {
    "duration": 16,
    "start_time": "2022-04-20T15:28:44.911Z"
   },
   {
    "duration": 15,
    "start_time": "2022-04-20T15:28:44.930Z"
   },
   {
    "duration": 45,
    "start_time": "2022-04-20T15:28:44.947Z"
   },
   {
    "duration": 15,
    "start_time": "2022-04-20T15:28:44.995Z"
   },
   {
    "duration": 25,
    "start_time": "2022-04-20T15:28:45.013Z"
   },
   {
    "duration": 42,
    "start_time": "2022-04-20T15:28:45.044Z"
   },
   {
    "duration": 513,
    "start_time": "2022-04-20T15:28:45.089Z"
   },
   {
    "duration": 10,
    "start_time": "2022-04-20T15:28:45.605Z"
   },
   {
    "duration": 1349,
    "start_time": "2022-04-20T15:28:45.617Z"
   },
   {
    "duration": 433,
    "start_time": "2022-04-20T15:28:46.968Z"
   },
   {
    "duration": 422,
    "start_time": "2022-04-20T15:28:47.403Z"
   },
   {
    "duration": 383,
    "start_time": "2022-04-20T15:28:47.827Z"
   },
   {
    "duration": 4,
    "start_time": "2022-04-20T15:28:48.212Z"
   },
   {
    "duration": 7,
    "start_time": "2022-04-20T15:28:48.218Z"
   },
   {
    "duration": 67,
    "start_time": "2022-04-20T15:28:48.227Z"
   },
   {
    "duration": 5,
    "start_time": "2022-04-20T15:28:48.297Z"
   },
   {
    "duration": 8,
    "start_time": "2022-04-20T15:28:48.305Z"
   },
   {
    "duration": 7,
    "start_time": "2022-04-20T15:28:48.315Z"
   },
   {
    "duration": 8748,
    "start_time": "2022-04-20T15:28:48.324Z"
   },
   {
    "duration": 16,
    "start_time": "2022-04-20T15:28:57.081Z"
   },
   {
    "duration": 16,
    "start_time": "2022-04-20T15:28:57.099Z"
   },
   {
    "duration": 5,
    "start_time": "2022-04-20T15:28:57.117Z"
   },
   {
    "duration": 12,
    "start_time": "2022-04-20T15:28:57.124Z"
   },
   {
    "duration": 194162,
    "start_time": "2022-04-20T15:28:57.141Z"
   },
   {
    "duration": 10,
    "start_time": "2022-04-20T15:32:11.305Z"
   },
   {
    "duration": 17,
    "start_time": "2022-04-20T15:32:11.318Z"
   },
   {
    "duration": 45,
    "start_time": "2022-04-20T15:32:11.338Z"
   },
   {
    "duration": 5,
    "start_time": "2022-04-20T15:32:11.385Z"
   },
   {
    "duration": 288,
    "start_time": "2022-04-20T15:32:11.393Z"
   },
   {
    "duration": 34,
    "start_time": "2022-04-21T10:42:52.597Z"
   },
   {
    "duration": 108876,
    "start_time": "2022-04-21T10:42:52.633Z"
   },
   {
    "duration": 3383,
    "start_time": "2022-04-21T10:44:41.512Z"
   },
   {
    "duration": 69,
    "start_time": "2022-04-21T10:44:44.897Z"
   },
   {
    "duration": 22,
    "start_time": "2022-04-21T10:44:44.969Z"
   },
   {
    "duration": 15,
    "start_time": "2022-04-21T10:44:44.993Z"
   },
   {
    "duration": 19,
    "start_time": "2022-04-21T10:44:45.010Z"
   },
   {
    "duration": 69,
    "start_time": "2022-04-21T10:44:45.031Z"
   },
   {
    "duration": 22,
    "start_time": "2022-04-21T10:44:45.102Z"
   },
   {
    "duration": 19,
    "start_time": "2022-04-21T10:44:45.126Z"
   },
   {
    "duration": 514,
    "start_time": "2022-04-21T10:44:45.148Z"
   },
   {
    "duration": 16,
    "start_time": "2022-04-21T10:44:45.664Z"
   },
   {
    "duration": 1143,
    "start_time": "2022-04-21T10:44:45.682Z"
   },
   {
    "duration": 462,
    "start_time": "2022-04-21T10:44:46.829Z"
   },
   {
    "duration": 339,
    "start_time": "2022-04-21T10:44:47.293Z"
   },
   {
    "duration": 202,
    "start_time": "2022-04-21T10:44:47.642Z"
   },
   {
    "duration": 4,
    "start_time": "2022-04-21T10:44:47.846Z"
   },
   {
    "duration": 7,
    "start_time": "2022-04-21T11:02:45.761Z"
   },
   {
    "duration": 233,
    "start_time": "2022-04-21T11:02:48.908Z"
   },
   {
    "duration": 5,
    "start_time": "2022-04-21T11:03:23.488Z"
   },
   {
    "duration": 95,
    "start_time": "2022-04-21T11:03:25.685Z"
   },
   {
    "duration": 5,
    "start_time": "2022-04-21T11:03:51.619Z"
   },
   {
    "duration": 92,
    "start_time": "2022-04-21T11:03:52.660Z"
   },
   {
    "duration": 5,
    "start_time": "2022-04-21T11:04:21.484Z"
   },
   {
    "duration": 88,
    "start_time": "2022-04-21T11:04:22.670Z"
   },
   {
    "duration": 116,
    "start_time": "2022-04-21T11:04:42.368Z"
   },
   {
    "duration": 95,
    "start_time": "2022-04-21T11:04:58.658Z"
   },
   {
    "duration": 7,
    "start_time": "2022-04-21T11:05:09.879Z"
   },
   {
    "duration": 104,
    "start_time": "2022-04-21T11:05:10.983Z"
   },
   {
    "duration": 8,
    "start_time": "2022-04-21T11:05:52.531Z"
   },
   {
    "duration": 6,
    "start_time": "2022-04-21T11:10:02.494Z"
   },
   {
    "duration": 200,
    "start_time": "2022-04-21T11:10:03.169Z"
   },
   {
    "duration": 6,
    "start_time": "2022-04-21T11:11:21.982Z"
   },
   {
    "duration": 129,
    "start_time": "2022-04-21T11:11:22.696Z"
   },
   {
    "duration": 4,
    "start_time": "2022-04-21T11:15:32.922Z"
   },
   {
    "duration": 79,
    "start_time": "2022-04-21T11:15:33.634Z"
   },
   {
    "duration": 6,
    "start_time": "2022-04-21T12:42:15.851Z"
   },
   {
    "duration": 15834,
    "start_time": "2022-04-21T12:42:15.859Z"
   },
   {
    "duration": 4,
    "start_time": "2022-04-21T12:42:31.695Z"
   },
   {
    "duration": 58,
    "start_time": "2022-04-21T12:42:31.701Z"
   },
   {
    "duration": 12,
    "start_time": "2022-04-21T12:42:31.761Z"
   },
   {
    "duration": 13,
    "start_time": "2022-04-21T12:42:31.775Z"
   },
   {
    "duration": 10,
    "start_time": "2022-04-21T12:42:31.790Z"
   },
   {
    "duration": 42,
    "start_time": "2022-04-21T12:42:31.802Z"
   },
   {
    "duration": 16,
    "start_time": "2022-04-21T12:42:31.846Z"
   },
   {
    "duration": 6,
    "start_time": "2022-04-21T12:42:31.864Z"
   },
   {
    "duration": 346,
    "start_time": "2022-04-21T12:42:31.871Z"
   },
   {
    "duration": 25,
    "start_time": "2022-04-21T12:42:32.219Z"
   },
   {
    "duration": 1098,
    "start_time": "2022-04-21T12:42:32.247Z"
   },
   {
    "duration": 278,
    "start_time": "2022-04-21T12:42:33.349Z"
   },
   {
    "duration": 270,
    "start_time": "2022-04-21T12:42:33.633Z"
   },
   {
    "duration": 169,
    "start_time": "2022-04-21T12:42:33.904Z"
   },
   {
    "duration": 3,
    "start_time": "2022-04-21T12:42:34.075Z"
   },
   {
    "duration": 7,
    "start_time": "2022-04-21T12:42:34.079Z"
   },
   {
    "duration": 98,
    "start_time": "2022-04-21T12:42:34.087Z"
   },
   {
    "duration": 4,
    "start_time": "2022-04-21T12:42:34.187Z"
   },
   {
    "duration": 4,
    "start_time": "2022-04-21T12:48:47.869Z"
   },
   {
    "duration": 4,
    "start_time": "2022-04-21T12:51:09.103Z"
   },
   {
    "duration": 7,
    "start_time": "2022-04-21T12:51:45.919Z"
   },
   {
    "duration": 6,
    "start_time": "2022-04-21T12:51:53.535Z"
   },
   {
    "duration": 206,
    "start_time": "2022-04-21T12:55:01.649Z"
   },
   {
    "duration": 4,
    "start_time": "2022-04-21T13:07:56.982Z"
   },
   {
    "duration": 4,
    "start_time": "2022-04-21T13:08:11.549Z"
   },
   {
    "duration": 657035,
    "start_time": "2022-04-21T13:08:12.470Z"
   },
   {
    "duration": 427572,
    "start_time": "2022-04-21T13:19:15.828Z"
   },
   {
    "duration": 36163,
    "start_time": "2022-04-21T13:26:33.216Z"
   },
   {
    "duration": 32546,
    "start_time": "2022-04-21T13:28:37.317Z"
   },
   {
    "duration": 5,
    "start_time": "2022-04-21T13:29:18.621Z"
   },
   {
    "duration": 12,
    "start_time": "2022-04-21T13:30:47.086Z"
   },
   {
    "duration": 5,
    "start_time": "2022-04-21T13:30:53.318Z"
   },
   {
    "duration": 4,
    "start_time": "2022-04-21T13:39:19.371Z"
   },
   {
    "duration": 4,
    "start_time": "2022-04-21T13:41:37.389Z"
   },
   {
    "duration": 4,
    "start_time": "2022-04-21T13:43:08.875Z"
   },
   {
    "duration": 13,
    "start_time": "2022-04-21T13:46:23.060Z"
   },
   {
    "duration": 17,
    "start_time": "2022-04-21T13:47:17.262Z"
   },
   {
    "duration": 14,
    "start_time": "2022-04-21T13:47:28.460Z"
   },
   {
    "duration": 6,
    "start_time": "2022-04-21T13:51:07.434Z"
   },
   {
    "duration": 229,
    "start_time": "2022-04-21T13:51:09.871Z"
   },
   {
    "duration": 5,
    "start_time": "2022-04-21T13:51:54.974Z"
   },
   {
    "duration": 203,
    "start_time": "2022-04-21T13:51:55.474Z"
   },
   {
    "duration": 4,
    "start_time": "2022-04-21T13:52:31.504Z"
   },
   {
    "duration": 73,
    "start_time": "2022-04-21T13:59:48.227Z"
   },
   {
    "duration": 186,
    "start_time": "2022-04-21T13:59:56.906Z"
   },
   {
    "duration": 4,
    "start_time": "2022-04-21T14:00:55.849Z"
   },
   {
    "duration": 59,
    "start_time": "2022-04-21T14:01:29.210Z"
   },
   {
    "duration": 193,
    "start_time": "2022-04-21T14:01:29.963Z"
   },
   {
    "duration": 5,
    "start_time": "2022-04-21T14:01:45.970Z"
   },
   {
    "duration": 13,
    "start_time": "2022-04-21T14:02:03.890Z"
   },
   {
    "duration": 14,
    "start_time": "2022-04-21T14:02:11.577Z"
   },
   {
    "duration": 171,
    "start_time": "2022-04-21T14:14:40.103Z"
   },
   {
    "duration": 15,
    "start_time": "2022-04-21T14:15:02.568Z"
   },
   {
    "duration": 4,
    "start_time": "2022-04-21T14:15:36.853Z"
   },
   {
    "duration": 5,
    "start_time": "2022-04-21T14:15:37.576Z"
   },
   {
    "duration": 181,
    "start_time": "2022-04-21T14:15:41.375Z"
   },
   {
    "duration": 194,
    "start_time": "2022-04-21T14:17:21.048Z"
   },
   {
    "duration": 13,
    "start_time": "2022-04-21T14:20:51.602Z"
   },
   {
    "duration": 12,
    "start_time": "2022-04-21T14:20:58.561Z"
   },
   {
    "duration": 22,
    "start_time": "2022-04-21T14:26:02.236Z"
   },
   {
    "duration": 192,
    "start_time": "2022-04-21T14:27:09.731Z"
   },
   {
    "duration": 205,
    "start_time": "2022-04-21T14:27:21.951Z"
   },
   {
    "duration": 3,
    "start_time": "2022-04-21T14:27:36.100Z"
   },
   {
    "duration": 7,
    "start_time": "2022-04-21T14:27:42.133Z"
   },
   {
    "duration": 4,
    "start_time": "2022-04-21T14:28:22.172Z"
   },
   {
    "duration": 5,
    "start_time": "2022-04-21T14:28:22.788Z"
   },
   {
    "duration": 3,
    "start_time": "2022-04-21T14:29:07.917Z"
   },
   {
    "duration": 16,
    "start_time": "2022-04-21T14:29:21.653Z"
   },
   {
    "duration": 5,
    "start_time": "2022-04-21T14:29:50.981Z"
   },
   {
    "duration": 5,
    "start_time": "2022-04-21T14:29:57.951Z"
   },
   {
    "duration": 22,
    "start_time": "2022-04-21T14:30:19.303Z"
   },
   {
    "duration": 239,
    "start_time": "2022-04-21T14:31:37.406Z"
   },
   {
    "duration": 208,
    "start_time": "2022-04-21T14:32:07.830Z"
   },
   {
    "duration": 204,
    "start_time": "2022-04-21T14:32:41.678Z"
   },
   {
    "duration": 206,
    "start_time": "2022-04-21T14:32:49.510Z"
   },
   {
    "duration": 193,
    "start_time": "2022-04-21T14:33:30.183Z"
   },
   {
    "duration": 189,
    "start_time": "2022-04-21T14:33:51.967Z"
   },
   {
    "duration": 4,
    "start_time": "2022-04-21T14:34:17.087Z"
   },
   {
    "duration": 5,
    "start_time": "2022-04-21T14:34:21.471Z"
   },
   {
    "duration": 3,
    "start_time": "2022-04-21T14:34:39.450Z"
   },
   {
    "duration": 233,
    "start_time": "2022-04-21T14:34:46.576Z"
   },
   {
    "duration": 7,
    "start_time": "2022-04-21T14:36:07.341Z"
   },
   {
    "duration": 5,
    "start_time": "2022-04-21T14:36:15.864Z"
   },
   {
    "duration": 6,
    "start_time": "2022-04-21T14:36:40.783Z"
   },
   {
    "duration": 6,
    "start_time": "2022-04-21T14:36:41.721Z"
   },
   {
    "duration": 5,
    "start_time": "2022-04-21T14:36:42.184Z"
   },
   {
    "duration": 3,
    "start_time": "2022-04-21T14:36:46.392Z"
   },
   {
    "duration": 3,
    "start_time": "2022-04-21T14:36:48.527Z"
   },
   {
    "duration": 25390,
    "start_time": "2022-04-21T14:36:50.858Z"
   },
   {
    "duration": 29668,
    "start_time": "2022-04-21T14:37:32.689Z"
   },
   {
    "duration": 12,
    "start_time": "2022-04-21T14:38:34.865Z"
   },
   {
    "duration": 9,
    "start_time": "2022-04-21T14:38:37.250Z"
   },
   {
    "duration": 5,
    "start_time": "2022-04-21T14:38:39.073Z"
   },
   {
    "duration": 238463,
    "start_time": "2022-04-21T14:38:41.972Z"
   },
   {
    "duration": 6,
    "start_time": "2022-04-21T14:43:15.763Z"
   },
   {
    "duration": 4,
    "start_time": "2022-04-21T14:43:26.915Z"
   },
   {
    "duration": 5,
    "start_time": "2022-04-21T14:44:37.394Z"
   },
   {
    "duration": 13,
    "start_time": "2022-04-21T14:45:34.883Z"
   },
   {
    "duration": 10,
    "start_time": "2022-04-21T14:46:25.010Z"
   },
   {
    "duration": 21,
    "start_time": "2022-04-21T14:46:54.362Z"
   },
   {
    "duration": 1943,
    "start_time": "2022-04-21T14:46:59.650Z"
   },
   {
    "duration": 10,
    "start_time": "2022-04-21T14:47:09.149Z"
   },
   {
    "duration": 15,
    "start_time": "2022-04-21T14:47:14.275Z"
   },
   {
    "duration": 15,
    "start_time": "2022-04-21T14:47:52.827Z"
   },
   {
    "duration": 4,
    "start_time": "2022-04-21T14:47:54.708Z"
   },
   {
    "duration": 3,
    "start_time": "2022-04-21T14:47:56.420Z"
   },
   {
    "duration": 2189,
    "start_time": "2022-04-21T14:47:56.804Z"
   },
   {
    "duration": 14,
    "start_time": "2022-04-21T14:48:40.700Z"
   },
   {
    "duration": 182,
    "start_time": "2022-04-21T14:48:57.931Z"
   },
   {
    "duration": 215,
    "start_time": "2022-04-21T14:49:03.235Z"
   },
   {
    "duration": 3,
    "start_time": "2022-04-21T14:51:48.865Z"
   },
   {
    "duration": 245,
    "start_time": "2022-04-21T14:52:00.021Z"
   },
   {
    "duration": 296,
    "start_time": "2022-04-21T14:52:21.060Z"
   },
   {
    "duration": 311,
    "start_time": "2022-04-21T14:54:37.126Z"
   },
   {
    "duration": 299,
    "start_time": "2022-04-21T14:56:50.071Z"
   },
   {
    "duration": 3,
    "start_time": "2022-04-21T14:57:31.902Z"
   },
   {
    "duration": 287,
    "start_time": "2022-04-21T14:57:32.214Z"
   },
   {
    "duration": 302,
    "start_time": "2022-04-21T14:58:05.654Z"
   },
   {
    "duration": 311,
    "start_time": "2022-04-21T14:58:14.972Z"
   },
   {
    "duration": 5,
    "start_time": "2022-04-21T14:59:02.503Z"
   },
   {
    "duration": 3,
    "start_time": "2022-04-21T14:59:02.727Z"
   },
   {
    "duration": 2017,
    "start_time": "2022-04-21T14:59:02.983Z"
   },
   {
    "duration": 27,
    "start_time": "2022-04-21T14:59:19.065Z"
   },
   {
    "duration": 5535,
    "start_time": "2022-04-21T14:59:19.095Z"
   },
   {
    "duration": 2178,
    "start_time": "2022-04-21T14:59:24.632Z"
   },
   {
    "duration": 58,
    "start_time": "2022-04-21T14:59:26.812Z"
   },
   {
    "duration": 12,
    "start_time": "2022-04-21T14:59:26.873Z"
   },
   {
    "duration": 11,
    "start_time": "2022-04-21T14:59:26.887Z"
   },
   {
    "duration": 38,
    "start_time": "2022-04-21T14:59:26.900Z"
   },
   {
    "duration": 10,
    "start_time": "2022-04-21T14:59:26.940Z"
   },
   {
    "duration": 16,
    "start_time": "2022-04-21T14:59:26.952Z"
   },
   {
    "duration": 6,
    "start_time": "2022-04-21T14:59:26.969Z"
   },
   {
    "duration": 361,
    "start_time": "2022-04-21T14:59:26.977Z"
   },
   {
    "duration": 8,
    "start_time": "2022-04-21T14:59:27.340Z"
   },
   {
    "duration": 878,
    "start_time": "2022-04-21T14:59:27.350Z"
   },
   {
    "duration": 280,
    "start_time": "2022-04-21T14:59:28.232Z"
   },
   {
    "duration": 265,
    "start_time": "2022-04-21T14:59:28.514Z"
   },
   {
    "duration": 271,
    "start_time": "2022-04-21T14:59:28.781Z"
   },
   {
    "duration": 3,
    "start_time": "2022-04-21T14:59:29.054Z"
   },
   {
    "duration": 12,
    "start_time": "2022-04-21T14:59:29.059Z"
   },
   {
    "duration": 89,
    "start_time": "2022-04-21T14:59:29.073Z"
   },
   {
    "duration": 5,
    "start_time": "2022-04-21T14:59:29.163Z"
   },
   {
    "duration": 8,
    "start_time": "2022-04-21T14:59:29.170Z"
   },
   {
    "duration": 10,
    "start_time": "2022-04-21T14:59:29.180Z"
   },
   {
    "duration": 7,
    "start_time": "2022-04-21T14:59:29.192Z"
   },
   {
    "duration": 6,
    "start_time": "2022-04-21T14:59:29.201Z"
   },
   {
    "duration": 27086,
    "start_time": "2022-04-21T14:59:29.209Z"
   },
   {
    "duration": 11,
    "start_time": "2022-04-21T14:59:56.297Z"
   },
   {
    "duration": 25,
    "start_time": "2022-04-21T14:59:56.309Z"
   },
   {
    "duration": 8,
    "start_time": "2022-04-21T14:59:56.336Z"
   },
   {
    "duration": 163327,
    "start_time": "2022-04-21T14:59:56.346Z"
   },
   {
    "duration": 60,
    "start_time": "2022-04-21T15:02:39.675Z"
   },
   {
    "duration": 1850,
    "start_time": "2022-04-21T15:02:39.737Z"
   },
   {
    "duration": 9,
    "start_time": "2022-04-21T15:02:41.589Z"
   },
   {
    "duration": 15,
    "start_time": "2022-04-21T15:02:41.600Z"
   },
   {
    "duration": 21,
    "start_time": "2022-04-21T15:02:41.617Z"
   },
   {
    "duration": 428,
    "start_time": "2022-04-21T15:02:41.640Z"
   },
   {
    "duration": 5,
    "start_time": "2022-04-21T15:02:42.069Z"
   },
   {
    "duration": 6,
    "start_time": "2022-04-21T15:02:42.077Z"
   },
   {
    "duration": 2078,
    "start_time": "2022-04-21T15:02:42.085Z"
   },
   {
    "duration": 41,
    "start_time": "2022-04-22T09:27:06.717Z"
   },
   {
    "duration": 18927,
    "start_time": "2022-04-22T09:27:06.762Z"
   },
   {
    "duration": 4481,
    "start_time": "2022-04-22T09:27:25.691Z"
   },
   {
    "duration": 88,
    "start_time": "2022-04-22T09:27:30.176Z"
   },
   {
    "duration": 18,
    "start_time": "2022-04-22T09:27:30.268Z"
   },
   {
    "duration": 35,
    "start_time": "2022-04-22T09:27:30.288Z"
   },
   {
    "duration": 32,
    "start_time": "2022-04-22T09:27:30.326Z"
   },
   {
    "duration": 33,
    "start_time": "2022-04-22T09:27:30.361Z"
   },
   {
    "duration": 31,
    "start_time": "2022-04-22T09:27:30.397Z"
   },
   {
    "duration": 37,
    "start_time": "2022-04-22T09:27:30.430Z"
   },
   {
    "duration": 716,
    "start_time": "2022-04-22T09:27:30.470Z"
   },
   {
    "duration": 14,
    "start_time": "2022-04-22T09:27:31.188Z"
   },
   {
    "duration": 2038,
    "start_time": "2022-04-22T09:27:31.206Z"
   },
   {
    "duration": 710,
    "start_time": "2022-04-22T09:27:33.249Z"
   },
   {
    "duration": 537,
    "start_time": "2022-04-22T09:27:33.962Z"
   },
   {
    "duration": 278,
    "start_time": "2022-04-22T09:27:34.501Z"
   },
   {
    "duration": 3,
    "start_time": "2022-04-22T09:27:34.781Z"
   },
   {
    "duration": 7,
    "start_time": "2022-04-22T09:32:55.859Z"
   },
   {
    "duration": 115,
    "start_time": "2022-04-22T09:34:59.453Z"
   },
   {
    "duration": 6,
    "start_time": "2022-04-22T09:35:11.053Z"
   },
   {
    "duration": 7,
    "start_time": "2022-04-22T09:35:14.460Z"
   },
   {
    "duration": 8,
    "start_time": "2022-04-22T09:35:38.757Z"
   },
   {
    "duration": 4,
    "start_time": "2022-04-22T09:50:22.337Z"
   },
   {
    "duration": 5,
    "start_time": "2022-04-22T09:51:17.185Z"
   },
   {
    "duration": 4,
    "start_time": "2022-04-22T09:51:18.046Z"
   },
   {
    "duration": 74890,
    "start_time": "2022-04-22T09:51:18.657Z"
   },
   {
    "duration": 248,
    "start_time": "2022-04-22T10:03:22.373Z"
   },
   {
    "duration": 253,
    "start_time": "2022-04-22T10:04:12.286Z"
   },
   {
    "duration": 12,
    "start_time": "2022-04-22T10:04:20.678Z"
   },
   {
    "duration": 18,
    "start_time": "2022-04-22T10:04:39.974Z"
   },
   {
    "duration": 13,
    "start_time": "2022-04-22T10:05:05.053Z"
   },
   {
    "duration": 84206,
    "start_time": "2022-04-22T10:11:20.026Z"
   },
   {
    "duration": 13,
    "start_time": "2022-04-22T10:31:15.335Z"
   },
   {
    "duration": 5,
    "start_time": "2022-04-22T10:31:25.775Z"
   },
   {
    "duration": 5,
    "start_time": "2022-04-22T10:31:37.622Z"
   },
   {
    "duration": 17,
    "start_time": "2022-04-22T10:34:33.807Z"
   },
   {
    "duration": 12,
    "start_time": "2022-04-22T10:34:34.878Z"
   },
   {
    "duration": 12,
    "start_time": "2022-04-22T10:49:06.539Z"
   },
   {
    "duration": 29,
    "start_time": "2022-04-22T10:49:07.249Z"
   },
   {
    "duration": 736622,
    "start_time": "2022-04-22T10:49:08.411Z"
   },
   {
    "duration": 0,
    "start_time": "2022-04-22T11:01:25.037Z"
   },
   {
    "duration": 22,
    "start_time": "2022-04-22T11:01:35.367Z"
   },
   {
    "duration": 44,
    "start_time": "2022-04-22T11:01:36.031Z"
   },
   {
    "duration": 359292,
    "start_time": "2022-04-22T11:01:36.818Z"
   },
   {
    "duration": 14,
    "start_time": "2022-04-22T11:08:21.536Z"
   },
   {
    "duration": 82,
    "start_time": "2022-04-22T11:09:21.122Z"
   },
   {
    "duration": 11,
    "start_time": "2022-04-22T11:10:35.242Z"
   },
   {
    "duration": 12,
    "start_time": "2022-04-22T11:10:38.850Z"
   },
   {
    "duration": 3,
    "start_time": "2022-04-22T11:14:56.188Z"
   },
   {
    "duration": 497,
    "start_time": "2022-04-22T11:14:56.787Z"
   },
   {
    "duration": 6,
    "start_time": "2022-04-22T11:15:10.155Z"
   },
   {
    "duration": 4,
    "start_time": "2022-04-22T11:15:10.659Z"
   },
   {
    "duration": 3844,
    "start_time": "2022-04-22T11:15:11.164Z"
   }
  ],
  "kernelspec": {
   "display_name": "Python 3 (ipykernel)",
   "language": "python",
   "name": "python3"
  },
  "language_info": {
   "codemirror_mode": {
    "name": "ipython",
    "version": 3
   },
   "file_extension": ".py",
   "mimetype": "text/x-python",
   "name": "python",
   "nbconvert_exporter": "python",
   "pygments_lexer": "ipython3",
   "version": "3.9.0"
  },
  "toc": {
   "base_numbering": 1,
   "nav_menu": {},
   "number_sections": true,
   "sideBar": true,
   "skip_h1_title": true,
   "title_cell": "Содержание",
   "title_sidebar": "Contents",
   "toc_cell": true,
   "toc_position": {},
   "toc_section_display": true,
   "toc_window_display": false
  }
 },
 "nbformat": 4,
 "nbformat_minor": 2
}
