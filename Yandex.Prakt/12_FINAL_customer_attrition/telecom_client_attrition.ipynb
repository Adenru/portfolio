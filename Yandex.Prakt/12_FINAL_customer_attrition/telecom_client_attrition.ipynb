{
 "cells": [
  {
   "cell_type": "markdown",
   "id": "e59fc226",
   "metadata": {},
   "source": [
    "# Прогноз оттока клиентов"
   ]
  },
  {
   "cell_type": "markdown",
   "id": "61d2b3b0",
   "metadata": {
    "toc": true
   },
   "source": [
    "<h1>Содержание<span class=\"tocSkip\"></span></h1>\n",
    "<div class=\"toc\"><ul class=\"toc-item\"><li><span><a href=\"#Предобработка\" data-toc-modified-id=\"Предобработка-1\"><span class=\"toc-item-num\">1&nbsp;&nbsp;</span>Предобработка</a></span><ul class=\"toc-item\"><li><span><a href=\"#Загрузка-данных\" data-toc-modified-id=\"Загрузка-данных-1.1\"><span class=\"toc-item-num\">1.1&nbsp;&nbsp;</span>Загрузка данных</a></span><ul class=\"toc-item\"><li><span><a href=\"#Информация-о-договоре\" data-toc-modified-id=\"Информация-о-договоре-1.1.1\"><span class=\"toc-item-num\">1.1.1&nbsp;&nbsp;</span>Информация о договоре</a></span></li><li><span><a href=\"#Персональные-данные-клиента\" data-toc-modified-id=\"Персональные-данные-клиента-1.1.2\"><span class=\"toc-item-num\">1.1.2&nbsp;&nbsp;</span>Персональные данные клиента</a></span></li><li><span><a href=\"#Информация-об-интернет-услугах\" data-toc-modified-id=\"Информация-об-интернет-услугах-1.1.3\"><span class=\"toc-item-num\">1.1.3&nbsp;&nbsp;</span>Информация об интернет-услугах</a></span></li><li><span><a href=\"#Информация-об-услугах-телефонии\" data-toc-modified-id=\"Информация-об-услугах-телефонии-1.1.4\"><span class=\"toc-item-num\">1.1.4&nbsp;&nbsp;</span>Информация об услугах телефонии</a></span></li></ul></li><li><span><a href=\"#Объединение-в-одну-таблицу-и-создание-новых-данных\" data-toc-modified-id=\"Объединение-в-одну-таблицу-и-создание-новых-данных-1.2\"><span class=\"toc-item-num\">1.2&nbsp;&nbsp;</span>Объединение в одну таблицу и создание новых данных</a></span></li></ul></li><li><span><a href=\"#Исследовательский-анализ\" data-toc-modified-id=\"Исследовательский-анализ-2\"><span class=\"toc-item-num\">2&nbsp;&nbsp;</span>Исследовательский анализ</a></span><ul class=\"toc-item\"><li><span><a href=\"#Категориальные-данные\" data-toc-modified-id=\"Категориальные-данные-2.1\"><span class=\"toc-item-num\">2.1&nbsp;&nbsp;</span>Категориальные данные</a></span></li><li><span><a href=\"#Непрерывные-данные\" data-toc-modified-id=\"Непрерывные-данные-2.2\"><span class=\"toc-item-num\">2.2&nbsp;&nbsp;</span>Непрерывные данные</a></span></li><li><span><a href=\"#Мультиколлинеарность\" data-toc-modified-id=\"Мультиколлинеарность-2.3\"><span class=\"toc-item-num\">2.3&nbsp;&nbsp;</span>Мультиколлинеарность</a></span></li></ul></li><li><span><a href=\"#Обучение-моделей\" data-toc-modified-id=\"Обучение-моделей-3\"><span class=\"toc-item-num\">3&nbsp;&nbsp;</span>Обучение моделей</a></span><ul class=\"toc-item\"><li><span><a href=\"#Подготовка-данных\" data-toc-modified-id=\"Подготовка-данных-3.1\"><span class=\"toc-item-num\">3.1&nbsp;&nbsp;</span>Подготовка данных</a></span></li><li><span><a href=\"#GradientBoostingClassifier\" data-toc-modified-id=\"GradientBoostingClassifier-3.2\"><span class=\"toc-item-num\">3.2&nbsp;&nbsp;</span>GradientBoostingClassifier</a></span><ul class=\"toc-item\"><li><span><a href=\"#Определение-оптимальных-весов\" data-toc-modified-id=\"Определение-оптимальных-весов-3.2.1\"><span class=\"toc-item-num\">3.2.1&nbsp;&nbsp;</span>Определение оптимальных весов</a></span></li><li><span><a href=\"#Обучение-и-поиск-оптимальных-гиперпараметров\" data-toc-modified-id=\"Обучение-и-поиск-оптимальных-гиперпараметров-3.2.2\"><span class=\"toc-item-num\">3.2.2&nbsp;&nbsp;</span>Обучение и поиск оптимальных гиперпараметров</a></span></li><li><span><a href=\"#Тестирование-модели\" data-toc-modified-id=\"Тестирование-модели-3.2.3\"><span class=\"toc-item-num\">3.2.3&nbsp;&nbsp;</span>Тестирование модели</a></span></li></ul></li><li><span><a href=\"#Логистическая-регрессия\" data-toc-modified-id=\"Логистическая-регрессия-3.3\"><span class=\"toc-item-num\">3.3&nbsp;&nbsp;</span>Логистическая регрессия</a></span><ul class=\"toc-item\"><li><span><a href=\"#Определение-оптимальных-весов\" data-toc-modified-id=\"Определение-оптимальных-весов-3.3.1\"><span class=\"toc-item-num\">3.3.1&nbsp;&nbsp;</span>Определение оптимальных весов</a></span></li><li><span><a href=\"#Обучение-и-поиск-оптимальных-гиперпараметров\" data-toc-modified-id=\"Обучение-и-поиск-оптимальных-гиперпараметров-3.3.2\"><span class=\"toc-item-num\">3.3.2&nbsp;&nbsp;</span>Обучение и поиск оптимальных гиперпараметров</a></span></li><li><span><a href=\"#Тестирование-модели\" data-toc-modified-id=\"Тестирование-модели-3.3.3\"><span class=\"toc-item-num\">3.3.3&nbsp;&nbsp;</span>Тестирование модели</a></span></li></ul></li><li><span><a href=\"#CatBoost\" data-toc-modified-id=\"CatBoost-3.4\"><span class=\"toc-item-num\">3.4&nbsp;&nbsp;</span>CatBoost</a></span><ul class=\"toc-item\"><li><span><a href=\"#Обучение\" data-toc-modified-id=\"Обучение-3.4.1\"><span class=\"toc-item-num\">3.4.1&nbsp;&nbsp;</span>Обучение</a></span></li><li><span><a href=\"#Тестирование\" data-toc-modified-id=\"Тестирование-3.4.2\"><span class=\"toc-item-num\">3.4.2&nbsp;&nbsp;</span>Тестирование</a></span></li></ul></li><li><span><a href=\"#Комбинированная-модель\" data-toc-modified-id=\"Комбинированная-модель-3.5\"><span class=\"toc-item-num\">3.5&nbsp;&nbsp;</span>Комбинированная модель</a></span><ul class=\"toc-item\"><li><span><a href=\"#Обучение-и-подбор-параметров\" data-toc-modified-id=\"Обучение-и-подбор-параметров-3.5.1\"><span class=\"toc-item-num\">3.5.1&nbsp;&nbsp;</span>Обучение и подбор параметров</a></span></li><li><span><a href=\"#Тестирование-модели\" data-toc-modified-id=\"Тестирование-модели-3.5.2\"><span class=\"toc-item-num\">3.5.2&nbsp;&nbsp;</span>Тестирование модели</a></span></li></ul></li><li><span><a href=\"#Адекватность-модели\" data-toc-modified-id=\"Адекватность-модели-3.6\"><span class=\"toc-item-num\">3.6&nbsp;&nbsp;</span>Адекватность модели</a></span></li><li><span><a href=\"#Значимость-признаков\" data-toc-modified-id=\"Значимость-признаков-3.7\"><span class=\"toc-item-num\">3.7&nbsp;&nbsp;</span>Значимость признаков</a></span></li></ul></li><li><span><a href=\"#Отчёт\" data-toc-modified-id=\"Отчёт-4\"><span class=\"toc-item-num\">4&nbsp;&nbsp;</span>Отчёт</a></span></li></ul></div>"
   ]
  },
  {
   "cell_type": "code",
   "execution_count": 1,
   "id": "b88c8082",
   "metadata": {},
   "outputs": [],
   "source": [
    "import pandas as pd\n",
    "import matplotlib.pyplot as plt\n",
    "import seaborn as sns\n",
    "import numpy as np\n",
    "\n",
    "from sklearn.ensemble import GradientBoostingClassifier, RandomForestClassifier\n",
    "from sklearn.tree import DecisionTreeClassifier\n",
    "from sklearn.linear_model import LogisticRegression\n",
    "from sklearn.dummy import DummyClassifier\n",
    "from catboost import CatBoostClassifier\n",
    "\n",
    "from sklearn.preprocessing import StandardScaler#, OneHotEncoder\n",
    "from sklearn.pipeline import Pipeline\n",
    "#from sklearn.compose import ColumnTransformer\n",
    "\n",
    "from sklearn.metrics import accuracy_score, roc_auc_score\n",
    "\n",
    "from sklearn.model_selection import train_test_split, cross_val_predict, GridSearchCV#, PredefinedSplit\n",
    "\n",
    "#from IPython.display import clear_output\n",
    "from sklearn import tree"
   ]
  },
  {
   "cell_type": "markdown",
   "id": "384bb73b",
   "metadata": {},
   "source": [
    "## Предобработка"
   ]
  },
  {
   "cell_type": "markdown",
   "id": "981abf37",
   "metadata": {},
   "source": [
    "### Загрузка данных"
   ]
  },
  {
   "cell_type": "code",
   "execution_count": 2,
   "id": "0e640ace",
   "metadata": {},
   "outputs": [],
   "source": [
    "#df_contract = pd.read_csv('final_provider/contract.csv', parse_dates=['BeginDate'])\n",
    "#df_internet = pd.read_csv('final_provider/internet.csv')\n",
    "#df_personal = pd.read_csv('final_provider/personal.csv')\n",
    "#df_phone = pd.read_csv('final_provider/phone.csv')"
   ]
  },
  {
   "cell_type": "code",
   "execution_count": 3,
   "id": "83735d09",
   "metadata": {},
   "outputs": [],
   "source": [
    "df_contract = pd.read_csv('/datasets/final_provider/contract.csv', parse_dates=['BeginDate'])\n",
    "df_internet = pd.read_csv('/datasets/final_provider/internet.csv')\n",
    "df_personal = pd.read_csv('/datasets/final_provider/personal.csv')\n",
    "df_phone = pd.read_csv('/datasets/final_provider/phone.csv')"
   ]
  },
  {
   "cell_type": "markdown",
   "id": "78b413c9",
   "metadata": {},
   "source": [
    "#### Информация о договоре"
   ]
  },
  {
   "cell_type": "code",
   "execution_count": 4,
   "id": "fc96c340",
   "metadata": {},
   "outputs": [
    {
     "data": {
      "text/html": [
       "<div>\n",
       "<style scoped>\n",
       "    .dataframe tbody tr th:only-of-type {\n",
       "        vertical-align: middle;\n",
       "    }\n",
       "\n",
       "    .dataframe tbody tr th {\n",
       "        vertical-align: top;\n",
       "    }\n",
       "\n",
       "    .dataframe thead th {\n",
       "        text-align: right;\n",
       "    }\n",
       "</style>\n",
       "<table border=\"1\" class=\"dataframe\">\n",
       "  <thead>\n",
       "    <tr style=\"text-align: right;\">\n",
       "      <th></th>\n",
       "      <th>customerID</th>\n",
       "      <th>BeginDate</th>\n",
       "      <th>EndDate</th>\n",
       "      <th>Type</th>\n",
       "      <th>PaperlessBilling</th>\n",
       "      <th>PaymentMethod</th>\n",
       "      <th>MonthlyCharges</th>\n",
       "      <th>TotalCharges</th>\n",
       "    </tr>\n",
       "  </thead>\n",
       "  <tbody>\n",
       "    <tr>\n",
       "      <th>0</th>\n",
       "      <td>7590-VHVEG</td>\n",
       "      <td>2020-01-01</td>\n",
       "      <td>No</td>\n",
       "      <td>Month-to-month</td>\n",
       "      <td>Yes</td>\n",
       "      <td>Electronic check</td>\n",
       "      <td>29.85</td>\n",
       "      <td>29.85</td>\n",
       "    </tr>\n",
       "    <tr>\n",
       "      <th>1</th>\n",
       "      <td>5575-GNVDE</td>\n",
       "      <td>2017-04-01</td>\n",
       "      <td>No</td>\n",
       "      <td>One year</td>\n",
       "      <td>No</td>\n",
       "      <td>Mailed check</td>\n",
       "      <td>56.95</td>\n",
       "      <td>1889.5</td>\n",
       "    </tr>\n",
       "    <tr>\n",
       "      <th>2</th>\n",
       "      <td>3668-QPYBK</td>\n",
       "      <td>2019-10-01</td>\n",
       "      <td>2019-12-01 00:00:00</td>\n",
       "      <td>Month-to-month</td>\n",
       "      <td>Yes</td>\n",
       "      <td>Mailed check</td>\n",
       "      <td>53.85</td>\n",
       "      <td>108.15</td>\n",
       "    </tr>\n",
       "    <tr>\n",
       "      <th>3</th>\n",
       "      <td>7795-CFOCW</td>\n",
       "      <td>2016-05-01</td>\n",
       "      <td>No</td>\n",
       "      <td>One year</td>\n",
       "      <td>No</td>\n",
       "      <td>Bank transfer (automatic)</td>\n",
       "      <td>42.30</td>\n",
       "      <td>1840.75</td>\n",
       "    </tr>\n",
       "    <tr>\n",
       "      <th>4</th>\n",
       "      <td>9237-HQITU</td>\n",
       "      <td>2019-09-01</td>\n",
       "      <td>2019-11-01 00:00:00</td>\n",
       "      <td>Month-to-month</td>\n",
       "      <td>Yes</td>\n",
       "      <td>Electronic check</td>\n",
       "      <td>70.70</td>\n",
       "      <td>151.65</td>\n",
       "    </tr>\n",
       "  </tbody>\n",
       "</table>\n",
       "</div>"
      ],
      "text/plain": [
       "   customerID  BeginDate              EndDate            Type  \\\n",
       "0  7590-VHVEG 2020-01-01                   No  Month-to-month   \n",
       "1  5575-GNVDE 2017-04-01                   No        One year   \n",
       "2  3668-QPYBK 2019-10-01  2019-12-01 00:00:00  Month-to-month   \n",
       "3  7795-CFOCW 2016-05-01                   No        One year   \n",
       "4  9237-HQITU 2019-09-01  2019-11-01 00:00:00  Month-to-month   \n",
       "\n",
       "  PaperlessBilling              PaymentMethod  MonthlyCharges TotalCharges  \n",
       "0              Yes           Electronic check           29.85        29.85  \n",
       "1               No               Mailed check           56.95       1889.5  \n",
       "2              Yes               Mailed check           53.85       108.15  \n",
       "3               No  Bank transfer (automatic)           42.30      1840.75  \n",
       "4              Yes           Electronic check           70.70       151.65  "
      ]
     },
     "execution_count": 4,
     "metadata": {},
     "output_type": "execute_result"
    }
   ],
   "source": [
    "df_contract.head()"
   ]
  },
  {
   "cell_type": "markdown",
   "id": "179d2c4e",
   "metadata": {},
   "source": [
    "В одной колонке записана дата выхода и её отсутствие. Наличие даты или её отсутствия — это и есть целевой показатель."
   ]
  },
  {
   "cell_type": "code",
   "execution_count": 5,
   "id": "28d3a54c",
   "metadata": {},
   "outputs": [],
   "source": [
    "df_contract.columns = ['customer_id', 'begin_date', 'end_date', 'type', 'paperless_billing',\n",
    "       'payment_method', 'monthly_charges', 'total_charges']"
   ]
  },
  {
   "cell_type": "code",
   "execution_count": 6,
   "id": "180eeffb",
   "metadata": {},
   "outputs": [],
   "source": [
    "df_contract['left'] = df_contract['end_date'] != 'No'\n",
    "df_contract['end_date'] = pd.to_datetime(df_contract['end_date'], errors='coerce')"
   ]
  },
  {
   "cell_type": "code",
   "execution_count": 7,
   "id": "0e695dc5",
   "metadata": {},
   "outputs": [
    {
     "data": {
      "text/plain": [
       "0.2653698707936959"
      ]
     },
     "execution_count": 7,
     "metadata": {},
     "output_type": "execute_result"
    }
   ],
   "source": [
    "df_contract['left'].mean()"
   ]
  },
  {
   "cell_type": "markdown",
   "id": "7bdd1810",
   "metadata": {},
   "source": [
    "В выборке четверть ушедших клиентов."
   ]
  },
  {
   "cell_type": "code",
   "execution_count": 8,
   "id": "f817a15d",
   "metadata": {},
   "outputs": [
    {
     "name": "stdout",
     "output_type": "stream",
     "text": [
      "<class 'pandas.core.frame.DataFrame'>\n",
      "RangeIndex: 7043 entries, 0 to 7042\n",
      "Data columns (total 9 columns):\n",
      " #   Column             Non-Null Count  Dtype         \n",
      "---  ------             --------------  -----         \n",
      " 0   customer_id        7043 non-null   object        \n",
      " 1   begin_date         7043 non-null   datetime64[ns]\n",
      " 2   end_date           1869 non-null   datetime64[ns]\n",
      " 3   type               7043 non-null   object        \n",
      " 4   paperless_billing  7043 non-null   object        \n",
      " 5   payment_method     7043 non-null   object        \n",
      " 6   monthly_charges    7043 non-null   float64       \n",
      " 7   total_charges      7043 non-null   object        \n",
      " 8   left               7043 non-null   bool          \n",
      "dtypes: bool(1), datetime64[ns](2), float64(1), object(5)\n",
      "memory usage: 447.2+ KB\n"
     ]
    }
   ],
   "source": [
    "df_contract.info()"
   ]
  },
  {
   "cell_type": "markdown",
   "id": "2fb2179e",
   "metadata": {},
   "source": [
    "По какой-то причине total_charges имеет тип данных object, должно быть, где-то есть пропуски, которые заполнены не как пропуски."
   ]
  },
  {
   "cell_type": "code",
   "execution_count": 9,
   "id": "d6f42c2b",
   "metadata": {},
   "outputs": [
    {
     "data": {
      "text/plain": [
       "20.2       11\n",
       "           11\n",
       "19.75       9\n",
       "20.05       8\n",
       "19.9        8\n",
       "           ..\n",
       "1520.1      1\n",
       "5639.05     1\n",
       "784.45      1\n",
       "1359        1\n",
       "2211.8      1\n",
       "Name: total_charges, Length: 6531, dtype: int64"
      ]
     },
     "execution_count": 9,
     "metadata": {},
     "output_type": "execute_result"
    }
   ],
   "source": [
    "df_contract['total_charges'].value_counts()"
   ]
  },
  {
   "cell_type": "markdown",
   "id": "9307d2a2",
   "metadata": {},
   "source": [
    "Одиннадцать значений с пустым местом. Посмотрим на эти строки."
   ]
  },
  {
   "cell_type": "code",
   "execution_count": 10,
   "id": "5ffb9042",
   "metadata": {
    "scrolled": true
   },
   "outputs": [
    {
     "data": {
      "text/html": [
       "<div>\n",
       "<style scoped>\n",
       "    .dataframe tbody tr th:only-of-type {\n",
       "        vertical-align: middle;\n",
       "    }\n",
       "\n",
       "    .dataframe tbody tr th {\n",
       "        vertical-align: top;\n",
       "    }\n",
       "\n",
       "    .dataframe thead th {\n",
       "        text-align: right;\n",
       "    }\n",
       "</style>\n",
       "<table border=\"1\" class=\"dataframe\">\n",
       "  <thead>\n",
       "    <tr style=\"text-align: right;\">\n",
       "      <th></th>\n",
       "      <th>customer_id</th>\n",
       "      <th>begin_date</th>\n",
       "      <th>end_date</th>\n",
       "      <th>type</th>\n",
       "      <th>paperless_billing</th>\n",
       "      <th>payment_method</th>\n",
       "      <th>monthly_charges</th>\n",
       "      <th>total_charges</th>\n",
       "      <th>left</th>\n",
       "    </tr>\n",
       "  </thead>\n",
       "  <tbody>\n",
       "    <tr>\n",
       "      <th>488</th>\n",
       "      <td>4472-LVYGI</td>\n",
       "      <td>2020-02-01</td>\n",
       "      <td>NaT</td>\n",
       "      <td>Two year</td>\n",
       "      <td>Yes</td>\n",
       "      <td>Bank transfer (automatic)</td>\n",
       "      <td>52.55</td>\n",
       "      <td></td>\n",
       "      <td>False</td>\n",
       "    </tr>\n",
       "    <tr>\n",
       "      <th>753</th>\n",
       "      <td>3115-CZMZD</td>\n",
       "      <td>2020-02-01</td>\n",
       "      <td>NaT</td>\n",
       "      <td>Two year</td>\n",
       "      <td>No</td>\n",
       "      <td>Mailed check</td>\n",
       "      <td>20.25</td>\n",
       "      <td></td>\n",
       "      <td>False</td>\n",
       "    </tr>\n",
       "    <tr>\n",
       "      <th>936</th>\n",
       "      <td>5709-LVOEQ</td>\n",
       "      <td>2020-02-01</td>\n",
       "      <td>NaT</td>\n",
       "      <td>Two year</td>\n",
       "      <td>No</td>\n",
       "      <td>Mailed check</td>\n",
       "      <td>80.85</td>\n",
       "      <td></td>\n",
       "      <td>False</td>\n",
       "    </tr>\n",
       "    <tr>\n",
       "      <th>1082</th>\n",
       "      <td>4367-NUYAO</td>\n",
       "      <td>2020-02-01</td>\n",
       "      <td>NaT</td>\n",
       "      <td>Two year</td>\n",
       "      <td>No</td>\n",
       "      <td>Mailed check</td>\n",
       "      <td>25.75</td>\n",
       "      <td></td>\n",
       "      <td>False</td>\n",
       "    </tr>\n",
       "    <tr>\n",
       "      <th>1340</th>\n",
       "      <td>1371-DWPAZ</td>\n",
       "      <td>2020-02-01</td>\n",
       "      <td>NaT</td>\n",
       "      <td>Two year</td>\n",
       "      <td>No</td>\n",
       "      <td>Credit card (automatic)</td>\n",
       "      <td>56.05</td>\n",
       "      <td></td>\n",
       "      <td>False</td>\n",
       "    </tr>\n",
       "    <tr>\n",
       "      <th>3331</th>\n",
       "      <td>7644-OMVMY</td>\n",
       "      <td>2020-02-01</td>\n",
       "      <td>NaT</td>\n",
       "      <td>Two year</td>\n",
       "      <td>No</td>\n",
       "      <td>Mailed check</td>\n",
       "      <td>19.85</td>\n",
       "      <td></td>\n",
       "      <td>False</td>\n",
       "    </tr>\n",
       "    <tr>\n",
       "      <th>3826</th>\n",
       "      <td>3213-VVOLG</td>\n",
       "      <td>2020-02-01</td>\n",
       "      <td>NaT</td>\n",
       "      <td>Two year</td>\n",
       "      <td>No</td>\n",
       "      <td>Mailed check</td>\n",
       "      <td>25.35</td>\n",
       "      <td></td>\n",
       "      <td>False</td>\n",
       "    </tr>\n",
       "    <tr>\n",
       "      <th>4380</th>\n",
       "      <td>2520-SGTTA</td>\n",
       "      <td>2020-02-01</td>\n",
       "      <td>NaT</td>\n",
       "      <td>Two year</td>\n",
       "      <td>No</td>\n",
       "      <td>Mailed check</td>\n",
       "      <td>20.00</td>\n",
       "      <td></td>\n",
       "      <td>False</td>\n",
       "    </tr>\n",
       "    <tr>\n",
       "      <th>5218</th>\n",
       "      <td>2923-ARZLG</td>\n",
       "      <td>2020-02-01</td>\n",
       "      <td>NaT</td>\n",
       "      <td>One year</td>\n",
       "      <td>Yes</td>\n",
       "      <td>Mailed check</td>\n",
       "      <td>19.70</td>\n",
       "      <td></td>\n",
       "      <td>False</td>\n",
       "    </tr>\n",
       "    <tr>\n",
       "      <th>6670</th>\n",
       "      <td>4075-WKNIU</td>\n",
       "      <td>2020-02-01</td>\n",
       "      <td>NaT</td>\n",
       "      <td>Two year</td>\n",
       "      <td>No</td>\n",
       "      <td>Mailed check</td>\n",
       "      <td>73.35</td>\n",
       "      <td></td>\n",
       "      <td>False</td>\n",
       "    </tr>\n",
       "    <tr>\n",
       "      <th>6754</th>\n",
       "      <td>2775-SEFEE</td>\n",
       "      <td>2020-02-01</td>\n",
       "      <td>NaT</td>\n",
       "      <td>Two year</td>\n",
       "      <td>Yes</td>\n",
       "      <td>Bank transfer (automatic)</td>\n",
       "      <td>61.90</td>\n",
       "      <td></td>\n",
       "      <td>False</td>\n",
       "    </tr>\n",
       "  </tbody>\n",
       "</table>\n",
       "</div>"
      ],
      "text/plain": [
       "     customer_id begin_date end_date      type paperless_billing  \\\n",
       "488   4472-LVYGI 2020-02-01      NaT  Two year               Yes   \n",
       "753   3115-CZMZD 2020-02-01      NaT  Two year                No   \n",
       "936   5709-LVOEQ 2020-02-01      NaT  Two year                No   \n",
       "1082  4367-NUYAO 2020-02-01      NaT  Two year                No   \n",
       "1340  1371-DWPAZ 2020-02-01      NaT  Two year                No   \n",
       "3331  7644-OMVMY 2020-02-01      NaT  Two year                No   \n",
       "3826  3213-VVOLG 2020-02-01      NaT  Two year                No   \n",
       "4380  2520-SGTTA 2020-02-01      NaT  Two year                No   \n",
       "5218  2923-ARZLG 2020-02-01      NaT  One year               Yes   \n",
       "6670  4075-WKNIU 2020-02-01      NaT  Two year                No   \n",
       "6754  2775-SEFEE 2020-02-01      NaT  Two year               Yes   \n",
       "\n",
       "                 payment_method  monthly_charges total_charges   left  \n",
       "488   Bank transfer (automatic)            52.55                False  \n",
       "753                Mailed check            20.25                False  \n",
       "936                Mailed check            80.85                False  \n",
       "1082               Mailed check            25.75                False  \n",
       "1340    Credit card (automatic)            56.05                False  \n",
       "3331               Mailed check            19.85                False  \n",
       "3826               Mailed check            25.35                False  \n",
       "4380               Mailed check            20.00                False  \n",
       "5218               Mailed check            19.70                False  \n",
       "6670               Mailed check            73.35                False  \n",
       "6754  Bank transfer (automatic)            61.90                False  "
      ]
     },
     "execution_count": 10,
     "metadata": {},
     "output_type": "execute_result"
    }
   ],
   "source": [
    "df_contract[df_contract['total_charges'] == ' ']"
   ]
  },
  {
   "cell_type": "markdown",
   "id": "8efc71a4",
   "metadata": {},
   "source": [
    "Все подключились в феврале 2020, должно быть, это актуальная дата."
   ]
  },
  {
   "cell_type": "code",
   "execution_count": 11,
   "id": "d40b4256",
   "metadata": {},
   "outputs": [],
   "source": [
    "#df_contract = df_contract.drop(df_contract[df_contract['total_charges'] == ' '].index).reset_index(drop=True)\n",
    "df_contract['total_charges'] = df_contract['total_charges'].replace(' ', 0)"
   ]
  },
  {
   "cell_type": "code",
   "execution_count": 12,
   "id": "60fe20ff",
   "metadata": {},
   "outputs": [],
   "source": [
    "df_contract['total_charges'] = df_contract['total_charges'].astype('float')"
   ]
  },
  {
   "cell_type": "code",
   "execution_count": 13,
   "id": "4dbf9935",
   "metadata": {},
   "outputs": [
    {
     "name": "stdout",
     "output_type": "stream",
     "text": [
      "Month-to-month    3875\n",
      "Two year          1695\n",
      "One year          1473\n",
      "Name: type, dtype: int64 \n",
      "\n",
      "Yes    4171\n",
      "No     2872\n",
      "Name: paperless_billing, dtype: int64 \n",
      "\n",
      "Electronic check             2365\n",
      "Mailed check                 1612\n",
      "Bank transfer (automatic)    1544\n",
      "Credit card (automatic)      1522\n",
      "Name: payment_method, dtype: int64 \n",
      "\n"
     ]
    }
   ],
   "source": [
    "for column in ['type', 'paperless_billing','payment_method']:\n",
    "    print(df_contract[column].value_counts(), '\\n')"
   ]
  },
  {
   "cell_type": "code",
   "execution_count": 14,
   "id": "44259359",
   "metadata": {},
   "outputs": [],
   "source": [
    "#df_contract['paperless_billing'] = df_contract['paperless_billing'] == 'Yes'"
   ]
  },
  {
   "cell_type": "code",
   "execution_count": 15,
   "id": "940e5f15",
   "metadata": {},
   "outputs": [
    {
     "name": "stdout",
     "output_type": "stream",
     "text": [
      "<class 'pandas.core.frame.DataFrame'>\n",
      "RangeIndex: 7043 entries, 0 to 7042\n",
      "Data columns (total 9 columns):\n",
      " #   Column             Non-Null Count  Dtype         \n",
      "---  ------             --------------  -----         \n",
      " 0   customer_id        7043 non-null   object        \n",
      " 1   begin_date         7043 non-null   datetime64[ns]\n",
      " 2   end_date           1869 non-null   datetime64[ns]\n",
      " 3   type               7043 non-null   object        \n",
      " 4   paperless_billing  7043 non-null   object        \n",
      " 5   payment_method     7043 non-null   object        \n",
      " 6   monthly_charges    7043 non-null   float64       \n",
      " 7   total_charges      7043 non-null   float64       \n",
      " 8   left               7043 non-null   bool          \n",
      "dtypes: bool(1), datetime64[ns](2), float64(2), object(4)\n",
      "memory usage: 447.2+ KB\n"
     ]
    }
   ],
   "source": [
    "df_contract.info()"
   ]
  },
  {
   "cell_type": "code",
   "execution_count": 16,
   "id": "c57ed80a",
   "metadata": {},
   "outputs": [
    {
     "name": "stdout",
     "output_type": "stream",
     "text": [
      "count    7043.000000\n",
      "mean       64.761692\n",
      "std        30.090047\n",
      "min        18.250000\n",
      "25%        35.500000\n",
      "50%        70.350000\n",
      "75%        89.850000\n",
      "max       118.750000\n",
      "Name: monthly_charges, dtype: float64 \n",
      "\n",
      "count    7043.000000\n",
      "mean     2279.734304\n",
      "std      2266.794470\n",
      "min         0.000000\n",
      "25%       398.550000\n",
      "50%      1394.550000\n",
      "75%      3786.600000\n",
      "max      8684.800000\n",
      "Name: total_charges, dtype: float64 \n",
      "\n"
     ]
    }
   ],
   "source": [
    "for column in ['monthly_charges', 'total_charges']:\n",
    "    print(df_contract[column].describe(), '\\n')"
   ]
  },
  {
   "cell_type": "code",
   "execution_count": 17,
   "id": "739e0955",
   "metadata": {},
   "outputs": [
    {
     "name": "stdout",
     "output_type": "stream",
     "text": [
      "begin_date 2013-10-01 00:00:00 2020-02-01 00:00:00\n",
      "end_date 2019-10-01 00:00:00 2020-01-01 00:00:00\n"
     ]
    }
   ],
   "source": [
    "for column in ['begin_date', 'end_date']:\n",
    "    print(column, df_contract[column].min(), df_contract[column].max())"
   ]
  },
  {
   "cell_type": "markdown",
   "id": "0ceb8451",
   "metadata": {},
   "source": [
    "Очень интересно, что клиенты в выборке начали уходить только осенью 2019-го года.<br>Выбросов не обнаружено."
   ]
  },
  {
   "cell_type": "markdown",
   "id": "dbbf0e52",
   "metadata": {},
   "source": [
    "#### Персональные данные клиента"
   ]
  },
  {
   "cell_type": "code",
   "execution_count": 18,
   "id": "e2e878e9",
   "metadata": {},
   "outputs": [
    {
     "data": {
      "text/html": [
       "<div>\n",
       "<style scoped>\n",
       "    .dataframe tbody tr th:only-of-type {\n",
       "        vertical-align: middle;\n",
       "    }\n",
       "\n",
       "    .dataframe tbody tr th {\n",
       "        vertical-align: top;\n",
       "    }\n",
       "\n",
       "    .dataframe thead th {\n",
       "        text-align: right;\n",
       "    }\n",
       "</style>\n",
       "<table border=\"1\" class=\"dataframe\">\n",
       "  <thead>\n",
       "    <tr style=\"text-align: right;\">\n",
       "      <th></th>\n",
       "      <th>customerID</th>\n",
       "      <th>gender</th>\n",
       "      <th>SeniorCitizen</th>\n",
       "      <th>Partner</th>\n",
       "      <th>Dependents</th>\n",
       "    </tr>\n",
       "  </thead>\n",
       "  <tbody>\n",
       "    <tr>\n",
       "      <th>0</th>\n",
       "      <td>7590-VHVEG</td>\n",
       "      <td>Female</td>\n",
       "      <td>0</td>\n",
       "      <td>Yes</td>\n",
       "      <td>No</td>\n",
       "    </tr>\n",
       "    <tr>\n",
       "      <th>1</th>\n",
       "      <td>5575-GNVDE</td>\n",
       "      <td>Male</td>\n",
       "      <td>0</td>\n",
       "      <td>No</td>\n",
       "      <td>No</td>\n",
       "    </tr>\n",
       "    <tr>\n",
       "      <th>2</th>\n",
       "      <td>3668-QPYBK</td>\n",
       "      <td>Male</td>\n",
       "      <td>0</td>\n",
       "      <td>No</td>\n",
       "      <td>No</td>\n",
       "    </tr>\n",
       "    <tr>\n",
       "      <th>3</th>\n",
       "      <td>7795-CFOCW</td>\n",
       "      <td>Male</td>\n",
       "      <td>0</td>\n",
       "      <td>No</td>\n",
       "      <td>No</td>\n",
       "    </tr>\n",
       "    <tr>\n",
       "      <th>4</th>\n",
       "      <td>9237-HQITU</td>\n",
       "      <td>Female</td>\n",
       "      <td>0</td>\n",
       "      <td>No</td>\n",
       "      <td>No</td>\n",
       "    </tr>\n",
       "  </tbody>\n",
       "</table>\n",
       "</div>"
      ],
      "text/plain": [
       "   customerID  gender  SeniorCitizen Partner Dependents\n",
       "0  7590-VHVEG  Female              0     Yes         No\n",
       "1  5575-GNVDE    Male              0      No         No\n",
       "2  3668-QPYBK    Male              0      No         No\n",
       "3  7795-CFOCW    Male              0      No         No\n",
       "4  9237-HQITU  Female              0      No         No"
      ]
     },
     "execution_count": 18,
     "metadata": {},
     "output_type": "execute_result"
    }
   ],
   "source": [
    "df_personal.head()"
   ]
  },
  {
   "cell_type": "code",
   "execution_count": 19,
   "id": "77929d32",
   "metadata": {},
   "outputs": [],
   "source": [
    "df_personal.columns = ['customer_id', 'gender', 'senior_citizen', 'partner', 'dependents']"
   ]
  },
  {
   "cell_type": "code",
   "execution_count": 20,
   "id": "b7914912",
   "metadata": {},
   "outputs": [
    {
     "name": "stdout",
     "output_type": "stream",
     "text": [
      "<class 'pandas.core.frame.DataFrame'>\n",
      "RangeIndex: 7043 entries, 0 to 7042\n",
      "Data columns (total 5 columns):\n",
      " #   Column          Non-Null Count  Dtype \n",
      "---  ------          --------------  ----- \n",
      " 0   customer_id     7043 non-null   object\n",
      " 1   gender          7043 non-null   object\n",
      " 2   senior_citizen  7043 non-null   int64 \n",
      " 3   partner         7043 non-null   object\n",
      " 4   dependents      7043 non-null   object\n",
      "dtypes: int64(1), object(4)\n",
      "memory usage: 275.2+ KB\n"
     ]
    }
   ],
   "source": [
    "df_personal.info()"
   ]
  },
  {
   "cell_type": "code",
   "execution_count": 21,
   "id": "16bfa8c9",
   "metadata": {},
   "outputs": [
    {
     "name": "stdout",
     "output_type": "stream",
     "text": [
      "Male      3555\n",
      "Female    3488\n",
      "Name: gender, dtype: int64 \n",
      "\n",
      "0    5901\n",
      "1    1142\n",
      "Name: senior_citizen, dtype: int64 \n",
      "\n",
      "No     3641\n",
      "Yes    3402\n",
      "Name: partner, dtype: int64 \n",
      "\n",
      "No     4933\n",
      "Yes    2110\n",
      "Name: dependents, dtype: int64 \n",
      "\n"
     ]
    }
   ],
   "source": [
    "for column in ['gender', 'senior_citizen', 'partner', 'dependents']:\n",
    "    print(df_personal[column].value_counts(), '\\n')"
   ]
  },
  {
   "cell_type": "markdown",
   "id": "58cebd22",
   "metadata": {},
   "source": [
    "#### Информация об интернет-услугах"
   ]
  },
  {
   "cell_type": "code",
   "execution_count": 22,
   "id": "168226ca",
   "metadata": {},
   "outputs": [
    {
     "data": {
      "text/html": [
       "<div>\n",
       "<style scoped>\n",
       "    .dataframe tbody tr th:only-of-type {\n",
       "        vertical-align: middle;\n",
       "    }\n",
       "\n",
       "    .dataframe tbody tr th {\n",
       "        vertical-align: top;\n",
       "    }\n",
       "\n",
       "    .dataframe thead th {\n",
       "        text-align: right;\n",
       "    }\n",
       "</style>\n",
       "<table border=\"1\" class=\"dataframe\">\n",
       "  <thead>\n",
       "    <tr style=\"text-align: right;\">\n",
       "      <th></th>\n",
       "      <th>customerID</th>\n",
       "      <th>InternetService</th>\n",
       "      <th>OnlineSecurity</th>\n",
       "      <th>OnlineBackup</th>\n",
       "      <th>DeviceProtection</th>\n",
       "      <th>TechSupport</th>\n",
       "      <th>StreamingTV</th>\n",
       "      <th>StreamingMovies</th>\n",
       "    </tr>\n",
       "  </thead>\n",
       "  <tbody>\n",
       "    <tr>\n",
       "      <th>0</th>\n",
       "      <td>7590-VHVEG</td>\n",
       "      <td>DSL</td>\n",
       "      <td>No</td>\n",
       "      <td>Yes</td>\n",
       "      <td>No</td>\n",
       "      <td>No</td>\n",
       "      <td>No</td>\n",
       "      <td>No</td>\n",
       "    </tr>\n",
       "    <tr>\n",
       "      <th>1</th>\n",
       "      <td>5575-GNVDE</td>\n",
       "      <td>DSL</td>\n",
       "      <td>Yes</td>\n",
       "      <td>No</td>\n",
       "      <td>Yes</td>\n",
       "      <td>No</td>\n",
       "      <td>No</td>\n",
       "      <td>No</td>\n",
       "    </tr>\n",
       "    <tr>\n",
       "      <th>2</th>\n",
       "      <td>3668-QPYBK</td>\n",
       "      <td>DSL</td>\n",
       "      <td>Yes</td>\n",
       "      <td>Yes</td>\n",
       "      <td>No</td>\n",
       "      <td>No</td>\n",
       "      <td>No</td>\n",
       "      <td>No</td>\n",
       "    </tr>\n",
       "    <tr>\n",
       "      <th>3</th>\n",
       "      <td>7795-CFOCW</td>\n",
       "      <td>DSL</td>\n",
       "      <td>Yes</td>\n",
       "      <td>No</td>\n",
       "      <td>Yes</td>\n",
       "      <td>Yes</td>\n",
       "      <td>No</td>\n",
       "      <td>No</td>\n",
       "    </tr>\n",
       "    <tr>\n",
       "      <th>4</th>\n",
       "      <td>9237-HQITU</td>\n",
       "      <td>Fiber optic</td>\n",
       "      <td>No</td>\n",
       "      <td>No</td>\n",
       "      <td>No</td>\n",
       "      <td>No</td>\n",
       "      <td>No</td>\n",
       "      <td>No</td>\n",
       "    </tr>\n",
       "  </tbody>\n",
       "</table>\n",
       "</div>"
      ],
      "text/plain": [
       "   customerID InternetService OnlineSecurity OnlineBackup DeviceProtection  \\\n",
       "0  7590-VHVEG             DSL             No          Yes               No   \n",
       "1  5575-GNVDE             DSL            Yes           No              Yes   \n",
       "2  3668-QPYBK             DSL            Yes          Yes               No   \n",
       "3  7795-CFOCW             DSL            Yes           No              Yes   \n",
       "4  9237-HQITU     Fiber optic             No           No               No   \n",
       "\n",
       "  TechSupport StreamingTV StreamingMovies  \n",
       "0          No          No              No  \n",
       "1          No          No              No  \n",
       "2          No          No              No  \n",
       "3         Yes          No              No  \n",
       "4          No          No              No  "
      ]
     },
     "execution_count": 22,
     "metadata": {},
     "output_type": "execute_result"
    }
   ],
   "source": [
    "df_internet.head()"
   ]
  },
  {
   "cell_type": "code",
   "execution_count": 23,
   "id": "b14bd839",
   "metadata": {},
   "outputs": [],
   "source": [
    "df_internet.columns = ['customer_id', 'internet_service', 'online_security', 'online_backup',\n",
    "       'device_protection', 'tech_support', 'streaming_tv', 'streaming_movies']"
   ]
  },
  {
   "cell_type": "code",
   "execution_count": 24,
   "id": "f665db18",
   "metadata": {},
   "outputs": [
    {
     "name": "stdout",
     "output_type": "stream",
     "text": [
      "<class 'pandas.core.frame.DataFrame'>\n",
      "RangeIndex: 5517 entries, 0 to 5516\n",
      "Data columns (total 8 columns):\n",
      " #   Column             Non-Null Count  Dtype \n",
      "---  ------             --------------  ----- \n",
      " 0   customer_id        5517 non-null   object\n",
      " 1   internet_service   5517 non-null   object\n",
      " 2   online_security    5517 non-null   object\n",
      " 3   online_backup      5517 non-null   object\n",
      " 4   device_protection  5517 non-null   object\n",
      " 5   tech_support       5517 non-null   object\n",
      " 6   streaming_tv       5517 non-null   object\n",
      " 7   streaming_movies   5517 non-null   object\n",
      "dtypes: object(8)\n",
      "memory usage: 344.9+ KB\n"
     ]
    }
   ],
   "source": [
    "df_internet.info()"
   ]
  },
  {
   "cell_type": "code",
   "execution_count": 25,
   "id": "8cabf7e3",
   "metadata": {},
   "outputs": [
    {
     "name": "stdout",
     "output_type": "stream",
     "text": [
      "Fiber optic    3096\n",
      "DSL            2421\n",
      "Name: internet_service, dtype: int64 \n",
      "\n",
      "No     3498\n",
      "Yes    2019\n",
      "Name: online_security, dtype: int64 \n",
      "\n",
      "No     3088\n",
      "Yes    2429\n",
      "Name: online_backup, dtype: int64 \n",
      "\n",
      "No     3095\n",
      "Yes    2422\n",
      "Name: device_protection, dtype: int64 \n",
      "\n",
      "No     3473\n",
      "Yes    2044\n",
      "Name: tech_support, dtype: int64 \n",
      "\n",
      "No     2810\n",
      "Yes    2707\n",
      "Name: streaming_tv, dtype: int64 \n",
      "\n",
      "No     2785\n",
      "Yes    2732\n",
      "Name: streaming_movies, dtype: int64 \n",
      "\n"
     ]
    }
   ],
   "source": [
    "for column in ['internet_service', 'online_security', 'online_backup', 'device_protection', 'tech_support', 'streaming_tv', 'streaming_movies']:\n",
    "    print(df_internet[column].value_counts(), '\\n')"
   ]
  },
  {
   "cell_type": "markdown",
   "id": "ea5c3572",
   "metadata": {},
   "source": [
    "#### Информация об услугах телефонии"
   ]
  },
  {
   "cell_type": "code",
   "execution_count": 26,
   "id": "b261b3e7",
   "metadata": {},
   "outputs": [
    {
     "data": {
      "text/html": [
       "<div>\n",
       "<style scoped>\n",
       "    .dataframe tbody tr th:only-of-type {\n",
       "        vertical-align: middle;\n",
       "    }\n",
       "\n",
       "    .dataframe tbody tr th {\n",
       "        vertical-align: top;\n",
       "    }\n",
       "\n",
       "    .dataframe thead th {\n",
       "        text-align: right;\n",
       "    }\n",
       "</style>\n",
       "<table border=\"1\" class=\"dataframe\">\n",
       "  <thead>\n",
       "    <tr style=\"text-align: right;\">\n",
       "      <th></th>\n",
       "      <th>customerID</th>\n",
       "      <th>MultipleLines</th>\n",
       "    </tr>\n",
       "  </thead>\n",
       "  <tbody>\n",
       "    <tr>\n",
       "      <th>0</th>\n",
       "      <td>5575-GNVDE</td>\n",
       "      <td>No</td>\n",
       "    </tr>\n",
       "    <tr>\n",
       "      <th>1</th>\n",
       "      <td>3668-QPYBK</td>\n",
       "      <td>No</td>\n",
       "    </tr>\n",
       "    <tr>\n",
       "      <th>2</th>\n",
       "      <td>9237-HQITU</td>\n",
       "      <td>No</td>\n",
       "    </tr>\n",
       "    <tr>\n",
       "      <th>3</th>\n",
       "      <td>9305-CDSKC</td>\n",
       "      <td>Yes</td>\n",
       "    </tr>\n",
       "    <tr>\n",
       "      <th>4</th>\n",
       "      <td>1452-KIOVK</td>\n",
       "      <td>Yes</td>\n",
       "    </tr>\n",
       "  </tbody>\n",
       "</table>\n",
       "</div>"
      ],
      "text/plain": [
       "   customerID MultipleLines\n",
       "0  5575-GNVDE            No\n",
       "1  3668-QPYBK            No\n",
       "2  9237-HQITU            No\n",
       "3  9305-CDSKC           Yes\n",
       "4  1452-KIOVK           Yes"
      ]
     },
     "execution_count": 26,
     "metadata": {},
     "output_type": "execute_result"
    }
   ],
   "source": [
    "df_phone.head()"
   ]
  },
  {
   "cell_type": "code",
   "execution_count": 27,
   "id": "1a69f8da",
   "metadata": {},
   "outputs": [],
   "source": [
    "df_phone.columns = ['customer_id', 'multiple_lines']"
   ]
  },
  {
   "cell_type": "code",
   "execution_count": 28,
   "id": "a56a7279",
   "metadata": {},
   "outputs": [
    {
     "name": "stdout",
     "output_type": "stream",
     "text": [
      "<class 'pandas.core.frame.DataFrame'>\n",
      "RangeIndex: 6361 entries, 0 to 6360\n",
      "Data columns (total 2 columns):\n",
      " #   Column          Non-Null Count  Dtype \n",
      "---  ------          --------------  ----- \n",
      " 0   customer_id     6361 non-null   object\n",
      " 1   multiple_lines  6361 non-null   object\n",
      "dtypes: object(2)\n",
      "memory usage: 99.5+ KB\n"
     ]
    }
   ],
   "source": [
    "df_phone.info()"
   ]
  },
  {
   "cell_type": "code",
   "execution_count": 29,
   "id": "dd9c7aeb",
   "metadata": {},
   "outputs": [
    {
     "data": {
      "text/plain": [
       "No     3390\n",
       "Yes    2971\n",
       "Name: multiple_lines, dtype: int64"
      ]
     },
     "execution_count": 29,
     "metadata": {},
     "output_type": "execute_result"
    }
   ],
   "source": [
    "df_phone['multiple_lines'].value_counts()"
   ]
  },
  {
   "cell_type": "markdown",
   "id": "b4f1b66d",
   "metadata": {},
   "source": [
    "### Объединение в одну таблицу и создание новых данных"
   ]
  },
  {
   "cell_type": "code",
   "execution_count": 30,
   "id": "25b12d66",
   "metadata": {},
   "outputs": [
    {
     "data": {
      "text/html": [
       "<div>\n",
       "<style scoped>\n",
       "    .dataframe tbody tr th:only-of-type {\n",
       "        vertical-align: middle;\n",
       "    }\n",
       "\n",
       "    .dataframe tbody tr th {\n",
       "        vertical-align: top;\n",
       "    }\n",
       "\n",
       "    .dataframe thead th {\n",
       "        text-align: right;\n",
       "    }\n",
       "</style>\n",
       "<table border=\"1\" class=\"dataframe\">\n",
       "  <thead>\n",
       "    <tr style=\"text-align: right;\">\n",
       "      <th></th>\n",
       "      <th>customer_id</th>\n",
       "      <th>begin_date</th>\n",
       "      <th>end_date</th>\n",
       "      <th>type</th>\n",
       "      <th>paperless_billing</th>\n",
       "      <th>payment_method</th>\n",
       "      <th>monthly_charges</th>\n",
       "      <th>total_charges</th>\n",
       "      <th>left</th>\n",
       "      <th>gender</th>\n",
       "      <th>...</th>\n",
       "      <th>partner</th>\n",
       "      <th>dependents</th>\n",
       "      <th>internet_service</th>\n",
       "      <th>online_security</th>\n",
       "      <th>online_backup</th>\n",
       "      <th>device_protection</th>\n",
       "      <th>tech_support</th>\n",
       "      <th>streaming_tv</th>\n",
       "      <th>streaming_movies</th>\n",
       "      <th>multiple_lines</th>\n",
       "    </tr>\n",
       "  </thead>\n",
       "  <tbody>\n",
       "    <tr>\n",
       "      <th>0</th>\n",
       "      <td>7590-VHVEG</td>\n",
       "      <td>2020-01-01</td>\n",
       "      <td>NaT</td>\n",
       "      <td>Month-to-month</td>\n",
       "      <td>Yes</td>\n",
       "      <td>Electronic check</td>\n",
       "      <td>29.85</td>\n",
       "      <td>29.85</td>\n",
       "      <td>False</td>\n",
       "      <td>Female</td>\n",
       "      <td>...</td>\n",
       "      <td>Yes</td>\n",
       "      <td>No</td>\n",
       "      <td>DSL</td>\n",
       "      <td>No</td>\n",
       "      <td>Yes</td>\n",
       "      <td>No</td>\n",
       "      <td>No</td>\n",
       "      <td>No</td>\n",
       "      <td>No</td>\n",
       "      <td>NaN</td>\n",
       "    </tr>\n",
       "    <tr>\n",
       "      <th>1</th>\n",
       "      <td>5575-GNVDE</td>\n",
       "      <td>2017-04-01</td>\n",
       "      <td>NaT</td>\n",
       "      <td>One year</td>\n",
       "      <td>No</td>\n",
       "      <td>Mailed check</td>\n",
       "      <td>56.95</td>\n",
       "      <td>1889.50</td>\n",
       "      <td>False</td>\n",
       "      <td>Male</td>\n",
       "      <td>...</td>\n",
       "      <td>No</td>\n",
       "      <td>No</td>\n",
       "      <td>DSL</td>\n",
       "      <td>Yes</td>\n",
       "      <td>No</td>\n",
       "      <td>Yes</td>\n",
       "      <td>No</td>\n",
       "      <td>No</td>\n",
       "      <td>No</td>\n",
       "      <td>No</td>\n",
       "    </tr>\n",
       "    <tr>\n",
       "      <th>2</th>\n",
       "      <td>3668-QPYBK</td>\n",
       "      <td>2019-10-01</td>\n",
       "      <td>2019-12-01</td>\n",
       "      <td>Month-to-month</td>\n",
       "      <td>Yes</td>\n",
       "      <td>Mailed check</td>\n",
       "      <td>53.85</td>\n",
       "      <td>108.15</td>\n",
       "      <td>True</td>\n",
       "      <td>Male</td>\n",
       "      <td>...</td>\n",
       "      <td>No</td>\n",
       "      <td>No</td>\n",
       "      <td>DSL</td>\n",
       "      <td>Yes</td>\n",
       "      <td>Yes</td>\n",
       "      <td>No</td>\n",
       "      <td>No</td>\n",
       "      <td>No</td>\n",
       "      <td>No</td>\n",
       "      <td>No</td>\n",
       "    </tr>\n",
       "    <tr>\n",
       "      <th>3</th>\n",
       "      <td>7795-CFOCW</td>\n",
       "      <td>2016-05-01</td>\n",
       "      <td>NaT</td>\n",
       "      <td>One year</td>\n",
       "      <td>No</td>\n",
       "      <td>Bank transfer (automatic)</td>\n",
       "      <td>42.30</td>\n",
       "      <td>1840.75</td>\n",
       "      <td>False</td>\n",
       "      <td>Male</td>\n",
       "      <td>...</td>\n",
       "      <td>No</td>\n",
       "      <td>No</td>\n",
       "      <td>DSL</td>\n",
       "      <td>Yes</td>\n",
       "      <td>No</td>\n",
       "      <td>Yes</td>\n",
       "      <td>Yes</td>\n",
       "      <td>No</td>\n",
       "      <td>No</td>\n",
       "      <td>NaN</td>\n",
       "    </tr>\n",
       "    <tr>\n",
       "      <th>4</th>\n",
       "      <td>9237-HQITU</td>\n",
       "      <td>2019-09-01</td>\n",
       "      <td>2019-11-01</td>\n",
       "      <td>Month-to-month</td>\n",
       "      <td>Yes</td>\n",
       "      <td>Electronic check</td>\n",
       "      <td>70.70</td>\n",
       "      <td>151.65</td>\n",
       "      <td>True</td>\n",
       "      <td>Female</td>\n",
       "      <td>...</td>\n",
       "      <td>No</td>\n",
       "      <td>No</td>\n",
       "      <td>Fiber optic</td>\n",
       "      <td>No</td>\n",
       "      <td>No</td>\n",
       "      <td>No</td>\n",
       "      <td>No</td>\n",
       "      <td>No</td>\n",
       "      <td>No</td>\n",
       "      <td>No</td>\n",
       "    </tr>\n",
       "    <tr>\n",
       "      <th>...</th>\n",
       "      <td>...</td>\n",
       "      <td>...</td>\n",
       "      <td>...</td>\n",
       "      <td>...</td>\n",
       "      <td>...</td>\n",
       "      <td>...</td>\n",
       "      <td>...</td>\n",
       "      <td>...</td>\n",
       "      <td>...</td>\n",
       "      <td>...</td>\n",
       "      <td>...</td>\n",
       "      <td>...</td>\n",
       "      <td>...</td>\n",
       "      <td>...</td>\n",
       "      <td>...</td>\n",
       "      <td>...</td>\n",
       "      <td>...</td>\n",
       "      <td>...</td>\n",
       "      <td>...</td>\n",
       "      <td>...</td>\n",
       "      <td>...</td>\n",
       "    </tr>\n",
       "    <tr>\n",
       "      <th>7038</th>\n",
       "      <td>6840-RESVB</td>\n",
       "      <td>2018-02-01</td>\n",
       "      <td>NaT</td>\n",
       "      <td>One year</td>\n",
       "      <td>Yes</td>\n",
       "      <td>Mailed check</td>\n",
       "      <td>84.80</td>\n",
       "      <td>1990.50</td>\n",
       "      <td>False</td>\n",
       "      <td>Male</td>\n",
       "      <td>...</td>\n",
       "      <td>Yes</td>\n",
       "      <td>Yes</td>\n",
       "      <td>DSL</td>\n",
       "      <td>Yes</td>\n",
       "      <td>No</td>\n",
       "      <td>Yes</td>\n",
       "      <td>Yes</td>\n",
       "      <td>Yes</td>\n",
       "      <td>Yes</td>\n",
       "      <td>Yes</td>\n",
       "    </tr>\n",
       "    <tr>\n",
       "      <th>7039</th>\n",
       "      <td>2234-XADUH</td>\n",
       "      <td>2014-02-01</td>\n",
       "      <td>NaT</td>\n",
       "      <td>One year</td>\n",
       "      <td>Yes</td>\n",
       "      <td>Credit card (automatic)</td>\n",
       "      <td>103.20</td>\n",
       "      <td>7362.90</td>\n",
       "      <td>False</td>\n",
       "      <td>Female</td>\n",
       "      <td>...</td>\n",
       "      <td>Yes</td>\n",
       "      <td>Yes</td>\n",
       "      <td>Fiber optic</td>\n",
       "      <td>No</td>\n",
       "      <td>Yes</td>\n",
       "      <td>Yes</td>\n",
       "      <td>No</td>\n",
       "      <td>Yes</td>\n",
       "      <td>Yes</td>\n",
       "      <td>Yes</td>\n",
       "    </tr>\n",
       "    <tr>\n",
       "      <th>7040</th>\n",
       "      <td>4801-JZAZL</td>\n",
       "      <td>2019-03-01</td>\n",
       "      <td>NaT</td>\n",
       "      <td>Month-to-month</td>\n",
       "      <td>Yes</td>\n",
       "      <td>Electronic check</td>\n",
       "      <td>29.60</td>\n",
       "      <td>346.45</td>\n",
       "      <td>False</td>\n",
       "      <td>Female</td>\n",
       "      <td>...</td>\n",
       "      <td>Yes</td>\n",
       "      <td>Yes</td>\n",
       "      <td>DSL</td>\n",
       "      <td>Yes</td>\n",
       "      <td>No</td>\n",
       "      <td>No</td>\n",
       "      <td>No</td>\n",
       "      <td>No</td>\n",
       "      <td>No</td>\n",
       "      <td>NaN</td>\n",
       "    </tr>\n",
       "    <tr>\n",
       "      <th>7041</th>\n",
       "      <td>8361-LTMKD</td>\n",
       "      <td>2019-07-01</td>\n",
       "      <td>2019-11-01</td>\n",
       "      <td>Month-to-month</td>\n",
       "      <td>Yes</td>\n",
       "      <td>Mailed check</td>\n",
       "      <td>74.40</td>\n",
       "      <td>306.60</td>\n",
       "      <td>True</td>\n",
       "      <td>Male</td>\n",
       "      <td>...</td>\n",
       "      <td>Yes</td>\n",
       "      <td>No</td>\n",
       "      <td>Fiber optic</td>\n",
       "      <td>No</td>\n",
       "      <td>No</td>\n",
       "      <td>No</td>\n",
       "      <td>No</td>\n",
       "      <td>No</td>\n",
       "      <td>No</td>\n",
       "      <td>Yes</td>\n",
       "    </tr>\n",
       "    <tr>\n",
       "      <th>7042</th>\n",
       "      <td>3186-AJIEK</td>\n",
       "      <td>2014-08-01</td>\n",
       "      <td>NaT</td>\n",
       "      <td>Two year</td>\n",
       "      <td>Yes</td>\n",
       "      <td>Bank transfer (automatic)</td>\n",
       "      <td>105.65</td>\n",
       "      <td>6844.50</td>\n",
       "      <td>False</td>\n",
       "      <td>Male</td>\n",
       "      <td>...</td>\n",
       "      <td>No</td>\n",
       "      <td>No</td>\n",
       "      <td>Fiber optic</td>\n",
       "      <td>Yes</td>\n",
       "      <td>No</td>\n",
       "      <td>Yes</td>\n",
       "      <td>Yes</td>\n",
       "      <td>Yes</td>\n",
       "      <td>Yes</td>\n",
       "      <td>No</td>\n",
       "    </tr>\n",
       "  </tbody>\n",
       "</table>\n",
       "<p>7043 rows × 21 columns</p>\n",
       "</div>"
      ],
      "text/plain": [
       "     customer_id begin_date   end_date            type paperless_billing  \\\n",
       "0     7590-VHVEG 2020-01-01        NaT  Month-to-month               Yes   \n",
       "1     5575-GNVDE 2017-04-01        NaT        One year                No   \n",
       "2     3668-QPYBK 2019-10-01 2019-12-01  Month-to-month               Yes   \n",
       "3     7795-CFOCW 2016-05-01        NaT        One year                No   \n",
       "4     9237-HQITU 2019-09-01 2019-11-01  Month-to-month               Yes   \n",
       "...          ...        ...        ...             ...               ...   \n",
       "7038  6840-RESVB 2018-02-01        NaT        One year               Yes   \n",
       "7039  2234-XADUH 2014-02-01        NaT        One year               Yes   \n",
       "7040  4801-JZAZL 2019-03-01        NaT  Month-to-month               Yes   \n",
       "7041  8361-LTMKD 2019-07-01 2019-11-01  Month-to-month               Yes   \n",
       "7042  3186-AJIEK 2014-08-01        NaT        Two year               Yes   \n",
       "\n",
       "                 payment_method  monthly_charges  total_charges   left  \\\n",
       "0              Electronic check            29.85          29.85  False   \n",
       "1                  Mailed check            56.95        1889.50  False   \n",
       "2                  Mailed check            53.85         108.15   True   \n",
       "3     Bank transfer (automatic)            42.30        1840.75  False   \n",
       "4              Electronic check            70.70         151.65   True   \n",
       "...                         ...              ...            ...    ...   \n",
       "7038               Mailed check            84.80        1990.50  False   \n",
       "7039    Credit card (automatic)           103.20        7362.90  False   \n",
       "7040           Electronic check            29.60         346.45  False   \n",
       "7041               Mailed check            74.40         306.60   True   \n",
       "7042  Bank transfer (automatic)           105.65        6844.50  False   \n",
       "\n",
       "      gender  ...  partner dependents internet_service online_security  \\\n",
       "0     Female  ...      Yes         No              DSL              No   \n",
       "1       Male  ...       No         No              DSL             Yes   \n",
       "2       Male  ...       No         No              DSL             Yes   \n",
       "3       Male  ...       No         No              DSL             Yes   \n",
       "4     Female  ...       No         No      Fiber optic              No   \n",
       "...      ...  ...      ...        ...              ...             ...   \n",
       "7038    Male  ...      Yes        Yes              DSL             Yes   \n",
       "7039  Female  ...      Yes        Yes      Fiber optic              No   \n",
       "7040  Female  ...      Yes        Yes              DSL             Yes   \n",
       "7041    Male  ...      Yes         No      Fiber optic              No   \n",
       "7042    Male  ...       No         No      Fiber optic             Yes   \n",
       "\n",
       "     online_backup device_protection tech_support streaming_tv  \\\n",
       "0              Yes                No           No           No   \n",
       "1               No               Yes           No           No   \n",
       "2              Yes                No           No           No   \n",
       "3               No               Yes          Yes           No   \n",
       "4               No                No           No           No   \n",
       "...            ...               ...          ...          ...   \n",
       "7038            No               Yes          Yes          Yes   \n",
       "7039           Yes               Yes           No          Yes   \n",
       "7040            No                No           No           No   \n",
       "7041            No                No           No           No   \n",
       "7042            No               Yes          Yes          Yes   \n",
       "\n",
       "     streaming_movies multiple_lines  \n",
       "0                  No            NaN  \n",
       "1                  No             No  \n",
       "2                  No             No  \n",
       "3                  No            NaN  \n",
       "4                  No             No  \n",
       "...               ...            ...  \n",
       "7038              Yes            Yes  \n",
       "7039              Yes            Yes  \n",
       "7040               No            NaN  \n",
       "7041               No            Yes  \n",
       "7042              Yes             No  \n",
       "\n",
       "[7043 rows x 21 columns]"
      ]
     },
     "execution_count": 30,
     "metadata": {},
     "output_type": "execute_result"
    }
   ],
   "source": [
    "df = df_contract.merge(df_personal, on = 'customer_id')\n",
    "df = df.merge(df_internet, on = 'customer_id', how = 'left')\n",
    "df = df.merge(df_phone, on = 'customer_id', how = 'left')\n",
    "df"
   ]
  },
  {
   "cell_type": "markdown",
   "id": "06b83616",
   "metadata": {},
   "source": [
    "Отток клиентов начался всего за несколько месяцев до даты исследования, следовательно сезонность искать бесполезно, зато очень может помочь дата заключения контракта, которую можно выразить её удалённостью от настоящего в месяцах."
   ]
  },
  {
   "cell_type": "code",
   "execution_count": 31,
   "id": "0bce8f77",
   "metadata": {},
   "outputs": [],
   "source": [
    "df['contract_age'] = (pd.to_datetime('2020-02-01') - df['begin_date'])"
   ]
  },
  {
   "cell_type": "code",
   "execution_count": 32,
   "id": "bd6de87a",
   "metadata": {},
   "outputs": [],
   "source": [
    "df['contract_age'] = df['contract_age'].dt.days"
   ]
  },
  {
   "cell_type": "code",
   "execution_count": 33,
   "id": "cb68b4af",
   "metadata": {},
   "outputs": [
    {
     "name": "stdout",
     "output_type": "stream",
     "text": [
      "<class 'pandas.core.frame.DataFrame'>\n",
      "Int64Index: 7043 entries, 0 to 7042\n",
      "Data columns (total 22 columns):\n",
      " #   Column             Non-Null Count  Dtype         \n",
      "---  ------             --------------  -----         \n",
      " 0   customer_id        7043 non-null   object        \n",
      " 1   begin_date         7043 non-null   datetime64[ns]\n",
      " 2   end_date           1869 non-null   datetime64[ns]\n",
      " 3   type               7043 non-null   object        \n",
      " 4   paperless_billing  7043 non-null   object        \n",
      " 5   payment_method     7043 non-null   object        \n",
      " 6   monthly_charges    7043 non-null   float64       \n",
      " 7   total_charges      7043 non-null   float64       \n",
      " 8   left               7043 non-null   bool          \n",
      " 9   gender             7043 non-null   object        \n",
      " 10  senior_citizen     7043 non-null   int64         \n",
      " 11  partner            7043 non-null   object        \n",
      " 12  dependents         7043 non-null   object        \n",
      " 13  internet_service   5517 non-null   object        \n",
      " 14  online_security    5517 non-null   object        \n",
      " 15  online_backup      5517 non-null   object        \n",
      " 16  device_protection  5517 non-null   object        \n",
      " 17  tech_support       5517 non-null   object        \n",
      " 18  streaming_tv       5517 non-null   object        \n",
      " 19  streaming_movies   5517 non-null   object        \n",
      " 20  multiple_lines     6361 non-null   object        \n",
      " 21  contract_age       7043 non-null   int64         \n",
      "dtypes: bool(1), datetime64[ns](2), float64(2), int64(2), object(15)\n",
      "memory usage: 1.2+ MB\n"
     ]
    }
   ],
   "source": [
    "df = df.drop_duplicates()\n",
    "df.info()"
   ]
  },
  {
   "cell_type": "markdown",
   "id": "8939626f",
   "metadata": {},
   "source": [
    "Появились пропуски в данных. Похоже, что информация по клиентам неполная.  Можно предположить, что клиент не получает соответствующих услуг. В любом случае, как называеть их не играет для машинного обучения никакой роли, и пропуски просто можно заменить категорией 'unknown'.<br>\n",
    "Также нужно вместо дат использовать срок, на котором клиент пользуется или пользовался услугами, срок в месяцах должен подойти."
   ]
  },
  {
   "cell_type": "code",
   "execution_count": 34,
   "id": "97dac235",
   "metadata": {},
   "outputs": [],
   "source": [
    "df['end_date'] = df['end_date'].fillna(pd.to_datetime('2020-02-01'))"
   ]
  },
  {
   "cell_type": "code",
   "execution_count": 35,
   "id": "3d648bd6",
   "metadata": {},
   "outputs": [
    {
     "data": {
      "text/plain": [
       "0        1\n",
       "1       34\n",
       "2        2\n",
       "3       45\n",
       "4        2\n",
       "        ..\n",
       "7038    24\n",
       "7039    72\n",
       "7040    11\n",
       "7041     4\n",
       "7042    66\n",
       "Name: months, Length: 7043, dtype: int64"
      ]
     },
     "execution_count": 35,
     "metadata": {},
     "output_type": "execute_result"
    }
   ],
   "source": [
    "df['months'] = df['end_date'].dt.to_period('M').astype(int) - df['begin_date'].dt.to_period('M').astype(int)\n",
    "df['months']"
   ]
  },
  {
   "cell_type": "code",
   "execution_count": 36,
   "id": "b96eb3e7",
   "metadata": {},
   "outputs": [],
   "source": [
    "df = df.drop(columns=['customer_id', 'begin_date', 'end_date'])"
   ]
  },
  {
   "cell_type": "code",
   "execution_count": 37,
   "id": "ae351bb8",
   "metadata": {},
   "outputs": [
    {
     "data": {
      "text/plain": [
       "Index(['type', 'paperless_billing', 'payment_method', 'monthly_charges',\n",
       "       'total_charges', 'left', 'gender', 'senior_citizen', 'partner',\n",
       "       'dependents', 'internet_service', 'online_security', 'online_backup',\n",
       "       'device_protection', 'tech_support', 'streaming_tv', 'streaming_movies',\n",
       "       'multiple_lines', 'contract_age', 'months'],\n",
       "      dtype='object')"
      ]
     },
     "execution_count": 37,
     "metadata": {},
     "output_type": "execute_result"
    }
   ],
   "source": [
    "df.columns"
   ]
  },
  {
   "cell_type": "code",
   "execution_count": 38,
   "id": "f69d55bb",
   "metadata": {},
   "outputs": [
    {
     "name": "stdout",
     "output_type": "stream",
     "text": [
      "<class 'pandas.core.frame.DataFrame'>\n",
      "Int64Index: 7043 entries, 0 to 7042\n",
      "Data columns (total 20 columns):\n",
      " #   Column             Non-Null Count  Dtype  \n",
      "---  ------             --------------  -----  \n",
      " 0   type               7043 non-null   object \n",
      " 1   paperless_billing  7043 non-null   object \n",
      " 2   payment_method     7043 non-null   object \n",
      " 3   monthly_charges    7043 non-null   float64\n",
      " 4   total_charges      7043 non-null   float64\n",
      " 5   left               7043 non-null   bool   \n",
      " 6   gender             7043 non-null   object \n",
      " 7   senior_citizen     7043 non-null   int64  \n",
      " 8   partner            7043 non-null   object \n",
      " 9   dependents         7043 non-null   object \n",
      " 10  internet_service   7043 non-null   object \n",
      " 11  online_security    7043 non-null   object \n",
      " 12  online_backup      7043 non-null   object \n",
      " 13  device_protection  7043 non-null   object \n",
      " 14  tech_support       7043 non-null   object \n",
      " 15  streaming_tv       7043 non-null   object \n",
      " 16  streaming_movies   7043 non-null   object \n",
      " 17  multiple_lines     7043 non-null   object \n",
      " 18  contract_age       7043 non-null   int64  \n",
      " 19  months             7043 non-null   int64  \n",
      "dtypes: bool(1), float64(2), int64(3), object(14)\n",
      "memory usage: 1.1+ MB\n"
     ]
    }
   ],
   "source": [
    "df = df.fillna('unknown')\n",
    "df.info()"
   ]
  },
  {
   "cell_type": "markdown",
   "id": "8d177b77",
   "metadata": {},
   "source": [
    "## Исследовательский анализ"
   ]
  },
  {
   "cell_type": "markdown",
   "id": "540d9778",
   "metadata": {},
   "source": [
    "### Категориальные данные"
   ]
  },
  {
   "cell_type": "code",
   "execution_count": 39,
   "id": "5f7a2b7f",
   "metadata": {
    "scrolled": true
   },
   "outputs": [
    {
     "data": {
      "image/png": "[encoded data removed]",
      "text/plain": [
       "<Figure size 864x360 with 1 Axes>"
      ]
     },
     "metadata": {
      "needs_background": "light"
     },
     "output_type": "display_data"
    },
    {
     "data": {
      "image/png": "[encoded data removed]",
      "text/plain": [
       "<Figure size 864x360 with 1 Axes>"
      ]
     },
     "metadata": {
      "needs_background": "light"
     },
     "output_type": "display_data"
    },
    {
     "data": {
      "image/png": "[encoded data removed]",
      "text/plain": [
       "<Figure size 864x360 with 1 Axes>"
      ]
     },
     "metadata": {
      "needs_background": "light"
     },
     "output_type": "display_data"
    },
    {
     "data": {
      "image/png": "[encoded data removed]",
      "text/plain": [
       "<Figure size 864x360 with 1 Axes>"
      ]
     },
     "metadata": {
      "needs_background": "light"
     },
     "output_type": "display_data"
    },
    {
     "data": {
      "image/png": "[encoded data removed]",
      "text/plain": [
       "<Figure size 864x360 with 1 Axes>"
      ]
     },
     "metadata": {
      "needs_background": "light"
     },
     "output_type": "display_data"
    },
    {
     "data": {
      "image/png": "[encoded data removed]",
      "text/plain": [
       "<Figure size 864x360 with 1 Axes>"
      ]
     },
     "metadata": {
      "needs_background": "light"
     },
     "output_type": "display_data"
    },
    {
     "data": {
      "image/png": "[encoded data removed]",
      "text/plain": [
       "<Figure size 864x360 with 1 Axes>"
      ]
     },
     "metadata": {
      "needs_background": "light"
     },
     "output_type": "display_data"
    },
    {
     "data": {
      "image/png": "[encoded data removed]",
      "text/plain": [
       "<Figure size 864x360 with 1 Axes>"
      ]
     },
     "metadata": {
      "needs_background": "light"
     },
     "output_type": "display_data"
    },
    {
     "data": {
      "image/png": "[encoded data removed]",
      "text/plain": [
       "<Figure size 864x360 with 1 Axes>"
      ]
     },
     "metadata": {
      "needs_background": "light"
     },
     "output_type": "display_data"
    },
    {
     "data": {
      "image/png": "[encoded data removed]",
      "text/plain": [
       "<Figure size 864x360 with 1 Axes>"
      ]
     },
     "metadata": {
      "needs_background": "light"
     },
     "output_type": "display_data"
    },
    {
     "data": {
      "image/png": "[encoded data removed]",
      "text/plain": [
       "<Figure size 864x360 with 1 Axes>"
      ]
     },
     "metadata": {
      "needs_background": "light"
     },
     "output_type": "display_data"
    },
    {
     "data": {
      "image/png": "[encoded data removed]",
      "text/plain": [
       "<Figure size 864x360 with 1 Axes>"
      ]
     },
     "metadata": {
      "needs_background": "light"
     },
     "output_type": "display_data"
    },
    {
     "data": {
      "image/png": "[encoded data removed]",
      "text/plain": [
       "<Figure size 864x360 with 1 Axes>"
      ]
     },
     "metadata": {
      "needs_background": "light"
     },
     "output_type": "display_data"
    },
    {
     "data": {
      "image/png": "[encoded data removed]",
      "text/plain": [
       "<Figure size 864x360 with 1 Axes>"
      ]
     },
     "metadata": {
      "needs_background": "light"
     },
     "output_type": "display_data"
    },
    {
     "data": {
      "image/png": "[encoded data removed]",
      "text/plain": [
       "<Figure size 864x360 with 1 Axes>"
      ]
     },
     "metadata": {
      "needs_background": "light"
     },
     "output_type": "display_data"
    },
    {
     "data": {
      "image/png": "[encoded data removed]",
      "text/plain": [
       "<Figure size 864x360 with 1 Axes>"
      ]
     },
     "metadata": {
      "needs_background": "light"
     },
     "output_type": "display_data"
    }
   ],
   "source": [
    "for column in ['type', 'paperless_billing', 'payment_method',\n",
    "       'gender', 'senior_citizen', 'partner',\n",
    "       'dependents', 'internet_service', 'online_security', 'online_backup',\n",
    "       'device_protection', 'tech_support', 'streaming_tv', 'streaming_movies',\n",
    "       'multiple_lines', 'months']:\n",
    "    plt.subplots(figsize=(12, 5))\n",
    "    plot = sns.barplot(data=df, x= 'left', y= column)\n",
    "    plot.set(title=column)\n",
    "    plt.show()"
   ]
  },
  {
   "cell_type": "markdown",
   "id": "321a5ff6",
   "metadata": {},
   "source": [
    "Похоже, что люди с помесячной тарифицацией совершенно не держатся за услугу, как и получающие электронный счёт.<br>\n",
    "Пол влияет на уровне погрешности — его можно убрать.<br>\n",
    "Престарелые клиенты уходят чаще, возможно, что из жизни.<br>\n",
    "Люди без партнёра уходят чаще, как и те, у кого нет иждевенцев, должно быть, сказывается их мобильность.<br>\n",
    "Использующие соединение DSL уходят реже. DSL используется в удалённых регионах, где особо нет выбора.<br>\n",
    "Услуги онлайн безопасности, резервного копирования, защиты устройства, выделенной техподдержки не пользуется популярностью у желающих уйти от провайдера. Вероятнее всего, люди их подключают люди, настроенные на долговременный контракт с провайдером.<br>\n",
    "Стриминг кино и несколько телефонных линий особого значения не имеют.<br>\n",
    "В среднем старые клиенты уходят реже, но тут требуется дополнительный анализ."
   ]
  },
  {
   "cell_type": "code",
   "execution_count": 40,
   "id": "e303d12a",
   "metadata": {},
   "outputs": [
    {
     "data": {
      "text/plain": [
       "<AxesSubplot:xlabel='months'>"
      ]
     },
     "execution_count": 40,
     "metadata": {},
     "output_type": "execute_result"
    },
    {
     "data": {
      "image/png": "[encoded data removed]",
      "text/plain": [
       "<Figure size 1224x720 with 1 Axes>"
      ]
     },
     "metadata": {
      "needs_background": "light"
     },
     "output_type": "display_data"
    }
   ],
   "source": [
    "df.groupby('months')['left'].mean().plot.bar(figsize=(17,10))"
   ]
  },
  {
   "cell_type": "markdown",
   "id": "f4cfabe1",
   "metadata": {},
   "source": [
    "Тренд очевиден, однако на графике ни один новый клиент не ушёл, просто потому что только подключившись, нет смысла сразу уходить. Возможно, таких клиентов таки лучше убрать из модели, потому что они не представляют для неё ценности, поскольку целевой признак не успел сформироваться."
   ]
  },
  {
   "cell_type": "code",
   "execution_count": 41,
   "id": "d06366aa",
   "metadata": {},
   "outputs": [],
   "source": [
    "df = df.drop(df[df['months'] == 0].index).reset_index(drop=True)"
   ]
  },
  {
   "cell_type": "markdown",
   "id": "9ecdcef9",
   "metadata": {},
   "source": [
    "### Непрерывные данные"
   ]
  },
  {
   "cell_type": "code",
   "execution_count": 42,
   "id": "c3fdaadd",
   "metadata": {},
   "outputs": [
    {
     "data": {
      "image/png": "[encoded data removed]",
      "text/plain": [
       "<Figure size 1080x720 with 1 Axes>"
      ]
     },
     "metadata": {
      "needs_background": "light"
     },
     "output_type": "display_data"
    },
    {
     "data": {
      "image/png": "[encoded data removed]",
      "text/plain": [
       "<Figure size 1080x720 with 1 Axes>"
      ]
     },
     "metadata": {
      "needs_background": "light"
     },
     "output_type": "display_data"
    },
    {
     "data": {
      "image/png": "[encoded data removed]",
      "text/plain": [
       "<Figure size 1080x720 with 1 Axes>"
      ]
     },
     "metadata": {
      "needs_background": "light"
     },
     "output_type": "display_data"
    }
   ],
   "source": [
    "bool_list = [True, False]\n",
    "items = ['monthly_charges', 'total_charges','contract_age']\n",
    "\n",
    "for item in items:\n",
    "    for boolitem in bool_list:\n",
    "        (df[df['left'] == boolitem][item]).plot(kind='hist',title=item, alpha = 0.2, label=boolitem,legend=True, bins = 20, figsize=(15,10))\n",
    "    plt.show()"
   ]
  },
  {
   "cell_type": "markdown",
   "id": "79b6e20b",
   "metadata": {},
   "source": [
    "На распределении видно, что клиенты с дешевым тарифом более склонны оставаться, в то вермя как заплатившие меньше за весь период склонны уходить. Возможно, имеет место коллинеарность, поскольку заплаченные деньги напрямую зависят от возраста контракта.<br>\n",
    "Также очень много контрактов были разорваны буквально недавно."
   ]
  },
  {
   "cell_type": "code",
   "execution_count": 43,
   "id": "e0c612d9",
   "metadata": {},
   "outputs": [
    {
     "data": {
      "text/plain": [
       "<AxesSubplot:xlabel='months', ylabel='total_charges'>"
      ]
     },
     "execution_count": 43,
     "metadata": {},
     "output_type": "execute_result"
    },
    {
     "data": {
      "image/png": "[encoded data removed]",
      "text/plain": [
       "<Figure size 1080x432 with 1 Axes>"
      ]
     },
     "metadata": {
      "needs_background": "light"
     },
     "output_type": "display_data"
    }
   ],
   "source": [
    "plt.subplots(figsize=(15, 6))\n",
    "sns.scatterplot(data=df, x='months', y='total_charges',alpha=0.2, hue='left')"
   ]
  },
  {
   "cell_type": "markdown",
   "id": "f2ff23c3",
   "metadata": {},
   "source": [
    "Разброс довольно большой. На графике также видно, что чем меньше тратит человек, тем менее вероятно, что он уйдёт."
   ]
  },
  {
   "cell_type": "markdown",
   "id": "e875421c",
   "metadata": {},
   "source": [
    "### Мультиколлинеарность"
   ]
  },
  {
   "cell_type": "code",
   "execution_count": 44,
   "id": "827de04b",
   "metadata": {},
   "outputs": [
    {
     "data": {
      "text/html": [
       "<div>\n",
       "<style scoped>\n",
       "    .dataframe tbody tr th:only-of-type {\n",
       "        vertical-align: middle;\n",
       "    }\n",
       "\n",
       "    .dataframe tbody tr th {\n",
       "        vertical-align: top;\n",
       "    }\n",
       "\n",
       "    .dataframe thead th {\n",
       "        text-align: right;\n",
       "    }\n",
       "</style>\n",
       "<table border=\"1\" class=\"dataframe\">\n",
       "  <thead>\n",
       "    <tr style=\"text-align: right;\">\n",
       "      <th></th>\n",
       "      <th>left</th>\n",
       "      <th>monthly_charges</th>\n",
       "      <th>total_charges</th>\n",
       "      <th>contract_age</th>\n",
       "      <th>months</th>\n",
       "    </tr>\n",
       "  </thead>\n",
       "  <tbody>\n",
       "    <tr>\n",
       "      <th>left</th>\n",
       "      <td>1.000000</td>\n",
       "      <td>0.192858</td>\n",
       "      <td>-0.199484</td>\n",
       "      <td>-0.313547</td>\n",
       "      <td>-0.354049</td>\n",
       "    </tr>\n",
       "    <tr>\n",
       "      <th>monthly_charges</th>\n",
       "      <td>0.192858</td>\n",
       "      <td>1.000000</td>\n",
       "      <td>0.651065</td>\n",
       "      <td>0.259819</td>\n",
       "      <td>0.246862</td>\n",
       "    </tr>\n",
       "    <tr>\n",
       "      <th>total_charges</th>\n",
       "      <td>-0.199484</td>\n",
       "      <td>0.651065</td>\n",
       "      <td>1.000000</td>\n",
       "      <td>0.829135</td>\n",
       "      <td>0.825880</td>\n",
       "    </tr>\n",
       "    <tr>\n",
       "      <th>contract_age</th>\n",
       "      <td>-0.313547</td>\n",
       "      <td>0.259819</td>\n",
       "      <td>0.829135</td>\n",
       "      <td>1.000000</td>\n",
       "      <td>0.998800</td>\n",
       "    </tr>\n",
       "    <tr>\n",
       "      <th>months</th>\n",
       "      <td>-0.354049</td>\n",
       "      <td>0.246862</td>\n",
       "      <td>0.825880</td>\n",
       "      <td>0.998800</td>\n",
       "      <td>1.000000</td>\n",
       "    </tr>\n",
       "  </tbody>\n",
       "</table>\n",
       "</div>"
      ],
      "text/plain": [
       "                     left  monthly_charges  total_charges  contract_age  \\\n",
       "left             1.000000         0.192858      -0.199484     -0.313547   \n",
       "monthly_charges  0.192858         1.000000       0.651065      0.259819   \n",
       "total_charges   -0.199484         0.651065       1.000000      0.829135   \n",
       "contract_age    -0.313547         0.259819       0.829135      1.000000   \n",
       "months          -0.354049         0.246862       0.825880      0.998800   \n",
       "\n",
       "                   months  \n",
       "left            -0.354049  \n",
       "monthly_charges  0.246862  \n",
       "total_charges    0.825880  \n",
       "contract_age     0.998800  \n",
       "months           1.000000  "
      ]
     },
     "execution_count": 44,
     "metadata": {},
     "output_type": "execute_result"
    }
   ],
   "source": [
    "df[['left','monthly_charges','total_charges','contract_age','months']].corr()"
   ]
  },
  {
   "cell_type": "code",
   "execution_count": 45,
   "id": "3a4186ea",
   "metadata": {},
   "outputs": [
    {
     "data": {
      "text/plain": [
       "<AxesSubplot:>"
      ]
     },
     "execution_count": 45,
     "metadata": {},
     "output_type": "execute_result"
    },
    {
     "data": {
      "image/png": "[encoded data removed]",
      "text/plain": [
       "<Figure size 432x288 with 2 Axes>"
      ]
     },
     "metadata": {
      "needs_background": "light"
     },
     "output_type": "display_data"
    }
   ],
   "source": [
    "sns.heatmap(df[['left','monthly_charges','total_charges','contract_age','months']].corr(), annot=True)"
   ]
  },
  {
   "cell_type": "markdown",
   "id": "25c5ba58",
   "metadata": {},
   "source": [
    "Полные платежи имеют сильную корреляцию с ежемесячными. Отсутсвие полной корреляции свидетельствует о том, что либо меняется стоимость услуг, либо клиенты меняют сами услуги.<br>\n",
    "Также полные платежи имеет слишком сильную корреляцию с возрастом контракта и временем до разрывы.<br>\n",
    "Признак можно было бы удалить, однако без него сильно падает качество модели."
   ]
  },
  {
   "cell_type": "markdown",
   "id": "2e19c942",
   "metadata": {},
   "source": [
    "Наличие обоих столбцов contract_age и months приводит у утечке данных. Поскольку клиенты в базе стали уходить совсем недавно, contract_age выглядит более значимым, несмотря на чуть более низкую корреляцию."
   ]
  },
  {
   "cell_type": "code",
   "execution_count": 46,
   "id": "a2a27e95",
   "metadata": {},
   "outputs": [],
   "source": [
    "df = df.drop(columns=['months'])"
   ]
  },
  {
   "cell_type": "markdown",
   "id": "fd306e61",
   "metadata": {},
   "source": [
    "## Обучение моделей"
   ]
  },
  {
   "cell_type": "markdown",
   "id": "1f2c7067",
   "metadata": {},
   "source": [
    "### Подготовка данных"
   ]
  },
  {
   "cell_type": "code",
   "execution_count": 47,
   "id": "c606b120",
   "metadata": {},
   "outputs": [],
   "source": [
    "df = pd.get_dummies(df, drop_first=True)"
   ]
  },
  {
   "cell_type": "code",
   "execution_count": 48,
   "id": "a38559a6",
   "metadata": {},
   "outputs": [],
   "source": [
    "features = df.drop(['left'], axis=1)\n",
    "target = df['left']\n",
    "df_train, df_valid  = train_test_split(df, test_size=2/5, random_state=13,stratify=df['left'])\n",
    "df_valid, df_test = train_test_split(df_valid, test_size=1/2, random_state=13,stratify=df_valid['left'])\n",
    "\n",
    "features_train = df_train.drop(['left'], axis=1)\n",
    "target_train = df_train['left']\n",
    "\n",
    "features_valid = df_valid.drop(['left'], axis=1)\n",
    "target_valid = df_valid['left']\n",
    "\n",
    "features_test = df_test.drop(['left'], axis=1)\n",
    "target_test = df_test['left']"
   ]
  },
  {
   "cell_type": "code",
   "execution_count": 49,
   "id": "eb378180",
   "metadata": {},
   "outputs": [],
   "source": [
    "features_full = pd.concat([features_train, features_valid])\n",
    "target_full = pd.concat([target_train, target_valid])"
   ]
  },
  {
   "cell_type": "markdown",
   "id": "0b0f454e",
   "metadata": {},
   "source": [
    "Список словарей для варинтов весов:"
   ]
  },
  {
   "cell_type": "code",
   "execution_count": 50,
   "id": "20bca540",
   "metadata": {},
   "outputs": [
    {
     "data": {
      "text/plain": [
       "[{False: 1, True: 1},\n",
       " {False: 1, True: 2},\n",
       " {False: 1, True: 3},\n",
       " {False: 1, True: 4},\n",
       " {False: 1, True: 5},\n",
       " {False: 1, True: 6},\n",
       " {False: 1, True: 7},\n",
       " {False: 1, True: 8}]"
      ]
     },
     "execution_count": 50,
     "metadata": {},
     "output_type": "execute_result"
    }
   ],
   "source": [
    "weights_dicts = [{False : 1, True : x} for x in range(1,9)]\n",
    "weights_dicts"
   ]
  },
  {
   "cell_type": "code",
   "execution_count": 51,
   "id": "b2189845",
   "metadata": {},
   "outputs": [
    {
     "data": {
      "text/html": [
       "<div>\n",
       "<style scoped>\n",
       "    .dataframe tbody tr th:only-of-type {\n",
       "        vertical-align: middle;\n",
       "    }\n",
       "\n",
       "    .dataframe tbody tr th {\n",
       "        vertical-align: top;\n",
       "    }\n",
       "\n",
       "    .dataframe thead th {\n",
       "        text-align: right;\n",
       "    }\n",
       "</style>\n",
       "<table border=\"1\" class=\"dataframe\">\n",
       "  <thead>\n",
       "    <tr style=\"text-align: right;\">\n",
       "      <th></th>\n",
       "      <th>monthly_charges</th>\n",
       "      <th>total_charges</th>\n",
       "      <th>senior_citizen</th>\n",
       "      <th>contract_age</th>\n",
       "      <th>type_One year</th>\n",
       "      <th>type_Two year</th>\n",
       "      <th>paperless_billing_Yes</th>\n",
       "      <th>payment_method_Credit card (automatic)</th>\n",
       "      <th>payment_method_Electronic check</th>\n",
       "      <th>payment_method_Mailed check</th>\n",
       "      <th>...</th>\n",
       "      <th>device_protection_Yes</th>\n",
       "      <th>device_protection_unknown</th>\n",
       "      <th>tech_support_Yes</th>\n",
       "      <th>tech_support_unknown</th>\n",
       "      <th>streaming_tv_Yes</th>\n",
       "      <th>streaming_tv_unknown</th>\n",
       "      <th>streaming_movies_Yes</th>\n",
       "      <th>streaming_movies_unknown</th>\n",
       "      <th>multiple_lines_Yes</th>\n",
       "      <th>multiple_lines_unknown</th>\n",
       "    </tr>\n",
       "  </thead>\n",
       "  <tbody>\n",
       "    <tr>\n",
       "      <th>21</th>\n",
       "      <td>19.80</td>\n",
       "      <td>202.25</td>\n",
       "      <td>0</td>\n",
       "      <td>365</td>\n",
       "      <td>1</td>\n",
       "      <td>0</td>\n",
       "      <td>0</td>\n",
       "      <td>0</td>\n",
       "      <td>0</td>\n",
       "      <td>0</td>\n",
       "      <td>...</td>\n",
       "      <td>0</td>\n",
       "      <td>1</td>\n",
       "      <td>0</td>\n",
       "      <td>1</td>\n",
       "      <td>0</td>\n",
       "      <td>1</td>\n",
       "      <td>0</td>\n",
       "      <td>1</td>\n",
       "      <td>0</td>\n",
       "      <td>0</td>\n",
       "    </tr>\n",
       "    <tr>\n",
       "      <th>5615</th>\n",
       "      <td>89.80</td>\n",
       "      <td>5629.55</td>\n",
       "      <td>1</td>\n",
       "      <td>1888</td>\n",
       "      <td>0</td>\n",
       "      <td>0</td>\n",
       "      <td>1</td>\n",
       "      <td>0</td>\n",
       "      <td>0</td>\n",
       "      <td>0</td>\n",
       "      <td>...</td>\n",
       "      <td>0</td>\n",
       "      <td>0</td>\n",
       "      <td>0</td>\n",
       "      <td>0</td>\n",
       "      <td>0</td>\n",
       "      <td>0</td>\n",
       "      <td>1</td>\n",
       "      <td>0</td>\n",
       "      <td>1</td>\n",
       "      <td>0</td>\n",
       "    </tr>\n",
       "    <tr>\n",
       "      <th>2681</th>\n",
       "      <td>79.85</td>\n",
       "      <td>1471.75</td>\n",
       "      <td>1</td>\n",
       "      <td>641</td>\n",
       "      <td>0</td>\n",
       "      <td>0</td>\n",
       "      <td>1</td>\n",
       "      <td>0</td>\n",
       "      <td>1</td>\n",
       "      <td>0</td>\n",
       "      <td>...</td>\n",
       "      <td>1</td>\n",
       "      <td>0</td>\n",
       "      <td>0</td>\n",
       "      <td>0</td>\n",
       "      <td>0</td>\n",
       "      <td>0</td>\n",
       "      <td>0</td>\n",
       "      <td>0</td>\n",
       "      <td>1</td>\n",
       "      <td>0</td>\n",
       "    </tr>\n",
       "    <tr>\n",
       "      <th>4580</th>\n",
       "      <td>95.00</td>\n",
       "      <td>3008.15</td>\n",
       "      <td>0</td>\n",
       "      <td>1006</td>\n",
       "      <td>0</td>\n",
       "      <td>0</td>\n",
       "      <td>1</td>\n",
       "      <td>1</td>\n",
       "      <td>0</td>\n",
       "      <td>0</td>\n",
       "      <td>...</td>\n",
       "      <td>1</td>\n",
       "      <td>0</td>\n",
       "      <td>1</td>\n",
       "      <td>0</td>\n",
       "      <td>0</td>\n",
       "      <td>0</td>\n",
       "      <td>1</td>\n",
       "      <td>0</td>\n",
       "      <td>1</td>\n",
       "      <td>0</td>\n",
       "    </tr>\n",
       "    <tr>\n",
       "      <th>5264</th>\n",
       "      <td>20.15</td>\n",
       "      <td>1337.50</td>\n",
       "      <td>0</td>\n",
       "      <td>2102</td>\n",
       "      <td>0</td>\n",
       "      <td>1</td>\n",
       "      <td>0</td>\n",
       "      <td>0</td>\n",
       "      <td>0</td>\n",
       "      <td>0</td>\n",
       "      <td>...</td>\n",
       "      <td>0</td>\n",
       "      <td>1</td>\n",
       "      <td>0</td>\n",
       "      <td>1</td>\n",
       "      <td>0</td>\n",
       "      <td>1</td>\n",
       "      <td>0</td>\n",
       "      <td>1</td>\n",
       "      <td>0</td>\n",
       "      <td>0</td>\n",
       "    </tr>\n",
       "    <tr>\n",
       "      <th>...</th>\n",
       "      <td>...</td>\n",
       "      <td>...</td>\n",
       "      <td>...</td>\n",
       "      <td>...</td>\n",
       "      <td>...</td>\n",
       "      <td>...</td>\n",
       "      <td>...</td>\n",
       "      <td>...</td>\n",
       "      <td>...</td>\n",
       "      <td>...</td>\n",
       "      <td>...</td>\n",
       "      <td>...</td>\n",
       "      <td>...</td>\n",
       "      <td>...</td>\n",
       "      <td>...</td>\n",
       "      <td>...</td>\n",
       "      <td>...</td>\n",
       "      <td>...</td>\n",
       "      <td>...</td>\n",
       "      <td>...</td>\n",
       "      <td>...</td>\n",
       "    </tr>\n",
       "    <tr>\n",
       "      <th>1810</th>\n",
       "      <td>20.50</td>\n",
       "      <td>1502.25</td>\n",
       "      <td>0</td>\n",
       "      <td>2191</td>\n",
       "      <td>0</td>\n",
       "      <td>1</td>\n",
       "      <td>0</td>\n",
       "      <td>1</td>\n",
       "      <td>0</td>\n",
       "      <td>0</td>\n",
       "      <td>...</td>\n",
       "      <td>0</td>\n",
       "      <td>1</td>\n",
       "      <td>0</td>\n",
       "      <td>1</td>\n",
       "      <td>0</td>\n",
       "      <td>1</td>\n",
       "      <td>0</td>\n",
       "      <td>1</td>\n",
       "      <td>0</td>\n",
       "      <td>0</td>\n",
       "    </tr>\n",
       "    <tr>\n",
       "      <th>4769</th>\n",
       "      <td>51.55</td>\n",
       "      <td>106.20</td>\n",
       "      <td>0</td>\n",
       "      <td>62</td>\n",
       "      <td>0</td>\n",
       "      <td>0</td>\n",
       "      <td>0</td>\n",
       "      <td>0</td>\n",
       "      <td>0</td>\n",
       "      <td>1</td>\n",
       "      <td>...</td>\n",
       "      <td>0</td>\n",
       "      <td>0</td>\n",
       "      <td>0</td>\n",
       "      <td>0</td>\n",
       "      <td>0</td>\n",
       "      <td>0</td>\n",
       "      <td>0</td>\n",
       "      <td>0</td>\n",
       "      <td>0</td>\n",
       "      <td>0</td>\n",
       "    </tr>\n",
       "    <tr>\n",
       "      <th>400</th>\n",
       "      <td>19.75</td>\n",
       "      <td>624.15</td>\n",
       "      <td>0</td>\n",
       "      <td>975</td>\n",
       "      <td>1</td>\n",
       "      <td>0</td>\n",
       "      <td>0</td>\n",
       "      <td>0</td>\n",
       "      <td>0</td>\n",
       "      <td>0</td>\n",
       "      <td>...</td>\n",
       "      <td>0</td>\n",
       "      <td>1</td>\n",
       "      <td>0</td>\n",
       "      <td>1</td>\n",
       "      <td>0</td>\n",
       "      <td>1</td>\n",
       "      <td>0</td>\n",
       "      <td>1</td>\n",
       "      <td>0</td>\n",
       "      <td>0</td>\n",
       "    </tr>\n",
       "    <tr>\n",
       "      <th>6354</th>\n",
       "      <td>74.85</td>\n",
       "      <td>708.20</td>\n",
       "      <td>0</td>\n",
       "      <td>276</td>\n",
       "      <td>0</td>\n",
       "      <td>0</td>\n",
       "      <td>1</td>\n",
       "      <td>0</td>\n",
       "      <td>1</td>\n",
       "      <td>0</td>\n",
       "      <td>...</td>\n",
       "      <td>0</td>\n",
       "      <td>0</td>\n",
       "      <td>0</td>\n",
       "      <td>0</td>\n",
       "      <td>0</td>\n",
       "      <td>0</td>\n",
       "      <td>0</td>\n",
       "      <td>0</td>\n",
       "      <td>0</td>\n",
       "      <td>0</td>\n",
       "    </tr>\n",
       "    <tr>\n",
       "      <th>6050</th>\n",
       "      <td>40.30</td>\n",
       "      <td>1630.40</td>\n",
       "      <td>0</td>\n",
       "      <td>1187</td>\n",
       "      <td>1</td>\n",
       "      <td>0</td>\n",
       "      <td>1</td>\n",
       "      <td>0</td>\n",
       "      <td>0</td>\n",
       "      <td>0</td>\n",
       "      <td>...</td>\n",
       "      <td>0</td>\n",
       "      <td>0</td>\n",
       "      <td>1</td>\n",
       "      <td>0</td>\n",
       "      <td>0</td>\n",
       "      <td>0</td>\n",
       "      <td>0</td>\n",
       "      <td>0</td>\n",
       "      <td>0</td>\n",
       "      <td>1</td>\n",
       "    </tr>\n",
       "  </tbody>\n",
       "</table>\n",
       "<p>5625 rows × 29 columns</p>\n",
       "</div>"
      ],
      "text/plain": [
       "      monthly_charges  total_charges  senior_citizen  contract_age  \\\n",
       "21              19.80         202.25               0           365   \n",
       "5615            89.80        5629.55               1          1888   \n",
       "2681            79.85        1471.75               1           641   \n",
       "4580            95.00        3008.15               0          1006   \n",
       "5264            20.15        1337.50               0          2102   \n",
       "...               ...            ...             ...           ...   \n",
       "1810            20.50        1502.25               0          2191   \n",
       "4769            51.55         106.20               0            62   \n",
       "400             19.75         624.15               0           975   \n",
       "6354            74.85         708.20               0           276   \n",
       "6050            40.30        1630.40               0          1187   \n",
       "\n",
       "      type_One year  type_Two year  paperless_billing_Yes  \\\n",
       "21                1              0                      0   \n",
       "5615              0              0                      1   \n",
       "2681              0              0                      1   \n",
       "4580              0              0                      1   \n",
       "5264              0              1                      0   \n",
       "...             ...            ...                    ...   \n",
       "1810              0              1                      0   \n",
       "4769              0              0                      0   \n",
       "400               1              0                      0   \n",
       "6354              0              0                      1   \n",
       "6050              1              0                      1   \n",
       "\n",
       "      payment_method_Credit card (automatic)  payment_method_Electronic check  \\\n",
       "21                                         0                                0   \n",
       "5615                                       0                                0   \n",
       "2681                                       0                                1   \n",
       "4580                                       1                                0   \n",
       "5264                                       0                                0   \n",
       "...                                      ...                              ...   \n",
       "1810                                       1                                0   \n",
       "4769                                       0                                0   \n",
       "400                                        0                                0   \n",
       "6354                                       0                                1   \n",
       "6050                                       0                                0   \n",
       "\n",
       "      payment_method_Mailed check  ...  device_protection_Yes  \\\n",
       "21                              0  ...                      0   \n",
       "5615                            0  ...                      0   \n",
       "2681                            0  ...                      1   \n",
       "4580                            0  ...                      1   \n",
       "5264                            0  ...                      0   \n",
       "...                           ...  ...                    ...   \n",
       "1810                            0  ...                      0   \n",
       "4769                            1  ...                      0   \n",
       "400                             0  ...                      0   \n",
       "6354                            0  ...                      0   \n",
       "6050                            0  ...                      0   \n",
       "\n",
       "      device_protection_unknown  tech_support_Yes  tech_support_unknown  \\\n",
       "21                            1                 0                     1   \n",
       "5615                          0                 0                     0   \n",
       "2681                          0                 0                     0   \n",
       "4580                          0                 1                     0   \n",
       "5264                          1                 0                     1   \n",
       "...                         ...               ...                   ...   \n",
       "1810                          1                 0                     1   \n",
       "4769                          0                 0                     0   \n",
       "400                           1                 0                     1   \n",
       "6354                          0                 0                     0   \n",
       "6050                          0                 1                     0   \n",
       "\n",
       "      streaming_tv_Yes  streaming_tv_unknown  streaming_movies_Yes  \\\n",
       "21                   0                     1                     0   \n",
       "5615                 0                     0                     1   \n",
       "2681                 0                     0                     0   \n",
       "4580                 0                     0                     1   \n",
       "5264                 0                     1                     0   \n",
       "...                ...                   ...                   ...   \n",
       "1810                 0                     1                     0   \n",
       "4769                 0                     0                     0   \n",
       "400                  0                     1                     0   \n",
       "6354                 0                     0                     0   \n",
       "6050                 0                     0                     0   \n",
       "\n",
       "      streaming_movies_unknown  multiple_lines_Yes  multiple_lines_unknown  \n",
       "21                           1                   0                       0  \n",
       "5615                         0                   1                       0  \n",
       "2681                         0                   1                       0  \n",
       "4580                         0                   1                       0  \n",
       "5264                         1                   0                       0  \n",
       "...                        ...                 ...                     ...  \n",
       "1810                         1                   0                       0  \n",
       "4769                         0                   0                       0  \n",
       "400                          1                   0                       0  \n",
       "6354                         0                   0                       0  \n",
       "6050                         0                   0                       1  \n",
       "\n",
       "[5625 rows x 29 columns]"
      ]
     },
     "execution_count": 51,
     "metadata": {},
     "output_type": "execute_result"
    }
   ],
   "source": [
    "features_full"
   ]
  },
  {
   "cell_type": "markdown",
   "id": "df87a146",
   "metadata": {},
   "source": [
    "Генератор массивов весов:"
   ]
  },
  {
   "cell_type": "code",
   "execution_count": 52,
   "id": "7660e288",
   "metadata": {},
   "outputs": [],
   "source": [
    "def get_list_weights_array(column):\n",
    "    for mapper in weights_dicts:\n",
    "        yield column.map(mapper)"
   ]
  },
  {
   "cell_type": "markdown",
   "id": "17c88e55",
   "metadata": {},
   "source": [
    "### GradientBoostingClassifier"
   ]
  },
  {
   "cell_type": "markdown",
   "id": "538d2827",
   "metadata": {},
   "source": [
    "#### Определение оптимальных весов"
   ]
  },
  {
   "cell_type": "code",
   "execution_count": 53,
   "id": "2ed244d3",
   "metadata": {},
   "outputs": [
    {
     "name": "stdout",
     "output_type": "stream",
     "text": [
      "Scale: 1 Score: 0.7646618372507564\n",
      "Scale: 2 Score: 0.8024913982506322\n",
      "Scale: 3 Score: 0.8085488952452018\n",
      "Scale: 4 Score: 0.8058129171330266\n",
      "Scale: 5 Score: 0.7836789578410644\n",
      "Scale: 6 Score: 0.7759451560751149\n",
      "Scale: 7 Score: 0.7769504207602704\n",
      "Scale: 8 Score: 0.7652240600257015\n",
      "\n",
      "Best score 0.8085488952452018 at scale 3\n",
      "CPU times: user 4.59 s, sys: 34.8 ms, total: 4.62 s\n",
      "Wall time: 4.64 s\n"
     ]
    }
   ],
   "source": [
    "%%time\n",
    "model_gbc = Pipeline([('scaler', StandardScaler()), ('model', GradientBoostingClassifier(random_state=10))])\n",
    "best_score = 0\n",
    "scale = 0\n",
    "for weights in get_list_weights_array(target_train):\n",
    "    model_gbc.fit(features_train, target_train, model__sample_weight = weights)\n",
    "    prediction = model_gbc.predict(features_valid)\n",
    "    score = roc_auc_score(target_valid, prediction)\n",
    "    \n",
    "    scale+=1\n",
    "    \n",
    "    if score > best_score:\n",
    "        best_score = score\n",
    "        #best_weights_gdc = weights\n",
    "        best_scale_gbc = scale\n",
    "    \n",
    "    print('Scale:', scale, 'Score:', score)\n",
    "    \n",
    "print()\n",
    "print('Best score', best_score, 'at scale', best_scale_gbc)"
   ]
  },
  {
   "cell_type": "markdown",
   "id": "8c7e5fbf",
   "metadata": {},
   "source": [
    "#### Обучение и поиск оптимальных гиперпараметров"
   ]
  },
  {
   "cell_type": "code",
   "execution_count": 54,
   "id": "8d95a853",
   "metadata": {},
   "outputs": [
    {
     "name": "stdout",
     "output_type": "stream",
     "text": [
      "Fitting 4 folds for each of 72 candidates, totalling 288 fits\n",
      "[CV] END model__learning_rate=0.1, model__loss=deviance, model__max_depth=4, model__n_estimators=110, model__random_state=10; total time=   0.9s\n",
      "[CV] END model__learning_rate=0.1, model__loss=deviance, model__max_depth=4, model__n_estimators=110, model__random_state=10; total time=   0.8s\n",
      "[CV] END model__learning_rate=0.1, model__loss=deviance, model__max_depth=4, model__n_estimators=110, model__random_state=10; total time=   0.9s\n",
      "[CV] END model__learning_rate=0.1, model__loss=deviance, model__max_depth=4, model__n_estimators=110, model__random_state=10; total time=   0.9s\n",
      "[CV] END model__learning_rate=0.1, model__loss=deviance, model__max_depth=4, model__n_estimators=130, model__random_state=10; total time=   1.0s\n",
      "[CV] END model__learning_rate=0.1, model__loss=deviance, model__max_depth=4, model__n_estimators=130, model__random_state=10; total time=   1.0s\n",
      "[CV] END model__learning_rate=0.1, model__loss=deviance, model__max_depth=4, model__n_estimators=130, model__random_state=10; total time=   1.0s\n",
      "[CV] END model__learning_rate=0.1, model__loss=deviance, model__max_depth=4, model__n_estimators=130, model__random_state=10; total time=   1.0s\n",
      "[CV] END model__learning_rate=0.1, model__loss=deviance, model__max_depth=4, model__n_estimators=150, model__random_state=10; total time=   1.2s\n",
      "[CV] END model__learning_rate=0.1, model__loss=deviance, model__max_depth=4, model__n_estimators=150, model__random_state=10; total time=   1.2s\n",
      "[CV] END model__learning_rate=0.1, model__loss=deviance, model__max_depth=4, model__n_estimators=150, model__random_state=10; total time=   1.1s\n",
      "[CV] END model__learning_rate=0.1, model__loss=deviance, model__max_depth=4, model__n_estimators=150, model__random_state=10; total time=   1.2s\n",
      "[CV] END model__learning_rate=0.1, model__loss=deviance, model__max_depth=4, model__n_estimators=170, model__random_state=10; total time=   1.4s\n",
      "[CV] END model__learning_rate=0.1, model__loss=deviance, model__max_depth=4, model__n_estimators=170, model__random_state=10; total time=   1.4s\n",
      "[CV] END model__learning_rate=0.1, model__loss=deviance, model__max_depth=4, model__n_estimators=170, model__random_state=10; total time=   1.3s\n",
      "[CV] END model__learning_rate=0.1, model__loss=deviance, model__max_depth=4, model__n_estimators=170, model__random_state=10; total time=   1.5s\n",
      "[CV] END model__learning_rate=0.1, model__loss=deviance, model__max_depth=4, model__n_estimators=190, model__random_state=10; total time=   1.6s\n",
      "[CV] END model__learning_rate=0.1, model__loss=deviance, model__max_depth=4, model__n_estimators=190, model__random_state=10; total time=   1.5s\n",
      "[CV] END model__learning_rate=0.1, model__loss=deviance, model__max_depth=4, model__n_estimators=190, model__random_state=10; total time=   1.5s\n",
      "[CV] END model__learning_rate=0.1, model__loss=deviance, model__max_depth=4, model__n_estimators=190, model__random_state=10; total time=   1.5s\n",
      "[CV] END model__learning_rate=0.1, model__loss=deviance, model__max_depth=4, model__n_estimators=210, model__random_state=10; total time=   1.7s\n",
      "[CV] END model__learning_rate=0.1, model__loss=deviance, model__max_depth=4, model__n_estimators=210, model__random_state=10; total time=   1.7s\n",
      "[CV] END model__learning_rate=0.1, model__loss=deviance, model__max_depth=4, model__n_estimators=210, model__random_state=10; total time=   1.7s\n",
      "[CV] END model__learning_rate=0.1, model__loss=deviance, model__max_depth=4, model__n_estimators=210, model__random_state=10; total time=   1.6s\n",
      "[CV] END model__learning_rate=0.1, model__loss=deviance, model__max_depth=5, model__n_estimators=110, model__random_state=10; total time=   1.0s\n",
      "[CV] END model__learning_rate=0.1, model__loss=deviance, model__max_depth=5, model__n_estimators=110, model__random_state=10; total time=   1.0s\n",
      "[CV] END model__learning_rate=0.1, model__loss=deviance, model__max_depth=5, model__n_estimators=110, model__random_state=10; total time=   1.0s\n",
      "[CV] END model__learning_rate=0.1, model__loss=deviance, model__max_depth=5, model__n_estimators=110, model__random_state=10; total time=   1.0s\n",
      "[CV] END model__learning_rate=0.1, model__loss=deviance, model__max_depth=5, model__n_estimators=130, model__random_state=10; total time=   1.3s\n",
      "[CV] END model__learning_rate=0.1, model__loss=deviance, model__max_depth=5, model__n_estimators=130, model__random_state=10; total time=   1.3s\n",
      "[CV] END model__learning_rate=0.1, model__loss=deviance, model__max_depth=5, model__n_estimators=130, model__random_state=10; total time=   1.4s\n",
      "[CV] END model__learning_rate=0.1, model__loss=deviance, model__max_depth=5, model__n_estimators=130, model__random_state=10; total time=   1.3s\n",
      "[CV] END model__learning_rate=0.1, model__loss=deviance, model__max_depth=5, model__n_estimators=150, model__random_state=10; total time=   1.4s\n",
      "[CV] END model__learning_rate=0.1, model__loss=deviance, model__max_depth=5, model__n_estimators=150, model__random_state=10; total time=   1.4s\n",
      "[CV] END model__learning_rate=0.1, model__loss=deviance, model__max_depth=5, model__n_estimators=150, model__random_state=10; total time=   1.4s\n",
      "[CV] END model__learning_rate=0.1, model__loss=deviance, model__max_depth=5, model__n_estimators=150, model__random_state=10; total time=   1.4s\n",
      "[CV] END model__learning_rate=0.1, model__loss=deviance, model__max_depth=5, model__n_estimators=170, model__random_state=10; total time=   1.6s\n",
      "[CV] END model__learning_rate=0.1, model__loss=deviance, model__max_depth=5, model__n_estimators=170, model__random_state=10; total time=   1.7s\n",
      "[CV] END model__learning_rate=0.1, model__loss=deviance, model__max_depth=5, model__n_estimators=170, model__random_state=10; total time=   1.7s\n",
      "[CV] END model__learning_rate=0.1, model__loss=deviance, model__max_depth=5, model__n_estimators=170, model__random_state=10; total time=   1.6s\n",
      "[CV] END model__learning_rate=0.1, model__loss=deviance, model__max_depth=5, model__n_estimators=190, model__random_state=10; total time=   1.8s\n",
      "[CV] END model__learning_rate=0.1, model__loss=deviance, model__max_depth=5, model__n_estimators=190, model__random_state=10; total time=   1.9s\n",
      "[CV] END model__learning_rate=0.1, model__loss=deviance, model__max_depth=5, model__n_estimators=190, model__random_state=10; total time=   1.8s\n",
      "[CV] END model__learning_rate=0.1, model__loss=deviance, model__max_depth=5, model__n_estimators=190, model__random_state=10; total time=   1.8s\n",
      "[CV] END model__learning_rate=0.1, model__loss=deviance, model__max_depth=5, model__n_estimators=210, model__random_state=10; total time=   1.9s\n",
      "[CV] END model__learning_rate=0.1, model__loss=deviance, model__max_depth=5, model__n_estimators=210, model__random_state=10; total time=   1.9s\n",
      "[CV] END model__learning_rate=0.1, model__loss=deviance, model__max_depth=5, model__n_estimators=210, model__random_state=10; total time=   2.0s\n",
      "[CV] END model__learning_rate=0.1, model__loss=deviance, model__max_depth=5, model__n_estimators=210, model__random_state=10; total time=   2.0s\n",
      "[CV] END model__learning_rate=0.1, model__loss=deviance, model__max_depth=6, model__n_estimators=110, model__random_state=10; total time=   1.3s\n",
      "[CV] END model__learning_rate=0.1, model__loss=deviance, model__max_depth=6, model__n_estimators=110, model__random_state=10; total time=   1.3s\n",
      "[CV] END model__learning_rate=0.1, model__loss=deviance, model__max_depth=6, model__n_estimators=110, model__random_state=10; total time=   1.3s\n",
      "[CV] END model__learning_rate=0.1, model__loss=deviance, model__max_depth=6, model__n_estimators=110, model__random_state=10; total time=   1.3s\n",
      "[CV] END model__learning_rate=0.1, model__loss=deviance, model__max_depth=6, model__n_estimators=130, model__random_state=10; total time=   1.5s\n",
      "[CV] END model__learning_rate=0.1, model__loss=deviance, model__max_depth=6, model__n_estimators=130, model__random_state=10; total time=   1.5s\n",
      "[CV] END model__learning_rate=0.1, model__loss=deviance, model__max_depth=6, model__n_estimators=130, model__random_state=10; total time=   1.5s\n",
      "[CV] END model__learning_rate=0.1, model__loss=deviance, model__max_depth=6, model__n_estimators=130, model__random_state=10; total time=   1.6s\n",
      "[CV] END model__learning_rate=0.1, model__loss=deviance, model__max_depth=6, model__n_estimators=150, model__random_state=10; total time=   1.8s\n",
      "[CV] END model__learning_rate=0.1, model__loss=deviance, model__max_depth=6, model__n_estimators=150, model__random_state=10; total time=   1.9s\n",
      "[CV] END model__learning_rate=0.1, model__loss=deviance, model__max_depth=6, model__n_estimators=150, model__random_state=10; total time=   1.7s\n",
      "[CV] END model__learning_rate=0.1, model__loss=deviance, model__max_depth=6, model__n_estimators=150, model__random_state=10; total time=   1.9s\n",
      "[CV] END model__learning_rate=0.1, model__loss=deviance, model__max_depth=6, model__n_estimators=170, model__random_state=10; total time=   2.1s\n",
      "[CV] END model__learning_rate=0.1, model__loss=deviance, model__max_depth=6, model__n_estimators=170, model__random_state=10; total time=   1.9s\n",
      "[CV] END model__learning_rate=0.1, model__loss=deviance, model__max_depth=6, model__n_estimators=170, model__random_state=10; total time=   2.0s\n",
      "[CV] END model__learning_rate=0.1, model__loss=deviance, model__max_depth=6, model__n_estimators=170, model__random_state=10; total time=   2.0s\n",
      "[CV] END model__learning_rate=0.1, model__loss=deviance, model__max_depth=6, model__n_estimators=190, model__random_state=10; total time=   2.2s\n",
      "[CV] END model__learning_rate=0.1, model__loss=deviance, model__max_depth=6, model__n_estimators=190, model__random_state=10; total time=   2.3s\n",
      "[CV] END model__learning_rate=0.1, model__loss=deviance, model__max_depth=6, model__n_estimators=190, model__random_state=10; total time=   2.2s\n",
      "[CV] END model__learning_rate=0.1, model__loss=deviance, model__max_depth=6, model__n_estimators=190, model__random_state=10; total time=   2.2s\n",
      "[CV] END model__learning_rate=0.1, model__loss=deviance, model__max_depth=6, model__n_estimators=210, model__random_state=10; total time=   2.4s\n",
      "[CV] END model__learning_rate=0.1, model__loss=deviance, model__max_depth=6, model__n_estimators=210, model__random_state=10; total time=   2.4s\n",
      "[CV] END model__learning_rate=0.1, model__loss=deviance, model__max_depth=6, model__n_estimators=210, model__random_state=10; total time=   2.4s\n",
      "[CV] END model__learning_rate=0.1, model__loss=deviance, model__max_depth=6, model__n_estimators=210, model__random_state=10; total time=   2.4s\n",
      "[CV] END model__learning_rate=0.1, model__loss=exponential, model__max_depth=4, model__n_estimators=110, model__random_state=10; total time=   0.8s\n",
      "[CV] END model__learning_rate=0.1, model__loss=exponential, model__max_depth=4, model__n_estimators=110, model__random_state=10; total time=   0.8s\n",
      "[CV] END model__learning_rate=0.1, model__loss=exponential, model__max_depth=4, model__n_estimators=110, model__random_state=10; total time=   0.8s\n",
      "[CV] END model__learning_rate=0.1, model__loss=exponential, model__max_depth=4, model__n_estimators=110, model__random_state=10; total time=   0.8s\n",
      "[CV] END model__learning_rate=0.1, model__loss=exponential, model__max_depth=4, model__n_estimators=130, model__random_state=10; total time=   1.0s\n",
      "[CV] END model__learning_rate=0.1, model__loss=exponential, model__max_depth=4, model__n_estimators=130, model__random_state=10; total time=   1.0s\n",
      "[CV] END model__learning_rate=0.1, model__loss=exponential, model__max_depth=4, model__n_estimators=130, model__random_state=10; total time=   1.0s\n",
      "[CV] END model__learning_rate=0.1, model__loss=exponential, model__max_depth=4, model__n_estimators=130, model__random_state=10; total time=   1.0s\n",
      "[CV] END model__learning_rate=0.1, model__loss=exponential, model__max_depth=4, model__n_estimators=150, model__random_state=10; total time=   1.1s\n",
      "[CV] END model__learning_rate=0.1, model__loss=exponential, model__max_depth=4, model__n_estimators=150, model__random_state=10; total time=   1.2s\n",
      "[CV] END model__learning_rate=0.1, model__loss=exponential, model__max_depth=4, model__n_estimators=150, model__random_state=10; total time=   1.1s\n",
      "[CV] END model__learning_rate=0.1, model__loss=exponential, model__max_depth=4, model__n_estimators=150, model__random_state=10; total time=   1.2s\n",
      "[CV] END model__learning_rate=0.1, model__loss=exponential, model__max_depth=4, model__n_estimators=170, model__random_state=10; total time=   1.3s\n",
      "[CV] END model__learning_rate=0.1, model__loss=exponential, model__max_depth=4, model__n_estimators=170, model__random_state=10; total time=   1.3s\n",
      "[CV] END model__learning_rate=0.1, model__loss=exponential, model__max_depth=4, model__n_estimators=170, model__random_state=10; total time=   1.3s\n",
      "[CV] END model__learning_rate=0.1, model__loss=exponential, model__max_depth=4, model__n_estimators=170, model__random_state=10; total time=   1.3s\n",
      "[CV] END model__learning_rate=0.1, model__loss=exponential, model__max_depth=4, model__n_estimators=190, model__random_state=10; total time=   1.4s\n",
      "[CV] END model__learning_rate=0.1, model__loss=exponential, model__max_depth=4, model__n_estimators=190, model__random_state=10; total time=   1.5s\n",
      "[CV] END model__learning_rate=0.1, model__loss=exponential, model__max_depth=4, model__n_estimators=190, model__random_state=10; total time=   1.5s\n",
      "[CV] END model__learning_rate=0.1, model__loss=exponential, model__max_depth=4, model__n_estimators=190, model__random_state=10; total time=   1.6s\n",
      "[CV] END model__learning_rate=0.1, model__loss=exponential, model__max_depth=4, model__n_estimators=210, model__random_state=10; total time=   1.7s\n",
      "[CV] END model__learning_rate=0.1, model__loss=exponential, model__max_depth=4, model__n_estimators=210, model__random_state=10; total time=   1.9s\n",
      "[CV] END model__learning_rate=0.1, model__loss=exponential, model__max_depth=4, model__n_estimators=210, model__random_state=10; total time=   1.7s\n",
      "[CV] END model__learning_rate=0.1, model__loss=exponential, model__max_depth=4, model__n_estimators=210, model__random_state=10; total time=   1.8s\n",
      "[CV] END model__learning_rate=0.1, model__loss=exponential, model__max_depth=5, model__n_estimators=110, model__random_state=10; total time=   1.1s\n",
      "[CV] END model__learning_rate=0.1, model__loss=exponential, model__max_depth=5, model__n_estimators=110, model__random_state=10; total time=   1.1s\n",
      "[CV] END model__learning_rate=0.1, model__loss=exponential, model__max_depth=5, model__n_estimators=110, model__random_state=10; total time=   1.0s\n",
      "[CV] END model__learning_rate=0.1, model__loss=exponential, model__max_depth=5, model__n_estimators=110, model__random_state=10; total time=   1.1s\n",
      "[CV] END model__learning_rate=0.1, model__loss=exponential, model__max_depth=5, model__n_estimators=130, model__random_state=10; total time=   1.4s\n",
      "[CV] END model__learning_rate=0.1, model__loss=exponential, model__max_depth=5, model__n_estimators=130, model__random_state=10; total time=   1.3s\n",
      "[CV] END model__learning_rate=0.1, model__loss=exponential, model__max_depth=5, model__n_estimators=130, model__random_state=10; total time=   1.3s\n",
      "[CV] END model__learning_rate=0.1, model__loss=exponential, model__max_depth=5, model__n_estimators=130, model__random_state=10; total time=   1.3s\n",
      "[CV] END model__learning_rate=0.1, model__loss=exponential, model__max_depth=5, model__n_estimators=150, model__random_state=10; total time=   1.5s\n",
      "[CV] END model__learning_rate=0.1, model__loss=exponential, model__max_depth=5, model__n_estimators=150, model__random_state=10; total time=   1.5s\n",
      "[CV] END model__learning_rate=0.1, model__loss=exponential, model__max_depth=5, model__n_estimators=150, model__random_state=10; total time=   1.5s\n",
      "[CV] END model__learning_rate=0.1, model__loss=exponential, model__max_depth=5, model__n_estimators=150, model__random_state=10; total time=   1.5s\n",
      "[CV] END model__learning_rate=0.1, model__loss=exponential, model__max_depth=5, model__n_estimators=170, model__random_state=10; total time=   1.6s\n",
      "[CV] END model__learning_rate=0.1, model__loss=exponential, model__max_depth=5, model__n_estimators=170, model__random_state=10; total time=   1.6s\n",
      "[CV] END model__learning_rate=0.1, model__loss=exponential, model__max_depth=5, model__n_estimators=170, model__random_state=10; total time=   1.6s\n",
      "[CV] END model__learning_rate=0.1, model__loss=exponential, model__max_depth=5, model__n_estimators=170, model__random_state=10; total time=   1.6s\n",
      "[CV] END model__learning_rate=0.1, model__loss=exponential, model__max_depth=5, model__n_estimators=190, model__random_state=10; total time=   1.8s\n",
      "[CV] END model__learning_rate=0.1, model__loss=exponential, model__max_depth=5, model__n_estimators=190, model__random_state=10; total time=   1.8s\n",
      "[CV] END model__learning_rate=0.1, model__loss=exponential, model__max_depth=5, model__n_estimators=190, model__random_state=10; total time=   1.7s\n",
      "[CV] END model__learning_rate=0.1, model__loss=exponential, model__max_depth=5, model__n_estimators=190, model__random_state=10; total time=   1.9s\n",
      "[CV] END model__learning_rate=0.1, model__loss=exponential, model__max_depth=5, model__n_estimators=210, model__random_state=10; total time=   1.9s\n",
      "[CV] END model__learning_rate=0.1, model__loss=exponential, model__max_depth=5, model__n_estimators=210, model__random_state=10; total time=   2.0s\n",
      "[CV] END model__learning_rate=0.1, model__loss=exponential, model__max_depth=5, model__n_estimators=210, model__random_state=10; total time=   2.0s\n",
      "[CV] END model__learning_rate=0.1, model__loss=exponential, model__max_depth=5, model__n_estimators=210, model__random_state=10; total time=   2.1s\n",
      "[CV] END model__learning_rate=0.1, model__loss=exponential, model__max_depth=6, model__n_estimators=110, model__random_state=10; total time=   1.3s\n",
      "[CV] END model__learning_rate=0.1, model__loss=exponential, model__max_depth=6, model__n_estimators=110, model__random_state=10; total time=   1.3s\n",
      "[CV] END model__learning_rate=0.1, model__loss=exponential, model__max_depth=6, model__n_estimators=110, model__random_state=10; total time=   1.3s\n",
      "[CV] END model__learning_rate=0.1, model__loss=exponential, model__max_depth=6, model__n_estimators=110, model__random_state=10; total time=   1.3s\n",
      "[CV] END model__learning_rate=0.1, model__loss=exponential, model__max_depth=6, model__n_estimators=130, model__random_state=10; total time=   1.6s\n",
      "[CV] END model__learning_rate=0.1, model__loss=exponential, model__max_depth=6, model__n_estimators=130, model__random_state=10; total time=   1.5s\n",
      "[CV] END model__learning_rate=0.1, model__loss=exponential, model__max_depth=6, model__n_estimators=130, model__random_state=10; total time=   1.5s\n",
      "[CV] END model__learning_rate=0.1, model__loss=exponential, model__max_depth=6, model__n_estimators=130, model__random_state=10; total time=   1.5s\n",
      "[CV] END model__learning_rate=0.1, model__loss=exponential, model__max_depth=6, model__n_estimators=150, model__random_state=10; total time=   1.8s\n",
      "[CV] END model__learning_rate=0.1, model__loss=exponential, model__max_depth=6, model__n_estimators=150, model__random_state=10; total time=   1.7s\n",
      "[CV] END model__learning_rate=0.1, model__loss=exponential, model__max_depth=6, model__n_estimators=150, model__random_state=10; total time=   1.8s\n",
      "[CV] END model__learning_rate=0.1, model__loss=exponential, model__max_depth=6, model__n_estimators=150, model__random_state=10; total time=   1.9s\n",
      "[CV] END model__learning_rate=0.1, model__loss=exponential, model__max_depth=6, model__n_estimators=170, model__random_state=10; total time=   2.1s\n",
      "[CV] END model__learning_rate=0.1, model__loss=exponential, model__max_depth=6, model__n_estimators=170, model__random_state=10; total time=   2.0s\n",
      "[CV] END model__learning_rate=0.1, model__loss=exponential, model__max_depth=6, model__n_estimators=170, model__random_state=10; total time=   2.0s\n",
      "[CV] END model__learning_rate=0.1, model__loss=exponential, model__max_depth=6, model__n_estimators=170, model__random_state=10; total time=   2.4s\n",
      "[CV] END model__learning_rate=0.1, model__loss=exponential, model__max_depth=6, model__n_estimators=190, model__random_state=10; total time=   2.2s\n",
      "[CV] END model__learning_rate=0.1, model__loss=exponential, model__max_depth=6, model__n_estimators=190, model__random_state=10; total time=   2.2s\n",
      "[CV] END model__learning_rate=0.1, model__loss=exponential, model__max_depth=6, model__n_estimators=190, model__random_state=10; total time=   2.1s\n",
      "[CV] END model__learning_rate=0.1, model__loss=exponential, model__max_depth=6, model__n_estimators=190, model__random_state=10; total time=   2.2s\n",
      "[CV] END model__learning_rate=0.1, model__loss=exponential, model__max_depth=6, model__n_estimators=210, model__random_state=10; total time=   2.4s\n",
      "[CV] END model__learning_rate=0.1, model__loss=exponential, model__max_depth=6, model__n_estimators=210, model__random_state=10; total time=   2.4s\n",
      "[CV] END model__learning_rate=0.1, model__loss=exponential, model__max_depth=6, model__n_estimators=210, model__random_state=10; total time=   2.5s\n",
      "[CV] END model__learning_rate=0.1, model__loss=exponential, model__max_depth=6, model__n_estimators=210, model__random_state=10; total time=   2.4s\n",
      "[CV] END model__learning_rate=0.08, model__loss=deviance, model__max_depth=4, model__n_estimators=110, model__random_state=10; total time=   0.8s\n",
      "[CV] END model__learning_rate=0.08, model__loss=deviance, model__max_depth=4, model__n_estimators=110, model__random_state=10; total time=   0.8s\n",
      "[CV] END model__learning_rate=0.08, model__loss=deviance, model__max_depth=4, model__n_estimators=110, model__random_state=10; total time=   0.8s\n",
      "[CV] END model__learning_rate=0.08, model__loss=deviance, model__max_depth=4, model__n_estimators=110, model__random_state=10; total time=   0.8s\n",
      "[CV] END model__learning_rate=0.08, model__loss=deviance, model__max_depth=4, model__n_estimators=130, model__random_state=10; total time=   1.0s\n",
      "[CV] END model__learning_rate=0.08, model__loss=deviance, model__max_depth=4, model__n_estimators=130, model__random_state=10; total time=   1.0s\n",
      "[CV] END model__learning_rate=0.08, model__loss=deviance, model__max_depth=4, model__n_estimators=130, model__random_state=10; total time=   1.0s\n",
      "[CV] END model__learning_rate=0.08, model__loss=deviance, model__max_depth=4, model__n_estimators=130, model__random_state=10; total time=   1.0s\n",
      "[CV] END model__learning_rate=0.08, model__loss=deviance, model__max_depth=4, model__n_estimators=150, model__random_state=10; total time=   1.1s\n",
      "[CV] END model__learning_rate=0.08, model__loss=deviance, model__max_depth=4, model__n_estimators=150, model__random_state=10; total time=   1.1s\n",
      "[CV] END model__learning_rate=0.08, model__loss=deviance, model__max_depth=4, model__n_estimators=150, model__random_state=10; total time=   1.2s\n",
      "[CV] END model__learning_rate=0.08, model__loss=deviance, model__max_depth=4, model__n_estimators=150, model__random_state=10; total time=   1.2s\n",
      "[CV] END model__learning_rate=0.08, model__loss=deviance, model__max_depth=4, model__n_estimators=170, model__random_state=10; total time=   1.4s\n",
      "[CV] END model__learning_rate=0.08, model__loss=deviance, model__max_depth=4, model__n_estimators=170, model__random_state=10; total time=   1.3s\n",
      "[CV] END model__learning_rate=0.08, model__loss=deviance, model__max_depth=4, model__n_estimators=170, model__random_state=10; total time=   1.3s\n",
      "[CV] END model__learning_rate=0.08, model__loss=deviance, model__max_depth=4, model__n_estimators=170, model__random_state=10; total time=   1.3s\n",
      "[CV] END model__learning_rate=0.08, model__loss=deviance, model__max_depth=4, model__n_estimators=190, model__random_state=10; total time=   1.5s\n",
      "[CV] END model__learning_rate=0.08, model__loss=deviance, model__max_depth=4, model__n_estimators=190, model__random_state=10; total time=   1.4s\n",
      "[CV] END model__learning_rate=0.08, model__loss=deviance, model__max_depth=4, model__n_estimators=190, model__random_state=10; total time=   1.5s\n",
      "[CV] END model__learning_rate=0.08, model__loss=deviance, model__max_depth=4, model__n_estimators=190, model__random_state=10; total time=   1.5s\n",
      "[CV] END model__learning_rate=0.08, model__loss=deviance, model__max_depth=4, model__n_estimators=210, model__random_state=10; total time=   1.5s\n",
      "[CV] END model__learning_rate=0.08, model__loss=deviance, model__max_depth=4, model__n_estimators=210, model__random_state=10; total time=   1.6s\n",
      "[CV] END model__learning_rate=0.08, model__loss=deviance, model__max_depth=4, model__n_estimators=210, model__random_state=10; total time=   1.6s\n",
      "[CV] END model__learning_rate=0.08, model__loss=deviance, model__max_depth=4, model__n_estimators=210, model__random_state=10; total time=   1.7s\n",
      "[CV] END model__learning_rate=0.08, model__loss=deviance, model__max_depth=5, model__n_estimators=110, model__random_state=10; total time=   1.1s\n",
      "[CV] END model__learning_rate=0.08, model__loss=deviance, model__max_depth=5, model__n_estimators=110, model__random_state=10; total time=   1.2s\n",
      "[CV] END model__learning_rate=0.08, model__loss=deviance, model__max_depth=5, model__n_estimators=110, model__random_state=10; total time=   1.2s\n",
      "[CV] END model__learning_rate=0.08, model__loss=deviance, model__max_depth=5, model__n_estimators=110, model__random_state=10; total time=   1.2s\n",
      "[CV] END model__learning_rate=0.08, model__loss=deviance, model__max_depth=5, model__n_estimators=130, model__random_state=10; total time=   1.4s\n",
      "[CV] END model__learning_rate=0.08, model__loss=deviance, model__max_depth=5, model__n_estimators=130, model__random_state=10; total time=   1.4s\n",
      "[CV] END model__learning_rate=0.08, model__loss=deviance, model__max_depth=5, model__n_estimators=130, model__random_state=10; total time=   1.3s\n",
      "[CV] END model__learning_rate=0.08, model__loss=deviance, model__max_depth=5, model__n_estimators=130, model__random_state=10; total time=   1.2s\n",
      "[CV] END model__learning_rate=0.08, model__loss=deviance, model__max_depth=5, model__n_estimators=150, model__random_state=10; total time=   1.5s\n",
      "[CV] END model__learning_rate=0.08, model__loss=deviance, model__max_depth=5, model__n_estimators=150, model__random_state=10; total time=   1.4s\n",
      "[CV] END model__learning_rate=0.08, model__loss=deviance, model__max_depth=5, model__n_estimators=150, model__random_state=10; total time=   1.4s\n",
      "[CV] END model__learning_rate=0.08, model__loss=deviance, model__max_depth=5, model__n_estimators=150, model__random_state=10; total time=   1.4s\n",
      "[CV] END model__learning_rate=0.08, model__loss=deviance, model__max_depth=5, model__n_estimators=170, model__random_state=10; total time=   2.1s\n",
      "[CV] END model__learning_rate=0.08, model__loss=deviance, model__max_depth=5, model__n_estimators=170, model__random_state=10; total time=   3.6s\n",
      "[CV] END model__learning_rate=0.08, model__loss=deviance, model__max_depth=5, model__n_estimators=170, model__random_state=10; total time=   1.6s\n",
      "[CV] END model__learning_rate=0.08, model__loss=deviance, model__max_depth=5, model__n_estimators=170, model__random_state=10; total time=   1.6s\n",
      "[CV] END model__learning_rate=0.08, model__loss=deviance, model__max_depth=5, model__n_estimators=190, model__random_state=10; total time=   1.8s\n",
      "[CV] END model__learning_rate=0.08, model__loss=deviance, model__max_depth=5, model__n_estimators=190, model__random_state=10; total time=   1.8s\n",
      "[CV] END model__learning_rate=0.08, model__loss=deviance, model__max_depth=5, model__n_estimators=190, model__random_state=10; total time=   1.9s\n",
      "[CV] END model__learning_rate=0.08, model__loss=deviance, model__max_depth=5, model__n_estimators=190, model__random_state=10; total time=   1.8s\n",
      "[CV] END model__learning_rate=0.08, model__loss=deviance, model__max_depth=5, model__n_estimators=210, model__random_state=10; total time=   2.1s\n",
      "[CV] END model__learning_rate=0.08, model__loss=deviance, model__max_depth=5, model__n_estimators=210, model__random_state=10; total time=   2.1s\n",
      "[CV] END model__learning_rate=0.08, model__loss=deviance, model__max_depth=5, model__n_estimators=210, model__random_state=10; total time=   2.0s\n",
      "[CV] END model__learning_rate=0.08, model__loss=deviance, model__max_depth=5, model__n_estimators=210, model__random_state=10; total time=   2.0s\n",
      "[CV] END model__learning_rate=0.08, model__loss=deviance, model__max_depth=6, model__n_estimators=110, model__random_state=10; total time=   1.3s\n",
      "[CV] END model__learning_rate=0.08, model__loss=deviance, model__max_depth=6, model__n_estimators=110, model__random_state=10; total time=   1.4s\n",
      "[CV] END model__learning_rate=0.08, model__loss=deviance, model__max_depth=6, model__n_estimators=110, model__random_state=10; total time=   1.4s\n",
      "[CV] END model__learning_rate=0.08, model__loss=deviance, model__max_depth=6, model__n_estimators=110, model__random_state=10; total time=   1.3s\n",
      "[CV] END model__learning_rate=0.08, model__loss=deviance, model__max_depth=6, model__n_estimators=130, model__random_state=10; total time=   1.5s\n",
      "[CV] END model__learning_rate=0.08, model__loss=deviance, model__max_depth=6, model__n_estimators=130, model__random_state=10; total time=   1.5s\n",
      "[CV] END model__learning_rate=0.08, model__loss=deviance, model__max_depth=6, model__n_estimators=130, model__random_state=10; total time=   1.5s\n",
      "[CV] END model__learning_rate=0.08, model__loss=deviance, model__max_depth=6, model__n_estimators=130, model__random_state=10; total time=   1.7s\n",
      "[CV] END model__learning_rate=0.08, model__loss=deviance, model__max_depth=6, model__n_estimators=150, model__random_state=10; total time=   1.8s\n",
      "[CV] END model__learning_rate=0.08, model__loss=deviance, model__max_depth=6, model__n_estimators=150, model__random_state=10; total time=   1.7s\n",
      "[CV] END model__learning_rate=0.08, model__loss=deviance, model__max_depth=6, model__n_estimators=150, model__random_state=10; total time=   1.8s\n",
      "[CV] END model__learning_rate=0.08, model__loss=deviance, model__max_depth=6, model__n_estimators=150, model__random_state=10; total time=   1.8s\n",
      "[CV] END model__learning_rate=0.08, model__loss=deviance, model__max_depth=6, model__n_estimators=170, model__random_state=10; total time=   2.1s\n",
      "[CV] END model__learning_rate=0.08, model__loss=deviance, model__max_depth=6, model__n_estimators=170, model__random_state=10; total time=   2.1s\n",
      "[CV] END model__learning_rate=0.08, model__loss=deviance, model__max_depth=6, model__n_estimators=170, model__random_state=10; total time=   2.1s\n",
      "[CV] END model__learning_rate=0.08, model__loss=deviance, model__max_depth=6, model__n_estimators=170, model__random_state=10; total time=   2.1s\n",
      "[CV] END model__learning_rate=0.08, model__loss=deviance, model__max_depth=6, model__n_estimators=190, model__random_state=10; total time=   2.2s\n",
      "[CV] END model__learning_rate=0.08, model__loss=deviance, model__max_depth=6, model__n_estimators=190, model__random_state=10; total time=   2.5s\n",
      "[CV] END model__learning_rate=0.08, model__loss=deviance, model__max_depth=6, model__n_estimators=190, model__random_state=10; total time=   2.3s\n",
      "[CV] END model__learning_rate=0.08, model__loss=deviance, model__max_depth=6, model__n_estimators=190, model__random_state=10; total time=   2.3s\n",
      "[CV] END model__learning_rate=0.08, model__loss=deviance, model__max_depth=6, model__n_estimators=210, model__random_state=10; total time=   2.4s\n",
      "[CV] END model__learning_rate=0.08, model__loss=deviance, model__max_depth=6, model__n_estimators=210, model__random_state=10; total time=   2.4s\n",
      "[CV] END model__learning_rate=0.08, model__loss=deviance, model__max_depth=6, model__n_estimators=210, model__random_state=10; total time=   2.5s\n",
      "[CV] END model__learning_rate=0.08, model__loss=deviance, model__max_depth=6, model__n_estimators=210, model__random_state=10; total time=   2.5s\n",
      "[CV] END model__learning_rate=0.08, model__loss=exponential, model__max_depth=4, model__n_estimators=110, model__random_state=10; total time=   0.9s\n",
      "[CV] END model__learning_rate=0.08, model__loss=exponential, model__max_depth=4, model__n_estimators=110, model__random_state=10; total time=   0.8s\n",
      "[CV] END model__learning_rate=0.08, model__loss=exponential, model__max_depth=4, model__n_estimators=110, model__random_state=10; total time=   0.9s\n",
      "[CV] END model__learning_rate=0.08, model__loss=exponential, model__max_depth=4, model__n_estimators=110, model__random_state=10; total time=   0.9s\n",
      "[CV] END model__learning_rate=0.08, model__loss=exponential, model__max_depth=4, model__n_estimators=130, model__random_state=10; total time=   1.1s\n",
      "[CV] END model__learning_rate=0.08, model__loss=exponential, model__max_depth=4, model__n_estimators=130, model__random_state=10; total time=   1.0s\n",
      "[CV] END model__learning_rate=0.08, model__loss=exponential, model__max_depth=4, model__n_estimators=130, model__random_state=10; total time=   1.1s\n",
      "[CV] END model__learning_rate=0.08, model__loss=exponential, model__max_depth=4, model__n_estimators=130, model__random_state=10; total time=   1.0s\n",
      "[CV] END model__learning_rate=0.08, model__loss=exponential, model__max_depth=4, model__n_estimators=150, model__random_state=10; total time=   1.2s\n",
      "[CV] END model__learning_rate=0.08, model__loss=exponential, model__max_depth=4, model__n_estimators=150, model__random_state=10; total time=   1.2s\n",
      "[CV] END model__learning_rate=0.08, model__loss=exponential, model__max_depth=4, model__n_estimators=150, model__random_state=10; total time=   1.2s\n",
      "[CV] END model__learning_rate=0.08, model__loss=exponential, model__max_depth=4, model__n_estimators=150, model__random_state=10; total time=   1.2s\n",
      "[CV] END model__learning_rate=0.08, model__loss=exponential, model__max_depth=4, model__n_estimators=170, model__random_state=10; total time=   1.3s\n",
      "[CV] END model__learning_rate=0.08, model__loss=exponential, model__max_depth=4, model__n_estimators=170, model__random_state=10; total time=   1.4s\n",
      "[CV] END model__learning_rate=0.08, model__loss=exponential, model__max_depth=4, model__n_estimators=170, model__random_state=10; total time=   1.3s\n",
      "[CV] END model__learning_rate=0.08, model__loss=exponential, model__max_depth=4, model__n_estimators=170, model__random_state=10; total time=   1.4s\n",
      "[CV] END model__learning_rate=0.08, model__loss=exponential, model__max_depth=4, model__n_estimators=190, model__random_state=10; total time=   1.5s\n",
      "[CV] END model__learning_rate=0.08, model__loss=exponential, model__max_depth=4, model__n_estimators=190, model__random_state=10; total time=   1.6s\n",
      "[CV] END model__learning_rate=0.08, model__loss=exponential, model__max_depth=4, model__n_estimators=190, model__random_state=10; total time=   1.5s\n",
      "[CV] END model__learning_rate=0.08, model__loss=exponential, model__max_depth=4, model__n_estimators=190, model__random_state=10; total time=   1.5s\n",
      "[CV] END model__learning_rate=0.08, model__loss=exponential, model__max_depth=4, model__n_estimators=210, model__random_state=10; total time=   1.6s\n",
      "[CV] END model__learning_rate=0.08, model__loss=exponential, model__max_depth=4, model__n_estimators=210, model__random_state=10; total time=   1.7s\n",
      "[CV] END model__learning_rate=0.08, model__loss=exponential, model__max_depth=4, model__n_estimators=210, model__random_state=10; total time=   1.6s\n",
      "[CV] END model__learning_rate=0.08, model__loss=exponential, model__max_depth=4, model__n_estimators=210, model__random_state=10; total time=   1.6s\n",
      "[CV] END model__learning_rate=0.08, model__loss=exponential, model__max_depth=5, model__n_estimators=110, model__random_state=10; total time=   1.1s\n",
      "[CV] END model__learning_rate=0.08, model__loss=exponential, model__max_depth=5, model__n_estimators=110, model__random_state=10; total time=   1.1s\n",
      "[CV] END model__learning_rate=0.08, model__loss=exponential, model__max_depth=5, model__n_estimators=110, model__random_state=10; total time=   1.9s\n",
      "[CV] END model__learning_rate=0.08, model__loss=exponential, model__max_depth=5, model__n_estimators=110, model__random_state=10; total time=   1.5s\n",
      "[CV] END model__learning_rate=0.08, model__loss=exponential, model__max_depth=5, model__n_estimators=130, model__random_state=10; total time=   1.3s\n",
      "[CV] END model__learning_rate=0.08, model__loss=exponential, model__max_depth=5, model__n_estimators=130, model__random_state=10; total time=   1.3s\n",
      "[CV] END model__learning_rate=0.08, model__loss=exponential, model__max_depth=5, model__n_estimators=130, model__random_state=10; total time=   1.2s\n",
      "[CV] END model__learning_rate=0.08, model__loss=exponential, model__max_depth=5, model__n_estimators=130, model__random_state=10; total time=   1.3s\n",
      "[CV] END model__learning_rate=0.08, model__loss=exponential, model__max_depth=5, model__n_estimators=150, model__random_state=10; total time=   1.4s\n",
      "[CV] END model__learning_rate=0.08, model__loss=exponential, model__max_depth=5, model__n_estimators=150, model__random_state=10; total time=   1.4s\n",
      "[CV] END model__learning_rate=0.08, model__loss=exponential, model__max_depth=5, model__n_estimators=150, model__random_state=10; total time=   1.4s\n",
      "[CV] END model__learning_rate=0.08, model__loss=exponential, model__max_depth=5, model__n_estimators=150, model__random_state=10; total time=   1.5s\n",
      "[CV] END model__learning_rate=0.08, model__loss=exponential, model__max_depth=5, model__n_estimators=170, model__random_state=10; total time=   1.6s\n",
      "[CV] END model__learning_rate=0.08, model__loss=exponential, model__max_depth=5, model__n_estimators=170, model__random_state=10; total time=   1.6s\n",
      "[CV] END model__learning_rate=0.08, model__loss=exponential, model__max_depth=5, model__n_estimators=170, model__random_state=10; total time=   1.6s\n",
      "[CV] END model__learning_rate=0.08, model__loss=exponential, model__max_depth=5, model__n_estimators=170, model__random_state=10; total time=   1.6s\n",
      "[CV] END model__learning_rate=0.08, model__loss=exponential, model__max_depth=5, model__n_estimators=190, model__random_state=10; total time=   3.1s\n",
      "[CV] END model__learning_rate=0.08, model__loss=exponential, model__max_depth=5, model__n_estimators=190, model__random_state=10; total time=   1.8s\n",
      "[CV] END model__learning_rate=0.08, model__loss=exponential, model__max_depth=5, model__n_estimators=190, model__random_state=10; total time=   1.8s\n",
      "[CV] END model__learning_rate=0.08, model__loss=exponential, model__max_depth=5, model__n_estimators=190, model__random_state=10; total time=   1.8s\n",
      "[CV] END model__learning_rate=0.08, model__loss=exponential, model__max_depth=5, model__n_estimators=210, model__random_state=10; total time=   2.0s\n",
      "[CV] END model__learning_rate=0.08, model__loss=exponential, model__max_depth=5, model__n_estimators=210, model__random_state=10; total time=   2.0s\n",
      "[CV] END model__learning_rate=0.08, model__loss=exponential, model__max_depth=5, model__n_estimators=210, model__random_state=10; total time=   2.1s\n",
      "[CV] END model__learning_rate=0.08, model__loss=exponential, model__max_depth=5, model__n_estimators=210, model__random_state=10; total time=   2.2s\n",
      "[CV] END model__learning_rate=0.08, model__loss=exponential, model__max_depth=6, model__n_estimators=110, model__random_state=10; total time=   1.3s\n",
      "[CV] END model__learning_rate=0.08, model__loss=exponential, model__max_depth=6, model__n_estimators=110, model__random_state=10; total time=   1.3s\n",
      "[CV] END model__learning_rate=0.08, model__loss=exponential, model__max_depth=6, model__n_estimators=110, model__random_state=10; total time=   1.3s\n",
      "[CV] END model__learning_rate=0.08, model__loss=exponential, model__max_depth=6, model__n_estimators=110, model__random_state=10; total time=   1.3s\n",
      "[CV] END model__learning_rate=0.08, model__loss=exponential, model__max_depth=6, model__n_estimators=130, model__random_state=10; total time=   1.5s\n",
      "[CV] END model__learning_rate=0.08, model__loss=exponential, model__max_depth=6, model__n_estimators=130, model__random_state=10; total time=   1.5s\n",
      "[CV] END model__learning_rate=0.08, model__loss=exponential, model__max_depth=6, model__n_estimators=130, model__random_state=10; total time=   1.5s\n",
      "[CV] END model__learning_rate=0.08, model__loss=exponential, model__max_depth=6, model__n_estimators=130, model__random_state=10; total time=   1.5s\n",
      "[CV] END model__learning_rate=0.08, model__loss=exponential, model__max_depth=6, model__n_estimators=150, model__random_state=10; total time=   1.7s\n",
      "[CV] END model__learning_rate=0.08, model__loss=exponential, model__max_depth=6, model__n_estimators=150, model__random_state=10; total time=   1.7s\n",
      "[CV] END model__learning_rate=0.08, model__loss=exponential, model__max_depth=6, model__n_estimators=150, model__random_state=10; total time=   1.7s\n",
      "[CV] END model__learning_rate=0.08, model__loss=exponential, model__max_depth=6, model__n_estimators=150, model__random_state=10; total time=   1.7s\n",
      "[CV] END model__learning_rate=0.08, model__loss=exponential, model__max_depth=6, model__n_estimators=170, model__random_state=10; total time=   2.0s\n",
      "[CV] END model__learning_rate=0.08, model__loss=exponential, model__max_depth=6, model__n_estimators=170, model__random_state=10; total time=   2.0s\n",
      "[CV] END model__learning_rate=0.08, model__loss=exponential, model__max_depth=6, model__n_estimators=170, model__random_state=10; total time=   2.0s\n"
     ]
    },
    {
     "ename": "KeyboardInterrupt",
     "evalue": "",
     "output_type": "error",
     "traceback": [
      "\u001b[0;31m---------------------------------------------------------------------------\u001b[0m",
      "\u001b[0;31mKeyboardInterrupt\u001b[0m                         Traceback (most recent call last)",
      "\u001b[0;32m<timed exec>\u001b[0m in \u001b[0;36m<module>\u001b[0;34m\u001b[0m\n",
      "\u001b[0;32m/opt/conda/lib/python3.9/site-packages/sklearn/utils/validation.py\u001b[0m in \u001b[0;36minner_f\u001b[0;34m(*args, **kwargs)\u001b[0m\n\u001b[1;32m     61\u001b[0m             \u001b[0mextra_args\u001b[0m \u001b[0;34m=\u001b[0m \u001b[0mlen\u001b[0m\u001b[0;34m(\u001b[0m\u001b[0margs\u001b[0m\u001b[0;34m)\u001b[0m \u001b[0;34m-\u001b[0m \u001b[0mlen\u001b[0m\u001b[0;34m(\u001b[0m\u001b[0mall_args\u001b[0m\u001b[0;34m)\u001b[0m\u001b[0;34m\u001b[0m\u001b[0;34m\u001b[0m\u001b[0m\n\u001b[1;32m     62\u001b[0m             \u001b[0;32mif\u001b[0m \u001b[0mextra_args\u001b[0m \u001b[0;34m<=\u001b[0m \u001b[0;36m0\u001b[0m\u001b[0;34m:\u001b[0m\u001b[0;34m\u001b[0m\u001b[0;34m\u001b[0m\u001b[0m\n\u001b[0;32m---> 63\u001b[0;31m                 \u001b[0;32mreturn\u001b[0m \u001b[0mf\u001b[0m\u001b[0;34m(\u001b[0m\u001b[0;34m*\u001b[0m\u001b[0margs\u001b[0m\u001b[0;34m,\u001b[0m \u001b[0;34m**\u001b[0m\u001b[0mkwargs\u001b[0m\u001b[0;34m)\u001b[0m\u001b[0;34m\u001b[0m\u001b[0;34m\u001b[0m\u001b[0m\n\u001b[0m\u001b[1;32m     64\u001b[0m \u001b[0;34m\u001b[0m\u001b[0m\n\u001b[1;32m     65\u001b[0m             \u001b[0;31m# extra_args > 0\u001b[0m\u001b[0;34m\u001b[0m\u001b[0;34m\u001b[0m\u001b[0;34m\u001b[0m\u001b[0m\n",
      "\u001b[0;32m/opt/conda/lib/python3.9/site-packages/sklearn/model_selection/_search.py\u001b[0m in \u001b[0;36mfit\u001b[0;34m(self, X, y, groups, **fit_params)\u001b[0m\n\u001b[1;32m    839\u001b[0m                 \u001b[0;32mreturn\u001b[0m \u001b[0mresults\u001b[0m\u001b[0;34m\u001b[0m\u001b[0;34m\u001b[0m\u001b[0m\n\u001b[1;32m    840\u001b[0m \u001b[0;34m\u001b[0m\u001b[0m\n\u001b[0;32m--> 841\u001b[0;31m             \u001b[0mself\u001b[0m\u001b[0;34m.\u001b[0m\u001b[0m_run_search\u001b[0m\u001b[0;34m(\u001b[0m\u001b[0mevaluate_candidates\u001b[0m\u001b[0;34m)\u001b[0m\u001b[0;34m\u001b[0m\u001b[0;34m\u001b[0m\u001b[0m\n\u001b[0m\u001b[1;32m    842\u001b[0m \u001b[0;34m\u001b[0m\u001b[0m\n\u001b[1;32m    843\u001b[0m             \u001b[0;31m# multimetric is determined here because in the case of a callable\u001b[0m\u001b[0;34m\u001b[0m\u001b[0;34m\u001b[0m\u001b[0;34m\u001b[0m\u001b[0m\n",
      "\u001b[0;32m/opt/conda/lib/python3.9/site-packages/sklearn/model_selection/_search.py\u001b[0m in \u001b[0;36m_run_search\u001b[0;34m(self, evaluate_candidates)\u001b[0m\n\u001b[1;32m   1286\u001b[0m     \u001b[0;32mdef\u001b[0m \u001b[0m_run_search\u001b[0m\u001b[0;34m(\u001b[0m\u001b[0mself\u001b[0m\u001b[0;34m,\u001b[0m \u001b[0mevaluate_candidates\u001b[0m\u001b[0;34m)\u001b[0m\u001b[0;34m:\u001b[0m\u001b[0;34m\u001b[0m\u001b[0;34m\u001b[0m\u001b[0m\n\u001b[1;32m   1287\u001b[0m         \u001b[0;34m\"\"\"Search all candidates in param_grid\"\"\"\u001b[0m\u001b[0;34m\u001b[0m\u001b[0;34m\u001b[0m\u001b[0m\n\u001b[0;32m-> 1288\u001b[0;31m         \u001b[0mevaluate_candidates\u001b[0m\u001b[0;34m(\u001b[0m\u001b[0mParameterGrid\u001b[0m\u001b[0;34m(\u001b[0m\u001b[0mself\u001b[0m\u001b[0;34m.\u001b[0m\u001b[0mparam_grid\u001b[0m\u001b[0;34m)\u001b[0m\u001b[0;34m)\u001b[0m\u001b[0;34m\u001b[0m\u001b[0;34m\u001b[0m\u001b[0m\n\u001b[0m\u001b[1;32m   1289\u001b[0m \u001b[0;34m\u001b[0m\u001b[0m\n\u001b[1;32m   1290\u001b[0m \u001b[0;34m\u001b[0m\u001b[0m\n",
      "\u001b[0;32m/opt/conda/lib/python3.9/site-packages/sklearn/model_selection/_search.py\u001b[0m in \u001b[0;36mevaluate_candidates\u001b[0;34m(candidate_params, cv, more_results)\u001b[0m\n\u001b[1;32m    793\u001b[0m                               n_splits, n_candidates, n_candidates * n_splits))\n\u001b[1;32m    794\u001b[0m \u001b[0;34m\u001b[0m\u001b[0m\n\u001b[0;32m--> 795\u001b[0;31m                 out = parallel(delayed(_fit_and_score)(clone(base_estimator),\n\u001b[0m\u001b[1;32m    796\u001b[0m                                                        \u001b[0mX\u001b[0m\u001b[0;34m,\u001b[0m \u001b[0my\u001b[0m\u001b[0;34m,\u001b[0m\u001b[0;34m\u001b[0m\u001b[0;34m\u001b[0m\u001b[0m\n\u001b[1;32m    797\u001b[0m                                                        \u001b[0mtrain\u001b[0m\u001b[0;34m=\u001b[0m\u001b[0mtrain\u001b[0m\u001b[0;34m,\u001b[0m \u001b[0mtest\u001b[0m\u001b[0;34m=\u001b[0m\u001b[0mtest\u001b[0m\u001b[0;34m,\u001b[0m\u001b[0;34m\u001b[0m\u001b[0;34m\u001b[0m\u001b[0m\n",
      "\u001b[0;32m/opt/conda/lib/python3.9/site-packages/joblib/parallel.py\u001b[0m in \u001b[0;36m__call__\u001b[0;34m(self, iterable)\u001b[0m\n\u001b[1;32m   1044\u001b[0m                 \u001b[0mself\u001b[0m\u001b[0;34m.\u001b[0m\u001b[0m_iterating\u001b[0m \u001b[0;34m=\u001b[0m \u001b[0mself\u001b[0m\u001b[0;34m.\u001b[0m\u001b[0m_original_iterator\u001b[0m \u001b[0;32mis\u001b[0m \u001b[0;32mnot\u001b[0m \u001b[0;32mNone\u001b[0m\u001b[0;34m\u001b[0m\u001b[0;34m\u001b[0m\u001b[0m\n\u001b[1;32m   1045\u001b[0m \u001b[0;34m\u001b[0m\u001b[0m\n\u001b[0;32m-> 1046\u001b[0;31m             \u001b[0;32mwhile\u001b[0m \u001b[0mself\u001b[0m\u001b[0;34m.\u001b[0m\u001b[0mdispatch_one_batch\u001b[0m\u001b[0;34m(\u001b[0m\u001b[0miterator\u001b[0m\u001b[0;34m)\u001b[0m\u001b[0;34m:\u001b[0m\u001b[0;34m\u001b[0m\u001b[0;34m\u001b[0m\u001b[0m\n\u001b[0m\u001b[1;32m   1047\u001b[0m                 \u001b[0;32mpass\u001b[0m\u001b[0;34m\u001b[0m\u001b[0;34m\u001b[0m\u001b[0m\n\u001b[1;32m   1048\u001b[0m \u001b[0;34m\u001b[0m\u001b[0m\n",
      "\u001b[0;32m/opt/conda/lib/python3.9/site-packages/joblib/parallel.py\u001b[0m in \u001b[0;36mdispatch_one_batch\u001b[0;34m(self, iterator)\u001b[0m\n\u001b[1;32m    859\u001b[0m                 \u001b[0;32mreturn\u001b[0m \u001b[0;32mFalse\u001b[0m\u001b[0;34m\u001b[0m\u001b[0;34m\u001b[0m\u001b[0m\n\u001b[1;32m    860\u001b[0m             \u001b[0;32melse\u001b[0m\u001b[0;34m:\u001b[0m\u001b[0;34m\u001b[0m\u001b[0;34m\u001b[0m\u001b[0m\n\u001b[0;32m--> 861\u001b[0;31m                 \u001b[0mself\u001b[0m\u001b[0;34m.\u001b[0m\u001b[0m_dispatch\u001b[0m\u001b[0;34m(\u001b[0m\u001b[0mtasks\u001b[0m\u001b[0;34m)\u001b[0m\u001b[0;34m\u001b[0m\u001b[0;34m\u001b[0m\u001b[0m\n\u001b[0m\u001b[1;32m    862\u001b[0m                 \u001b[0;32mreturn\u001b[0m \u001b[0;32mTrue\u001b[0m\u001b[0;34m\u001b[0m\u001b[0;34m\u001b[0m\u001b[0m\n\u001b[1;32m    863\u001b[0m \u001b[0;34m\u001b[0m\u001b[0m\n",
      "\u001b[0;32m/opt/conda/lib/python3.9/site-packages/joblib/parallel.py\u001b[0m in \u001b[0;36m_dispatch\u001b[0;34m(self, batch)\u001b[0m\n\u001b[1;32m    777\u001b[0m         \u001b[0;32mwith\u001b[0m \u001b[0mself\u001b[0m\u001b[0;34m.\u001b[0m\u001b[0m_lock\u001b[0m\u001b[0;34m:\u001b[0m\u001b[0;34m\u001b[0m\u001b[0;34m\u001b[0m\u001b[0m\n\u001b[1;32m    778\u001b[0m             \u001b[0mjob_idx\u001b[0m \u001b[0;34m=\u001b[0m \u001b[0mlen\u001b[0m\u001b[0;34m(\u001b[0m\u001b[0mself\u001b[0m\u001b[0;34m.\u001b[0m\u001b[0m_jobs\u001b[0m\u001b[0;34m)\u001b[0m\u001b[0;34m\u001b[0m\u001b[0;34m\u001b[0m\u001b[0m\n\u001b[0;32m--> 779\u001b[0;31m             \u001b[0mjob\u001b[0m \u001b[0;34m=\u001b[0m \u001b[0mself\u001b[0m\u001b[0;34m.\u001b[0m\u001b[0m_backend\u001b[0m\u001b[0;34m.\u001b[0m\u001b[0mapply_async\u001b[0m\u001b[0;34m(\u001b[0m\u001b[0mbatch\u001b[0m\u001b[0;34m,\u001b[0m \u001b[0mcallback\u001b[0m\u001b[0;34m=\u001b[0m\u001b[0mcb\u001b[0m\u001b[0;34m)\u001b[0m\u001b[0;34m\u001b[0m\u001b[0;34m\u001b[0m\u001b[0m\n\u001b[0m\u001b[1;32m    780\u001b[0m             \u001b[0;31m# A job can complete so quickly than its callback is\u001b[0m\u001b[0;34m\u001b[0m\u001b[0;34m\u001b[0m\u001b[0;34m\u001b[0m\u001b[0m\n\u001b[1;32m    781\u001b[0m             \u001b[0;31m# called before we get here, causing self._jobs to\u001b[0m\u001b[0;34m\u001b[0m\u001b[0;34m\u001b[0m\u001b[0;34m\u001b[0m\u001b[0m\n",
      "\u001b[0;32m/opt/conda/lib/python3.9/site-packages/joblib/_parallel_backends.py\u001b[0m in \u001b[0;36mapply_async\u001b[0;34m(self, func, callback)\u001b[0m\n\u001b[1;32m    206\u001b[0m     \u001b[0;32mdef\u001b[0m \u001b[0mapply_async\u001b[0m\u001b[0;34m(\u001b[0m\u001b[0mself\u001b[0m\u001b[0;34m,\u001b[0m \u001b[0mfunc\u001b[0m\u001b[0;34m,\u001b[0m \u001b[0mcallback\u001b[0m\u001b[0;34m=\u001b[0m\u001b[0;32mNone\u001b[0m\u001b[0;34m)\u001b[0m\u001b[0;34m:\u001b[0m\u001b[0;34m\u001b[0m\u001b[0;34m\u001b[0m\u001b[0m\n\u001b[1;32m    207\u001b[0m         \u001b[0;34m\"\"\"Schedule a func to be run\"\"\"\u001b[0m\u001b[0;34m\u001b[0m\u001b[0;34m\u001b[0m\u001b[0m\n\u001b[0;32m--> 208\u001b[0;31m         \u001b[0mresult\u001b[0m \u001b[0;34m=\u001b[0m \u001b[0mImmediateResult\u001b[0m\u001b[0;34m(\u001b[0m\u001b[0mfunc\u001b[0m\u001b[0;34m)\u001b[0m\u001b[0;34m\u001b[0m\u001b[0;34m\u001b[0m\u001b[0m\n\u001b[0m\u001b[1;32m    209\u001b[0m         \u001b[0;32mif\u001b[0m \u001b[0mcallback\u001b[0m\u001b[0;34m:\u001b[0m\u001b[0;34m\u001b[0m\u001b[0;34m\u001b[0m\u001b[0m\n\u001b[1;32m    210\u001b[0m             \u001b[0mcallback\u001b[0m\u001b[0;34m(\u001b[0m\u001b[0mresult\u001b[0m\u001b[0;34m)\u001b[0m\u001b[0;34m\u001b[0m\u001b[0;34m\u001b[0m\u001b[0m\n",
      "\u001b[0;32m/opt/conda/lib/python3.9/site-packages/joblib/_parallel_backends.py\u001b[0m in \u001b[0;36m__init__\u001b[0;34m(self, batch)\u001b[0m\n\u001b[1;32m    570\u001b[0m         \u001b[0;31m# Don't delay the application, to avoid keeping the input\u001b[0m\u001b[0;34m\u001b[0m\u001b[0;34m\u001b[0m\u001b[0;34m\u001b[0m\u001b[0m\n\u001b[1;32m    571\u001b[0m         \u001b[0;31m# arguments in memory\u001b[0m\u001b[0;34m\u001b[0m\u001b[0;34m\u001b[0m\u001b[0;34m\u001b[0m\u001b[0m\n\u001b[0;32m--> 572\u001b[0;31m         \u001b[0mself\u001b[0m\u001b[0;34m.\u001b[0m\u001b[0mresults\u001b[0m \u001b[0;34m=\u001b[0m \u001b[0mbatch\u001b[0m\u001b[0;34m(\u001b[0m\u001b[0;34m)\u001b[0m\u001b[0;34m\u001b[0m\u001b[0;34m\u001b[0m\u001b[0m\n\u001b[0m\u001b[1;32m    573\u001b[0m \u001b[0;34m\u001b[0m\u001b[0m\n\u001b[1;32m    574\u001b[0m     \u001b[0;32mdef\u001b[0m \u001b[0mget\u001b[0m\u001b[0;34m(\u001b[0m\u001b[0mself\u001b[0m\u001b[0;34m)\u001b[0m\u001b[0;34m:\u001b[0m\u001b[0;34m\u001b[0m\u001b[0;34m\u001b[0m\u001b[0m\n",
      "\u001b[0;32m/opt/conda/lib/python3.9/site-packages/joblib/parallel.py\u001b[0m in \u001b[0;36m__call__\u001b[0;34m(self)\u001b[0m\n\u001b[1;32m    260\u001b[0m         \u001b[0;31m# change the default number of processes to -1\u001b[0m\u001b[0;34m\u001b[0m\u001b[0;34m\u001b[0m\u001b[0;34m\u001b[0m\u001b[0m\n\u001b[1;32m    261\u001b[0m         \u001b[0;32mwith\u001b[0m \u001b[0mparallel_backend\u001b[0m\u001b[0;34m(\u001b[0m\u001b[0mself\u001b[0m\u001b[0;34m.\u001b[0m\u001b[0m_backend\u001b[0m\u001b[0;34m,\u001b[0m \u001b[0mn_jobs\u001b[0m\u001b[0;34m=\u001b[0m\u001b[0mself\u001b[0m\u001b[0;34m.\u001b[0m\u001b[0m_n_jobs\u001b[0m\u001b[0;34m)\u001b[0m\u001b[0;34m:\u001b[0m\u001b[0;34m\u001b[0m\u001b[0;34m\u001b[0m\u001b[0m\n\u001b[0;32m--> 262\u001b[0;31m             return [func(*args, **kwargs)\n\u001b[0m\u001b[1;32m    263\u001b[0m                     for func, args, kwargs in self.items]\n\u001b[1;32m    264\u001b[0m \u001b[0;34m\u001b[0m\u001b[0m\n",
      "\u001b[0;32m/opt/conda/lib/python3.9/site-packages/joblib/parallel.py\u001b[0m in \u001b[0;36m<listcomp>\u001b[0;34m(.0)\u001b[0m\n\u001b[1;32m    260\u001b[0m         \u001b[0;31m# change the default number of processes to -1\u001b[0m\u001b[0;34m\u001b[0m\u001b[0;34m\u001b[0m\u001b[0;34m\u001b[0m\u001b[0m\n\u001b[1;32m    261\u001b[0m         \u001b[0;32mwith\u001b[0m \u001b[0mparallel_backend\u001b[0m\u001b[0;34m(\u001b[0m\u001b[0mself\u001b[0m\u001b[0;34m.\u001b[0m\u001b[0m_backend\u001b[0m\u001b[0;34m,\u001b[0m \u001b[0mn_jobs\u001b[0m\u001b[0;34m=\u001b[0m\u001b[0mself\u001b[0m\u001b[0;34m.\u001b[0m\u001b[0m_n_jobs\u001b[0m\u001b[0;34m)\u001b[0m\u001b[0;34m:\u001b[0m\u001b[0;34m\u001b[0m\u001b[0;34m\u001b[0m\u001b[0m\n\u001b[0;32m--> 262\u001b[0;31m             return [func(*args, **kwargs)\n\u001b[0m\u001b[1;32m    263\u001b[0m                     for func, args, kwargs in self.items]\n\u001b[1;32m    264\u001b[0m \u001b[0;34m\u001b[0m\u001b[0m\n",
      "\u001b[0;32m/opt/conda/lib/python3.9/site-packages/sklearn/utils/fixes.py\u001b[0m in \u001b[0;36m__call__\u001b[0;34m(self, *args, **kwargs)\u001b[0m\n\u001b[1;32m    220\u001b[0m     \u001b[0;32mdef\u001b[0m \u001b[0m__call__\u001b[0m\u001b[0;34m(\u001b[0m\u001b[0mself\u001b[0m\u001b[0;34m,\u001b[0m \u001b[0;34m*\u001b[0m\u001b[0margs\u001b[0m\u001b[0;34m,\u001b[0m \u001b[0;34m**\u001b[0m\u001b[0mkwargs\u001b[0m\u001b[0;34m)\u001b[0m\u001b[0;34m:\u001b[0m\u001b[0;34m\u001b[0m\u001b[0;34m\u001b[0m\u001b[0m\n\u001b[1;32m    221\u001b[0m         \u001b[0;32mwith\u001b[0m \u001b[0mconfig_context\u001b[0m\u001b[0;34m(\u001b[0m\u001b[0;34m**\u001b[0m\u001b[0mself\u001b[0m\u001b[0;34m.\u001b[0m\u001b[0mconfig\u001b[0m\u001b[0;34m)\u001b[0m\u001b[0;34m:\u001b[0m\u001b[0;34m\u001b[0m\u001b[0;34m\u001b[0m\u001b[0m\n\u001b[0;32m--> 222\u001b[0;31m             \u001b[0;32mreturn\u001b[0m \u001b[0mself\u001b[0m\u001b[0;34m.\u001b[0m\u001b[0mfunction\u001b[0m\u001b[0;34m(\u001b[0m\u001b[0;34m*\u001b[0m\u001b[0margs\u001b[0m\u001b[0;34m,\u001b[0m \u001b[0;34m**\u001b[0m\u001b[0mkwargs\u001b[0m\u001b[0;34m)\u001b[0m\u001b[0;34m\u001b[0m\u001b[0;34m\u001b[0m\u001b[0m\n\u001b[0m",
      "\u001b[0;32m/opt/conda/lib/python3.9/site-packages/sklearn/model_selection/_validation.py\u001b[0m in \u001b[0;36m_fit_and_score\u001b[0;34m(estimator, X, y, scorer, train, test, verbose, parameters, fit_params, return_train_score, return_parameters, return_n_test_samples, return_times, return_estimator, split_progress, candidate_progress, error_score)\u001b[0m\n\u001b[1;32m    591\u001b[0m             \u001b[0mestimator\u001b[0m\u001b[0;34m.\u001b[0m\u001b[0mfit\u001b[0m\u001b[0;34m(\u001b[0m\u001b[0mX_train\u001b[0m\u001b[0;34m,\u001b[0m \u001b[0;34m**\u001b[0m\u001b[0mfit_params\u001b[0m\u001b[0;34m)\u001b[0m\u001b[0;34m\u001b[0m\u001b[0;34m\u001b[0m\u001b[0m\n\u001b[1;32m    592\u001b[0m         \u001b[0;32melse\u001b[0m\u001b[0;34m:\u001b[0m\u001b[0;34m\u001b[0m\u001b[0;34m\u001b[0m\u001b[0m\n\u001b[0;32m--> 593\u001b[0;31m             \u001b[0mestimator\u001b[0m\u001b[0;34m.\u001b[0m\u001b[0mfit\u001b[0m\u001b[0;34m(\u001b[0m\u001b[0mX_train\u001b[0m\u001b[0;34m,\u001b[0m \u001b[0my_train\u001b[0m\u001b[0;34m,\u001b[0m \u001b[0;34m**\u001b[0m\u001b[0mfit_params\u001b[0m\u001b[0;34m)\u001b[0m\u001b[0;34m\u001b[0m\u001b[0;34m\u001b[0m\u001b[0m\n\u001b[0m\u001b[1;32m    594\u001b[0m \u001b[0;34m\u001b[0m\u001b[0m\n\u001b[1;32m    595\u001b[0m     \u001b[0;32mexcept\u001b[0m \u001b[0mException\u001b[0m \u001b[0;32mas\u001b[0m \u001b[0me\u001b[0m\u001b[0;34m:\u001b[0m\u001b[0;34m\u001b[0m\u001b[0;34m\u001b[0m\u001b[0m\n",
      "\u001b[0;32m/opt/conda/lib/python3.9/site-packages/sklearn/pipeline.py\u001b[0m in \u001b[0;36mfit\u001b[0;34m(self, X, y, **fit_params)\u001b[0m\n\u001b[1;32m    344\u001b[0m             \u001b[0;32mif\u001b[0m \u001b[0mself\u001b[0m\u001b[0;34m.\u001b[0m\u001b[0m_final_estimator\u001b[0m \u001b[0;34m!=\u001b[0m \u001b[0;34m'passthrough'\u001b[0m\u001b[0;34m:\u001b[0m\u001b[0;34m\u001b[0m\u001b[0;34m\u001b[0m\u001b[0m\n\u001b[1;32m    345\u001b[0m                 \u001b[0mfit_params_last_step\u001b[0m \u001b[0;34m=\u001b[0m \u001b[0mfit_params_steps\u001b[0m\u001b[0;34m[\u001b[0m\u001b[0mself\u001b[0m\u001b[0;34m.\u001b[0m\u001b[0msteps\u001b[0m\u001b[0;34m[\u001b[0m\u001b[0;34m-\u001b[0m\u001b[0;36m1\u001b[0m\u001b[0;34m]\u001b[0m\u001b[0;34m[\u001b[0m\u001b[0;36m0\u001b[0m\u001b[0;34m]\u001b[0m\u001b[0;34m]\u001b[0m\u001b[0;34m\u001b[0m\u001b[0;34m\u001b[0m\u001b[0m\n\u001b[0;32m--> 346\u001b[0;31m                 \u001b[0mself\u001b[0m\u001b[0;34m.\u001b[0m\u001b[0m_final_estimator\u001b[0m\u001b[0;34m.\u001b[0m\u001b[0mfit\u001b[0m\u001b[0;34m(\u001b[0m\u001b[0mXt\u001b[0m\u001b[0;34m,\u001b[0m \u001b[0my\u001b[0m\u001b[0;34m,\u001b[0m \u001b[0;34m**\u001b[0m\u001b[0mfit_params_last_step\u001b[0m\u001b[0;34m)\u001b[0m\u001b[0;34m\u001b[0m\u001b[0;34m\u001b[0m\u001b[0m\n\u001b[0m\u001b[1;32m    347\u001b[0m \u001b[0;34m\u001b[0m\u001b[0m\n\u001b[1;32m    348\u001b[0m         \u001b[0;32mreturn\u001b[0m \u001b[0mself\u001b[0m\u001b[0;34m\u001b[0m\u001b[0;34m\u001b[0m\u001b[0m\n",
      "\u001b[0;32m/opt/conda/lib/python3.9/site-packages/sklearn/ensemble/_gb.py\u001b[0m in \u001b[0;36mfit\u001b[0;34m(self, X, y, sample_weight, monitor)\u001b[0m\n\u001b[1;32m    502\u001b[0m \u001b[0;34m\u001b[0m\u001b[0m\n\u001b[1;32m    503\u001b[0m         \u001b[0;31m# fit the boosting stages\u001b[0m\u001b[0;34m\u001b[0m\u001b[0;34m\u001b[0m\u001b[0;34m\u001b[0m\u001b[0m\n\u001b[0;32m--> 504\u001b[0;31m         n_stages = self._fit_stages(\n\u001b[0m\u001b[1;32m    505\u001b[0m             \u001b[0mX\u001b[0m\u001b[0;34m,\u001b[0m \u001b[0my\u001b[0m\u001b[0;34m,\u001b[0m \u001b[0mraw_predictions\u001b[0m\u001b[0;34m,\u001b[0m \u001b[0msample_weight\u001b[0m\u001b[0;34m,\u001b[0m \u001b[0mself\u001b[0m\u001b[0;34m.\u001b[0m\u001b[0m_rng\u001b[0m\u001b[0;34m,\u001b[0m \u001b[0mX_val\u001b[0m\u001b[0;34m,\u001b[0m \u001b[0my_val\u001b[0m\u001b[0;34m,\u001b[0m\u001b[0;34m\u001b[0m\u001b[0;34m\u001b[0m\u001b[0m\n\u001b[1;32m    506\u001b[0m             sample_weight_val, begin_at_stage, monitor)\n",
      "\u001b[0;32m/opt/conda/lib/python3.9/site-packages/sklearn/ensemble/_gb.py\u001b[0m in \u001b[0;36m_fit_stages\u001b[0;34m(self, X, y, raw_predictions, sample_weight, random_state, X_val, y_val, sample_weight_val, begin_at_stage, monitor)\u001b[0m\n\u001b[1;32m    559\u001b[0m \u001b[0;34m\u001b[0m\u001b[0m\n\u001b[1;32m    560\u001b[0m             \u001b[0;31m# fit next stage of trees\u001b[0m\u001b[0;34m\u001b[0m\u001b[0;34m\u001b[0m\u001b[0;34m\u001b[0m\u001b[0m\n\u001b[0;32m--> 561\u001b[0;31m             raw_predictions = self._fit_stage(\n\u001b[0m\u001b[1;32m    562\u001b[0m                 \u001b[0mi\u001b[0m\u001b[0;34m,\u001b[0m \u001b[0mX\u001b[0m\u001b[0;34m,\u001b[0m \u001b[0my\u001b[0m\u001b[0;34m,\u001b[0m \u001b[0mraw_predictions\u001b[0m\u001b[0;34m,\u001b[0m \u001b[0msample_weight\u001b[0m\u001b[0;34m,\u001b[0m \u001b[0msample_mask\u001b[0m\u001b[0;34m,\u001b[0m\u001b[0;34m\u001b[0m\u001b[0;34m\u001b[0m\u001b[0m\n\u001b[1;32m    563\u001b[0m                 random_state, X_csc, X_csr)\n",
      "\u001b[0;32m/opt/conda/lib/python3.9/site-packages/sklearn/ensemble/_gb.py\u001b[0m in \u001b[0;36m_fit_stage\u001b[0;34m(self, i, X, y, raw_predictions, sample_weight, sample_mask, random_state, X_csc, X_csr)\u001b[0m\n\u001b[1;32m    212\u001b[0m \u001b[0;34m\u001b[0m\u001b[0m\n\u001b[1;32m    213\u001b[0m             \u001b[0mX\u001b[0m \u001b[0;34m=\u001b[0m \u001b[0mX_csr\u001b[0m \u001b[0;32mif\u001b[0m \u001b[0mX_csr\u001b[0m \u001b[0;32mis\u001b[0m \u001b[0;32mnot\u001b[0m \u001b[0;32mNone\u001b[0m \u001b[0;32melse\u001b[0m \u001b[0mX\u001b[0m\u001b[0;34m\u001b[0m\u001b[0;34m\u001b[0m\u001b[0m\n\u001b[0;32m--> 214\u001b[0;31m             tree.fit(X, residual, sample_weight=sample_weight,\n\u001b[0m\u001b[1;32m    215\u001b[0m                      check_input=False)\n\u001b[1;32m    216\u001b[0m \u001b[0;34m\u001b[0m\u001b[0m\n",
      "\u001b[0;32m/opt/conda/lib/python3.9/site-packages/sklearn/tree/_classes.py\u001b[0m in \u001b[0;36mfit\u001b[0;34m(self, X, y, sample_weight, check_input, X_idx_sorted)\u001b[0m\n\u001b[1;32m   1245\u001b[0m         \"\"\"\n\u001b[1;32m   1246\u001b[0m \u001b[0;34m\u001b[0m\u001b[0m\n\u001b[0;32m-> 1247\u001b[0;31m         super().fit(\n\u001b[0m\u001b[1;32m   1248\u001b[0m             \u001b[0mX\u001b[0m\u001b[0;34m,\u001b[0m \u001b[0my\u001b[0m\u001b[0;34m,\u001b[0m\u001b[0;34m\u001b[0m\u001b[0;34m\u001b[0m\u001b[0m\n\u001b[1;32m   1249\u001b[0m             \u001b[0msample_weight\u001b[0m\u001b[0;34m=\u001b[0m\u001b[0msample_weight\u001b[0m\u001b[0;34m,\u001b[0m\u001b[0;34m\u001b[0m\u001b[0;34m\u001b[0m\u001b[0m\n",
      "\u001b[0;32m/opt/conda/lib/python3.9/site-packages/sklearn/tree/_classes.py\u001b[0m in \u001b[0;36mfit\u001b[0;34m(self, X, y, sample_weight, check_input, X_idx_sorted)\u001b[0m\n\u001b[1;32m    387\u001b[0m                                            min_impurity_split)\n\u001b[1;32m    388\u001b[0m \u001b[0;34m\u001b[0m\u001b[0m\n\u001b[0;32m--> 389\u001b[0;31m         \u001b[0mbuilder\u001b[0m\u001b[0;34m.\u001b[0m\u001b[0mbuild\u001b[0m\u001b[0;34m(\u001b[0m\u001b[0mself\u001b[0m\u001b[0;34m.\u001b[0m\u001b[0mtree_\u001b[0m\u001b[0;34m,\u001b[0m \u001b[0mX\u001b[0m\u001b[0;34m,\u001b[0m \u001b[0my\u001b[0m\u001b[0;34m,\u001b[0m \u001b[0msample_weight\u001b[0m\u001b[0;34m)\u001b[0m\u001b[0;34m\u001b[0m\u001b[0;34m\u001b[0m\u001b[0m\n\u001b[0m\u001b[1;32m    390\u001b[0m \u001b[0;34m\u001b[0m\u001b[0m\n\u001b[1;32m    391\u001b[0m         \u001b[0;32mif\u001b[0m \u001b[0mself\u001b[0m\u001b[0;34m.\u001b[0m\u001b[0mn_outputs_\u001b[0m \u001b[0;34m==\u001b[0m \u001b[0;36m1\u001b[0m \u001b[0;32mand\u001b[0m \u001b[0mis_classifier\u001b[0m\u001b[0;34m(\u001b[0m\u001b[0mself\u001b[0m\u001b[0;34m)\u001b[0m\u001b[0;34m:\u001b[0m\u001b[0;34m\u001b[0m\u001b[0;34m\u001b[0m\u001b[0m\n",
      "\u001b[0;31mKeyboardInterrupt\u001b[0m: "
     ]
    }
   ],
   "source": [
    "%%time\n",
    "best_weights_gdc = target_full.map({False : 1, True : best_scale_gbc})\n",
    "\n",
    "parameters = {\n",
    "              'model__loss': ['deviance','exponential'],\n",
    "              'model__n_estimators': [x for x in range(110,211,20)],\n",
    "              'model__random_state': [10],\n",
    "              'model__max_depth': [4,5,6],\n",
    "              'model__learning_rate': [0.1,0.08]\n",
    "             }\n",
    "\n",
    "model_gbc = GridSearchCV(Pipeline([('scaler', StandardScaler()), ('model', GradientBoostingClassifier())]), param_grid=parameters, scoring='roc_auc',verbose=2, refit=0,cv=4)\n",
    "\n",
    "model_gbc.fit(features_full, target_full, model__sample_weight=best_weights_gdc)\n",
    "params_gbc = model_gbc.best_params_\n",
    "params_gbc"
   ]
  },
  {
   "cell_type": "code",
   "execution_count": 55,
   "id": "26a18886",
   "metadata": {},
   "outputs": [
    {
     "data": {
      "text/plain": [
       "0.9188499601386296"
      ]
     },
     "execution_count": 55,
     "metadata": {},
     "output_type": "execute_result"
    }
   ],
   "source": [
    "model_gbc.best_score_"
   ]
  },
  {
   "cell_type": "code",
   "execution_count": 56,
   "id": "5a31fee1",
   "metadata": {},
   "outputs": [
    {
     "data": {
      "text/plain": [
       "{'learning_rate': 0.1,\n",
       " 'loss': 'deviance',\n",
       " 'max_depth': 5,\n",
       " 'n_estimators': 210,\n",
       " 'random_state': 10}"
      ]
     },
     "execution_count": 56,
     "metadata": {},
     "output_type": "execute_result"
    }
   ],
   "source": [
    "#словарь параметров для обучения вне GridSearchCV\n",
    "params_final_gbc = {}\n",
    "for param in params_gbc:\n",
    "    params_final_gbc[param.replace('model__','')] = params_gbc[param]\n",
    "\n",
    "params_final_gbc"
   ]
  },
  {
   "cell_type": "markdown",
   "id": "42395786",
   "metadata": {},
   "source": [
    "#### Тестирование модели"
   ]
  },
  {
   "cell_type": "code",
   "execution_count": 57,
   "id": "aa3ff9a8",
   "metadata": {},
   "outputs": [
    {
     "name": "stdout",
     "output_type": "stream",
     "text": [
      "roc-auc 0.867\n",
      "accuracy_score 0.886\n"
     ]
    }
   ],
   "source": [
    "model_gbc = Pipeline([('scaler', StandardScaler()), ('model', GradientBoostingClassifier(**params_final_gbc))])\n",
    "model_gbc.fit(features_full, target_full, model__sample_weight=best_weights_gdc )\n",
    "prediction = model_gbc.predict(features_test)\n",
    "score = roc_auc_score(target_test, prediction)\n",
    "\n",
    "print('roc-auc', round(roc_auc_score(target_test, prediction),3))\n",
    "print('accuracy_score', round(accuracy_score(target_test, prediction),3))"
   ]
  },
  {
   "cell_type": "markdown",
   "id": "a59881f6",
   "metadata": {},
   "source": [
    "Модель дала отличный результат."
   ]
  },
  {
   "cell_type": "markdown",
   "id": "895340d3",
   "metadata": {},
   "source": [
    "### Логистическая регрессия"
   ]
  },
  {
   "cell_type": "markdown",
   "id": "c66ea272",
   "metadata": {},
   "source": [
    "#### Определение оптимальных весов"
   ]
  },
  {
   "cell_type": "code",
   "execution_count": 60,
   "id": "221bd184",
   "metadata": {},
   "outputs": [
    {
     "name": "stdout",
     "output_type": "stream",
     "text": [
      "Scale: 1 Score: 0.7033899183351989\n",
      "Scale: 2 Score: 0.7486216473904571\n",
      "Scale: 3 Score: 0.754230920698089\n",
      "Scale: 4 Score: 0.7476552460307591\n",
      "Scale: 5 Score: 0.7454037640426149\n",
      "Scale: 6 Score: 0.7367372424656966\n",
      "Scale: 7 Score: 0.7231894872113751\n",
      "Scale: 8 Score: 0.7209198690046843\n",
      "\n",
      "Best score 0.754230920698089 at scale 3\n",
      "CPU times: user 1.53 s, sys: 4.3 s, total: 5.83 s\n",
      "Wall time: 5.73 s\n"
     ]
    }
   ],
   "source": [
    "%%time\n",
    "\n",
    "best_score = 0\n",
    "scale = 0\n",
    "for weights in weights_dicts:\n",
    "    model_gbc = Pipeline([('scaler', StandardScaler()), ('model', LogisticRegression(random_state=10, class_weight = weights))])\n",
    "    model_gbc.fit(features_train, target_train)\n",
    "    \n",
    "    prediction = model_gbc.predict(features_valid)\n",
    "    score = roc_auc_score(target_valid, prediction)\n",
    "    \n",
    "    scale+=1\n",
    "    \n",
    "    if score > best_score:\n",
    "        best_score = score\n",
    "        #best_weights_gdc = weights\n",
    "        best_scale_lgr = scale\n",
    "    \n",
    "    print('Scale:', scale, 'Score:', score)\n",
    "    \n",
    "print()\n",
    "print('Best score', best_score, 'at scale', best_scale_lgr)"
   ]
  },
  {
   "cell_type": "markdown",
   "id": "8b6db22b",
   "metadata": {},
   "source": [
    "#### Обучение и поиск оптимальных гиперпараметров"
   ]
  },
  {
   "cell_type": "code",
   "execution_count": 61,
   "id": "d4431738",
   "metadata": {
    "scrolled": true
   },
   "outputs": [
    {
     "name": "stdout",
     "output_type": "stream",
     "text": [
      "Fitting 4 folds for each of 8 candidates, totalling 32 fits\n",
      "[CV] END model__C=1.0, model__class_weight={False: 1, True: 3}, model__max_iter=200, model__penalty=l1, model__random_state=10, model__solver=liblinear; total time=   0.2s\n",
      "[CV] END model__C=1.0, model__class_weight={False: 1, True: 3}, model__max_iter=200, model__penalty=l1, model__random_state=10, model__solver=liblinear; total time=   0.2s\n",
      "[CV] END model__C=1.0, model__class_weight={False: 1, True: 3}, model__max_iter=200, model__penalty=l1, model__random_state=10, model__solver=liblinear; total time=   0.4s\n",
      "[CV] END model__C=1.0, model__class_weight={False: 1, True: 3}, model__max_iter=200, model__penalty=l1, model__random_state=10, model__solver=liblinear; total time=   0.2s\n",
      "[CV] END model__C=1.0, model__class_weight={False: 1, True: 3}, model__max_iter=200, model__penalty=l2, model__random_state=10, model__solver=liblinear; total time=   0.2s\n",
      "[CV] END model__C=1.0, model__class_weight={False: 1, True: 3}, model__max_iter=200, model__penalty=l2, model__random_state=10, model__solver=liblinear; total time=   0.1s\n",
      "[CV] END model__C=1.0, model__class_weight={False: 1, True: 3}, model__max_iter=200, model__penalty=l2, model__random_state=10, model__solver=liblinear; total time=   0.1s\n",
      "[CV] END model__C=1.0, model__class_weight={False: 1, True: 3}, model__max_iter=200, model__penalty=l2, model__random_state=10, model__solver=liblinear; total time=   0.2s\n",
      "[CV] END model__C=1.0, model__class_weight={False: 1, True: 3}, model__max_iter=300, model__penalty=l1, model__random_state=10, model__solver=liblinear; total time=   0.3s\n",
      "[CV] END model__C=1.0, model__class_weight={False: 1, True: 3}, model__max_iter=300, model__penalty=l1, model__random_state=10, model__solver=liblinear; total time=   0.2s\n",
      "[CV] END model__C=1.0, model__class_weight={False: 1, True: 3}, model__max_iter=300, model__penalty=l1, model__random_state=10, model__solver=liblinear; total time=   0.5s\n",
      "[CV] END model__C=1.0, model__class_weight={False: 1, True: 3}, model__max_iter=300, model__penalty=l1, model__random_state=10, model__solver=liblinear; total time=   0.2s\n",
      "[CV] END model__C=1.0, model__class_weight={False: 1, True: 3}, model__max_iter=300, model__penalty=l2, model__random_state=10, model__solver=liblinear; total time=   0.2s\n",
      "[CV] END model__C=1.0, model__class_weight={False: 1, True: 3}, model__max_iter=300, model__penalty=l2, model__random_state=10, model__solver=liblinear; total time=   0.2s\n",
      "[CV] END model__C=1.0, model__class_weight={False: 1, True: 3}, model__max_iter=300, model__penalty=l2, model__random_state=10, model__solver=liblinear; total time=   0.2s\n",
      "[CV] END model__C=1.0, model__class_weight={False: 1, True: 3}, model__max_iter=300, model__penalty=l2, model__random_state=10, model__solver=liblinear; total time=   0.1s\n",
      "[CV] END model__C=1.2, model__class_weight={False: 1, True: 3}, model__max_iter=200, model__penalty=l1, model__random_state=10, model__solver=liblinear; total time=   0.3s\n",
      "[CV] END model__C=1.2, model__class_weight={False: 1, True: 3}, model__max_iter=200, model__penalty=l1, model__random_state=10, model__solver=liblinear; total time=   0.3s\n",
      "[CV] END model__C=1.2, model__class_weight={False: 1, True: 3}, model__max_iter=200, model__penalty=l1, model__random_state=10, model__solver=liblinear; total time=   0.7s\n",
      "[CV] END model__C=1.2, model__class_weight={False: 1, True: 3}, model__max_iter=200, model__penalty=l1, model__random_state=10, model__solver=liblinear; total time=   0.2s\n",
      "[CV] END model__C=1.2, model__class_weight={False: 1, True: 3}, model__max_iter=200, model__penalty=l2, model__random_state=10, model__solver=liblinear; total time=   0.2s\n",
      "[CV] END model__C=1.2, model__class_weight={False: 1, True: 3}, model__max_iter=200, model__penalty=l2, model__random_state=10, model__solver=liblinear; total time=   0.2s\n",
      "[CV] END model__C=1.2, model__class_weight={False: 1, True: 3}, model__max_iter=200, model__penalty=l2, model__random_state=10, model__solver=liblinear; total time=   0.2s\n",
      "[CV] END model__C=1.2, model__class_weight={False: 1, True: 3}, model__max_iter=200, model__penalty=l2, model__random_state=10, model__solver=liblinear; total time=   0.1s\n",
      "[CV] END model__C=1.2, model__class_weight={False: 1, True: 3}, model__max_iter=300, model__penalty=l1, model__random_state=10, model__solver=liblinear; total time=   0.2s\n",
      "[CV] END model__C=1.2, model__class_weight={False: 1, True: 3}, model__max_iter=300, model__penalty=l1, model__random_state=10, model__solver=liblinear; total time=   0.2s\n",
      "[CV] END model__C=1.2, model__class_weight={False: 1, True: 3}, model__max_iter=300, model__penalty=l1, model__random_state=10, model__solver=liblinear; total time=   0.7s\n",
      "[CV] END model__C=1.2, model__class_weight={False: 1, True: 3}, model__max_iter=300, model__penalty=l1, model__random_state=10, model__solver=liblinear; total time=   0.2s\n",
      "[CV] END model__C=1.2, model__class_weight={False: 1, True: 3}, model__max_iter=300, model__penalty=l2, model__random_state=10, model__solver=liblinear; total time=   0.2s\n",
      "[CV] END model__C=1.2, model__class_weight={False: 1, True: 3}, model__max_iter=300, model__penalty=l2, model__random_state=10, model__solver=liblinear; total time=   0.2s\n",
      "[CV] END model__C=1.2, model__class_weight={False: 1, True: 3}, model__max_iter=300, model__penalty=l2, model__random_state=10, model__solver=liblinear; total time=   0.2s\n",
      "[CV] END model__C=1.2, model__class_weight={False: 1, True: 3}, model__max_iter=300, model__penalty=l2, model__random_state=10, model__solver=liblinear; total time=   0.1s\n",
      "CPU times: user 4.66 s, sys: 3.51 s, total: 8.17 s\n",
      "Wall time: 8.29 s\n"
     ]
    },
    {
     "data": {
      "text/plain": [
       "{'model__C': 1.0,\n",
       " 'model__class_weight': {False: 1, True: 3},\n",
       " 'model__max_iter': 200,\n",
       " 'model__penalty': 'l1',\n",
       " 'model__random_state': 10,\n",
       " 'model__solver': 'liblinear'}"
      ]
     },
     "execution_count": 61,
     "metadata": {},
     "output_type": "execute_result"
    }
   ],
   "source": [
    "%%time\n",
    "best_weights_lgr = weights_dicts[best_scale_lgr-1]\n",
    "\n",
    "parameters = {'model__class_weight': [best_weights_lgr],\n",
    "              'model__penalty': ['l1','l2'],\n",
    "              'model__C': [1.0,1.2],\n",
    "             'model__random_state': [10],\n",
    "             'model__solver': ['liblinear'],\n",
    "             'model__max_iter': [200,300]\n",
    "             }\n",
    "\n",
    "model_lgr = GridSearchCV(Pipeline([('scaler', StandardScaler()), ('model', LogisticRegression())]), param_grid=parameters, scoring='roc_auc',verbose=2, refit=0,cv=4)\n",
    "\n",
    "model_lgr.fit(features_full, target_full)\n",
    "params_lgr = model_lgr.best_params_\n",
    "params_lgr"
   ]
  },
  {
   "cell_type": "code",
   "execution_count": 62,
   "id": "337f34ce",
   "metadata": {},
   "outputs": [
    {
     "data": {
      "text/plain": [
       "0.8324956604995897"
      ]
     },
     "execution_count": 62,
     "metadata": {},
     "output_type": "execute_result"
    }
   ],
   "source": [
    "model_lgr.best_score_"
   ]
  },
  {
   "cell_type": "code",
   "execution_count": 63,
   "id": "04abe380",
   "metadata": {},
   "outputs": [
    {
     "data": {
      "text/plain": [
       "{'C': 1.0,\n",
       " 'class_weight': {False: 1, True: 3},\n",
       " 'max_iter': 200,\n",
       " 'penalty': 'l1',\n",
       " 'random_state': 10,\n",
       " 'solver': 'liblinear'}"
      ]
     },
     "execution_count": 63,
     "metadata": {},
     "output_type": "execute_result"
    }
   ],
   "source": [
    "#словарь параметров для обучения вне GridSearchCV\n",
    "params_final_lgr = {}\n",
    "for param in params_lgr:\n",
    "    params_final_lgr[param.replace('model__','')] = params_lgr[param]\n",
    "\n",
    "params_final_lgr"
   ]
  },
  {
   "cell_type": "markdown",
   "id": "047c865a",
   "metadata": {},
   "source": [
    "#### Тестирование модели"
   ]
  },
  {
   "cell_type": "code",
   "execution_count": 64,
   "id": "0b1536ee",
   "metadata": {},
   "outputs": [
    {
     "name": "stdout",
     "output_type": "stream",
     "text": [
      "roc-auc 0.774\n",
      "accuracy_score 0.746\n"
     ]
    }
   ],
   "source": [
    "model_lgr = Pipeline([('scaler', StandardScaler()), ('model', LogisticRegression(**params_final_lgr))])\n",
    "model_lgr.fit(features_full, target_full)\n",
    "prediction = model_lgr.predict(features_test)\n",
    "\n",
    "score = roc_auc_score(target_test, prediction)\n",
    "print('roc-auc', round(roc_auc_score(target_test, prediction),3))\n",
    "print('accuracy_score', round(accuracy_score(target_test, prediction),3))"
   ]
  },
  {
   "cell_type": "markdown",
   "id": "f6fd3deb",
   "metadata": {},
   "source": [
    "Хуже, но приемлимо."
   ]
  },
  {
   "cell_type": "markdown",
   "id": "93d1df15",
   "metadata": {},
   "source": [
    "### CatBoost"
   ]
  },
  {
   "cell_type": "markdown",
   "id": "0f35288a",
   "metadata": {},
   "source": [
    "#### Обучение"
   ]
  },
  {
   "cell_type": "code",
   "execution_count": 65,
   "id": "72f8ed06",
   "metadata": {},
   "outputs": [],
   "source": [
    "#cat_features = features_train.drop(['monthly_charges','total_charges','months'],axis=1).columns.to_list()"
   ]
  },
  {
   "cell_type": "code",
   "execution_count": 66,
   "id": "e8eade87",
   "metadata": {},
   "outputs": [],
   "source": [
    "parameters = {\n",
    "             'random_seed': [10],\n",
    "             'eval_metric': ['AUC'],\n",
    "             'verbose': [0],\n",
    "             #'cat_features': [cat_features],\n",
    "             'learning_rate': [0.08,0.1,0.01],\n",
    "             }"
   ]
  },
  {
   "cell_type": "code",
   "execution_count": 67,
   "id": "4c12e37b",
   "metadata": {},
   "outputs": [
    {
     "name": "stdout",
     "output_type": "stream",
     "text": [
      "Fitting 4 folds for each of 3 candidates, totalling 12 fits\n",
      "[CV] END eval_metric=AUC, learning_rate=0.08, random_seed=10, verbose=0; total time=   4.5s\n",
      "[CV] END eval_metric=AUC, learning_rate=0.08, random_seed=10, verbose=0; total time=   3.9s\n",
      "[CV] END eval_metric=AUC, learning_rate=0.08, random_seed=10, verbose=0; total time=   3.9s\n",
      "[CV] END eval_metric=AUC, learning_rate=0.08, random_seed=10, verbose=0; total time=   3.8s\n",
      "[CV] END eval_metric=AUC, learning_rate=0.1, random_seed=10, verbose=0; total time=   4.0s\n",
      "[CV] END eval_metric=AUC, learning_rate=0.1, random_seed=10, verbose=0; total time=   3.8s\n",
      "[CV] END eval_metric=AUC, learning_rate=0.1, random_seed=10, verbose=0; total time=   3.9s\n",
      "[CV] END eval_metric=AUC, learning_rate=0.1, random_seed=10, verbose=0; total time=   3.7s\n",
      "[CV] END eval_metric=AUC, learning_rate=0.01, random_seed=10, verbose=0; total time=   3.9s\n",
      "[CV] END eval_metric=AUC, learning_rate=0.01, random_seed=10, verbose=0; total time=   3.8s\n",
      "[CV] END eval_metric=AUC, learning_rate=0.01, random_seed=10, verbose=0; total time=   3.7s\n",
      "[CV] END eval_metric=AUC, learning_rate=0.01, random_seed=10, verbose=0; total time=   4.0s\n",
      "CPU times: user 35.6 s, sys: 900 ms, total: 36.5 s\n",
      "Wall time: 46.8 s\n"
     ]
    },
    {
     "data": {
      "text/plain": [
       "{'eval_metric': 'AUC', 'learning_rate': 0.08, 'random_seed': 10, 'verbose': 0}"
      ]
     },
     "execution_count": 67,
     "metadata": {},
     "output_type": "execute_result"
    }
   ],
   "source": [
    "%%time\n",
    "\n",
    "model_cat = GridSearchCV(CatBoostClassifier(), param_grid=parameters, scoring='roc_auc',verbose=2, refit=0,cv=4)\n",
    "\n",
    "model_cat.fit(features_full, target_full)\n",
    "params_cat = model_cat.best_params_\n",
    "params_cat"
   ]
  },
  {
   "cell_type": "code",
   "execution_count": 68,
   "id": "7d867993",
   "metadata": {},
   "outputs": [
    {
     "data": {
      "text/plain": [
       "0.9318458757539643"
      ]
     },
     "execution_count": 68,
     "metadata": {},
     "output_type": "execute_result"
    }
   ],
   "source": [
    "model_cat.best_score_"
   ]
  },
  {
   "cell_type": "markdown",
   "id": "1b92c684",
   "metadata": {},
   "source": [
    "#### Тестирование"
   ]
  },
  {
   "cell_type": "code",
   "execution_count": 69,
   "id": "bf3d8ae2",
   "metadata": {},
   "outputs": [
    {
     "name": "stdout",
     "output_type": "stream",
     "text": [
      "roc-auc 0.87\n",
      "accuracy_score 0.923\n"
     ]
    }
   ],
   "source": [
    "model_cat = CatBoostClassifier(**params_cat)\n",
    "model_cat.fit(features_full,target_full)\n",
    "prediction = model_cat.predict(features_test)\n",
    "prediction = prediction == 'True'\n",
    "\n",
    "print('roc-auc', round(roc_auc_score(target_test, prediction),3))\n",
    "print('accuracy_score', round(accuracy_score(target_test, prediction),3))"
   ]
  },
  {
   "cell_type": "markdown",
   "id": "8f2d313a",
   "metadata": {},
   "source": [
    "Лучший результат."
   ]
  },
  {
   "cell_type": "markdown",
   "id": "6a9a50a4",
   "metadata": {},
   "source": [
    "### Комбинированная модель"
   ]
  },
  {
   "cell_type": "code",
   "execution_count": 70,
   "id": "e206222a",
   "metadata": {},
   "outputs": [],
   "source": [
    "proba_gdc = cross_val_predict(model_gbc, features_full, target_full,\n",
    "                              cv=4, method='predict_proba',\n",
    "                              fit_params={'model__sample_weight': best_weights_gdc}\n",
    "                             )[:,0]\n",
    "\n",
    "proba_lgr = cross_val_predict(model_lgr, features_full, target_full,\n",
    "                              cv=4, method='predict_proba',\n",
    "                              )[:,0]\n",
    "\n",
    "proba_cat = cross_val_predict(model_cat, features_full, target_full,\n",
    "                              cv=4, method='predict_proba',\n",
    "                              )[:,0]\n",
    "\n",
    "features_train_proba = np.column_stack([proba_gdc, proba_lgr, proba_cat])"
   ]
  },
  {
   "cell_type": "markdown",
   "id": "53c737fb",
   "metadata": {},
   "source": [
    "#### Обучение и подбор параметров"
   ]
  },
  {
   "cell_type": "code",
   "execution_count": 71,
   "id": "4368e825",
   "metadata": {},
   "outputs": [
    {
     "data": {
      "text/plain": [
       "{'criterion': ['gini', 'entropy'],\n",
       " 'max_depth': [1, 2],\n",
       " 'class_weight': [{False: 1, True: 1},\n",
       "  {False: 1, True: 2},\n",
       "  {False: 1, True: 3},\n",
       "  {False: 1, True: 4},\n",
       "  {False: 1, True: 5},\n",
       "  {False: 1, True: 6},\n",
       "  {False: 1, True: 7},\n",
       "  {False: 1, True: 8}],\n",
       " 'random_state': [10]}"
      ]
     },
     "execution_count": 71,
     "metadata": {},
     "output_type": "execute_result"
    }
   ],
   "source": [
    "parameters = {'criterion': ['gini', 'entropy'],\n",
    "              'max_depth': [1,2],\n",
    "              'class_weight': weights_dicts,\n",
    "             'random_state': [10],\n",
    "             #'min_impurity_decrease': [0.0,0.1,0.2]\n",
    "             }\n",
    "parameters"
   ]
  },
  {
   "cell_type": "code",
   "execution_count": 72,
   "id": "b5737cfb",
   "metadata": {},
   "outputs": [
    {
     "name": "stdout",
     "output_type": "stream",
     "text": [
      "Fitting 4 folds for each of 32 candidates, totalling 128 fits\n",
      "[CV] END class_weight={False: 1, True: 1}, criterion=gini, max_depth=1, random_state=10; total time=   0.0s\n",
      "[CV] END class_weight={False: 1, True: 1}, criterion=gini, max_depth=1, random_state=10; total time=   0.0s\n",
      "[CV] END class_weight={False: 1, True: 1}, criterion=gini, max_depth=1, random_state=10; total time=   0.0s\n",
      "[CV] END class_weight={False: 1, True: 1}, criterion=gini, max_depth=1, random_state=10; total time=   0.0s\n",
      "[CV] END class_weight={False: 1, True: 1}, criterion=gini, max_depth=2, random_state=10; total time=   0.0s\n",
      "[CV] END class_weight={False: 1, True: 1}, criterion=gini, max_depth=2, random_state=10; total time=   0.0s\n",
      "[CV] END class_weight={False: 1, True: 1}, criterion=gini, max_depth=2, random_state=10; total time=   0.0s\n",
      "[CV] END class_weight={False: 1, True: 1}, criterion=gini, max_depth=2, random_state=10; total time=   0.0s\n",
      "[CV] END class_weight={False: 1, True: 1}, criterion=entropy, max_depth=1, random_state=10; total time=   0.0s\n",
      "[CV] END class_weight={False: 1, True: 1}, criterion=entropy, max_depth=1, random_state=10; total time=   0.0s\n",
      "[CV] END class_weight={False: 1, True: 1}, criterion=entropy, max_depth=1, random_state=10; total time=   0.0s\n",
      "[CV] END class_weight={False: 1, True: 1}, criterion=entropy, max_depth=1, random_state=10; total time=   0.0s\n",
      "[CV] END class_weight={False: 1, True: 1}, criterion=entropy, max_depth=2, random_state=10; total time=   0.0s\n",
      "[CV] END class_weight={False: 1, True: 1}, criterion=entropy, max_depth=2, random_state=10; total time=   0.0s\n",
      "[CV] END class_weight={False: 1, True: 1}, criterion=entropy, max_depth=2, random_state=10; total time=   0.0s\n",
      "[CV] END class_weight={False: 1, True: 1}, criterion=entropy, max_depth=2, random_state=10; total time=   0.0s\n",
      "[CV] END class_weight={False: 1, True: 2}, criterion=gini, max_depth=1, random_state=10; total time=   0.0s\n",
      "[CV] END class_weight={False: 1, True: 2}, criterion=gini, max_depth=1, random_state=10; total time=   0.0s\n",
      "[CV] END class_weight={False: 1, True: 2}, criterion=gini, max_depth=1, random_state=10; total time=   0.0s\n",
      "[CV] END class_weight={False: 1, True: 2}, criterion=gini, max_depth=1, random_state=10; total time=   0.0s\n",
      "[CV] END class_weight={False: 1, True: 2}, criterion=gini, max_depth=2, random_state=10; total time=   0.0s\n",
      "[CV] END class_weight={False: 1, True: 2}, criterion=gini, max_depth=2, random_state=10; total time=   0.0s\n",
      "[CV] END class_weight={False: 1, True: 2}, criterion=gini, max_depth=2, random_state=10; total time=   0.0s\n",
      "[CV] END class_weight={False: 1, True: 2}, criterion=gini, max_depth=2, random_state=10; total time=   0.0s\n",
      "[CV] END class_weight={False: 1, True: 2}, criterion=entropy, max_depth=1, random_state=10; total time=   0.0s\n",
      "[CV] END class_weight={False: 1, True: 2}, criterion=entropy, max_depth=1, random_state=10; total time=   0.0s\n",
      "[CV] END class_weight={False: 1, True: 2}, criterion=entropy, max_depth=1, random_state=10; total time=   0.0s\n",
      "[CV] END class_weight={False: 1, True: 2}, criterion=entropy, max_depth=1, random_state=10; total time=   0.0s\n",
      "[CV] END class_weight={False: 1, True: 2}, criterion=entropy, max_depth=2, random_state=10; total time=   0.0s\n",
      "[CV] END class_weight={False: 1, True: 2}, criterion=entropy, max_depth=2, random_state=10; total time=   0.0s\n",
      "[CV] END class_weight={False: 1, True: 2}, criterion=entropy, max_depth=2, random_state=10; total time=   0.0s\n",
      "[CV] END class_weight={False: 1, True: 2}, criterion=entropy, max_depth=2, random_state=10; total time=   0.0s\n",
      "[CV] END class_weight={False: 1, True: 3}, criterion=gini, max_depth=1, random_state=10; total time=   0.0s\n",
      "[CV] END class_weight={False: 1, True: 3}, criterion=gini, max_depth=1, random_state=10; total time=   0.0s\n",
      "[CV] END class_weight={False: 1, True: 3}, criterion=gini, max_depth=1, random_state=10; total time=   0.0s\n",
      "[CV] END class_weight={False: 1, True: 3}, criterion=gini, max_depth=1, random_state=10; total time=   0.0s\n",
      "[CV] END class_weight={False: 1, True: 3}, criterion=gini, max_depth=2, random_state=10; total time=   0.0s\n",
      "[CV] END class_weight={False: 1, True: 3}, criterion=gini, max_depth=2, random_state=10; total time=   0.0s\n",
      "[CV] END class_weight={False: 1, True: 3}, criterion=gini, max_depth=2, random_state=10; total time=   0.0s\n",
      "[CV] END class_weight={False: 1, True: 3}, criterion=gini, max_depth=2, random_state=10; total time=   0.0s\n",
      "[CV] END class_weight={False: 1, True: 3}, criterion=entropy, max_depth=1, random_state=10; total time=   0.0s\n",
      "[CV] END class_weight={False: 1, True: 3}, criterion=entropy, max_depth=1, random_state=10; total time=   0.0s\n",
      "[CV] END class_weight={False: 1, True: 3}, criterion=entropy, max_depth=1, random_state=10; total time=   0.0s\n",
      "[CV] END class_weight={False: 1, True: 3}, criterion=entropy, max_depth=1, random_state=10; total time=   0.0s\n",
      "[CV] END class_weight={False: 1, True: 3}, criterion=entropy, max_depth=2, random_state=10; total time=   0.0s\n",
      "[CV] END class_weight={False: 1, True: 3}, criterion=entropy, max_depth=2, random_state=10; total time=   0.0s\n",
      "[CV] END class_weight={False: 1, True: 3}, criterion=entropy, max_depth=2, random_state=10; total time=   0.0s\n",
      "[CV] END class_weight={False: 1, True: 3}, criterion=entropy, max_depth=2, random_state=10; total time=   0.0s\n",
      "[CV] END class_weight={False: 1, True: 4}, criterion=gini, max_depth=1, random_state=10; total time=   0.0s\n",
      "[CV] END class_weight={False: 1, True: 4}, criterion=gini, max_depth=1, random_state=10; total time=   0.0s\n",
      "[CV] END class_weight={False: 1, True: 4}, criterion=gini, max_depth=1, random_state=10; total time=   0.0s\n",
      "[CV] END class_weight={False: 1, True: 4}, criterion=gini, max_depth=1, random_state=10; total time=   0.0s\n",
      "[CV] END class_weight={False: 1, True: 4}, criterion=gini, max_depth=2, random_state=10; total time=   0.0s\n",
      "[CV] END class_weight={False: 1, True: 4}, criterion=gini, max_depth=2, random_state=10; total time=   0.0s\n",
      "[CV] END class_weight={False: 1, True: 4}, criterion=gini, max_depth=2, random_state=10; total time=   0.0s\n",
      "[CV] END class_weight={False: 1, True: 4}, criterion=gini, max_depth=2, random_state=10; total time=   0.0s\n",
      "[CV] END class_weight={False: 1, True: 4}, criterion=entropy, max_depth=1, random_state=10; total time=   0.0s\n",
      "[CV] END class_weight={False: 1, True: 4}, criterion=entropy, max_depth=1, random_state=10; total time=   0.0s\n",
      "[CV] END class_weight={False: 1, True: 4}, criterion=entropy, max_depth=1, random_state=10; total time=   0.0s\n",
      "[CV] END class_weight={False: 1, True: 4}, criterion=entropy, max_depth=1, random_state=10; total time=   0.0s\n",
      "[CV] END class_weight={False: 1, True: 4}, criterion=entropy, max_depth=2, random_state=10; total time=   0.0s\n",
      "[CV] END class_weight={False: 1, True: 4}, criterion=entropy, max_depth=2, random_state=10; total time=   0.0s\n",
      "[CV] END class_weight={False: 1, True: 4}, criterion=entropy, max_depth=2, random_state=10; total time=   0.0s\n",
      "[CV] END class_weight={False: 1, True: 4}, criterion=entropy, max_depth=2, random_state=10; total time=   0.0s\n",
      "[CV] END class_weight={False: 1, True: 5}, criterion=gini, max_depth=1, random_state=10; total time=   0.0s\n",
      "[CV] END class_weight={False: 1, True: 5}, criterion=gini, max_depth=1, random_state=10; total time=   0.0s\n",
      "[CV] END class_weight={False: 1, True: 5}, criterion=gini, max_depth=1, random_state=10; total time=   0.0s\n",
      "[CV] END class_weight={False: 1, True: 5}, criterion=gini, max_depth=1, random_state=10; total time=   0.0s\n",
      "[CV] END class_weight={False: 1, True: 5}, criterion=gini, max_depth=2, random_state=10; total time=   0.0s\n",
      "[CV] END class_weight={False: 1, True: 5}, criterion=gini, max_depth=2, random_state=10; total time=   0.0s\n",
      "[CV] END class_weight={False: 1, True: 5}, criterion=gini, max_depth=2, random_state=10; total time=   0.0s\n",
      "[CV] END class_weight={False: 1, True: 5}, criterion=gini, max_depth=2, random_state=10; total time=   0.0s\n",
      "[CV] END class_weight={False: 1, True: 5}, criterion=entropy, max_depth=1, random_state=10; total time=   0.0s\n",
      "[CV] END class_weight={False: 1, True: 5}, criterion=entropy, max_depth=1, random_state=10; total time=   0.0s\n",
      "[CV] END class_weight={False: 1, True: 5}, criterion=entropy, max_depth=1, random_state=10; total time=   0.0s\n",
      "[CV] END class_weight={False: 1, True: 5}, criterion=entropy, max_depth=1, random_state=10; total time=   0.0s\n",
      "[CV] END class_weight={False: 1, True: 5}, criterion=entropy, max_depth=2, random_state=10; total time=   0.0s\n",
      "[CV] END class_weight={False: 1, True: 5}, criterion=entropy, max_depth=2, random_state=10; total time=   0.0s\n",
      "[CV] END class_weight={False: 1, True: 5}, criterion=entropy, max_depth=2, random_state=10; total time=   0.0s\n",
      "[CV] END class_weight={False: 1, True: 5}, criterion=entropy, max_depth=2, random_state=10; total time=   0.0s\n",
      "[CV] END class_weight={False: 1, True: 6}, criterion=gini, max_depth=1, random_state=10; total time=   0.0s\n",
      "[CV] END class_weight={False: 1, True: 6}, criterion=gini, max_depth=1, random_state=10; total time=   0.0s\n",
      "[CV] END class_weight={False: 1, True: 6}, criterion=gini, max_depth=1, random_state=10; total time=   0.0s\n",
      "[CV] END class_weight={False: 1, True: 6}, criterion=gini, max_depth=1, random_state=10; total time=   0.0s\n",
      "[CV] END class_weight={False: 1, True: 6}, criterion=gini, max_depth=2, random_state=10; total time=   0.0s\n",
      "[CV] END class_weight={False: 1, True: 6}, criterion=gini, max_depth=2, random_state=10; total time=   0.0s\n",
      "[CV] END class_weight={False: 1, True: 6}, criterion=gini, max_depth=2, random_state=10; total time=   0.0s\n",
      "[CV] END class_weight={False: 1, True: 6}, criterion=gini, max_depth=2, random_state=10; total time=   0.0s\n",
      "[CV] END class_weight={False: 1, True: 6}, criterion=entropy, max_depth=1, random_state=10; total time=   0.0s\n",
      "[CV] END class_weight={False: 1, True: 6}, criterion=entropy, max_depth=1, random_state=10; total time=   0.0s\n",
      "[CV] END class_weight={False: 1, True: 6}, criterion=entropy, max_depth=1, random_state=10; total time=   0.0s\n",
      "[CV] END class_weight={False: 1, True: 6}, criterion=entropy, max_depth=1, random_state=10; total time=   0.0s\n",
      "[CV] END class_weight={False: 1, True: 6}, criterion=entropy, max_depth=2, random_state=10; total time=   0.0s\n",
      "[CV] END class_weight={False: 1, True: 6}, criterion=entropy, max_depth=2, random_state=10; total time=   0.0s\n",
      "[CV] END class_weight={False: 1, True: 6}, criterion=entropy, max_depth=2, random_state=10; total time=   0.0s\n",
      "[CV] END class_weight={False: 1, True: 6}, criterion=entropy, max_depth=2, random_state=10; total time=   0.0s\n",
      "[CV] END class_weight={False: 1, True: 7}, criterion=gini, max_depth=1, random_state=10; total time=   0.0s\n",
      "[CV] END class_weight={False: 1, True: 7}, criterion=gini, max_depth=1, random_state=10; total time=   0.0s\n",
      "[CV] END class_weight={False: 1, True: 7}, criterion=gini, max_depth=1, random_state=10; total time=   0.0s\n",
      "[CV] END class_weight={False: 1, True: 7}, criterion=gini, max_depth=1, random_state=10; total time=   0.0s\n",
      "[CV] END class_weight={False: 1, True: 7}, criterion=gini, max_depth=2, random_state=10; total time=   0.0s\n",
      "[CV] END class_weight={False: 1, True: 7}, criterion=gini, max_depth=2, random_state=10; total time=   0.0s\n",
      "[CV] END class_weight={False: 1, True: 7}, criterion=gini, max_depth=2, random_state=10; total time=   0.0s\n",
      "[CV] END class_weight={False: 1, True: 7}, criterion=gini, max_depth=2, random_state=10; total time=   0.0s\n",
      "[CV] END class_weight={False: 1, True: 7}, criterion=entropy, max_depth=1, random_state=10; total time=   0.0s\n",
      "[CV] END class_weight={False: 1, True: 7}, criterion=entropy, max_depth=1, random_state=10; total time=   0.0s\n",
      "[CV] END class_weight={False: 1, True: 7}, criterion=entropy, max_depth=1, random_state=10; total time=   0.0s\n",
      "[CV] END class_weight={False: 1, True: 7}, criterion=entropy, max_depth=1, random_state=10; total time=   0.0s\n",
      "[CV] END class_weight={False: 1, True: 7}, criterion=entropy, max_depth=2, random_state=10; total time=   0.0s\n",
      "[CV] END class_weight={False: 1, True: 7}, criterion=entropy, max_depth=2, random_state=10; total time=   0.0s\n",
      "[CV] END class_weight={False: 1, True: 7}, criterion=entropy, max_depth=2, random_state=10; total time=   0.0s\n",
      "[CV] END class_weight={False: 1, True: 7}, criterion=entropy, max_depth=2, random_state=10; total time=   0.0s\n",
      "[CV] END class_weight={False: 1, True: 8}, criterion=gini, max_depth=1, random_state=10; total time=   0.0s\n",
      "[CV] END class_weight={False: 1, True: 8}, criterion=gini, max_depth=1, random_state=10; total time=   0.0s\n",
      "[CV] END class_weight={False: 1, True: 8}, criterion=gini, max_depth=1, random_state=10; total time=   0.0s\n",
      "[CV] END class_weight={False: 1, True: 8}, criterion=gini, max_depth=1, random_state=10; total time=   0.0s\n",
      "[CV] END class_weight={False: 1, True: 8}, criterion=gini, max_depth=2, random_state=10; total time=   0.0s\n",
      "[CV] END class_weight={False: 1, True: 8}, criterion=gini, max_depth=2, random_state=10; total time=   0.0s\n",
      "[CV] END class_weight={False: 1, True: 8}, criterion=gini, max_depth=2, random_state=10; total time=   0.0s\n",
      "[CV] END class_weight={False: 1, True: 8}, criterion=gini, max_depth=2, random_state=10; total time=   0.0s\n",
      "[CV] END class_weight={False: 1, True: 8}, criterion=entropy, max_depth=1, random_state=10; total time=   0.0s\n",
      "[CV] END class_weight={False: 1, True: 8}, criterion=entropy, max_depth=1, random_state=10; total time=   0.0s\n",
      "[CV] END class_weight={False: 1, True: 8}, criterion=entropy, max_depth=1, random_state=10; total time=   0.0s\n",
      "[CV] END class_weight={False: 1, True: 8}, criterion=entropy, max_depth=1, random_state=10; total time=   0.0s\n",
      "[CV] END class_weight={False: 1, True: 8}, criterion=entropy, max_depth=2, random_state=10; total time=   0.0s\n",
      "[CV] END class_weight={False: 1, True: 8}, criterion=entropy, max_depth=2, random_state=10; total time=   0.0s\n",
      "[CV] END class_weight={False: 1, True: 8}, criterion=entropy, max_depth=2, random_state=10; total time=   0.0s\n",
      "[CV] END class_weight={False: 1, True: 8}, criterion=entropy, max_depth=2, random_state=10; total time=   0.0s\n",
      "CPU times: user 778 ms, sys: 16.1 ms, total: 795 ms\n",
      "Wall time: 798 ms\n"
     ]
    },
    {
     "data": {
      "text/plain": [
       "{'class_weight': {False: 1, True: 4},\n",
       " 'criterion': 'entropy',\n",
       " 'max_depth': 2,\n",
       " 'random_state': 10}"
      ]
     },
     "execution_count": 72,
     "metadata": {},
     "output_type": "execute_result"
    }
   ],
   "source": [
    "%%time\n",
    "\n",
    "model_tree = GridSearchCV(DecisionTreeClassifier(), param_grid=parameters, scoring='roc_auc',cv = 4, verbose=2, refit=0)\n",
    "\n",
    "model_tree.fit(features_train_proba, target_full)\n",
    "\n",
    "params_tree = model_tree.best_params_\n",
    "params_tree"
   ]
  },
  {
   "cell_type": "code",
   "execution_count": 73,
   "id": "86f449cf",
   "metadata": {},
   "outputs": [
    {
     "data": {
      "text/plain": [
       "0.9157916510529314"
      ]
     },
     "execution_count": 73,
     "metadata": {},
     "output_type": "execute_result"
    }
   ],
   "source": [
    "model_tree.best_score_"
   ]
  },
  {
   "cell_type": "markdown",
   "id": "d7cf41f7",
   "metadata": {},
   "source": [
    "#### Тестирование модели"
   ]
  },
  {
   "cell_type": "code",
   "execution_count": 74,
   "id": "47759afc",
   "metadata": {},
   "outputs": [],
   "source": [
    "probas = []\n",
    "\n",
    "for model in [model_gbc,model_lgr,model_cat]:\n",
    "    model.fit(features_full,target_full)\n",
    "    prediction = model.predict_proba(features_test)\n",
    "    \n",
    "               \n",
    "    probas.append(prediction[:,0])\n",
    "    \n",
    "features_test_proba = np.column_stack([probas[x] for x in range(len(probas))])"
   ]
  },
  {
   "cell_type": "code",
   "execution_count": 75,
   "id": "af7135d6",
   "metadata": {},
   "outputs": [
    {
     "name": "stdout",
     "output_type": "stream",
     "text": [
      "roc-auc 0.88\n",
      "accuracy_score 0.9\n"
     ]
    }
   ],
   "source": [
    "model_tree = DecisionTreeClassifier(**params_tree)\n",
    "model_tree.fit(features_train_proba,target_full)\n",
    "prediction = model_tree.predict(features_test_proba)\n",
    "\n",
    "print('roc-auc', round(roc_auc_score(target_test, prediction),3))\n",
    "print('accuracy_score', round(accuracy_score(target_test, prediction),3))"
   ]
  },
  {
   "cell_type": "markdown",
   "id": "bcc4a9ae",
   "metadata": {},
   "source": [
    "Результат превзошёл CatBoost."
   ]
  },
  {
   "cell_type": "code",
   "execution_count": 76,
   "id": "35772190",
   "metadata": {},
   "outputs": [
    {
     "data": {
      "text/plain": [
       "[Text(418.5, 543.6, 'X[2] <= 0.701\\nentropy = 0.976\\nsamples = 5625\\nvalue = [4130, 5980]'),\n",
       " Text(209.25, 326.16, 'X[2] <= 0.176\\nentropy = 0.353\\nsamples = 1534\\nvalue = [340, 4776]'),\n",
       " Text(104.625, 108.72000000000003, 'entropy = 0.051\\nsamples = 833\\nvalue = [19, 3256]'),\n",
       " Text(313.875, 108.72000000000003, 'entropy = 0.668\\nsamples = 701\\nvalue = [321, 1520]'),\n",
       " Text(627.75, 326.16, 'X[2] <= 0.953\\nentropy = 0.797\\nsamples = 4091\\nvalue = [3790, 1204]'),\n",
       " Text(523.125, 108.72000000000003, 'entropy = 0.988\\nsamples = 1341\\nvalue = [1124, 868]'),\n",
       " Text(732.375, 108.72000000000003, 'entropy = 0.506\\nsamples = 2750\\nvalue = [2666, 336]')]"
      ]
     },
     "execution_count": 76,
     "metadata": {},
     "output_type": "execute_result"
    },
    {
     "data": {
      "image/png": "[encoded data removed]",
      "text/plain": [
       "<Figure size 1080x864 with 1 Axes>"
      ]
     },
     "metadata": {
      "needs_background": "light"
     },
     "output_type": "display_data"
    }
   ],
   "source": [
    "plt.figure(figsize=(15,12))\n",
    "tree.plot_tree(model_tree, fontsize=12)"
   ]
  },
  {
   "cell_type": "markdown",
   "id": "27aa1554",
   "metadata": {},
   "source": [
    "При этом модель пользуется исключительно предсказаниями CatBoost. Остальные можно убратью"
   ]
  },
  {
   "cell_type": "code",
   "execution_count": 77,
   "id": "7a3f08f3",
   "metadata": {},
   "outputs": [
    {
     "name": "stdout",
     "output_type": "stream",
     "text": [
      "Fitting 4 folds for each of 32 candidates, totalling 128 fits\n",
      "[CV] END class_weight={False: 1, True: 1}, criterion=gini, max_depth=1, random_state=10; total time=   0.0s\n",
      "[CV] END class_weight={False: 1, True: 1}, criterion=gini, max_depth=1, random_state=10; total time=   0.0s\n",
      "[CV] END class_weight={False: 1, True: 1}, criterion=gini, max_depth=1, random_state=10; total time=   0.0s\n",
      "[CV] END class_weight={False: 1, True: 1}, criterion=gini, max_depth=1, random_state=10; total time=   0.0s\n",
      "[CV] END class_weight={False: 1, True: 1}, criterion=gini, max_depth=2, random_state=10; total time=   0.0s\n",
      "[CV] END class_weight={False: 1, True: 1}, criterion=gini, max_depth=2, random_state=10; total time=   0.0s\n",
      "[CV] END class_weight={False: 1, True: 1}, criterion=gini, max_depth=2, random_state=10; total time=   0.0s\n",
      "[CV] END class_weight={False: 1, True: 1}, criterion=gini, max_depth=2, random_state=10; total time=   0.0s\n",
      "[CV] END class_weight={False: 1, True: 1}, criterion=entropy, max_depth=1, random_state=10; total time=   0.0s\n",
      "[CV] END class_weight={False: 1, True: 1}, criterion=entropy, max_depth=1, random_state=10; total time=   0.0s\n",
      "[CV] END class_weight={False: 1, True: 1}, criterion=entropy, max_depth=1, random_state=10; total time=   0.0s\n",
      "[CV] END class_weight={False: 1, True: 1}, criterion=entropy, max_depth=1, random_state=10; total time=   0.0s\n",
      "[CV] END class_weight={False: 1, True: 1}, criterion=entropy, max_depth=2, random_state=10; total time=   0.0s\n",
      "[CV] END class_weight={False: 1, True: 1}, criterion=entropy, max_depth=2, random_state=10; total time=   0.0s\n",
      "[CV] END class_weight={False: 1, True: 1}, criterion=entropy, max_depth=2, random_state=10; total time=   0.0s\n",
      "[CV] END class_weight={False: 1, True: 1}, criterion=entropy, max_depth=2, random_state=10; total time=   0.0s\n",
      "[CV] END class_weight={False: 1, True: 2}, criterion=gini, max_depth=1, random_state=10; total time=   0.0s\n",
      "[CV] END class_weight={False: 1, True: 2}, criterion=gini, max_depth=1, random_state=10; total time=   0.0s\n",
      "[CV] END class_weight={False: 1, True: 2}, criterion=gini, max_depth=1, random_state=10; total time=   0.0s\n",
      "[CV] END class_weight={False: 1, True: 2}, criterion=gini, max_depth=1, random_state=10; total time=   0.0s\n",
      "[CV] END class_weight={False: 1, True: 2}, criterion=gini, max_depth=2, random_state=10; total time=   0.0s\n",
      "[CV] END class_weight={False: 1, True: 2}, criterion=gini, max_depth=2, random_state=10; total time=   0.0s\n",
      "[CV] END class_weight={False: 1, True: 2}, criterion=gini, max_depth=2, random_state=10; total time=   0.0s\n",
      "[CV] END class_weight={False: 1, True: 2}, criterion=gini, max_depth=2, random_state=10; total time=   0.0s\n",
      "[CV] END class_weight={False: 1, True: 2}, criterion=entropy, max_depth=1, random_state=10; total time=   0.0s\n",
      "[CV] END class_weight={False: 1, True: 2}, criterion=entropy, max_depth=1, random_state=10; total time=   0.0s\n",
      "[CV] END class_weight={False: 1, True: 2}, criterion=entropy, max_depth=1, random_state=10; total time=   0.0s\n",
      "[CV] END class_weight={False: 1, True: 2}, criterion=entropy, max_depth=1, random_state=10; total time=   0.0s\n",
      "[CV] END class_weight={False: 1, True: 2}, criterion=entropy, max_depth=2, random_state=10; total time=   0.0s\n",
      "[CV] END class_weight={False: 1, True: 2}, criterion=entropy, max_depth=2, random_state=10; total time=   0.0s\n",
      "[CV] END class_weight={False: 1, True: 2}, criterion=entropy, max_depth=2, random_state=10; total time=   0.0s\n",
      "[CV] END class_weight={False: 1, True: 2}, criterion=entropy, max_depth=2, random_state=10; total time=   0.0s\n",
      "[CV] END class_weight={False: 1, True: 3}, criterion=gini, max_depth=1, random_state=10; total time=   0.0s\n",
      "[CV] END class_weight={False: 1, True: 3}, criterion=gini, max_depth=1, random_state=10; total time=   0.0s\n",
      "[CV] END class_weight={False: 1, True: 3}, criterion=gini, max_depth=1, random_state=10; total time=   0.0s\n",
      "[CV] END class_weight={False: 1, True: 3}, criterion=gini, max_depth=1, random_state=10; total time=   0.0s\n",
      "[CV] END class_weight={False: 1, True: 3}, criterion=gini, max_depth=2, random_state=10; total time=   0.0s\n",
      "[CV] END class_weight={False: 1, True: 3}, criterion=gini, max_depth=2, random_state=10; total time=   0.0s\n",
      "[CV] END class_weight={False: 1, True: 3}, criterion=gini, max_depth=2, random_state=10; total time=   0.0s\n",
      "[CV] END class_weight={False: 1, True: 3}, criterion=gini, max_depth=2, random_state=10; total time=   0.0s\n",
      "[CV] END class_weight={False: 1, True: 3}, criterion=entropy, max_depth=1, random_state=10; total time=   0.0s\n",
      "[CV] END class_weight={False: 1, True: 3}, criterion=entropy, max_depth=1, random_state=10; total time=   0.0s\n",
      "[CV] END class_weight={False: 1, True: 3}, criterion=entropy, max_depth=1, random_state=10; total time=   0.0s\n",
      "[CV] END class_weight={False: 1, True: 3}, criterion=entropy, max_depth=1, random_state=10; total time=   0.0s\n",
      "[CV] END class_weight={False: 1, True: 3}, criterion=entropy, max_depth=2, random_state=10; total time=   0.0s\n",
      "[CV] END class_weight={False: 1, True: 3}, criterion=entropy, max_depth=2, random_state=10; total time=   0.0s\n",
      "[CV] END class_weight={False: 1, True: 3}, criterion=entropy, max_depth=2, random_state=10; total time=   0.0s\n",
      "[CV] END class_weight={False: 1, True: 3}, criterion=entropy, max_depth=2, random_state=10; total time=   0.0s\n",
      "[CV] END class_weight={False: 1, True: 4}, criterion=gini, max_depth=1, random_state=10; total time=   0.0s\n",
      "[CV] END class_weight={False: 1, True: 4}, criterion=gini, max_depth=1, random_state=10; total time=   0.0s\n",
      "[CV] END class_weight={False: 1, True: 4}, criterion=gini, max_depth=1, random_state=10; total time=   0.0s\n",
      "[CV] END class_weight={False: 1, True: 4}, criterion=gini, max_depth=1, random_state=10; total time=   0.0s\n",
      "[CV] END class_weight={False: 1, True: 4}, criterion=gini, max_depth=2, random_state=10; total time=   0.0s\n",
      "[CV] END class_weight={False: 1, True: 4}, criterion=gini, max_depth=2, random_state=10; total time=   0.0s\n",
      "[CV] END class_weight={False: 1, True: 4}, criterion=gini, max_depth=2, random_state=10; total time=   0.0s\n",
      "[CV] END class_weight={False: 1, True: 4}, criterion=gini, max_depth=2, random_state=10; total time=   0.0s\n",
      "[CV] END class_weight={False: 1, True: 4}, criterion=entropy, max_depth=1, random_state=10; total time=   0.0s\n",
      "[CV] END class_weight={False: 1, True: 4}, criterion=entropy, max_depth=1, random_state=10; total time=   0.0s\n",
      "[CV] END class_weight={False: 1, True: 4}, criterion=entropy, max_depth=1, random_state=10; total time=   0.0s\n",
      "[CV] END class_weight={False: 1, True: 4}, criterion=entropy, max_depth=1, random_state=10; total time=   0.0s\n",
      "[CV] END class_weight={False: 1, True: 4}, criterion=entropy, max_depth=2, random_state=10; total time=   0.0s\n",
      "[CV] END class_weight={False: 1, True: 4}, criterion=entropy, max_depth=2, random_state=10; total time=   0.0s\n",
      "[CV] END class_weight={False: 1, True: 4}, criterion=entropy, max_depth=2, random_state=10; total time=   0.0s\n",
      "[CV] END class_weight={False: 1, True: 4}, criterion=entropy, max_depth=2, random_state=10; total time=   0.0s\n",
      "[CV] END class_weight={False: 1, True: 5}, criterion=gini, max_depth=1, random_state=10; total time=   0.0s\n",
      "[CV] END class_weight={False: 1, True: 5}, criterion=gini, max_depth=1, random_state=10; total time=   0.0s\n",
      "[CV] END class_weight={False: 1, True: 5}, criterion=gini, max_depth=1, random_state=10; total time=   0.0s\n",
      "[CV] END class_weight={False: 1, True: 5}, criterion=gini, max_depth=1, random_state=10; total time=   0.0s\n",
      "[CV] END class_weight={False: 1, True: 5}, criterion=gini, max_depth=2, random_state=10; total time=   0.0s\n",
      "[CV] END class_weight={False: 1, True: 5}, criterion=gini, max_depth=2, random_state=10; total time=   0.0s\n",
      "[CV] END class_weight={False: 1, True: 5}, criterion=gini, max_depth=2, random_state=10; total time=   0.0s\n",
      "[CV] END class_weight={False: 1, True: 5}, criterion=gini, max_depth=2, random_state=10; total time=   0.0s\n",
      "[CV] END class_weight={False: 1, True: 5}, criterion=entropy, max_depth=1, random_state=10; total time=   0.0s\n",
      "[CV] END class_weight={False: 1, True: 5}, criterion=entropy, max_depth=1, random_state=10; total time=   0.0s\n",
      "[CV] END class_weight={False: 1, True: 5}, criterion=entropy, max_depth=1, random_state=10; total time=   0.0s\n",
      "[CV] END class_weight={False: 1, True: 5}, criterion=entropy, max_depth=1, random_state=10; total time=   0.0s\n",
      "[CV] END class_weight={False: 1, True: 5}, criterion=entropy, max_depth=2, random_state=10; total time=   0.0s\n",
      "[CV] END class_weight={False: 1, True: 5}, criterion=entropy, max_depth=2, random_state=10; total time=   0.0s\n",
      "[CV] END class_weight={False: 1, True: 5}, criterion=entropy, max_depth=2, random_state=10; total time=   0.0s\n",
      "[CV] END class_weight={False: 1, True: 5}, criterion=entropy, max_depth=2, random_state=10; total time=   0.0s\n",
      "[CV] END class_weight={False: 1, True: 6}, criterion=gini, max_depth=1, random_state=10; total time=   0.0s\n",
      "[CV] END class_weight={False: 1, True: 6}, criterion=gini, max_depth=1, random_state=10; total time=   0.0s\n",
      "[CV] END class_weight={False: 1, True: 6}, criterion=gini, max_depth=1, random_state=10; total time=   0.0s\n",
      "[CV] END class_weight={False: 1, True: 6}, criterion=gini, max_depth=1, random_state=10; total time=   0.0s\n",
      "[CV] END class_weight={False: 1, True: 6}, criterion=gini, max_depth=2, random_state=10; total time=   0.0s\n",
      "[CV] END class_weight={False: 1, True: 6}, criterion=gini, max_depth=2, random_state=10; total time=   0.0s\n",
      "[CV] END class_weight={False: 1, True: 6}, criterion=gini, max_depth=2, random_state=10; total time=   0.0s\n",
      "[CV] END class_weight={False: 1, True: 6}, criterion=gini, max_depth=2, random_state=10; total time=   0.0s\n",
      "[CV] END class_weight={False: 1, True: 6}, criterion=entropy, max_depth=1, random_state=10; total time=   0.0s\n",
      "[CV] END class_weight={False: 1, True: 6}, criterion=entropy, max_depth=1, random_state=10; total time=   0.0s\n",
      "[CV] END class_weight={False: 1, True: 6}, criterion=entropy, max_depth=1, random_state=10; total time=   0.0s\n",
      "[CV] END class_weight={False: 1, True: 6}, criterion=entropy, max_depth=1, random_state=10; total time=   0.0s\n",
      "[CV] END class_weight={False: 1, True: 6}, criterion=entropy, max_depth=2, random_state=10; total time=   0.0s\n",
      "[CV] END class_weight={False: 1, True: 6}, criterion=entropy, max_depth=2, random_state=10; total time=   0.0s\n",
      "[CV] END class_weight={False: 1, True: 6}, criterion=entropy, max_depth=2, random_state=10; total time=   0.0s\n",
      "[CV] END class_weight={False: 1, True: 6}, criterion=entropy, max_depth=2, random_state=10; total time=   0.0s\n",
      "[CV] END class_weight={False: 1, True: 7}, criterion=gini, max_depth=1, random_state=10; total time=   0.0s\n",
      "[CV] END class_weight={False: 1, True: 7}, criterion=gini, max_depth=1, random_state=10; total time=   0.0s\n",
      "[CV] END class_weight={False: 1, True: 7}, criterion=gini, max_depth=1, random_state=10; total time=   0.0s\n",
      "[CV] END class_weight={False: 1, True: 7}, criterion=gini, max_depth=1, random_state=10; total time=   0.0s\n",
      "[CV] END class_weight={False: 1, True: 7}, criterion=gini, max_depth=2, random_state=10; total time=   0.0s\n",
      "[CV] END class_weight={False: 1, True: 7}, criterion=gini, max_depth=2, random_state=10; total time=   0.0s\n",
      "[CV] END class_weight={False: 1, True: 7}, criterion=gini, max_depth=2, random_state=10; total time=   0.0s\n",
      "[CV] END class_weight={False: 1, True: 7}, criterion=gini, max_depth=2, random_state=10; total time=   0.0s\n",
      "[CV] END class_weight={False: 1, True: 7}, criterion=entropy, max_depth=1, random_state=10; total time=   0.0s\n",
      "[CV] END class_weight={False: 1, True: 7}, criterion=entropy, max_depth=1, random_state=10; total time=   0.0s\n",
      "[CV] END class_weight={False: 1, True: 7}, criterion=entropy, max_depth=1, random_state=10; total time=   0.0s\n",
      "[CV] END class_weight={False: 1, True: 7}, criterion=entropy, max_depth=1, random_state=10; total time=   0.0s\n",
      "[CV] END class_weight={False: 1, True: 7}, criterion=entropy, max_depth=2, random_state=10; total time=   0.0s\n",
      "[CV] END class_weight={False: 1, True: 7}, criterion=entropy, max_depth=2, random_state=10; total time=   0.0s\n",
      "[CV] END class_weight={False: 1, True: 7}, criterion=entropy, max_depth=2, random_state=10; total time=   0.0s\n",
      "[CV] END class_weight={False: 1, True: 7}, criterion=entropy, max_depth=2, random_state=10; total time=   0.0s\n",
      "[CV] END class_weight={False: 1, True: 8}, criterion=gini, max_depth=1, random_state=10; total time=   0.0s\n",
      "[CV] END class_weight={False: 1, True: 8}, criterion=gini, max_depth=1, random_state=10; total time=   0.0s\n",
      "[CV] END class_weight={False: 1, True: 8}, criterion=gini, max_depth=1, random_state=10; total time=   0.0s\n",
      "[CV] END class_weight={False: 1, True: 8}, criterion=gini, max_depth=1, random_state=10; total time=   0.0s\n",
      "[CV] END class_weight={False: 1, True: 8}, criterion=gini, max_depth=2, random_state=10; total time=   0.0s\n",
      "[CV] END class_weight={False: 1, True: 8}, criterion=gini, max_depth=2, random_state=10; total time=   0.0s\n",
      "[CV] END class_weight={False: 1, True: 8}, criterion=gini, max_depth=2, random_state=10; total time=   0.0s\n",
      "[CV] END class_weight={False: 1, True: 8}, criterion=gini, max_depth=2, random_state=10; total time=   0.0s\n",
      "[CV] END class_weight={False: 1, True: 8}, criterion=entropy, max_depth=1, random_state=10; total time=   0.0s\n",
      "[CV] END class_weight={False: 1, True: 8}, criterion=entropy, max_depth=1, random_state=10; total time=   0.0s\n",
      "[CV] END class_weight={False: 1, True: 8}, criterion=entropy, max_depth=1, random_state=10; total time=   0.0s\n",
      "[CV] END class_weight={False: 1, True: 8}, criterion=entropy, max_depth=1, random_state=10; total time=   0.0s\n",
      "[CV] END class_weight={False: 1, True: 8}, criterion=entropy, max_depth=2, random_state=10; total time=   0.0s\n",
      "[CV] END class_weight={False: 1, True: 8}, criterion=entropy, max_depth=2, random_state=10; total time=   0.0s\n",
      "[CV] END class_weight={False: 1, True: 8}, criterion=entropy, max_depth=2, random_state=10; total time=   0.0s\n",
      "[CV] END class_weight={False: 1, True: 8}, criterion=entropy, max_depth=2, random_state=10; total time=   0.0s\n",
      "CPU times: user 653 ms, sys: 27.5 ms, total: 681 ms\n",
      "Wall time: 694 ms\n"
     ]
    },
    {
     "data": {
      "text/plain": [
       "{'class_weight': {False: 1, True: 4},\n",
       " 'criterion': 'entropy',\n",
       " 'max_depth': 2,\n",
       " 'random_state': 10}"
      ]
     },
     "execution_count": 77,
     "metadata": {},
     "output_type": "execute_result"
    }
   ],
   "source": [
    "%%time\n",
    "\n",
    "model_tree = GridSearchCV(DecisionTreeClassifier(), param_grid=parameters, scoring='roc_auc',cv = 4, verbose=2, refit=0)\n",
    "\n",
    "model_tree.fit(proba_cat.reshape(-1,1), target_full)\n",
    "\n",
    "params_tree = model_tree.best_params_\n",
    "params_tree"
   ]
  },
  {
   "cell_type": "code",
   "execution_count": 78,
   "id": "2d8174e7",
   "metadata": {},
   "outputs": [
    {
     "data": {
      "text/plain": [
       "0.9157916510529314"
      ]
     },
     "execution_count": 78,
     "metadata": {},
     "output_type": "execute_result"
    }
   ],
   "source": [
    "model_tree.best_score_"
   ]
  },
  {
   "cell_type": "code",
   "execution_count": 79,
   "id": "5cd4540f",
   "metadata": {},
   "outputs": [
    {
     "name": "stdout",
     "output_type": "stream",
     "text": [
      "roc-auc 0.88\n",
      "accuracy_score 0.9\n"
     ]
    }
   ],
   "source": [
    "model_cat.fit(features_full,target_full)\n",
    "prediction_proba = model_cat.predict_proba(features_test)[:,0].reshape(-1,1)\n",
    "\n",
    "model_tree = DecisionTreeClassifier(**params_tree)\n",
    "model_tree.fit(proba_cat.reshape(-1,1), target_full)\n",
    "prediction = model_tree.predict(prediction_proba)\n",
    "\n",
    "print('roc-auc', round(roc_auc_score(target_test, prediction),3))\n",
    "print('accuracy_score', round(accuracy_score(target_test, prediction),3))"
   ]
  },
  {
   "cell_type": "markdown",
   "id": "fa8c3c6d",
   "metadata": {},
   "source": [
    "Древо решений отколибровало вероятности, полученные от CatBoost."
   ]
  },
  {
   "cell_type": "markdown",
   "id": "5224eef6",
   "metadata": {},
   "source": [
    "### Адекватность модели"
   ]
  },
  {
   "cell_type": "markdown",
   "id": "7454a7fc",
   "metadata": {},
   "source": [
    "Сравнение с глупой моделью:"
   ]
  },
  {
   "cell_type": "code",
   "execution_count": 80,
   "id": "9dca2c04",
   "metadata": {},
   "outputs": [
    {
     "name": "stdout",
     "output_type": "stream",
     "text": [
      "roc-auc 1 3\n",
      "accuracy_score 1 3\n"
     ]
    }
   ],
   "source": [
    "model_dummy = DummyClassifier(strategy=\"stratified\")\n",
    "model_dummy.fit(features_train_proba,target_full)\n",
    "prediction = model_dummy.predict(features_test_proba)\n",
    "\n",
    "print('roc-auc', round(roc_auc_score(target_test, prediction)),3)\n",
    "print('accuracy_score', round(accuracy_score(target_test, prediction)),3)"
   ]
  },
  {
   "cell_type": "markdown",
   "id": "86ea5827",
   "metadata": {},
   "source": [
    "Модель адекватна."
   ]
  },
  {
   "cell_type": "markdown",
   "id": "247069c5",
   "metadata": {},
   "source": [
    "### Значимость признаков"
   ]
  },
  {
   "cell_type": "markdown",
   "id": "d2db71a3",
   "metadata": {},
   "source": [
    "Поскольку модель CatBoost дала лучший результат, значимость посмотрим через неё."
   ]
  },
  {
   "cell_type": "code",
   "execution_count": 82,
   "id": "6cb1de0b",
   "metadata": {},
   "outputs": [
    {
     "data": {
      "image/png": "[encoded data removed]",
      "text/plain": [
       "<Figure size 1152x720 with 1 Axes>"
      ]
     },
     "metadata": {
      "needs_background": "light"
     },
     "output_type": "display_data"
    }
   ],
   "source": [
    "plt.figure(figsize=(16,10))\n",
    "plt.bar(features_train.columns, model_cat.feature_importances_)\n",
    "plt.xticks(rotation=90)\n",
    "plt.show()"
   ]
  },
  {
   "cell_type": "markdown",
   "id": "3a16a0bb",
   "metadata": {},
   "source": [
    "Все категориальные признаки особой значимости не имеют. Важнее всего сколько клиент тратит и как давно подключился."
   ]
  },
  {
   "cell_type": "markdown",
   "id": "2243ccf2",
   "metadata": {},
   "source": [
    "## Отчёт"
   ]
  },
  {
   "cell_type": "markdown",
   "id": "789ebfe1",
   "metadata": {},
   "source": [
    "Проведён исследовательский анализ, по которому было принято решение создать дополнительный признак — возраст договора.<br>\n",
    "Были обучены и сравнены три модели, лучшей из которых по показателю ROC_AUC оказалась CatBoost, при этом выдаваемые ей вероятности были откалиброваны с помощью дерева решений, благодаря чему показатель ROC_AUC составил 0.88, при этом модель правильно определеяет 9 из 10 потенциальных разрывов контракта.<br>\n",
    "Сравнение с глупой моделью подтвердило адекватность — результат несоизмеримо лучше.<br>\n",
    "Худший, но всё ещё приемлемый результат дала логистическая регрессия, при этом она обучается и работает на подядок быстрее, однако в текущей задаче скорость не имеет значения.<br>\n",
    "Все пункты плана выполнены."
   ]
  }
 ],
 "metadata": {
  "ExecuteTimeLog": [
   {
    "duration": 1807,
    "start_time": "2022-07-04T06:58:10.800Z"
   },
   {
    "duration": 112,
    "start_time": "2022-07-04T06:58:15.535Z"
   },
   {
    "duration": 18,
    "start_time": "2022-07-04T06:58:46.249Z"
   },
   {
    "duration": 3,
    "start_time": "2022-07-04T06:58:51.060Z"
   },
   {
    "duration": 8,
    "start_time": "2022-07-04T06:58:51.944Z"
   },
   {
    "duration": 5,
    "start_time": "2022-07-04T06:58:52.502Z"
   },
   {
    "duration": 16,
    "start_time": "2022-07-04T06:59:06.102Z"
   },
   {
    "duration": 9,
    "start_time": "2022-07-04T06:59:10.322Z"
   },
   {
    "duration": 14,
    "start_time": "2022-07-04T06:59:11.655Z"
   },
   {
    "duration": 4,
    "start_time": "2022-07-04T06:59:30.055Z"
   },
   {
    "duration": 4,
    "start_time": "2022-07-04T06:59:30.645Z"
   },
   {
    "duration": 8,
    "start_time": "2022-07-04T06:59:31.314Z"
   },
   {
    "duration": 3,
    "start_time": "2022-07-04T06:59:32.044Z"
   },
   {
    "duration": 12,
    "start_time": "2022-07-04T06:59:32.664Z"
   },
   {
    "duration": 9,
    "start_time": "2022-07-04T06:59:33.391Z"
   },
   {
    "duration": 5,
    "start_time": "2022-07-04T06:59:34.149Z"
   },
   {
    "duration": 8,
    "start_time": "2022-07-04T06:59:57.705Z"
   },
   {
    "duration": 3,
    "start_time": "2022-07-04T07:00:00.234Z"
   },
   {
    "duration": 13,
    "start_time": "2022-07-04T07:00:01.048Z"
   },
   {
    "duration": 8,
    "start_time": "2022-07-04T07:00:01.799Z"
   },
   {
    "duration": 10,
    "start_time": "2022-07-04T07:00:03.296Z"
   },
   {
    "duration": 3,
    "start_time": "2022-07-04T07:00:14.249Z"
   },
   {
    "duration": 14,
    "start_time": "2022-07-04T07:00:14.783Z"
   },
   {
    "duration": 12,
    "start_time": "2022-07-04T07:00:15.366Z"
   },
   {
    "duration": 6,
    "start_time": "2022-07-04T07:00:16.530Z"
   },
   {
    "duration": 4,
    "start_time": "2022-07-04T07:00:16.817Z"
   },
   {
    "duration": 10,
    "start_time": "2022-07-04T07:00:17.027Z"
   },
   {
    "duration": 5,
    "start_time": "2022-07-04T07:00:17.545Z"
   },
   {
    "duration": 48,
    "start_time": "2022-07-04T07:01:52.248Z"
   },
   {
    "duration": 5,
    "start_time": "2022-07-04T07:02:20.953Z"
   },
   {
    "duration": 4,
    "start_time": "2022-07-04T07:02:21.670Z"
   },
   {
    "duration": 35,
    "start_time": "2022-07-04T07:02:23.762Z"
   },
   {
    "duration": 4,
    "start_time": "2022-07-04T07:03:16.959Z"
   },
   {
    "duration": 9,
    "start_time": "2022-07-04T07:03:17.996Z"
   },
   {
    "duration": 6,
    "start_time": "2022-07-04T07:03:20.025Z"
   },
   {
    "duration": 4,
    "start_time": "2022-07-04T07:04:55.995Z"
   },
   {
    "duration": 32,
    "start_time": "2022-07-04T07:04:56.988Z"
   },
   {
    "duration": 9,
    "start_time": "2022-07-04T07:05:35.904Z"
   },
   {
    "duration": 1721,
    "start_time": "2022-07-05T07:46:01.174Z"
   },
   {
    "duration": 2,
    "start_time": "2022-07-05T07:46:02.898Z"
   },
   {
    "duration": 415,
    "start_time": "2022-07-05T07:46:02.902Z"
   },
   {
    "duration": 17,
    "start_time": "2022-07-05T07:46:03.320Z"
   },
   {
    "duration": 4,
    "start_time": "2022-07-05T07:46:03.339Z"
   },
   {
    "duration": 12,
    "start_time": "2022-07-05T07:46:03.344Z"
   },
   {
    "duration": 6,
    "start_time": "2022-07-05T07:46:03.357Z"
   },
   {
    "duration": 15,
    "start_time": "2022-07-05T07:46:03.365Z"
   },
   {
    "duration": 9,
    "start_time": "2022-07-05T07:46:03.382Z"
   },
   {
    "duration": 16,
    "start_time": "2022-07-05T07:46:03.394Z"
   },
   {
    "duration": 4,
    "start_time": "2022-07-05T07:46:03.441Z"
   },
   {
    "duration": 10,
    "start_time": "2022-07-05T07:46:03.447Z"
   },
   {
    "duration": 15,
    "start_time": "2022-07-05T07:46:03.459Z"
   },
   {
    "duration": 9,
    "start_time": "2022-07-05T07:46:03.476Z"
   },
   {
    "duration": 19,
    "start_time": "2022-07-05T07:46:03.487Z"
   },
   {
    "duration": 15,
    "start_time": "2022-07-05T07:46:03.508Z"
   },
   {
    "duration": 6,
    "start_time": "2022-07-05T07:46:03.542Z"
   },
   {
    "duration": 12,
    "start_time": "2022-07-05T07:46:03.550Z"
   },
   {
    "duration": 6,
    "start_time": "2022-07-05T07:46:03.563Z"
   },
   {
    "duration": 16,
    "start_time": "2022-07-05T07:46:03.570Z"
   },
   {
    "duration": 11,
    "start_time": "2022-07-05T07:46:03.587Z"
   },
   {
    "duration": 14,
    "start_time": "2022-07-05T07:46:03.599Z"
   },
   {
    "duration": 3,
    "start_time": "2022-07-05T07:46:03.642Z"
   },
   {
    "duration": 19,
    "start_time": "2022-07-05T07:46:03.646Z"
   },
   {
    "duration": 19,
    "start_time": "2022-07-05T07:46:03.667Z"
   },
   {
    "duration": 10,
    "start_time": "2022-07-05T07:46:03.688Z"
   },
   {
    "duration": 4,
    "start_time": "2022-07-05T07:46:03.700Z"
   },
   {
    "duration": 35,
    "start_time": "2022-07-05T07:46:03.708Z"
   },
   {
    "duration": 7,
    "start_time": "2022-07-05T07:46:03.745Z"
   },
   {
    "duration": 63,
    "start_time": "2022-07-05T07:46:03.754Z"
   },
   {
    "duration": 23,
    "start_time": "2022-07-05T07:46:03.819Z"
   },
   {
    "duration": 10,
    "start_time": "2022-07-05T07:46:03.844Z"
   },
   {
    "duration": 33,
    "start_time": "2022-07-05T07:46:03.856Z"
   },
   {
    "duration": 4,
    "start_time": "2022-07-05T07:46:03.891Z"
   },
   {
    "duration": 14,
    "start_time": "2022-07-05T07:46:03.896Z"
   },
   {
    "duration": 29,
    "start_time": "2022-07-05T07:46:03.913Z"
   },
   {
    "duration": 6,
    "start_time": "2022-07-05T07:46:03.943Z"
   },
   {
    "duration": 30,
    "start_time": "2022-07-05T07:46:03.950Z"
   },
   {
    "duration": 3833,
    "start_time": "2022-07-05T07:46:03.982Z"
   },
   {
    "duration": 1117,
    "start_time": "2022-07-05T07:46:07.817Z"
   },
   {
    "duration": 10,
    "start_time": "2022-07-05T07:46:08.936Z"
   },
   {
    "duration": 801,
    "start_time": "2022-07-05T07:46:08.948Z"
   },
   {
    "duration": 462,
    "start_time": "2022-07-05T07:46:09.751Z"
   },
   {
    "duration": 14,
    "start_time": "2022-07-05T07:46:10.216Z"
   },
   {
    "duration": 426,
    "start_time": "2022-07-05T07:46:10.232Z"
   },
   {
    "duration": 4,
    "start_time": "2022-07-05T07:46:10.659Z"
   },
   {
    "duration": 24,
    "start_time": "2022-07-05T07:46:10.665Z"
   },
   {
    "duration": 16,
    "start_time": "2022-07-05T07:46:10.691Z"
   },
   {
    "duration": 4,
    "start_time": "2022-07-05T07:46:10.708Z"
   },
   {
    "duration": 28,
    "start_time": "2022-07-05T07:46:10.714Z"
   },
   {
    "duration": 19,
    "start_time": "2022-07-05T07:46:10.744Z"
   },
   {
    "duration": 3,
    "start_time": "2022-07-05T07:46:10.764Z"
   },
   {
    "duration": 4986,
    "start_time": "2022-07-05T07:46:10.768Z"
   },
   {
    "duration": 460333,
    "start_time": "2022-07-05T07:46:15.756Z"
   },
   {
    "duration": 4,
    "start_time": "2022-07-05T07:53:56.091Z"
   },
   {
    "duration": 8,
    "start_time": "2022-07-05T07:53:56.096Z"
   },
   {
    "duration": 2731,
    "start_time": "2022-07-05T07:53:56.105Z"
   },
   {
    "duration": 3806,
    "start_time": "2022-07-05T07:53:58.842Z"
   },
   {
    "duration": 8391,
    "start_time": "2022-07-05T07:54:02.651Z"
   },
   {
    "duration": 5,
    "start_time": "2022-07-05T07:54:11.044Z"
   },
   {
    "duration": 102,
    "start_time": "2022-07-05T07:54:11.051Z"
   },
   {
    "duration": 117,
    "start_time": "2022-07-05T07:54:11.154Z"
   },
   {
    "duration": 3,
    "start_time": "2022-07-05T07:54:11.342Z"
   },
   {
    "duration": 103,
    "start_time": "2022-07-05T07:54:11.347Z"
   },
   {
    "duration": 47181,
    "start_time": "2022-07-05T07:54:11.452Z"
   },
   {
    "duration": 4,
    "start_time": "2022-07-05T07:54:58.635Z"
   },
   {
    "duration": 4452,
    "start_time": "2022-07-05T07:54:58.641Z"
   },
   {
    "duration": 18683,
    "start_time": "2022-07-05T07:55:03.095Z"
   },
   {
    "duration": 5,
    "start_time": "2022-07-05T07:55:21.780Z"
   },
   {
    "duration": 907,
    "start_time": "2022-07-05T07:55:21.787Z"
   },
   {
    "duration": 3,
    "start_time": "2022-07-05T07:55:22.696Z"
   },
   {
    "duration": 5204,
    "start_time": "2022-07-05T07:55:22.701Z"
   },
   {
    "duration": 14,
    "start_time": "2022-07-05T07:55:27.906Z"
   },
   {
    "duration": 322,
    "start_time": "2022-07-05T07:55:27.922Z"
   },
   {
    "duration": 689,
    "start_time": "2022-07-05T07:55:28.245Z"
   },
   {
    "duration": 4,
    "start_time": "2022-07-05T07:55:28.943Z"
   },
   {
    "duration": 4191,
    "start_time": "2022-07-05T07:55:28.949Z"
   },
   {
    "duration": 9,
    "start_time": "2022-07-05T07:55:33.141Z"
   },
   {
    "duration": 1651,
    "start_time": "2022-07-06T10:04:45.553Z"
   },
   {
    "duration": 3,
    "start_time": "2022-07-06T10:04:47.205Z"
   },
   {
    "duration": 395,
    "start_time": "2022-07-06T10:04:47.210Z"
   },
   {
    "duration": 16,
    "start_time": "2022-07-06T10:04:47.608Z"
   },
   {
    "duration": 3,
    "start_time": "2022-07-06T10:04:47.626Z"
   },
   {
    "duration": 9,
    "start_time": "2022-07-06T10:04:47.631Z"
   },
   {
    "duration": 4,
    "start_time": "2022-07-06T10:04:47.642Z"
   },
   {
    "duration": 16,
    "start_time": "2022-07-06T10:04:47.648Z"
   },
   {
    "duration": 42,
    "start_time": "2022-07-06T10:04:47.665Z"
   },
   {
    "duration": 22,
    "start_time": "2022-07-06T10:04:47.709Z"
   },
   {
    "duration": 6,
    "start_time": "2022-07-06T10:04:47.732Z"
   },
   {
    "duration": 7,
    "start_time": "2022-07-06T10:04:47.739Z"
   },
   {
    "duration": 12,
    "start_time": "2022-07-06T10:04:47.748Z"
   },
   {
    "duration": 2,
    "start_time": "2022-07-06T10:04:47.762Z"
   },
   {
    "duration": 48,
    "start_time": "2022-07-06T10:04:47.767Z"
   },
   {
    "duration": 13,
    "start_time": "2022-07-06T10:04:47.817Z"
   },
   {
    "duration": 6,
    "start_time": "2022-07-06T10:04:47.832Z"
   },
   {
    "duration": 12,
    "start_time": "2022-07-06T10:04:47.840Z"
   },
   {
    "duration": 6,
    "start_time": "2022-07-06T10:04:47.853Z"
   },
   {
    "duration": 14,
    "start_time": "2022-07-06T10:04:47.860Z"
   },
   {
    "duration": 11,
    "start_time": "2022-07-06T10:04:47.903Z"
   },
   {
    "duration": 11,
    "start_time": "2022-07-06T10:04:47.916Z"
   },
   {
    "duration": 4,
    "start_time": "2022-07-06T10:04:47.929Z"
   },
   {
    "duration": 13,
    "start_time": "2022-07-06T10:04:47.934Z"
   },
   {
    "duration": 11,
    "start_time": "2022-07-06T10:04:47.949Z"
   },
   {
    "duration": 45,
    "start_time": "2022-07-06T10:04:47.962Z"
   },
   {
    "duration": 41,
    "start_time": "2022-07-06T10:04:48.008Z"
   },
   {
    "duration": 41,
    "start_time": "2022-07-06T10:04:48.053Z"
   },
   {
    "duration": 23,
    "start_time": "2022-07-06T10:04:48.096Z"
   },
   {
    "duration": 88,
    "start_time": "2022-07-06T10:04:48.121Z"
   },
   {
    "duration": 5,
    "start_time": "2022-07-06T10:04:48.210Z"
   },
   {
    "duration": 12,
    "start_time": "2022-07-06T10:04:48.216Z"
   },
   {
    "duration": 36,
    "start_time": "2022-07-06T10:04:48.229Z"
   },
   {
    "duration": 4,
    "start_time": "2022-07-06T10:04:48.267Z"
   },
   {
    "duration": 33,
    "start_time": "2022-07-06T10:04:48.273Z"
   },
   {
    "duration": 5,
    "start_time": "2022-07-06T10:04:48.308Z"
   },
   {
    "duration": 8,
    "start_time": "2022-07-06T10:04:48.315Z"
   },
   {
    "duration": 31,
    "start_time": "2022-07-06T10:04:48.325Z"
   },
   {
    "duration": 3318,
    "start_time": "2022-07-06T10:04:48.357Z"
   },
   {
    "duration": 1068,
    "start_time": "2022-07-06T10:04:51.677Z"
   },
   {
    "duration": 8,
    "start_time": "2022-07-06T10:04:52.747Z"
   },
   {
    "duration": 752,
    "start_time": "2022-07-06T10:04:52.757Z"
   },
   {
    "duration": 457,
    "start_time": "2022-07-06T10:04:53.512Z"
   },
   {
    "duration": 13,
    "start_time": "2022-07-06T10:04:53.971Z"
   },
   {
    "duration": 420,
    "start_time": "2022-07-06T10:04:53.986Z"
   },
   {
    "duration": 5,
    "start_time": "2022-07-06T10:04:54.408Z"
   },
   {
    "duration": 21,
    "start_time": "2022-07-06T10:07:27.161Z"
   },
   {
    "duration": 15,
    "start_time": "2022-07-06T10:07:27.920Z"
   },
   {
    "duration": 4,
    "start_time": "2022-07-06T10:07:28.825Z"
   },
   {
    "duration": 5,
    "start_time": "2022-07-06T10:07:31.416Z"
   },
   {
    "duration": 20,
    "start_time": "2022-07-06T10:07:34.324Z"
   },
   {
    "duration": 4,
    "start_time": "2022-07-06T10:07:35.264Z"
   },
   {
    "duration": 4650,
    "start_time": "2022-07-06T10:07:38.693Z"
   },
   {
    "duration": 436144,
    "start_time": "2022-07-06T10:07:48.606Z"
   },
   {
    "duration": 3,
    "start_time": "2022-07-06T10:15:04.752Z"
   },
   {
    "duration": 20,
    "start_time": "2022-07-06T10:15:04.756Z"
   },
   {
    "duration": 13,
    "start_time": "2022-07-06T10:15:07.669Z"
   },
   {
    "duration": 12,
    "start_time": "2022-07-06T10:15:20.179Z"
   },
   {
    "duration": 11,
    "start_time": "2022-07-06T10:17:20.456Z"
   },
   {
    "duration": 5823,
    "start_time": "2022-07-06T10:17:34.783Z"
   },
   {
    "duration": 8304,
    "start_time": "2022-07-06T10:17:40.610Z"
   },
   {
    "duration": 81,
    "start_time": "2022-07-06T10:17:48.924Z"
   },
   {
    "duration": 30,
    "start_time": "2022-07-06T10:17:49.009Z"
   },
   {
    "duration": 168,
    "start_time": "2022-07-06T10:17:49.040Z"
   },
   {
    "duration": 4,
    "start_time": "2022-07-06T10:17:49.211Z"
   },
   {
    "duration": 118,
    "start_time": "2022-07-06T10:17:49.217Z"
   },
   {
    "duration": 46826,
    "start_time": "2022-07-06T10:17:49.337Z"
   },
   {
    "duration": 4,
    "start_time": "2022-07-06T10:18:36.165Z"
   },
   {
    "duration": 4301,
    "start_time": "2022-07-06T10:18:36.171Z"
   },
   {
    "duration": 18711,
    "start_time": "2022-07-06T10:18:40.473Z"
   },
   {
    "duration": 6,
    "start_time": "2022-07-06T10:18:59.187Z"
   },
   {
    "duration": 826,
    "start_time": "2022-07-06T10:18:59.195Z"
   },
   {
    "duration": 4,
    "start_time": "2022-07-06T10:19:00.023Z"
   },
   {
    "duration": 5298,
    "start_time": "2022-07-06T10:19:00.029Z"
   },
   {
    "duration": 18,
    "start_time": "2022-07-06T10:19:05.330Z"
   },
   {
    "duration": 402,
    "start_time": "2022-07-06T10:19:05.350Z"
   },
   {
    "duration": 699,
    "start_time": "2022-07-06T10:19:05.753Z"
   },
   {
    "duration": 4,
    "start_time": "2022-07-06T10:19:06.454Z"
   },
   {
    "duration": 4272,
    "start_time": "2022-07-06T10:19:06.459Z"
   },
   {
    "duration": 11,
    "start_time": "2022-07-06T10:19:10.733Z"
   },
   {
    "duration": 338,
    "start_time": "2022-07-06T10:19:10.746Z"
   },
   {
    "duration": 333,
    "start_time": "2022-07-06T10:25:17.093Z"
   }
  ],
  "kernelspec": {
   "display_name": "Python 3 (ipykernel)",
   "language": "python",
   "name": "python3"
  },
  "language_info": {
   "codemirror_mode": {
    "name": "ipython",
    "version": 3
   },
   "file_extension": ".py",
   "mimetype": "text/x-python",
   "name": "python",
   "nbconvert_exporter": "python",
   "pygments_lexer": "ipython3",
   "version": "3.9.0"
  },
  "toc": {
   "base_numbering": 1,
   "nav_menu": {
    "height": "231px",
    "width": "160px"
   },
   "number_sections": true,
   "sideBar": true,
   "skip_h1_title": true,
   "title_cell": "Содержание",
   "title_sidebar": "Contents",
   "toc_cell": true,
   "toc_position": {
    "height": "calc(100% - 180px)",
    "left": "10px",
    "top": "150px",
    "width": "384px"
   },
   "toc_section_display": true,
   "toc_window_display": true
  }
 },
 "nbformat": 4,
 "nbformat_minor": 5
}
