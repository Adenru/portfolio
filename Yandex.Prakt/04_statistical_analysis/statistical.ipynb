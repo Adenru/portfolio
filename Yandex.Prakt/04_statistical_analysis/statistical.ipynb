{
 "cells": [
  {
   "cell_type": "code",
   "execution_count": 49,
   "metadata": {},
   "outputs": [
    {
     "data": {
      "text/plain": [
       "{'CodeCell': {'cm_config': {'autoCloseBrackets': False}}}"
      ]
     },
     "execution_count": 49,
     "metadata": {},
     "output_type": "execute_result"
    }
   ],
   "source": [
    "from notebook.services.config import ConfigManager\n",
    "c = ConfigManager()\n",
    "c.update('notebook', {\"CodeCell\": {\"cm_config\": {\"autoCloseBrackets\": False}}})"
   ]
  },
  {
   "cell_type": "markdown",
   "metadata": {},
   "source": [
    "# Определение перспективного тарифа для телеком-компании"
   ]
  },
  {
   "cell_type": "markdown",
   "metadata": {
    "toc": true
   },
   "source": [
    "<h1>Table of Contents<span class=\"tocSkip\"></span></h1>\n",
    "<div class=\"toc\"><ul class=\"toc-item\"><li><span><a href=\"#Предобработка-данных\" data-toc-modified-id=\"Предобработка-данных-1\"><span class=\"toc-item-num\">1&nbsp;&nbsp;</span>Предобработка данных</a></span><ul class=\"toc-item\"><li><span><a href=\"#Предварительный-анализ-и-обработка\" data-toc-modified-id=\"Предварительный-анализ-и-обработка-1.1\"><span class=\"toc-item-num\">1.1&nbsp;&nbsp;</span>Предварительный анализ и обработка</a></span></li><li><span><a href=\"#Создание-новых-столбцов\" data-toc-modified-id=\"Создание-новых-столбцов-1.2\"><span class=\"toc-item-num\">1.2&nbsp;&nbsp;</span>Создание новых столбцов</a></span></li></ul></li><li><span><a href=\"#Анализ-данных\" data-toc-modified-id=\"Анализ-данных-2\"><span class=\"toc-item-num\">2&nbsp;&nbsp;</span>Анализ данных</a></span></li><li><span><a href=\"#Проверка-гипотез\" data-toc-modified-id=\"Проверка-гипотез-3\"><span class=\"toc-item-num\">3&nbsp;&nbsp;</span>Проверка гипотез</a></span><ul class=\"toc-item\"><li><span><a href=\"#Cредняя-выручка-с-пользователей-тарифов-«Ультра»-и-«Смарт»-различаются\" data-toc-modified-id=\"Cредняя-выручка-с-пользователей-тарифов-«Ультра»-и-«Смарт»-различаются-3.1\"><span class=\"toc-item-num\">3.1&nbsp;&nbsp;</span>Cредняя выручка с пользователей тарифов «Ультра» и «Смарт» различаются</a></span></li><li><span><a href=\"#Cредняя-выручка-c-пользователей-из-Москвы-отличается-от-выручки-c-пользователей-из-других-регионов.\" data-toc-modified-id=\"Cредняя-выручка-c-пользователей-из-Москвы-отличается-от-выручки-c-пользователей-из-других-регионов.-3.2\"><span class=\"toc-item-num\">3.2&nbsp;&nbsp;</span>Cредняя выручка c пользователей из Москвы отличается от выручки c пользователей из других регионов.</a></span></li></ul></li><li><span><a href=\"#Вывод\" data-toc-modified-id=\"Вывод-4\"><span class=\"toc-item-num\">4&nbsp;&nbsp;</span>Вывод</a></span></li></ul></div>"
   ]
  },
  {
   "cell_type": "markdown",
   "metadata": {},
   "source": [
    "## Предобработка данных"
   ]
  },
  {
   "cell_type": "markdown",
   "metadata": {},
   "source": [
    "### Предварительный анализ и обработка"
   ]
  },
  {
   "cell_type": "code",
   "execution_count": 50,
   "metadata": {},
   "outputs": [],
   "source": [
    "import pandas as pd\n",
    "\n",
    "dfnames = ['users','internet','messages','tariffs','calls']\n",
    "for name in dfnames:\n",
    "    exec(f'{name} = pd.read_csv(\"/datasets/{name}.csv\")')"
   ]
  },
  {
   "cell_type": "code",
   "execution_count": 51,
   "metadata": {},
   "outputs": [
    {
     "name": "stdout",
     "output_type": "stream",
     "text": [
      "users\n",
      "     user_id  age  churn_date         city first_name  last_name    reg_date  \\\n",
      "0       1000   52         NaN    Краснодар     Рафаил  Верещагин  2018-05-25   \n",
      "1       1001   41         NaN       Москва       Иван       Ежов  2018-11-01   \n",
      "2       1002   59         NaN  Стерлитамак    Евгений  Абрамович  2018-06-17   \n",
      "3       1003   23         NaN       Москва      Белла   Белякова  2018-08-17   \n",
      "4       1004   68         NaN  Новокузнецк    Татьяна   Авдеенко  2018-05-14   \n",
      "..       ...  ...         ...          ...        ...        ...         ...   \n",
      "495     1495   65         NaN      Иркутск  Авксентий      Фокин  2018-08-28   \n",
      "496     1496   36         NaN      Вологда     Трифон     Блохин  2018-01-27   \n",
      "497     1497   32         NaN    Челябинск   Каролина     Агеева  2018-10-09   \n",
      "498     1498   68  2018-10-25  Владикавказ   Всеволод    Акимчин  2018-07-19   \n",
      "499     1499   35         NaN        Пермь     Гектор   Корнилов  2018-09-27   \n",
      "\n",
      "    tariff  \n",
      "0    ultra  \n",
      "1    smart  \n",
      "2    smart  \n",
      "3    ultra  \n",
      "4    ultra  \n",
      "..     ...  \n",
      "495  ultra  \n",
      "496  smart  \n",
      "497  smart  \n",
      "498  smart  \n",
      "499  smart  \n",
      "\n",
      "[500 rows x 8 columns]\n",
      "<class 'pandas.core.frame.DataFrame'>\n",
      "RangeIndex: 500 entries, 0 to 499\n",
      "Data columns (total 8 columns):\n",
      "user_id       500 non-null int64\n",
      "age           500 non-null int64\n",
      "churn_date    38 non-null object\n",
      "city          500 non-null object\n",
      "first_name    500 non-null object\n",
      "last_name     500 non-null object\n",
      "reg_date      500 non-null object\n",
      "tariff        500 non-null object\n",
      "dtypes: int64(2), object(6)\n",
      "memory usage: 31.4+ KB\n",
      "_______________________________________________________\n",
      "internet\n",
      "        Unnamed: 0        id  mb_used session_date  user_id\n",
      "0                0    1000_0   112.95   2018-11-25     1000\n",
      "1                1    1000_1  1052.81   2018-09-07     1000\n",
      "2                2    1000_2  1197.26   2018-06-25     1000\n",
      "3                3    1000_3   550.27   2018-08-22     1000\n",
      "4                4    1000_4   302.56   2018-09-24     1000\n",
      "...            ...       ...      ...          ...      ...\n",
      "149391      149391  1499_152   318.90   2018-10-03     1499\n",
      "149392      149392  1499_153   490.13   2018-12-14     1499\n",
      "149393      149393  1499_154     0.00   2018-10-27     1499\n",
      "149394      149394  1499_155  1246.32   2018-11-26     1499\n",
      "149395      149395  1499_156   544.37   2018-10-26     1499\n",
      "\n",
      "[149396 rows x 5 columns]\n",
      "<class 'pandas.core.frame.DataFrame'>\n",
      "RangeIndex: 149396 entries, 0 to 149395\n",
      "Data columns (total 5 columns):\n",
      "Unnamed: 0      149396 non-null int64\n",
      "id              149396 non-null object\n",
      "mb_used         149396 non-null float64\n",
      "session_date    149396 non-null object\n",
      "user_id         149396 non-null int64\n",
      "dtypes: float64(1), int64(2), object(2)\n",
      "memory usage: 5.7+ MB\n",
      "_______________________________________________________\n",
      "messages\n",
      "              id message_date  user_id\n",
      "0         1000_0   2018-06-27     1000\n",
      "1         1000_1   2018-10-08     1000\n",
      "2         1000_2   2018-08-04     1000\n",
      "3         1000_3   2018-06-16     1000\n",
      "4         1000_4   2018-12-05     1000\n",
      "...          ...          ...      ...\n",
      "123031  1499_179   2018-12-12     1499\n",
      "123032  1499_180   2018-09-28     1499\n",
      "123033  1499_181   2018-09-27     1499\n",
      "123034  1499_182   2018-11-15     1499\n",
      "123035  1499_183   2018-11-16     1499\n",
      "\n",
      "[123036 rows x 3 columns]\n",
      "<class 'pandas.core.frame.DataFrame'>\n",
      "RangeIndex: 123036 entries, 0 to 123035\n",
      "Data columns (total 3 columns):\n",
      "id              123036 non-null object\n",
      "message_date    123036 non-null object\n",
      "user_id         123036 non-null int64\n",
      "dtypes: int64(1), object(2)\n",
      "memory usage: 2.8+ MB\n",
      "_______________________________________________________\n",
      "tariffs\n",
      "   messages_included  mb_per_month_included  minutes_included  \\\n",
      "0                 50                  15360               500   \n",
      "1               1000                  30720              3000   \n",
      "\n",
      "   rub_monthly_fee  rub_per_gb  rub_per_message  rub_per_minute tariff_name  \n",
      "0              550         200                3               3       smart  \n",
      "1             1950         150                1               1       ultra  \n",
      "<class 'pandas.core.frame.DataFrame'>\n",
      "RangeIndex: 2 entries, 0 to 1\n",
      "Data columns (total 8 columns):\n",
      "messages_included        2 non-null int64\n",
      "mb_per_month_included    2 non-null int64\n",
      "minutes_included         2 non-null int64\n",
      "rub_monthly_fee          2 non-null int64\n",
      "rub_per_gb               2 non-null int64\n",
      "rub_per_message          2 non-null int64\n",
      "rub_per_minute           2 non-null int64\n",
      "tariff_name              2 non-null object\n",
      "dtypes: int64(7), object(1)\n",
      "memory usage: 256.0+ bytes\n",
      "_______________________________________________________\n",
      "calls\n",
      "              id   call_date  duration  user_id\n",
      "0         1000_0  2018-07-25      0.00     1000\n",
      "1         1000_1  2018-08-17      0.00     1000\n",
      "2         1000_2  2018-06-11      2.85     1000\n",
      "3         1000_3  2018-09-21     13.80     1000\n",
      "4         1000_4  2018-12-15      5.18     1000\n",
      "...          ...         ...       ...      ...\n",
      "202602  1499_215  2018-12-26      0.76     1499\n",
      "202603  1499_216  2018-10-18     18.83     1499\n",
      "202604  1499_217  2018-11-10     10.81     1499\n",
      "202605  1499_218  2018-10-06      4.27     1499\n",
      "202606  1499_219  2018-12-14     19.62     1499\n",
      "\n",
      "[202607 rows x 4 columns]\n",
      "<class 'pandas.core.frame.DataFrame'>\n",
      "RangeIndex: 202607 entries, 0 to 202606\n",
      "Data columns (total 4 columns):\n",
      "id           202607 non-null object\n",
      "call_date    202607 non-null object\n",
      "duration     202607 non-null float64\n",
      "user_id      202607 non-null int64\n",
      "dtypes: float64(1), int64(1), object(2)\n",
      "memory usage: 6.2+ MB\n",
      "_______________________________________________________\n"
     ]
    }
   ],
   "source": [
    "for name in dfnames:\n",
    "    print(name)\n",
    "    exec(f'print({name})')\n",
    "    exec(f'{name}.info()')\n",
    "    print('_______________________________________________________')"
   ]
  },
  {
   "cell_type": "markdown",
   "metadata": {},
   "source": [
    "В таблице internet нужно убрать лишнюю колонку \"Unnamed: 0\""
   ]
  },
  {
   "cell_type": "code",
   "execution_count": 52,
   "metadata": {},
   "outputs": [],
   "source": [
    "internet = internet.drop('Unnamed: 0', axis=1)"
   ]
  },
  {
   "cell_type": "markdown",
   "metadata": {},
   "source": [
    "В большинстве таблиц есть колонка \"id\", содержимое которой имеет вид \"номер пользователя_номер сессии\", что совершенно не требуется, поскольку номер пользователя есть в другой колонке. В данных можно оставить только номер сессии, а тип данных перевести в int, а сами колонки переименовать во избежание путаницы, поскольку таблицы будут объеденены."
   ]
  },
  {
   "cell_type": "code",
   "execution_count": 53,
   "metadata": {},
   "outputs": [],
   "source": [
    "old_names = ['internet','messages','calls']\n",
    "#посольку число символов в user_id фиксированное, то можно обойтись простым срезом\n",
    "for old_name in old_names:\n",
    "    exec(f\"{old_name}['id'] = {old_name}['id'].apply(lambda x: x[5:]).astype('int64', errors='ignore')\")"
   ]
  },
  {
   "cell_type": "code",
   "execution_count": 54,
   "metadata": {},
   "outputs": [],
   "source": [
    "new_names = ['session_id', 'message_id', 'call_id']\n",
    "for old_name, new_name in zip(old_names,new_names):\n",
    "    #exec(f\"{name}.rename(columns=\\{'id': '{new_name}'\\}, inplace=True)\")\n",
    "    exec(\"%s.rename(columns={'id': '%s'}, inplace=True)\" % (old_name,new_name))"
   ]
  },
  {
   "cell_type": "markdown",
   "metadata": {},
   "source": [
    "Даты с вида все однотипные, лекго читаются, похожи на формат datetime, но не являются им. Требуется конвертирование."
   ]
  },
  {
   "cell_type": "code",
   "execution_count": 55,
   "metadata": {},
   "outputs": [],
   "source": [
    "for x in [\"users['churn_date']\",\"internet['session_date']\",\"messages['message_date']\",\"calls['call_date']\"]:\n",
    "    exec(f\"{x} = pd.to_datetime({x},format='%Y-%m-%d')\")"
   ]
  },
  {
   "cell_type": "markdown",
   "metadata": {},
   "source": [
    "Проверяем столбец с населёнными пунктами на наличие неявных дубликатов:"
   ]
  },
  {
   "cell_type": "code",
   "execution_count": 56,
   "metadata": {},
   "outputs": [
    {
     "name": "stdout",
     "output_type": "stream",
     "text": [
      "['Архангельск' 'Астрахань' 'Балашиха' 'Барнаул' 'Белгород' 'Брянск'\n",
      " 'Владивосток' 'Владикавказ' 'Владимир' 'Волгоград' 'Волжский' 'Вологда'\n",
      " 'Воронеж' 'Грозный' 'Екатеринбург' 'Иваново' 'Ижевск' 'Иркутск' 'Казань'\n",
      " 'Калининград' 'Калуга' 'Кемерово' 'Киров' 'Кострома' 'Краснодар'\n",
      " 'Красноярск' 'Курган' 'Курск' 'Липецк' 'Магнитогорск' 'Махачкала'\n",
      " 'Москва' 'Мурманск' 'Набережные Челны' 'Нижневартовск' 'Нижний Новгород'\n",
      " 'Нижний Тагил' 'Новокузнецк' 'Новороссийск' 'Новосибирск' 'Омск'\n",
      " 'Оренбург' 'Орёл' 'Пенза' 'Пермь' 'Петрозаводск' 'Подольск'\n",
      " 'Ростов-на-Дону' 'Рязань' 'Самара' 'Санкт-Петербург' 'Саранск' 'Саратов'\n",
      " 'Севастополь' 'Смоленск' 'Сочи' 'Ставрополь' 'Стерлитамак' 'Сургут'\n",
      " 'Тамбов' 'Тверь' 'Тольятти' 'Томск' 'Тула' 'Тюмень' 'Улан-Удэ'\n",
      " 'Ульяновск' 'Уфа' 'Хабаровск' 'Химки' 'Чебоксары' 'Челябинск' 'Череповец'\n",
      " 'Чита' 'Якутск' 'Ярославль']\n"
     ]
    }
   ],
   "source": [
    "print(users['city'].sort_values().unique())"
   ]
  },
  {
   "cell_type": "markdown",
   "metadata": {},
   "source": [
    "В городах дубликаты отсутствуют. Убираем возможные явные  дубликаты во всех таблицах."
   ]
  },
  {
   "cell_type": "code",
   "execution_count": 57,
   "metadata": {},
   "outputs": [],
   "source": [
    "for name in dfnames:\n",
    "    exec(f'{name} = {name}.drop_duplicates()')"
   ]
  },
  {
   "cell_type": "markdown",
   "metadata": {},
   "source": [
    "### Создание новых столбцов\n",
    "Для выполнения задания потребуется группировки по месяцам."
   ]
  },
  {
   "cell_type": "code",
   "execution_count": 58,
   "metadata": {},
   "outputs": [],
   "source": [
    "#наставники против использования exec()\n",
    "calls['month_year'] = calls['call_date'].dt.to_period('M')\n",
    "internet['month_year'] = internet['session_date'].dt.to_period('M')\n",
    "messages['month_year'] = messages['message_date'].dt.to_period('M')"
   ]
  },
  {
   "cell_type": "markdown",
   "metadata": {},
   "source": [
    "Рассчитываем количество сделанных звонков и израсходованных минут разговора по месяцам,\n",
    "количество отправленных сообщений по месяцам,\n",
    "объем израсходованного интернет-трафика по месяцам для каждого пользователя, объединяем всё в одну таблицу:"
   ]
  },
  {
   "cell_type": "code",
   "execution_count": 59,
   "metadata": {},
   "outputs": [],
   "source": [
    "df = calls.groupby(['user_id','month_year']).agg({'duration': ['sum','count']})\n",
    "df.columns = ['minutes_month', 'calls_month']"
   ]
  },
  {
   "cell_type": "code",
   "execution_count": 60,
   "metadata": {},
   "outputs": [],
   "source": [
    "df = pd.merge(df,messages.groupby(['user_id','month_year'])['message_id'].count(), left_index = True, right_index = True, how = 'outer')"
   ]
  },
  {
   "cell_type": "code",
   "execution_count": 61,
   "metadata": {},
   "outputs": [],
   "source": [
    "df = pd.merge(df,internet.groupby(['user_id','month_year'])['mb_used'].sum(), left_index = True, right_index = True, how = 'outer')"
   ]
  },
  {
   "cell_type": "code",
   "execution_count": 62,
   "metadata": {},
   "outputs": [],
   "source": [
    "df.columns = ['minutes_month', 'calls_month', 'messages', 'traffic']"
   ]
  },
  {
   "cell_type": "code",
   "execution_count": 63,
   "metadata": {},
   "outputs": [
    {
     "name": "stdout",
     "output_type": "stream",
     "text": [
      "<class 'pandas.core.frame.DataFrame'>\n",
      "MultiIndex: 3214 entries, (1000, 2018-05) to (1499, 2018-12)\n",
      "Data columns (total 4 columns):\n",
      "minutes_month    3174 non-null float64\n",
      "calls_month      3174 non-null float64\n",
      "messages         2717 non-null float64\n",
      "traffic          3203 non-null float64\n",
      "dtypes: float64(4)\n",
      "memory usage: 114.0 KB\n"
     ]
    }
   ],
   "source": [
    "df.info()"
   ]
  },
  {
   "cell_type": "markdown",
   "metadata": {},
   "source": [
    "Рассмотрим пользователей, которые прекратили пользоваться тарифом."
   ]
  },
  {
   "cell_type": "code",
   "execution_count": 64,
   "metadata": {},
   "outputs": [
    {
     "data": {
      "text/html": [
       "<div>\n",
       "<style scoped>\n",
       "    .dataframe tbody tr th:only-of-type {\n",
       "        vertical-align: middle;\n",
       "    }\n",
       "\n",
       "    .dataframe tbody tr th {\n",
       "        vertical-align: top;\n",
       "    }\n",
       "\n",
       "    .dataframe thead th {\n",
       "        text-align: right;\n",
       "    }\n",
       "</style>\n",
       "<table border=\"1\" class=\"dataframe\">\n",
       "  <thead>\n",
       "    <tr style=\"text-align: right;\">\n",
       "      <th></th>\n",
       "      <th>user_id</th>\n",
       "      <th>age</th>\n",
       "      <th>churn_date</th>\n",
       "      <th>city</th>\n",
       "      <th>first_name</th>\n",
       "      <th>last_name</th>\n",
       "      <th>reg_date</th>\n",
       "      <th>tariff</th>\n",
       "    </tr>\n",
       "  </thead>\n",
       "  <tbody>\n",
       "    <tr>\n",
       "      <td>19</td>\n",
       "      <td>1019</td>\n",
       "      <td>63</td>\n",
       "      <td>2018-10-05</td>\n",
       "      <td>Томск</td>\n",
       "      <td>Игнатий</td>\n",
       "      <td>Круглов</td>\n",
       "      <td>2018-05-16</td>\n",
       "      <td>ultra</td>\n",
       "    </tr>\n",
       "    <tr>\n",
       "      <td>20</td>\n",
       "      <td>1020</td>\n",
       "      <td>59</td>\n",
       "      <td>2018-12-18</td>\n",
       "      <td>Чита</td>\n",
       "      <td>Тала</td>\n",
       "      <td>Костина</td>\n",
       "      <td>2018-10-22</td>\n",
       "      <td>smart</td>\n",
       "    </tr>\n",
       "    <tr>\n",
       "      <td>34</td>\n",
       "      <td>1034</td>\n",
       "      <td>66</td>\n",
       "      <td>2018-11-21</td>\n",
       "      <td>Вологда</td>\n",
       "      <td>Святослав</td>\n",
       "      <td>Бондарев</td>\n",
       "      <td>2018-08-26</td>\n",
       "      <td>smart</td>\n",
       "    </tr>\n",
       "    <tr>\n",
       "      <td>50</td>\n",
       "      <td>1050</td>\n",
       "      <td>44</td>\n",
       "      <td>2018-10-03</td>\n",
       "      <td>Тюмень</td>\n",
       "      <td>Рузана</td>\n",
       "      <td>Аничкина</td>\n",
       "      <td>2018-06-16</td>\n",
       "      <td>ultra</td>\n",
       "    </tr>\n",
       "    <tr>\n",
       "      <td>51</td>\n",
       "      <td>1051</td>\n",
       "      <td>37</td>\n",
       "      <td>2018-10-14</td>\n",
       "      <td>Москва</td>\n",
       "      <td>Кристина</td>\n",
       "      <td>Сомова</td>\n",
       "      <td>2018-05-28</td>\n",
       "      <td>smart</td>\n",
       "    </tr>\n",
       "    <tr>\n",
       "      <td>56</td>\n",
       "      <td>1056</td>\n",
       "      <td>73</td>\n",
       "      <td>2018-10-14</td>\n",
       "      <td>Иркутск</td>\n",
       "      <td>Радислав</td>\n",
       "      <td>Артемьев</td>\n",
       "      <td>2018-04-13</td>\n",
       "      <td>smart</td>\n",
       "    </tr>\n",
       "    <tr>\n",
       "      <td>62</td>\n",
       "      <td>1062</td>\n",
       "      <td>24</td>\n",
       "      <td>2018-12-09</td>\n",
       "      <td>Москва</td>\n",
       "      <td>Александр</td>\n",
       "      <td>Коршунов</td>\n",
       "      <td>2018-11-16</td>\n",
       "      <td>smart</td>\n",
       "    </tr>\n",
       "    <tr>\n",
       "      <td>63</td>\n",
       "      <td>1063</td>\n",
       "      <td>45</td>\n",
       "      <td>2018-12-11</td>\n",
       "      <td>Тула</td>\n",
       "      <td>Таира</td>\n",
       "      <td>Климова</td>\n",
       "      <td>2018-04-12</td>\n",
       "      <td>ultra</td>\n",
       "    </tr>\n",
       "    <tr>\n",
       "      <td>64</td>\n",
       "      <td>1064</td>\n",
       "      <td>55</td>\n",
       "      <td>2018-12-26</td>\n",
       "      <td>Якутск</td>\n",
       "      <td>Динара</td>\n",
       "      <td>Алфеева</td>\n",
       "      <td>2018-03-17</td>\n",
       "      <td>smart</td>\n",
       "    </tr>\n",
       "    <tr>\n",
       "      <td>65</td>\n",
       "      <td>1065</td>\n",
       "      <td>53</td>\n",
       "      <td>2018-12-09</td>\n",
       "      <td>Москва</td>\n",
       "      <td>Роза</td>\n",
       "      <td>Игнатова</td>\n",
       "      <td>2018-03-08</td>\n",
       "      <td>smart</td>\n",
       "    </tr>\n",
       "    <tr>\n",
       "      <td>71</td>\n",
       "      <td>1071</td>\n",
       "      <td>20</td>\n",
       "      <td>2018-08-31</td>\n",
       "      <td>Омск</td>\n",
       "      <td>Гектор</td>\n",
       "      <td>Чумаков</td>\n",
       "      <td>2018-01-09</td>\n",
       "      <td>smart</td>\n",
       "    </tr>\n",
       "    <tr>\n",
       "      <td>90</td>\n",
       "      <td>1090</td>\n",
       "      <td>54</td>\n",
       "      <td>2018-12-03</td>\n",
       "      <td>Череповец</td>\n",
       "      <td>Екатерина</td>\n",
       "      <td>Астафьева</td>\n",
       "      <td>2018-10-11</td>\n",
       "      <td>ultra</td>\n",
       "    </tr>\n",
       "    <tr>\n",
       "      <td>128</td>\n",
       "      <td>1128</td>\n",
       "      <td>51</td>\n",
       "      <td>2018-12-23</td>\n",
       "      <td>Волжский</td>\n",
       "      <td>Ксения</td>\n",
       "      <td>Агаева</td>\n",
       "      <td>2018-12-15</td>\n",
       "      <td>ultra</td>\n",
       "    </tr>\n",
       "    <tr>\n",
       "      <td>161</td>\n",
       "      <td>1161</td>\n",
       "      <td>65</td>\n",
       "      <td>2018-11-07</td>\n",
       "      <td>Набережные Челны</td>\n",
       "      <td>Татьяна</td>\n",
       "      <td>Голованова</td>\n",
       "      <td>2018-07-03</td>\n",
       "      <td>smart</td>\n",
       "    </tr>\n",
       "    <tr>\n",
       "      <td>163</td>\n",
       "      <td>1163</td>\n",
       "      <td>21</td>\n",
       "      <td>2018-12-16</td>\n",
       "      <td>Москва</td>\n",
       "      <td>Лев</td>\n",
       "      <td>Вишневский</td>\n",
       "      <td>2018-11-03</td>\n",
       "      <td>smart</td>\n",
       "    </tr>\n",
       "    <tr>\n",
       "      <td>191</td>\n",
       "      <td>1191</td>\n",
       "      <td>64</td>\n",
       "      <td>2018-10-03</td>\n",
       "      <td>Набережные Челны</td>\n",
       "      <td>Александр</td>\n",
       "      <td>Акиндинов</td>\n",
       "      <td>2018-06-30</td>\n",
       "      <td>smart</td>\n",
       "    </tr>\n",
       "    <tr>\n",
       "      <td>201</td>\n",
       "      <td>1201</td>\n",
       "      <td>32</td>\n",
       "      <td>2018-12-03</td>\n",
       "      <td>Москва</td>\n",
       "      <td>Геннадий</td>\n",
       "      <td>Веселов</td>\n",
       "      <td>2018-08-06</td>\n",
       "      <td>ultra</td>\n",
       "    </tr>\n",
       "    <tr>\n",
       "      <td>206</td>\n",
       "      <td>1206</td>\n",
       "      <td>35</td>\n",
       "      <td>2018-12-20</td>\n",
       "      <td>Москва</td>\n",
       "      <td>Елена</td>\n",
       "      <td>Шарапова</td>\n",
       "      <td>2018-11-03</td>\n",
       "      <td>smart</td>\n",
       "    </tr>\n",
       "    <tr>\n",
       "      <td>232</td>\n",
       "      <td>1232</td>\n",
       "      <td>60</td>\n",
       "      <td>2018-11-30</td>\n",
       "      <td>Томск</td>\n",
       "      <td>Виктория</td>\n",
       "      <td>Ларина</td>\n",
       "      <td>2018-10-07</td>\n",
       "      <td>smart</td>\n",
       "    </tr>\n",
       "    <tr>\n",
       "      <td>242</td>\n",
       "      <td>1242</td>\n",
       "      <td>39</td>\n",
       "      <td>2018-12-21</td>\n",
       "      <td>Хабаровск</td>\n",
       "      <td>Радим</td>\n",
       "      <td>Федосеев</td>\n",
       "      <td>2018-11-18</td>\n",
       "      <td>smart</td>\n",
       "    </tr>\n",
       "    <tr>\n",
       "      <td>254</td>\n",
       "      <td>1254</td>\n",
       "      <td>75</td>\n",
       "      <td>2018-08-17</td>\n",
       "      <td>Москва</td>\n",
       "      <td>Александра</td>\n",
       "      <td>Сухарева</td>\n",
       "      <td>2018-01-04</td>\n",
       "      <td>ultra</td>\n",
       "    </tr>\n",
       "    <tr>\n",
       "      <td>255</td>\n",
       "      <td>1255</td>\n",
       "      <td>40</td>\n",
       "      <td>2018-09-02</td>\n",
       "      <td>Саранск</td>\n",
       "      <td>Серафима</td>\n",
       "      <td>Пономарева</td>\n",
       "      <td>2018-02-19</td>\n",
       "      <td>ultra</td>\n",
       "    </tr>\n",
       "    <tr>\n",
       "      <td>265</td>\n",
       "      <td>1265</td>\n",
       "      <td>24</td>\n",
       "      <td>2018-10-04</td>\n",
       "      <td>Омск</td>\n",
       "      <td>Радим</td>\n",
       "      <td>Адамов</td>\n",
       "      <td>2018-06-24</td>\n",
       "      <td>ultra</td>\n",
       "    </tr>\n",
       "    <tr>\n",
       "      <td>271</td>\n",
       "      <td>1271</td>\n",
       "      <td>69</td>\n",
       "      <td>2018-11-13</td>\n",
       "      <td>Челябинск</td>\n",
       "      <td>Аурелия</td>\n",
       "      <td>Чижова</td>\n",
       "      <td>2018-07-14</td>\n",
       "      <td>ultra</td>\n",
       "    </tr>\n",
       "    <tr>\n",
       "      <td>293</td>\n",
       "      <td>1293</td>\n",
       "      <td>39</td>\n",
       "      <td>2018-11-22</td>\n",
       "      <td>Санкт-Петербург</td>\n",
       "      <td>Эдита</td>\n",
       "      <td>Дубинина</td>\n",
       "      <td>2018-09-05</td>\n",
       "      <td>smart</td>\n",
       "    </tr>\n",
       "    <tr>\n",
       "      <td>343</td>\n",
       "      <td>1343</td>\n",
       "      <td>30</td>\n",
       "      <td>2018-10-28</td>\n",
       "      <td>Кострома</td>\n",
       "      <td>Анита</td>\n",
       "      <td>Верещагина</td>\n",
       "      <td>2018-08-15</td>\n",
       "      <td>ultra</td>\n",
       "    </tr>\n",
       "    <tr>\n",
       "      <td>353</td>\n",
       "      <td>1353</td>\n",
       "      <td>57</td>\n",
       "      <td>2018-11-26</td>\n",
       "      <td>Санкт-Петербург</td>\n",
       "      <td>Доминика</td>\n",
       "      <td>Анищенко</td>\n",
       "      <td>2018-04-22</td>\n",
       "      <td>smart</td>\n",
       "    </tr>\n",
       "    <tr>\n",
       "      <td>355</td>\n",
       "      <td>1355</td>\n",
       "      <td>33</td>\n",
       "      <td>2018-11-27</td>\n",
       "      <td>Киров</td>\n",
       "      <td>Сара</td>\n",
       "      <td>Абрикосова</td>\n",
       "      <td>2018-07-21</td>\n",
       "      <td>smart</td>\n",
       "    </tr>\n",
       "    <tr>\n",
       "      <td>367</td>\n",
       "      <td>1367</td>\n",
       "      <td>43</td>\n",
       "      <td>2018-11-16</td>\n",
       "      <td>Москва</td>\n",
       "      <td>Всеволод</td>\n",
       "      <td>Антоненко</td>\n",
       "      <td>2018-09-14</td>\n",
       "      <td>ultra</td>\n",
       "    </tr>\n",
       "    <tr>\n",
       "      <td>370</td>\n",
       "      <td>1370</td>\n",
       "      <td>48</td>\n",
       "      <td>2018-10-27</td>\n",
       "      <td>Новороссийск</td>\n",
       "      <td>Гектор</td>\n",
       "      <td>Сысоев</td>\n",
       "      <td>2018-02-06</td>\n",
       "      <td>smart</td>\n",
       "    </tr>\n",
       "    <tr>\n",
       "      <td>371</td>\n",
       "      <td>1371</td>\n",
       "      <td>50</td>\n",
       "      <td>2018-12-30</td>\n",
       "      <td>Омск</td>\n",
       "      <td>Ириней</td>\n",
       "      <td>Трофимов</td>\n",
       "      <td>2018-12-25</td>\n",
       "      <td>smart</td>\n",
       "    </tr>\n",
       "    <tr>\n",
       "      <td>392</td>\n",
       "      <td>1392</td>\n",
       "      <td>54</td>\n",
       "      <td>2018-09-27</td>\n",
       "      <td>Челябинск</td>\n",
       "      <td>Алла</td>\n",
       "      <td>Беликова</td>\n",
       "      <td>2018-02-27</td>\n",
       "      <td>ultra</td>\n",
       "    </tr>\n",
       "    <tr>\n",
       "      <td>399</td>\n",
       "      <td>1399</td>\n",
       "      <td>31</td>\n",
       "      <td>2018-12-25</td>\n",
       "      <td>Уфа</td>\n",
       "      <td>Алиса</td>\n",
       "      <td>Абрашина</td>\n",
       "      <td>2018-11-06</td>\n",
       "      <td>ultra</td>\n",
       "    </tr>\n",
       "    <tr>\n",
       "      <td>416</td>\n",
       "      <td>1416</td>\n",
       "      <td>50</td>\n",
       "      <td>2018-12-14</td>\n",
       "      <td>Санкт-Петербург</td>\n",
       "      <td>Валерия</td>\n",
       "      <td>Ёлчина</td>\n",
       "      <td>2018-07-16</td>\n",
       "      <td>ultra</td>\n",
       "    </tr>\n",
       "    <tr>\n",
       "      <td>422</td>\n",
       "      <td>1422</td>\n",
       "      <td>60</td>\n",
       "      <td>2018-12-21</td>\n",
       "      <td>Москва</td>\n",
       "      <td>Клара</td>\n",
       "      <td>Устинова</td>\n",
       "      <td>2018-10-12</td>\n",
       "      <td>smart</td>\n",
       "    </tr>\n",
       "    <tr>\n",
       "      <td>438</td>\n",
       "      <td>1438</td>\n",
       "      <td>24</td>\n",
       "      <td>2018-12-24</td>\n",
       "      <td>Екатеринбург</td>\n",
       "      <td>Нателла</td>\n",
       "      <td>Бородина</td>\n",
       "      <td>2018-10-05</td>\n",
       "      <td>smart</td>\n",
       "    </tr>\n",
       "    <tr>\n",
       "      <td>480</td>\n",
       "      <td>1480</td>\n",
       "      <td>29</td>\n",
       "      <td>2018-09-26</td>\n",
       "      <td>Новокузнецк</td>\n",
       "      <td>Гелена</td>\n",
       "      <td>Емельянова</td>\n",
       "      <td>2018-02-14</td>\n",
       "      <td>smart</td>\n",
       "    </tr>\n",
       "    <tr>\n",
       "      <td>498</td>\n",
       "      <td>1498</td>\n",
       "      <td>68</td>\n",
       "      <td>2018-10-25</td>\n",
       "      <td>Владикавказ</td>\n",
       "      <td>Всеволод</td>\n",
       "      <td>Акимчин</td>\n",
       "      <td>2018-07-19</td>\n",
       "      <td>smart</td>\n",
       "    </tr>\n",
       "  </tbody>\n",
       "</table>\n",
       "</div>"
      ],
      "text/plain": [
       "     user_id  age churn_date              city  first_name   last_name  \\\n",
       "19      1019   63 2018-10-05             Томск     Игнатий     Круглов   \n",
       "20      1020   59 2018-12-18              Чита        Тала     Костина   \n",
       "34      1034   66 2018-11-21           Вологда   Святослав    Бондарев   \n",
       "50      1050   44 2018-10-03            Тюмень      Рузана    Аничкина   \n",
       "51      1051   37 2018-10-14            Москва    Кристина      Сомова   \n",
       "56      1056   73 2018-10-14           Иркутск    Радислав    Артемьев   \n",
       "62      1062   24 2018-12-09            Москва   Александр    Коршунов   \n",
       "63      1063   45 2018-12-11              Тула       Таира     Климова   \n",
       "64      1064   55 2018-12-26            Якутск      Динара     Алфеева   \n",
       "65      1065   53 2018-12-09            Москва        Роза    Игнатова   \n",
       "71      1071   20 2018-08-31              Омск      Гектор     Чумаков   \n",
       "90      1090   54 2018-12-03         Череповец   Екатерина   Астафьева   \n",
       "128     1128   51 2018-12-23          Волжский      Ксения      Агаева   \n",
       "161     1161   65 2018-11-07  Набережные Челны     Татьяна  Голованова   \n",
       "163     1163   21 2018-12-16            Москва         Лев  Вишневский   \n",
       "191     1191   64 2018-10-03  Набережные Челны   Александр   Акиндинов   \n",
       "201     1201   32 2018-12-03            Москва    Геннадий     Веселов   \n",
       "206     1206   35 2018-12-20            Москва       Елена    Шарапова   \n",
       "232     1232   60 2018-11-30             Томск    Виктория      Ларина   \n",
       "242     1242   39 2018-12-21         Хабаровск       Радим    Федосеев   \n",
       "254     1254   75 2018-08-17            Москва  Александра    Сухарева   \n",
       "255     1255   40 2018-09-02           Саранск    Серафима  Пономарева   \n",
       "265     1265   24 2018-10-04              Омск       Радим      Адамов   \n",
       "271     1271   69 2018-11-13         Челябинск     Аурелия      Чижова   \n",
       "293     1293   39 2018-11-22   Санкт-Петербург       Эдита    Дубинина   \n",
       "343     1343   30 2018-10-28          Кострома       Анита  Верещагина   \n",
       "353     1353   57 2018-11-26   Санкт-Петербург    Доминика    Анищенко   \n",
       "355     1355   33 2018-11-27             Киров        Сара  Абрикосова   \n",
       "367     1367   43 2018-11-16            Москва    Всеволод   Антоненко   \n",
       "370     1370   48 2018-10-27      Новороссийск      Гектор      Сысоев   \n",
       "371     1371   50 2018-12-30              Омск      Ириней    Трофимов   \n",
       "392     1392   54 2018-09-27         Челябинск        Алла    Беликова   \n",
       "399     1399   31 2018-12-25               Уфа       Алиса    Абрашина   \n",
       "416     1416   50 2018-12-14   Санкт-Петербург     Валерия      Ёлчина   \n",
       "422     1422   60 2018-12-21            Москва       Клара    Устинова   \n",
       "438     1438   24 2018-12-24      Екатеринбург     Нателла    Бородина   \n",
       "480     1480   29 2018-09-26       Новокузнецк      Гелена  Емельянова   \n",
       "498     1498   68 2018-10-25       Владикавказ    Всеволод     Акимчин   \n",
       "\n",
       "       reg_date tariff  \n",
       "19   2018-05-16  ultra  \n",
       "20   2018-10-22  smart  \n",
       "34   2018-08-26  smart  \n",
       "50   2018-06-16  ultra  \n",
       "51   2018-05-28  smart  \n",
       "56   2018-04-13  smart  \n",
       "62   2018-11-16  smart  \n",
       "63   2018-04-12  ultra  \n",
       "64   2018-03-17  smart  \n",
       "65   2018-03-08  smart  \n",
       "71   2018-01-09  smart  \n",
       "90   2018-10-11  ultra  \n",
       "128  2018-12-15  ultra  \n",
       "161  2018-07-03  smart  \n",
       "163  2018-11-03  smart  \n",
       "191  2018-06-30  smart  \n",
       "201  2018-08-06  ultra  \n",
       "206  2018-11-03  smart  \n",
       "232  2018-10-07  smart  \n",
       "242  2018-11-18  smart  \n",
       "254  2018-01-04  ultra  \n",
       "255  2018-02-19  ultra  \n",
       "265  2018-06-24  ultra  \n",
       "271  2018-07-14  ultra  \n",
       "293  2018-09-05  smart  \n",
       "343  2018-08-15  ultra  \n",
       "353  2018-04-22  smart  \n",
       "355  2018-07-21  smart  \n",
       "367  2018-09-14  ultra  \n",
       "370  2018-02-06  smart  \n",
       "371  2018-12-25  smart  \n",
       "392  2018-02-27  ultra  \n",
       "399  2018-11-06  ultra  \n",
       "416  2018-07-16  ultra  \n",
       "422  2018-10-12  smart  \n",
       "438  2018-10-05  smart  \n",
       "480  2018-02-14  smart  \n",
       "498  2018-07-19  smart  "
      ]
     },
     "execution_count": 64,
     "metadata": {},
     "output_type": "execute_result"
    }
   ],
   "source": [
    "users_quit = users[pd.notnull(users['churn_date'])]\n",
    "users_quit"
   ]
  },
  {
   "cell_type": "markdown",
   "metadata": {},
   "source": [
    "Таких пользователей совсем немного относительно общего числа, кроме того, они не повторяются, значит либо пользователь разорвал договор с оператором, либо перешёл на какой-то неуказанный тариф. Посмотрим, была ли активность у этих пользователей после даты прекращения пользования тарифом."
   ]
  },
  {
   "cell_type": "code",
   "execution_count": 65,
   "metadata": {},
   "outputs": [
    {
     "data": {
      "text/html": [
       "<div>\n",
       "<style scoped>\n",
       "    .dataframe tbody tr th:only-of-type {\n",
       "        vertical-align: middle;\n",
       "    }\n",
       "\n",
       "    .dataframe tbody tr th {\n",
       "        vertical-align: top;\n",
       "    }\n",
       "\n",
       "    .dataframe thead th {\n",
       "        text-align: right;\n",
       "    }\n",
       "</style>\n",
       "<table border=\"1\" class=\"dataframe\">\n",
       "  <thead>\n",
       "    <tr style=\"text-align: right;\">\n",
       "      <th></th>\n",
       "      <th>age</th>\n",
       "      <th>churn_date</th>\n",
       "      <th>city</th>\n",
       "      <th>first_name</th>\n",
       "      <th>last_name</th>\n",
       "      <th>reg_date</th>\n",
       "      <th>tariff</th>\n",
       "      <th>last_activity</th>\n",
       "    </tr>\n",
       "    <tr>\n",
       "      <th>user_id</th>\n",
       "      <th></th>\n",
       "      <th></th>\n",
       "      <th></th>\n",
       "      <th></th>\n",
       "      <th></th>\n",
       "      <th></th>\n",
       "      <th></th>\n",
       "      <th></th>\n",
       "    </tr>\n",
       "  </thead>\n",
       "  <tbody>\n",
       "    <tr>\n",
       "      <td>1019</td>\n",
       "      <td>63</td>\n",
       "      <td>2018-10-05</td>\n",
       "      <td>Томск</td>\n",
       "      <td>Игнатий</td>\n",
       "      <td>Круглов</td>\n",
       "      <td>2018-05-16</td>\n",
       "      <td>ultra</td>\n",
       "      <td>2018-10</td>\n",
       "    </tr>\n",
       "    <tr>\n",
       "      <td>1020</td>\n",
       "      <td>59</td>\n",
       "      <td>2018-12-18</td>\n",
       "      <td>Чита</td>\n",
       "      <td>Тала</td>\n",
       "      <td>Костина</td>\n",
       "      <td>2018-10-22</td>\n",
       "      <td>smart</td>\n",
       "      <td>2018-12</td>\n",
       "    </tr>\n",
       "    <tr>\n",
       "      <td>1034</td>\n",
       "      <td>66</td>\n",
       "      <td>2018-11-21</td>\n",
       "      <td>Вологда</td>\n",
       "      <td>Святослав</td>\n",
       "      <td>Бондарев</td>\n",
       "      <td>2018-08-26</td>\n",
       "      <td>smart</td>\n",
       "      <td>2018-11</td>\n",
       "    </tr>\n",
       "    <tr>\n",
       "      <td>1050</td>\n",
       "      <td>44</td>\n",
       "      <td>2018-10-03</td>\n",
       "      <td>Тюмень</td>\n",
       "      <td>Рузана</td>\n",
       "      <td>Аничкина</td>\n",
       "      <td>2018-06-16</td>\n",
       "      <td>ultra</td>\n",
       "      <td>2018-10</td>\n",
       "    </tr>\n",
       "    <tr>\n",
       "      <td>1051</td>\n",
       "      <td>37</td>\n",
       "      <td>2018-10-14</td>\n",
       "      <td>Москва</td>\n",
       "      <td>Кристина</td>\n",
       "      <td>Сомова</td>\n",
       "      <td>2018-05-28</td>\n",
       "      <td>smart</td>\n",
       "      <td>2018-10</td>\n",
       "    </tr>\n",
       "    <tr>\n",
       "      <td>1056</td>\n",
       "      <td>73</td>\n",
       "      <td>2018-10-14</td>\n",
       "      <td>Иркутск</td>\n",
       "      <td>Радислав</td>\n",
       "      <td>Артемьев</td>\n",
       "      <td>2018-04-13</td>\n",
       "      <td>smart</td>\n",
       "      <td>2018-10</td>\n",
       "    </tr>\n",
       "    <tr>\n",
       "      <td>1062</td>\n",
       "      <td>24</td>\n",
       "      <td>2018-12-09</td>\n",
       "      <td>Москва</td>\n",
       "      <td>Александр</td>\n",
       "      <td>Коршунов</td>\n",
       "      <td>2018-11-16</td>\n",
       "      <td>smart</td>\n",
       "      <td>2018-12</td>\n",
       "    </tr>\n",
       "    <tr>\n",
       "      <td>1063</td>\n",
       "      <td>45</td>\n",
       "      <td>2018-12-11</td>\n",
       "      <td>Тула</td>\n",
       "      <td>Таира</td>\n",
       "      <td>Климова</td>\n",
       "      <td>2018-04-12</td>\n",
       "      <td>ultra</td>\n",
       "      <td>2018-12</td>\n",
       "    </tr>\n",
       "    <tr>\n",
       "      <td>1064</td>\n",
       "      <td>55</td>\n",
       "      <td>2018-12-26</td>\n",
       "      <td>Якутск</td>\n",
       "      <td>Динара</td>\n",
       "      <td>Алфеева</td>\n",
       "      <td>2018-03-17</td>\n",
       "      <td>smart</td>\n",
       "      <td>2018-12</td>\n",
       "    </tr>\n",
       "    <tr>\n",
       "      <td>1065</td>\n",
       "      <td>53</td>\n",
       "      <td>2018-12-09</td>\n",
       "      <td>Москва</td>\n",
       "      <td>Роза</td>\n",
       "      <td>Игнатова</td>\n",
       "      <td>2018-03-08</td>\n",
       "      <td>smart</td>\n",
       "      <td>2018-12</td>\n",
       "    </tr>\n",
       "    <tr>\n",
       "      <td>1071</td>\n",
       "      <td>20</td>\n",
       "      <td>2018-08-31</td>\n",
       "      <td>Омск</td>\n",
       "      <td>Гектор</td>\n",
       "      <td>Чумаков</td>\n",
       "      <td>2018-01-09</td>\n",
       "      <td>smart</td>\n",
       "      <td>2018-08</td>\n",
       "    </tr>\n",
       "    <tr>\n",
       "      <td>1090</td>\n",
       "      <td>54</td>\n",
       "      <td>2018-12-03</td>\n",
       "      <td>Череповец</td>\n",
       "      <td>Екатерина</td>\n",
       "      <td>Астафьева</td>\n",
       "      <td>2018-10-11</td>\n",
       "      <td>ultra</td>\n",
       "      <td>2018-12</td>\n",
       "    </tr>\n",
       "    <tr>\n",
       "      <td>1128</td>\n",
       "      <td>51</td>\n",
       "      <td>2018-12-23</td>\n",
       "      <td>Волжский</td>\n",
       "      <td>Ксения</td>\n",
       "      <td>Агаева</td>\n",
       "      <td>2018-12-15</td>\n",
       "      <td>ultra</td>\n",
       "      <td>NaT</td>\n",
       "    </tr>\n",
       "    <tr>\n",
       "      <td>1161</td>\n",
       "      <td>65</td>\n",
       "      <td>2018-11-07</td>\n",
       "      <td>Набережные Челны</td>\n",
       "      <td>Татьяна</td>\n",
       "      <td>Голованова</td>\n",
       "      <td>2018-07-03</td>\n",
       "      <td>smart</td>\n",
       "      <td>2018-11</td>\n",
       "    </tr>\n",
       "    <tr>\n",
       "      <td>1163</td>\n",
       "      <td>21</td>\n",
       "      <td>2018-12-16</td>\n",
       "      <td>Москва</td>\n",
       "      <td>Лев</td>\n",
       "      <td>Вишневский</td>\n",
       "      <td>2018-11-03</td>\n",
       "      <td>smart</td>\n",
       "      <td>2018-12</td>\n",
       "    </tr>\n",
       "    <tr>\n",
       "      <td>1191</td>\n",
       "      <td>64</td>\n",
       "      <td>2018-10-03</td>\n",
       "      <td>Набережные Челны</td>\n",
       "      <td>Александр</td>\n",
       "      <td>Акиндинов</td>\n",
       "      <td>2018-06-30</td>\n",
       "      <td>smart</td>\n",
       "      <td>2018-10</td>\n",
       "    </tr>\n",
       "    <tr>\n",
       "      <td>1201</td>\n",
       "      <td>32</td>\n",
       "      <td>2018-12-03</td>\n",
       "      <td>Москва</td>\n",
       "      <td>Геннадий</td>\n",
       "      <td>Веселов</td>\n",
       "      <td>2018-08-06</td>\n",
       "      <td>ultra</td>\n",
       "      <td>2018-12</td>\n",
       "    </tr>\n",
       "    <tr>\n",
       "      <td>1206</td>\n",
       "      <td>35</td>\n",
       "      <td>2018-12-20</td>\n",
       "      <td>Москва</td>\n",
       "      <td>Елена</td>\n",
       "      <td>Шарапова</td>\n",
       "      <td>2018-11-03</td>\n",
       "      <td>smart</td>\n",
       "      <td>2018-12</td>\n",
       "    </tr>\n",
       "    <tr>\n",
       "      <td>1232</td>\n",
       "      <td>60</td>\n",
       "      <td>2018-11-30</td>\n",
       "      <td>Томск</td>\n",
       "      <td>Виктория</td>\n",
       "      <td>Ларина</td>\n",
       "      <td>2018-10-07</td>\n",
       "      <td>smart</td>\n",
       "      <td>2018-11</td>\n",
       "    </tr>\n",
       "    <tr>\n",
       "      <td>1242</td>\n",
       "      <td>39</td>\n",
       "      <td>2018-12-21</td>\n",
       "      <td>Хабаровск</td>\n",
       "      <td>Радим</td>\n",
       "      <td>Федосеев</td>\n",
       "      <td>2018-11-18</td>\n",
       "      <td>smart</td>\n",
       "      <td>2018-12</td>\n",
       "    </tr>\n",
       "    <tr>\n",
       "      <td>1254</td>\n",
       "      <td>75</td>\n",
       "      <td>2018-08-17</td>\n",
       "      <td>Москва</td>\n",
       "      <td>Александра</td>\n",
       "      <td>Сухарева</td>\n",
       "      <td>2018-01-04</td>\n",
       "      <td>ultra</td>\n",
       "      <td>2018-08</td>\n",
       "    </tr>\n",
       "    <tr>\n",
       "      <td>1255</td>\n",
       "      <td>40</td>\n",
       "      <td>2018-09-02</td>\n",
       "      <td>Саранск</td>\n",
       "      <td>Серафима</td>\n",
       "      <td>Пономарева</td>\n",
       "      <td>2018-02-19</td>\n",
       "      <td>ultra</td>\n",
       "      <td>2018-09</td>\n",
       "    </tr>\n",
       "    <tr>\n",
       "      <td>1265</td>\n",
       "      <td>24</td>\n",
       "      <td>2018-10-04</td>\n",
       "      <td>Омск</td>\n",
       "      <td>Радим</td>\n",
       "      <td>Адамов</td>\n",
       "      <td>2018-06-24</td>\n",
       "      <td>ultra</td>\n",
       "      <td>2018-10</td>\n",
       "    </tr>\n",
       "    <tr>\n",
       "      <td>1271</td>\n",
       "      <td>69</td>\n",
       "      <td>2018-11-13</td>\n",
       "      <td>Челябинск</td>\n",
       "      <td>Аурелия</td>\n",
       "      <td>Чижова</td>\n",
       "      <td>2018-07-14</td>\n",
       "      <td>ultra</td>\n",
       "      <td>2018-11</td>\n",
       "    </tr>\n",
       "    <tr>\n",
       "      <td>1293</td>\n",
       "      <td>39</td>\n",
       "      <td>2018-11-22</td>\n",
       "      <td>Санкт-Петербург</td>\n",
       "      <td>Эдита</td>\n",
       "      <td>Дубинина</td>\n",
       "      <td>2018-09-05</td>\n",
       "      <td>smart</td>\n",
       "      <td>2018-11</td>\n",
       "    </tr>\n",
       "    <tr>\n",
       "      <td>1343</td>\n",
       "      <td>30</td>\n",
       "      <td>2018-10-28</td>\n",
       "      <td>Кострома</td>\n",
       "      <td>Анита</td>\n",
       "      <td>Верещагина</td>\n",
       "      <td>2018-08-15</td>\n",
       "      <td>ultra</td>\n",
       "      <td>2018-10</td>\n",
       "    </tr>\n",
       "    <tr>\n",
       "      <td>1353</td>\n",
       "      <td>57</td>\n",
       "      <td>2018-11-26</td>\n",
       "      <td>Санкт-Петербург</td>\n",
       "      <td>Доминика</td>\n",
       "      <td>Анищенко</td>\n",
       "      <td>2018-04-22</td>\n",
       "      <td>smart</td>\n",
       "      <td>2018-11</td>\n",
       "    </tr>\n",
       "    <tr>\n",
       "      <td>1355</td>\n",
       "      <td>33</td>\n",
       "      <td>2018-11-27</td>\n",
       "      <td>Киров</td>\n",
       "      <td>Сара</td>\n",
       "      <td>Абрикосова</td>\n",
       "      <td>2018-07-21</td>\n",
       "      <td>smart</td>\n",
       "      <td>2018-11</td>\n",
       "    </tr>\n",
       "    <tr>\n",
       "      <td>1367</td>\n",
       "      <td>43</td>\n",
       "      <td>2018-11-16</td>\n",
       "      <td>Москва</td>\n",
       "      <td>Всеволод</td>\n",
       "      <td>Антоненко</td>\n",
       "      <td>2018-09-14</td>\n",
       "      <td>ultra</td>\n",
       "      <td>2018-11</td>\n",
       "    </tr>\n",
       "    <tr>\n",
       "      <td>1370</td>\n",
       "      <td>48</td>\n",
       "      <td>2018-10-27</td>\n",
       "      <td>Новороссийск</td>\n",
       "      <td>Гектор</td>\n",
       "      <td>Сысоев</td>\n",
       "      <td>2018-02-06</td>\n",
       "      <td>smart</td>\n",
       "      <td>2018-10</td>\n",
       "    </tr>\n",
       "    <tr>\n",
       "      <td>1371</td>\n",
       "      <td>50</td>\n",
       "      <td>2018-12-30</td>\n",
       "      <td>Омск</td>\n",
       "      <td>Ириней</td>\n",
       "      <td>Трофимов</td>\n",
       "      <td>2018-12-25</td>\n",
       "      <td>smart</td>\n",
       "      <td>NaT</td>\n",
       "    </tr>\n",
       "    <tr>\n",
       "      <td>1392</td>\n",
       "      <td>54</td>\n",
       "      <td>2018-09-27</td>\n",
       "      <td>Челябинск</td>\n",
       "      <td>Алла</td>\n",
       "      <td>Беликова</td>\n",
       "      <td>2018-02-27</td>\n",
       "      <td>ultra</td>\n",
       "      <td>2018-09</td>\n",
       "    </tr>\n",
       "    <tr>\n",
       "      <td>1399</td>\n",
       "      <td>31</td>\n",
       "      <td>2018-12-25</td>\n",
       "      <td>Уфа</td>\n",
       "      <td>Алиса</td>\n",
       "      <td>Абрашина</td>\n",
       "      <td>2018-11-06</td>\n",
       "      <td>ultra</td>\n",
       "      <td>2018-12</td>\n",
       "    </tr>\n",
       "    <tr>\n",
       "      <td>1416</td>\n",
       "      <td>50</td>\n",
       "      <td>2018-12-14</td>\n",
       "      <td>Санкт-Петербург</td>\n",
       "      <td>Валерия</td>\n",
       "      <td>Ёлчина</td>\n",
       "      <td>2018-07-16</td>\n",
       "      <td>ultra</td>\n",
       "      <td>2018-12</td>\n",
       "    </tr>\n",
       "    <tr>\n",
       "      <td>1422</td>\n",
       "      <td>60</td>\n",
       "      <td>2018-12-21</td>\n",
       "      <td>Москва</td>\n",
       "      <td>Клара</td>\n",
       "      <td>Устинова</td>\n",
       "      <td>2018-10-12</td>\n",
       "      <td>smart</td>\n",
       "      <td>2018-12</td>\n",
       "    </tr>\n",
       "    <tr>\n",
       "      <td>1438</td>\n",
       "      <td>24</td>\n",
       "      <td>2018-12-24</td>\n",
       "      <td>Екатеринбург</td>\n",
       "      <td>Нателла</td>\n",
       "      <td>Бородина</td>\n",
       "      <td>2018-10-05</td>\n",
       "      <td>smart</td>\n",
       "      <td>2018-12</td>\n",
       "    </tr>\n",
       "    <tr>\n",
       "      <td>1480</td>\n",
       "      <td>29</td>\n",
       "      <td>2018-09-26</td>\n",
       "      <td>Новокузнецк</td>\n",
       "      <td>Гелена</td>\n",
       "      <td>Емельянова</td>\n",
       "      <td>2018-02-14</td>\n",
       "      <td>smart</td>\n",
       "      <td>2018-09</td>\n",
       "    </tr>\n",
       "    <tr>\n",
       "      <td>1498</td>\n",
       "      <td>68</td>\n",
       "      <td>2018-10-25</td>\n",
       "      <td>Владикавказ</td>\n",
       "      <td>Всеволод</td>\n",
       "      <td>Акимчин</td>\n",
       "      <td>2018-07-19</td>\n",
       "      <td>smart</td>\n",
       "      <td>2018-10</td>\n",
       "    </tr>\n",
       "  </tbody>\n",
       "</table>\n",
       "</div>"
      ],
      "text/plain": [
       "         age churn_date              city  first_name   last_name    reg_date  \\\n",
       "user_id                                                                         \n",
       "1019      63 2018-10-05             Томск     Игнатий     Круглов  2018-05-16   \n",
       "1020      59 2018-12-18              Чита        Тала     Костина  2018-10-22   \n",
       "1034      66 2018-11-21           Вологда   Святослав    Бондарев  2018-08-26   \n",
       "1050      44 2018-10-03            Тюмень      Рузана    Аничкина  2018-06-16   \n",
       "1051      37 2018-10-14            Москва    Кристина      Сомова  2018-05-28   \n",
       "1056      73 2018-10-14           Иркутск    Радислав    Артемьев  2018-04-13   \n",
       "1062      24 2018-12-09            Москва   Александр    Коршунов  2018-11-16   \n",
       "1063      45 2018-12-11              Тула       Таира     Климова  2018-04-12   \n",
       "1064      55 2018-12-26            Якутск      Динара     Алфеева  2018-03-17   \n",
       "1065      53 2018-12-09            Москва        Роза    Игнатова  2018-03-08   \n",
       "1071      20 2018-08-31              Омск      Гектор     Чумаков  2018-01-09   \n",
       "1090      54 2018-12-03         Череповец   Екатерина   Астафьева  2018-10-11   \n",
       "1128      51 2018-12-23          Волжский      Ксения      Агаева  2018-12-15   \n",
       "1161      65 2018-11-07  Набережные Челны     Татьяна  Голованова  2018-07-03   \n",
       "1163      21 2018-12-16            Москва         Лев  Вишневский  2018-11-03   \n",
       "1191      64 2018-10-03  Набережные Челны   Александр   Акиндинов  2018-06-30   \n",
       "1201      32 2018-12-03            Москва    Геннадий     Веселов  2018-08-06   \n",
       "1206      35 2018-12-20            Москва       Елена    Шарапова  2018-11-03   \n",
       "1232      60 2018-11-30             Томск    Виктория      Ларина  2018-10-07   \n",
       "1242      39 2018-12-21         Хабаровск       Радим    Федосеев  2018-11-18   \n",
       "1254      75 2018-08-17            Москва  Александра    Сухарева  2018-01-04   \n",
       "1255      40 2018-09-02           Саранск    Серафима  Пономарева  2018-02-19   \n",
       "1265      24 2018-10-04              Омск       Радим      Адамов  2018-06-24   \n",
       "1271      69 2018-11-13         Челябинск     Аурелия      Чижова  2018-07-14   \n",
       "1293      39 2018-11-22   Санкт-Петербург       Эдита    Дубинина  2018-09-05   \n",
       "1343      30 2018-10-28          Кострома       Анита  Верещагина  2018-08-15   \n",
       "1353      57 2018-11-26   Санкт-Петербург    Доминика    Анищенко  2018-04-22   \n",
       "1355      33 2018-11-27             Киров        Сара  Абрикосова  2018-07-21   \n",
       "1367      43 2018-11-16            Москва    Всеволод   Антоненко  2018-09-14   \n",
       "1370      48 2018-10-27      Новороссийск      Гектор      Сысоев  2018-02-06   \n",
       "1371      50 2018-12-30              Омск      Ириней    Трофимов  2018-12-25   \n",
       "1392      54 2018-09-27         Челябинск        Алла    Беликова  2018-02-27   \n",
       "1399      31 2018-12-25               Уфа       Алиса    Абрашина  2018-11-06   \n",
       "1416      50 2018-12-14   Санкт-Петербург     Валерия      Ёлчина  2018-07-16   \n",
       "1422      60 2018-12-21            Москва       Клара    Устинова  2018-10-12   \n",
       "1438      24 2018-12-24      Екатеринбург     Нателла    Бородина  2018-10-05   \n",
       "1480      29 2018-09-26       Новокузнецк      Гелена  Емельянова  2018-02-14   \n",
       "1498      68 2018-10-25       Владикавказ    Всеволод     Акимчин  2018-07-19   \n",
       "\n",
       "        tariff last_activity  \n",
       "user_id                       \n",
       "1019     ultra       2018-10  \n",
       "1020     smart       2018-12  \n",
       "1034     smart       2018-11  \n",
       "1050     ultra       2018-10  \n",
       "1051     smart       2018-10  \n",
       "1056     smart       2018-10  \n",
       "1062     smart       2018-12  \n",
       "1063     ultra       2018-12  \n",
       "1064     smart       2018-12  \n",
       "1065     smart       2018-12  \n",
       "1071     smart       2018-08  \n",
       "1090     ultra       2018-12  \n",
       "1128     ultra           NaT  \n",
       "1161     smart       2018-11  \n",
       "1163     smart       2018-12  \n",
       "1191     smart       2018-10  \n",
       "1201     ultra       2018-12  \n",
       "1206     smart       2018-12  \n",
       "1232     smart       2018-11  \n",
       "1242     smart       2018-12  \n",
       "1254     ultra       2018-08  \n",
       "1255     ultra       2018-09  \n",
       "1265     ultra       2018-10  \n",
       "1271     ultra       2018-11  \n",
       "1293     smart       2018-11  \n",
       "1343     ultra       2018-10  \n",
       "1353     smart       2018-11  \n",
       "1355     smart       2018-11  \n",
       "1367     ultra       2018-11  \n",
       "1370     smart       2018-10  \n",
       "1371     smart           NaT  \n",
       "1392     ultra       2018-09  \n",
       "1399     ultra       2018-12  \n",
       "1416     ultra       2018-12  \n",
       "1422     smart       2018-12  \n",
       "1438     smart       2018-12  \n",
       "1480     smart       2018-09  \n",
       "1498     smart       2018-10  "
      ]
     },
     "execution_count": 65,
     "metadata": {},
     "output_type": "execute_result"
    }
   ],
   "source": [
    "quit_last_active = df.reset_index()[df.reset_index()['user_id'].isin(users_quit['user_id']) & pd.notnull(df.reset_index()['month_year'])].sort_values('month_year', ascending = False).groupby('user_id')['month_year'].first()\n",
    "users_quit = users_quit.set_index('user_id')\n",
    "users_quit['last_activity'] = quit_last_active\n",
    "users_quit"
   ]
  },
  {
   "cell_type": "markdown",
   "metadata": {},
   "source": [
    "В данных полностью отсутсвует активность о деятельности пользователей, из-за чего появились пропуски, из-за сломался тип данных datetime, но поскольку данных на выводе не очень много, по ним прекрасно видно, что активности у пользователей не было после прекращения тарифа, значит эту дату можно игнорировать и просто рассчитывать стоимости согласно тарифу из таблицы, но сначала надо округлить трафик и минуты до целых по месяцам, поскольку так рассчитывается стоимость."
   ]
  },
  {
   "cell_type": "code",
   "execution_count": 66,
   "metadata": {},
   "outputs": [
    {
     "data": {
      "text/html": [
       "<div>\n",
       "<style scoped>\n",
       "    .dataframe tbody tr th:only-of-type {\n",
       "        vertical-align: middle;\n",
       "    }\n",
       "\n",
       "    .dataframe tbody tr th {\n",
       "        vertical-align: top;\n",
       "    }\n",
       "\n",
       "    .dataframe thead th {\n",
       "        text-align: right;\n",
       "    }\n",
       "</style>\n",
       "<table border=\"1\" class=\"dataframe\">\n",
       "  <thead>\n",
       "    <tr style=\"text-align: right;\">\n",
       "      <th></th>\n",
       "      <th></th>\n",
       "      <th>minutes_month</th>\n",
       "      <th>calls_month</th>\n",
       "      <th>messages</th>\n",
       "      <th>traffic</th>\n",
       "    </tr>\n",
       "    <tr>\n",
       "      <th>user_id</th>\n",
       "      <th>month_year</th>\n",
       "      <th></th>\n",
       "      <th></th>\n",
       "      <th></th>\n",
       "      <th></th>\n",
       "    </tr>\n",
       "  </thead>\n",
       "  <tbody>\n",
       "    <tr>\n",
       "      <td rowspan=\"5\" valign=\"top\">1000</td>\n",
       "      <td>2018-05</td>\n",
       "      <td>151.0</td>\n",
       "      <td>22.0</td>\n",
       "      <td>22.0</td>\n",
       "      <td>2254.0</td>\n",
       "    </tr>\n",
       "    <tr>\n",
       "      <td>2018-06</td>\n",
       "      <td>159.0</td>\n",
       "      <td>43.0</td>\n",
       "      <td>60.0</td>\n",
       "      <td>23234.0</td>\n",
       "    </tr>\n",
       "    <tr>\n",
       "      <td>2018-07</td>\n",
       "      <td>319.0</td>\n",
       "      <td>47.0</td>\n",
       "      <td>75.0</td>\n",
       "      <td>14004.0</td>\n",
       "    </tr>\n",
       "    <tr>\n",
       "      <td>2018-08</td>\n",
       "      <td>390.0</td>\n",
       "      <td>52.0</td>\n",
       "      <td>81.0</td>\n",
       "      <td>14056.0</td>\n",
       "    </tr>\n",
       "    <tr>\n",
       "      <td>2018-09</td>\n",
       "      <td>441.0</td>\n",
       "      <td>58.0</td>\n",
       "      <td>57.0</td>\n",
       "      <td>14569.0</td>\n",
       "    </tr>\n",
       "    <tr>\n",
       "      <td>...</td>\n",
       "      <td>...</td>\n",
       "      <td>...</td>\n",
       "      <td>...</td>\n",
       "      <td>...</td>\n",
       "      <td>...</td>\n",
       "    </tr>\n",
       "    <tr>\n",
       "      <td>1498</td>\n",
       "      <td>2018-10</td>\n",
       "      <td>233.0</td>\n",
       "      <td>41.0</td>\n",
       "      <td>42.0</td>\n",
       "      <td>20580.0</td>\n",
       "    </tr>\n",
       "    <tr>\n",
       "      <td rowspan=\"4\" valign=\"top\">1499</td>\n",
       "      <td>2018-09</td>\n",
       "      <td>65.0</td>\n",
       "      <td>9.0</td>\n",
       "      <td>11.0</td>\n",
       "      <td>1846.0</td>\n",
       "    </tr>\n",
       "    <tr>\n",
       "      <td>2018-10</td>\n",
       "      <td>430.0</td>\n",
       "      <td>68.0</td>\n",
       "      <td>48.0</td>\n",
       "      <td>17789.0</td>\n",
       "    </tr>\n",
       "    <tr>\n",
       "      <td>2018-11</td>\n",
       "      <td>577.0</td>\n",
       "      <td>74.0</td>\n",
       "      <td>59.0</td>\n",
       "      <td>17964.0</td>\n",
       "    </tr>\n",
       "    <tr>\n",
       "      <td>2018-12</td>\n",
       "      <td>466.0</td>\n",
       "      <td>69.0</td>\n",
       "      <td>66.0</td>\n",
       "      <td>13056.0</td>\n",
       "    </tr>\n",
       "  </tbody>\n",
       "</table>\n",
       "<p>3214 rows × 4 columns</p>\n",
       "</div>"
      ],
      "text/plain": [
       "                    minutes_month  calls_month  messages  traffic\n",
       "user_id month_year                                               \n",
       "1000    2018-05             151.0         22.0      22.0   2254.0\n",
       "        2018-06             159.0         43.0      60.0  23234.0\n",
       "        2018-07             319.0         47.0      75.0  14004.0\n",
       "        2018-08             390.0         52.0      81.0  14056.0\n",
       "        2018-09             441.0         58.0      57.0  14569.0\n",
       "...                           ...          ...       ...      ...\n",
       "1498    2018-10             233.0         41.0      42.0  20580.0\n",
       "1499    2018-09              65.0          9.0      11.0   1846.0\n",
       "        2018-10             430.0         68.0      48.0  17789.0\n",
       "        2018-11             577.0         74.0      59.0  17964.0\n",
       "        2018-12             466.0         69.0      66.0  13056.0\n",
       "\n",
       "[3214 rows x 4 columns]"
      ]
     },
     "execution_count": 66,
     "metadata": {},
     "output_type": "execute_result"
    }
   ],
   "source": [
    "import numpy as np\n",
    "df[['minutes_month','traffic']] = np.ceil(df[['minutes_month','traffic']])\n",
    "df"
   ]
  },
  {
   "cell_type": "code",
   "execution_count": 67,
   "metadata": {},
   "outputs": [],
   "source": [
    "df = df.reset_index().merge(users[['user_id','tariff', 'city']], on = 'user_id', how = 'left')"
   ]
  },
  {
   "cell_type": "code",
   "execution_count": 68,
   "metadata": {},
   "outputs": [
    {
     "name": "stdout",
     "output_type": "stream",
     "text": [
      "<class 'pandas.core.frame.DataFrame'>\n",
      "Int64Index: 3214 entries, 0 to 3213\n",
      "Data columns (total 15 columns):\n",
      "user_id                  3214 non-null int64\n",
      "month_year               3214 non-null period[M]\n",
      "minutes_month            3174 non-null float64\n",
      "calls_month              3174 non-null float64\n",
      "messages                 2717 non-null float64\n",
      "traffic                  3203 non-null float64\n",
      "tariff                   3214 non-null object\n",
      "city                     3214 non-null object\n",
      "messages_included        3214 non-null int64\n",
      "mb_per_month_included    3214 non-null int64\n",
      "minutes_included         3214 non-null int64\n",
      "rub_monthly_fee          3214 non-null int64\n",
      "rub_per_gb               3214 non-null int64\n",
      "rub_per_message          3214 non-null int64\n",
      "rub_per_minute           3214 non-null int64\n",
      "dtypes: float64(4), int64(8), object(2), period[M](1)\n",
      "memory usage: 401.8+ KB\n"
     ]
    }
   ],
   "source": [
    "df = df.merge(tariffs, left_on = 'tariff', right_on = 'tariff_name', how = 'left').drop(columns = ['tariff_name'])\n",
    "df.info()"
   ]
  },
  {
   "cell_type": "markdown",
   "metadata": {},
   "source": [
    "В некоторых месяцах отсутствуют значения с сообщениями, звонками и интернет-трафиком, но поскольку в них что-то совершелось, значит тариф в этот месяц точно работал, но пользователь не воспользовался всеми услугами. Такие пропуски нужно заменить нулями."
   ]
  },
  {
   "cell_type": "code",
   "execution_count": 69,
   "metadata": {},
   "outputs": [
    {
     "name": "stdout",
     "output_type": "stream",
     "text": [
      "<class 'pandas.core.frame.DataFrame'>\n",
      "Int64Index: 3214 entries, 0 to 3213\n",
      "Data columns (total 15 columns):\n",
      "user_id                  3214 non-null int64\n",
      "month_year               3214 non-null period[M]\n",
      "minutes_month            3214 non-null int64\n",
      "calls_month              3214 non-null int64\n",
      "messages                 3214 non-null int64\n",
      "traffic                  3214 non-null int64\n",
      "tariff                   3214 non-null object\n",
      "city                     3214 non-null object\n",
      "messages_included        3214 non-null int64\n",
      "mb_per_month_included    3214 non-null int64\n",
      "minutes_included         3214 non-null int64\n",
      "rub_monthly_fee          3214 non-null int64\n",
      "rub_per_gb               3214 non-null int64\n",
      "rub_per_message          3214 non-null int64\n",
      "rub_per_minute           3214 non-null int64\n",
      "dtypes: int64(12), object(2), period[M](1)\n",
      "memory usage: 401.8+ KB\n"
     ]
    }
   ],
   "source": [
    "df = df.fillna({'traffic': 0, 'messages': 0, 'minutes_month': 0, 'calls_month': 0})\n",
    "df[['traffic','messages','minutes_month','calls_month']] = df[['traffic','messages','minutes_month','calls_month']].astype('int64')\n",
    "df.info()"
   ]
  },
  {
   "cell_type": "markdown",
   "metadata": {},
   "source": [
    "Для рассчётов выручки с пользователя треубется написать функцию. Из описания задания, а конкретно требования подсчитать активность пользователей по календарным месяцам, а не по скользящим, следует, что Мегалайн либо берёт плату за календарный месяц, либо делается допущение, что плата идёт за календарный месяц."
   ]
  },
  {
   "cell_type": "code",
   "execution_count": 70,
   "metadata": {},
   "outputs": [],
   "source": [
    "def set_price(row):\n",
    "    price = row.rub_monthly_fee\n",
    "    if row.minutes_included < row.minutes_month:\n",
    "        price += (row.minutes_month - row.minutes_included) * row.rub_per_minute\n",
    "    if row.messages_included < row.messages:\n",
    "        price += (row.messages - row.messages_included) * row.rub_per_message\n",
    "    if row.mb_per_month_included < row.traffic:\n",
    "        price += (row.traffic - row.mb_per_month_included) * row.rub_per_gb/1024\n",
    "                \n",
    "    return round(price, 2)\n",
    "\n",
    "\n",
    "df['profit'] = df.apply(lambda row: set_price(row), axis = 1)"
   ]
  },
  {
   "cell_type": "code",
   "execution_count": 71,
   "metadata": {},
   "outputs": [
    {
     "data": {
      "text/html": [
       "<div>\n",
       "<style scoped>\n",
       "    .dataframe tbody tr th:only-of-type {\n",
       "        vertical-align: middle;\n",
       "    }\n",
       "\n",
       "    .dataframe tbody tr th {\n",
       "        vertical-align: top;\n",
       "    }\n",
       "\n",
       "    .dataframe thead th {\n",
       "        text-align: right;\n",
       "    }\n",
       "</style>\n",
       "<table border=\"1\" class=\"dataframe\">\n",
       "  <thead>\n",
       "    <tr style=\"text-align: right;\">\n",
       "      <th></th>\n",
       "      <th>user_id</th>\n",
       "      <th>month_year</th>\n",
       "      <th>minutes_month</th>\n",
       "      <th>calls_month</th>\n",
       "      <th>messages</th>\n",
       "      <th>traffic</th>\n",
       "      <th>tariff</th>\n",
       "      <th>city</th>\n",
       "      <th>messages_included</th>\n",
       "      <th>mb_per_month_included</th>\n",
       "      <th>minutes_included</th>\n",
       "      <th>rub_monthly_fee</th>\n",
       "      <th>rub_per_gb</th>\n",
       "      <th>rub_per_message</th>\n",
       "      <th>rub_per_minute</th>\n",
       "      <th>profit</th>\n",
       "    </tr>\n",
       "  </thead>\n",
       "  <tbody>\n",
       "    <tr>\n",
       "      <td>0</td>\n",
       "      <td>1000</td>\n",
       "      <td>2018-05</td>\n",
       "      <td>151</td>\n",
       "      <td>22</td>\n",
       "      <td>22</td>\n",
       "      <td>2254</td>\n",
       "      <td>ultra</td>\n",
       "      <td>Краснодар</td>\n",
       "      <td>1000</td>\n",
       "      <td>30720</td>\n",
       "      <td>3000</td>\n",
       "      <td>1950</td>\n",
       "      <td>150</td>\n",
       "      <td>1</td>\n",
       "      <td>1</td>\n",
       "      <td>1950.00</td>\n",
       "    </tr>\n",
       "    <tr>\n",
       "      <td>1</td>\n",
       "      <td>1000</td>\n",
       "      <td>2018-06</td>\n",
       "      <td>159</td>\n",
       "      <td>43</td>\n",
       "      <td>60</td>\n",
       "      <td>23234</td>\n",
       "      <td>ultra</td>\n",
       "      <td>Краснодар</td>\n",
       "      <td>1000</td>\n",
       "      <td>30720</td>\n",
       "      <td>3000</td>\n",
       "      <td>1950</td>\n",
       "      <td>150</td>\n",
       "      <td>1</td>\n",
       "      <td>1</td>\n",
       "      <td>1950.00</td>\n",
       "    </tr>\n",
       "    <tr>\n",
       "      <td>2</td>\n",
       "      <td>1000</td>\n",
       "      <td>2018-07</td>\n",
       "      <td>319</td>\n",
       "      <td>47</td>\n",
       "      <td>75</td>\n",
       "      <td>14004</td>\n",
       "      <td>ultra</td>\n",
       "      <td>Краснодар</td>\n",
       "      <td>1000</td>\n",
       "      <td>30720</td>\n",
       "      <td>3000</td>\n",
       "      <td>1950</td>\n",
       "      <td>150</td>\n",
       "      <td>1</td>\n",
       "      <td>1</td>\n",
       "      <td>1950.00</td>\n",
       "    </tr>\n",
       "    <tr>\n",
       "      <td>3</td>\n",
       "      <td>1000</td>\n",
       "      <td>2018-08</td>\n",
       "      <td>390</td>\n",
       "      <td>52</td>\n",
       "      <td>81</td>\n",
       "      <td>14056</td>\n",
       "      <td>ultra</td>\n",
       "      <td>Краснодар</td>\n",
       "      <td>1000</td>\n",
       "      <td>30720</td>\n",
       "      <td>3000</td>\n",
       "      <td>1950</td>\n",
       "      <td>150</td>\n",
       "      <td>1</td>\n",
       "      <td>1</td>\n",
       "      <td>1950.00</td>\n",
       "    </tr>\n",
       "    <tr>\n",
       "      <td>4</td>\n",
       "      <td>1000</td>\n",
       "      <td>2018-09</td>\n",
       "      <td>441</td>\n",
       "      <td>58</td>\n",
       "      <td>57</td>\n",
       "      <td>14569</td>\n",
       "      <td>ultra</td>\n",
       "      <td>Краснодар</td>\n",
       "      <td>1000</td>\n",
       "      <td>30720</td>\n",
       "      <td>3000</td>\n",
       "      <td>1950</td>\n",
       "      <td>150</td>\n",
       "      <td>1</td>\n",
       "      <td>1</td>\n",
       "      <td>1950.00</td>\n",
       "    </tr>\n",
       "    <tr>\n",
       "      <td>...</td>\n",
       "      <td>...</td>\n",
       "      <td>...</td>\n",
       "      <td>...</td>\n",
       "      <td>...</td>\n",
       "      <td>...</td>\n",
       "      <td>...</td>\n",
       "      <td>...</td>\n",
       "      <td>...</td>\n",
       "      <td>...</td>\n",
       "      <td>...</td>\n",
       "      <td>...</td>\n",
       "      <td>...</td>\n",
       "      <td>...</td>\n",
       "      <td>...</td>\n",
       "      <td>...</td>\n",
       "      <td>...</td>\n",
       "    </tr>\n",
       "    <tr>\n",
       "      <td>3209</td>\n",
       "      <td>1498</td>\n",
       "      <td>2018-10</td>\n",
       "      <td>233</td>\n",
       "      <td>41</td>\n",
       "      <td>42</td>\n",
       "      <td>20580</td>\n",
       "      <td>smart</td>\n",
       "      <td>Владикавказ</td>\n",
       "      <td>50</td>\n",
       "      <td>15360</td>\n",
       "      <td>500</td>\n",
       "      <td>550</td>\n",
       "      <td>200</td>\n",
       "      <td>3</td>\n",
       "      <td>3</td>\n",
       "      <td>1569.53</td>\n",
       "    </tr>\n",
       "    <tr>\n",
       "      <td>3210</td>\n",
       "      <td>1499</td>\n",
       "      <td>2018-09</td>\n",
       "      <td>65</td>\n",
       "      <td>9</td>\n",
       "      <td>11</td>\n",
       "      <td>1846</td>\n",
       "      <td>smart</td>\n",
       "      <td>Пермь</td>\n",
       "      <td>50</td>\n",
       "      <td>15360</td>\n",
       "      <td>500</td>\n",
       "      <td>550</td>\n",
       "      <td>200</td>\n",
       "      <td>3</td>\n",
       "      <td>3</td>\n",
       "      <td>550.00</td>\n",
       "    </tr>\n",
       "    <tr>\n",
       "      <td>3211</td>\n",
       "      <td>1499</td>\n",
       "      <td>2018-10</td>\n",
       "      <td>430</td>\n",
       "      <td>68</td>\n",
       "      <td>48</td>\n",
       "      <td>17789</td>\n",
       "      <td>smart</td>\n",
       "      <td>Пермь</td>\n",
       "      <td>50</td>\n",
       "      <td>15360</td>\n",
       "      <td>500</td>\n",
       "      <td>550</td>\n",
       "      <td>200</td>\n",
       "      <td>3</td>\n",
       "      <td>3</td>\n",
       "      <td>1024.41</td>\n",
       "    </tr>\n",
       "    <tr>\n",
       "      <td>3212</td>\n",
       "      <td>1499</td>\n",
       "      <td>2018-11</td>\n",
       "      <td>577</td>\n",
       "      <td>74</td>\n",
       "      <td>59</td>\n",
       "      <td>17964</td>\n",
       "      <td>smart</td>\n",
       "      <td>Пермь</td>\n",
       "      <td>50</td>\n",
       "      <td>15360</td>\n",
       "      <td>500</td>\n",
       "      <td>550</td>\n",
       "      <td>200</td>\n",
       "      <td>3</td>\n",
       "      <td>3</td>\n",
       "      <td>1316.59</td>\n",
       "    </tr>\n",
       "    <tr>\n",
       "      <td>3213</td>\n",
       "      <td>1499</td>\n",
       "      <td>2018-12</td>\n",
       "      <td>466</td>\n",
       "      <td>69</td>\n",
       "      <td>66</td>\n",
       "      <td>13056</td>\n",
       "      <td>smart</td>\n",
       "      <td>Пермь</td>\n",
       "      <td>50</td>\n",
       "      <td>15360</td>\n",
       "      <td>500</td>\n",
       "      <td>550</td>\n",
       "      <td>200</td>\n",
       "      <td>3</td>\n",
       "      <td>3</td>\n",
       "      <td>598.00</td>\n",
       "    </tr>\n",
       "  </tbody>\n",
       "</table>\n",
       "<p>3214 rows × 16 columns</p>\n",
       "</div>"
      ],
      "text/plain": [
       "      user_id month_year  minutes_month  calls_month  messages  traffic  \\\n",
       "0        1000    2018-05            151           22        22     2254   \n",
       "1        1000    2018-06            159           43        60    23234   \n",
       "2        1000    2018-07            319           47        75    14004   \n",
       "3        1000    2018-08            390           52        81    14056   \n",
       "4        1000    2018-09            441           58        57    14569   \n",
       "...       ...        ...            ...          ...       ...      ...   \n",
       "3209     1498    2018-10            233           41        42    20580   \n",
       "3210     1499    2018-09             65            9        11     1846   \n",
       "3211     1499    2018-10            430           68        48    17789   \n",
       "3212     1499    2018-11            577           74        59    17964   \n",
       "3213     1499    2018-12            466           69        66    13056   \n",
       "\n",
       "     tariff         city  messages_included  mb_per_month_included  \\\n",
       "0     ultra    Краснодар               1000                  30720   \n",
       "1     ultra    Краснодар               1000                  30720   \n",
       "2     ultra    Краснодар               1000                  30720   \n",
       "3     ultra    Краснодар               1000                  30720   \n",
       "4     ultra    Краснодар               1000                  30720   \n",
       "...     ...          ...                ...                    ...   \n",
       "3209  smart  Владикавказ                 50                  15360   \n",
       "3210  smart        Пермь                 50                  15360   \n",
       "3211  smart        Пермь                 50                  15360   \n",
       "3212  smart        Пермь                 50                  15360   \n",
       "3213  smart        Пермь                 50                  15360   \n",
       "\n",
       "      minutes_included  rub_monthly_fee  rub_per_gb  rub_per_message  \\\n",
       "0                 3000             1950         150                1   \n",
       "1                 3000             1950         150                1   \n",
       "2                 3000             1950         150                1   \n",
       "3                 3000             1950         150                1   \n",
       "4                 3000             1950         150                1   \n",
       "...                ...              ...         ...              ...   \n",
       "3209               500              550         200                3   \n",
       "3210               500              550         200                3   \n",
       "3211               500              550         200                3   \n",
       "3212               500              550         200                3   \n",
       "3213               500              550         200                3   \n",
       "\n",
       "      rub_per_minute   profit  \n",
       "0                  1  1950.00  \n",
       "1                  1  1950.00  \n",
       "2                  1  1950.00  \n",
       "3                  1  1950.00  \n",
       "4                  1  1950.00  \n",
       "...              ...      ...  \n",
       "3209               3  1569.53  \n",
       "3210               3   550.00  \n",
       "3211               3  1024.41  \n",
       "3212               3  1316.59  \n",
       "3213               3   598.00  \n",
       "\n",
       "[3214 rows x 16 columns]"
      ]
     },
     "execution_count": 71,
     "metadata": {},
     "output_type": "execute_result"
    }
   ],
   "source": [
    "df"
   ]
  },
  {
   "cell_type": "markdown",
   "metadata": {},
   "source": [
    "Предобработка завершена"
   ]
  },
  {
   "cell_type": "markdown",
   "metadata": {},
   "source": [
    "## Анализ данных"
   ]
  },
  {
   "cell_type": "markdown",
   "metadata": {},
   "source": [
    "Рассмотрим средние показания всех пользователей трарифов по месяцам:"
   ]
  },
  {
   "cell_type": "code",
   "execution_count": 72,
   "metadata": {},
   "outputs": [
    {
     "data": {
      "text/html": [
       "<div>\n",
       "<style scoped>\n",
       "    .dataframe tbody tr th:only-of-type {\n",
       "        vertical-align: middle;\n",
       "    }\n",
       "\n",
       "    .dataframe tbody tr th {\n",
       "        vertical-align: top;\n",
       "    }\n",
       "\n",
       "    .dataframe thead th {\n",
       "        text-align: right;\n",
       "    }\n",
       "</style>\n",
       "<table border=\"1\" class=\"dataframe\">\n",
       "  <thead>\n",
       "    <tr style=\"text-align: right;\">\n",
       "      <th></th>\n",
       "      <th>traffic</th>\n",
       "      <th>messages</th>\n",
       "      <th>minutes_month</th>\n",
       "    </tr>\n",
       "    <tr>\n",
       "      <th>tariff</th>\n",
       "      <th></th>\n",
       "      <th></th>\n",
       "      <th></th>\n",
       "    </tr>\n",
       "  </thead>\n",
       "  <tbody>\n",
       "    <tr>\n",
       "      <td>smart</td>\n",
       "      <td>16208.873486</td>\n",
       "      <td>33.384029</td>\n",
       "      <td>394.922387</td>\n",
       "    </tr>\n",
       "    <tr>\n",
       "      <td>ultra</td>\n",
       "      <td>19469.308629</td>\n",
       "      <td>49.363452</td>\n",
       "      <td>497.547208</td>\n",
       "    </tr>\n",
       "  </tbody>\n",
       "</table>\n",
       "</div>"
      ],
      "text/plain": [
       "             traffic   messages  minutes_month\n",
       "tariff                                        \n",
       "smart   16208.873486  33.384029     394.922387\n",
       "ultra   19469.308629  49.363452     497.547208"
      ]
     },
     "execution_count": 72,
     "metadata": {},
     "output_type": "execute_result"
    }
   ],
   "source": [
    "df.groupby('tariff')[['traffic','messages','minutes_month']].mean()"
   ]
  },
  {
   "cell_type": "markdown",
   "metadata": {},
   "source": [
    "Пользователи тарифа в средннем \"Ультра\" тратят на одну треть больше минут, на половину сообщений, но потребляют всего лишь на 20% больше интернет-траффика, причём до включенных в тариф лимитов далеко по всем показателям.\n",
    "В Тарифе \"Смарт\" в среднем идёт перерасход интернет-траффика."
   ]
  },
  {
   "cell_type": "code",
   "execution_count": 73,
   "metadata": {},
   "outputs": [
    {
     "name": "stdout",
     "output_type": "stream",
     "text": [
      "smart traffic cтандартное отклонение: 5869.16534176946\n",
      "smart traffic дисперсия: 34447101.80902782\n",
      "ultra traffic cтандартное отклонение: 10082.076020917017\n",
      "ultra traffic дисперсия: 101648256.8915499\n"
     ]
    },
    {
     "data": {
      "image/png": "[encoded data removed]",
      "text/plain": [
       "<Figure size 432x288 with 1 Axes>"
      ]
     },
     "metadata": {
      "needs_background": "light"
     },
     "output_type": "display_data"
    },
    {
     "name": "stdout",
     "output_type": "stream",
     "text": [
      "smart messages cтандартное отклонение: 28.221542886898938\n",
      "smart messages дисперсия: 796.455482917076\n",
      "ultra messages cтандартное отклонение: 47.78018496610161\n",
      "ultra messages дисперсия: 2282.9460753948824\n"
     ]
    },
    {
     "data": {
      "image/png": "[encoded data removed]",
      "text/plain": [
       "<Figure size 432x288 with 1 Axes>"
      ]
     },
     "metadata": {
      "needs_background": "light"
     },
     "output_type": "display_data"
    },
    {
     "name": "stdout",
     "output_type": "stream",
     "text": [
      "smart minutes_month cтандартное отклонение: 179.93991516598774\n",
      "smart minutes_month дисперсия: 32378.373069942867\n",
      "ultra minutes_month cтандартное отклонение: 299.77723718426284\n",
      "ultra minutes_month дисперсия: 89866.39193382979\n"
     ]
    },
    {
     "data": {
      "image/png": "[encoded data removed]",
      "text/plain": [
       "<Figure size 432x288 with 1 Axes>"
      ]
     },
     "metadata": {
      "needs_background": "light"
     },
     "output_type": "display_data"
    }
   ],
   "source": [
    "import matplotlib.pyplot as plt\n",
    "tariff_list = ['smart','ultra']\n",
    "items = ['traffic','messages','minutes_month']\n",
    "\n",
    "        \n",
    "for item in items:\n",
    "    for tariff in tariff_list:\n",
    "        df[df['tariff'] == tariff][item].plot(kind='hist',title=item, alpha = 0.2, label=tariff,legend=True, bins = 20)\n",
    "        print(tariff, item,'cтандартное отклонение:', np.std(df[df['tariff'] == tariff][item]))\n",
    "        print(tariff, item,'дисперсия:', np.var(df[df['tariff'] == tariff][item]))\n",
    "        \n",
    "        \n",
    "        \n",
    "    plt.show()"
   ]
  },
  {
   "cell_type": "markdown",
   "metadata": {},
   "source": [
    "Распределения потраченных минут и интернет-траффика больше всего похожи на биномиальное, сообщений - геометрическое, потому что сервис потерял популярность из-за интернет-мессенджеров. Пользователи обоих тарифов стараются сильно не привышать лимит в по звонками и траффику, при этом распределения у пользователей \"Ультра\" куда более рванное, скорее всего, полотму что пользователи меньше следят за минутами и мегабайтами."
   ]
  },
  {
   "cell_type": "markdown",
   "metadata": {},
   "source": [
    "## Проверка гипотез"
   ]
  },
  {
   "cell_type": "markdown",
   "metadata": {},
   "source": [
    "### Cредняя выручка с пользователей тарифов «Ультра» и «Смарт» различаются"
   ]
  },
  {
   "cell_type": "markdown",
   "metadata": {},
   "source": [
    "Посмотрим, как отличаются графики распределения выручек."
   ]
  },
  {
   "cell_type": "code",
   "execution_count": 74,
   "metadata": {},
   "outputs": [
    {
     "name": "stdout",
     "output_type": "stream",
     "text": [
      "smart\n",
      "count    2229.000000\n",
      "mean     1198.113356\n",
      "std       767.843846\n",
      "min       550.000000\n",
      "25%       550.000000\n",
      "50%       925.590000\n",
      "75%      1603.200000\n",
      "max      6543.880000\n",
      "Name: profit, dtype: float64\n",
      "\n",
      "ultra\n",
      "count     985.000000\n",
      "mean     2059.879614\n",
      "std       354.901015\n",
      "min      1950.000000\n",
      "25%      1950.000000\n",
      "50%      1950.000000\n",
      "75%      1950.000000\n",
      "max      4737.010000\n",
      "Name: profit, dtype: float64\n",
      "\n"
     ]
    },
    {
     "data": {
      "image/png": "[encoded data removed]",
      "text/plain": [
       "<Figure size 432x288 with 1 Axes>"
      ]
     },
     "metadata": {
      "needs_background": "light"
     },
     "output_type": "display_data"
    }
   ],
   "source": [
    "for tariff in tariff_list:\n",
    "        df[df['tariff'] == tariff]['profit'].plot(kind='hist',title='выручка', alpha = 0.5, label=tariff,legend=True, bins = 20)\n",
    "        print(tariff)\n",
    "        print(df[df['tariff'] == tariff]['profit'].describe())\n",
    "        print()"
   ]
  },
  {
   "cell_type": "markdown",
   "metadata": {},
   "source": [
    "Подавляющее большнинство пользователей \"Ультра\" вообще не выходят за пределы предустановленног тарифа. Отличия в выручке видны невооруженным глазом."
   ]
  },
  {
   "cell_type": "markdown",
   "metadata": {},
   "source": [
    "Нулевая гипотеза: \"средняя выручка пользователей тарифов «Ультра» и «Смарт» не различается\". Если нулевая гипотеза будет опровергнута, то противоположный тезис подтвердится. Требуется двусторонний тест, поскольку выручка может быть как больше, так и меньше."
   ]
  },
  {
   "cell_type": "code",
   "execution_count": 75,
   "metadata": {},
   "outputs": [
    {
     "name": "stdout",
     "output_type": "stream",
     "text": [
      "p-значение: 4.198314684235501e-213\n",
      "Отвергаем нулевую гипотезу\n"
     ]
    }
   ],
   "source": [
    "from scipy import stats as st\n",
    "results = st.ttest_ind(df[df['tariff'] == 'smart']['profit'], df[df['tariff'] == 'ultra']['profit'])\n",
    "\n",
    "alpha = 0.05\n",
    "\n",
    "print('p-значение:', results.pvalue)\n",
    "\n",
    "if results.pvalue < alpha:\n",
    "    print('Отвергаем нулевую гипотезу')\n",
    "else:\n",
    "    print('Не получилось отвергнуть нулевую гипотезу') "
   ]
  },
  {
   "cell_type": "markdown",
   "metadata": {},
   "source": [
    "Нулевая гипотеза отвержена, следовательно обратное утверждение верно. Средние выручки различаются."
   ]
  },
  {
   "cell_type": "markdown",
   "metadata": {},
   "source": [
    "### Cредняя выручка c пользователей из Москвы отличается от выручки c пользователей из других регионов."
   ]
  },
  {
   "cell_type": "code",
   "execution_count": 76,
   "metadata": {},
   "outputs": [
    {
     "name": "stdout",
     "output_type": "stream",
     "text": [
      "Москва\n",
      "count     611.000000\n",
      "mean     1485.405597\n",
      "std       737.633349\n",
      "min       550.000000\n",
      "25%       698.820000\n",
      "50%      1638.250000\n",
      "75%      1950.000000\n",
      "max      5043.230000\n",
      "Name: profit, dtype: float64\n",
      "\n",
      "другие регионы\n",
      "count    3214.000000\n",
      "mean     1462.220314\n",
      "std       778.014497\n",
      "min       550.000000\n",
      "25%       658.000000\n",
      "50%      1515.095000\n",
      "75%      1950.000000\n",
      "max      6543.880000\n",
      "Name: profit, dtype: float64\n",
      "\n"
     ]
    },
    {
     "data": {
      "image/png": "[encoded data removed]",
      "text/plain": [
       "<Figure size 432x288 with 1 Axes>"
      ]
     },
     "metadata": {
      "needs_background": "light"
     },
     "output_type": "display_data"
    }
   ],
   "source": [
    "df[df['city'] == 'Москва']['profit'].plot(kind='hist',title='выручка', alpha = 0.2, label='Москва',legend=True, bins = 20)\n",
    "print('Москва')\n",
    "print(df[df['city'] == 'Москва']['profit'].describe())\n",
    "print()\n",
    "#plt.show()\n",
    "df[df['city'] != 'Москва']['profit'].plot(kind='hist',title='выручка', alpha = 0.2, label='другие регионы',legend=True, bins = 20)\n",
    "print('другие регионы')\n",
    "print(df[df['tariff'] != 'Москва']['profit'].describe())\n",
    "print()"
   ]
  },
  {
   "cell_type": "markdown",
   "metadata": {},
   "source": [
    "Распределения выглядит весьма схожими. Так же проверим гипотезу от обратного."
   ]
  },
  {
   "cell_type": "code",
   "execution_count": 77,
   "metadata": {},
   "outputs": [
    {
     "name": "stdout",
     "output_type": "stream",
     "text": [
      "p-значение: 0.41314302417849347\n",
      "Не получилось отвергнуть нулевую гипотезу\n"
     ]
    }
   ],
   "source": [
    "results = st.ttest_ind(df[df['city'] == 'Москва']['profit'], df[df['city'] != 'Москва']['profit'])\n",
    "\n",
    "print('p-значение:', results.pvalue)\n",
    "\n",
    "if results.pvalue < alpha:\n",
    "    print('Отвергаем нулевую гипотезу')\n",
    "else:\n",
    "    print('Не получилось отвергнуть нулевую гипотезу') "
   ]
  },
  {
   "cell_type": "markdown",
   "metadata": {},
   "source": [
    "Различие между средними выручками не является значимым, то есть выручки с пользователей из Москвы и других регионов не отличаются."
   ]
  },
  {
   "cell_type": "markdown",
   "metadata": {},
   "source": [
    "## Вывод\n",
    "Наиболее точными результаты можно считать, если оператор на самом деле тарифицирует клиентов по календарным месяцам, в противном случае будет иметь место ошибка, вероятно, малозначимая из-за продолжительности пользования тарифами, поскольку статистика считалась для календарного месяца. Большая часть пользователей не выходит за лимиты своего тарифа, особенно это касается тарифа \"Ультра\", значительная часть пользователей которого даже не успевает использовать лимиты \"Смарт\", не говоря уже об \"Ултра\", при этом платят в среднем в два раза больше. Значительных отличий выручек с пользователей из Москвы и регионов не выявлено. Для \"Мегалайн\" тариф \"Ульта\" однозначно выгоднее."
   ]
  }
 ],
 "metadata": {
  "ExecuteTimeLog": [
   {
    "duration": 48,
    "start_time": "2021-12-23T17:10:57.746Z"
   },
   {
    "duration": 4921,
    "start_time": "2021-12-23T17:30:13.736Z"
   },
   {
    "duration": 129,
    "start_time": "2021-12-23T17:30:34.688Z"
   },
   {
    "duration": 5159,
    "start_time": "2021-12-23T17:30:40.812Z"
   },
   {
    "duration": 2218,
    "start_time": "2021-12-23T17:31:17.239Z"
   },
   {
    "duration": 947,
    "start_time": "2021-12-23T17:41:58.221Z"
   },
   {
    "duration": 4115,
    "start_time": "2021-12-23T17:42:23.429Z"
   },
   {
    "duration": 7,
    "start_time": "2021-12-23T17:42:27.540Z"
   },
   {
    "duration": 576,
    "start_time": "2021-12-23T17:44:59.028Z"
   },
   {
    "duration": 23,
    "start_time": "2021-12-23T17:45:08.963Z"
   },
   {
    "duration": 103,
    "start_time": "2021-12-23T17:47:50.381Z"
   },
   {
    "duration": 1213,
    "start_time": "2021-12-23T17:56:58.273Z"
   },
   {
    "duration": 27,
    "start_time": "2021-12-23T17:57:11.151Z"
   },
   {
    "duration": 409,
    "start_time": "2021-12-23T17:57:28.982Z"
   },
   {
    "duration": 25,
    "start_time": "2021-12-23T17:58:18.231Z"
   },
   {
    "duration": 404,
    "start_time": "2021-12-23T17:58:24.679Z"
   },
   {
    "duration": 1909,
    "start_time": "2021-12-23T18:29:50.275Z"
   },
   {
    "duration": 741,
    "start_time": "2021-12-23T18:30:22.044Z"
   },
   {
    "duration": 9,
    "start_time": "2021-12-23T18:31:55.518Z"
   },
   {
    "duration": 629,
    "start_time": "2021-12-23T18:31:55.530Z"
   },
   {
    "duration": 140,
    "start_time": "2021-12-23T18:31:56.163Z"
   },
   {
    "duration": 11,
    "start_time": "2021-12-23T18:31:56.306Z"
   },
   {
    "duration": 340,
    "start_time": "2021-12-23T18:32:02.230Z"
   },
   {
    "duration": 8,
    "start_time": "2021-12-23T18:32:32.582Z"
   },
   {
    "duration": 6,
    "start_time": "2021-12-23T18:37:26.868Z"
   },
   {
    "duration": -31,
    "start_time": "2021-12-23T18:37:58.615Z"
   },
   {
    "duration": 27,
    "start_time": "2021-12-23T18:38:07.920Z"
   },
   {
    "duration": 38,
    "start_time": "2021-12-23T18:39:00.953Z"
   },
   {
    "duration": 14,
    "start_time": "2021-12-23T18:40:18.257Z"
   },
   {
    "duration": 10451,
    "start_time": "2021-12-23T18:40:46.497Z"
   },
   {
    "duration": 7,
    "start_time": "2021-12-23T18:41:09.081Z"
   },
   {
    "duration": 4,
    "start_time": "2021-12-23T18:42:39.185Z"
   },
   {
    "duration": 12313,
    "start_time": "2021-12-23T18:42:42.297Z"
   },
   {
    "duration": 8,
    "start_time": "2021-12-23T18:43:02.417Z"
   },
   {
    "duration": 5,
    "start_time": "2021-12-23T18:44:26.706Z"
   },
   {
    "duration": 10319,
    "start_time": "2021-12-23T18:44:29.642Z"
   },
   {
    "duration": 12,
    "start_time": "2021-12-23T18:44:50.772Z"
   },
   {
    "duration": 4,
    "start_time": "2021-12-23T18:45:09.281Z"
   },
   {
    "duration": 18921,
    "start_time": "2021-12-23T18:45:20.531Z"
   },
   {
    "duration": 496,
    "start_time": "2021-12-23T18:48:40.075Z"
   },
   {
    "duration": 9,
    "start_time": "2021-12-23T18:50:40.020Z"
   },
   {
    "duration": 23,
    "start_time": "2021-12-23T18:51:01.197Z"
   },
   {
    "duration": 8,
    "start_time": "2021-12-23T18:51:24.788Z"
   },
   {
    "duration": 29,
    "start_time": "2021-12-23T18:51:26.821Z"
   },
   {
    "duration": 127,
    "start_time": "2021-12-23T18:55:30.814Z"
   },
   {
    "duration": 22,
    "start_time": "2021-12-23T18:57:01.199Z"
   },
   {
    "duration": 37,
    "start_time": "2021-12-23T18:57:04.723Z"
   },
   {
    "duration": 23,
    "start_time": "2021-12-24T11:32:52.242Z"
   },
   {
    "duration": 943,
    "start_time": "2021-12-24T11:32:52.267Z"
   },
   {
    "duration": 68,
    "start_time": "2021-12-24T11:32:53.212Z"
   },
   {
    "duration": 7,
    "start_time": "2021-12-24T11:32:53.282Z"
   },
   {
    "duration": 162,
    "start_time": "2021-12-24T11:32:53.291Z"
   },
   {
    "duration": 14,
    "start_time": "2021-12-24T11:32:53.455Z"
   },
   {
    "duration": 6638,
    "start_time": "2021-12-24T11:32:53.471Z"
   },
   {
    "duration": 407,
    "start_time": "2021-12-24T11:46:25.993Z"
   },
   {
    "duration": 7,
    "start_time": "2021-12-24T11:46:28.202Z"
   },
   {
    "duration": 408,
    "start_time": "2021-12-24T11:46:28.211Z"
   },
   {
    "duration": 68,
    "start_time": "2021-12-24T11:46:28.621Z"
   },
   {
    "duration": 8,
    "start_time": "2021-12-24T11:46:28.690Z"
   },
   {
    "duration": 171,
    "start_time": "2021-12-24T11:46:28.699Z"
   },
   {
    "duration": 13,
    "start_time": "2021-12-24T11:46:28.871Z"
   },
   {
    "duration": 8,
    "start_time": "2021-12-24T11:47:32.442Z"
   },
   {
    "duration": 418,
    "start_time": "2021-12-24T11:47:32.451Z"
   },
   {
    "duration": 72,
    "start_time": "2021-12-24T11:47:32.872Z"
   },
   {
    "duration": 9,
    "start_time": "2021-12-24T11:47:32.946Z"
   },
   {
    "duration": 166,
    "start_time": "2021-12-24T11:47:32.958Z"
   },
   {
    "duration": 24,
    "start_time": "2021-12-24T11:47:33.125Z"
   },
   {
    "duration": 87,
    "start_time": "2021-12-24T11:49:22.369Z"
   },
   {
    "duration": 5,
    "start_time": "2021-12-24T11:49:54.777Z"
   },
   {
    "duration": 391,
    "start_time": "2021-12-24T11:49:54.784Z"
   },
   {
    "duration": 79,
    "start_time": "2021-12-24T11:49:55.178Z"
   },
   {
    "duration": 8,
    "start_time": "2021-12-24T11:49:55.259Z"
   },
   {
    "duration": 152,
    "start_time": "2021-12-24T11:49:55.269Z"
   },
   {
    "duration": 29,
    "start_time": "2021-12-24T11:49:55.423Z"
   },
   {
    "duration": 81,
    "start_time": "2021-12-24T11:49:55.454Z"
   },
   {
    "duration": 317,
    "start_time": "2021-12-24T12:48:01.132Z"
   },
   {
    "duration": 55,
    "start_time": "2021-12-24T13:03:25.000Z"
   },
   {
    "duration": 364,
    "start_time": "2021-12-24T13:03:43.560Z"
   },
   {
    "duration": 5,
    "start_time": "2021-12-24T13:04:13.791Z"
   },
   {
    "duration": 23,
    "start_time": "2021-12-24T13:04:27.758Z"
   },
   {
    "duration": 94,
    "start_time": "2021-12-24T13:11:15.010Z"
   },
   {
    "duration": 58,
    "start_time": "2021-12-24T13:11:34.395Z"
   },
   {
    "duration": 256,
    "start_time": "2021-12-24T13:11:45.930Z"
   },
   {
    "duration": 349,
    "start_time": "2021-12-24T13:12:02.483Z"
   },
   {
    "duration": 5,
    "start_time": "2021-12-24T13:12:12.562Z"
   },
   {
    "duration": 6,
    "start_time": "2021-12-24T13:14:32.284Z"
   },
   {
    "duration": 5,
    "start_time": "2021-12-24T13:15:59.971Z"
   },
   {
    "duration": 273,
    "start_time": "2021-12-24T13:16:02.054Z"
   },
   {
    "duration": 54,
    "start_time": "2021-12-24T13:21:25.413Z"
   },
   {
    "duration": 7,
    "start_time": "2021-12-24T13:21:28.482Z"
   },
   {
    "duration": 263,
    "start_time": "2021-12-24T13:21:40.629Z"
   },
   {
    "duration": 208,
    "start_time": "2021-12-24T13:39:30.300Z"
   },
   {
    "duration": 62,
    "start_time": "2021-12-24T13:39:38.300Z"
   },
   {
    "duration": 23,
    "start_time": "2021-12-24T13:40:09.356Z"
   },
   {
    "duration": 6998,
    "start_time": "2021-12-24T14:06:10.308Z"
   },
   {
    "duration": 7,
    "start_time": "2021-12-24T14:07:00.365Z"
   },
   {
    "duration": 438,
    "start_time": "2021-12-24T14:07:00.373Z"
   },
   {
    "duration": 74,
    "start_time": "2021-12-24T14:07:00.814Z"
   },
   {
    "duration": 9,
    "start_time": "2021-12-24T14:07:00.890Z"
   },
   {
    "duration": 178,
    "start_time": "2021-12-24T14:07:00.901Z"
   },
   {
    "duration": 13,
    "start_time": "2021-12-24T14:07:01.081Z"
   },
   {
    "duration": 71,
    "start_time": "2021-12-24T14:07:01.096Z"
   },
   {
    "duration": 89,
    "start_time": "2021-12-24T14:07:01.170Z"
   },
   {
    "duration": 6932,
    "start_time": "2021-12-24T14:07:52.754Z"
   },
   {
    "duration": 52,
    "start_time": "2021-12-24T14:08:27.636Z"
   },
   {
    "duration": 26,
    "start_time": "2021-12-24T14:31:02.293Z"
   },
   {
    "duration": 9,
    "start_time": "2021-12-24T14:31:07.227Z"
   },
   {
    "duration": 600,
    "start_time": "2021-12-24T14:33:29.054Z"
   },
   {
    "duration": 28,
    "start_time": "2021-12-24T14:33:42.100Z"
   },
   {
    "duration": 16,
    "start_time": "2021-12-24T14:33:44.764Z"
   },
   {
    "duration": 4,
    "start_time": "2021-12-24T14:36:20.197Z"
   },
   {
    "duration": 16,
    "start_time": "2021-12-24T14:37:16.421Z"
   },
   {
    "duration": 4,
    "start_time": "2021-12-24T14:37:17.893Z"
   },
   {
    "duration": 5,
    "start_time": "2021-12-24T14:38:46.461Z"
   },
   {
    "duration": 13,
    "start_time": "2021-12-24T14:38:59.381Z"
   },
   {
    "duration": 251,
    "start_time": "2021-12-24T14:48:37.154Z"
   },
   {
    "duration": 17,
    "start_time": "2021-12-24T14:48:47.728Z"
   },
   {
    "duration": 251,
    "start_time": "2021-12-24T14:49:05.864Z"
   },
   {
    "duration": 13,
    "start_time": "2021-12-24T14:49:33.177Z"
   },
   {
    "duration": 18,
    "start_time": "2021-12-24T14:51:07.673Z"
   },
   {
    "duration": 19,
    "start_time": "2021-12-24T14:51:11.576Z"
   },
   {
    "duration": 13,
    "start_time": "2021-12-24T14:51:27.233Z"
   },
   {
    "duration": 13,
    "start_time": "2021-12-24T14:51:49.255Z"
   },
   {
    "duration": 20,
    "start_time": "2021-12-24T14:51:58.256Z"
   },
   {
    "duration": 11,
    "start_time": "2021-12-24T14:52:11.304Z"
   },
   {
    "duration": 721,
    "start_time": "2021-12-24T14:53:43.170Z"
   },
   {
    "duration": 58,
    "start_time": "2021-12-24T14:54:00.609Z"
   },
   {
    "duration": 250,
    "start_time": "2021-12-24T14:54:03.155Z"
   },
   {
    "duration": 170,
    "start_time": "2021-12-24T14:55:21.811Z"
   },
   {
    "duration": 268,
    "start_time": "2021-12-24T14:55:58.003Z"
   },
   {
    "duration": 248,
    "start_time": "2021-12-24T14:56:23.083Z"
   },
   {
    "duration": 15,
    "start_time": "2021-12-24T14:56:42.315Z"
   },
   {
    "duration": 11,
    "start_time": "2021-12-24T14:57:25.363Z"
   },
   {
    "duration": 17,
    "start_time": "2021-12-24T14:58:07.283Z"
   },
   {
    "duration": 10,
    "start_time": "2021-12-24T14:58:07.659Z"
   },
   {
    "duration": 17,
    "start_time": "2021-12-24T14:58:08.027Z"
   },
   {
    "duration": 53,
    "start_time": "2021-12-24T15:10:06.990Z"
   },
   {
    "duration": 437,
    "start_time": "2021-12-24T15:10:08.154Z"
   },
   {
    "duration": 10,
    "start_time": "2021-12-24T15:10:08.605Z"
   },
   {
    "duration": 14,
    "start_time": "2021-12-24T15:10:10.238Z"
   },
   {
    "duration": 17,
    "start_time": "2021-12-24T15:10:25.455Z"
   },
   {
    "duration": 15,
    "start_time": "2021-12-24T15:39:58.070Z"
   },
   {
    "duration": 10,
    "start_time": "2021-12-24T15:39:58.534Z"
   },
   {
    "duration": 10,
    "start_time": "2021-12-24T15:39:58.954Z"
   },
   {
    "duration": 22,
    "start_time": "2021-12-24T15:41:40.830Z"
   },
   {
    "duration": 14,
    "start_time": "2021-12-24T15:41:42.190Z"
   },
   {
    "duration": 18,
    "start_time": "2021-12-24T15:41:49.527Z"
   },
   {
    "duration": 17,
    "start_time": "2021-12-24T15:42:22.016Z"
   },
   {
    "duration": 441,
    "start_time": "2021-12-24T15:42:35.466Z"
   },
   {
    "duration": 20,
    "start_time": "2021-12-24T15:42:57.296Z"
   },
   {
    "duration": 11,
    "start_time": "2021-12-24T15:43:25.399Z"
   },
   {
    "duration": 13,
    "start_time": "2021-12-24T15:43:41.356Z"
   },
   {
    "duration": 19,
    "start_time": "2021-12-24T15:43:58.807Z"
   },
   {
    "duration": 18,
    "start_time": "2021-12-24T15:49:58.833Z"
   },
   {
    "duration": 11,
    "start_time": "2021-12-24T15:50:44.178Z"
   },
   {
    "duration": 15,
    "start_time": "2021-12-24T15:51:18.178Z"
   },
   {
    "duration": 22,
    "start_time": "2021-12-24T15:51:37.499Z"
   },
   {
    "duration": 20,
    "start_time": "2021-12-24T16:07:38.841Z"
   },
   {
    "duration": 8358,
    "start_time": "2021-12-24T16:09:59.328Z"
   },
   {
    "duration": 8308,
    "start_time": "2021-12-24T16:10:12.761Z"
   },
   {
    "duration": 21,
    "start_time": "2021-12-24T16:10:47.034Z"
   },
   {
    "duration": 9329,
    "start_time": "2021-12-24T16:11:09.350Z"
   },
   {
    "duration": 26,
    "start_time": "2021-12-24T16:11:29.329Z"
   },
   {
    "duration": 16,
    "start_time": "2021-12-24T16:17:43.803Z"
   },
   {
    "duration": 88,
    "start_time": "2021-12-24T16:19:37.708Z"
   },
   {
    "duration": 72,
    "start_time": "2021-12-24T16:19:51.835Z"
   },
   {
    "duration": 16,
    "start_time": "2021-12-24T16:23:16.118Z"
   },
   {
    "duration": 244,
    "start_time": "2021-12-24T16:25:21.584Z"
   },
   {
    "duration": 6,
    "start_time": "2021-12-24T16:25:43.999Z"
   },
   {
    "duration": 265,
    "start_time": "2021-12-24T16:26:00.886Z"
   },
   {
    "duration": 59,
    "start_time": "2021-12-24T16:27:01.680Z"
   },
   {
    "duration": 18,
    "start_time": "2021-12-24T16:27:09.992Z"
   },
   {
    "duration": 73,
    "start_time": "2021-12-24T16:27:15.159Z"
   },
   {
    "duration": 19,
    "start_time": "2021-12-24T16:28:04.791Z"
   },
   {
    "duration": 17,
    "start_time": "2021-12-24T16:31:52.671Z"
   },
   {
    "duration": 12,
    "start_time": "2021-12-24T16:32:30.754Z"
   },
   {
    "duration": 16,
    "start_time": "2021-12-24T16:33:34.321Z"
   },
   {
    "duration": 19,
    "start_time": "2021-12-24T16:34:02.441Z"
   },
   {
    "duration": 5,
    "start_time": "2021-12-24T16:34:30.160Z"
   },
   {
    "duration": 6268,
    "start_time": "2021-12-24T16:35:20.801Z"
   },
   {
    "duration": 6504,
    "start_time": "2021-12-24T16:35:48.666Z"
   },
   {
    "duration": 6937,
    "start_time": "2021-12-24T16:36:08.665Z"
   },
   {
    "duration": 6407,
    "start_time": "2021-12-24T16:42:51.723Z"
   },
   {
    "duration": 20,
    "start_time": "2021-12-24T16:43:02.645Z"
   },
   {
    "duration": 269,
    "start_time": "2021-12-24T16:43:05.835Z"
   },
   {
    "duration": 13,
    "start_time": "2021-12-24T16:43:15.854Z"
   },
   {
    "duration": 11,
    "start_time": "2021-12-24T16:44:48.671Z"
   },
   {
    "duration": 7119,
    "start_time": "2021-12-24T16:45:39.408Z"
   },
   {
    "duration": 9,
    "start_time": "2021-12-24T16:45:46.520Z"
   },
   {
    "duration": 15,
    "start_time": "2021-12-24T16:46:00.371Z"
   },
   {
    "duration": 11,
    "start_time": "2021-12-24T16:46:11.185Z"
   },
   {
    "duration": 20,
    "start_time": "2021-12-24T16:46:15.184Z"
   },
   {
    "duration": 398,
    "start_time": "2021-12-24T16:48:28.114Z"
   },
   {
    "duration": 6,
    "start_time": "2021-12-24T16:48:53.217Z"
   },
   {
    "duration": 5,
    "start_time": "2021-12-24T16:49:46.162Z"
   },
   {
    "duration": 7,
    "start_time": "2021-12-24T16:49:51.162Z"
   },
   {
    "duration": 7,
    "start_time": "2021-12-24T16:50:30.715Z"
   },
   {
    "duration": 254,
    "start_time": "2021-12-24T16:51:50.698Z"
   },
   {
    "duration": 108,
    "start_time": "2021-12-24T16:52:12.610Z"
   },
   {
    "duration": 87,
    "start_time": "2021-12-24T16:52:33.010Z"
   },
   {
    "duration": 88,
    "start_time": "2021-12-24T16:52:44.515Z"
   },
   {
    "duration": 244,
    "start_time": "2021-12-24T16:52:52.556Z"
   },
   {
    "duration": 6,
    "start_time": "2021-12-24T16:53:05.995Z"
   },
   {
    "duration": 6782,
    "start_time": "2021-12-24T16:58:31.324Z"
   },
   {
    "duration": 30,
    "start_time": "2021-12-24T16:58:38.078Z"
   },
   {
    "duration": 6707,
    "start_time": "2021-12-24T16:59:09.181Z"
   },
   {
    "duration": 20,
    "start_time": "2021-12-24T16:59:18.742Z"
   },
   {
    "duration": 23,
    "start_time": "2021-12-24T16:59:22.237Z"
   },
   {
    "duration": 16,
    "start_time": "2021-12-24T16:59:25.454Z"
   },
   {
    "duration": 19,
    "start_time": "2021-12-24T17:01:53.527Z"
   },
   {
    "duration": 29,
    "start_time": "2021-12-24T17:01:57.829Z"
   },
   {
    "duration": 12,
    "start_time": "2021-12-24T17:03:26.654Z"
   },
   {
    "duration": 18,
    "start_time": "2021-12-24T17:26:20.970Z"
   },
   {
    "duration": 15,
    "start_time": "2021-12-24T17:47:10.963Z"
   },
   {
    "duration": 308,
    "start_time": "2021-12-24T17:57:14.754Z"
   },
   {
    "duration": 19,
    "start_time": "2021-12-24T17:57:35.509Z"
   },
   {
    "duration": 19,
    "start_time": "2021-12-24T17:58:03.757Z"
   },
   {
    "duration": 9,
    "start_time": "2021-12-24T17:58:28.885Z"
   },
   {
    "duration": 5,
    "start_time": "2021-12-24T17:58:55.085Z"
   },
   {
    "duration": 20,
    "start_time": "2021-12-24T17:59:00.582Z"
   },
   {
    "duration": 19,
    "start_time": "2021-12-24T18:01:54.862Z"
   },
   {
    "duration": 25,
    "start_time": "2021-12-24T18:02:23.831Z"
   },
   {
    "duration": 7,
    "start_time": "2021-12-24T18:02:55.344Z"
   },
   {
    "duration": 388,
    "start_time": "2021-12-24T18:02:55.353Z"
   },
   {
    "duration": 68,
    "start_time": "2021-12-24T18:02:55.745Z"
   },
   {
    "duration": 7,
    "start_time": "2021-12-24T18:02:55.815Z"
   },
   {
    "duration": 169,
    "start_time": "2021-12-24T18:02:55.824Z"
   },
   {
    "duration": 14,
    "start_time": "2021-12-24T18:02:55.995Z"
   },
   {
    "duration": 71,
    "start_time": "2021-12-24T18:02:56.011Z"
   },
   {
    "duration": 268,
    "start_time": "2021-12-24T18:02:56.084Z"
   },
   {
    "duration": 105,
    "start_time": "2021-12-24T18:02:56.249Z"
   },
   {
    "duration": 102,
    "start_time": "2021-12-24T18:02:56.256Z"
   },
   {
    "duration": 64,
    "start_time": "2021-12-24T18:02:56.295Z"
   },
   {
    "duration": 67,
    "start_time": "2021-12-24T18:02:56.298Z"
   },
   {
    "duration": 62,
    "start_time": "2021-12-24T18:02:56.304Z"
   },
   {
    "duration": 61,
    "start_time": "2021-12-24T18:02:56.306Z"
   },
   {
    "duration": 19,
    "start_time": "2021-12-24T18:03:44.383Z"
   },
   {
    "duration": 274,
    "start_time": "2021-12-24T18:03:55.383Z"
   },
   {
    "duration": 265,
    "start_time": "2021-12-24T18:04:15.342Z"
   },
   {
    "duration": 18,
    "start_time": "2021-12-24T18:04:34.614Z"
   },
   {
    "duration": 22,
    "start_time": "2021-12-24T18:06:12.935Z"
   },
   {
    "duration": 21,
    "start_time": "2021-12-24T18:09:20.672Z"
   },
   {
    "duration": 23,
    "start_time": "2021-12-24T18:09:31.585Z"
   },
   {
    "duration": 24,
    "start_time": "2021-12-24T18:09:42.231Z"
   },
   {
    "duration": 8,
    "start_time": "2021-12-24T18:10:57.756Z"
   },
   {
    "duration": 266,
    "start_time": "2021-12-24T18:13:40.290Z"
   },
   {
    "duration": 13,
    "start_time": "2021-12-24T18:14:15.972Z"
   },
   {
    "duration": 28,
    "start_time": "2021-12-24T18:14:22.154Z"
   },
   {
    "duration": 6,
    "start_time": "2021-12-24T18:35:24.924Z"
   },
   {
    "duration": 392,
    "start_time": "2021-12-24T18:35:24.932Z"
   },
   {
    "duration": 74,
    "start_time": "2021-12-24T18:35:25.326Z"
   },
   {
    "duration": 7,
    "start_time": "2021-12-24T18:35:25.402Z"
   },
   {
    "duration": 174,
    "start_time": "2021-12-24T18:35:25.411Z"
   },
   {
    "duration": 12,
    "start_time": "2021-12-24T18:35:25.586Z"
   },
   {
    "duration": 65,
    "start_time": "2021-12-24T18:35:25.600Z"
   },
   {
    "duration": 333,
    "start_time": "2021-12-24T18:35:25.668Z"
   },
   {
    "duration": 111,
    "start_time": "2021-12-24T18:35:25.892Z"
   },
   {
    "duration": 105,
    "start_time": "2021-12-24T18:35:25.899Z"
   },
   {
    "duration": 103,
    "start_time": "2021-12-24T18:35:25.902Z"
   },
   {
    "duration": 101,
    "start_time": "2021-12-24T18:35:25.905Z"
   },
   {
    "duration": 97,
    "start_time": "2021-12-24T18:35:25.909Z"
   },
   {
    "duration": 76,
    "start_time": "2021-12-24T18:35:25.931Z"
   },
   {
    "duration": 66,
    "start_time": "2021-12-24T18:35:25.942Z"
   },
   {
    "duration": 281,
    "start_time": "2021-12-24T18:35:35.009Z"
   },
   {
    "duration": 26,
    "start_time": "2021-12-24T18:35:38.433Z"
   },
   {
    "duration": 251,
    "start_time": "2021-12-24T18:35:41.638Z"
   },
   {
    "duration": 6,
    "start_time": "2021-12-24T18:35:53.172Z"
   },
   {
    "duration": 429,
    "start_time": "2021-12-24T18:35:53.180Z"
   },
   {
    "duration": 74,
    "start_time": "2021-12-24T18:35:53.611Z"
   },
   {
    "duration": 12,
    "start_time": "2021-12-24T18:35:53.687Z"
   },
   {
    "duration": 181,
    "start_time": "2021-12-24T18:35:53.700Z"
   },
   {
    "duration": 12,
    "start_time": "2021-12-24T18:35:53.883Z"
   },
   {
    "duration": 79,
    "start_time": "2021-12-24T18:35:53.896Z"
   },
   {
    "duration": 254,
    "start_time": "2021-12-24T18:35:53.977Z"
   },
   {
    "duration": 114,
    "start_time": "2021-12-24T18:35:54.118Z"
   },
   {
    "duration": 109,
    "start_time": "2021-12-24T18:35:54.124Z"
   },
   {
    "duration": 107,
    "start_time": "2021-12-24T18:35:54.127Z"
   },
   {
    "duration": 102,
    "start_time": "2021-12-24T18:35:54.133Z"
   },
   {
    "duration": 100,
    "start_time": "2021-12-24T18:35:54.136Z"
   },
   {
    "duration": 95,
    "start_time": "2021-12-24T18:35:54.142Z"
   },
   {
    "duration": 89,
    "start_time": "2021-12-24T18:35:54.149Z"
   },
   {
    "duration": 79,
    "start_time": "2021-12-24T18:35:54.160Z"
   },
   {
    "duration": 25,
    "start_time": "2021-12-24T18:36:03.056Z"
   },
   {
    "duration": 6,
    "start_time": "2021-12-24T18:36:58.020Z"
   },
   {
    "duration": 393,
    "start_time": "2021-12-24T18:36:58.029Z"
   },
   {
    "duration": 68,
    "start_time": "2021-12-24T18:36:58.424Z"
   },
   {
    "duration": 8,
    "start_time": "2021-12-24T18:36:58.494Z"
   },
   {
    "duration": 175,
    "start_time": "2021-12-24T18:36:58.504Z"
   },
   {
    "duration": 17,
    "start_time": "2021-12-24T18:36:58.680Z"
   },
   {
    "duration": 85,
    "start_time": "2021-12-24T18:36:58.699Z"
   },
   {
    "duration": 254,
    "start_time": "2021-12-24T18:36:58.787Z"
   },
   {
    "duration": 112,
    "start_time": "2021-12-24T18:36:58.931Z"
   },
   {
    "duration": 104,
    "start_time": "2021-12-24T18:36:58.939Z"
   },
   {
    "duration": 102,
    "start_time": "2021-12-24T18:36:58.942Z"
   },
   {
    "duration": 98,
    "start_time": "2021-12-24T18:36:58.947Z"
   },
   {
    "duration": 95,
    "start_time": "2021-12-24T18:36:58.950Z"
   },
   {
    "duration": 90,
    "start_time": "2021-12-24T18:36:58.956Z"
   },
   {
    "duration": 84,
    "start_time": "2021-12-24T18:36:58.963Z"
   },
   {
    "duration": 80,
    "start_time": "2021-12-24T18:36:58.967Z"
   },
   {
    "duration": 25,
    "start_time": "2021-12-24T18:37:02.242Z"
   },
   {
    "duration": 22,
    "start_time": "2021-12-24T18:38:44.354Z"
   },
   {
    "duration": 28,
    "start_time": "2021-12-24T18:39:14.522Z"
   },
   {
    "duration": 5,
    "start_time": "2021-12-24T18:39:58.220Z"
   },
   {
    "duration": 402,
    "start_time": "2021-12-24T18:39:58.227Z"
   },
   {
    "duration": 71,
    "start_time": "2021-12-24T18:39:58.632Z"
   },
   {
    "duration": 10,
    "start_time": "2021-12-24T18:39:58.705Z"
   },
   {
    "duration": 177,
    "start_time": "2021-12-24T18:39:58.717Z"
   },
   {
    "duration": 19,
    "start_time": "2021-12-24T18:39:58.895Z"
   },
   {
    "duration": 72,
    "start_time": "2021-12-24T18:39:58.915Z"
   },
   {
    "duration": 249,
    "start_time": "2021-12-24T18:39:58.989Z"
   },
   {
    "duration": 115,
    "start_time": "2021-12-24T18:39:59.125Z"
   },
   {
    "duration": 108,
    "start_time": "2021-12-24T18:39:59.134Z"
   },
   {
    "duration": 103,
    "start_time": "2021-12-24T18:39:59.140Z"
   },
   {
    "duration": 100,
    "start_time": "2021-12-24T18:39:59.144Z"
   },
   {
    "duration": 100,
    "start_time": "2021-12-24T18:39:59.148Z"
   },
   {
    "duration": 95,
    "start_time": "2021-12-24T18:39:59.154Z"
   },
   {
    "duration": 24,
    "start_time": "2021-12-24T18:40:03.854Z"
   },
   {
    "duration": 6,
    "start_time": "2021-12-24T18:41:02.590Z"
   },
   {
    "duration": 439,
    "start_time": "2021-12-24T18:41:02.598Z"
   },
   {
    "duration": 68,
    "start_time": "2021-12-24T18:41:03.042Z"
   },
   {
    "duration": 9,
    "start_time": "2021-12-24T18:41:03.113Z"
   },
   {
    "duration": 189,
    "start_time": "2021-12-24T18:41:03.124Z"
   },
   {
    "duration": 14,
    "start_time": "2021-12-24T18:41:03.315Z"
   },
   {
    "duration": 78,
    "start_time": "2021-12-24T18:41:03.330Z"
   },
   {
    "duration": 261,
    "start_time": "2021-12-24T18:41:03.410Z"
   },
   {
    "duration": 120,
    "start_time": "2021-12-24T18:41:03.553Z"
   },
   {
    "duration": 115,
    "start_time": "2021-12-24T18:41:03.559Z"
   },
   {
    "duration": 114,
    "start_time": "2021-12-24T18:41:03.561Z"
   },
   {
    "duration": 67,
    "start_time": "2021-12-24T18:41:03.609Z"
   },
   {
    "duration": 65,
    "start_time": "2021-12-24T18:41:03.611Z"
   },
   {
    "duration": 65,
    "start_time": "2021-12-24T18:41:03.612Z"
   },
   {
    "duration": 4,
    "start_time": "2021-12-24T18:42:01.632Z"
   },
   {
    "duration": 261,
    "start_time": "2021-12-24T18:42:05.354Z"
   },
   {
    "duration": 80,
    "start_time": "2021-12-24T18:42:55.639Z"
   },
   {
    "duration": 5,
    "start_time": "2021-12-24T18:43:08.426Z"
   },
   {
    "duration": 393,
    "start_time": "2021-12-24T18:43:08.433Z"
   },
   {
    "duration": 72,
    "start_time": "2021-12-24T18:43:08.828Z"
   },
   {
    "duration": 7,
    "start_time": "2021-12-24T18:43:08.902Z"
   },
   {
    "duration": 179,
    "start_time": "2021-12-24T18:43:08.911Z"
   },
   {
    "duration": 12,
    "start_time": "2021-12-24T18:43:09.092Z"
   },
   {
    "duration": 77,
    "start_time": "2021-12-24T18:43:09.105Z"
   },
   {
    "duration": 83,
    "start_time": "2021-12-24T18:43:09.183Z"
   },
   {
    "duration": 46,
    "start_time": "2021-12-24T18:43:09.268Z"
   },
   {
    "duration": 45,
    "start_time": "2021-12-24T18:43:09.316Z"
   },
   {
    "duration": 18,
    "start_time": "2021-12-24T18:43:09.362Z"
   },
   {
    "duration": 67,
    "start_time": "2021-12-24T18:43:09.382Z"
   },
   {
    "duration": 16,
    "start_time": "2021-12-24T18:43:09.452Z"
   },
   {
    "duration": 29,
    "start_time": "2021-12-24T18:43:09.470Z"
   },
   {
    "duration": 22,
    "start_time": "2021-12-24T18:43:23.240Z"
   },
   {
    "duration": 22,
    "start_time": "2021-12-24T18:43:39.110Z"
   },
   {
    "duration": 262,
    "start_time": "2021-12-24T18:44:08.511Z"
   },
   {
    "duration": 8,
    "start_time": "2021-12-24T18:45:17.160Z"
   },
   {
    "duration": 9,
    "start_time": "2021-12-24T18:45:44.472Z"
   },
   {
    "duration": 22,
    "start_time": "2021-12-24T18:45:47.992Z"
   },
   {
    "duration": 26,
    "start_time": "2021-12-24T18:46:25.536Z"
   },
   {
    "duration": 22,
    "start_time": "2021-12-24T18:48:46.689Z"
   },
   {
    "duration": 8,
    "start_time": "2021-12-24T18:48:58.585Z"
   },
   {
    "duration": 18,
    "start_time": "2021-12-24T18:49:02.616Z"
   },
   {
    "duration": 4,
    "start_time": "2021-12-24T19:06:46.184Z"
   },
   {
    "duration": 280,
    "start_time": "2021-12-24T19:08:30.358Z"
   },
   {
    "duration": 2361,
    "start_time": "2021-12-24T19:08:38.977Z"
   },
   {
    "duration": 5,
    "start_time": "2021-12-24T19:09:50.242Z"
   },
   {
    "duration": 665,
    "start_time": "2021-12-24T19:09:51.954Z"
   },
   {
    "duration": 704,
    "start_time": "2021-12-24T19:11:19.306Z"
   },
   {
    "duration": 674,
    "start_time": "2021-12-24T19:11:40.123Z"
   },
   {
    "duration": 4,
    "start_time": "2021-12-24T19:12:09.026Z"
   },
   {
    "duration": 296,
    "start_time": "2021-12-24T19:12:13.594Z"
   },
   {
    "duration": 239,
    "start_time": "2021-12-24T19:12:52.170Z"
   },
   {
    "duration": 19,
    "start_time": "2021-12-25T06:38:49.959Z"
   },
   {
    "duration": 988,
    "start_time": "2021-12-25T06:38:49.980Z"
   },
   {
    "duration": 80,
    "start_time": "2021-12-25T06:38:50.970Z"
   },
   {
    "duration": 11,
    "start_time": "2021-12-25T06:38:51.052Z"
   },
   {
    "duration": 176,
    "start_time": "2021-12-25T06:38:51.065Z"
   },
   {
    "duration": 298,
    "start_time": "2021-12-25T06:38:51.242Z"
   },
   {
    "duration": 122,
    "start_time": "2021-12-25T06:38:51.420Z"
   },
   {
    "duration": 120,
    "start_time": "2021-12-25T06:38:51.423Z"
   },
   {
    "duration": 117,
    "start_time": "2021-12-25T06:38:51.427Z"
   },
   {
    "duration": 115,
    "start_time": "2021-12-25T06:38:51.430Z"
   },
   {
    "duration": 111,
    "start_time": "2021-12-25T06:38:51.435Z"
   },
   {
    "duration": 79,
    "start_time": "2021-12-25T06:38:51.467Z"
   },
   {
    "duration": 75,
    "start_time": "2021-12-25T06:38:51.472Z"
   },
   {
    "duration": 74,
    "start_time": "2021-12-25T06:38:51.474Z"
   },
   {
    "duration": 73,
    "start_time": "2021-12-25T06:38:51.476Z"
   },
   {
    "duration": 70,
    "start_time": "2021-12-25T06:38:51.479Z"
   },
   {
    "duration": 69,
    "start_time": "2021-12-25T06:38:51.481Z"
   },
   {
    "duration": 65,
    "start_time": "2021-12-25T06:38:51.486Z"
   },
   {
    "duration": 63,
    "start_time": "2021-12-25T06:38:51.489Z"
   },
   {
    "duration": 6,
    "start_time": "2021-12-25T06:40:23.982Z"
   },
   {
    "duration": 383,
    "start_time": "2021-12-25T06:40:23.990Z"
   },
   {
    "duration": 59,
    "start_time": "2021-12-25T06:40:24.375Z"
   },
   {
    "duration": 12,
    "start_time": "2021-12-25T06:40:24.435Z"
   },
   {
    "duration": 150,
    "start_time": "2021-12-25T06:40:24.449Z"
   },
   {
    "duration": 11,
    "start_time": "2021-12-25T06:40:24.601Z"
   },
   {
    "duration": 59,
    "start_time": "2021-12-25T06:40:24.613Z"
   },
   {
    "duration": 70,
    "start_time": "2021-12-25T06:40:24.675Z"
   },
   {
    "duration": 48,
    "start_time": "2021-12-25T06:40:24.747Z"
   },
   {
    "duration": 27,
    "start_time": "2021-12-25T06:40:24.796Z"
   },
   {
    "duration": 29,
    "start_time": "2021-12-25T06:40:24.824Z"
   },
   {
    "duration": 13,
    "start_time": "2021-12-25T06:40:24.854Z"
   },
   {
    "duration": 28,
    "start_time": "2021-12-25T06:40:24.868Z"
   },
   {
    "duration": 44,
    "start_time": "2021-12-25T06:40:24.897Z"
   },
   {
    "duration": 15,
    "start_time": "2021-12-25T06:40:24.942Z"
   },
   {
    "duration": 20,
    "start_time": "2021-12-25T06:40:24.959Z"
   },
   {
    "duration": 23,
    "start_time": "2021-12-25T06:40:24.981Z"
   },
   {
    "duration": 9,
    "start_time": "2021-12-25T06:40:25.006Z"
   },
   {
    "duration": 267,
    "start_time": "2021-12-25T06:40:25.017Z"
   },
   {
    "duration": 5,
    "start_time": "2021-12-25T06:51:17.904Z"
   },
   {
    "duration": 6,
    "start_time": "2021-12-25T06:51:28.246Z"
   },
   {
    "duration": 357,
    "start_time": "2021-12-25T06:51:28.254Z"
   },
   {
    "duration": 66,
    "start_time": "2021-12-25T06:51:28.612Z"
   },
   {
    "duration": 8,
    "start_time": "2021-12-25T06:51:28.680Z"
   },
   {
    "duration": 151,
    "start_time": "2021-12-25T06:51:28.690Z"
   },
   {
    "duration": 13,
    "start_time": "2021-12-25T06:51:28.842Z"
   },
   {
    "duration": 48,
    "start_time": "2021-12-25T06:51:28.857Z"
   },
   {
    "duration": 82,
    "start_time": "2021-12-25T06:51:28.907Z"
   },
   {
    "duration": 50,
    "start_time": "2021-12-25T06:51:28.991Z"
   },
   {
    "duration": 28,
    "start_time": "2021-12-25T06:51:29.042Z"
   },
   {
    "duration": 17,
    "start_time": "2021-12-25T06:51:29.071Z"
   },
   {
    "duration": 13,
    "start_time": "2021-12-25T06:51:29.090Z"
   },
   {
    "duration": 14,
    "start_time": "2021-12-25T06:51:29.104Z"
   },
   {
    "duration": 42,
    "start_time": "2021-12-25T06:51:29.119Z"
   },
   {
    "duration": 17,
    "start_time": "2021-12-25T06:51:29.163Z"
   },
   {
    "duration": 10,
    "start_time": "2021-12-25T06:51:29.181Z"
   },
   {
    "duration": 9,
    "start_time": "2021-12-25T06:51:29.192Z"
   },
   {
    "duration": 3,
    "start_time": "2021-12-25T06:51:29.203Z"
   },
   {
    "duration": 249,
    "start_time": "2021-12-25T06:51:29.207Z"
   },
   {
    "duration": 19,
    "start_time": "2021-12-25T06:56:48.706Z"
   },
   {
    "duration": 8,
    "start_time": "2021-12-25T06:57:56.810Z"
   },
   {
    "duration": 21,
    "start_time": "2021-12-25T07:06:47.324Z"
   },
   {
    "duration": 9,
    "start_time": "2021-12-25T07:07:00.486Z"
   },
   {
    "duration": 5,
    "start_time": "2021-12-25T07:07:46.865Z"
   },
   {
    "duration": 423,
    "start_time": "2021-12-25T07:07:46.872Z"
   },
   {
    "duration": 68,
    "start_time": "2021-12-25T07:07:47.298Z"
   },
   {
    "duration": 8,
    "start_time": "2021-12-25T07:07:47.368Z"
   },
   {
    "duration": 158,
    "start_time": "2021-12-25T07:07:47.378Z"
   },
   {
    "duration": 16,
    "start_time": "2021-12-25T07:07:47.541Z"
   },
   {
    "duration": 54,
    "start_time": "2021-12-25T07:07:47.559Z"
   },
   {
    "duration": 84,
    "start_time": "2021-12-25T07:07:47.615Z"
   },
   {
    "duration": 57,
    "start_time": "2021-12-25T07:07:47.700Z"
   },
   {
    "duration": 28,
    "start_time": "2021-12-25T07:07:47.759Z"
   },
   {
    "duration": 17,
    "start_time": "2021-12-25T07:07:47.789Z"
   },
   {
    "duration": 33,
    "start_time": "2021-12-25T07:07:47.807Z"
   },
   {
    "duration": 16,
    "start_time": "2021-12-25T07:07:47.842Z"
   },
   {
    "duration": 26,
    "start_time": "2021-12-25T07:07:47.860Z"
   },
   {
    "duration": 17,
    "start_time": "2021-12-25T07:07:47.888Z"
   },
   {
    "duration": 34,
    "start_time": "2021-12-25T07:07:47.907Z"
   },
   {
    "duration": 13,
    "start_time": "2021-12-25T07:07:47.943Z"
   },
   {
    "duration": 21,
    "start_time": "2021-12-25T07:08:05.368Z"
   },
   {
    "duration": 10,
    "start_time": "2021-12-25T07:08:19.678Z"
   },
   {
    "duration": 255,
    "start_time": "2021-12-25T07:10:23.486Z"
   },
   {
    "duration": 5,
    "start_time": "2021-12-25T07:10:31.254Z"
   },
   {
    "duration": 7,
    "start_time": "2021-12-25T07:10:43.845Z"
   },
   {
    "duration": 4,
    "start_time": "2021-12-25T07:10:59.109Z"
   },
   {
    "duration": 225,
    "start_time": "2021-12-25T07:10:59.662Z"
   },
   {
    "duration": 8,
    "start_time": "2021-12-25T07:11:08.670Z"
   },
   {
    "duration": 10,
    "start_time": "2021-12-25T07:12:38.151Z"
   },
   {
    "duration": 4,
    "start_time": "2021-12-25T07:13:43.246Z"
   },
   {
    "duration": 226,
    "start_time": "2021-12-25T07:13:43.679Z"
   },
   {
    "duration": 7,
    "start_time": "2021-12-25T07:14:11.415Z"
   },
   {
    "duration": 10,
    "start_time": "2021-12-25T07:25:54.323Z"
   },
   {
    "duration": 9,
    "start_time": "2021-12-25T07:27:56.876Z"
   },
   {
    "duration": 104,
    "start_time": "2021-12-25T07:54:47.011Z"
   },
   {
    "duration": 272,
    "start_time": "2021-12-25T07:54:53.963Z"
   },
   {
    "duration": 520,
    "start_time": "2021-12-25T08:04:00.486Z"
   },
   {
    "duration": 181,
    "start_time": "2021-12-25T08:04:13.142Z"
   },
   {
    "duration": 186,
    "start_time": "2021-12-25T08:04:26.430Z"
   },
   {
    "duration": 174,
    "start_time": "2021-12-25T08:04:36.247Z"
   },
   {
    "duration": 92,
    "start_time": "2021-12-25T08:07:53.215Z"
   },
   {
    "duration": 254,
    "start_time": "2021-12-25T08:08:06.727Z"
   },
   {
    "duration": 268,
    "start_time": "2021-12-25T08:08:18.231Z"
   },
   {
    "duration": 350,
    "start_time": "2021-12-25T08:11:09.544Z"
   },
   {
    "duration": 269,
    "start_time": "2021-12-25T08:11:16.455Z"
   },
   {
    "duration": 295,
    "start_time": "2021-12-25T08:11:24.024Z"
   },
   {
    "duration": 273,
    "start_time": "2021-12-25T08:12:12.136Z"
   },
   {
    "duration": 436,
    "start_time": "2021-12-25T08:12:32.768Z"
   },
   {
    "duration": 251,
    "start_time": "2021-12-25T08:13:01.377Z"
   },
   {
    "duration": 250,
    "start_time": "2021-12-25T08:13:18.321Z"
   },
   {
    "duration": 734,
    "start_time": "2021-12-25T08:14:01.537Z"
   },
   {
    "duration": 657,
    "start_time": "2021-12-25T08:14:22.786Z"
   },
   {
    "duration": 535,
    "start_time": "2021-12-25T08:17:32.179Z"
   },
   {
    "duration": 622,
    "start_time": "2021-12-25T08:19:00.722Z"
   },
   {
    "duration": 727,
    "start_time": "2021-12-25T08:49:22.549Z"
   },
   {
    "duration": 624,
    "start_time": "2021-12-25T08:50:49.276Z"
   },
   {
    "duration": 657,
    "start_time": "2021-12-25T08:53:39.772Z"
   },
   {
    "duration": 644,
    "start_time": "2021-12-25T08:56:07.125Z"
   },
   {
    "duration": 795,
    "start_time": "2021-12-25T09:01:28.216Z"
   },
   {
    "duration": 246,
    "start_time": "2021-12-25T10:47:45.878Z"
   },
   {
    "duration": 230,
    "start_time": "2021-12-25T10:48:09.406Z"
   },
   {
    "duration": 232,
    "start_time": "2021-12-25T10:48:27.542Z"
   },
   {
    "duration": 368,
    "start_time": "2021-12-25T10:48:34.719Z"
   },
   {
    "duration": 238,
    "start_time": "2021-12-25T10:48:51.742Z"
   },
   {
    "duration": 363,
    "start_time": "2021-12-25T10:49:04.295Z"
   },
   {
    "duration": 415,
    "start_time": "2021-12-25T10:49:25.247Z"
   },
   {
    "duration": 333,
    "start_time": "2021-12-25T10:50:16.902Z"
   },
   {
    "duration": 87,
    "start_time": "2021-12-25T10:50:36.344Z"
   },
   {
    "duration": 334,
    "start_time": "2021-12-25T10:50:47.974Z"
   },
   {
    "duration": 642,
    "start_time": "2021-12-25T10:51:28.527Z"
   },
   {
    "duration": 6852,
    "start_time": "2021-12-25T10:53:09.631Z"
   },
   {
    "duration": 187,
    "start_time": "2021-12-25T10:53:39.232Z"
   },
   {
    "duration": 443,
    "start_time": "2021-12-25T10:54:52.936Z"
   },
   {
    "duration": 7,
    "start_time": "2021-12-25T10:55:31.576Z"
   },
   {
    "duration": 9,
    "start_time": "2021-12-25T10:55:41.385Z"
   },
   {
    "duration": 17,
    "start_time": "2021-12-25T10:57:24.888Z"
   },
   {
    "duration": 582,
    "start_time": "2021-12-25T11:00:20.122Z"
   },
   {
    "duration": 39,
    "start_time": "2021-12-25T11:00:20.667Z"
   },
   {
    "duration": 16,
    "start_time": "2021-12-25T11:00:30.578Z"
   },
   {
    "duration": 706,
    "start_time": "2021-12-25T11:00:43.338Z"
   },
   {
    "duration": 259,
    "start_time": "2021-12-25T11:00:59.194Z"
   },
   {
    "duration": 19,
    "start_time": "2021-12-25T11:01:01.715Z"
   },
   {
    "duration": 379,
    "start_time": "2021-12-25T11:01:29.427Z"
   },
   {
    "duration": 10,
    "start_time": "2021-12-25T11:01:39.922Z"
   },
   {
    "duration": 265,
    "start_time": "2021-12-25T11:02:30.538Z"
   },
   {
    "duration": 18,
    "start_time": "2021-12-25T11:02:33.604Z"
   },
   {
    "duration": 382,
    "start_time": "2021-12-25T11:02:39.899Z"
   },
   {
    "duration": 10,
    "start_time": "2021-12-25T11:02:43.794Z"
   },
   {
    "duration": 358,
    "start_time": "2021-12-25T11:04:53.043Z"
   },
   {
    "duration": 16,
    "start_time": "2021-12-25T11:04:55.604Z"
   },
   {
    "duration": 369,
    "start_time": "2021-12-25T11:05:00.860Z"
   },
   {
    "duration": 79,
    "start_time": "2021-12-25T11:05:47.971Z"
   },
   {
    "duration": 254,
    "start_time": "2021-12-25T11:06:20.245Z"
   },
   {
    "duration": 349,
    "start_time": "2021-12-25T11:06:32.011Z"
   },
   {
    "duration": 12,
    "start_time": "2021-12-25T11:06:52.380Z"
   },
   {
    "duration": 250,
    "start_time": "2021-12-25T11:08:13.996Z"
   },
   {
    "duration": 276,
    "start_time": "2021-12-25T11:08:29.205Z"
   },
   {
    "duration": 474,
    "start_time": "2021-12-25T11:10:04.809Z"
   },
   {
    "duration": 236,
    "start_time": "2021-12-25T11:10:09.277Z"
   },
   {
    "duration": 81,
    "start_time": "2021-12-25T11:29:25.402Z"
   },
   {
    "duration": 229,
    "start_time": "2021-12-25T11:29:59.547Z"
   },
   {
    "duration": 595,
    "start_time": "2021-12-25T11:30:17.643Z"
   },
   {
    "duration": 9,
    "start_time": "2021-12-25T11:30:33.763Z"
   },
   {
    "duration": 6461,
    "start_time": "2021-12-25T11:46:18.202Z"
   },
   {
    "duration": 6,
    "start_time": "2021-12-25T11:46:33.368Z"
   },
   {
    "duration": 398,
    "start_time": "2021-12-25T11:46:33.376Z"
   },
   {
    "duration": 77,
    "start_time": "2021-12-25T11:46:33.776Z"
   },
   {
    "duration": 10,
    "start_time": "2021-12-25T11:46:33.855Z"
   },
   {
    "duration": 169,
    "start_time": "2021-12-25T11:46:33.866Z"
   },
   {
    "duration": 15,
    "start_time": "2021-12-25T11:46:34.036Z"
   },
   {
    "duration": 56,
    "start_time": "2021-12-25T11:46:34.053Z"
   },
   {
    "duration": 88,
    "start_time": "2021-12-25T11:46:34.111Z"
   },
   {
    "duration": 60,
    "start_time": "2021-12-25T11:46:34.203Z"
   },
   {
    "duration": 26,
    "start_time": "2021-12-25T11:46:34.266Z"
   },
   {
    "duration": 120,
    "start_time": "2021-12-25T11:46:34.293Z"
   },
   {
    "duration": 15,
    "start_time": "2021-12-25T11:46:34.415Z"
   },
   {
    "duration": 15,
    "start_time": "2021-12-25T11:46:34.441Z"
   },
   {
    "duration": 26,
    "start_time": "2021-12-25T11:46:34.458Z"
   },
   {
    "duration": 16,
    "start_time": "2021-12-25T11:46:34.485Z"
   },
   {
    "duration": 8,
    "start_time": "2021-12-25T11:46:34.503Z"
   },
   {
    "duration": 36,
    "start_time": "2021-12-25T11:46:34.512Z"
   },
   {
    "duration": 10,
    "start_time": "2021-12-25T11:46:34.549Z"
   },
   {
    "duration": 301,
    "start_time": "2021-12-25T11:46:34.561Z"
   },
   {
    "duration": 17,
    "start_time": "2021-12-25T11:46:34.864Z"
   },
   {
    "duration": 11,
    "start_time": "2021-12-25T11:46:34.883Z"
   },
   {
    "duration": 800,
    "start_time": "2021-12-25T11:46:34.895Z"
   },
   {
    "duration": 257,
    "start_time": "2021-12-25T11:46:35.697Z"
   },
   {
    "duration": 8,
    "start_time": "2021-12-25T11:46:35.955Z"
   },
   {
    "duration": 205,
    "start_time": "2021-12-25T11:46:35.964Z"
   },
   {
    "duration": 241,
    "start_time": "2021-12-25T11:47:53.986Z"
   },
   {
    "duration": 304,
    "start_time": "2021-12-25T11:48:15.066Z"
   },
   {
    "duration": 383,
    "start_time": "2021-12-25T11:48:34.858Z"
   },
   {
    "duration": 473,
    "start_time": "2021-12-25T11:49:08.851Z"
   },
   {
    "duration": 387,
    "start_time": "2021-12-25T11:50:05.683Z"
   },
   {
    "duration": 408,
    "start_time": "2021-12-25T11:51:09.980Z"
   },
   {
    "duration": 282,
    "start_time": "2021-12-25T11:51:23.059Z"
   },
   {
    "duration": 264,
    "start_time": "2021-12-25T11:51:32.442Z"
   },
   {
    "duration": 8,
    "start_time": "2021-12-25T11:54:11.237Z"
   },
   {
    "duration": 10,
    "start_time": "2021-12-25T12:00:10.640Z"
   },
   {
    "duration": 6,
    "start_time": "2021-12-25T12:00:27.759Z"
   },
   {
    "duration": 271,
    "start_time": "2021-12-25T12:14:01.987Z"
   },
   {
    "duration": 5,
    "start_time": "2021-12-25T12:14:12.633Z"
   },
   {
    "duration": 271,
    "start_time": "2021-12-25T12:28:28.895Z"
   },
   {
    "duration": 261,
    "start_time": "2021-12-25T12:28:49.431Z"
   },
   {
    "duration": 22,
    "start_time": "2021-12-26T09:54:39.090Z"
   },
   {
    "duration": 998,
    "start_time": "2021-12-26T09:54:39.113Z"
   },
   {
    "duration": 70,
    "start_time": "2021-12-26T09:54:40.113Z"
   },
   {
    "duration": 8,
    "start_time": "2021-12-26T09:54:40.185Z"
   },
   {
    "duration": 173,
    "start_time": "2021-12-26T09:54:40.194Z"
   },
   {
    "duration": 16,
    "start_time": "2021-12-26T09:54:40.369Z"
   },
   {
    "duration": 55,
    "start_time": "2021-12-26T09:54:40.386Z"
   },
   {
    "duration": 21,
    "start_time": "2021-12-26T09:54:40.443Z"
   },
   {
    "duration": 78,
    "start_time": "2021-12-26T09:54:40.467Z"
   },
   {
    "duration": 65,
    "start_time": "2021-12-26T09:54:40.547Z"
   },
   {
    "duration": 30,
    "start_time": "2021-12-26T09:54:40.613Z"
   },
   {
    "duration": 31,
    "start_time": "2021-12-26T09:54:40.645Z"
   },
   {
    "duration": 16,
    "start_time": "2021-12-26T09:54:40.678Z"
   },
   {
    "duration": 16,
    "start_time": "2021-12-26T09:54:40.696Z"
   },
   {
    "duration": 49,
    "start_time": "2021-12-26T09:54:40.714Z"
   },
   {
    "duration": 19,
    "start_time": "2021-12-26T09:54:40.764Z"
   },
   {
    "duration": 10,
    "start_time": "2021-12-26T09:54:40.784Z"
   },
   {
    "duration": 11,
    "start_time": "2021-12-26T09:54:40.796Z"
   },
   {
    "duration": 30,
    "start_time": "2021-12-26T09:54:40.809Z"
   },
   {
    "duration": 290,
    "start_time": "2021-12-26T09:54:40.841Z"
   },
   {
    "duration": 27,
    "start_time": "2021-12-26T09:54:41.133Z"
   },
   {
    "duration": 8,
    "start_time": "2021-12-26T09:54:41.162Z"
   },
   {
    "duration": 949,
    "start_time": "2021-12-26T09:54:41.172Z"
   },
   {
    "duration": 271,
    "start_time": "2021-12-26T09:54:42.122Z"
   },
   {
    "duration": 376,
    "start_time": "2021-12-26T09:54:42.395Z"
   },
   {
    "duration": 279,
    "start_time": "2021-12-26T09:54:42.773Z"
   },
   {
    "duration": 8,
    "start_time": "2021-12-26T09:54:43.061Z"
   },
   {
    "duration": 24,
    "start_time": "2021-12-26T10:01:38.524Z"
   },
   {
    "duration": 90,
    "start_time": "2021-12-26T10:01:57.535Z"
   },
   {
    "duration": 16,
    "start_time": "2021-12-26T10:01:57.875Z"
   },
   {
    "duration": 17,
    "start_time": "2021-12-26T10:02:01.223Z"
   },
   {
    "duration": 31,
    "start_time": "2021-12-26T12:04:16.595Z"
   },
   {
    "duration": 1246,
    "start_time": "2021-12-26T12:04:16.629Z"
   },
   {
    "duration": 103,
    "start_time": "2021-12-26T12:04:17.878Z"
   },
   {
    "duration": 15,
    "start_time": "2021-12-26T12:04:17.984Z"
   },
   {
    "duration": 260,
    "start_time": "2021-12-26T12:04:18.017Z"
   },
   {
    "duration": 20,
    "start_time": "2021-12-26T12:04:18.279Z"
   },
   {
    "duration": 94,
    "start_time": "2021-12-26T12:04:18.301Z"
   },
   {
    "duration": 19,
    "start_time": "2021-12-26T12:04:18.398Z"
   },
   {
    "duration": 118,
    "start_time": "2021-12-26T12:04:18.420Z"
   },
   {
    "duration": 81,
    "start_time": "2021-12-26T12:04:18.540Z"
   },
   {
    "duration": 43,
    "start_time": "2021-12-26T12:04:18.623Z"
   },
   {
    "duration": 24,
    "start_time": "2021-12-26T12:04:18.669Z"
   },
   {
    "duration": 39,
    "start_time": "2021-12-26T12:04:18.695Z"
   },
   {
    "duration": 25,
    "start_time": "2021-12-26T12:04:18.736Z"
   },
   {
    "duration": 70,
    "start_time": "2021-12-26T12:04:18.763Z"
   },
   {
    "duration": 27,
    "start_time": "2021-12-26T12:04:18.835Z"
   },
   {
    "duration": 14,
    "start_time": "2021-12-26T12:04:18.864Z"
   },
   {
    "duration": 46,
    "start_time": "2021-12-26T12:04:18.880Z"
   },
   {
    "duration": 16,
    "start_time": "2021-12-26T12:04:18.928Z"
   },
   {
    "duration": 609,
    "start_time": "2021-12-26T12:04:18.946Z"
   },
   {
    "duration": 27,
    "start_time": "2021-12-26T12:04:19.557Z"
   },
   {
    "duration": 32,
    "start_time": "2021-12-26T12:04:19.586Z"
   },
   {
    "duration": 1519,
    "start_time": "2021-12-26T12:04:19.622Z"
   },
   {
    "duration": 464,
    "start_time": "2021-12-26T12:04:21.143Z"
   },
   {
    "duration": 427,
    "start_time": "2021-12-26T12:04:21.609Z"
   },
   {
    "duration": 496,
    "start_time": "2021-12-26T12:04:22.039Z"
   },
   {
    "duration": 11,
    "start_time": "2021-12-26T12:04:22.537Z"
   },
   {
    "duration": 405,
    "start_time": "2021-12-26T12:05:23.978Z"
   },
   {
    "duration": 14,
    "start_time": "2021-12-26T12:05:43.550Z"
   },
   {
    "duration": 16,
    "start_time": "2021-12-26T12:05:58.987Z"
   },
   {
    "duration": 26,
    "start_time": "2021-12-26T12:06:39.498Z"
   },
   {
    "duration": 32,
    "start_time": "2021-12-26T12:07:39.880Z"
   },
   {
    "duration": 1286,
    "start_time": "2021-12-26T12:07:39.915Z"
   },
   {
    "duration": 115,
    "start_time": "2021-12-26T12:07:41.205Z"
   },
   {
    "duration": 12,
    "start_time": "2021-12-26T12:07:41.323Z"
   },
   {
    "duration": 367,
    "start_time": "2021-12-26T12:07:41.338Z"
   },
   {
    "duration": 27,
    "start_time": "2021-12-26T12:07:41.708Z"
   },
   {
    "duration": 97,
    "start_time": "2021-12-26T12:07:41.737Z"
   },
   {
    "duration": 7,
    "start_time": "2021-12-26T12:07:41.837Z"
   },
   {
    "duration": 136,
    "start_time": "2021-12-26T12:07:41.847Z"
   },
   {
    "duration": 91,
    "start_time": "2021-12-26T12:07:41.985Z"
   },
   {
    "duration": 55,
    "start_time": "2021-12-26T12:07:42.079Z"
   },
   {
    "duration": 84,
    "start_time": "2021-12-26T12:10:48.688Z"
   },
   {
    "duration": 7276,
    "start_time": "2021-12-26T12:11:38.425Z"
   },
   {
    "duration": 19,
    "start_time": "2021-12-26T12:13:44.970Z"
   },
   {
    "duration": 83,
    "start_time": "2021-12-26T12:16:21.587Z"
   },
   {
    "duration": 144,
    "start_time": "2021-12-26T12:17:58.793Z"
   },
   {
    "duration": 16,
    "start_time": "2021-12-26T12:18:08.043Z"
   },
   {
    "duration": 6,
    "start_time": "2021-12-26T12:18:49.972Z"
   },
   {
    "duration": 8,
    "start_time": "2021-12-26T12:19:46.081Z"
   },
   {
    "duration": 539,
    "start_time": "2021-12-26T12:19:46.091Z"
   },
   {
    "duration": 122,
    "start_time": "2021-12-26T12:19:46.634Z"
   },
   {
    "duration": 11,
    "start_time": "2021-12-26T12:19:46.759Z"
   },
   {
    "duration": 268,
    "start_time": "2021-12-26T12:19:46.773Z"
   },
   {
    "duration": 19,
    "start_time": "2021-12-26T12:19:47.043Z"
   },
   {
    "duration": 109,
    "start_time": "2021-12-26T12:19:47.064Z"
   },
   {
    "duration": 6,
    "start_time": "2021-12-26T12:19:47.177Z"
   },
   {
    "duration": 134,
    "start_time": "2021-12-26T12:19:47.186Z"
   },
   {
    "duration": 72,
    "start_time": "2021-12-26T12:19:47.323Z"
   },
   {
    "duration": 51,
    "start_time": "2021-12-26T12:19:47.397Z"
   },
   {
    "duration": 197,
    "start_time": "2021-12-26T12:19:47.450Z"
   },
   {
    "duration": 155,
    "start_time": "2021-12-26T12:19:47.649Z"
   },
   {
    "duration": 3,
    "start_time": "2021-12-26T12:19:47.807Z"
   },
   {
    "duration": 25,
    "start_time": "2021-12-26T12:19:47.817Z"
   },
   {
    "duration": 73,
    "start_time": "2021-12-26T12:19:47.845Z"
   },
   {
    "duration": 28,
    "start_time": "2021-12-26T12:19:47.921Z"
   },
   {
    "duration": 15,
    "start_time": "2021-12-26T12:19:47.952Z"
   },
   {
    "duration": 67,
    "start_time": "2021-12-26T12:19:47.970Z"
   },
   {
    "duration": 286,
    "start_time": "2021-12-26T12:19:48.040Z"
   },
   {
    "duration": 117,
    "start_time": "2021-12-26T12:19:48.213Z"
   },
   {
    "duration": 114,
    "start_time": "2021-12-26T12:19:48.218Z"
   },
   {
    "duration": 113,
    "start_time": "2021-12-26T12:19:48.222Z"
   },
   {
    "duration": 110,
    "start_time": "2021-12-26T12:19:48.227Z"
   },
   {
    "duration": 107,
    "start_time": "2021-12-26T12:19:48.232Z"
   },
   {
    "duration": 102,
    "start_time": "2021-12-26T12:19:48.239Z"
   },
   {
    "duration": 100,
    "start_time": "2021-12-26T12:19:48.244Z"
   },
   {
    "duration": 98,
    "start_time": "2021-12-26T12:19:48.248Z"
   },
   {
    "duration": 20,
    "start_time": "2021-12-26T12:24:12.061Z"
   },
   {
    "duration": 528,
    "start_time": "2021-12-26T12:24:12.084Z"
   },
   {
    "duration": 31,
    "start_time": "2021-12-26T12:24:12.614Z"
   },
   {
    "duration": 16,
    "start_time": "2021-12-26T12:24:12.649Z"
   },
   {
    "duration": 1668,
    "start_time": "2021-12-26T12:24:12.667Z"
   },
   {
    "duration": 469,
    "start_time": "2021-12-26T12:24:14.338Z"
   },
   {
    "duration": 607,
    "start_time": "2021-12-26T12:24:14.817Z"
   },
   {
    "duration": 578,
    "start_time": "2021-12-26T12:24:15.427Z"
   },
   {
    "duration": 16,
    "start_time": "2021-12-26T12:24:16.008Z"
   },
   {
    "duration": 12,
    "start_time": "2021-12-26T12:25:45.029Z"
   },
   {
    "duration": 8,
    "start_time": "2021-12-26T12:26:14.293Z"
   },
   {
    "duration": 505,
    "start_time": "2021-12-26T12:26:14.304Z"
   },
   {
    "duration": 113,
    "start_time": "2021-12-26T12:26:14.813Z"
   },
   {
    "duration": 11,
    "start_time": "2021-12-26T12:26:14.928Z"
   },
   {
    "duration": 256,
    "start_time": "2021-12-26T12:26:14.942Z"
   },
   {
    "duration": 20,
    "start_time": "2021-12-26T12:26:15.201Z"
   },
   {
    "duration": 93,
    "start_time": "2021-12-26T12:26:15.224Z"
   },
   {
    "duration": 7,
    "start_time": "2021-12-26T12:26:15.320Z"
   },
   {
    "duration": 115,
    "start_time": "2021-12-26T12:26:15.330Z"
   },
   {
    "duration": 81,
    "start_time": "2021-12-26T12:26:15.447Z"
   },
   {
    "duration": 38,
    "start_time": "2021-12-26T12:26:15.531Z"
   },
   {
    "duration": 145,
    "start_time": "2021-12-26T12:26:15.572Z"
   },
   {
    "duration": 149,
    "start_time": "2021-12-26T12:26:15.719Z"
   },
   {
    "duration": 4,
    "start_time": "2021-12-26T12:26:15.871Z"
   },
   {
    "duration": 12,
    "start_time": "2021-12-26T12:26:15.877Z"
   },
   {
    "duration": 51,
    "start_time": "2021-12-26T12:26:15.892Z"
   },
   {
    "duration": 117,
    "start_time": "2021-12-26T12:26:15.946Z"
   },
   {
    "duration": 26,
    "start_time": "2021-12-26T12:26:16.066Z"
   },
   {
    "duration": 29,
    "start_time": "2021-12-26T12:26:16.094Z"
   },
   {
    "duration": 18,
    "start_time": "2021-12-26T12:26:16.125Z"
   },
   {
    "duration": 19,
    "start_time": "2021-12-26T12:26:16.145Z"
   },
   {
    "duration": 545,
    "start_time": "2021-12-26T12:26:16.166Z"
   },
   {
    "duration": 30,
    "start_time": "2021-12-26T12:26:16.718Z"
   },
   {
    "duration": 18,
    "start_time": "2021-12-26T12:26:16.751Z"
   },
   {
    "duration": 1549,
    "start_time": "2021-12-26T12:26:16.771Z"
   },
   {
    "duration": 468,
    "start_time": "2021-12-26T12:26:18.322Z"
   },
   {
    "duration": 25,
    "start_time": "2021-12-26T12:26:18.792Z"
   },
   {
    "duration": 491,
    "start_time": "2021-12-26T12:26:18.820Z"
   },
   {
    "duration": 11,
    "start_time": "2021-12-26T12:26:19.313Z"
   }
  ],
  "kernelspec": {
   "display_name": "Python 3 (ipykernel)",
   "language": "python",
   "name": "python3"
  },
  "language_info": {
   "codemirror_mode": {
    "name": "ipython",
    "version": 3
   },
   "file_extension": ".py",
   "mimetype": "text/x-python",
   "name": "python",
   "nbconvert_exporter": "python",
   "pygments_lexer": "ipython3",
   "version": "3.9.0"
  },
  "toc": {
   "base_numbering": 1,
   "nav_menu": {
    "height": "352px",
    "width": "162px"
   },
   "number_sections": true,
   "sideBar": true,
   "skip_h1_title": true,
   "title_cell": "Table of Contents",
   "title_sidebar": "Оглавление",
   "toc_cell": true,
   "toc_position": {},
   "toc_section_display": true,
   "toc_window_display": true
  }
 },
 "nbformat": 4,
 "nbformat_minor": 2
}
