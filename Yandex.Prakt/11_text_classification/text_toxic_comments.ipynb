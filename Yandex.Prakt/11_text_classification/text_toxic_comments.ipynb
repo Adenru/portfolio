{
 "cells": [
  {
   "cell_type": "code",
   "execution_count": 1,
   "metadata": {},
   "outputs": [
    {
     "data": {
      "text/plain": [
       "{'CodeCell': {'cm_config': {'autoCloseBrackets': False}},\n",
       " 'load_extensions': {'nbextensions_configurator/config_menu/main': True,\n",
       "  'contrib_nbextensions_help_item/main': True,\n",
       "  'hinterland/hinterland': True,\n",
       "  'toc2/main': True},\n",
       " 'toc2': {'skip_h1_title': True,\n",
       "  'toc_cell': True,\n",
       "  'title_cell': 'Содержание',\n",
       "  'toc_window_display': True}}"
      ]
     },
     "execution_count": 1,
     "metadata": {},
     "output_type": "execute_result"
    }
   ],
   "source": [
    "from notebook.services.config import ConfigManager\n",
    "c = ConfigManager()\n",
    "c.update('notebook', {\"CodeCell\": {\"cm_config\": {\"autoCloseBrackets\": False}}})"
   ]
  },
  {
   "cell_type": "markdown",
   "metadata": {
    "toc": true
   },
   "source": [
    "<h1>Содержание<span class=\"tocSkip\"></span></h1>\n",
    "<div class=\"toc\"><ul class=\"toc-item\"><li><span><a href=\"#Подготовка\" data-toc-modified-id=\"Подготовка-1\"><span class=\"toc-item-num\">1&nbsp;&nbsp;</span>Подготовка</a></span><ul class=\"toc-item\"><li><span><a href=\"#Загрузка-данных\" data-toc-modified-id=\"Загрузка-данных-1.1\"><span class=\"toc-item-num\">1.1&nbsp;&nbsp;</span>Загрузка данных</a></span></li><li><span><a href=\"#Обработка\" data-toc-modified-id=\"Обработка-1.2\"><span class=\"toc-item-num\">1.2&nbsp;&nbsp;</span>Обработка</a></span><ul class=\"toc-item\"><li><span><a href=\"#Очистка-текста-и-лемматизация\" data-toc-modified-id=\"Очистка-текста-и-лемматизация-1.2.1\"><span class=\"toc-item-num\">1.2.1&nbsp;&nbsp;</span>Очистка текста и лемматизация</a></span></li></ul></li><li><span><a href=\"#Длина\" data-toc-modified-id=\"Длина-1.3\"><span class=\"toc-item-num\">1.3&nbsp;&nbsp;</span>Длина</a></span></li></ul></li><li><span><a href=\"#Обучение\" data-toc-modified-id=\"Обучение-2\"><span class=\"toc-item-num\">2&nbsp;&nbsp;</span>Обучение</a></span><ul class=\"toc-item\"><li><span><a href=\"#Логистическая-регрессия\" data-toc-modified-id=\"Логистическая-регрессия-2.1\"><span class=\"toc-item-num\">2.1&nbsp;&nbsp;</span>Логистическая регрессия</a></span></li><li><span><a href=\"#CatBoost\" data-toc-modified-id=\"CatBoost-2.2\"><span class=\"toc-item-num\">2.2&nbsp;&nbsp;</span>CatBoost</a></span></li><li><span><a href=\"#Улучшение-логистической-регрессии-древом-решений.\" data-toc-modified-id=\"Улучшение-логистической-регрессии-древом-решений.-2.3\"><span class=\"toc-item-num\">2.3&nbsp;&nbsp;</span>Улучшение логистической регрессии древом решений.</a></span></li><li><span><a href=\"#Глупая-модель\" data-toc-modified-id=\"Глупая-модель-2.4\"><span class=\"toc-item-num\">2.4&nbsp;&nbsp;</span>Глупая модель</a></span></li></ul></li><li><span><a href=\"#Выводы\" data-toc-modified-id=\"Выводы-3\"><span class=\"toc-item-num\">3&nbsp;&nbsp;</span>Выводы</a></span></li></ul></div>"
   ]
  },
  {
   "cell_type": "markdown",
   "metadata": {},
   "source": [
    "# Проект для «Викишоп»"
   ]
  },
  {
   "cell_type": "markdown",
   "metadata": {},
   "source": [
    "Интернет-магазин «Викишоп» запускает новый сервис. Теперь пользователи могут редактировать и дополнять описания товаров, как в вики-сообществах. То есть клиенты предлагают свои правки и комментируют изменения других. Магазину нужен инструмент, который будет искать токсичные комментарии и отправлять их на модерацию. \n",
    "\n",
    "Обучите модель классифицировать комментарии на позитивные и негативные. В вашем распоряжении набор данных с разметкой о токсичности правок.\n",
    "\n",
    "Постройте модель со значением метрики качества *F1* не меньше 0.75. \n",
    "\n",
    "**Инструкция по выполнению проекта**\n",
    "\n",
    "1. Загрузите и подготовьте данные.\n",
    "2. Обучите разные модели. \n",
    "3. Сделайте выводы.\n",
    "\n",
    "Для выполнения проекта применять *BERT* необязательно, но вы можете попробовать.\n",
    "\n",
    "**Описание данных**\n",
    "\n",
    "Данные находятся в файле `toxic_comments.csv`. Столбец *text* в нём содержит текст комментария, а *toxic* — целевой признак."
   ]
  },
  {
   "cell_type": "code",
   "execution_count": 56,
   "metadata": {},
   "outputs": [
    {
     "name": "stderr",
     "output_type": "stream",
     "text": [
      "[nltk_data] Downloading package stopwords to\n",
      "[nltk_data]     C:\\Users\\segey\\AppData\\Roaming\\nltk_data...\n",
      "[nltk_data]   Package stopwords is already up-to-date!\n",
      "[nltk_data] Downloading package wordnet to\n",
      "[nltk_data]     C:\\Users\\segey\\AppData\\Roaming\\nltk_data...\n",
      "[nltk_data]   Package wordnet is already up-to-date!\n",
      "[nltk_data] Downloading package omw-1.4 to\n",
      "[nltk_data]     C:\\Users\\segey\\AppData\\Roaming\\nltk_data...\n",
      "[nltk_data]   Package omw-1.4 is already up-to-date!\n"
     ]
    }
   ],
   "source": [
    "import numpy as np\n",
    "import pandas as pd\n",
    "from sklearn.model_selection import train_test_split, GridSearchCV, PredefinedSplit, cross_val_predict\n",
    "from sklearn.metrics import f1_score\n",
    "import re\n",
    "from sklearn.dummy import DummyClassifier\n",
    "from sklearn.linear_model import LogisticRegression\n",
    "#from sklearn.preprocessing import StandardScaler\n",
    "import nltk\n",
    "#import pickle\n",
    "from nltk.corpus import stopwords as nltk_stopwords\n",
    "from nltk.stem import WordNetLemmatizer\n",
    "from sklearn.feature_extraction.text import TfidfVectorizer\n",
    "nltk.download('stopwords')\n",
    "nltk.download('wordnet')\n",
    "nltk.download('omw-1.4')\n",
    "from catboost import CatBoostClassifier\n",
    "from scipy.sparse import vstack\n",
    "from sklearn.tree import DecisionTreeClassifier\n",
    "from sklearn.pipeline import make_pipeline\n",
    "from sklearn import tree"
   ]
  },
  {
   "cell_type": "markdown",
   "metadata": {},
   "source": [
    "## Подготовка"
   ]
  },
  {
   "cell_type": "markdown",
   "metadata": {},
   "source": [
    "### Загрузка данных"
   ]
  },
  {
   "cell_type": "code",
   "execution_count": 3,
   "metadata": {},
   "outputs": [
    {
     "data": {
      "text/html": [
       "<div>\n",
       "<style scoped>\n",
       "    .dataframe tbody tr th:only-of-type {\n",
       "        vertical-align: middle;\n",
       "    }\n",
       "\n",
       "    .dataframe tbody tr th {\n",
       "        vertical-align: top;\n",
       "    }\n",
       "\n",
       "    .dataframe thead th {\n",
       "        text-align: right;\n",
       "    }\n",
       "</style>\n",
       "<table border=\"1\" class=\"dataframe\">\n",
       "  <thead>\n",
       "    <tr style=\"text-align: right;\">\n",
       "      <th></th>\n",
       "      <th>text</th>\n",
       "      <th>toxic</th>\n",
       "    </tr>\n",
       "  </thead>\n",
       "  <tbody>\n",
       "    <tr>\n",
       "      <th>0</th>\n",
       "      <td>Explanation\\nWhy the edits made under my usern...</td>\n",
       "      <td>0</td>\n",
       "    </tr>\n",
       "    <tr>\n",
       "      <th>1</th>\n",
       "      <td>D'aww! He matches this background colour I'm s...</td>\n",
       "      <td>0</td>\n",
       "    </tr>\n",
       "    <tr>\n",
       "      <th>2</th>\n",
       "      <td>Hey man, I'm really not trying to edit war. It...</td>\n",
       "      <td>0</td>\n",
       "    </tr>\n",
       "    <tr>\n",
       "      <th>3</th>\n",
       "      <td>\"\\nMore\\nI can't make any real suggestions on ...</td>\n",
       "      <td>0</td>\n",
       "    </tr>\n",
       "    <tr>\n",
       "      <th>4</th>\n",
       "      <td>You, sir, are my hero. Any chance you remember...</td>\n",
       "      <td>0</td>\n",
       "    </tr>\n",
       "    <tr>\n",
       "      <th>...</th>\n",
       "      <td>...</td>\n",
       "      <td>...</td>\n",
       "    </tr>\n",
       "    <tr>\n",
       "      <th>159566</th>\n",
       "      <td>\":::::And for the second time of asking, when ...</td>\n",
       "      <td>0</td>\n",
       "    </tr>\n",
       "    <tr>\n",
       "      <th>159567</th>\n",
       "      <td>You should be ashamed of yourself \\n\\nThat is ...</td>\n",
       "      <td>0</td>\n",
       "    </tr>\n",
       "    <tr>\n",
       "      <th>159568</th>\n",
       "      <td>Spitzer \\n\\nUmm, theres no actual article for ...</td>\n",
       "      <td>0</td>\n",
       "    </tr>\n",
       "    <tr>\n",
       "      <th>159569</th>\n",
       "      <td>And it looks like it was actually you who put ...</td>\n",
       "      <td>0</td>\n",
       "    </tr>\n",
       "    <tr>\n",
       "      <th>159570</th>\n",
       "      <td>\"\\nAnd ... I really don't think you understand...</td>\n",
       "      <td>0</td>\n",
       "    </tr>\n",
       "  </tbody>\n",
       "</table>\n",
       "<p>159571 rows × 2 columns</p>\n",
       "</div>"
      ],
      "text/plain": [
       "                                                     text  toxic\n",
       "0       Explanation\\nWhy the edits made under my usern...      0\n",
       "1       D'aww! He matches this background colour I'm s...      0\n",
       "2       Hey man, I'm really not trying to edit war. It...      0\n",
       "3       \"\\nMore\\nI can't make any real suggestions on ...      0\n",
       "4       You, sir, are my hero. Any chance you remember...      0\n",
       "...                                                   ...    ...\n",
       "159566  \":::::And for the second time of asking, when ...      0\n",
       "159567  You should be ashamed of yourself \\n\\nThat is ...      0\n",
       "159568  Spitzer \\n\\nUmm, theres no actual article for ...      0\n",
       "159569  And it looks like it was actually you who put ...      0\n",
       "159570  \"\\nAnd ... I really don't think you understand...      0\n",
       "\n",
       "[159571 rows x 2 columns]"
      ]
     },
     "execution_count": 3,
     "metadata": {},
     "output_type": "execute_result"
    }
   ],
   "source": [
    "data = pd.read_csv('datasets/toxic_comments.csv').drop_duplicates().reset_index(drop=True)\n",
    "data"
   ]
  },
  {
   "cell_type": "code",
   "execution_count": 4,
   "metadata": {},
   "outputs": [
    {
     "data": {
      "text/plain": [
       "0.10167887648758234"
      ]
     },
     "execution_count": 4,
     "metadata": {},
     "output_type": "execute_result"
    }
   ],
   "source": [
    "data['toxic'].sum()/len(data)"
   ]
  },
  {
   "cell_type": "markdown",
   "metadata": {},
   "source": [
    "В выборке только 10% комментариев считаются токсичными."
   ]
  },
  {
   "cell_type": "markdown",
   "metadata": {},
   "source": [
    "### Обработка"
   ]
  },
  {
   "cell_type": "markdown",
   "metadata": {},
   "source": [
    "#### Очистка текста и лемматизация"
   ]
  },
  {
   "cell_type": "markdown",
   "metadata": {},
   "source": [
    "Удалим все ссылки, оставим только текст, убираем лишние пробелы, одиночные символы, переводим в нижний регистр, после чего лемматизируем:"
   ]
  },
  {
   "cell_type": "code",
   "execution_count": 5,
   "metadata": {},
   "outputs": [],
   "source": [
    "stemmer = WordNetLemmatizer()"
   ]
  },
  {
   "cell_type": "code",
   "execution_count": 6,
   "metadata": {},
   "outputs": [],
   "source": [
    "def text_cleaner(text):\n",
    "    text = re.sub('https?:\\/\\/.*[\\r\\n]*', ' ', text)\n",
    "    \n",
    "    text = re.sub(r'\\'m', ' am', text)\n",
    "    text = re.sub(r'\\'re', ' are', text)\n",
    "    text = re.sub(r'n\\'t', ' not', text)\n",
    "    \n",
    "    text = re.sub(r'\\n', ' ', text)\n",
    "    text = re.sub(r'[^a-zA-Z]', ' ', text)\n",
    "    \n",
    "    text = re.sub('I ','placeiplace ', text)\n",
    "    \n",
    "    text = re.sub(r'\\s+[a-zA-Z]\\s+', ' ', text)\n",
    "    text = re.sub(r'\\^[a-zA-Z]\\s+', ' ', text)\n",
    "    text = re.sub(r'\\s+', ' ', text, flags=re.I)\n",
    "    \n",
    "    text = re.sub('placeiplace ', 'I ', text)\n",
    "    \n",
    "    text = text.lower()\n",
    "    \n",
    "    text = text.split()\n",
    "    text = [stemmer.lemmatize(word) for word in text]\n",
    "    text = ' '.join(text)\n",
    "    \n",
    "    return text"
   ]
  },
  {
   "cell_type": "code",
   "execution_count": 7,
   "metadata": {},
   "outputs": [
    {
     "data": {
      "text/plain": [
       "\"Explanation\\nWhy the edits made under my username Hardcore Metallica Fan were reverted? They weren't vandalisms, just closure on some GAs after I voted at New York Dolls FAC. And please don't remove the template from the talk page since I'm retired now.89.205.38.27\""
      ]
     },
     "execution_count": 7,
     "metadata": {},
     "output_type": "execute_result"
    }
   ],
   "source": [
    "data['text'][0]"
   ]
  },
  {
   "cell_type": "code",
   "execution_count": 8,
   "metadata": {},
   "outputs": [
    {
     "data": {
      "text/plain": [
       "'explanation why the edits made under my username hardcore metallica fan were reverted they were not vandalism just closure on some gas after i voted at new york doll fac and please do not remove the template from the talk page since i am retired now'"
      ]
     },
     "execution_count": 8,
     "metadata": {},
     "output_type": "execute_result"
    }
   ],
   "source": [
    "text_cleaner(data['text'][0])"
   ]
  },
  {
   "cell_type": "code",
   "execution_count": 9,
   "metadata": {},
   "outputs": [
    {
     "data": {
      "text/html": [
       "<div>\n",
       "<style scoped>\n",
       "    .dataframe tbody tr th:only-of-type {\n",
       "        vertical-align: middle;\n",
       "    }\n",
       "\n",
       "    .dataframe tbody tr th {\n",
       "        vertical-align: top;\n",
       "    }\n",
       "\n",
       "    .dataframe thead th {\n",
       "        text-align: right;\n",
       "    }\n",
       "</style>\n",
       "<table border=\"1\" class=\"dataframe\">\n",
       "  <thead>\n",
       "    <tr style=\"text-align: right;\">\n",
       "      <th></th>\n",
       "      <th>text</th>\n",
       "      <th>toxic</th>\n",
       "    </tr>\n",
       "  </thead>\n",
       "  <tbody>\n",
       "    <tr>\n",
       "      <th>0</th>\n",
       "      <td>explanation why the edits made under my userna...</td>\n",
       "      <td>0</td>\n",
       "    </tr>\n",
       "    <tr>\n",
       "      <th>1</th>\n",
       "      <td>d aww he match this background colour i am see...</td>\n",
       "      <td>0</td>\n",
       "    </tr>\n",
       "    <tr>\n",
       "      <th>2</th>\n",
       "      <td>hey man i am really not trying to edit war it ...</td>\n",
       "      <td>0</td>\n",
       "    </tr>\n",
       "    <tr>\n",
       "      <th>3</th>\n",
       "      <td>more i ca not make any real suggestion on impr...</td>\n",
       "      <td>0</td>\n",
       "    </tr>\n",
       "    <tr>\n",
       "      <th>4</th>\n",
       "      <td>you sir are my hero any chance you remember wh...</td>\n",
       "      <td>0</td>\n",
       "    </tr>\n",
       "  </tbody>\n",
       "</table>\n",
       "</div>"
      ],
      "text/plain": [
       "                                                text  toxic\n",
       "0  explanation why the edits made under my userna...      0\n",
       "1  d aww he match this background colour i am see...      0\n",
       "2  hey man i am really not trying to edit war it ...      0\n",
       "3  more i ca not make any real suggestion on impr...      0\n",
       "4  you sir are my hero any chance you remember wh...      0"
      ]
     },
     "execution_count": 9,
     "metadata": {},
     "output_type": "execute_result"
    }
   ],
   "source": [
    "data['text'] = data['text'].apply(text_cleaner)\n",
    "data.head()"
   ]
  },
  {
   "cell_type": "markdown",
   "metadata": {},
   "source": [
    "### Длина"
   ]
  },
  {
   "cell_type": "markdown",
   "metadata": {},
   "source": [
    "Возможно, что между токсичностью и длиной есть корреляция."
   ]
  },
  {
   "cell_type": "code",
   "execution_count": 10,
   "metadata": {},
   "outputs": [],
   "source": [
    "def find_length(x):\n",
    "    n = re.split('\\s|\\n',x)\n",
    "    return len(n)"
   ]
  },
  {
   "cell_type": "code",
   "execution_count": 11,
   "metadata": {},
   "outputs": [],
   "source": [
    "data['length'] = data['text'].apply(find_length)"
   ]
  },
  {
   "cell_type": "code",
   "execution_count": 12,
   "metadata": {},
   "outputs": [
    {
     "data": {
      "text/plain": [
       "toxic\n",
       "0    AxesSubplot(0.125,0.125;0.775x0.755)\n",
       "1    AxesSubplot(0.125,0.125;0.775x0.755)\n",
       "Name: length, dtype: object"
      ]
     },
     "execution_count": 12,
     "metadata": {},
     "output_type": "execute_result"
    },
    {
     "data": {
      "image/png": "[encoded data removed]",
      "text/plain": [
       "<Figure size 1080x576 with 1 Axes>"
      ]
     },
     "metadata": {
      "needs_background": "light"
     },
     "output_type": "display_data"
    }
   ],
   "source": [
    "data.groupby('toxic')['length'].plot.hist(figsize = (15,8), legend=True, bins = [x*25 for x in range(40)], density = True,alpha = 0.5)"
   ]
  },
  {
   "cell_type": "markdown",
   "metadata": {},
   "source": [
    "Короткие сообщения чаще бывают токсичными, но с длинными ситуация перерастает в противоположную, при этом большинство сообщений короткие. Эту инофрмацию можно будет использовать, если потребуется улучшать модель."
   ]
  },
  {
   "cell_type": "markdown",
   "metadata": {},
   "source": [
    "## Обучение"
   ]
  },
  {
   "cell_type": "code",
   "execution_count": 13,
   "metadata": {},
   "outputs": [],
   "source": [
    "stopwords = set(nltk_stopwords.words('english'))\n",
    "tf_idf = TfidfVectorizer(stop_words=stopwords)"
   ]
  },
  {
   "cell_type": "code",
   "execution_count": 14,
   "metadata": {},
   "outputs": [],
   "source": [
    "features_train, features_test, target_train, target_test = train_test_split(data['text'],\n",
    "                                                                            data['toxic'],\n",
    "                                                                            test_size = 0.4,\n",
    "                                                                            random_state=13,\n",
    "                                                                            stratify=data['toxic'])\n",
    "\n",
    "features_valid, features_test, target_valid, target_test = train_test_split(features_test,\n",
    "                                                                            target_test,\n",
    "                                                                            test_size = 0.5,\n",
    "                                                                            random_state=13,\n",
    "                                                                            stratify=target_test)"
   ]
  },
  {
   "cell_type": "code",
   "execution_count": 15,
   "metadata": {},
   "outputs": [],
   "source": [
    "features_train_full = pd.concat([features_train,features_valid])\n",
    "target_train_full = pd.concat([target_train,target_valid])"
   ]
  },
  {
   "cell_type": "code",
   "execution_count": 16,
   "metadata": {},
   "outputs": [],
   "source": [
    "train_full_index = features_train_full.index\n",
    "test_index = target_test.index"
   ]
  },
  {
   "cell_type": "code",
   "execution_count": 17,
   "metadata": {},
   "outputs": [],
   "source": [
    "features_train_full = tf_idf.fit_transform(features_train_full.values)\n",
    "features_test_full = tf_idf.transform(features_test.values)"
   ]
  },
  {
   "cell_type": "code",
   "execution_count": 18,
   "metadata": {},
   "outputs": [],
   "source": [
    "features_train = tf_idf.fit_transform(features_train.values)\n",
    "features_valid = tf_idf.transform(features_valid.values)\n",
    "features_test = tf_idf.transform(features_test.values)"
   ]
  },
  {
   "cell_type": "markdown",
   "metadata": {},
   "source": [
    "### Логистическая регрессия"
   ]
  },
  {
   "cell_type": "code",
   "execution_count": 19,
   "metadata": {},
   "outputs": [],
   "source": [
    "feat_length = features_train.shape[0]\n",
    "valid_length = features_valid.shape[0]"
   ]
  },
  {
   "cell_type": "code",
   "execution_count": 20,
   "metadata": {},
   "outputs": [],
   "source": [
    "features_trainx = vstack((features_train,features_valid))"
   ]
  },
  {
   "cell_type": "code",
   "execution_count": 21,
   "metadata": {},
   "outputs": [],
   "source": [
    "train_indices = np.full((feat_length,), -1, dtype=int)\n",
    "valid_indices = np.full((valid_length,), 0, dtype=int)\n",
    "valid_fold = np.append(train_indices, valid_indices)"
   ]
  },
  {
   "cell_type": "code",
   "execution_count": 22,
   "metadata": {},
   "outputs": [],
   "source": [
    "ps = PredefinedSplit(valid_fold)"
   ]
  },
  {
   "cell_type": "markdown",
   "metadata": {},
   "source": [
    "<div class=\"alert alert-block alert-info\">\n",
    "<b>Совет: </b> Приводить тексты к юникоду не имеет смысла, так как они все на английском.\n",
    "</div>\n",
    "\n",
    "<div class=\"alert alert-block alert-success\">\n",
    "<b>Успех:</b> Отлично, что векторизатор был обучен только на тренировочной части данных. Это умнеьшает переобучение.\n",
    "</div>"
   ]
  },
  {
   "cell_type": "code",
   "execution_count": 23,
   "metadata": {},
   "outputs": [],
   "source": [
    "model = LogisticRegression()"
   ]
  },
  {
   "cell_type": "code",
   "execution_count": 24,
   "metadata": {},
   "outputs": [
    {
     "name": "stdout",
     "output_type": "stream",
     "text": [
      "Fitting 1 folds for each of 9 candidates, totalling 9 fits\n",
      "[CV] END C=1.0, class_weight=None, max_iter=200, penalty=l1, random_state=13, solver=saga; total time=  26.8s\n",
      "[CV] END C=1.0, class_weight=None, max_iter=200, penalty=l2, random_state=13, solver=saga; total time=   1.6s\n",
      "[CV] END C=1.0, class_weight=None, max_iter=200, penalty=elasticnet, random_state=13, solver=saga; total time=   0.0s\n",
      "[CV] END C=1.2, class_weight=None, max_iter=200, penalty=l1, random_state=13, solver=saga; total time=  30.1s\n",
      "[CV] END C=1.2, class_weight=None, max_iter=200, penalty=l2, random_state=13, solver=saga; total time=   1.7s\n",
      "[CV] END C=1.2, class_weight=None, max_iter=200, penalty=elasticnet, random_state=13, solver=saga; total time=   0.0s\n",
      "[CV] END C=1.4, class_weight=None, max_iter=200, penalty=l1, random_state=13, solver=saga; total time=  42.7s\n",
      "[CV] END C=1.4, class_weight=None, max_iter=200, penalty=l2, random_state=13, solver=saga; total time=   1.6s\n",
      "[CV] END C=1.4, class_weight=None, max_iter=200, penalty=elasticnet, random_state=13, solver=saga; total time=   0.0s\n",
      "CPU times: total: 1min 45s\n",
      "Wall time: 1min 45s\n"
     ]
    },
    {
     "name": "stderr",
     "output_type": "stream",
     "text": [
      "p:\\program files\\python39\\lib\\site-packages\\sklearn\\model_selection\\_validation.py:372: FitFailedWarning: \n",
      "3 fits failed out of a total of 9.\n",
      "The score on these train-test partitions for these parameters will be set to nan.\n",
      "If these failures are not expected, you can try to debug them by setting error_score='raise'.\n",
      "\n",
      "Below are more details about the failures:\n",
      "--------------------------------------------------------------------------------\n",
      "3 fits failed with the following error:\n",
      "Traceback (most recent call last):\n",
      "  File \"p:\\program files\\python39\\lib\\site-packages\\sklearn\\model_selection\\_validation.py\", line 680, in _fit_and_score\n",
      "    estimator.fit(X_train, y_train, **fit_params)\n",
      "  File \"p:\\program files\\python39\\lib\\site-packages\\sklearn\\linear_model\\_logistic.py\", line 1471, in fit\n",
      "    raise ValueError(\n",
      "ValueError: l1_ratio must be between 0 and 1; got (l1_ratio=None)\n",
      "\n",
      "  warnings.warn(some_fits_failed_message, FitFailedWarning)\n",
      "p:\\program files\\python39\\lib\\site-packages\\sklearn\\model_selection\\_search.py:969: UserWarning: One or more of the test scores are non-finite: [0.77086972 0.72389181        nan 0.77054021 0.72930233        nan\n",
      " 0.77143845 0.73763838        nan]\n",
      "  warnings.warn(\n"
     ]
    },
    {
     "data": {
      "text/plain": [
       "{'C': 1.4,\n",
       " 'class_weight': None,\n",
       " 'max_iter': 200,\n",
       " 'penalty': 'l1',\n",
       " 'random_state': 13,\n",
       " 'solver': 'saga'}"
      ]
     },
     "execution_count": 24,
     "metadata": {},
     "output_type": "execute_result"
    }
   ],
   "source": [
    "%%time\n",
    "parameters = {'class_weight': [None],\n",
    "              'penalty': ['l1','l2','elasticnet'],\n",
    "              'C': [1.0,1.2,1.4],\n",
    "             'random_state': [13],\n",
    "             'solver': ['saga'],\n",
    "             'max_iter': [200]\n",
    "             }\n",
    "\n",
    "log_model = GridSearchCV(model, param_grid=parameters, scoring='f1',cv = ps, verbose=2, refit=0)\n",
    "\n",
    "log_model.fit(features_trainx, target_train_full)\n",
    "\n",
    "params = log_model.best_params_\n",
    "params"
   ]
  },
  {
   "cell_type": "code",
   "execution_count": 25,
   "metadata": {},
   "outputs": [
    {
     "data": {
      "text/plain": [
       "0.7714384508990318"
      ]
     },
     "execution_count": 25,
     "metadata": {},
     "output_type": "execute_result"
    }
   ],
   "source": [
    "log_model.best_score_"
   ]
  },
  {
   "cell_type": "markdown",
   "metadata": {},
   "source": [
    "Проверим на тестовой:"
   ]
  },
  {
   "cell_type": "code",
   "execution_count": 26,
   "metadata": {},
   "outputs": [
    {
     "data": {
      "text/plain": [
       "LogisticRegression(C=1.4, max_iter=200, penalty='l1', random_state=13,\n",
       "                   solver='saga')"
      ]
     },
     "execution_count": 26,
     "metadata": {},
     "output_type": "execute_result"
    }
   ],
   "source": [
    "log_best = LogisticRegression(**params)\n",
    "log_best.fit(features_train_full,target_train_full)"
   ]
  },
  {
   "cell_type": "code",
   "execution_count": 27,
   "metadata": {},
   "outputs": [],
   "source": [
    "prediction = log_best.predict(features_test_full)"
   ]
  },
  {
   "cell_type": "code",
   "execution_count": 28,
   "metadata": {},
   "outputs": [
    {
     "data": {
      "text/plain": [
       "0.7823234938719144"
      ]
     },
     "execution_count": 28,
     "metadata": {},
     "output_type": "execute_result"
    }
   ],
   "source": [
    "f1_score(target_test,prediction)"
   ]
  },
  {
   "cell_type": "markdown",
   "metadata": {},
   "source": [
    "Логистическая регрессия дала очень хороший результат."
   ]
  },
  {
   "cell_type": "code",
   "execution_count": 29,
   "metadata": {},
   "outputs": [],
   "source": [
    "test_proba = log_best.predict_proba(features_test_full)"
   ]
  },
  {
   "cell_type": "markdown",
   "metadata": {},
   "source": [
    "### CatBoost"
   ]
  },
  {
   "cell_type": "code",
   "execution_count": 30,
   "metadata": {},
   "outputs": [],
   "source": [
    "parameters = {'iterations': 500,\n",
    "             'random_seed': 42,\n",
    "             #'task_type': 'GPU',\n",
    "             }"
   ]
  },
  {
   "cell_type": "code",
   "execution_count": 31,
   "metadata": {},
   "outputs": [],
   "source": [
    "catmodel = CatBoostClassifier(**parameters)"
   ]
  },
  {
   "cell_type": "code",
   "execution_count": 32,
   "metadata": {},
   "outputs": [
    {
     "name": "stdout",
     "output_type": "stream",
     "text": [
      "Learning rate set to 0.132187\n",
      "0:\tlearn: 0.5618747\ttest: 0.5617261\tbest: 0.5617261 (0)\ttotal: 906ms\tremaining: 7m 32s\n",
      "1:\tlearn: 0.4727648\ttest: 0.4720670\tbest: 0.4720670 (1)\ttotal: 1.55s\tremaining: 6m 25s\n",
      "2:\tlearn: 0.4071915\ttest: 0.4066672\tbest: 0.4066672 (2)\ttotal: 2.15s\tremaining: 5m 56s\n",
      "3:\tlearn: 0.3608898\ttest: 0.3604348\tbest: 0.3604348 (3)\ttotal: 2.78s\tremaining: 5m 44s\n",
      "4:\tlearn: 0.3263376\ttest: 0.3260147\tbest: 0.3260147 (4)\ttotal: 3.37s\tremaining: 5m 33s\n",
      "5:\tlearn: 0.3009436\ttest: 0.3005666\tbest: 0.3005666 (5)\ttotal: 3.98s\tremaining: 5m 27s\n",
      "6:\tlearn: 0.2833504\ttest: 0.2832981\tbest: 0.2832981 (6)\ttotal: 4.6s\tremaining: 5m 24s\n",
      "7:\tlearn: 0.2693950\ttest: 0.2691920\tbest: 0.2691920 (7)\ttotal: 5.26s\tremaining: 5m 23s\n",
      "8:\tlearn: 0.2586656\ttest: 0.2586621\tbest: 0.2586621 (8)\ttotal: 5.91s\tremaining: 5m 22s\n",
      "9:\tlearn: 0.2491071\ttest: 0.2491115\tbest: 0.2491115 (9)\ttotal: 6.55s\tremaining: 5m 21s\n",
      "10:\tlearn: 0.2421459\ttest: 0.2422859\tbest: 0.2422859 (10)\ttotal: 7.17s\tremaining: 5m 18s\n",
      "11:\tlearn: 0.2366527\ttest: 0.2370738\tbest: 0.2370738 (11)\ttotal: 7.77s\tremaining: 5m 15s\n",
      "12:\tlearn: 0.2323483\ttest: 0.2327227\tbest: 0.2327227 (12)\ttotal: 8.36s\tremaining: 5m 13s\n",
      "13:\tlearn: 0.2285114\ttest: 0.2288798\tbest: 0.2288798 (13)\ttotal: 8.96s\tremaining: 5m 11s\n",
      "14:\tlearn: 0.2253005\ttest: 0.2257068\tbest: 0.2257068 (14)\ttotal: 9.55s\tremaining: 5m 8s\n",
      "15:\tlearn: 0.2225320\ttest: 0.2231677\tbest: 0.2231677 (15)\ttotal: 10.2s\tremaining: 5m 7s\n",
      "16:\tlearn: 0.2203091\ttest: 0.2211282\tbest: 0.2211282 (16)\ttotal: 10.8s\tremaining: 5m 6s\n",
      "17:\tlearn: 0.2179770\ttest: 0.2188861\tbest: 0.2188861 (17)\ttotal: 11.4s\tremaining: 5m 4s\n",
      "18:\tlearn: 0.2154027\ttest: 0.2161262\tbest: 0.2161262 (18)\ttotal: 12s\tremaining: 5m 3s\n",
      "19:\tlearn: 0.2135521\ttest: 0.2142266\tbest: 0.2142266 (19)\ttotal: 12.6s\tremaining: 5m 3s\n",
      "20:\tlearn: 0.2119529\ttest: 0.2128394\tbest: 0.2128394 (20)\ttotal: 13.3s\tremaining: 5m 2s\n",
      "21:\tlearn: 0.2097435\ttest: 0.2105637\tbest: 0.2105637 (21)\ttotal: 13.9s\tremaining: 5m 2s\n",
      "22:\tlearn: 0.2084161\ttest: 0.2094833\tbest: 0.2094833 (22)\ttotal: 14.5s\tremaining: 5m 1s\n",
      "23:\tlearn: 0.2070772\ttest: 0.2082137\tbest: 0.2082137 (23)\ttotal: 15.2s\tremaining: 5m 1s\n",
      "24:\tlearn: 0.2059047\ttest: 0.2070980\tbest: 0.2070980 (24)\ttotal: 15.9s\tremaining: 5m 1s\n",
      "25:\tlearn: 0.2046723\ttest: 0.2059474\tbest: 0.2059474 (25)\ttotal: 16.5s\tremaining: 5m 1s\n",
      "26:\tlearn: 0.2033624\ttest: 0.2046007\tbest: 0.2046007 (26)\ttotal: 17.2s\tremaining: 5m 1s\n",
      "27:\tlearn: 0.2022980\ttest: 0.2036094\tbest: 0.2036094 (27)\ttotal: 17.9s\tremaining: 5m 1s\n",
      "28:\tlearn: 0.2006011\ttest: 0.2020622\tbest: 0.2020622 (28)\ttotal: 18.5s\tremaining: 5m\n",
      "29:\tlearn: 0.1994045\ttest: 0.2007389\tbest: 0.2007389 (29)\ttotal: 19.2s\tremaining: 5m\n",
      "30:\tlearn: 0.1981083\ttest: 0.1996078\tbest: 0.1996078 (30)\ttotal: 20s\tremaining: 5m 2s\n",
      "31:\tlearn: 0.1970812\ttest: 0.1986564\tbest: 0.1986564 (31)\ttotal: 20.6s\tremaining: 5m 1s\n",
      "32:\tlearn: 0.1962588\ttest: 0.1980169\tbest: 0.1980169 (32)\ttotal: 21.2s\tremaining: 5m\n",
      "33:\tlearn: 0.1950061\ttest: 0.1968126\tbest: 0.1968126 (33)\ttotal: 21.9s\tremaining: 5m\n",
      "34:\tlearn: 0.1940208\ttest: 0.1957274\tbest: 0.1957274 (34)\ttotal: 22.7s\tremaining: 5m 1s\n",
      "35:\tlearn: 0.1928945\ttest: 0.1946011\tbest: 0.1946011 (35)\ttotal: 23.5s\tremaining: 5m 2s\n",
      "36:\tlearn: 0.1921458\ttest: 0.1940701\tbest: 0.1940701 (36)\ttotal: 24.2s\tremaining: 5m 2s\n",
      "37:\tlearn: 0.1912171\ttest: 0.1932238\tbest: 0.1932238 (37)\ttotal: 24.8s\tremaining: 5m 1s\n",
      "38:\tlearn: 0.1901150\ttest: 0.1921021\tbest: 0.1921021 (38)\ttotal: 25.5s\tremaining: 5m\n",
      "39:\tlearn: 0.1893360\ttest: 0.1913813\tbest: 0.1913813 (39)\ttotal: 26.1s\tremaining: 4m 59s\n",
      "40:\tlearn: 0.1884763\ttest: 0.1905122\tbest: 0.1905122 (40)\ttotal: 26.7s\tremaining: 4m 59s\n",
      "41:\tlearn: 0.1878313\ttest: 0.1899170\tbest: 0.1899170 (41)\ttotal: 27.4s\tremaining: 4m 58s\n",
      "42:\tlearn: 0.1868676\ttest: 0.1891139\tbest: 0.1891139 (42)\ttotal: 28s\tremaining: 4m 57s\n",
      "43:\tlearn: 0.1856326\ttest: 0.1879543\tbest: 0.1879543 (43)\ttotal: 28.6s\tremaining: 4m 56s\n",
      "44:\tlearn: 0.1850601\ttest: 0.1874015\tbest: 0.1874015 (44)\ttotal: 29.2s\tremaining: 4m 55s\n",
      "45:\tlearn: 0.1843975\ttest: 0.1867908\tbest: 0.1867908 (45)\ttotal: 29.8s\tremaining: 4m 54s\n",
      "46:\tlearn: 0.1834197\ttest: 0.1859616\tbest: 0.1859616 (46)\ttotal: 30.4s\tremaining: 4m 53s\n",
      "47:\tlearn: 0.1828721\ttest: 0.1854746\tbest: 0.1854746 (47)\ttotal: 31s\tremaining: 4m 52s\n",
      "48:\tlearn: 0.1823074\ttest: 0.1849538\tbest: 0.1849538 (48)\ttotal: 31.6s\tremaining: 4m 51s\n",
      "49:\tlearn: 0.1816216\ttest: 0.1843926\tbest: 0.1843926 (49)\ttotal: 32.2s\tremaining: 4m 50s\n",
      "50:\tlearn: 0.1810841\ttest: 0.1839550\tbest: 0.1839550 (50)\ttotal: 32.8s\tremaining: 4m 48s\n",
      "51:\tlearn: 0.1803760\ttest: 0.1834295\tbest: 0.1834295 (51)\ttotal: 33.4s\tremaining: 4m 47s\n",
      "52:\tlearn: 0.1798586\ttest: 0.1829440\tbest: 0.1829440 (52)\ttotal: 34s\tremaining: 4m 47s\n",
      "53:\tlearn: 0.1793526\ttest: 0.1825726\tbest: 0.1825726 (53)\ttotal: 34.6s\tremaining: 4m 46s\n",
      "54:\tlearn: 0.1787956\ttest: 0.1819631\tbest: 0.1819631 (54)\ttotal: 35.2s\tremaining: 4m 45s\n",
      "55:\tlearn: 0.1783125\ttest: 0.1815162\tbest: 0.1815162 (55)\ttotal: 35.9s\tremaining: 4m 44s\n",
      "56:\tlearn: 0.1776756\ttest: 0.1808051\tbest: 0.1808051 (56)\ttotal: 36.5s\tremaining: 4m 43s\n",
      "57:\tlearn: 0.1771260\ttest: 0.1803183\tbest: 0.1803183 (57)\ttotal: 37.1s\tremaining: 4m 42s\n",
      "58:\tlearn: 0.1765773\ttest: 0.1798650\tbest: 0.1798650 (58)\ttotal: 37.7s\tremaining: 4m 41s\n",
      "59:\tlearn: 0.1760845\ttest: 0.1793722\tbest: 0.1793722 (59)\ttotal: 38.3s\tremaining: 4m 40s\n",
      "60:\tlearn: 0.1754351\ttest: 0.1787781\tbest: 0.1787781 (60)\ttotal: 38.9s\tremaining: 4m 40s\n",
      "61:\tlearn: 0.1749091\ttest: 0.1783327\tbest: 0.1783327 (61)\ttotal: 39.5s\tremaining: 4m 39s\n",
      "62:\tlearn: 0.1743012\ttest: 0.1777745\tbest: 0.1777745 (62)\ttotal: 40.2s\tremaining: 4m 38s\n",
      "63:\tlearn: 0.1739018\ttest: 0.1775067\tbest: 0.1775067 (63)\ttotal: 40.8s\tremaining: 4m 38s\n",
      "64:\tlearn: 0.1733057\ttest: 0.1770709\tbest: 0.1770709 (64)\ttotal: 41.4s\tremaining: 4m 37s\n",
      "65:\tlearn: 0.1727541\ttest: 0.1765545\tbest: 0.1765545 (65)\ttotal: 42s\tremaining: 4m 36s\n",
      "66:\tlearn: 0.1723548\ttest: 0.1762830\tbest: 0.1762830 (66)\ttotal: 42.6s\tremaining: 4m 35s\n",
      "67:\tlearn: 0.1716644\ttest: 0.1756440\tbest: 0.1756440 (67)\ttotal: 43.2s\tremaining: 4m 34s\n",
      "68:\tlearn: 0.1710963\ttest: 0.1750391\tbest: 0.1750391 (68)\ttotal: 43.8s\tremaining: 4m 33s\n",
      "69:\tlearn: 0.1707663\ttest: 0.1747121\tbest: 0.1747121 (69)\ttotal: 44.4s\tremaining: 4m 32s\n",
      "70:\tlearn: 0.1702334\ttest: 0.1743302\tbest: 0.1743302 (70)\ttotal: 45s\tremaining: 4m 32s\n",
      "71:\tlearn: 0.1698153\ttest: 0.1738922\tbest: 0.1738922 (71)\ttotal: 45.7s\tremaining: 4m 31s\n",
      "72:\tlearn: 0.1694330\ttest: 0.1737203\tbest: 0.1737203 (72)\ttotal: 46.3s\tremaining: 4m 30s\n",
      "73:\tlearn: 0.1690706\ttest: 0.1734358\tbest: 0.1734358 (73)\ttotal: 46.9s\tremaining: 4m 29s\n",
      "74:\tlearn: 0.1687107\ttest: 0.1731224\tbest: 0.1731224 (74)\ttotal: 47.5s\tremaining: 4m 29s\n",
      "75:\tlearn: 0.1683169\ttest: 0.1727281\tbest: 0.1727281 (75)\ttotal: 48.1s\tremaining: 4m 28s\n",
      "76:\tlearn: 0.1679434\ttest: 0.1723914\tbest: 0.1723914 (76)\ttotal: 48.7s\tremaining: 4m 27s\n",
      "77:\tlearn: 0.1674637\ttest: 0.1719739\tbest: 0.1719739 (77)\ttotal: 49.3s\tremaining: 4m 26s\n",
      "78:\tlearn: 0.1671678\ttest: 0.1717331\tbest: 0.1717331 (78)\ttotal: 49.9s\tremaining: 4m 26s\n",
      "79:\tlearn: 0.1668386\ttest: 0.1714639\tbest: 0.1714639 (79)\ttotal: 50.5s\tremaining: 4m 25s\n",
      "80:\tlearn: 0.1664951\ttest: 0.1712292\tbest: 0.1712292 (80)\ttotal: 51.1s\tremaining: 4m 24s\n",
      "81:\tlearn: 0.1660743\ttest: 0.1709015\tbest: 0.1709015 (81)\ttotal: 51.8s\tremaining: 4m 23s\n",
      "82:\tlearn: 0.1656970\ttest: 0.1706078\tbest: 0.1706078 (82)\ttotal: 52.5s\tremaining: 4m 23s\n",
      "83:\tlearn: 0.1651932\ttest: 0.1701958\tbest: 0.1701958 (83)\ttotal: 53.2s\tremaining: 4m 23s\n",
      "84:\tlearn: 0.1645320\ttest: 0.1695897\tbest: 0.1695897 (84)\ttotal: 53.8s\tremaining: 4m 22s\n",
      "85:\tlearn: 0.1642481\ttest: 0.1693180\tbest: 0.1693180 (85)\ttotal: 54.4s\tremaining: 4m 21s\n",
      "86:\tlearn: 0.1639166\ttest: 0.1691145\tbest: 0.1691145 (86)\ttotal: 55s\tremaining: 4m 21s\n",
      "87:\tlearn: 0.1634158\ttest: 0.1686522\tbest: 0.1686522 (87)\ttotal: 55.6s\tremaining: 4m 20s\n",
      "88:\tlearn: 0.1630721\ttest: 0.1684445\tbest: 0.1684445 (88)\ttotal: 56.2s\tremaining: 4m 19s\n",
      "89:\tlearn: 0.1625703\ttest: 0.1679931\tbest: 0.1679931 (89)\ttotal: 56.8s\tremaining: 4m 18s\n",
      "90:\tlearn: 0.1622136\ttest: 0.1676746\tbest: 0.1676746 (90)\ttotal: 57.4s\tremaining: 4m 18s\n",
      "91:\tlearn: 0.1618138\ttest: 0.1672284\tbest: 0.1672284 (91)\ttotal: 58s\tremaining: 4m 17s\n",
      "92:\tlearn: 0.1615703\ttest: 0.1671246\tbest: 0.1671246 (92)\ttotal: 58.6s\tremaining: 4m 16s\n"
     ]
    },
    {
     "name": "stdout",
     "output_type": "stream",
     "text": [
      "93:\tlearn: 0.1612855\ttest: 0.1669821\tbest: 0.1669821 (93)\ttotal: 59.3s\tremaining: 4m 15s\n",
      "94:\tlearn: 0.1609380\ttest: 0.1666772\tbest: 0.1666772 (94)\ttotal: 59.9s\tremaining: 4m 15s\n",
      "95:\tlearn: 0.1605449\ttest: 0.1663631\tbest: 0.1663631 (95)\ttotal: 1m\tremaining: 4m 14s\n",
      "96:\tlearn: 0.1602504\ttest: 0.1662196\tbest: 0.1662196 (96)\ttotal: 1m 1s\tremaining: 4m 13s\n",
      "97:\tlearn: 0.1597933\ttest: 0.1658103\tbest: 0.1658103 (97)\ttotal: 1m 1s\tremaining: 4m 13s\n",
      "98:\tlearn: 0.1592262\ttest: 0.1651836\tbest: 0.1651836 (98)\ttotal: 1m 2s\tremaining: 4m 12s\n",
      "99:\tlearn: 0.1589851\ttest: 0.1650065\tbest: 0.1650065 (99)\ttotal: 1m 2s\tremaining: 4m 11s\n",
      "100:\tlearn: 0.1587033\ttest: 0.1647313\tbest: 0.1647313 (100)\ttotal: 1m 3s\tremaining: 4m 10s\n",
      "101:\tlearn: 0.1583200\ttest: 0.1642635\tbest: 0.1642635 (101)\ttotal: 1m 4s\tremaining: 4m 10s\n",
      "102:\tlearn: 0.1579163\ttest: 0.1637721\tbest: 0.1637721 (102)\ttotal: 1m 4s\tremaining: 4m 9s\n",
      "103:\tlearn: 0.1575962\ttest: 0.1635359\tbest: 0.1635359 (103)\ttotal: 1m 5s\tremaining: 4m 9s\n",
      "104:\tlearn: 0.1571841\ttest: 0.1631330\tbest: 0.1631330 (104)\ttotal: 1m 6s\tremaining: 4m 8s\n",
      "105:\tlearn: 0.1567965\ttest: 0.1628094\tbest: 0.1628094 (105)\ttotal: 1m 6s\tremaining: 4m 8s\n",
      "106:\tlearn: 0.1565118\ttest: 0.1625395\tbest: 0.1625395 (106)\ttotal: 1m 7s\tremaining: 4m 7s\n",
      "107:\tlearn: 0.1562796\ttest: 0.1623746\tbest: 0.1623746 (107)\ttotal: 1m 7s\tremaining: 4m 6s\n",
      "108:\tlearn: 0.1559781\ttest: 0.1621421\tbest: 0.1621421 (108)\ttotal: 1m 8s\tremaining: 4m 5s\n",
      "109:\tlearn: 0.1557316\ttest: 0.1619071\tbest: 0.1619071 (109)\ttotal: 1m 9s\tremaining: 4m 5s\n",
      "110:\tlearn: 0.1553265\ttest: 0.1614533\tbest: 0.1614533 (110)\ttotal: 1m 9s\tremaining: 4m 4s\n",
      "111:\tlearn: 0.1549264\ttest: 0.1611777\tbest: 0.1611777 (111)\ttotal: 1m 10s\tremaining: 4m 3s\n",
      "112:\tlearn: 0.1546315\ttest: 0.1609844\tbest: 0.1609844 (112)\ttotal: 1m 10s\tremaining: 4m 3s\n",
      "113:\tlearn: 0.1543558\ttest: 0.1607736\tbest: 0.1607736 (113)\ttotal: 1m 11s\tremaining: 4m 2s\n",
      "114:\tlearn: 0.1540551\ttest: 0.1604633\tbest: 0.1604633 (114)\ttotal: 1m 12s\tremaining: 4m 1s\n",
      "115:\tlearn: 0.1537980\ttest: 0.1602773\tbest: 0.1602773 (115)\ttotal: 1m 12s\tremaining: 4m 1s\n",
      "116:\tlearn: 0.1534900\ttest: 0.1600527\tbest: 0.1600527 (116)\ttotal: 1m 13s\tremaining: 4m\n",
      "117:\tlearn: 0.1532840\ttest: 0.1598395\tbest: 0.1598395 (117)\ttotal: 1m 14s\tremaining: 4m\n",
      "118:\tlearn: 0.1528003\ttest: 0.1595097\tbest: 0.1595097 (118)\ttotal: 1m 14s\tremaining: 3m 59s\n",
      "119:\tlearn: 0.1525784\ttest: 0.1593655\tbest: 0.1593655 (119)\ttotal: 1m 15s\tremaining: 3m 59s\n",
      "120:\tlearn: 0.1521912\ttest: 0.1589733\tbest: 0.1589733 (120)\ttotal: 1m 16s\tremaining: 3m 58s\n",
      "121:\tlearn: 0.1519565\ttest: 0.1587979\tbest: 0.1587979 (121)\ttotal: 1m 16s\tremaining: 3m 57s\n",
      "122:\tlearn: 0.1516371\ttest: 0.1585687\tbest: 0.1585687 (122)\ttotal: 1m 17s\tremaining: 3m 57s\n",
      "123:\tlearn: 0.1513170\ttest: 0.1583418\tbest: 0.1583418 (123)\ttotal: 1m 18s\tremaining: 3m 56s\n",
      "124:\tlearn: 0.1510491\ttest: 0.1581607\tbest: 0.1581607 (124)\ttotal: 1m 18s\tremaining: 3m 56s\n",
      "125:\tlearn: 0.1507815\ttest: 0.1578812\tbest: 0.1578812 (125)\ttotal: 1m 19s\tremaining: 3m 55s\n",
      "126:\tlearn: 0.1505133\ttest: 0.1576388\tbest: 0.1576388 (126)\ttotal: 1m 19s\tremaining: 3m 54s\n",
      "127:\tlearn: 0.1503499\ttest: 0.1575688\tbest: 0.1575688 (127)\ttotal: 1m 20s\tremaining: 3m 54s\n",
      "128:\tlearn: 0.1500668\ttest: 0.1573354\tbest: 0.1573354 (128)\ttotal: 1m 21s\tremaining: 3m 53s\n",
      "129:\tlearn: 0.1498047\ttest: 0.1571279\tbest: 0.1571279 (129)\ttotal: 1m 21s\tremaining: 3m 53s\n",
      "130:\tlearn: 0.1495570\ttest: 0.1568324\tbest: 0.1568324 (130)\ttotal: 1m 22s\tremaining: 3m 52s\n",
      "131:\tlearn: 0.1493409\ttest: 0.1566888\tbest: 0.1566888 (131)\ttotal: 1m 23s\tremaining: 3m 51s\n",
      "132:\tlearn: 0.1490950\ttest: 0.1565089\tbest: 0.1565089 (132)\ttotal: 1m 23s\tremaining: 3m 51s\n",
      "133:\tlearn: 0.1487574\ttest: 0.1561982\tbest: 0.1561982 (133)\ttotal: 1m 24s\tremaining: 3m 50s\n",
      "134:\tlearn: 0.1485750\ttest: 0.1561344\tbest: 0.1561344 (134)\ttotal: 1m 25s\tremaining: 3m 49s\n",
      "135:\tlearn: 0.1483566\ttest: 0.1560223\tbest: 0.1560223 (135)\ttotal: 1m 25s\tremaining: 3m 49s\n",
      "136:\tlearn: 0.1482092\ttest: 0.1559903\tbest: 0.1559903 (136)\ttotal: 1m 26s\tremaining: 3m 48s\n",
      "137:\tlearn: 0.1478626\ttest: 0.1557497\tbest: 0.1557497 (137)\ttotal: 1m 26s\tremaining: 3m 48s\n",
      "138:\tlearn: 0.1476085\ttest: 0.1554740\tbest: 0.1554740 (138)\ttotal: 1m 27s\tremaining: 3m 47s\n",
      "139:\tlearn: 0.1474312\ttest: 0.1553132\tbest: 0.1553132 (139)\ttotal: 1m 28s\tremaining: 3m 46s\n",
      "140:\tlearn: 0.1472129\ttest: 0.1552037\tbest: 0.1552037 (140)\ttotal: 1m 28s\tremaining: 3m 46s\n",
      "141:\tlearn: 0.1470044\ttest: 0.1550458\tbest: 0.1550458 (141)\ttotal: 1m 29s\tremaining: 3m 45s\n",
      "142:\tlearn: 0.1467196\ttest: 0.1548926\tbest: 0.1548926 (142)\ttotal: 1m 30s\tremaining: 3m 44s\n",
      "143:\tlearn: 0.1465782\ttest: 0.1548599\tbest: 0.1548599 (143)\ttotal: 1m 30s\tremaining: 3m 44s\n",
      "144:\tlearn: 0.1464372\ttest: 0.1547852\tbest: 0.1547852 (144)\ttotal: 1m 31s\tremaining: 3m 43s\n",
      "145:\tlearn: 0.1462441\ttest: 0.1545947\tbest: 0.1545947 (145)\ttotal: 1m 31s\tremaining: 3m 42s\n",
      "146:\tlearn: 0.1461136\ttest: 0.1545602\tbest: 0.1545602 (146)\ttotal: 1m 32s\tremaining: 3m 42s\n",
      "147:\tlearn: 0.1458865\ttest: 0.1544309\tbest: 0.1544309 (147)\ttotal: 1m 33s\tremaining: 3m 41s\n",
      "148:\tlearn: 0.1456709\ttest: 0.1541770\tbest: 0.1541770 (148)\ttotal: 1m 33s\tremaining: 3m 40s\n",
      "149:\tlearn: 0.1454470\ttest: 0.1540731\tbest: 0.1540731 (149)\ttotal: 1m 34s\tremaining: 3m 40s\n",
      "150:\tlearn: 0.1451856\ttest: 0.1538608\tbest: 0.1538608 (150)\ttotal: 1m 34s\tremaining: 3m 39s\n",
      "151:\tlearn: 0.1448610\ttest: 0.1535942\tbest: 0.1535942 (151)\ttotal: 1m 35s\tremaining: 3m 38s\n",
      "152:\tlearn: 0.1446295\ttest: 0.1533503\tbest: 0.1533503 (152)\ttotal: 1m 36s\tremaining: 3m 38s\n",
      "153:\tlearn: 0.1444067\ttest: 0.1531670\tbest: 0.1531670 (153)\ttotal: 1m 36s\tremaining: 3m 37s\n",
      "154:\tlearn: 0.1442070\ttest: 0.1529940\tbest: 0.1529940 (154)\ttotal: 1m 37s\tremaining: 3m 36s\n",
      "155:\tlearn: 0.1439160\ttest: 0.1528111\tbest: 0.1528111 (155)\ttotal: 1m 38s\tremaining: 3m 36s\n",
      "156:\tlearn: 0.1437908\ttest: 0.1528054\tbest: 0.1528054 (156)\ttotal: 1m 38s\tremaining: 3m 35s\n",
      "157:\tlearn: 0.1436383\ttest: 0.1527104\tbest: 0.1527104 (157)\ttotal: 1m 39s\tremaining: 3m 34s\n",
      "158:\tlearn: 0.1433505\ttest: 0.1524256\tbest: 0.1524256 (158)\ttotal: 1m 39s\tremaining: 3m 34s\n",
      "159:\tlearn: 0.1431080\ttest: 0.1521864\tbest: 0.1521864 (159)\ttotal: 1m 40s\tremaining: 3m 33s\n",
      "160:\tlearn: 0.1428282\ttest: 0.1519563\tbest: 0.1519563 (160)\ttotal: 1m 41s\tremaining: 3m 32s\n",
      "161:\tlearn: 0.1425777\ttest: 0.1517419\tbest: 0.1517419 (161)\ttotal: 1m 41s\tremaining: 3m 32s\n",
      "162:\tlearn: 0.1424258\ttest: 0.1516545\tbest: 0.1516545 (162)\ttotal: 1m 42s\tremaining: 3m 31s\n",
      "163:\tlearn: 0.1422600\ttest: 0.1515158\tbest: 0.1515158 (163)\ttotal: 1m 42s\tremaining: 3m 30s\n",
      "164:\tlearn: 0.1421078\ttest: 0.1514265\tbest: 0.1514265 (164)\ttotal: 1m 43s\tremaining: 3m 30s\n",
      "165:\tlearn: 0.1419949\ttest: 0.1513807\tbest: 0.1513807 (165)\ttotal: 1m 44s\tremaining: 3m 29s\n",
      "166:\tlearn: 0.1417558\ttest: 0.1511675\tbest: 0.1511675 (166)\ttotal: 1m 44s\tremaining: 3m 28s\n",
      "167:\tlearn: 0.1415339\ttest: 0.1508774\tbest: 0.1508774 (167)\ttotal: 1m 45s\tremaining: 3m 28s\n",
      "168:\tlearn: 0.1413662\ttest: 0.1506985\tbest: 0.1506985 (168)\ttotal: 1m 45s\tremaining: 3m 27s\n",
      "169:\tlearn: 0.1410924\ttest: 0.1504920\tbest: 0.1504920 (169)\ttotal: 1m 46s\tremaining: 3m 26s\n",
      "170:\tlearn: 0.1409739\ttest: 0.1503944\tbest: 0.1503944 (170)\ttotal: 1m 47s\tremaining: 3m 26s\n",
      "171:\tlearn: 0.1408290\ttest: 0.1503180\tbest: 0.1503180 (171)\ttotal: 1m 47s\tremaining: 3m 25s\n",
      "172:\tlearn: 0.1405778\ttest: 0.1500413\tbest: 0.1500413 (172)\ttotal: 1m 48s\tremaining: 3m 24s\n",
      "173:\tlearn: 0.1404303\ttest: 0.1499726\tbest: 0.1499726 (173)\ttotal: 1m 48s\tremaining: 3m 23s\n",
      "174:\tlearn: 0.1401251\ttest: 0.1497155\tbest: 0.1497155 (174)\ttotal: 1m 49s\tremaining: 3m 23s\n",
      "175:\tlearn: 0.1400070\ttest: 0.1496896\tbest: 0.1496896 (175)\ttotal: 1m 50s\tremaining: 3m 22s\n",
      "176:\tlearn: 0.1397028\ttest: 0.1494431\tbest: 0.1494431 (176)\ttotal: 1m 50s\tremaining: 3m 21s\n",
      "177:\tlearn: 0.1395997\ttest: 0.1493840\tbest: 0.1493840 (177)\ttotal: 1m 51s\tremaining: 3m 21s\n",
      "178:\tlearn: 0.1394084\ttest: 0.1492414\tbest: 0.1492414 (178)\ttotal: 1m 51s\tremaining: 3m 20s\n",
      "179:\tlearn: 0.1392452\ttest: 0.1491305\tbest: 0.1491305 (179)\ttotal: 1m 52s\tremaining: 3m 19s\n",
      "180:\tlearn: 0.1390301\ttest: 0.1489920\tbest: 0.1489920 (180)\ttotal: 1m 52s\tremaining: 3m 19s\n",
      "181:\tlearn: 0.1388457\ttest: 0.1488519\tbest: 0.1488519 (181)\ttotal: 1m 53s\tremaining: 3m 18s\n",
      "182:\tlearn: 0.1386767\ttest: 0.1487931\tbest: 0.1487931 (182)\ttotal: 1m 54s\tremaining: 3m 17s\n"
     ]
    },
    {
     "name": "stdout",
     "output_type": "stream",
     "text": [
      "183:\tlearn: 0.1385744\ttest: 0.1487620\tbest: 0.1487620 (183)\ttotal: 1m 54s\tremaining: 3m 17s\n",
      "184:\tlearn: 0.1384602\ttest: 0.1486728\tbest: 0.1486728 (184)\ttotal: 1m 55s\tremaining: 3m 16s\n",
      "185:\tlearn: 0.1383298\ttest: 0.1485648\tbest: 0.1485648 (185)\ttotal: 1m 55s\tremaining: 3m 15s\n",
      "186:\tlearn: 0.1381020\ttest: 0.1483682\tbest: 0.1483682 (186)\ttotal: 1m 56s\tremaining: 3m 14s\n",
      "187:\tlearn: 0.1380141\ttest: 0.1483717\tbest: 0.1483682 (186)\ttotal: 1m 57s\tremaining: 3m 14s\n",
      "188:\tlearn: 0.1378079\ttest: 0.1483100\tbest: 0.1483100 (188)\ttotal: 1m 57s\tremaining: 3m 13s\n",
      "189:\tlearn: 0.1377026\ttest: 0.1482363\tbest: 0.1482363 (189)\ttotal: 1m 58s\tremaining: 3m 12s\n",
      "190:\tlearn: 0.1375537\ttest: 0.1481008\tbest: 0.1481008 (190)\ttotal: 1m 58s\tremaining: 3m 12s\n",
      "191:\tlearn: 0.1373963\ttest: 0.1479425\tbest: 0.1479425 (191)\ttotal: 1m 59s\tremaining: 3m 11s\n",
      "192:\tlearn: 0.1373175\ttest: 0.1478902\tbest: 0.1478902 (192)\ttotal: 1m 59s\tremaining: 3m 10s\n",
      "193:\tlearn: 0.1372045\ttest: 0.1478296\tbest: 0.1478296 (193)\ttotal: 2m\tremaining: 3m 10s\n",
      "194:\tlearn: 0.1371157\ttest: 0.1477896\tbest: 0.1477896 (194)\ttotal: 2m 1s\tremaining: 3m 9s\n",
      "195:\tlearn: 0.1369737\ttest: 0.1477185\tbest: 0.1477185 (195)\ttotal: 2m 1s\tremaining: 3m 8s\n",
      "196:\tlearn: 0.1368117\ttest: 0.1476060\tbest: 0.1476060 (196)\ttotal: 2m 2s\tremaining: 3m 8s\n",
      "197:\tlearn: 0.1367219\ttest: 0.1475944\tbest: 0.1475944 (197)\ttotal: 2m 2s\tremaining: 3m 7s\n",
      "198:\tlearn: 0.1366283\ttest: 0.1475685\tbest: 0.1475685 (198)\ttotal: 2m 3s\tremaining: 3m 6s\n",
      "199:\tlearn: 0.1364522\ttest: 0.1473695\tbest: 0.1473695 (199)\ttotal: 2m 4s\tremaining: 3m 6s\n",
      "200:\tlearn: 0.1362769\ttest: 0.1471588\tbest: 0.1471588 (200)\ttotal: 2m 4s\tremaining: 3m 5s\n",
      "201:\tlearn: 0.1361087\ttest: 0.1470709\tbest: 0.1470709 (201)\ttotal: 2m 5s\tremaining: 3m 4s\n",
      "202:\tlearn: 0.1360283\ttest: 0.1470451\tbest: 0.1470451 (202)\ttotal: 2m 5s\tremaining: 3m 4s\n",
      "203:\tlearn: 0.1359073\ttest: 0.1469934\tbest: 0.1469934 (203)\ttotal: 2m 6s\tremaining: 3m 3s\n",
      "204:\tlearn: 0.1358082\ttest: 0.1469538\tbest: 0.1469538 (204)\ttotal: 2m 7s\tremaining: 3m 2s\n",
      "205:\tlearn: 0.1355945\ttest: 0.1467815\tbest: 0.1467815 (205)\ttotal: 2m 7s\tremaining: 3m 2s\n",
      "206:\tlearn: 0.1354744\ttest: 0.1466993\tbest: 0.1466993 (206)\ttotal: 2m 8s\tremaining: 3m 1s\n",
      "207:\tlearn: 0.1353779\ttest: 0.1466079\tbest: 0.1466079 (207)\ttotal: 2m 8s\tremaining: 3m\n",
      "208:\tlearn: 0.1351904\ttest: 0.1464808\tbest: 0.1464808 (208)\ttotal: 2m 9s\tremaining: 3m\n",
      "209:\tlearn: 0.1350173\ttest: 0.1463128\tbest: 0.1463128 (209)\ttotal: 2m 10s\tremaining: 2m 59s\n",
      "210:\tlearn: 0.1348508\ttest: 0.1461779\tbest: 0.1461779 (210)\ttotal: 2m 10s\tremaining: 2m 58s\n",
      "211:\tlearn: 0.1346942\ttest: 0.1461064\tbest: 0.1461064 (211)\ttotal: 2m 11s\tremaining: 2m 58s\n",
      "212:\tlearn: 0.1346037\ttest: 0.1460024\tbest: 0.1460024 (212)\ttotal: 2m 11s\tremaining: 2m 57s\n",
      "213:\tlearn: 0.1344303\ttest: 0.1458926\tbest: 0.1458926 (213)\ttotal: 2m 12s\tremaining: 2m 57s\n",
      "214:\tlearn: 0.1343496\ttest: 0.1458661\tbest: 0.1458661 (214)\ttotal: 2m 13s\tremaining: 2m 56s\n",
      "215:\tlearn: 0.1342540\ttest: 0.1458184\tbest: 0.1458184 (215)\ttotal: 2m 13s\tremaining: 2m 55s\n",
      "216:\tlearn: 0.1340994\ttest: 0.1457726\tbest: 0.1457726 (216)\ttotal: 2m 14s\tremaining: 2m 55s\n",
      "217:\tlearn: 0.1338705\ttest: 0.1456099\tbest: 0.1456099 (217)\ttotal: 2m 14s\tremaining: 2m 54s\n",
      "218:\tlearn: 0.1337095\ttest: 0.1454844\tbest: 0.1454844 (218)\ttotal: 2m 15s\tremaining: 2m 53s\n",
      "219:\tlearn: 0.1335385\ttest: 0.1453407\tbest: 0.1453407 (219)\ttotal: 2m 16s\tremaining: 2m 53s\n",
      "220:\tlearn: 0.1333911\ttest: 0.1452399\tbest: 0.1452399 (220)\ttotal: 2m 16s\tremaining: 2m 52s\n",
      "221:\tlearn: 0.1332983\ttest: 0.1452047\tbest: 0.1452047 (221)\ttotal: 2m 17s\tremaining: 2m 51s\n",
      "222:\tlearn: 0.1330928\ttest: 0.1449901\tbest: 0.1449901 (222)\ttotal: 2m 17s\tremaining: 2m 51s\n",
      "223:\tlearn: 0.1330162\ttest: 0.1449971\tbest: 0.1449901 (222)\ttotal: 2m 18s\tremaining: 2m 50s\n",
      "224:\tlearn: 0.1327589\ttest: 0.1448179\tbest: 0.1448179 (224)\ttotal: 2m 19s\tremaining: 2m 50s\n",
      "225:\tlearn: 0.1326587\ttest: 0.1448032\tbest: 0.1448032 (225)\ttotal: 2m 19s\tremaining: 2m 49s\n",
      "226:\tlearn: 0.1324627\ttest: 0.1446591\tbest: 0.1446591 (226)\ttotal: 2m 20s\tremaining: 2m 48s\n",
      "227:\tlearn: 0.1323058\ttest: 0.1445831\tbest: 0.1445831 (227)\ttotal: 2m 21s\tremaining: 2m 48s\n",
      "228:\tlearn: 0.1322316\ttest: 0.1445854\tbest: 0.1445831 (227)\ttotal: 2m 21s\tremaining: 2m 47s\n",
      "229:\tlearn: 0.1320409\ttest: 0.1444025\tbest: 0.1444025 (229)\ttotal: 2m 22s\tremaining: 2m 46s\n",
      "230:\tlearn: 0.1319192\ttest: 0.1443400\tbest: 0.1443400 (230)\ttotal: 2m 22s\tremaining: 2m 46s\n",
      "231:\tlearn: 0.1317535\ttest: 0.1441583\tbest: 0.1441583 (231)\ttotal: 2m 23s\tremaining: 2m 45s\n",
      "232:\tlearn: 0.1316190\ttest: 0.1440699\tbest: 0.1440699 (232)\ttotal: 2m 24s\tremaining: 2m 45s\n",
      "233:\tlearn: 0.1315430\ttest: 0.1439918\tbest: 0.1439918 (233)\ttotal: 2m 24s\tremaining: 2m 44s\n",
      "234:\tlearn: 0.1313794\ttest: 0.1438384\tbest: 0.1438384 (234)\ttotal: 2m 25s\tremaining: 2m 43s\n",
      "235:\tlearn: 0.1312563\ttest: 0.1437768\tbest: 0.1437768 (235)\ttotal: 2m 25s\tremaining: 2m 43s\n",
      "236:\tlearn: 0.1310909\ttest: 0.1437183\tbest: 0.1437183 (236)\ttotal: 2m 26s\tremaining: 2m 42s\n",
      "237:\tlearn: 0.1309109\ttest: 0.1435921\tbest: 0.1435921 (237)\ttotal: 2m 27s\tremaining: 2m 41s\n",
      "238:\tlearn: 0.1307425\ttest: 0.1434672\tbest: 0.1434672 (238)\ttotal: 2m 27s\tremaining: 2m 41s\n",
      "239:\tlearn: 0.1306716\ttest: 0.1434518\tbest: 0.1434518 (239)\ttotal: 2m 28s\tremaining: 2m 40s\n",
      "240:\tlearn: 0.1305972\ttest: 0.1434422\tbest: 0.1434422 (240)\ttotal: 2m 28s\tremaining: 2m 39s\n",
      "241:\tlearn: 0.1305333\ttest: 0.1434393\tbest: 0.1434393 (241)\ttotal: 2m 29s\tremaining: 2m 39s\n",
      "242:\tlearn: 0.1304321\ttest: 0.1433927\tbest: 0.1433927 (242)\ttotal: 2m 29s\tremaining: 2m 38s\n",
      "243:\tlearn: 0.1302980\ttest: 0.1432986\tbest: 0.1432986 (243)\ttotal: 2m 30s\tremaining: 2m 37s\n",
      "244:\tlearn: 0.1302167\ttest: 0.1432310\tbest: 0.1432310 (244)\ttotal: 2m 31s\tremaining: 2m 37s\n",
      "245:\tlearn: 0.1301336\ttest: 0.1432159\tbest: 0.1432159 (245)\ttotal: 2m 31s\tremaining: 2m 36s\n",
      "246:\tlearn: 0.1300000\ttest: 0.1431474\tbest: 0.1431474 (246)\ttotal: 2m 32s\tremaining: 2m 35s\n",
      "247:\tlearn: 0.1298451\ttest: 0.1430508\tbest: 0.1430508 (247)\ttotal: 2m 32s\tremaining: 2m 35s\n",
      "248:\tlearn: 0.1296253\ttest: 0.1429465\tbest: 0.1429465 (248)\ttotal: 2m 33s\tremaining: 2m 34s\n",
      "249:\tlearn: 0.1294943\ttest: 0.1429375\tbest: 0.1429375 (249)\ttotal: 2m 34s\tremaining: 2m 34s\n",
      "250:\tlearn: 0.1294212\ttest: 0.1429061\tbest: 0.1429061 (250)\ttotal: 2m 34s\tremaining: 2m 33s\n",
      "251:\tlearn: 0.1292078\ttest: 0.1427435\tbest: 0.1427435 (251)\ttotal: 2m 35s\tremaining: 2m 32s\n",
      "252:\tlearn: 0.1291079\ttest: 0.1427007\tbest: 0.1427007 (252)\ttotal: 2m 35s\tremaining: 2m 32s\n",
      "253:\tlearn: 0.1289531\ttest: 0.1426114\tbest: 0.1426114 (253)\ttotal: 2m 36s\tremaining: 2m 31s\n",
      "254:\tlearn: 0.1287705\ttest: 0.1424404\tbest: 0.1424404 (254)\ttotal: 2m 36s\tremaining: 2m 30s\n",
      "255:\tlearn: 0.1287064\ttest: 0.1423833\tbest: 0.1423833 (255)\ttotal: 2m 37s\tremaining: 2m 30s\n",
      "256:\tlearn: 0.1285945\ttest: 0.1423264\tbest: 0.1423264 (256)\ttotal: 2m 38s\tremaining: 2m 29s\n",
      "257:\tlearn: 0.1283829\ttest: 0.1421745\tbest: 0.1421745 (257)\ttotal: 2m 38s\tremaining: 2m 28s\n",
      "258:\tlearn: 0.1282153\ttest: 0.1420584\tbest: 0.1420584 (258)\ttotal: 2m 39s\tremaining: 2m 28s\n",
      "259:\tlearn: 0.1280813\ttest: 0.1419733\tbest: 0.1419733 (259)\ttotal: 2m 39s\tremaining: 2m 27s\n",
      "260:\tlearn: 0.1279544\ttest: 0.1418783\tbest: 0.1418783 (260)\ttotal: 2m 40s\tremaining: 2m 27s\n",
      "261:\tlearn: 0.1277336\ttest: 0.1417009\tbest: 0.1417009 (261)\ttotal: 2m 41s\tremaining: 2m 26s\n",
      "262:\tlearn: 0.1276025\ttest: 0.1416373\tbest: 0.1416373 (262)\ttotal: 2m 41s\tremaining: 2m 25s\n",
      "263:\tlearn: 0.1274368\ttest: 0.1414874\tbest: 0.1414874 (263)\ttotal: 2m 42s\tremaining: 2m 25s\n",
      "264:\tlearn: 0.1273551\ttest: 0.1414462\tbest: 0.1414462 (264)\ttotal: 2m 42s\tremaining: 2m 24s\n",
      "265:\tlearn: 0.1271961\ttest: 0.1413283\tbest: 0.1413283 (265)\ttotal: 2m 43s\tremaining: 2m 23s\n",
      "266:\tlearn: 0.1271324\ttest: 0.1413224\tbest: 0.1413224 (266)\ttotal: 2m 44s\tremaining: 2m 23s\n",
      "267:\tlearn: 0.1270582\ttest: 0.1413022\tbest: 0.1413022 (267)\ttotal: 2m 44s\tremaining: 2m 22s\n",
      "268:\tlearn: 0.1269226\ttest: 0.1412381\tbest: 0.1412381 (268)\ttotal: 2m 45s\tremaining: 2m 21s\n",
      "269:\tlearn: 0.1268567\ttest: 0.1412217\tbest: 0.1412217 (269)\ttotal: 2m 45s\tremaining: 2m 21s\n",
      "270:\tlearn: 0.1267256\ttest: 0.1411514\tbest: 0.1411514 (270)\ttotal: 2m 46s\tremaining: 2m 20s\n",
      "271:\tlearn: 0.1266636\ttest: 0.1411082\tbest: 0.1411082 (271)\ttotal: 2m 47s\tremaining: 2m 20s\n",
      "272:\tlearn: 0.1265310\ttest: 0.1409542\tbest: 0.1409542 (272)\ttotal: 2m 47s\tremaining: 2m 19s\n"
     ]
    },
    {
     "name": "stdout",
     "output_type": "stream",
     "text": [
      "273:\tlearn: 0.1264654\ttest: 0.1409453\tbest: 0.1409453 (273)\ttotal: 2m 48s\tremaining: 2m 18s\n",
      "274:\tlearn: 0.1263951\ttest: 0.1409123\tbest: 0.1409123 (274)\ttotal: 2m 48s\tremaining: 2m 18s\n",
      "275:\tlearn: 0.1263048\ttest: 0.1408215\tbest: 0.1408215 (275)\ttotal: 2m 49s\tremaining: 2m 17s\n",
      "276:\tlearn: 0.1262131\ttest: 0.1408027\tbest: 0.1408027 (276)\ttotal: 2m 49s\tremaining: 2m 16s\n",
      "277:\tlearn: 0.1261376\ttest: 0.1407592\tbest: 0.1407592 (277)\ttotal: 2m 50s\tremaining: 2m 16s\n",
      "278:\tlearn: 0.1260795\ttest: 0.1407655\tbest: 0.1407592 (277)\ttotal: 2m 51s\tremaining: 2m 15s\n",
      "279:\tlearn: 0.1259484\ttest: 0.1406759\tbest: 0.1406759 (279)\ttotal: 2m 51s\tremaining: 2m 14s\n",
      "280:\tlearn: 0.1258889\ttest: 0.1406707\tbest: 0.1406707 (280)\ttotal: 2m 52s\tremaining: 2m 14s\n",
      "281:\tlearn: 0.1258335\ttest: 0.1406361\tbest: 0.1406361 (281)\ttotal: 2m 52s\tremaining: 2m 13s\n",
      "282:\tlearn: 0.1256263\ttest: 0.1405253\tbest: 0.1405253 (282)\ttotal: 2m 53s\tremaining: 2m 13s\n",
      "283:\tlearn: 0.1255706\ttest: 0.1404994\tbest: 0.1404994 (283)\ttotal: 2m 54s\tremaining: 2m 12s\n",
      "284:\tlearn: 0.1254420\ttest: 0.1404548\tbest: 0.1404548 (284)\ttotal: 2m 54s\tremaining: 2m 11s\n",
      "285:\tlearn: 0.1253909\ttest: 0.1404616\tbest: 0.1404548 (284)\ttotal: 2m 55s\tremaining: 2m 11s\n",
      "286:\tlearn: 0.1252575\ttest: 0.1403852\tbest: 0.1403852 (286)\ttotal: 2m 55s\tremaining: 2m 10s\n",
      "287:\tlearn: 0.1251520\ttest: 0.1403290\tbest: 0.1403290 (287)\ttotal: 2m 56s\tremaining: 2m 9s\n",
      "288:\tlearn: 0.1250682\ttest: 0.1402667\tbest: 0.1402667 (288)\ttotal: 2m 56s\tremaining: 2m 9s\n",
      "289:\tlearn: 0.1249469\ttest: 0.1401747\tbest: 0.1401747 (289)\ttotal: 2m 57s\tremaining: 2m 8s\n",
      "290:\tlearn: 0.1248924\ttest: 0.1401753\tbest: 0.1401747 (289)\ttotal: 2m 58s\tremaining: 2m 7s\n",
      "291:\tlearn: 0.1248392\ttest: 0.1401517\tbest: 0.1401517 (291)\ttotal: 2m 58s\tremaining: 2m 7s\n",
      "292:\tlearn: 0.1247484\ttest: 0.1401291\tbest: 0.1401291 (292)\ttotal: 2m 59s\tremaining: 2m 6s\n",
      "293:\tlearn: 0.1245902\ttest: 0.1399753\tbest: 0.1399753 (293)\ttotal: 2m 59s\tremaining: 2m 5s\n",
      "294:\tlearn: 0.1245377\ttest: 0.1399822\tbest: 0.1399753 (293)\ttotal: 3m\tremaining: 2m 5s\n",
      "295:\tlearn: 0.1244873\ttest: 0.1399588\tbest: 0.1399588 (295)\ttotal: 3m\tremaining: 2m 4s\n",
      "296:\tlearn: 0.1244369\ttest: 0.1399468\tbest: 0.1399468 (296)\ttotal: 3m 1s\tremaining: 2m 4s\n",
      "297:\tlearn: 0.1242759\ttest: 0.1398988\tbest: 0.1398988 (297)\ttotal: 3m 2s\tremaining: 2m 3s\n",
      "298:\tlearn: 0.1241045\ttest: 0.1397834\tbest: 0.1397834 (298)\ttotal: 3m 2s\tremaining: 2m 2s\n",
      "299:\tlearn: 0.1239777\ttest: 0.1396417\tbest: 0.1396417 (299)\ttotal: 3m 3s\tremaining: 2m 2s\n",
      "300:\tlearn: 0.1239265\ttest: 0.1396363\tbest: 0.1396363 (300)\ttotal: 3m 3s\tremaining: 2m 1s\n",
      "301:\tlearn: 0.1236396\ttest: 0.1393661\tbest: 0.1393661 (301)\ttotal: 3m 4s\tremaining: 2m\n",
      "302:\tlearn: 0.1235803\ttest: 0.1393703\tbest: 0.1393661 (301)\ttotal: 3m 4s\tremaining: 2m\n",
      "303:\tlearn: 0.1235297\ttest: 0.1393579\tbest: 0.1393579 (303)\ttotal: 3m 5s\tremaining: 1m 59s\n",
      "304:\tlearn: 0.1234659\ttest: 0.1393478\tbest: 0.1393478 (304)\ttotal: 3m 6s\tremaining: 1m 59s\n",
      "305:\tlearn: 0.1233641\ttest: 0.1392636\tbest: 0.1392636 (305)\ttotal: 3m 6s\tremaining: 1m 58s\n",
      "306:\tlearn: 0.1232820\ttest: 0.1392231\tbest: 0.1392231 (306)\ttotal: 3m 7s\tremaining: 1m 57s\n",
      "307:\tlearn: 0.1232182\ttest: 0.1392013\tbest: 0.1392013 (307)\ttotal: 3m 7s\tremaining: 1m 57s\n",
      "308:\tlearn: 0.1231660\ttest: 0.1392004\tbest: 0.1392004 (308)\ttotal: 3m 8s\tremaining: 1m 56s\n",
      "309:\tlearn: 0.1230419\ttest: 0.1391453\tbest: 0.1391453 (309)\ttotal: 3m 9s\tremaining: 1m 55s\n",
      "310:\tlearn: 0.1229579\ttest: 0.1391341\tbest: 0.1391341 (310)\ttotal: 3m 9s\tremaining: 1m 55s\n",
      "311:\tlearn: 0.1229084\ttest: 0.1391340\tbest: 0.1391340 (311)\ttotal: 3m 10s\tremaining: 1m 54s\n",
      "312:\tlearn: 0.1227855\ttest: 0.1390802\tbest: 0.1390802 (312)\ttotal: 3m 10s\tremaining: 1m 53s\n",
      "313:\tlearn: 0.1227358\ttest: 0.1390171\tbest: 0.1390171 (313)\ttotal: 3m 11s\tremaining: 1m 53s\n",
      "314:\tlearn: 0.1226865\ttest: 0.1390015\tbest: 0.1390015 (314)\ttotal: 3m 11s\tremaining: 1m 52s\n",
      "315:\tlearn: 0.1226325\ttest: 0.1389906\tbest: 0.1389906 (315)\ttotal: 3m 12s\tremaining: 1m 52s\n",
      "316:\tlearn: 0.1225766\ttest: 0.1389585\tbest: 0.1389585 (316)\ttotal: 3m 13s\tremaining: 1m 51s\n",
      "317:\tlearn: 0.1224952\ttest: 0.1389351\tbest: 0.1389351 (317)\ttotal: 3m 13s\tremaining: 1m 50s\n",
      "318:\tlearn: 0.1223098\ttest: 0.1388383\tbest: 0.1388383 (318)\ttotal: 3m 14s\tremaining: 1m 50s\n",
      "319:\tlearn: 0.1222249\ttest: 0.1387903\tbest: 0.1387903 (319)\ttotal: 3m 14s\tremaining: 1m 49s\n",
      "320:\tlearn: 0.1220790\ttest: 0.1386656\tbest: 0.1386656 (320)\ttotal: 3m 15s\tremaining: 1m 48s\n",
      "321:\tlearn: 0.1220291\ttest: 0.1386531\tbest: 0.1386531 (321)\ttotal: 3m 15s\tremaining: 1m 48s\n",
      "322:\tlearn: 0.1219100\ttest: 0.1385724\tbest: 0.1385724 (322)\ttotal: 3m 16s\tremaining: 1m 47s\n",
      "323:\tlearn: 0.1218496\ttest: 0.1385171\tbest: 0.1385171 (323)\ttotal: 3m 17s\tremaining: 1m 47s\n",
      "324:\tlearn: 0.1216900\ttest: 0.1384652\tbest: 0.1384652 (324)\ttotal: 3m 17s\tremaining: 1m 46s\n",
      "325:\tlearn: 0.1216413\ttest: 0.1384668\tbest: 0.1384652 (324)\ttotal: 3m 18s\tremaining: 1m 45s\n",
      "326:\tlearn: 0.1214770\ttest: 0.1383246\tbest: 0.1383246 (326)\ttotal: 3m 18s\tremaining: 1m 45s\n",
      "327:\tlearn: 0.1213933\ttest: 0.1382790\tbest: 0.1382790 (327)\ttotal: 3m 19s\tremaining: 1m 44s\n",
      "328:\tlearn: 0.1213393\ttest: 0.1382612\tbest: 0.1382612 (328)\ttotal: 3m 19s\tremaining: 1m 43s\n",
      "329:\tlearn: 0.1212892\ttest: 0.1382496\tbest: 0.1382496 (329)\ttotal: 3m 20s\tremaining: 1m 43s\n",
      "330:\tlearn: 0.1212422\ttest: 0.1382382\tbest: 0.1382382 (330)\ttotal: 3m 21s\tremaining: 1m 42s\n",
      "331:\tlearn: 0.1211864\ttest: 0.1382012\tbest: 0.1382012 (331)\ttotal: 3m 21s\tremaining: 1m 42s\n",
      "332:\tlearn: 0.1210302\ttest: 0.1380687\tbest: 0.1380687 (332)\ttotal: 3m 22s\tremaining: 1m 41s\n",
      "333:\tlearn: 0.1209578\ttest: 0.1380705\tbest: 0.1380687 (332)\ttotal: 3m 22s\tremaining: 1m 40s\n",
      "334:\tlearn: 0.1209104\ttest: 0.1380788\tbest: 0.1380687 (332)\ttotal: 3m 23s\tremaining: 1m 40s\n",
      "335:\tlearn: 0.1207952\ttest: 0.1380030\tbest: 0.1380030 (335)\ttotal: 3m 24s\tremaining: 1m 39s\n",
      "336:\tlearn: 0.1207038\ttest: 0.1379028\tbest: 0.1379028 (336)\ttotal: 3m 24s\tremaining: 1m 38s\n",
      "337:\tlearn: 0.1205855\ttest: 0.1378112\tbest: 0.1378112 (337)\ttotal: 3m 25s\tremaining: 1m 38s\n",
      "338:\tlearn: 0.1205041\ttest: 0.1377825\tbest: 0.1377825 (338)\ttotal: 3m 25s\tremaining: 1m 37s\n",
      "339:\tlearn: 0.1204303\ttest: 0.1377600\tbest: 0.1377600 (339)\ttotal: 3m 26s\tremaining: 1m 37s\n",
      "340:\tlearn: 0.1203853\ttest: 0.1377608\tbest: 0.1377600 (339)\ttotal: 3m 26s\tremaining: 1m 36s\n",
      "341:\tlearn: 0.1203295\ttest: 0.1377588\tbest: 0.1377588 (341)\ttotal: 3m 27s\tremaining: 1m 35s\n",
      "342:\tlearn: 0.1202817\ttest: 0.1377079\tbest: 0.1377079 (342)\ttotal: 3m 28s\tremaining: 1m 35s\n",
      "343:\tlearn: 0.1202389\ttest: 0.1376861\tbest: 0.1376861 (343)\ttotal: 3m 28s\tremaining: 1m 34s\n",
      "344:\tlearn: 0.1201949\ttest: 0.1376771\tbest: 0.1376771 (344)\ttotal: 3m 29s\tremaining: 1m 33s\n",
      "345:\tlearn: 0.1201496\ttest: 0.1376782\tbest: 0.1376771 (344)\ttotal: 3m 29s\tremaining: 1m 33s\n",
      "346:\tlearn: 0.1201073\ttest: 0.1376765\tbest: 0.1376765 (346)\ttotal: 3m 30s\tremaining: 1m 32s\n",
      "347:\tlearn: 0.1200655\ttest: 0.1376365\tbest: 0.1376365 (347)\ttotal: 3m 30s\tremaining: 1m 32s\n",
      "348:\tlearn: 0.1199690\ttest: 0.1375532\tbest: 0.1375532 (348)\ttotal: 3m 31s\tremaining: 1m 31s\n",
      "349:\tlearn: 0.1199263\ttest: 0.1375351\tbest: 0.1375351 (349)\ttotal: 3m 32s\tremaining: 1m 30s\n",
      "350:\tlearn: 0.1198387\ttest: 0.1375042\tbest: 0.1375042 (350)\ttotal: 3m 32s\tremaining: 1m 30s\n",
      "351:\tlearn: 0.1197861\ttest: 0.1374852\tbest: 0.1374852 (351)\ttotal: 3m 33s\tremaining: 1m 29s\n",
      "352:\tlearn: 0.1197298\ttest: 0.1374710\tbest: 0.1374710 (352)\ttotal: 3m 33s\tremaining: 1m 29s\n",
      "353:\tlearn: 0.1196822\ttest: 0.1374618\tbest: 0.1374618 (353)\ttotal: 3m 34s\tremaining: 1m 28s\n",
      "354:\tlearn: 0.1195705\ttest: 0.1374006\tbest: 0.1374006 (354)\ttotal: 3m 34s\tremaining: 1m 27s\n",
      "355:\tlearn: 0.1195256\ttest: 0.1373934\tbest: 0.1373934 (355)\ttotal: 3m 35s\tremaining: 1m 27s\n",
      "356:\tlearn: 0.1194779\ttest: 0.1373967\tbest: 0.1373934 (355)\ttotal: 3m 36s\tremaining: 1m 26s\n",
      "357:\tlearn: 0.1193987\ttest: 0.1373801\tbest: 0.1373801 (357)\ttotal: 3m 36s\tremaining: 1m 25s\n",
      "358:\tlearn: 0.1193250\ttest: 0.1373357\tbest: 0.1373357 (358)\ttotal: 3m 37s\tremaining: 1m 25s\n",
      "359:\tlearn: 0.1192354\ttest: 0.1372463\tbest: 0.1372463 (359)\ttotal: 3m 37s\tremaining: 1m 24s\n",
      "360:\tlearn: 0.1191939\ttest: 0.1372457\tbest: 0.1372457 (360)\ttotal: 3m 38s\tremaining: 1m 24s\n",
      "361:\tlearn: 0.1190994\ttest: 0.1371959\tbest: 0.1371959 (361)\ttotal: 3m 39s\tremaining: 1m 23s\n",
      "362:\tlearn: 0.1189986\ttest: 0.1372031\tbest: 0.1371959 (361)\ttotal: 3m 39s\tremaining: 1m 22s\n"
     ]
    },
    {
     "name": "stdout",
     "output_type": "stream",
     "text": [
      "363:\tlearn: 0.1189369\ttest: 0.1371757\tbest: 0.1371757 (363)\ttotal: 3m 40s\tremaining: 1m 22s\n",
      "364:\tlearn: 0.1187885\ttest: 0.1370685\tbest: 0.1370685 (364)\ttotal: 3m 40s\tremaining: 1m 21s\n",
      "365:\tlearn: 0.1187441\ttest: 0.1370686\tbest: 0.1370685 (364)\ttotal: 3m 41s\tremaining: 1m 21s\n",
      "366:\tlearn: 0.1186339\ttest: 0.1370402\tbest: 0.1370402 (366)\ttotal: 3m 41s\tremaining: 1m 20s\n",
      "367:\tlearn: 0.1185933\ttest: 0.1370332\tbest: 0.1370332 (367)\ttotal: 3m 42s\tremaining: 1m 19s\n",
      "368:\tlearn: 0.1185538\ttest: 0.1369986\tbest: 0.1369986 (368)\ttotal: 3m 43s\tremaining: 1m 19s\n",
      "369:\tlearn: 0.1184268\ttest: 0.1368970\tbest: 0.1368970 (369)\ttotal: 3m 43s\tremaining: 1m 18s\n",
      "370:\tlearn: 0.1183867\ttest: 0.1368826\tbest: 0.1368826 (370)\ttotal: 3m 44s\tremaining: 1m 18s\n",
      "371:\tlearn: 0.1183379\ttest: 0.1368414\tbest: 0.1368414 (371)\ttotal: 3m 45s\tremaining: 1m 17s\n",
      "372:\tlearn: 0.1182205\ttest: 0.1367449\tbest: 0.1367449 (372)\ttotal: 3m 45s\tremaining: 1m 16s\n",
      "373:\tlearn: 0.1181803\ttest: 0.1367501\tbest: 0.1367449 (372)\ttotal: 3m 46s\tremaining: 1m 16s\n",
      "374:\tlearn: 0.1180572\ttest: 0.1366179\tbest: 0.1366179 (374)\ttotal: 3m 46s\tremaining: 1m 15s\n",
      "375:\tlearn: 0.1180201\ttest: 0.1366267\tbest: 0.1366179 (374)\ttotal: 3m 47s\tremaining: 1m 15s\n",
      "376:\tlearn: 0.1178971\ttest: 0.1365664\tbest: 0.1365664 (376)\ttotal: 3m 48s\tremaining: 1m 14s\n",
      "377:\tlearn: 0.1177927\ttest: 0.1365560\tbest: 0.1365560 (377)\ttotal: 3m 48s\tremaining: 1m 13s\n",
      "378:\tlearn: 0.1176182\ttest: 0.1364321\tbest: 0.1364321 (378)\ttotal: 3m 49s\tremaining: 1m 13s\n",
      "379:\tlearn: 0.1174787\ttest: 0.1363369\tbest: 0.1363369 (379)\ttotal: 3m 49s\tremaining: 1m 12s\n",
      "380:\tlearn: 0.1173900\ttest: 0.1362879\tbest: 0.1362879 (380)\ttotal: 3m 50s\tremaining: 1m 12s\n",
      "381:\tlearn: 0.1172615\ttest: 0.1362524\tbest: 0.1362524 (381)\ttotal: 3m 51s\tremaining: 1m 11s\n",
      "382:\tlearn: 0.1172201\ttest: 0.1362537\tbest: 0.1362524 (381)\ttotal: 3m 51s\tremaining: 1m 10s\n",
      "383:\tlearn: 0.1171822\ttest: 0.1362511\tbest: 0.1362511 (383)\ttotal: 3m 52s\tremaining: 1m 10s\n",
      "384:\tlearn: 0.1171157\ttest: 0.1362386\tbest: 0.1362386 (384)\ttotal: 3m 53s\tremaining: 1m 9s\n",
      "385:\tlearn: 0.1170267\ttest: 0.1361648\tbest: 0.1361648 (385)\ttotal: 3m 53s\tremaining: 1m 8s\n",
      "386:\tlearn: 0.1169860\ttest: 0.1361603\tbest: 0.1361603 (386)\ttotal: 3m 54s\tremaining: 1m 8s\n",
      "387:\tlearn: 0.1168135\ttest: 0.1360430\tbest: 0.1360430 (387)\ttotal: 3m 54s\tremaining: 1m 7s\n",
      "388:\tlearn: 0.1167756\ttest: 0.1360279\tbest: 0.1360279 (388)\ttotal: 3m 55s\tremaining: 1m 7s\n",
      "389:\tlearn: 0.1167028\ttest: 0.1360084\tbest: 0.1360084 (389)\ttotal: 3m 55s\tremaining: 1m 6s\n",
      "390:\tlearn: 0.1166296\ttest: 0.1359838\tbest: 0.1359838 (390)\ttotal: 3m 56s\tremaining: 1m 5s\n",
      "391:\tlearn: 0.1164732\ttest: 0.1358672\tbest: 0.1358672 (391)\ttotal: 3m 57s\tremaining: 1m 5s\n",
      "392:\tlearn: 0.1164352\ttest: 0.1358410\tbest: 0.1358410 (392)\ttotal: 3m 57s\tremaining: 1m 4s\n",
      "393:\tlearn: 0.1163287\ttest: 0.1357800\tbest: 0.1357800 (393)\ttotal: 3m 58s\tremaining: 1m 4s\n",
      "394:\tlearn: 0.1162645\ttest: 0.1357553\tbest: 0.1357553 (394)\ttotal: 3m 58s\tremaining: 1m 3s\n",
      "395:\tlearn: 0.1161361\ttest: 0.1356915\tbest: 0.1356915 (395)\ttotal: 3m 59s\tremaining: 1m 2s\n",
      "396:\tlearn: 0.1160983\ttest: 0.1356832\tbest: 0.1356832 (396)\ttotal: 4m\tremaining: 1m 2s\n",
      "397:\tlearn: 0.1160520\ttest: 0.1356782\tbest: 0.1356782 (397)\ttotal: 4m\tremaining: 1m 1s\n",
      "398:\tlearn: 0.1158811\ttest: 0.1355260\tbest: 0.1355260 (398)\ttotal: 4m 1s\tremaining: 1m 1s\n",
      "399:\tlearn: 0.1158253\ttest: 0.1355150\tbest: 0.1355150 (399)\ttotal: 4m 2s\tremaining: 1m\n",
      "400:\tlearn: 0.1157313\ttest: 0.1354989\tbest: 0.1354989 (400)\ttotal: 4m 3s\tremaining: 1m\n",
      "401:\tlearn: 0.1156736\ttest: 0.1354412\tbest: 0.1354412 (401)\ttotal: 4m 3s\tremaining: 59.4s\n",
      "402:\tlearn: 0.1156355\ttest: 0.1354371\tbest: 0.1354371 (402)\ttotal: 4m 4s\tremaining: 58.8s\n",
      "403:\tlearn: 0.1155988\ttest: 0.1354393\tbest: 0.1354371 (402)\ttotal: 4m 4s\tremaining: 58.2s\n",
      "404:\tlearn: 0.1155413\ttest: 0.1354228\tbest: 0.1354228 (404)\ttotal: 4m 5s\tremaining: 57.6s\n",
      "405:\tlearn: 0.1154596\ttest: 0.1353713\tbest: 0.1353713 (405)\ttotal: 4m 6s\tremaining: 57s\n",
      "406:\tlearn: 0.1154078\ttest: 0.1353355\tbest: 0.1353355 (406)\ttotal: 4m 7s\tremaining: 56.4s\n",
      "407:\tlearn: 0.1153710\ttest: 0.1353205\tbest: 0.1353205 (407)\ttotal: 4m 7s\tremaining: 55.8s\n",
      "408:\tlearn: 0.1152526\ttest: 0.1352144\tbest: 0.1352144 (408)\ttotal: 4m 8s\tremaining: 55.2s\n",
      "409:\tlearn: 0.1151682\ttest: 0.1351332\tbest: 0.1351332 (409)\ttotal: 4m 8s\tremaining: 54.6s\n",
      "410:\tlearn: 0.1150528\ttest: 0.1350335\tbest: 0.1350335 (410)\ttotal: 4m 9s\tremaining: 54s\n",
      "411:\tlearn: 0.1149407\ttest: 0.1349892\tbest: 0.1349892 (411)\ttotal: 4m 10s\tremaining: 53.4s\n",
      "412:\tlearn: 0.1148949\ttest: 0.1349724\tbest: 0.1349724 (412)\ttotal: 4m 10s\tremaining: 52.8s\n",
      "413:\tlearn: 0.1148081\ttest: 0.1349544\tbest: 0.1349544 (413)\ttotal: 4m 11s\tremaining: 52.2s\n",
      "414:\tlearn: 0.1147698\ttest: 0.1349417\tbest: 0.1349417 (414)\ttotal: 4m 11s\tremaining: 51.6s\n",
      "415:\tlearn: 0.1147339\ttest: 0.1349439\tbest: 0.1349417 (414)\ttotal: 4m 12s\tremaining: 51s\n",
      "416:\tlearn: 0.1146833\ttest: 0.1349427\tbest: 0.1349417 (414)\ttotal: 4m 13s\tremaining: 50.4s\n",
      "417:\tlearn: 0.1146351\ttest: 0.1349238\tbest: 0.1349238 (417)\ttotal: 4m 13s\tremaining: 49.8s\n",
      "418:\tlearn: 0.1145350\ttest: 0.1348636\tbest: 0.1348636 (418)\ttotal: 4m 14s\tremaining: 49.2s\n",
      "419:\tlearn: 0.1144984\ttest: 0.1348650\tbest: 0.1348636 (418)\ttotal: 4m 15s\tremaining: 48.6s\n",
      "420:\tlearn: 0.1144365\ttest: 0.1348377\tbest: 0.1348377 (420)\ttotal: 4m 15s\tremaining: 48s\n",
      "421:\tlearn: 0.1143427\ttest: 0.1347831\tbest: 0.1347831 (421)\ttotal: 4m 16s\tremaining: 47.4s\n",
      "422:\tlearn: 0.1143087\ttest: 0.1347766\tbest: 0.1347766 (422)\ttotal: 4m 16s\tremaining: 46.8s\n",
      "423:\tlearn: 0.1142007\ttest: 0.1347391\tbest: 0.1347391 (423)\ttotal: 4m 17s\tremaining: 46.2s\n",
      "424:\tlearn: 0.1141294\ttest: 0.1347326\tbest: 0.1347326 (424)\ttotal: 4m 18s\tremaining: 45.6s\n",
      "425:\tlearn: 0.1140516\ttest: 0.1347045\tbest: 0.1347045 (425)\ttotal: 4m 18s\tremaining: 44.9s\n",
      "426:\tlearn: 0.1139275\ttest: 0.1346652\tbest: 0.1346652 (426)\ttotal: 4m 19s\tremaining: 44.3s\n",
      "427:\tlearn: 0.1138718\ttest: 0.1346797\tbest: 0.1346652 (426)\ttotal: 4m 19s\tremaining: 43.7s\n",
      "428:\tlearn: 0.1138295\ttest: 0.1346647\tbest: 0.1346647 (428)\ttotal: 4m 20s\tremaining: 43.1s\n",
      "429:\tlearn: 0.1137216\ttest: 0.1345898\tbest: 0.1345898 (429)\ttotal: 4m 21s\tremaining: 42.5s\n",
      "430:\tlearn: 0.1136041\ttest: 0.1345165\tbest: 0.1345165 (430)\ttotal: 4m 21s\tremaining: 41.9s\n",
      "431:\tlearn: 0.1135716\ttest: 0.1344965\tbest: 0.1344965 (431)\ttotal: 4m 22s\tremaining: 41.3s\n",
      "432:\tlearn: 0.1134919\ttest: 0.1344380\tbest: 0.1344380 (432)\ttotal: 4m 23s\tremaining: 40.7s\n",
      "433:\tlearn: 0.1133808\ttest: 0.1343921\tbest: 0.1343921 (433)\ttotal: 4m 23s\tremaining: 40.1s\n",
      "434:\tlearn: 0.1132871\ttest: 0.1343422\tbest: 0.1343422 (434)\ttotal: 4m 24s\tremaining: 39.5s\n",
      "435:\tlearn: 0.1131627\ttest: 0.1342711\tbest: 0.1342711 (435)\ttotal: 4m 24s\tremaining: 38.9s\n",
      "436:\tlearn: 0.1131286\ttest: 0.1342721\tbest: 0.1342711 (435)\ttotal: 4m 25s\tremaining: 38.3s\n",
      "437:\tlearn: 0.1130186\ttest: 0.1342014\tbest: 0.1342014 (437)\ttotal: 4m 26s\tremaining: 37.7s\n",
      "438:\tlearn: 0.1129033\ttest: 0.1341499\tbest: 0.1341499 (438)\ttotal: 4m 26s\tremaining: 37.1s\n",
      "439:\tlearn: 0.1127943\ttest: 0.1341146\tbest: 0.1341146 (439)\ttotal: 4m 27s\tremaining: 36.5s\n",
      "440:\tlearn: 0.1127035\ttest: 0.1340592\tbest: 0.1340592 (440)\ttotal: 4m 28s\tremaining: 35.9s\n",
      "441:\tlearn: 0.1126639\ttest: 0.1340677\tbest: 0.1340592 (440)\ttotal: 4m 28s\tremaining: 35.3s\n",
      "442:\tlearn: 0.1125821\ttest: 0.1340401\tbest: 0.1340401 (442)\ttotal: 4m 29s\tremaining: 34.7s\n",
      "443:\tlearn: 0.1125316\ttest: 0.1340422\tbest: 0.1340401 (442)\ttotal: 4m 29s\tremaining: 34s\n",
      "444:\tlearn: 0.1124335\ttest: 0.1339998\tbest: 0.1339998 (444)\ttotal: 4m 30s\tremaining: 33.4s\n",
      "445:\tlearn: 0.1123567\ttest: 0.1339436\tbest: 0.1339436 (445)\ttotal: 4m 31s\tremaining: 32.8s\n",
      "446:\tlearn: 0.1123227\ttest: 0.1339210\tbest: 0.1339210 (446)\ttotal: 4m 31s\tremaining: 32.2s\n",
      "447:\tlearn: 0.1122879\ttest: 0.1339177\tbest: 0.1339177 (447)\ttotal: 4m 32s\tremaining: 31.6s\n",
      "448:\tlearn: 0.1121949\ttest: 0.1339094\tbest: 0.1339094 (448)\ttotal: 4m 33s\tremaining: 31s\n",
      "449:\tlearn: 0.1121608\ttest: 0.1338766\tbest: 0.1338766 (449)\ttotal: 4m 33s\tremaining: 30.4s\n",
      "450:\tlearn: 0.1120557\ttest: 0.1338590\tbest: 0.1338590 (450)\ttotal: 4m 34s\tremaining: 29.8s\n",
      "451:\tlearn: 0.1120139\ttest: 0.1338398\tbest: 0.1338398 (451)\ttotal: 4m 34s\tremaining: 29.2s\n",
      "452:\tlearn: 0.1119446\ttest: 0.1338048\tbest: 0.1338048 (452)\ttotal: 4m 35s\tremaining: 28.6s\n",
      "453:\tlearn: 0.1119003\ttest: 0.1337972\tbest: 0.1337972 (453)\ttotal: 4m 36s\tremaining: 28s\n"
     ]
    },
    {
     "name": "stdout",
     "output_type": "stream",
     "text": [
      "454:\tlearn: 0.1118667\ttest: 0.1337970\tbest: 0.1337970 (454)\ttotal: 4m 36s\tremaining: 27.4s\n",
      "455:\tlearn: 0.1118268\ttest: 0.1337787\tbest: 0.1337787 (455)\ttotal: 4m 37s\tremaining: 26.8s\n",
      "456:\tlearn: 0.1117291\ttest: 0.1337687\tbest: 0.1337687 (456)\ttotal: 4m 37s\tremaining: 26.1s\n",
      "457:\tlearn: 0.1116502\ttest: 0.1337339\tbest: 0.1337339 (457)\ttotal: 4m 38s\tremaining: 25.5s\n",
      "458:\tlearn: 0.1116141\ttest: 0.1337329\tbest: 0.1337329 (458)\ttotal: 4m 39s\tremaining: 24.9s\n",
      "459:\tlearn: 0.1115747\ttest: 0.1337345\tbest: 0.1337329 (458)\ttotal: 4m 39s\tremaining: 24.3s\n",
      "460:\tlearn: 0.1114478\ttest: 0.1336496\tbest: 0.1336496 (460)\ttotal: 4m 40s\tremaining: 23.7s\n",
      "461:\tlearn: 0.1113757\ttest: 0.1335632\tbest: 0.1335632 (461)\ttotal: 4m 40s\tremaining: 23.1s\n",
      "462:\tlearn: 0.1113045\ttest: 0.1335338\tbest: 0.1335338 (462)\ttotal: 4m 41s\tremaining: 22.5s\n",
      "463:\tlearn: 0.1112403\ttest: 0.1335280\tbest: 0.1335280 (463)\ttotal: 4m 42s\tremaining: 21.9s\n",
      "464:\tlearn: 0.1111680\ttest: 0.1335320\tbest: 0.1335280 (463)\ttotal: 4m 42s\tremaining: 21.3s\n",
      "465:\tlearn: 0.1110842\ttest: 0.1334847\tbest: 0.1334847 (465)\ttotal: 4m 43s\tremaining: 20.7s\n",
      "466:\tlearn: 0.1109883\ttest: 0.1334340\tbest: 0.1334340 (466)\ttotal: 4m 43s\tremaining: 20.1s\n",
      "467:\tlearn: 0.1109575\ttest: 0.1334368\tbest: 0.1334340 (466)\ttotal: 4m 44s\tremaining: 19.5s\n",
      "468:\tlearn: 0.1108894\ttest: 0.1334073\tbest: 0.1334073 (468)\ttotal: 4m 45s\tremaining: 18.8s\n",
      "469:\tlearn: 0.1108564\ttest: 0.1334237\tbest: 0.1334073 (468)\ttotal: 4m 45s\tremaining: 18.2s\n",
      "470:\tlearn: 0.1108236\ttest: 0.1334119\tbest: 0.1334073 (468)\ttotal: 4m 46s\tremaining: 17.6s\n",
      "471:\tlearn: 0.1107540\ttest: 0.1333983\tbest: 0.1333983 (471)\ttotal: 4m 47s\tremaining: 17s\n",
      "472:\tlearn: 0.1107107\ttest: 0.1333522\tbest: 0.1333522 (472)\ttotal: 4m 47s\tremaining: 16.4s\n",
      "473:\tlearn: 0.1106357\ttest: 0.1333389\tbest: 0.1333389 (473)\ttotal: 4m 48s\tremaining: 15.8s\n",
      "474:\tlearn: 0.1105644\ttest: 0.1333247\tbest: 0.1333247 (474)\ttotal: 4m 49s\tremaining: 15.2s\n",
      "475:\tlearn: 0.1104848\ttest: 0.1332760\tbest: 0.1332760 (475)\ttotal: 4m 49s\tremaining: 14.6s\n",
      "476:\tlearn: 0.1104361\ttest: 0.1332762\tbest: 0.1332760 (475)\ttotal: 4m 50s\tremaining: 14s\n",
      "477:\tlearn: 0.1103735\ttest: 0.1332354\tbest: 0.1332354 (477)\ttotal: 4m 50s\tremaining: 13.4s\n",
      "478:\tlearn: 0.1103420\ttest: 0.1332351\tbest: 0.1332351 (478)\ttotal: 4m 51s\tremaining: 12.8s\n",
      "479:\tlearn: 0.1101604\ttest: 0.1330292\tbest: 0.1330292 (479)\ttotal: 4m 52s\tremaining: 12.2s\n",
      "480:\tlearn: 0.1100836\ttest: 0.1330281\tbest: 0.1330281 (480)\ttotal: 4m 52s\tremaining: 11.6s\n",
      "481:\tlearn: 0.1100280\ttest: 0.1330128\tbest: 0.1330128 (481)\ttotal: 4m 53s\tremaining: 11s\n",
      "482:\tlearn: 0.1099527\ttest: 0.1329505\tbest: 0.1329505 (482)\ttotal: 4m 53s\tremaining: 10.3s\n",
      "483:\tlearn: 0.1098400\ttest: 0.1328880\tbest: 0.1328880 (483)\ttotal: 4m 54s\tremaining: 9.74s\n",
      "484:\tlearn: 0.1097571\ttest: 0.1328567\tbest: 0.1328567 (484)\ttotal: 4m 55s\tremaining: 9.13s\n",
      "485:\tlearn: 0.1097269\ttest: 0.1328428\tbest: 0.1328428 (485)\ttotal: 4m 55s\tremaining: 8.52s\n",
      "486:\tlearn: 0.1096942\ttest: 0.1328261\tbest: 0.1328261 (486)\ttotal: 4m 56s\tremaining: 7.91s\n",
      "487:\tlearn: 0.1096537\ttest: 0.1328173\tbest: 0.1328173 (487)\ttotal: 4m 57s\tremaining: 7.31s\n",
      "488:\tlearn: 0.1095317\ttest: 0.1327545\tbest: 0.1327545 (488)\ttotal: 4m 57s\tremaining: 6.7s\n",
      "489:\tlearn: 0.1094626\ttest: 0.1327226\tbest: 0.1327226 (489)\ttotal: 4m 58s\tremaining: 6.09s\n",
      "490:\tlearn: 0.1094320\ttest: 0.1327294\tbest: 0.1327226 (489)\ttotal: 4m 59s\tremaining: 5.48s\n",
      "491:\tlearn: 0.1093471\ttest: 0.1327196\tbest: 0.1327196 (491)\ttotal: 4m 59s\tremaining: 4.88s\n",
      "492:\tlearn: 0.1092433\ttest: 0.1327051\tbest: 0.1327051 (492)\ttotal: 5m\tremaining: 4.27s\n",
      "493:\tlearn: 0.1092042\ttest: 0.1326929\tbest: 0.1326929 (493)\ttotal: 5m 1s\tremaining: 3.66s\n",
      "494:\tlearn: 0.1091255\ttest: 0.1326388\tbest: 0.1326388 (494)\ttotal: 5m 1s\tremaining: 3.05s\n",
      "495:\tlearn: 0.1090967\ttest: 0.1326396\tbest: 0.1326388 (494)\ttotal: 5m 2s\tremaining: 2.44s\n",
      "496:\tlearn: 0.1090531\ttest: 0.1326418\tbest: 0.1326388 (494)\ttotal: 5m 2s\tremaining: 1.83s\n",
      "497:\tlearn: 0.1089699\ttest: 0.1325909\tbest: 0.1325909 (497)\ttotal: 5m 3s\tremaining: 1.22s\n",
      "498:\tlearn: 0.1089280\ttest: 0.1325864\tbest: 0.1325864 (498)\ttotal: 5m 4s\tremaining: 610ms\n",
      "499:\tlearn: 0.1088966\ttest: 0.1325916\tbest: 0.1325864 (498)\ttotal: 5m 4s\tremaining: 0us\n",
      "\n",
      "bestTest = 0.1325864481\n",
      "bestIteration = 498\n",
      "\n",
      "Shrink model to first 499 iterations.\n",
      "CPU times: total: 44min 49s\n",
      "Wall time: 5min 12s\n"
     ]
    },
    {
     "data": {
      "text/plain": [
       "<catboost.core.CatBoostClassifier at 0x216c6cc2940>"
      ]
     },
     "execution_count": 32,
     "metadata": {},
     "output_type": "execute_result"
    }
   ],
   "source": [
    "%%time\n",
    "\n",
    "catmodel.fit(features_train,target_train,eval_set=(features_valid,target_valid))"
   ]
  },
  {
   "cell_type": "markdown",
   "metadata": {},
   "source": [
    "Проверим на тесте:"
   ]
  },
  {
   "cell_type": "code",
   "execution_count": 33,
   "metadata": {},
   "outputs": [],
   "source": [
    "prediction = catmodel.predict(features_test)"
   ]
  },
  {
   "cell_type": "code",
   "execution_count": 34,
   "metadata": {},
   "outputs": [
    {
     "data": {
      "text/plain": [
       "0.7422755361686659"
      ]
     },
     "execution_count": 34,
     "metadata": {},
     "output_type": "execute_result"
    }
   ],
   "source": [
    "f1_score(target_test,prediction)"
   ]
  },
  {
   "cell_type": "markdown",
   "metadata": {},
   "source": [
    "Результат неудовлетворительный."
   ]
  },
  {
   "cell_type": "markdown",
   "metadata": {},
   "source": [
    "### Улучшение логистической регрессии древом решений."
   ]
  },
  {
   "cell_type": "markdown",
   "metadata": {},
   "source": [
    "Попробуем улучшить результат логистической регрессии, используя длину сообщения и вероятность, которую предсказывает логистическая регрессия."
   ]
  },
  {
   "cell_type": "code",
   "execution_count": 35,
   "metadata": {},
   "outputs": [],
   "source": [
    "pipeline = make_pipeline(tf_idf,log_best)"
   ]
  },
  {
   "cell_type": "code",
   "execution_count": 36,
   "metadata": {},
   "outputs": [
    {
     "name": "stdout",
     "output_type": "stream",
     "text": [
      "CPU times: total: 4min 9s\n",
      "Wall time: 4min 9s\n"
     ]
    }
   ],
   "source": [
    "%%time\n",
    "probabilities = cross_val_predict(pipeline, data.iloc[train_full_index]['text'].values, target_train_full, cv=5, method='predict_proba')"
   ]
  },
  {
   "cell_type": "code",
   "execution_count": 37,
   "metadata": {},
   "outputs": [],
   "source": [
    "probabilities = probabilities[:,1]\n",
    "test_proba = test_proba[:,1]"
   ]
  },
  {
   "cell_type": "code",
   "execution_count": 38,
   "metadata": {},
   "outputs": [],
   "source": [
    "features_train_extra = np.column_stack([probabilities, data.iloc[train_full_index]['length'].values])\n",
    "features_test_extra = np.column_stack([test_proba, data.iloc[test_index]['length'].values])"
   ]
  },
  {
   "cell_type": "code",
   "execution_count": 39,
   "metadata": {},
   "outputs": [],
   "source": [
    "tree_m = DecisionTreeClassifier()"
   ]
  },
  {
   "cell_type": "code",
   "execution_count": 40,
   "metadata": {},
   "outputs": [
    {
     "name": "stdout",
     "output_type": "stream",
     "text": [
      "Fitting 1 folds for each of 84 candidates, totalling 84 fits\n",
      "[CV] END class_weight=None, criterion=gini, max_depth=1, min_impurity_decrease=0.0, random_state=13; total time=   0.0s\n",
      "[CV] END class_weight=None, criterion=gini, max_depth=1, min_impurity_decrease=0.1, random_state=13; total time=   0.0s\n",
      "[CV] END class_weight=None, criterion=gini, max_depth=1, min_impurity_decrease=0.2, random_state=13; total time=   0.0s\n",
      "[CV] END class_weight=None, criterion=gini, max_depth=2, min_impurity_decrease=0.0, random_state=13; total time=   0.0s\n",
      "[CV] END class_weight=None, criterion=gini, max_depth=2, min_impurity_decrease=0.1, random_state=13; total time=   0.0s\n",
      "[CV] END class_weight=None, criterion=gini, max_depth=2, min_impurity_decrease=0.2, random_state=13; total time=   0.0s\n",
      "[CV] END class_weight=None, criterion=gini, max_depth=3, min_impurity_decrease=0.0, random_state=13; total time=   0.0s\n",
      "[CV] END class_weight=None, criterion=gini, max_depth=3, min_impurity_decrease=0.1, random_state=13; total time=   0.0s\n",
      "[CV] END class_weight=None, criterion=gini, max_depth=3, min_impurity_decrease=0.2, random_state=13; total time=   0.0s\n",
      "[CV] END class_weight=None, criterion=gini, max_depth=4, min_impurity_decrease=0.0, random_state=13; total time=   0.0s\n",
      "[CV] END class_weight=None, criterion=gini, max_depth=4, min_impurity_decrease=0.1, random_state=13; total time=   0.0s\n",
      "[CV] END class_weight=None, criterion=gini, max_depth=4, min_impurity_decrease=0.2, random_state=13; total time=   0.0s\n",
      "[CV] END class_weight=None, criterion=gini, max_depth=5, min_impurity_decrease=0.0, random_state=13; total time=   0.0s\n",
      "[CV] END class_weight=None, criterion=gini, max_depth=5, min_impurity_decrease=0.1, random_state=13; total time=   0.0s\n",
      "[CV] END class_weight=None, criterion=gini, max_depth=5, min_impurity_decrease=0.2, random_state=13; total time=   0.0s\n",
      "[CV] END class_weight=None, criterion=gini, max_depth=6, min_impurity_decrease=0.0, random_state=13; total time=   0.1s\n",
      "[CV] END class_weight=None, criterion=gini, max_depth=6, min_impurity_decrease=0.1, random_state=13; total time=   0.0s\n",
      "[CV] END class_weight=None, criterion=gini, max_depth=6, min_impurity_decrease=0.2, random_state=13; total time=   0.0s\n",
      "[CV] END class_weight=None, criterion=gini, max_depth=7, min_impurity_decrease=0.0, random_state=13; total time=   0.1s\n",
      "[CV] END class_weight=None, criterion=gini, max_depth=7, min_impurity_decrease=0.1, random_state=13; total time=   0.0s\n",
      "[CV] END class_weight=None, criterion=gini, max_depth=7, min_impurity_decrease=0.2, random_state=13; total time=   0.0s\n",
      "[CV] END class_weight=None, criterion=entropy, max_depth=1, min_impurity_decrease=0.0, random_state=13; total time=   0.0s\n",
      "[CV] END class_weight=None, criterion=entropy, max_depth=1, min_impurity_decrease=0.1, random_state=13; total time=   0.0s\n",
      "[CV] END class_weight=None, criterion=entropy, max_depth=1, min_impurity_decrease=0.2, random_state=13; total time=   0.0s\n",
      "[CV] END class_weight=None, criterion=entropy, max_depth=2, min_impurity_decrease=0.0, random_state=13; total time=   0.0s\n",
      "[CV] END class_weight=None, criterion=entropy, max_depth=2, min_impurity_decrease=0.1, random_state=13; total time=   0.0s\n",
      "[CV] END class_weight=None, criterion=entropy, max_depth=2, min_impurity_decrease=0.2, random_state=13; total time=   0.0s\n",
      "[CV] END class_weight=None, criterion=entropy, max_depth=3, min_impurity_decrease=0.0, random_state=13; total time=   0.0s\n",
      "[CV] END class_weight=None, criterion=entropy, max_depth=3, min_impurity_decrease=0.1, random_state=13; total time=   0.0s\n",
      "[CV] END class_weight=None, criterion=entropy, max_depth=3, min_impurity_decrease=0.2, random_state=13; total time=   0.0s\n",
      "[CV] END class_weight=None, criterion=entropy, max_depth=4, min_impurity_decrease=0.0, random_state=13; total time=   0.0s\n",
      "[CV] END class_weight=None, criterion=entropy, max_depth=4, min_impurity_decrease=0.1, random_state=13; total time=   0.0s\n",
      "[CV] END class_weight=None, criterion=entropy, max_depth=4, min_impurity_decrease=0.2, random_state=13; total time=   0.0s\n",
      "[CV] END class_weight=None, criterion=entropy, max_depth=5, min_impurity_decrease=0.0, random_state=13; total time=   0.0s\n",
      "[CV] END class_weight=None, criterion=entropy, max_depth=5, min_impurity_decrease=0.1, random_state=13; total time=   0.0s\n",
      "[CV] END class_weight=None, criterion=entropy, max_depth=5, min_impurity_decrease=0.2, random_state=13; total time=   0.0s\n",
      "[CV] END class_weight=None, criterion=entropy, max_depth=6, min_impurity_decrease=0.0, random_state=13; total time=   0.1s\n",
      "[CV] END class_weight=None, criterion=entropy, max_depth=6, min_impurity_decrease=0.1, random_state=13; total time=   0.0s\n",
      "[CV] END class_weight=None, criterion=entropy, max_depth=6, min_impurity_decrease=0.2, random_state=13; total time=   0.0s\n",
      "[CV] END class_weight=None, criterion=entropy, max_depth=7, min_impurity_decrease=0.0, random_state=13; total time=   0.1s\n",
      "[CV] END class_weight=None, criterion=entropy, max_depth=7, min_impurity_decrease=0.1, random_state=13; total time=   0.0s\n",
      "[CV] END class_weight=None, criterion=entropy, max_depth=7, min_impurity_decrease=0.2, random_state=13; total time=   0.0s\n",
      "[CV] END class_weight=balanced, criterion=gini, max_depth=1, min_impurity_decrease=0.0, random_state=13; total time=   0.0s\n",
      "[CV] END class_weight=balanced, criterion=gini, max_depth=1, min_impurity_decrease=0.1, random_state=13; total time=   0.0s\n",
      "[CV] END class_weight=balanced, criterion=gini, max_depth=1, min_impurity_decrease=0.2, random_state=13; total time=   0.0s\n",
      "[CV] END class_weight=balanced, criterion=gini, max_depth=2, min_impurity_decrease=0.0, random_state=13; total time=   0.0s\n",
      "[CV] END class_weight=balanced, criterion=gini, max_depth=2, min_impurity_decrease=0.1, random_state=13; total time=   0.0s\n",
      "[CV] END class_weight=balanced, criterion=gini, max_depth=2, min_impurity_decrease=0.2, random_state=13; total time=   0.0s\n",
      "[CV] END class_weight=balanced, criterion=gini, max_depth=3, min_impurity_decrease=0.0, random_state=13; total time=   0.0s\n",
      "[CV] END class_weight=balanced, criterion=gini, max_depth=3, min_impurity_decrease=0.1, random_state=13; total time=   0.0s\n",
      "[CV] END class_weight=balanced, criterion=gini, max_depth=3, min_impurity_decrease=0.2, random_state=13; total time=   0.0s\n",
      "[CV] END class_weight=balanced, criterion=gini, max_depth=4, min_impurity_decrease=0.0, random_state=13; total time=   0.0s\n",
      "[CV] END class_weight=balanced, criterion=gini, max_depth=4, min_impurity_decrease=0.1, random_state=13; total time=   0.0s\n",
      "[CV] END class_weight=balanced, criterion=gini, max_depth=4, min_impurity_decrease=0.2, random_state=13; total time=   0.0s\n",
      "[CV] END class_weight=balanced, criterion=gini, max_depth=5, min_impurity_decrease=0.0, random_state=13; total time=   0.0s\n",
      "[CV] END class_weight=balanced, criterion=gini, max_depth=5, min_impurity_decrease=0.1, random_state=13; total time=   0.0s\n",
      "[CV] END class_weight=balanced, criterion=gini, max_depth=5, min_impurity_decrease=0.2, random_state=13; total time=   0.0s\n",
      "[CV] END class_weight=balanced, criterion=gini, max_depth=6, min_impurity_decrease=0.0, random_state=13; total time=   0.0s\n",
      "[CV] END class_weight=balanced, criterion=gini, max_depth=6, min_impurity_decrease=0.1, random_state=13; total time=   0.0s\n",
      "[CV] END class_weight=balanced, criterion=gini, max_depth=6, min_impurity_decrease=0.2, random_state=13; total time=   0.0s\n",
      "[CV] END class_weight=balanced, criterion=gini, max_depth=7, min_impurity_decrease=0.0, random_state=13; total time=   0.1s\n",
      "[CV] END class_weight=balanced, criterion=gini, max_depth=7, min_impurity_decrease=0.1, random_state=13; total time=   0.0s\n",
      "[CV] END class_weight=balanced, criterion=gini, max_depth=7, min_impurity_decrease=0.2, random_state=13; total time=   0.0s\n",
      "[CV] END class_weight=balanced, criterion=entropy, max_depth=1, min_impurity_decrease=0.0, random_state=13; total time=   0.0s\n",
      "[CV] END class_weight=balanced, criterion=entropy, max_depth=1, min_impurity_decrease=0.1, random_state=13; total time=   0.0s\n",
      "[CV] END class_weight=balanced, criterion=entropy, max_depth=1, min_impurity_decrease=0.2, random_state=13; total time=   0.0s\n",
      "[CV] END class_weight=balanced, criterion=entropy, max_depth=2, min_impurity_decrease=0.0, random_state=13; total time=   0.0s\n"
     ]
    },
    {
     "name": "stdout",
     "output_type": "stream",
     "text": [
      "[CV] END class_weight=balanced, criterion=entropy, max_depth=2, min_impurity_decrease=0.1, random_state=13; total time=   0.0s\n",
      "[CV] END class_weight=balanced, criterion=entropy, max_depth=2, min_impurity_decrease=0.2, random_state=13; total time=   0.0s\n",
      "[CV] END class_weight=balanced, criterion=entropy, max_depth=3, min_impurity_decrease=0.0, random_state=13; total time=   0.0s\n",
      "[CV] END class_weight=balanced, criterion=entropy, max_depth=3, min_impurity_decrease=0.1, random_state=13; total time=   0.0s\n",
      "[CV] END class_weight=balanced, criterion=entropy, max_depth=3, min_impurity_decrease=0.2, random_state=13; total time=   0.0s\n",
      "[CV] END class_weight=balanced, criterion=entropy, max_depth=4, min_impurity_decrease=0.0, random_state=13; total time=   0.0s\n",
      "[CV] END class_weight=balanced, criterion=entropy, max_depth=4, min_impurity_decrease=0.1, random_state=13; total time=   0.0s\n",
      "[CV] END class_weight=balanced, criterion=entropy, max_depth=4, min_impurity_decrease=0.2, random_state=13; total time=   0.0s\n",
      "[CV] END class_weight=balanced, criterion=entropy, max_depth=5, min_impurity_decrease=0.0, random_state=13; total time=   0.0s\n",
      "[CV] END class_weight=balanced, criterion=entropy, max_depth=5, min_impurity_decrease=0.1, random_state=13; total time=   0.0s\n",
      "[CV] END class_weight=balanced, criterion=entropy, max_depth=5, min_impurity_decrease=0.2, random_state=13; total time=   0.0s\n",
      "[CV] END class_weight=balanced, criterion=entropy, max_depth=6, min_impurity_decrease=0.0, random_state=13; total time=   0.1s\n",
      "[CV] END class_weight=balanced, criterion=entropy, max_depth=6, min_impurity_decrease=0.1, random_state=13; total time=   0.0s\n",
      "[CV] END class_weight=balanced, criterion=entropy, max_depth=6, min_impurity_decrease=0.2, random_state=13; total time=   0.0s\n",
      "[CV] END class_weight=balanced, criterion=entropy, max_depth=7, min_impurity_decrease=0.0, random_state=13; total time=   0.1s\n",
      "[CV] END class_weight=balanced, criterion=entropy, max_depth=7, min_impurity_decrease=0.1, random_state=13; total time=   0.0s\n",
      "[CV] END class_weight=balanced, criterion=entropy, max_depth=7, min_impurity_decrease=0.2, random_state=13; total time=   0.0s\n",
      "CPU times: total: 6.77 s\n",
      "Wall time: 6.75 s\n"
     ]
    },
    {
     "data": {
      "text/plain": [
       "{'class_weight': None,\n",
       " 'criterion': 'entropy',\n",
       " 'max_depth': 1,\n",
       " 'min_impurity_decrease': 0.0,\n",
       " 'random_state': 13}"
      ]
     },
     "execution_count": 40,
     "metadata": {},
     "output_type": "execute_result"
    }
   ],
   "source": [
    "%%time\n",
    "parameters = {'criterion': ['gini', 'entropy'],\n",
    "              'max_depth': [1, 2, 3, 4, 5, 6, 7],\n",
    "              'class_weight': [None, 'balanced'],\n",
    "             'random_state': [13],\n",
    "             'min_impurity_decrease': [0.0,0.1,0.2],\n",
    "             }\n",
    "\n",
    "tree_model = GridSearchCV(tree_m, param_grid=parameters, scoring='f1',cv = ps, verbose=2, refit=1)\n",
    "\n",
    "tree_model.fit(features_train_extra, target_train_full)\n",
    "\n",
    "tree_params = tree_model.best_params_\n",
    "tree_params"
   ]
  },
  {
   "cell_type": "code",
   "execution_count": 41,
   "metadata": {},
   "outputs": [
    {
     "data": {
      "text/plain": [
       "0.7857799570946982"
      ]
     },
     "execution_count": 41,
     "metadata": {},
     "output_type": "execute_result"
    }
   ],
   "source": [
    "tree_model.best_score_"
   ]
  },
  {
   "cell_type": "markdown",
   "metadata": {},
   "source": [
    "Такой подход дал результат ещё лучше на валидации."
   ]
  },
  {
   "cell_type": "code",
   "execution_count": 42,
   "metadata": {},
   "outputs": [],
   "source": [
    "prediction = tree_model.predict(features_test_extra)"
   ]
  },
  {
   "cell_type": "code",
   "execution_count": 43,
   "metadata": {},
   "outputs": [
    {
     "data": {
      "text/plain": [
       "0.7873967574181707"
      ]
     },
     "execution_count": 43,
     "metadata": {},
     "output_type": "execute_result"
    }
   ],
   "source": [
    "f1_score(target_test,prediction)"
   ]
  },
  {
   "cell_type": "markdown",
   "metadata": {},
   "source": [
    "Простенький \"пень\" дал ощутимое улучшение, однако посолько у модели единичная глубина, очевидно, что она не использует длину сообщения."
   ]
  },
  {
   "cell_type": "code",
   "execution_count": 58,
   "metadata": {},
   "outputs": [
    {
     "data": {
      "text/plain": [
       "DecisionTreeClassifier(criterion='entropy', max_depth=1, random_state=13)"
      ]
     },
     "execution_count": 58,
     "metadata": {},
     "output_type": "execute_result"
    }
   ],
   "source": [
    "tree_m = DecisionTreeClassifier(**tree_params)\n",
    "\n",
    "tree_m.fit(features_train_extra, target_train_full)"
   ]
  },
  {
   "cell_type": "code",
   "execution_count": 59,
   "metadata": {},
   "outputs": [
    {
     "data": {
      "text/plain": [
       "[Text(0.5, 0.75, 'X[0] <= 0.25\\nentropy = 0.474\\nsamples = 127656\\nvalue = [114676, 12980]'),\n",
       " Text(0.25, 0.25, 'entropy = 0.164\\nsamples = 114669\\nvalue = [111899, 2770]'),\n",
       " Text(0.75, 0.25, 'entropy = 0.749\\nsamples = 12987\\nvalue = [2777, 10210]')]"
      ]
     },
     "execution_count": 59,
     "metadata": {},
     "output_type": "execute_result"
    },
    {
     "data": {
      "image/png": "[encoded data removed]",
      "text/plain": [
       "<Figure size 432x288 with 1 Axes>"
      ]
     },
     "metadata": {
      "needs_background": "light"
     },
     "output_type": "display_data"
    }
   ],
   "source": [
    "tree.plot_tree(tree_m)"
   ]
  },
  {
   "cell_type": "markdown",
   "metadata": {},
   "source": [
    "Модель всего лишь каллибрует вероятности, выдаваемые логистической регрессией. Тем не менее, выдаёт лучший результат, значит длину сообщения можно убрать."
   ]
  },
  {
   "cell_type": "code",
   "execution_count": 62,
   "metadata": {},
   "outputs": [],
   "source": [
    "features_train_extra = np.delete(features_train_extra, 1, axis=1)"
   ]
  },
  {
   "cell_type": "code",
   "execution_count": 63,
   "metadata": {},
   "outputs": [
    {
     "data": {
      "text/plain": [
       "0.7873967574181707"
      ]
     },
     "execution_count": 63,
     "metadata": {},
     "output_type": "execute_result"
    }
   ],
   "source": [
    "tree_m.fit(features_train_extra, target_train_full)\n",
    "prediction = tree_model.predict(features_test_extra)\n",
    "f1_score(target_test,prediction)"
   ]
  },
  {
   "cell_type": "markdown",
   "metadata": {},
   "source": [
    "### Глупая модель"
   ]
  },
  {
   "cell_type": "code",
   "execution_count": 44,
   "metadata": {},
   "outputs": [
    {
     "data": {
      "text/plain": [
       "0.10607462226333642"
      ]
     },
     "execution_count": 44,
     "metadata": {},
     "output_type": "execute_result"
    }
   ],
   "source": [
    "dummy = DummyClassifier(strategy='stratified')\n",
    "dummy.fit(features_train,target_train)\n",
    "prediction = dummy.predict(features_test)\n",
    "f1_score(target_test,prediction)"
   ]
  },
  {
   "cell_type": "markdown",
   "metadata": {},
   "source": [
    "Ожидаемый результат."
   ]
  },
  {
   "cell_type": "markdown",
   "metadata": {},
   "source": [
    "## Выводы"
   ]
  },
  {
   "cell_type": "markdown",
   "metadata": {},
   "source": [
    "Данный были подготовлены, очищены, лемматизированы, векторизированы, на них были обучены логистическая регрессия и CatBoost, удовлетворительный результат дала логистическая регрессия, которая была улучшена моделью древа решений типа \"пень\". За кулисами была опробована обработка на предобученной нейросети DistilBERT, которая в связке с логистической регрессией и при располагаемых ресурсах тоже не дала удовлетворительного результата. "
   ]
  },
  {
   "cell_type": "code",
   "execution_count": null,
   "metadata": {},
   "outputs": [],
   "source": []
  }
 ],
 "metadata": {
  "ExecuteTimeLog": [
   {
    "duration": 38,
    "start_time": "2022-05-05T12:17:54.089Z"
   },
   {
    "duration": 1976,
    "start_time": "2022-05-05T13:17:37.388Z"
   },
   {
    "duration": 457,
    "start_time": "2022-05-05T13:18:39.008Z"
   },
   {
    "duration": 1345,
    "start_time": "2022-05-05T13:19:01.008Z"
   },
   {
    "duration": 7,
    "start_time": "2022-05-05T13:19:16.735Z"
   },
   {
    "duration": 128,
    "start_time": "2022-05-05T13:32:55.772Z"
   },
   {
    "duration": 5,
    "start_time": "2022-05-05T14:29:20.199Z"
   },
   {
    "duration": 3371,
    "start_time": "2022-05-05T14:29:29.586Z"
   },
   {
    "duration": 5,
    "start_time": "2022-05-05T14:29:54.579Z"
   },
   {
    "duration": 12,
    "start_time": "2022-05-05T14:29:58.370Z"
   },
   {
    "duration": 5,
    "start_time": "2022-05-05T14:30:03.322Z"
   },
   {
    "duration": 6,
    "start_time": "2022-05-05T14:30:18.025Z"
   },
   {
    "duration": 6,
    "start_time": "2022-05-05T14:31:02.898Z"
   },
   {
    "duration": 7,
    "start_time": "2022-05-05T14:31:03.387Z"
   },
   {
    "duration": 6,
    "start_time": "2022-05-05T14:32:19.395Z"
   },
   {
    "duration": 6,
    "start_time": "2022-05-05T14:32:22.267Z"
   },
   {
    "duration": 5,
    "start_time": "2022-05-05T14:33:55.219Z"
   },
   {
    "duration": 4,
    "start_time": "2022-05-05T14:34:11.475Z"
   },
   {
    "duration": 7,
    "start_time": "2022-05-05T14:35:25.116Z"
   },
   {
    "duration": 6,
    "start_time": "2022-05-05T14:35:26.811Z"
   },
   {
    "duration": 12,
    "start_time": "2022-05-05T14:36:53.380Z"
   },
   {
    "duration": 9,
    "start_time": "2022-05-05T14:36:59.707Z"
   },
   {
    "duration": 4,
    "start_time": "2022-05-05T14:37:03.389Z"
   },
   {
    "duration": 7,
    "start_time": "2022-05-05T14:38:10.580Z"
   },
   {
    "duration": 21,
    "start_time": "2022-05-05T14:38:13.669Z"
   },
   {
    "duration": 6,
    "start_time": "2022-05-05T14:38:30.132Z"
   },
   {
    "duration": 6,
    "start_time": "2022-05-05T14:38:30.524Z"
   },
   {
    "duration": 915,
    "start_time": "2022-05-05T14:38:31.222Z"
   },
   {
    "duration": 6,
    "start_time": "2022-05-05T14:39:24.117Z"
   },
   {
    "duration": 6,
    "start_time": "2022-05-05T14:39:24.493Z"
   },
   {
    "duration": 6,
    "start_time": "2022-05-05T14:39:24.893Z"
   },
   {
    "duration": 6,
    "start_time": "2022-05-05T14:40:09.757Z"
   },
   {
    "duration": 6,
    "start_time": "2022-05-05T14:40:32.678Z"
   },
   {
    "duration": 6,
    "start_time": "2022-05-05T14:41:01.087Z"
   },
   {
    "duration": 5,
    "start_time": "2022-05-05T14:47:16.304Z"
   },
   {
    "duration": 3,
    "start_time": "2022-05-05T14:47:58.785Z"
   },
   {
    "duration": 113,
    "start_time": "2022-05-05T14:47:59.208Z"
   },
   {
    "duration": 6,
    "start_time": "2022-05-05T14:48:29.821Z"
   },
   {
    "duration": 5,
    "start_time": "2022-05-05T14:48:32.274Z"
   },
   {
    "duration": 2004,
    "start_time": "2022-05-05T14:48:35.807Z"
   },
   {
    "duration": 6,
    "start_time": "2022-05-05T14:49:37.375Z"
   },
   {
    "duration": 5,
    "start_time": "2022-05-05T14:49:41.721Z"
   },
   {
    "duration": 6,
    "start_time": "2022-05-05T14:49:55.056Z"
   },
   {
    "duration": 6,
    "start_time": "2022-05-05T14:50:12.247Z"
   },
   {
    "duration": 5,
    "start_time": "2022-05-05T14:51:02.795Z"
   },
   {
    "duration": 6,
    "start_time": "2022-05-05T14:51:06.241Z"
   },
   {
    "duration": 6,
    "start_time": "2022-05-05T14:51:12.057Z"
   },
   {
    "duration": 6,
    "start_time": "2022-05-05T15:17:35.315Z"
   },
   {
    "duration": 6,
    "start_time": "2022-05-05T15:17:36.273Z"
   },
   {
    "duration": 6,
    "start_time": "2022-05-05T15:17:36.946Z"
   },
   {
    "duration": 96,
    "start_time": "2022-05-05T15:23:12.643Z"
   },
   {
    "duration": 8,
    "start_time": "2022-05-05T15:23:36.939Z"
   },
   {
    "duration": 6,
    "start_time": "2022-05-05T15:23:38.235Z"
   },
   {
    "duration": 28,
    "start_time": "2022-05-05T15:23:39.363Z"
   },
   {
    "duration": 7,
    "start_time": "2022-05-05T15:27:07.244Z"
   },
   {
    "duration": 5,
    "start_time": "2022-05-05T15:27:08.261Z"
   },
   {
    "duration": 7,
    "start_time": "2022-05-05T15:27:08.772Z"
   },
   {
    "duration": 11,
    "start_time": "2022-05-05T15:27:47.315Z"
   },
   {
    "duration": 6,
    "start_time": "2022-05-05T15:27:47.996Z"
   },
   {
    "duration": 24,
    "start_time": "2022-05-05T15:27:48.323Z"
   },
   {
    "duration": 8,
    "start_time": "2022-05-05T15:28:05.083Z"
   },
   {
    "duration": 5,
    "start_time": "2022-05-05T15:28:05.325Z"
   },
   {
    "duration": 6,
    "start_time": "2022-05-05T15:28:05.565Z"
   },
   {
    "duration": 6,
    "start_time": "2022-05-05T15:28:10.301Z"
   },
   {
    "duration": 7,
    "start_time": "2022-05-05T15:28:23.133Z"
   },
   {
    "duration": 6,
    "start_time": "2022-05-05T15:28:24.965Z"
   },
   {
    "duration": 7,
    "start_time": "2022-05-05T15:28:36.925Z"
   },
   {
    "duration": 6,
    "start_time": "2022-05-05T15:28:38.156Z"
   },
   {
    "duration": 6,
    "start_time": "2022-05-05T15:28:38.820Z"
   },
   {
    "duration": 11,
    "start_time": "2022-05-05T15:29:53.748Z"
   },
   {
    "duration": 7,
    "start_time": "2022-05-05T15:29:54.005Z"
   },
   {
    "duration": 8,
    "start_time": "2022-05-05T15:29:54.285Z"
   },
   {
    "duration": 8,
    "start_time": "2022-05-05T15:31:13.510Z"
   },
   {
    "duration": 5,
    "start_time": "2022-05-05T15:31:14.022Z"
   },
   {
    "duration": 6,
    "start_time": "2022-05-05T15:31:16.743Z"
   },
   {
    "duration": 6,
    "start_time": "2022-05-05T15:31:54.286Z"
   },
   {
    "duration": 6,
    "start_time": "2022-05-05T15:32:57.830Z"
   },
   {
    "duration": 5,
    "start_time": "2022-05-05T15:33:18.143Z"
   },
   {
    "duration": 7,
    "start_time": "2022-05-05T15:33:34.719Z"
   },
   {
    "duration": 5,
    "start_time": "2022-05-05T15:33:36.624Z"
   },
   {
    "duration": 6,
    "start_time": "2022-05-05T15:33:37.206Z"
   },
   {
    "duration": 7,
    "start_time": "2022-05-05T15:33:45.933Z"
   },
   {
    "duration": 8,
    "start_time": "2022-05-05T15:33:46.302Z"
   },
   {
    "duration": 6,
    "start_time": "2022-05-05T15:33:47.182Z"
   },
   {
    "duration": 6,
    "start_time": "2022-05-05T15:34:20.647Z"
   },
   {
    "duration": 5,
    "start_time": "2022-05-05T15:34:35.224Z"
   },
   {
    "duration": 4,
    "start_time": "2022-05-05T15:34:42.295Z"
   },
   {
    "duration": 5,
    "start_time": "2022-05-05T15:34:55.742Z"
   },
   {
    "duration": 5,
    "start_time": "2022-05-05T15:35:22.775Z"
   },
   {
    "duration": 6,
    "start_time": "2022-05-05T15:35:34.286Z"
   },
   {
    "duration": 6,
    "start_time": "2022-05-05T15:35:49.464Z"
   },
   {
    "duration": 6,
    "start_time": "2022-05-05T15:35:55.383Z"
   },
   {
    "duration": 6,
    "start_time": "2022-05-05T15:35:55.960Z"
   },
   {
    "duration": 6,
    "start_time": "2022-05-05T15:36:14.439Z"
   },
   {
    "duration": 5,
    "start_time": "2022-05-05T15:36:15.456Z"
   },
   {
    "duration": 6,
    "start_time": "2022-05-05T15:36:16.463Z"
   },
   {
    "duration": 6,
    "start_time": "2022-05-05T15:36:21.047Z"
   },
   {
    "duration": 5,
    "start_time": "2022-05-05T15:36:23.664Z"
   },
   {
    "duration": 6,
    "start_time": "2022-05-05T15:36:26.623Z"
   },
   {
    "duration": 6,
    "start_time": "2022-05-05T15:36:28.791Z"
   },
   {
    "duration": 5,
    "start_time": "2022-05-05T15:36:49.080Z"
   },
   {
    "duration": 5,
    "start_time": "2022-05-05T15:36:51.401Z"
   },
   {
    "duration": 5,
    "start_time": "2022-05-05T15:36:52.024Z"
   },
   {
    "duration": 5,
    "start_time": "2022-05-05T15:37:24.392Z"
   },
   {
    "duration": 5,
    "start_time": "2022-05-05T15:37:25.896Z"
   },
   {
    "duration": 6,
    "start_time": "2022-05-05T15:37:26.271Z"
   },
   {
    "duration": 8,
    "start_time": "2022-05-05T15:37:45.639Z"
   },
   {
    "duration": 6,
    "start_time": "2022-05-05T15:37:45.928Z"
   },
   {
    "duration": 7,
    "start_time": "2022-05-05T15:37:46.704Z"
   },
   {
    "duration": 6,
    "start_time": "2022-05-05T15:38:04.111Z"
   },
   {
    "duration": 6,
    "start_time": "2022-05-05T15:38:04.472Z"
   },
   {
    "duration": 5,
    "start_time": "2022-05-05T15:38:05.121Z"
   },
   {
    "duration": 5,
    "start_time": "2022-05-05T15:38:21.017Z"
   },
   {
    "duration": 6,
    "start_time": "2022-05-05T15:38:22.671Z"
   },
   {
    "duration": 6,
    "start_time": "2022-05-05T15:39:30.944Z"
   },
   {
    "duration": 5,
    "start_time": "2022-05-05T15:39:31.457Z"
   },
   {
    "duration": 5,
    "start_time": "2022-05-05T15:39:32.137Z"
   },
   {
    "duration": 9,
    "start_time": "2022-05-05T15:39:54.864Z"
   },
   {
    "duration": 7,
    "start_time": "2022-05-05T15:39:55.402Z"
   },
   {
    "duration": 6,
    "start_time": "2022-05-05T15:39:55.849Z"
   },
   {
    "duration": 70386,
    "start_time": "2022-05-05T15:41:50.609Z"
   },
   {
    "duration": 9,
    "start_time": "2022-05-05T15:45:50.894Z"
   },
   {
    "duration": 302,
    "start_time": "2022-05-05T15:45:50.905Z"
   },
   {
    "duration": 2694,
    "start_time": "2022-05-05T15:45:51.210Z"
   },
   {
    "duration": 6,
    "start_time": "2022-05-05T15:45:53.906Z"
   },
   {
    "duration": 13,
    "start_time": "2022-05-05T15:45:53.914Z"
   },
   {
    "duration": 13,
    "start_time": "2022-05-05T15:45:53.929Z"
   },
   {
    "duration": 18,
    "start_time": "2022-05-05T15:45:53.944Z"
   },
   {
    "duration": 21,
    "start_time": "2022-05-05T15:45:53.964Z"
   },
   {
    "duration": 72174,
    "start_time": "2022-05-05T15:45:53.988Z"
   },
   {
    "duration": 6,
    "start_time": "2022-05-05T15:48:22.429Z"
   },
   {
    "duration": 34,
    "start_time": "2022-05-05T16:49:22.052Z"
   },
   {
    "duration": 1956,
    "start_time": "2022-05-05T16:49:22.090Z"
   },
   {
    "duration": 1311,
    "start_time": "2022-05-05T16:49:24.048Z"
   },
   {
    "duration": 6,
    "start_time": "2022-05-05T16:49:25.361Z"
   },
   {
    "duration": 13,
    "start_time": "2022-05-05T16:49:25.370Z"
   },
   {
    "duration": 9,
    "start_time": "2022-05-05T16:49:25.385Z"
   },
   {
    "duration": 10,
    "start_time": "2022-05-05T16:49:25.397Z"
   },
   {
    "duration": 1931,
    "start_time": "2022-05-05T16:49:25.410Z"
   },
   {
    "duration": 76326,
    "start_time": "2022-05-05T16:49:27.343Z"
   },
   {
    "duration": 11,
    "start_time": "2022-05-05T16:50:43.672Z"
   },
   {
    "duration": 3,
    "start_time": "2022-05-05T16:54:16.921Z"
   },
   {
    "duration": 3152,
    "start_time": "2022-05-05T16:54:34.168Z"
   },
   {
    "duration": 788,
    "start_time": "2022-05-05T16:54:38.786Z"
   },
   {
    "duration": 7,
    "start_time": "2022-05-05T17:08:06.790Z"
   },
   {
    "duration": 3348,
    "start_time": "2022-05-05T17:08:34.270Z"
   },
   {
    "duration": 2484,
    "start_time": "2022-05-05T17:08:42.774Z"
   },
   {
    "duration": 40,
    "start_time": "2022-05-05T17:09:36.926Z"
   },
   {
    "duration": 2067,
    "start_time": "2022-05-05T17:09:36.969Z"
   },
   {
    "duration": 1443,
    "start_time": "2022-05-05T17:09:39.038Z"
   },
   {
    "duration": 7,
    "start_time": "2022-05-05T17:09:40.485Z"
   },
   {
    "duration": 6,
    "start_time": "2022-05-05T17:09:40.494Z"
   },
   {
    "duration": 7,
    "start_time": "2022-05-05T17:09:40.502Z"
   },
   {
    "duration": 10,
    "start_time": "2022-05-05T17:09:40.511Z"
   },
   {
    "duration": 1947,
    "start_time": "2022-05-05T17:09:40.523Z"
   },
   {
    "duration": 75866,
    "start_time": "2022-05-05T17:09:42.472Z"
   },
   {
    "duration": 4,
    "start_time": "2022-05-05T17:10:58.341Z"
   },
   {
    "duration": 2880,
    "start_time": "2022-05-05T17:10:58.346Z"
   },
   {
    "duration": 517,
    "start_time": "2022-05-05T17:11:01.228Z"
   },
   {
    "duration": 2534,
    "start_time": "2022-05-05T17:11:01.747Z"
   },
   {
    "duration": 94,
    "start_time": "2022-05-05T17:16:50.787Z"
   },
   {
    "duration": 13,
    "start_time": "2022-05-05T17:16:58.162Z"
   },
   {
    "duration": 4,
    "start_time": "2022-05-05T17:20:07.739Z"
   },
   {
    "duration": 4,
    "start_time": "2022-05-05T17:20:22.364Z"
   },
   {
    "duration": 14,
    "start_time": "2022-05-05T17:20:24.083Z"
   },
   {
    "duration": 200,
    "start_time": "2022-05-05T17:20:43.261Z"
   },
   {
    "duration": 12,
    "start_time": "2022-05-05T17:20:51.702Z"
   },
   {
    "duration": 5,
    "start_time": "2022-05-05T17:38:07.148Z"
   },
   {
    "duration": 7,
    "start_time": "2022-05-05T17:38:34.650Z"
   },
   {
    "duration": 7,
    "start_time": "2022-05-05T17:38:51.313Z"
   },
   {
    "duration": 12,
    "start_time": "2022-05-05T17:39:08.360Z"
   },
   {
    "duration": 12,
    "start_time": "2022-05-05T17:39:15.649Z"
   },
   {
    "duration": 5,
    "start_time": "2022-05-05T17:39:29.405Z"
   },
   {
    "duration": 51,
    "start_time": "2022-05-05T17:39:46.907Z"
   },
   {
    "duration": 2540,
    "start_time": "2022-05-05T17:39:46.961Z"
   },
   {
    "duration": 2022,
    "start_time": "2022-05-05T17:39:49.505Z"
   },
   {
    "duration": 7,
    "start_time": "2022-05-05T17:39:51.530Z"
   },
   {
    "duration": 17,
    "start_time": "2022-05-05T17:39:51.542Z"
   },
   {
    "duration": 22,
    "start_time": "2022-05-05T17:39:51.562Z"
   },
   {
    "duration": 12,
    "start_time": "2022-05-05T17:39:51.587Z"
   },
   {
    "duration": 3167,
    "start_time": "2022-05-05T17:39:51.602Z"
   },
   {
    "duration": 74902,
    "start_time": "2022-05-05T17:39:54.772Z"
   },
   {
    "duration": 9,
    "start_time": "2022-05-05T17:41:09.676Z"
   },
   {
    "duration": 3237,
    "start_time": "2022-05-05T17:41:09.687Z"
   },
   {
    "duration": 488,
    "start_time": "2022-05-05T17:41:12.926Z"
   },
   {
    "duration": 2449,
    "start_time": "2022-05-05T17:41:13.417Z"
   },
   {
    "duration": 156,
    "start_time": "2022-05-05T17:41:15.881Z"
   },
   {
    "duration": 6,
    "start_time": "2022-05-05T17:41:16.040Z"
   },
   {
    "duration": 47,
    "start_time": "2022-05-05T17:41:59.574Z"
   },
   {
    "duration": 2774,
    "start_time": "2022-05-05T17:41:59.624Z"
   },
   {
    "duration": 2098,
    "start_time": "2022-05-05T17:42:02.401Z"
   },
   {
    "duration": 9,
    "start_time": "2022-05-05T17:42:04.502Z"
   },
   {
    "duration": 4,
    "start_time": "2022-05-05T17:42:04.515Z"
   },
   {
    "duration": 12,
    "start_time": "2022-05-05T17:42:04.521Z"
   },
   {
    "duration": 9,
    "start_time": "2022-05-05T17:42:04.535Z"
   },
   {
    "duration": 2198,
    "start_time": "2022-05-05T17:42:04.583Z"
   },
   {
    "duration": 72121,
    "start_time": "2022-05-05T17:42:06.784Z"
   },
   {
    "duration": 4,
    "start_time": "2022-05-05T17:43:18.908Z"
   },
   {
    "duration": 3063,
    "start_time": "2022-05-05T17:43:18.914Z"
   },
   {
    "duration": 862,
    "start_time": "2022-05-05T17:43:21.982Z"
   },
   {
    "duration": 2489,
    "start_time": "2022-05-05T17:43:22.847Z"
   },
   {
    "duration": 164,
    "start_time": "2022-05-05T17:43:25.341Z"
   },
   {
    "duration": 7,
    "start_time": "2022-05-05T17:43:25.508Z"
   },
   {
    "duration": 39,
    "start_time": "2022-05-05T17:43:54.901Z"
   },
   {
    "duration": 2498,
    "start_time": "2022-05-05T17:43:54.943Z"
   },
   {
    "duration": 1353,
    "start_time": "2022-05-05T17:43:57.444Z"
   },
   {
    "duration": 8,
    "start_time": "2022-05-05T17:43:58.801Z"
   },
   {
    "duration": 5,
    "start_time": "2022-05-05T17:43:58.813Z"
   },
   {
    "duration": 11,
    "start_time": "2022-05-05T17:43:58.820Z"
   },
   {
    "duration": 12,
    "start_time": "2022-05-05T17:43:58.834Z"
   },
   {
    "duration": 2157,
    "start_time": "2022-05-05T17:43:58.883Z"
   },
   {
    "duration": 99675,
    "start_time": "2022-05-05T17:44:01.043Z"
   },
   {
    "duration": 5,
    "start_time": "2022-05-05T17:45:40.722Z"
   },
   {
    "duration": 5640,
    "start_time": "2022-05-05T17:45:40.730Z"
   },
   {
    "duration": 483,
    "start_time": "2022-05-05T17:45:46.372Z"
   },
   {
    "duration": 2992,
    "start_time": "2022-05-05T17:45:46.858Z"
   },
   {
    "duration": 6,
    "start_time": "2022-05-05T17:46:23.853Z"
   },
   {
    "duration": 23,
    "start_time": "2022-05-07T13:31:17.632Z"
   },
   {
    "duration": 3541,
    "start_time": "2022-05-07T13:31:17.656Z"
   },
   {
    "duration": 2585,
    "start_time": "2022-05-07T13:31:21.199Z"
   },
   {
    "duration": 5,
    "start_time": "2022-05-07T13:31:23.785Z"
   },
   {
    "duration": 3,
    "start_time": "2022-05-07T13:31:23.792Z"
   },
   {
    "duration": 15,
    "start_time": "2022-05-07T13:31:23.797Z"
   },
   {
    "duration": 8,
    "start_time": "2022-05-07T13:31:23.813Z"
   },
   {
    "duration": 1248,
    "start_time": "2022-05-07T13:31:23.822Z"
   },
   {
    "duration": 40912,
    "start_time": "2022-05-07T13:31:25.071Z"
   },
   {
    "duration": 3,
    "start_time": "2022-05-07T13:32:05.985Z"
   },
   {
    "duration": 2096,
    "start_time": "2022-05-07T13:32:05.989Z"
   },
   {
    "duration": 562,
    "start_time": "2022-05-07T13:32:20.870Z"
   },
   {
    "duration": 201,
    "start_time": "2022-05-07T13:32:36.910Z"
   },
   {
    "duration": 3046,
    "start_time": "2022-05-07T13:34:28.319Z"
   },
   {
    "duration": 185,
    "start_time": "2022-05-07T13:35:22.512Z"
   },
   {
    "duration": 249,
    "start_time": "2022-05-07T13:37:33.111Z"
   },
   {
    "duration": 398,
    "start_time": "2022-05-07T13:38:12.487Z"
   },
   {
    "duration": 279,
    "start_time": "2022-05-07T13:38:18.888Z"
   },
   {
    "duration": 89,
    "start_time": "2022-05-07T13:39:36.792Z"
   },
   {
    "duration": 142,
    "start_time": "2022-05-07T13:40:56.384Z"
   },
   {
    "duration": 8,
    "start_time": "2022-05-07T13:45:46.827Z"
   },
   {
    "duration": 62,
    "start_time": "2022-05-07T13:48:04.708Z"
   },
   {
    "duration": 130,
    "start_time": "2022-05-07T13:48:10.283Z"
   },
   {
    "duration": 708,
    "start_time": "2022-05-07T13:48:33.548Z"
   },
   {
    "duration": 763,
    "start_time": "2022-05-07T13:48:58.796Z"
   },
   {
    "duration": 726,
    "start_time": "2022-05-07T13:50:05.139Z"
   },
   {
    "duration": 276,
    "start_time": "2022-05-07T13:53:46.676Z"
   },
   {
    "duration": 165,
    "start_time": "2022-05-07T13:54:43.862Z"
   },
   {
    "duration": 119,
    "start_time": "2022-05-07T13:55:20.173Z"
   },
   {
    "duration": 22087,
    "start_time": "2022-05-07T13:57:19.246Z"
   },
   {
    "duration": 136,
    "start_time": "2022-05-07T13:57:54.119Z"
   },
   {
    "duration": 29107,
    "start_time": "2022-05-07T13:59:35.552Z"
   },
   {
    "duration": 12,
    "start_time": "2022-05-07T14:02:25.104Z"
   },
   {
    "duration": 30762,
    "start_time": "2022-05-07T14:03:06.840Z"
   },
   {
    "duration": 177,
    "start_time": "2022-05-07T14:04:06.719Z"
   },
   {
    "duration": 207,
    "start_time": "2022-05-07T14:04:29.129Z"
   },
   {
    "duration": 288,
    "start_time": "2022-05-07T14:04:47.472Z"
   },
   {
    "duration": 337,
    "start_time": "2022-05-07T14:05:09.016Z"
   },
   {
    "duration": 329,
    "start_time": "2022-05-07T14:05:38.217Z"
   },
   {
    "duration": 292,
    "start_time": "2022-05-07T14:06:25.937Z"
   },
   {
    "duration": 33,
    "start_time": "2022-05-07T14:07:01.081Z"
   },
   {
    "duration": 56668,
    "start_time": "2022-05-07T14:07:30.505Z"
   },
   {
    "duration": 393,
    "start_time": "2022-05-07T14:12:12.139Z"
   },
   {
    "duration": 342,
    "start_time": "2022-05-07T14:12:32.194Z"
   },
   {
    "duration": 126,
    "start_time": "2022-05-07T14:15:25.788Z"
   },
   {
    "duration": 318,
    "start_time": "2022-05-07T14:15:38.243Z"
   },
   {
    "duration": 433,
    "start_time": "2022-05-07T14:27:41.126Z"
   },
   {
    "duration": 34,
    "start_time": "2022-05-07T14:33:11.043Z"
   },
   {
    "duration": 1806,
    "start_time": "2022-05-07T14:33:11.080Z"
   },
   {
    "duration": 1299,
    "start_time": "2022-05-07T14:33:12.888Z"
   },
   {
    "duration": 5,
    "start_time": "2022-05-07T14:33:14.190Z"
   },
   {
    "duration": 18,
    "start_time": "2022-05-07T14:33:14.197Z"
   },
   {
    "duration": 7,
    "start_time": "2022-05-07T14:33:14.223Z"
   },
   {
    "duration": 11,
    "start_time": "2022-05-07T14:33:14.233Z"
   },
   {
    "duration": 1435,
    "start_time": "2022-05-07T14:33:14.246Z"
   },
   {
    "duration": 50709,
    "start_time": "2022-05-07T14:33:15.682Z"
   },
   {
    "duration": 3,
    "start_time": "2022-05-07T14:34:06.394Z"
   },
   {
    "duration": 2890,
    "start_time": "2022-05-07T14:34:06.399Z"
   },
   {
    "duration": 611,
    "start_time": "2022-05-07T14:34:09.290Z"
   },
   {
    "duration": 6,
    "start_time": "2022-05-07T14:50:33.337Z"
   },
   {
    "duration": 112,
    "start_time": "2022-05-07T14:50:34.241Z"
   },
   {
    "duration": 14,
    "start_time": "2022-05-07T14:51:00.120Z"
   },
   {
    "duration": 13,
    "start_time": "2022-05-07T14:51:13.264Z"
   },
   {
    "duration": 5,
    "start_time": "2022-05-07T14:51:38.440Z"
   },
   {
    "duration": 3,
    "start_time": "2022-05-07T14:53:04.858Z"
   },
   {
    "duration": 13,
    "start_time": "2022-05-07T14:54:07.226Z"
   },
   {
    "duration": 9,
    "start_time": "2022-05-07T14:57:30.715Z"
   },
   {
    "duration": 4,
    "start_time": "2022-05-07T15:00:11.716Z"
   },
   {
    "duration": 4,
    "start_time": "2022-05-07T15:01:50.005Z"
   },
   {
    "duration": 146,
    "start_time": "2022-05-07T15:01:50.541Z"
   },
   {
    "duration": 5,
    "start_time": "2022-05-07T15:01:59.740Z"
   },
   {
    "duration": 3,
    "start_time": "2022-05-07T15:06:19.437Z"
   },
   {
    "duration": 80,
    "start_time": "2022-05-07T15:06:20.083Z"
   },
   {
    "duration": 80,
    "start_time": "2022-05-07T15:06:38.454Z"
   },
   {
    "duration": 104,
    "start_time": "2022-05-07T15:06:54.110Z"
   },
   {
    "duration": 6,
    "start_time": "2022-05-07T15:06:55.128Z"
   },
   {
    "duration": 15,
    "start_time": "2022-05-07T15:06:55.606Z"
   },
   {
    "duration": 6362,
    "start_time": "2022-05-07T15:06:55.982Z"
   },
   {
    "duration": 3,
    "start_time": "2022-05-07T15:07:02.346Z"
   },
   {
    "duration": 7,
    "start_time": "2022-05-07T15:07:02.351Z"
   },
   {
    "duration": 3,
    "start_time": "2022-05-07T15:07:04.503Z"
   },
   {
    "duration": 86,
    "start_time": "2022-05-07T15:07:05.342Z"
   },
   {
    "duration": 116,
    "start_time": "2022-05-07T15:08:17.287Z"
   },
   {
    "duration": 4,
    "start_time": "2022-05-07T15:08:20.190Z"
   },
   {
    "duration": 126,
    "start_time": "2022-05-07T15:10:29.223Z"
   },
   {
    "duration": 3,
    "start_time": "2022-05-07T15:10:30.522Z"
   },
   {
    "duration": 6312,
    "start_time": "2022-05-07T15:10:37.687Z"
   },
   {
    "duration": 12,
    "start_time": "2022-05-07T15:11:00.184Z"
   },
   {
    "duration": 106,
    "start_time": "2022-05-07T15:11:07.952Z"
   },
   {
    "duration": 3,
    "start_time": "2022-05-07T15:11:09.096Z"
   },
   {
    "duration": 6520,
    "start_time": "2022-05-07T15:11:09.829Z"
   },
   {
    "duration": 13,
    "start_time": "2022-05-07T15:11:16.351Z"
   },
   {
    "duration": 5,
    "start_time": "2022-05-07T15:13:33.551Z"
   },
   {
    "duration": 9,
    "start_time": "2022-05-07T15:14:27.672Z"
   },
   {
    "duration": 19,
    "start_time": "2022-05-07T15:15:42.952Z"
   },
   {
    "duration": 7,
    "start_time": "2022-05-07T15:16:17.713Z"
   },
   {
    "duration": 4,
    "start_time": "2022-05-07T15:16:27.120Z"
   },
   {
    "duration": 10,
    "start_time": "2022-05-07T15:18:03.729Z"
   },
   {
    "duration": 20,
    "start_time": "2022-05-07T15:18:28.506Z"
   },
   {
    "duration": 8,
    "start_time": "2022-05-07T15:18:29.817Z"
   },
   {
    "duration": 4,
    "start_time": "2022-05-07T15:18:35.194Z"
   },
   {
    "duration": 6,
    "start_time": "2022-05-07T15:18:35.829Z"
   },
   {
    "duration": 3,
    "start_time": "2022-05-07T15:18:36.906Z"
   },
   {
    "duration": 155,
    "start_time": "2022-05-07T15:18:37.546Z"
   },
   {
    "duration": 138,
    "start_time": "2022-05-07T15:18:54.920Z"
   },
   {
    "duration": 3,
    "start_time": "2022-05-07T15:18:55.914Z"
   },
   {
    "duration": 6705,
    "start_time": "2022-05-07T15:18:56.465Z"
   },
   {
    "duration": 5,
    "start_time": "2022-05-07T15:19:03.172Z"
   },
   {
    "duration": 17,
    "start_time": "2022-05-07T15:19:03.179Z"
   },
   {
    "duration": 12,
    "start_time": "2022-05-07T15:19:03.212Z"
   },
   {
    "duration": 4,
    "start_time": "2022-05-07T15:19:03.226Z"
   },
   {
    "duration": 14,
    "start_time": "2022-05-07T15:19:03.232Z"
   },
   {
    "duration": 3,
    "start_time": "2022-05-07T15:19:08.650Z"
   },
   {
    "duration": 102,
    "start_time": "2022-05-07T15:19:09.107Z"
   },
   {
    "duration": 6,
    "start_time": "2022-05-07T15:20:04.481Z"
   },
   {
    "duration": 5,
    "start_time": "2022-05-07T15:20:29.611Z"
   },
   {
    "duration": 4,
    "start_time": "2022-05-07T15:20:49.595Z"
   },
   {
    "duration": 5,
    "start_time": "2022-05-07T15:20:59.436Z"
   },
   {
    "duration": 4,
    "start_time": "2022-05-07T15:20:59.698Z"
   },
   {
    "duration": 111,
    "start_time": "2022-05-07T15:22:02.593Z"
   },
   {
    "duration": 4,
    "start_time": "2022-05-07T15:22:03.665Z"
   },
   {
    "duration": 5,
    "start_time": "2022-05-07T15:22:04.170Z"
   },
   {
    "duration": 6665,
    "start_time": "2022-05-07T15:22:18.354Z"
   },
   {
    "duration": 5,
    "start_time": "2022-05-07T15:22:26.273Z"
   },
   {
    "duration": 113,
    "start_time": "2022-05-07T15:24:46.035Z"
   },
   {
    "duration": 3,
    "start_time": "2022-05-07T15:24:46.945Z"
   },
   {
    "duration": 4,
    "start_time": "2022-05-07T15:24:49.602Z"
   },
   {
    "duration": 1072,
    "start_time": "2022-05-07T15:25:05.785Z"
   },
   {
    "duration": 6,
    "start_time": "2022-05-07T15:25:24.017Z"
   },
   {
    "duration": 6757,
    "start_time": "2022-05-07T15:27:01.133Z"
   },
   {
    "duration": 5,
    "start_time": "2022-05-07T15:27:07.892Z"
   },
   {
    "duration": 6,
    "start_time": "2022-05-07T15:27:21.915Z"
   },
   {
    "duration": 5,
    "start_time": "2022-05-07T15:27:34.778Z"
   },
   {
    "duration": 5,
    "start_time": "2022-05-07T15:27:46.850Z"
   },
   {
    "duration": 6,
    "start_time": "2022-05-07T15:27:50.626Z"
   },
   {
    "duration": 124,
    "start_time": "2022-05-07T15:32:25.019Z"
   },
   {
    "duration": 4,
    "start_time": "2022-05-07T15:33:34.867Z"
   },
   {
    "duration": 12746,
    "start_time": "2022-05-07T15:33:44.433Z"
   },
   {
    "duration": 5,
    "start_time": "2022-05-07T15:34:05.166Z"
   },
   {
    "duration": 16,
    "start_time": "2022-05-07T15:34:26.852Z"
   },
   {
    "duration": 130,
    "start_time": "2022-05-07T15:34:30.573Z"
   },
   {
    "duration": 4,
    "start_time": "2022-05-07T15:34:31.300Z"
   },
   {
    "duration": 7890,
    "start_time": "2022-05-07T15:34:31.788Z"
   },
   {
    "duration": 4,
    "start_time": "2022-05-07T15:34:39.680Z"
   },
   {
    "duration": 110,
    "start_time": "2022-05-07T15:35:54.582Z"
   },
   {
    "duration": 3,
    "start_time": "2022-05-07T15:35:58.836Z"
   },
   {
    "duration": 6542,
    "start_time": "2022-05-07T15:36:01.574Z"
   },
   {
    "duration": 12,
    "start_time": "2022-05-07T15:36:08.765Z"
   },
   {
    "duration": 8,
    "start_time": "2022-05-07T15:36:09.205Z"
   },
   {
    "duration": 5,
    "start_time": "2022-05-07T15:36:09.608Z"
   },
   {
    "duration": 4,
    "start_time": "2022-05-07T15:36:14.973Z"
   },
   {
    "duration": 5,
    "start_time": "2022-05-07T15:36:16.261Z"
   },
   {
    "duration": 3,
    "start_time": "2022-05-07T15:36:18.573Z"
   },
   {
    "duration": 33267,
    "start_time": "2022-05-07T15:36:18.974Z"
   },
   {
    "duration": 33,
    "start_time": "2022-05-07T15:36:53.127Z"
   },
   {
    "duration": 150987,
    "start_time": "2022-05-07T15:36:59.270Z"
   },
   {
    "duration": 9,
    "start_time": "2022-05-07T15:43:50.848Z"
   },
   {
    "duration": 4,
    "start_time": "2022-05-07T15:44:06.163Z"
   },
   {
    "duration": 4,
    "start_time": "2022-05-07T15:44:15.719Z"
   },
   {
    "duration": 13,
    "start_time": "2022-05-07T15:44:16.368Z"
   },
   {
    "duration": 107,
    "start_time": "2022-05-07T15:46:50.345Z"
   },
   {
    "duration": 19,
    "start_time": "2022-05-07T15:47:31.952Z"
   },
   {
    "duration": 183,
    "start_time": "2022-05-07T15:47:32.288Z"
   },
   {
    "duration": 102,
    "start_time": "2022-05-07T15:48:08.424Z"
   },
   {
    "duration": 10,
    "start_time": "2022-05-07T15:48:33.480Z"
   },
   {
    "duration": 136,
    "start_time": "2022-05-07T16:03:19.428Z"
   },
   {
    "duration": 13,
    "start_time": "2022-05-07T16:03:20.139Z"
   },
   {
    "duration": 6044,
    "start_time": "2022-05-07T16:03:20.748Z"
   },
   {
    "duration": 109,
    "start_time": "2022-05-07T16:04:18.427Z"
   },
   {
    "duration": 13,
    "start_time": "2022-05-07T16:04:19.091Z"
   },
   {
    "duration": 7362,
    "start_time": "2022-05-07T16:04:19.612Z"
   },
   {
    "duration": 7219,
    "start_time": "2022-05-07T16:04:26.976Z"
   },
   {
    "duration": 15,
    "start_time": "2022-05-07T16:05:06.932Z"
   },
   {
    "duration": 11,
    "start_time": "2022-05-07T16:05:35.644Z"
   },
   {
    "duration": 3,
    "start_time": "2022-05-07T16:05:46.484Z"
   },
   {
    "duration": 3,
    "start_time": "2022-05-07T16:06:39.908Z"
   },
   {
    "duration": 16,
    "start_time": "2022-05-07T16:06:40.325Z"
   },
   {
    "duration": 5,
    "start_time": "2022-05-07T16:06:40.676Z"
   },
   {
    "duration": 5,
    "start_time": "2022-05-07T16:06:41.228Z"
   },
   {
    "duration": 4,
    "start_time": "2022-05-07T16:06:45.661Z"
   },
   {
    "duration": 147875,
    "start_time": "2022-05-07T16:06:57.318Z"
   },
   {
    "duration": 12,
    "start_time": "2022-05-07T16:09:25.195Z"
   },
   {
    "duration": 4,
    "start_time": "2022-05-07T16:10:11.901Z"
   },
   {
    "duration": 115791,
    "start_time": "2022-05-07T16:10:16.454Z"
   },
   {
    "duration": 13,
    "start_time": "2022-05-07T16:12:12.247Z"
   },
   {
    "duration": 0,
    "start_time": "2022-05-07T16:12:12.262Z"
   },
   {
    "duration": 14,
    "start_time": "2022-05-07T16:13:48.062Z"
   },
   {
    "duration": 6,
    "start_time": "2022-05-07T16:14:10.383Z"
   },
   {
    "duration": 18,
    "start_time": "2022-05-07T16:14:11.311Z"
   },
   {
    "duration": 4,
    "start_time": "2022-05-07T16:14:33.887Z"
   },
   {
    "duration": 3,
    "start_time": "2022-05-07T16:14:34.326Z"
   },
   {
    "duration": 968714,
    "start_time": "2022-05-07T16:14:34.721Z"
   },
   {
    "duration": 81,
    "start_time": "2022-05-07T16:30:43.437Z"
   },
   {
    "duration": 0,
    "start_time": "2022-05-07T16:30:43.524Z"
   },
   {
    "duration": 0,
    "start_time": "2022-05-07T16:30:43.525Z"
   },
   {
    "duration": 0,
    "start_time": "2022-05-07T16:30:43.527Z"
   },
   {
    "duration": 0,
    "start_time": "2022-05-07T16:30:43.528Z"
   },
   {
    "duration": 0,
    "start_time": "2022-05-07T16:30:43.529Z"
   },
   {
    "duration": 0,
    "start_time": "2022-05-07T16:30:43.530Z"
   },
   {
    "duration": 0,
    "start_time": "2022-05-07T16:30:43.531Z"
   },
   {
    "duration": 251,
    "start_time": "2022-05-07T16:36:04.715Z"
   },
   {
    "duration": 371,
    "start_time": "2022-05-07T16:36:21.603Z"
   },
   {
    "duration": 13,
    "start_time": "2022-05-07T16:36:24.139Z"
   },
   {
    "duration": 61698,
    "start_time": "2022-05-07T16:40:05.956Z"
   },
   {
    "duration": 108287,
    "start_time": "2022-05-07T16:41:40.374Z"
   },
   {
    "duration": 324533,
    "start_time": "2022-05-07T16:44:23.390Z"
   },
   {
    "duration": 113841,
    "start_time": "2022-05-07T16:49:47.926Z"
   },
   {
    "duration": 6,
    "start_time": "2022-05-07T16:51:41.769Z"
   },
   {
    "duration": 109,
    "start_time": "2022-05-07T16:51:41.777Z"
   },
   {
    "duration": 5,
    "start_time": "2022-05-07T16:51:45.472Z"
   },
   {
    "duration": 9,
    "start_time": "2022-05-07T16:53:50.161Z"
   },
   {
    "duration": 11,
    "start_time": "2022-05-07T16:53:51.201Z"
   },
   {
    "duration": 3,
    "start_time": "2022-05-07T16:54:20.250Z"
   },
   {
    "duration": 7276,
    "start_time": "2022-05-07T16:54:20.977Z"
   },
   {
    "duration": 7265,
    "start_time": "2022-05-07T16:54:28.258Z"
   },
   {
    "duration": 16,
    "start_time": "2022-05-07T16:55:10.800Z"
   },
   {
    "duration": 12,
    "start_time": "2022-05-07T16:55:11.129Z"
   },
   {
    "duration": 113,
    "start_time": "2022-05-07T16:55:14.696Z"
   },
   {
    "duration": 9,
    "start_time": "2022-05-07T16:55:15.049Z"
   },
   {
    "duration": 3,
    "start_time": "2022-05-07T16:55:15.305Z"
   },
   {
    "duration": 7213,
    "start_time": "2022-05-07T16:55:15.594Z"
   },
   {
    "duration": 6997,
    "start_time": "2022-05-07T16:55:22.810Z"
   },
   {
    "duration": 6,
    "start_time": "2022-05-07T17:00:44.985Z"
   },
   {
    "duration": 6,
    "start_time": "2022-05-07T17:01:48.506Z"
   },
   {
    "duration": 7,
    "start_time": "2022-05-07T17:02:01.977Z"
   },
   {
    "duration": 77,
    "start_time": "2022-05-07T17:05:21.123Z"
   },
   {
    "duration": 8,
    "start_time": "2022-05-07T17:08:23.163Z"
   },
   {
    "duration": 156238,
    "start_time": "2022-05-07T17:08:33.899Z"
   },
   {
    "duration": 10,
    "start_time": "2022-05-07T17:13:00.260Z"
   },
   {
    "duration": 3,
    "start_time": "2022-05-07T17:16:39.331Z"
   },
   {
    "duration": 4,
    "start_time": "2022-05-07T17:16:56.300Z"
   },
   {
    "duration": 137,
    "start_time": "2022-05-07T17:16:57.198Z"
   },
   {
    "duration": 143,
    "start_time": "2022-05-07T17:18:54.798Z"
   },
   {
    "duration": 51,
    "start_time": "2022-05-07T17:19:32.853Z"
   },
   {
    "duration": 5,
    "start_time": "2022-05-07T17:19:46.117Z"
   },
   {
    "duration": 13,
    "start_time": "2022-05-07T17:20:02.501Z"
   },
   {
    "duration": 11,
    "start_time": "2022-05-07T17:20:18.837Z"
   },
   {
    "duration": 67,
    "start_time": "2022-05-07T17:21:08.574Z"
   },
   {
    "duration": 28,
    "start_time": "2022-05-07T17:21:20.533Z"
   },
   {
    "duration": 370541,
    "start_time": "2022-05-07T17:22:07.262Z"
   },
   {
    "duration": 5,
    "start_time": "2022-05-07T17:28:17.807Z"
   },
   {
    "duration": 13,
    "start_time": "2022-05-07T17:28:54.440Z"
   },
   {
    "duration": 60,
    "start_time": "2022-05-07T17:29:08.984Z"
   },
   {
    "duration": 122,
    "start_time": "2022-05-07T17:30:06.209Z"
   },
   {
    "duration": 105,
    "start_time": "2022-05-07T17:31:37.865Z"
   },
   {
    "duration": 163,
    "start_time": "2022-05-07T17:31:55.161Z"
   },
   {
    "duration": 5,
    "start_time": "2022-05-07T17:32:22.905Z"
   },
   {
    "duration": 5,
    "start_time": "2022-05-07T17:32:34.128Z"
   },
   {
    "duration": 4,
    "start_time": "2022-05-07T17:33:10.050Z"
   },
   {
    "duration": 5,
    "start_time": "2022-05-07T17:36:11.227Z"
   },
   {
    "duration": 5,
    "start_time": "2022-05-07T17:36:18.089Z"
   },
   {
    "duration": 5,
    "start_time": "2022-05-07T17:36:46.738Z"
   },
   {
    "duration": 4,
    "start_time": "2022-05-07T17:37:19.850Z"
   },
   {
    "duration": 161,
    "start_time": "2022-05-07T17:38:08.874Z"
   },
   {
    "duration": 5,
    "start_time": "2022-05-07T17:38:13.722Z"
   },
   {
    "duration": 4,
    "start_time": "2022-05-07T17:38:21.043Z"
   },
   {
    "duration": 26,
    "start_time": "2022-05-07T17:38:32.274Z"
   },
   {
    "duration": 5,
    "start_time": "2022-05-07T17:39:02.803Z"
   },
   {
    "duration": 5,
    "start_time": "2022-05-07T17:40:02.300Z"
   },
   {
    "duration": 3,
    "start_time": "2022-05-07T17:40:49.139Z"
   },
   {
    "duration": 27,
    "start_time": "2022-05-07T17:41:14.036Z"
   },
   {
    "duration": 3,
    "start_time": "2022-05-07T17:43:57.093Z"
   },
   {
    "duration": 25,
    "start_time": "2022-05-07T17:53:10.224Z"
   },
   {
    "duration": 1734,
    "start_time": "2022-05-07T17:53:10.251Z"
   },
   {
    "duration": 1277,
    "start_time": "2022-05-07T17:53:11.987Z"
   },
   {
    "duration": 5,
    "start_time": "2022-05-07T17:53:13.266Z"
   },
   {
    "duration": 4,
    "start_time": "2022-05-07T17:53:13.274Z"
   },
   {
    "duration": 6,
    "start_time": "2022-05-07T17:53:13.280Z"
   },
   {
    "duration": 10,
    "start_time": "2022-05-07T17:53:13.312Z"
   },
   {
    "duration": 1369,
    "start_time": "2022-05-07T17:53:13.324Z"
   },
   {
    "duration": 46532,
    "start_time": "2022-05-07T17:53:14.694Z"
   },
   {
    "duration": 3,
    "start_time": "2022-05-07T17:54:01.229Z"
   },
   {
    "duration": 2524,
    "start_time": "2022-05-07T17:54:01.234Z"
   },
   {
    "duration": 585,
    "start_time": "2022-05-07T17:54:03.760Z"
   },
   {
    "duration": 4,
    "start_time": "2022-05-07T17:54:04.347Z"
   },
   {
    "duration": 121,
    "start_time": "2022-05-07T17:54:04.353Z"
   },
   {
    "duration": 9,
    "start_time": "2022-05-07T17:54:04.476Z"
   },
   {
    "duration": 4,
    "start_time": "2022-05-07T17:54:04.487Z"
   },
   {
    "duration": 7790,
    "start_time": "2022-05-07T17:54:04.493Z"
   },
   {
    "duration": 7656,
    "start_time": "2022-05-07T17:54:12.285Z"
   },
   {
    "duration": 3,
    "start_time": "2022-05-07T17:54:19.943Z"
   },
   {
    "duration": 22,
    "start_time": "2022-05-07T17:54:19.948Z"
   },
   {
    "duration": 5,
    "start_time": "2022-05-07T17:54:19.972Z"
   },
   {
    "duration": 31,
    "start_time": "2022-05-07T17:54:19.980Z"
   },
   {
    "duration": 4,
    "start_time": "2022-05-07T17:54:20.017Z"
   },
   {
    "duration": 152024,
    "start_time": "2022-05-07T17:54:20.024Z"
   },
   {
    "duration": 5,
    "start_time": "2022-05-07T17:56:52.050Z"
   },
   {
    "duration": 118916,
    "start_time": "2022-05-07T17:56:52.057Z"
   },
   {
    "duration": 6,
    "start_time": "2022-05-07T17:58:50.975Z"
   },
   {
    "duration": 36,
    "start_time": "2022-05-07T17:58:50.985Z"
   },
   {
    "duration": 8,
    "start_time": "2022-05-07T17:58:51.024Z"
   },
   {
    "duration": 3,
    "start_time": "2022-05-07T17:58:51.035Z"
   },
   {
    "duration": 7,
    "start_time": "2022-05-07T17:58:51.039Z"
   },
   {
    "duration": 990780,
    "start_time": "2022-05-07T17:58:51.047Z"
   },
   {
    "duration": 406,
    "start_time": "2022-05-07T18:15:21.829Z"
   },
   {
    "duration": 13,
    "start_time": "2022-05-07T18:15:22.237Z"
   },
   {
    "duration": 3,
    "start_time": "2022-05-07T18:15:22.252Z"
   },
   {
    "duration": 375360,
    "start_time": "2022-05-07T18:15:22.256Z"
   },
   {
    "duration": 3,
    "start_time": "2022-05-07T18:21:37.621Z"
   },
   {
    "duration": 38,
    "start_time": "2022-05-07T18:21:37.627Z"
   },
   {
    "duration": 3,
    "start_time": "2022-05-07T18:21:37.667Z"
   },
   {
    "duration": 4273,
    "start_time": "2022-05-07T18:21:37.672Z"
   },
   {
    "duration": 26,
    "start_time": "2022-05-07T18:21:41.947Z"
   },
   {
    "duration": 94947,
    "start_time": "2022-05-07T18:21:52.125Z"
   },
   {
    "duration": 5,
    "start_time": "2022-05-07T18:24:12.042Z"
   },
   {
    "duration": 95,
    "start_time": "2022-05-07T18:25:02.393Z"
   },
   {
    "duration": 3,
    "start_time": "2022-05-07T18:27:40.372Z"
   },
   {
    "duration": 106,
    "start_time": "2022-05-07T18:27:41.893Z"
   },
   {
    "duration": 4,
    "start_time": "2022-05-07T18:28:16.228Z"
   },
   {
    "duration": 24,
    "start_time": "2022-05-07T18:28:37.356Z"
   },
   {
    "duration": 5,
    "start_time": "2022-05-07T18:29:04.428Z"
   },
   {
    "duration": 21,
    "start_time": "2022-05-07T18:29:39.965Z"
   },
   {
    "duration": 21,
    "start_time": "2022-05-07T18:29:44.877Z"
   },
   {
    "duration": 21,
    "start_time": "2022-05-07T18:30:00.669Z"
   },
   {
    "duration": 23,
    "start_time": "2022-05-07T18:30:20.748Z"
   },
   {
    "duration": 26,
    "start_time": "2022-05-07T18:30:49.597Z"
   },
   {
    "duration": 3,
    "start_time": "2022-05-07T18:30:50.541Z"
   },
   {
    "duration": 78,
    "start_time": "2022-05-07T18:30:53.358Z"
   },
   {
    "duration": 4,
    "start_time": "2022-05-07T18:31:25.389Z"
   },
   {
    "duration": 4,
    "start_time": "2022-05-07T18:31:30.237Z"
   },
   {
    "duration": 34,
    "start_time": "2022-05-07T18:33:08.638Z"
   },
   {
    "duration": 3,
    "start_time": "2022-05-07T18:33:09.277Z"
   },
   {
    "duration": 6864,
    "start_time": "2022-05-07T18:33:09.783Z"
   },
   {
    "duration": 12,
    "start_time": "2022-05-07T18:36:02.590Z"
   },
   {
    "duration": 4,
    "start_time": "2022-05-07T18:36:39.735Z"
   },
   {
    "duration": 4,
    "start_time": "2022-05-07T18:37:59.335Z"
   },
   {
    "duration": 13,
    "start_time": "2022-05-07T18:38:46.015Z"
   }
  ],
  "kernelspec": {
   "display_name": "Python 3 (ipykernel)",
   "language": "python",
   "name": "python3"
  },
  "language_info": {
   "codemirror_mode": {
    "name": "ipython",
    "version": 3
   },
   "file_extension": ".py",
   "mimetype": "text/x-python",
   "name": "python",
   "nbconvert_exporter": "python",
   "pygments_lexer": "ipython3",
   "version": "3.9.0"
  },
  "toc": {
   "base_numbering": 1,
   "nav_menu": {
    "height": "329px",
    "width": "162px"
   },
   "number_sections": true,
   "sideBar": true,
   "skip_h1_title": true,
   "title_cell": "Содержание",
   "title_sidebar": "Contents",
   "toc_cell": true,
   "toc_position": {
    "height": "calc(100% - 180px)",
    "left": "10px",
    "top": "150px",
    "width": "302.391px"
   },
   "toc_section_display": true,
   "toc_window_display": false
  }
 },
 "nbformat": 4,
 "nbformat_minor": 2
}
