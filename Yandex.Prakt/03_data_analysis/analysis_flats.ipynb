{
 "cells": [
  {
   "cell_type": "markdown",
   "metadata": {
    "toc": true
   },
   "source": [
    "<h1>Содержание<span class=\"tocSkip\"></span></h1>\n",
    "<div class=\"toc\"><ul class=\"toc-item\"><li><span><a href=\"#Изучение-данных-из-файла\" data-toc-modified-id=\"Изучение-данных-из-файла-1\"><span class=\"toc-item-num\">1&nbsp;&nbsp;</span>Изучение данных из файла</a></span><ul class=\"toc-item\"><li><span><a href=\"#Вывод\" data-toc-modified-id=\"Вывод-1.1\"><span class=\"toc-item-num\">1.1&nbsp;&nbsp;</span>Вывод</a></span></li></ul></li><li><span><a href=\"#Предобработка-данных\" data-toc-modified-id=\"Предобработка-данных-2\"><span class=\"toc-item-num\">2&nbsp;&nbsp;</span>Предобработка данных</a></span><ul class=\"toc-item\"><li><span><a href=\"#Вывод\" data-toc-modified-id=\"Вывод-2.1\"><span class=\"toc-item-num\">2.1&nbsp;&nbsp;</span>Вывод</a></span></li></ul></li><li><span><a href=\"#Расчёты-и-добавление-результатов-в-таблицу\" data-toc-modified-id=\"Расчёты-и-добавление-результатов-в-таблицу-3\"><span class=\"toc-item-num\">3&nbsp;&nbsp;</span>Расчёты и добавление результатов в таблицу</a></span><ul class=\"toc-item\"><li><span><a href=\"#Вывод\" data-toc-modified-id=\"Вывод-3.1\"><span class=\"toc-item-num\">3.1&nbsp;&nbsp;</span>Вывод</a></span></li></ul></li><li><span><a href=\"#Исследовательский-анализ-данных\" data-toc-modified-id=\"Исследовательский-анализ-данных-4\"><span class=\"toc-item-num\">4&nbsp;&nbsp;</span>Исследовательский анализ данных</a></span><ul class=\"toc-item\"><li><span><a href=\"#Площадь\" data-toc-modified-id=\"Площадь-4.1\"><span class=\"toc-item-num\">4.1&nbsp;&nbsp;</span>Площадь</a></span></li><li><span><a href=\"#Цена\" data-toc-modified-id=\"Цена-4.2\"><span class=\"toc-item-num\">4.2&nbsp;&nbsp;</span>Цена</a></span></li><li><span><a href=\"#Число-комнат\" data-toc-modified-id=\"Число-комнат-4.3\"><span class=\"toc-item-num\">4.3&nbsp;&nbsp;</span>Число комнат</a></span></li><li><span><a href=\"#Высота-потолков\" data-toc-modified-id=\"Высота-потолков-4.4\"><span class=\"toc-item-num\">4.4&nbsp;&nbsp;</span>Высота потолков</a></span></li><li><span><a href=\"#Время-продажи-квартиры\" data-toc-modified-id=\"Время-продажи-квартиры-4.5\"><span class=\"toc-item-num\">4.5&nbsp;&nbsp;</span>Время продажи квартиры</a></span></li><li><span><a href=\"#Удаление-редких-и-выбивающийся-значений\" data-toc-modified-id=\"Удаление-редких-и-выбивающийся-значений-4.6\"><span class=\"toc-item-num\">4.6&nbsp;&nbsp;</span>Удаление редких и выбивающийся значений</a></span></li><li><span><a href=\"#Изучения-влияния-на-стоимость\" data-toc-modified-id=\"Изучения-влияния-на-стоимость-4.7\"><span class=\"toc-item-num\">4.7&nbsp;&nbsp;</span>Изучения влияния на стоимость</a></span><ul class=\"toc-item\"><li><span><a href=\"#Зависимость-от-площади\" data-toc-modified-id=\"Зависимость-от-площади-4.7.1\"><span class=\"toc-item-num\">4.7.1&nbsp;&nbsp;</span>Зависимость от площади</a></span></li><li><span><a href=\"#Зависимость-от-количества-комнат\" data-toc-modified-id=\"Зависимость-от-количества-комнат-4.7.2\"><span class=\"toc-item-num\">4.7.2&nbsp;&nbsp;</span>Зависимость от количества комнат</a></span></li><li><span><a href=\"#Зависимость-от-удалённости-от-цента\" data-toc-modified-id=\"Зависимость-от-удалённости-от-цента-4.7.3\"><span class=\"toc-item-num\">4.7.3&nbsp;&nbsp;</span>Зависимость от удалённости от цента</a></span></li><li><span><a href=\"#Зависимость-от-этажа\" data-toc-modified-id=\"Зависимость-от-этажа-4.7.4\"><span class=\"toc-item-num\">4.7.4&nbsp;&nbsp;</span>Зависимость от этажа</a></span></li><li><span><a href=\"#Зависимость-от-даты-размещения\" data-toc-modified-id=\"Зависимость-от-даты-размещения-4.7.5\"><span class=\"toc-item-num\">4.7.5&nbsp;&nbsp;</span>Зависимость от даты размещения</a></span></li></ul></li><li><span><a href=\"#Населенные-пункты-с-самым-дешевым-и-самым-дорогим-жильём\" data-toc-modified-id=\"Населенные-пункты-с-самым-дешевым-и-самым-дорогим-жильём-4.8\"><span class=\"toc-item-num\">4.8&nbsp;&nbsp;</span>Населенные пункты с самым дешевым и самым дорогим жильём</a></span></li><li><span><a href=\"#Изучение-предложения-квартир-в-Санк-Петербурге\" data-toc-modified-id=\"Изучение-предложения-квартир-в-Санк-Петербурге-4.9\"><span class=\"toc-item-num\">4.9&nbsp;&nbsp;</span>Изучение предложения квартир в Санк-Петербурге</a></span><ul class=\"toc-item\"><li><span><a href=\"#Зависимость-от-площади\" data-toc-modified-id=\"Зависимость-от-площади-4.9.1\"><span class=\"toc-item-num\">4.9.1&nbsp;&nbsp;</span>Зависимость от площади</a></span></li><li><span><a href=\"#Зависимость-от-количества-комнат\" data-toc-modified-id=\"Зависимость-от-количества-комнат-4.9.2\"><span class=\"toc-item-num\">4.9.2&nbsp;&nbsp;</span>Зависимость от количества комнат</a></span></li><li><span><a href=\"#Зависимость-от-удалённости-от-цента\" data-toc-modified-id=\"Зависимость-от-удалённости-от-цента-4.9.3\"><span class=\"toc-item-num\">4.9.3&nbsp;&nbsp;</span>Зависимость от удалённости от цента</a></span></li><li><span><a href=\"#Зависимость-от-этажа\" data-toc-modified-id=\"Зависимость-от-этажа-4.9.4\"><span class=\"toc-item-num\">4.9.4&nbsp;&nbsp;</span>Зависимость от этажа</a></span></li><li><span><a href=\"#Зависимость-от-даты-размещения\" data-toc-modified-id=\"Зависимость-от-даты-размещения-4.9.5\"><span class=\"toc-item-num\">4.9.5&nbsp;&nbsp;</span>Зависимость от даты размещения</a></span></li></ul></li><li><span><a href=\"#Вывод\" data-toc-modified-id=\"Вывод-4.10\"><span class=\"toc-item-num\">4.10&nbsp;&nbsp;</span>Вывод</a></span></li></ul></li><li><span><a href=\"#Общий-вывод\" data-toc-modified-id=\"Общий-вывод-5\"><span class=\"toc-item-num\">5&nbsp;&nbsp;</span>Общий вывод</a></span></li><li><span><a href=\"#Чек-лист-готовности-проекта\" data-toc-modified-id=\"Чек-лист-готовности-проекта-6\"><span class=\"toc-item-num\">6&nbsp;&nbsp;</span>Чек-лист готовности проекта</a></span></li></ul></div>"
   ]
  },
  {
   "cell_type": "markdown",
   "metadata": {},
   "source": [
    "# Исследование объявлений о продаже квартир\n",
    "\n",
    "В вашем распоряжении данные сервиса Яндекс.Недвижимость — архив объявлений о продаже квартир в Санкт-Петербурге и соседних населённых пунктах за несколько лет. Нужно научиться определять рыночную стоимость объектов недвижимости. Ваша задача — установить параметры. Это позволит построить автоматизированную систему: она отследит аномалии и мошенническую деятельность. \n",
    "\n",
    "По каждой квартире на продажу доступны два вида данных. Первые вписаны пользователем, вторые получены автоматически на основе картографических данных. Например, расстояние до центра, аэропорта, ближайшего парка и водоёма. "
   ]
  },
  {
   "cell_type": "code",
   "execution_count": 1,
   "metadata": {},
   "outputs": [
    {
     "data": {
      "text/plain": [
       "{'CodeCell': {'cm_config': {'autoCloseBrackets': False}}}"
      ]
     },
     "execution_count": 1,
     "metadata": {},
     "output_type": "execute_result"
    }
   ],
   "source": [
    "from notebook.services.config import ConfigManager\n",
    "c = ConfigManager()\n",
    "c.update('notebook', {\"CodeCell\": {\"cm_config\": {\"autoCloseBrackets\": False}}})"
   ]
  },
  {
   "cell_type": "markdown",
   "metadata": {},
   "source": [
    "## Изучение данных из файла"
   ]
  },
  {
   "cell_type": "markdown",
   "metadata": {},
   "source": [
    "Данные в файле разделены табуляцией."
   ]
  },
  {
   "cell_type": "code",
   "execution_count": 2,
   "metadata": {},
   "outputs": [
    {
     "data": {
      "text/plain": [
       "Index(['total_images', 'last_price', 'total_area', 'first_day_exposition',\n",
       "       'rooms', 'ceiling_height', 'floors_total', 'living_area', 'floor',\n",
       "       'is_apartment', 'studio', 'open_plan', 'kitchen_area', 'balcony',\n",
       "       'locality_name', 'airports_nearest', 'cityCenters_nearest',\n",
       "       'parks_around3000', 'parks_nearest', 'ponds_around3000',\n",
       "       'ponds_nearest', 'days_exposition'],\n",
       "      dtype='object')"
      ]
     },
     "execution_count": 2,
     "metadata": {},
     "output_type": "execute_result"
    }
   ],
   "source": [
    "import pandas as pd\n",
    "import numpy as np\n",
    "data = pd.read_csv('/datasets/real_estate_data.csv', sep='\\t')\n",
    "data.columns"
   ]
  },
  {
   "cell_type": "markdown",
   "metadata": {},
   "source": [
    "cityCenters_nearest не соответсвует стандарту наименований и, на мой взгляд, нельзя толком догадаться, что он вообще означает."
   ]
  },
  {
   "cell_type": "code",
   "execution_count": 3,
   "metadata": {},
   "outputs": [
    {
     "data": {
      "text/html": [
       "<div>\n",
       "<style scoped>\n",
       "    .dataframe tbody tr th:only-of-type {\n",
       "        vertical-align: middle;\n",
       "    }\n",
       "\n",
       "    .dataframe tbody tr th {\n",
       "        vertical-align: top;\n",
       "    }\n",
       "\n",
       "    .dataframe thead th {\n",
       "        text-align: right;\n",
       "    }\n",
       "</style>\n",
       "<table border=\"1\" class=\"dataframe\">\n",
       "  <thead>\n",
       "    <tr style=\"text-align: right;\">\n",
       "      <th></th>\n",
       "      <th>total_images</th>\n",
       "      <th>last_price</th>\n",
       "      <th>total_area</th>\n",
       "      <th>first_day_exposition</th>\n",
       "      <th>rooms</th>\n",
       "      <th>ceiling_height</th>\n",
       "      <th>floors_total</th>\n",
       "      <th>living_area</th>\n",
       "      <th>floor</th>\n",
       "      <th>is_apartment</th>\n",
       "      <th>studio</th>\n",
       "      <th>open_plan</th>\n",
       "      <th>kitchen_area</th>\n",
       "      <th>balcony</th>\n",
       "      <th>locality_name</th>\n",
       "      <th>airports_nearest</th>\n",
       "      <th>center_distance</th>\n",
       "      <th>parks_around3000</th>\n",
       "      <th>parks_nearest</th>\n",
       "      <th>ponds_around3000</th>\n",
       "      <th>ponds_nearest</th>\n",
       "      <th>days_exposition</th>\n",
       "    </tr>\n",
       "  </thead>\n",
       "  <tbody>\n",
       "    <tr>\n",
       "      <td>0</td>\n",
       "      <td>20</td>\n",
       "      <td>13000000.0</td>\n",
       "      <td>108.00</td>\n",
       "      <td>2019-03-07T00:00:00</td>\n",
       "      <td>3</td>\n",
       "      <td>2.70</td>\n",
       "      <td>16.0</td>\n",
       "      <td>51.0</td>\n",
       "      <td>8</td>\n",
       "      <td>NaN</td>\n",
       "      <td>False</td>\n",
       "      <td>False</td>\n",
       "      <td>25.00</td>\n",
       "      <td>NaN</td>\n",
       "      <td>Санкт-Петербург</td>\n",
       "      <td>18863.0</td>\n",
       "      <td>16028.0</td>\n",
       "      <td>1.0</td>\n",
       "      <td>482.0</td>\n",
       "      <td>2.0</td>\n",
       "      <td>755.0</td>\n",
       "      <td>NaN</td>\n",
       "    </tr>\n",
       "    <tr>\n",
       "      <td>1</td>\n",
       "      <td>7</td>\n",
       "      <td>3350000.0</td>\n",
       "      <td>40.40</td>\n",
       "      <td>2018-12-04T00:00:00</td>\n",
       "      <td>1</td>\n",
       "      <td>NaN</td>\n",
       "      <td>11.0</td>\n",
       "      <td>18.6</td>\n",
       "      <td>1</td>\n",
       "      <td>NaN</td>\n",
       "      <td>False</td>\n",
       "      <td>False</td>\n",
       "      <td>11.00</td>\n",
       "      <td>2.0</td>\n",
       "      <td>посёлок Шушары</td>\n",
       "      <td>12817.0</td>\n",
       "      <td>18603.0</td>\n",
       "      <td>0.0</td>\n",
       "      <td>NaN</td>\n",
       "      <td>0.0</td>\n",
       "      <td>NaN</td>\n",
       "      <td>81.0</td>\n",
       "    </tr>\n",
       "    <tr>\n",
       "      <td>2</td>\n",
       "      <td>10</td>\n",
       "      <td>5196000.0</td>\n",
       "      <td>56.00</td>\n",
       "      <td>2015-08-20T00:00:00</td>\n",
       "      <td>2</td>\n",
       "      <td>NaN</td>\n",
       "      <td>5.0</td>\n",
       "      <td>34.3</td>\n",
       "      <td>4</td>\n",
       "      <td>NaN</td>\n",
       "      <td>False</td>\n",
       "      <td>False</td>\n",
       "      <td>8.30</td>\n",
       "      <td>0.0</td>\n",
       "      <td>Санкт-Петербург</td>\n",
       "      <td>21741.0</td>\n",
       "      <td>13933.0</td>\n",
       "      <td>1.0</td>\n",
       "      <td>90.0</td>\n",
       "      <td>2.0</td>\n",
       "      <td>574.0</td>\n",
       "      <td>558.0</td>\n",
       "    </tr>\n",
       "    <tr>\n",
       "      <td>3</td>\n",
       "      <td>0</td>\n",
       "      <td>64900000.0</td>\n",
       "      <td>159.00</td>\n",
       "      <td>2015-07-24T00:00:00</td>\n",
       "      <td>3</td>\n",
       "      <td>NaN</td>\n",
       "      <td>14.0</td>\n",
       "      <td>NaN</td>\n",
       "      <td>9</td>\n",
       "      <td>NaN</td>\n",
       "      <td>False</td>\n",
       "      <td>False</td>\n",
       "      <td>NaN</td>\n",
       "      <td>0.0</td>\n",
       "      <td>Санкт-Петербург</td>\n",
       "      <td>28098.0</td>\n",
       "      <td>6800.0</td>\n",
       "      <td>2.0</td>\n",
       "      <td>84.0</td>\n",
       "      <td>3.0</td>\n",
       "      <td>234.0</td>\n",
       "      <td>424.0</td>\n",
       "    </tr>\n",
       "    <tr>\n",
       "      <td>4</td>\n",
       "      <td>2</td>\n",
       "      <td>10000000.0</td>\n",
       "      <td>100.00</td>\n",
       "      <td>2018-06-19T00:00:00</td>\n",
       "      <td>2</td>\n",
       "      <td>3.03</td>\n",
       "      <td>14.0</td>\n",
       "      <td>32.0</td>\n",
       "      <td>13</td>\n",
       "      <td>NaN</td>\n",
       "      <td>False</td>\n",
       "      <td>False</td>\n",
       "      <td>41.00</td>\n",
       "      <td>NaN</td>\n",
       "      <td>Санкт-Петербург</td>\n",
       "      <td>31856.0</td>\n",
       "      <td>8098.0</td>\n",
       "      <td>2.0</td>\n",
       "      <td>112.0</td>\n",
       "      <td>1.0</td>\n",
       "      <td>48.0</td>\n",
       "      <td>121.0</td>\n",
       "    </tr>\n",
       "    <tr>\n",
       "      <td>...</td>\n",
       "      <td>...</td>\n",
       "      <td>...</td>\n",
       "      <td>...</td>\n",
       "      <td>...</td>\n",
       "      <td>...</td>\n",
       "      <td>...</td>\n",
       "      <td>...</td>\n",
       "      <td>...</td>\n",
       "      <td>...</td>\n",
       "      <td>...</td>\n",
       "      <td>...</td>\n",
       "      <td>...</td>\n",
       "      <td>...</td>\n",
       "      <td>...</td>\n",
       "      <td>...</td>\n",
       "      <td>...</td>\n",
       "      <td>...</td>\n",
       "      <td>...</td>\n",
       "      <td>...</td>\n",
       "      <td>...</td>\n",
       "      <td>...</td>\n",
       "      <td>...</td>\n",
       "    </tr>\n",
       "    <tr>\n",
       "      <td>23694</td>\n",
       "      <td>9</td>\n",
       "      <td>9700000.0</td>\n",
       "      <td>133.81</td>\n",
       "      <td>2017-03-21T00:00:00</td>\n",
       "      <td>3</td>\n",
       "      <td>3.70</td>\n",
       "      <td>5.0</td>\n",
       "      <td>73.3</td>\n",
       "      <td>3</td>\n",
       "      <td>NaN</td>\n",
       "      <td>False</td>\n",
       "      <td>False</td>\n",
       "      <td>13.83</td>\n",
       "      <td>NaN</td>\n",
       "      <td>Санкт-Петербург</td>\n",
       "      <td>24665.0</td>\n",
       "      <td>4232.0</td>\n",
       "      <td>1.0</td>\n",
       "      <td>796.0</td>\n",
       "      <td>3.0</td>\n",
       "      <td>381.0</td>\n",
       "      <td>NaN</td>\n",
       "    </tr>\n",
       "    <tr>\n",
       "      <td>23695</td>\n",
       "      <td>14</td>\n",
       "      <td>3100000.0</td>\n",
       "      <td>59.00</td>\n",
       "      <td>2018-01-15T00:00:00</td>\n",
       "      <td>3</td>\n",
       "      <td>NaN</td>\n",
       "      <td>5.0</td>\n",
       "      <td>38.0</td>\n",
       "      <td>4</td>\n",
       "      <td>NaN</td>\n",
       "      <td>False</td>\n",
       "      <td>False</td>\n",
       "      <td>8.50</td>\n",
       "      <td>NaN</td>\n",
       "      <td>Тосно</td>\n",
       "      <td>NaN</td>\n",
       "      <td>NaN</td>\n",
       "      <td>NaN</td>\n",
       "      <td>NaN</td>\n",
       "      <td>NaN</td>\n",
       "      <td>NaN</td>\n",
       "      <td>45.0</td>\n",
       "    </tr>\n",
       "    <tr>\n",
       "      <td>23696</td>\n",
       "      <td>18</td>\n",
       "      <td>2500000.0</td>\n",
       "      <td>56.70</td>\n",
       "      <td>2018-02-11T00:00:00</td>\n",
       "      <td>2</td>\n",
       "      <td>NaN</td>\n",
       "      <td>3.0</td>\n",
       "      <td>29.7</td>\n",
       "      <td>1</td>\n",
       "      <td>NaN</td>\n",
       "      <td>False</td>\n",
       "      <td>False</td>\n",
       "      <td>NaN</td>\n",
       "      <td>NaN</td>\n",
       "      <td>село Рождествено</td>\n",
       "      <td>NaN</td>\n",
       "      <td>NaN</td>\n",
       "      <td>NaN</td>\n",
       "      <td>NaN</td>\n",
       "      <td>NaN</td>\n",
       "      <td>NaN</td>\n",
       "      <td>NaN</td>\n",
       "    </tr>\n",
       "    <tr>\n",
       "      <td>23697</td>\n",
       "      <td>13</td>\n",
       "      <td>11475000.0</td>\n",
       "      <td>76.75</td>\n",
       "      <td>2017-03-28T00:00:00</td>\n",
       "      <td>2</td>\n",
       "      <td>3.00</td>\n",
       "      <td>17.0</td>\n",
       "      <td>NaN</td>\n",
       "      <td>12</td>\n",
       "      <td>NaN</td>\n",
       "      <td>False</td>\n",
       "      <td>False</td>\n",
       "      <td>23.30</td>\n",
       "      <td>2.0</td>\n",
       "      <td>Санкт-Петербург</td>\n",
       "      <td>39140.0</td>\n",
       "      <td>10364.0</td>\n",
       "      <td>2.0</td>\n",
       "      <td>173.0</td>\n",
       "      <td>3.0</td>\n",
       "      <td>196.0</td>\n",
       "      <td>602.0</td>\n",
       "    </tr>\n",
       "    <tr>\n",
       "      <td>23698</td>\n",
       "      <td>4</td>\n",
       "      <td>1350000.0</td>\n",
       "      <td>32.30</td>\n",
       "      <td>2017-07-21T00:00:00</td>\n",
       "      <td>1</td>\n",
       "      <td>2.50</td>\n",
       "      <td>5.0</td>\n",
       "      <td>12.3</td>\n",
       "      <td>1</td>\n",
       "      <td>NaN</td>\n",
       "      <td>False</td>\n",
       "      <td>False</td>\n",
       "      <td>9.00</td>\n",
       "      <td>NaN</td>\n",
       "      <td>поселок Новый Учхоз</td>\n",
       "      <td>NaN</td>\n",
       "      <td>NaN</td>\n",
       "      <td>NaN</td>\n",
       "      <td>NaN</td>\n",
       "      <td>NaN</td>\n",
       "      <td>NaN</td>\n",
       "      <td>NaN</td>\n",
       "    </tr>\n",
       "  </tbody>\n",
       "</table>\n",
       "<p>23699 rows × 22 columns</p>\n",
       "</div>"
      ],
      "text/plain": [
       "       total_images  last_price  total_area first_day_exposition  rooms  \\\n",
       "0                20  13000000.0      108.00  2019-03-07T00:00:00      3   \n",
       "1                 7   3350000.0       40.40  2018-12-04T00:00:00      1   \n",
       "2                10   5196000.0       56.00  2015-08-20T00:00:00      2   \n",
       "3                 0  64900000.0      159.00  2015-07-24T00:00:00      3   \n",
       "4                 2  10000000.0      100.00  2018-06-19T00:00:00      2   \n",
       "...             ...         ...         ...                  ...    ...   \n",
       "23694             9   9700000.0      133.81  2017-03-21T00:00:00      3   \n",
       "23695            14   3100000.0       59.00  2018-01-15T00:00:00      3   \n",
       "23696            18   2500000.0       56.70  2018-02-11T00:00:00      2   \n",
       "23697            13  11475000.0       76.75  2017-03-28T00:00:00      2   \n",
       "23698             4   1350000.0       32.30  2017-07-21T00:00:00      1   \n",
       "\n",
       "       ceiling_height  floors_total  living_area  floor is_apartment  studio  \\\n",
       "0                2.70          16.0         51.0      8          NaN   False   \n",
       "1                 NaN          11.0         18.6      1          NaN   False   \n",
       "2                 NaN           5.0         34.3      4          NaN   False   \n",
       "3                 NaN          14.0          NaN      9          NaN   False   \n",
       "4                3.03          14.0         32.0     13          NaN   False   \n",
       "...               ...           ...          ...    ...          ...     ...   \n",
       "23694            3.70           5.0         73.3      3          NaN   False   \n",
       "23695             NaN           5.0         38.0      4          NaN   False   \n",
       "23696             NaN           3.0         29.7      1          NaN   False   \n",
       "23697            3.00          17.0          NaN     12          NaN   False   \n",
       "23698            2.50           5.0         12.3      1          NaN   False   \n",
       "\n",
       "       open_plan  kitchen_area  balcony        locality_name  \\\n",
       "0          False         25.00      NaN      Санкт-Петербург   \n",
       "1          False         11.00      2.0       посёлок Шушары   \n",
       "2          False          8.30      0.0      Санкт-Петербург   \n",
       "3          False           NaN      0.0      Санкт-Петербург   \n",
       "4          False         41.00      NaN      Санкт-Петербург   \n",
       "...          ...           ...      ...                  ...   \n",
       "23694      False         13.83      NaN      Санкт-Петербург   \n",
       "23695      False          8.50      NaN                Тосно   \n",
       "23696      False           NaN      NaN     село Рождествено   \n",
       "23697      False         23.30      2.0      Санкт-Петербург   \n",
       "23698      False          9.00      NaN  поселок Новый Учхоз   \n",
       "\n",
       "       airports_nearest  center_distance  parks_around3000  parks_nearest  \\\n",
       "0               18863.0          16028.0               1.0          482.0   \n",
       "1               12817.0          18603.0               0.0            NaN   \n",
       "2               21741.0          13933.0               1.0           90.0   \n",
       "3               28098.0           6800.0               2.0           84.0   \n",
       "4               31856.0           8098.0               2.0          112.0   \n",
       "...                 ...              ...               ...            ...   \n",
       "23694           24665.0           4232.0               1.0          796.0   \n",
       "23695               NaN              NaN               NaN            NaN   \n",
       "23696               NaN              NaN               NaN            NaN   \n",
       "23697           39140.0          10364.0               2.0          173.0   \n",
       "23698               NaN              NaN               NaN            NaN   \n",
       "\n",
       "       ponds_around3000  ponds_nearest  days_exposition  \n",
       "0                   2.0          755.0              NaN  \n",
       "1                   0.0            NaN             81.0  \n",
       "2                   2.0          574.0            558.0  \n",
       "3                   3.0          234.0            424.0  \n",
       "4                   1.0           48.0            121.0  \n",
       "...                 ...            ...              ...  \n",
       "23694               3.0          381.0              NaN  \n",
       "23695               NaN            NaN             45.0  \n",
       "23696               NaN            NaN              NaN  \n",
       "23697               3.0          196.0            602.0  \n",
       "23698               NaN            NaN              NaN  \n",
       "\n",
       "[23699 rows x 22 columns]"
      ]
     },
     "metadata": {},
     "output_type": "display_data"
    }
   ],
   "source": [
    "data.rename(columns = {'cityCenters_nearest':'center_distance'}, inplace = True)\n",
    "pd.set_option('display.max_columns', 9999)\n",
    "display(data)"
   ]
  },
  {
   "cell_type": "code",
   "execution_count": 4,
   "metadata": {},
   "outputs": [
    {
     "name": "stdout",
     "output_type": "stream",
     "text": [
      "<class 'pandas.core.frame.DataFrame'>\n",
      "RangeIndex: 23699 entries, 0 to 23698\n",
      "Data columns (total 22 columns):\n",
      "total_images            23699 non-null int64\n",
      "last_price              23699 non-null float64\n",
      "total_area              23699 non-null float64\n",
      "first_day_exposition    23699 non-null object\n",
      "rooms                   23699 non-null int64\n",
      "ceiling_height          14504 non-null float64\n",
      "floors_total            23613 non-null float64\n",
      "living_area             21796 non-null float64\n",
      "floor                   23699 non-null int64\n",
      "is_apartment            2775 non-null object\n",
      "studio                  23699 non-null bool\n",
      "open_plan               23699 non-null bool\n",
      "kitchen_area            21421 non-null float64\n",
      "balcony                 12180 non-null float64\n",
      "locality_name           23650 non-null object\n",
      "airports_nearest        18157 non-null float64\n",
      "center_distance         18180 non-null float64\n",
      "parks_around3000        18181 non-null float64\n",
      "parks_nearest           8079 non-null float64\n",
      "ponds_around3000        18181 non-null float64\n",
      "ponds_nearest           9110 non-null float64\n",
      "days_exposition         20518 non-null float64\n",
      "dtypes: bool(2), float64(14), int64(3), object(3)\n",
      "memory usage: 3.7+ MB\n"
     ]
    }
   ],
   "source": [
    "data.info()"
   ]
  },
  {
   "cell_type": "markdown",
   "metadata": {},
   "source": [
    "### Вывод"
   ]
  },
  {
   "cell_type": "markdown",
   "metadata": {},
   "source": [
    "В данных много пропусков, к ним нужно подходить индивидуально в каждом стобце, столбцы с датами требуется перевести в формат datetime для рассчётов, у is_apartment тип данных object вместо bool, цену можно перевести в integer для удобства и скорости, как и floors_total, а также все расстояния и числа парков с прудами, число дней до закрытия объявления, в locality_name вероятны неявные повторы."
   ]
  },
  {
   "cell_type": "markdown",
   "metadata": {},
   "source": [
    "## Предобработка данных"
   ]
  },
  {
   "cell_type": "markdown",
   "metadata": {},
   "source": [
    "Присутствуют объявления с отсутствующей информацией о сроке размещения, скорее всего, это действующие объявления, a last_price — не цена при снятии, а последняя зарегистрированная цена. Поскольку в исследовании ключевую роль играет именнл она, а в действующих объявлениях цена может не соответствовать рыночной, для чистоты их лучше убрать. Сразу после этого значения можно перевести в integer."
   ]
  },
  {
   "cell_type": "code",
   "execution_count": 5,
   "metadata": {},
   "outputs": [],
   "source": [
    "data.dropna(subset=['days_exposition'], inplace = True)\n",
    "data['days_exposition'] = data['days_exposition'].astype('int64', errors='ignore')"
   ]
  },
  {
   "cell_type": "markdown",
   "metadata": {},
   "source": [
    "Для удобства и скорости обработки лучше перевести в целочисленный формат все столбцы, где это возможно без потери данных.\n",
    "last_price нет пропусков. Значения можно переводить."
   ]
  },
  {
   "cell_type": "code",
   "execution_count": 6,
   "metadata": {},
   "outputs": [],
   "source": [
    "data['last_price'] = data['last_price'].astype('int64', errors='ignore')"
   ]
  },
  {
   "cell_type": "markdown",
   "metadata": {},
   "source": [
    "Переведём first_day_exposition в datetime."
   ]
  },
  {
   "cell_type": "code",
   "execution_count": 7,
   "metadata": {},
   "outputs": [],
   "source": [
    "data['first_day_exposition'] = pd.to_datetime(data['first_day_exposition'],format='%Y-%m-%dT%H:%M:%S')"
   ]
  },
  {
   "cell_type": "markdown",
   "metadata": {},
   "source": [
    "Заполнения данных в пустых ячейках ceiling_height не представляется возможным.\n",
    "floors_total может быт дозаполнен. Скорее всего, отсутствие этажа означает либо одноэтажное здание, либо пристройку, то есть можно будет отнести здание к одноэтажному. В floor пропусков нет, так что гипотеза легко проверяется."
   ]
  },
  {
   "cell_type": "code",
   "execution_count": 8,
   "metadata": {},
   "outputs": [
    {
     "data": {
      "text/plain": [
       "False"
      ]
     },
     "execution_count": 8,
     "metadata": {},
     "output_type": "execute_result"
    }
   ],
   "source": [
    "data[data['floors_total'].isna()].equals(data[data['floor'] == 1 & data['floors_total'].isna()])"
   ]
  },
  {
   "cell_type": "code",
   "execution_count": 9,
   "metadata": {},
   "outputs": [
    {
     "data": {
      "text/plain": [
       "186       4\n",
       "237       1\n",
       "457      12\n",
       "671       8\n",
       "1757      9\n",
       "         ..\n",
       "22542     3\n",
       "22656    20\n",
       "22808     6\n",
       "23590    18\n",
       "23658     8\n",
       "Name: floor, Length: 77, dtype: int64"
      ]
     },
     "execution_count": 9,
     "metadata": {},
     "output_type": "execute_result"
    }
   ],
   "source": [
    "data[data['floors_total'].isna()]['floor']"
   ]
  },
  {
   "cell_type": "markdown",
   "metadata": {},
   "source": [
    "Гипотеза не подтвердилась. Логичное заполнение пропусков не возможно."
   ]
  },
  {
   "cell_type": "markdown",
   "metadata": {},
   "source": [
    "В России апартаменты — это нежилые помещения, не относящиеся к жилому фонду, но имеющие необходимые условия для проживания. Скорее всего, тип указывали только у аппартаментов, а у квартир не заполняли. Можно проверить, подсчитав уникальные значения."
   ]
  },
  {
   "cell_type": "code",
   "execution_count": 10,
   "metadata": {},
   "outputs": [
    {
     "data": {
      "text/plain": [
       "False    2462\n",
       "True       38\n",
       "Name: is_apartment, dtype: int64"
      ]
     },
     "execution_count": 10,
     "metadata": {},
     "output_type": "execute_result"
    }
   ],
   "source": [
    "data['is_apartment'].value_counts()"
   ]
  },
  {
   "cell_type": "markdown",
   "metadata": {},
   "source": [
    "Можно сказать, гипотеза подтвердилась. Скорее большинство продавцов квартир не знает даже значения термина, а вот продавцы апартаментов должны знать."
   ]
  },
  {
   "cell_type": "code",
   "execution_count": 11,
   "metadata": {},
   "outputs": [],
   "source": [
    "data['is_apartment'] = data['is_apartment'].fillna(False).astype('int64', errors='ignore')"
   ]
  },
  {
   "cell_type": "markdown",
   "metadata": {},
   "source": [
    "С количеством балконов всё ясно: если число не указано, значит их нет."
   ]
  },
  {
   "cell_type": "code",
   "execution_count": 12,
   "metadata": {},
   "outputs": [],
   "source": [
    "data['balcony'] = data['balcony'].fillna(0).astype('int64', errors='ignore')"
   ]
  },
  {
   "cell_type": "markdown",
   "metadata": {},
   "source": [
    "Проанализируем названия населённых пунктов на неявные повторы."
   ]
  },
  {
   "cell_type": "code",
   "execution_count": 13,
   "metadata": {},
   "outputs": [
    {
     "data": {
      "text/plain": [
       "array(['Бокситогорск', 'Волосово', 'Волхов', 'Всеволожск', 'Выборг',\n",
       "       'Высоцк', 'Гатчина', 'Зеленогорск', 'Ивангород', 'Каменногорск',\n",
       "       'Кингисепп', 'Кириши', 'Кировск', 'Колпино', 'Коммунар',\n",
       "       'Красное Село', 'Кронштадт', 'Кудрово', 'Лодейное Поле',\n",
       "       'Ломоносов', 'Луга', 'Любань', 'Никольское', 'Новая Ладога',\n",
       "       'Отрадное', 'Павловск', 'Петергоф', 'Пикалёво', 'Подпорожье',\n",
       "       'Приморск', 'Приозерск', 'Пушкин', 'Санкт-Петербург', 'Светогорск',\n",
       "       'Сертолово', 'Сестрорецк', 'Сланцы', 'Сосновый Бор', 'Сясьстрой',\n",
       "       'Тихвин', 'Тосно', 'Шлиссельбург',\n",
       "       'городской поселок Большая Ижора', 'городской поселок Янино-1',\n",
       "       'городской посёлок Будогощь', 'городской посёлок Виллози',\n",
       "       'городской посёлок Мга', 'городской посёлок Назия',\n",
       "       'городской посёлок Новоселье', 'городской посёлок Павлово',\n",
       "       'городской посёлок Рощино', 'городской посёлок Свирьстрой',\n",
       "       'городской посёлок Фёдоровское', 'городской посёлок Янино-1',\n",
       "       'деревня Агалатово', 'деревня Аро', 'деревня Батово',\n",
       "       'деревня Бегуницы', 'деревня Белогорка', 'деревня Большая Вруда',\n",
       "       'деревня Большая Пустомержа', 'деревня Большие Колпаны',\n",
       "       'деревня Большое Рейзино', 'деревня Бор', 'деревня Борисова Грива',\n",
       "       'деревня Ваганово', 'деревня Вартемяги', 'деревня Вахнова Кара',\n",
       "       'деревня Выскатка', 'деревня Гарболово', 'деревня Глинка',\n",
       "       'деревня Горбунки', 'деревня Гостилицы', 'деревня Заклинье',\n",
       "       'деревня Заневка', 'деревня Зимитицы', 'деревня Извара',\n",
       "       'деревня Иссад', 'деревня Калитино', 'деревня Кальтино',\n",
       "       'деревня Камышовка', 'деревня Каськово', 'деревня Келози',\n",
       "       'деревня Кипень', 'деревня Кисельня', 'деревня Колтуши',\n",
       "       'деревня Кудрово', 'деревня Кузьмолово', 'деревня Куровицы',\n",
       "       'деревня Куттузи', 'деревня Лаврики', 'деревня Лаголово',\n",
       "       'деревня Лампово', 'деревня Лесколово', 'деревня Лопухинка',\n",
       "       'деревня Лупполово', 'деревня Малая Романовка',\n",
       "       'деревня Малое Верево', 'деревня Малое Карлино',\n",
       "       'деревня Малые Колпаны', 'деревня Мануйлово', 'деревня Мины',\n",
       "       'деревня Мистолово', 'деревня Ненимяки', 'деревня Нижние Осельки',\n",
       "       'деревня Нижняя', 'деревня Низино', 'деревня Новое Девяткино',\n",
       "       'деревня Нурма', 'деревня Оржицы', 'деревня Парицы',\n",
       "       'деревня Пельгора', 'деревня Пеники', 'деревня Пикколово',\n",
       "       'деревня Пудомяги', 'деревня Пустынка', 'деревня Рабитицы',\n",
       "       'деревня Разбегаево', 'деревня Разметелево', 'деревня Рапполово',\n",
       "       'деревня Реброво', 'деревня Русско', 'деревня Старая',\n",
       "       'деревня Старая Пустошь', 'деревня Старое Хинколово',\n",
       "       'деревня Старополье', 'деревня Старосиверская',\n",
       "       'деревня Старые Бегуницы', 'деревня Суоранда',\n",
       "       'деревня Сяськелево', 'деревня Тарасово', 'деревня Терпилицы',\n",
       "       'деревня Тихковицы', 'деревня Торосово', 'деревня Трубников Бор',\n",
       "       'деревня Фалилеево', 'деревня Фёдоровское', 'деревня Хапо-Ое',\n",
       "       'деревня Хязельки', 'деревня Шпаньково', 'деревня Щеглово',\n",
       "       'деревня Юкки', 'деревня Ялгино', 'деревня Яльгелево',\n",
       "       'деревня Ям-Тесово', 'коттеджный поселок Кивеннапа Север',\n",
       "       'коттеджный поселок Счастье', 'коттеджный посёлок Лесное',\n",
       "       'поселок Аннино', 'поселок Барышево', 'поселок Бугры',\n",
       "       'поселок Возрождение', 'поселок Войсковицы', 'поселок Володарское',\n",
       "       'поселок Гаврилово', 'поселок Гарболово', 'поселок Гладкое',\n",
       "       'поселок Глажево', 'поселок Глебычево', 'поселок Гончарово',\n",
       "       'поселок Громово', 'поселок Дружноселье', 'поселок Елизаветино',\n",
       "       'поселок Жилгородок', 'поселок Жилпосёлок', 'поселок Житково',\n",
       "       'поселок Заводской', 'поселок Запорожское', 'поселок Зимитицы',\n",
       "       'поселок Ильичёво', 'поселок Калитино', 'поселок Каложицы',\n",
       "       'поселок Кингисеппский', 'поселок Кобралово', 'поселок Кобринское',\n",
       "       'поселок Коммунары', 'поселок Коробицыно', 'поселок Котельский',\n",
       "       'поселок Красная Долина', 'поселок Красносельское',\n",
       "       'поселок Лисий Нос', 'поселок Любань', 'поселок Мельниково',\n",
       "       'поселок Мичуринское', 'поселок Молодцово', 'поселок Мурино',\n",
       "       'поселок Новый Свет', 'поселок Новый Учхоз', 'поселок Оредеж',\n",
       "       'поселок Пансионат Зелёный Бор', 'поселок Первомайское',\n",
       "       'поселок Перово', 'поселок Петровское', 'поселок Победа',\n",
       "       'поселок Поляны', 'поселок Починок', 'поселок Пушное',\n",
       "       'поселок Пчевжа', 'поселок Романовка', 'поселок Ромашки',\n",
       "       'поселок Рябово', 'поселок Севастьяново', 'поселок Селезнёво',\n",
       "       'поселок Сельцо', 'поселок Семиозерье', 'поселок Семрино',\n",
       "       'поселок Серебрянский', 'поселок Совхозный',\n",
       "       'поселок Старая Малукса', 'поселок Стеклянный', 'поселок Сумино',\n",
       "       'поселок Суходолье', 'поселок Тельмана', 'поселок Терволово',\n",
       "       'поселок Торковичи', 'поселок Тёсово-4', 'поселок Углово',\n",
       "       'поселок Усть-Луга', 'поселок Ушаки', 'поселок Цвылёво',\n",
       "       'поселок городского типа Большая Ижора',\n",
       "       'поселок городского типа Вырица',\n",
       "       'поселок городского типа Дружная Горка',\n",
       "       'поселок городского типа Дубровка',\n",
       "       'поселок городского типа Ефимовский',\n",
       "       'поселок городского типа Кондратьево',\n",
       "       'поселок городского типа Красный Бор',\n",
       "       'поселок городского типа Кузьмоловский',\n",
       "       'поселок городского типа Лебяжье',\n",
       "       'поселок городского типа Лесогорский',\n",
       "       'поселок городского типа Назия',\n",
       "       'поселок городского типа Никольский',\n",
       "       'поселок городского типа Приладожский',\n",
       "       'поселок городского типа Рахья', 'поселок городского типа Рощино',\n",
       "       'поселок городского типа Рябово',\n",
       "       'поселок городского типа Синявино',\n",
       "       'поселок городского типа Советский',\n",
       "       'поселок городского типа Токсово',\n",
       "       'поселок городского типа Форносово',\n",
       "       'поселок городского типа имени Свердлова',\n",
       "       'поселок станции Вещево', 'поселок станции Корнево',\n",
       "       'поселок станции Лужайка', 'поселок станции Приветнинское',\n",
       "       'посёлок Александровская', 'посёлок Алексеевка', 'посёлок Аннино',\n",
       "       'посёлок Белоостров', 'посёлок Бугры', 'посёлок Возрождение',\n",
       "       'посёлок Войскорово', 'посёлок Высокоключевой',\n",
       "       'посёлок Гаврилово', 'посёлок Жилгородок', 'посёлок Ильичёво',\n",
       "       'посёлок Кикерино', 'посёлок Кобралово', 'посёлок Левашово',\n",
       "       'посёлок Ленинское', 'посёлок Лисий Нос', 'посёлок Мельниково',\n",
       "       'посёлок Металлострой', 'посёлок Мичуринское',\n",
       "       'посёлок Молодёжное', 'посёлок Мурино', 'посёлок Новогорелово',\n",
       "       'посёлок Новый Свет', 'посёлок Пансионат Зелёный Бор',\n",
       "       'посёлок Парголово', 'посёлок Перово', 'посёлок Песочный',\n",
       "       'посёлок Петро-Славянка', 'посёлок Петровское',\n",
       "       'посёлок Платформа 69-й километр', 'посёлок Плодовое',\n",
       "       'посёлок Плоское', 'посёлок Поляны', 'посёлок Понтонный',\n",
       "       'посёлок Пригородный', 'посёлок Пудость', 'посёлок Репино',\n",
       "       'посёлок Ропша', 'посёлок Сапёрное', 'посёлок Сапёрный',\n",
       "       'посёлок Сосново', 'посёлок Старая Малукса', 'посёлок Стеклянный',\n",
       "       'посёлок Стрельна', 'посёлок Суйда', 'посёлок Тельмана',\n",
       "       'посёлок Терволово', 'посёлок Торфяное', 'посёлок Усть-Ижора',\n",
       "       'посёлок Усть-Луга', 'посёлок Шушары', 'посёлок Щеглово',\n",
       "       'посёлок городского типа Важины',\n",
       "       'посёлок городского типа Вознесенье',\n",
       "       'посёлок городского типа Вырица',\n",
       "       'посёлок городского типа Красный Бор',\n",
       "       'посёлок городского типа Кузнечное',\n",
       "       'посёлок городского типа Кузьмоловский',\n",
       "       'посёлок городского типа Лебяжье', 'посёлок городского типа Мга',\n",
       "       'посёлок городского типа Павлово',\n",
       "       'посёлок городского типа Рощино', 'посёлок городского типа Рябово',\n",
       "       'посёлок городского типа Сиверский',\n",
       "       'посёлок городского типа Тайцы', 'посёлок городского типа Токсово',\n",
       "       'посёлок городского типа Ульяновка',\n",
       "       'посёлок городского типа Форносово',\n",
       "       'посёлок городского типа имени Морозова',\n",
       "       'посёлок городского типа имени Свердлова',\n",
       "       'посёлок при железнодорожной станции Вещево',\n",
       "       'посёлок станции Громово', 'посёлок станции Свирь',\n",
       "       'садоводческое некоммерческое товарищество Лесная Поляна',\n",
       "       'садовое товарищество Приладожский', 'садовое товарищество Рахья',\n",
       "       'садовое товарищество Садко', 'село Копорье', 'село Павлово',\n",
       "       'село Паша', 'село Путилово', 'село Рождествено',\n",
       "       'село Русско-Высоцкое', 'село Старая Ладога', 'село Шум', nan],\n",
       "      dtype=object)"
      ]
     },
     "execution_count": 13,
     "metadata": {},
     "output_type": "execute_result"
    }
   ],
   "source": [
    "data['locality_name'].sort_values().unique()"
   ]
  },
  {
   "cell_type": "code",
   "execution_count": 14,
   "metadata": {},
   "outputs": [
    {
     "data": {
      "text/plain": [
       "48"
      ]
     },
     "execution_count": 14,
     "metadata": {},
     "output_type": "execute_result"
    }
   ],
   "source": [
    "data['locality_name'].isna().sum()"
   ]
  },
  {
   "cell_type": "markdown",
   "metadata": {},
   "source": [
    "Неявных дубликатов не выявлено, заполнение пропусков не представляется возможным."
   ]
  },
  {
   "cell_type": "markdown",
   "metadata": {},
   "source": [
    "Отсутсвие значения количество парков и прудов при отсутствии значения расстояния до ближайшего означает, что их нет."
   ]
  },
  {
   "cell_type": "code",
   "execution_count": 15,
   "metadata": {},
   "outputs": [
    {
     "name": "stdout",
     "output_type": "stream",
     "text": [
      "0\n"
     ]
    },
    {
     "data": {
      "text/plain": [
       "0"
      ]
     },
     "execution_count": 15,
     "metadata": {},
     "output_type": "execute_result"
    }
   ],
   "source": [
    "data['parks_around3000'] = data.apply(lambda row: 0 if pd.isnull(row.parks_around3000) and pd.isnull(row.parks_nearest)\n",
    "                                                    else row.parks_around3000, axis = 1\n",
    "                                      ).astype('int64', errors='ignore')\n",
    "                                      \n",
    "data['ponds_around3000'] = data.apply(lambda row: 0 if pd.isnull(row.ponds_around3000) and pd.isnull(row.ponds_nearest)\n",
    "                                                    else row.ponds_around3000, axis = 1\n",
    "                                      ).astype('int64', errors='ignore')\n",
    "\n",
    "print(data['parks_around3000'].isna().sum())\n",
    "data['ponds_around3000'].isna().sum()"
   ]
  },
  {
   "cell_type": "markdown",
   "metadata": {},
   "source": [
    "Объявления без населённых пунктов отнесём к дргуим."
   ]
  },
  {
   "cell_type": "code",
   "execution_count": 16,
   "metadata": {},
   "outputs": [],
   "source": [
    "data['locality_name'].fillna('другой', inplace=True)"
   ]
  },
  {
   "cell_type": "markdown",
   "metadata": {},
   "source": [
    "Теперь можно убрать явные дубликаты."
   ]
  },
  {
   "cell_type": "code",
   "execution_count": 17,
   "metadata": {},
   "outputs": [],
   "source": [
    "data.drop_duplicates(inplace = True)"
   ]
  },
  {
   "cell_type": "markdown",
   "metadata": {},
   "source": [
    "### Вывод\n",
    "Предобработка закночена, дубликаты удалены."
   ]
  },
  {
   "cell_type": "markdown",
   "metadata": {},
   "source": [
    "## Расчёты и добавление результатов в таблицу"
   ]
  },
  {
   "cell_type": "markdown",
   "metadata": {},
   "source": [
    "Расчёт цены квадратного метра."
   ]
  },
  {
   "cell_type": "code",
   "execution_count": 18,
   "metadata": {},
   "outputs": [],
   "source": [
    "data['meter_price'] = data['last_price'] / data['total_area']"
   ]
  },
  {
   "cell_type": "markdown",
   "metadata": {},
   "source": [
    "День недели, месяц и год публикации объявления.\n",
    "Существуют функции, которые могут сортировать по ним непосредственно из формата datetime, однако, помимо того, что этого требует задание, такой способ может вылитсься в путаницу и повышения времени вычисления. Лучше пожертвовать для удобства памятью."
   ]
  },
  {
   "cell_type": "code",
   "execution_count": 19,
   "metadata": {},
   "outputs": [],
   "source": [
    "data['month'] = data['first_day_exposition'].dt.month\n",
    "data['year'] = data['first_day_exposition'].dt.year\n",
    "data['weekday'] = data['first_day_exposition'].dt.weekday"
   ]
  },
  {
   "cell_type": "markdown",
   "metadata": {},
   "source": [
    "Для вариантов этажа квартиры — первый, последний и другой, потребуется написание функции.\n",
    "Большинство помещений без указания этажности здания наверняка должны попасть в категорию \"другой\". Для максимального уменьшения ошибки, за этажность здания будет браться медиана по таблице, в категория \"последний\" к ним не будет применяться."
   ]
  },
  {
   "cell_type": "code",
   "execution_count": 20,
   "metadata": {},
   "outputs": [
    {
     "data": {
      "text/plain": [
       "1        первый\n",
       "2        другой\n",
       "3        другой\n",
       "4        другой\n",
       "5        другой\n",
       "          ...  \n",
       "23691    другой\n",
       "23692    другой\n",
       "23693    другой\n",
       "23695    другой\n",
       "23697    другой\n",
       "Name: floor_type, Length: 20518, dtype: object"
      ]
     },
     "execution_count": 20,
     "metadata": {},
     "output_type": "execute_result"
    }
   ],
   "source": [
    "floor_median = data['floors_total'].median()\n",
    "def floor_cat_func(row):\n",
    "    \n",
    "    if row.floor == 1:\n",
    "            return 'первый'\n",
    "        \n",
    "    if pd.notnull(row.floors_total):\n",
    "        \n",
    "        if row.floor == row.floors_total:\n",
    "            return 'последний'\n",
    "        else:\n",
    "            return 'другой'\n",
    "        \n",
    "    if pd.isnull(row.floors_total):\n",
    "        if row.floor < floor_median:\n",
    "            return 'другой'\n",
    "        \n",
    "    else:\n",
    "        return np.nan\n",
    "    \n",
    "data['floor_type'] = data.apply(lambda row: floor_cat_func(row), axis = 1)\n",
    "data['floor_type']"
   ]
  },
  {
   "cell_type": "markdown",
   "metadata": {},
   "source": [
    "Cоотношение жилой и общей площади и отношение площади кухни к общей строках с пропусками предугадать нельзя, разве что у студий второе будет равно нулю, но в этом нет смысле для исследования."
   ]
  },
  {
   "cell_type": "code",
   "execution_count": 21,
   "metadata": {},
   "outputs": [],
   "source": [
    "data['living_ratio'] = data['living_area'] / data['total_area']\n",
    "data['kitchen_ratio'] = data['kitchen_area'] / data['total_area']"
   ]
  },
  {
   "cell_type": "markdown",
   "metadata": {},
   "source": [
    "### Вывод\n",
    "Требуемые данные были рассчитаны и добавлены."
   ]
  },
  {
   "cell_type": "markdown",
   "metadata": {},
   "source": [
    "## Исследовательский анализ данных"
   ]
  },
  {
   "cell_type": "markdown",
   "metadata": {},
   "source": [
    "### Площадь"
   ]
  },
  {
   "cell_type": "markdown",
   "metadata": {},
   "source": [
    "Для восприятия гистограммы убрал отскоки более 250 метров."
   ]
  },
  {
   "cell_type": "code",
   "execution_count": 22,
   "metadata": {},
   "outputs": [
    {
     "name": "stdout",
     "output_type": "stream",
     "text": [
      "count    20518.000000\n",
      "mean        58.870830\n",
      "std         34.077046\n",
      "min         12.000000\n",
      "25%         39.500000\n",
      "50%         50.900000\n",
      "75%         67.900000\n",
      "max        900.000000\n",
      "Name: total_area, dtype: float64\n"
     ]
    },
    {
     "data": {
      "text/plain": [
       "<matplotlib.axes._subplots.AxesSubplot at 0x7fabbb6f4510>"
      ]
     },
     "execution_count": 22,
     "metadata": {},
     "output_type": "execute_result"
    },
    {
     "data": {
      "image/png": "[encoded data removed]",
      "text/plain": [
       "<Figure size 432x288 with 1 Axes>"
      ]
     },
     "metadata": {
      "needs_background": "light"
     },
     "output_type": "display_data"
    }
   ],
   "source": [
    "print(data['total_area'].describe())\n",
    "data['total_area'][data['total_area'] < 250].hist(bins=50)"
   ]
  },
  {
   "cell_type": "markdown",
   "metadata": {},
   "source": [
    "### Цена"
   ]
  },
  {
   "cell_type": "markdown",
   "metadata": {},
   "source": [
    "Для восприятия гистограммы убрал отскоки более 50 миллионов."
   ]
  },
  {
   "cell_type": "code",
   "execution_count": 23,
   "metadata": {},
   "outputs": [
    {
     "name": "stdout",
     "output_type": "stream",
     "text": [
      "count    2.051800e+04\n",
      "mean     6.266173e+06\n",
      "std      1.086298e+07\n",
      "min      1.219000e+04\n",
      "25%      3.400000e+06\n",
      "50%      4.500000e+06\n",
      "75%      6.500000e+06\n",
      "max      7.630000e+08\n",
      "Name: last_price, dtype: float64\n"
     ]
    },
    {
     "data": {
      "text/plain": [
       "<matplotlib.axes._subplots.AxesSubplot at 0x7fabb2c07350>"
      ]
     },
     "execution_count": 23,
     "metadata": {},
     "output_type": "execute_result"
    },
    {
     "data": {
      "image/png": "[encoded data removed]",
      "text/plain": [
       "<Figure size 432x288 with 1 Axes>"
      ]
     },
     "metadata": {
      "needs_background": "light"
     },
     "output_type": "display_data"
    }
   ],
   "source": [
    "print(data['last_price'].describe())\n",
    "data['last_price'][data['last_price'] < 50000000].hist(bins=50)"
   ]
  },
  {
   "cell_type": "markdown",
   "metadata": {},
   "source": [
    "<div class=\"alert alert-success\">\n",
    "<b>Комментарий ревьюера:</b>\n",
    "\n",
    "Кстати для того чтобы подписать график мы можем использовать метод `plt.title()` и в конце кода применить `plt.show()`\n",
    "</div>"
   ]
  },
  {
   "cell_type": "markdown",
   "metadata": {},
   "source": [
    "### Число комнат"
   ]
  },
  {
   "cell_type": "code",
   "execution_count": 24,
   "metadata": {},
   "outputs": [
    {
     "data": {
      "text/plain": [
       "count    20518.000000\n",
       "mean         2.024564\n",
       "std          1.054808\n",
       "min          0.000000\n",
       "25%          1.000000\n",
       "50%          2.000000\n",
       "75%          3.000000\n",
       "max         19.000000\n",
       "Name: rooms, dtype: float64"
      ]
     },
     "execution_count": 24,
     "metadata": {},
     "output_type": "execute_result"
    }
   ],
   "source": [
    "data['rooms'].describe()\n",
    "#data['rooms'][data['rooms'] < 12].hist(bins=10)"
   ]
  },
  {
   "cell_type": "markdown",
   "metadata": {},
   "source": [
    "Число комнат не может быть нулевым. Студии можно отнести к однокомнатным, остальные нули лучше заменить на NaN"
   ]
  },
  {
   "cell_type": "markdown",
   "metadata": {},
   "source": [
    "Для гистограммы комнат лучше воспользоваться другим инструментом."
   ]
  },
  {
   "cell_type": "code",
   "execution_count": 25,
   "metadata": {},
   "outputs": [
    {
     "data": {
      "text/plain": [
       "<matplotlib.axes._subplots.AxesSubplot at 0x7fab945c32d0>"
      ]
     },
     "execution_count": 25,
     "metadata": {},
     "output_type": "execute_result"
    },
    {
     "data": {
      "image/png": "[encoded data removed]",
      "text/plain": [
       "<Figure size 432x288 with 1 Axes>"
      ]
     },
     "metadata": {
      "needs_background": "light"
     },
     "output_type": "display_data"
    }
   ],
   "source": [
    "data['rooms'] = data.apply(lambda row: 1 if row.studio is True else row.rooms, axis = 1)\n",
    "data['rooms'] = data['rooms'].apply(lambda x: np.nan if x == 0 else x)\n",
    "\n",
    "\n",
    "import seaborn as sns\n",
    "rooms_dist = data.groupby('rooms').size()\n",
    "sns.barplot(rooms_dist.index, rooms_dist.values)"
   ]
  },
  {
   "cell_type": "markdown",
   "metadata": {},
   "source": [
    "### Высота потолков"
   ]
  },
  {
   "cell_type": "code",
   "execution_count": 26,
   "metadata": {},
   "outputs": [
    {
     "name": "stdout",
     "output_type": "stream",
     "text": [
      "count    12051.000000\n",
      "mean         2.761805\n",
      "std          1.263803\n",
      "min          1.000000\n",
      "25%          2.520000\n",
      "50%          2.650000\n",
      "75%          2.800000\n",
      "max        100.000000\n",
      "Name: ceiling_height, dtype: float64\n"
     ]
    }
   ],
   "source": [
    "print(data['ceiling_height'].describe())"
   ]
  },
  {
   "cell_type": "markdown",
   "metadata": {},
   "source": [
    "В РФ по нормам высота потолка в квартире не может быть менее 2.5 метра, и определённо не может быть сотней. Сомневаюсь, такой параметр можно рассчитать. Для чистоты исследования заменим все значения меньше двух и более пяти на отсутствующие, поскольку речь всё же про квартиры, а там высота потолка ограничена."
   ]
  },
  {
   "cell_type": "code",
   "execution_count": 27,
   "metadata": {},
   "outputs": [
    {
     "data": {
      "text/plain": [
       "<matplotlib.axes._subplots.AxesSubplot at 0x7fabbbcaf710>"
      ]
     },
     "execution_count": 27,
     "metadata": {},
     "output_type": "execute_result"
    },
    {
     "data": {
      "image/png": "[encoded data removed]",
      "text/plain": [
       "<Figure size 432x288 with 1 Axes>"
      ]
     },
     "metadata": {
      "needs_background": "light"
     },
     "output_type": "display_data"
    }
   ],
   "source": [
    "data['ceiling_height'] = data['ceiling_height'].apply(lambda x: np.nan if (x < 2 or x > 5) else x)\n",
    "data['ceiling_height'].hist(bins=10)"
   ]
  },
  {
   "cell_type": "markdown",
   "metadata": {},
   "source": [
    "### Время продажи квартиры"
   ]
  },
  {
   "cell_type": "code",
   "execution_count": 28,
   "metadata": {},
   "outputs": [
    {
     "name": "stdout",
     "output_type": "stream",
     "text": [
      "count    20518.000000\n",
      "mean       180.888634\n",
      "std        219.727988\n",
      "min          1.000000\n",
      "25%         45.000000\n",
      "50%         95.000000\n",
      "75%        232.000000\n",
      "max       1580.000000\n",
      "Name: days_exposition, dtype: float64\n"
     ]
    },
    {
     "data": {
      "text/plain": [
       "<matplotlib.axes._subplots.AxesSubplot at 0x7fab944d1410>"
      ]
     },
     "execution_count": 28,
     "metadata": {},
     "output_type": "execute_result"
    },
    {
     "data": {
      "image/png": "[encoded data removed]",
      "text/plain": [
       "<Figure size 1080x360 with 1 Axes>"
      ]
     },
     "metadata": {
      "needs_background": "light"
     },
     "output_type": "display_data"
    }
   ],
   "source": [
    "print(data['days_exposition'].describe())\n",
    "data['days_exposition'].hist(bins=100, figsize=(15, 5))"
   ]
  },
  {
   "cell_type": "markdown",
   "metadata": {},
   "source": [
    "Продажа квартиры в среднем занимает три месяца, при этом некоторые продаются буквально в первые дни, к быстрым продажам можно отнести продажи в пределах 45 дней, а к необычно долгим — смотря что считать необычно долгим. Полагаю, больше всего подойдёт психологический граница в один год, поскролько за 232 дня 3/4 помещейний обычно продаются."
   ]
  },
  {
   "cell_type": "markdown",
   "metadata": {},
   "source": [
    "### Удаление редких и выбивающийся значений"
   ]
  },
  {
   "cell_type": "markdown",
   "metadata": {},
   "source": [
    "Присутсвую цены недвижимости с четырьмя нулями, скорее всего, или ошибка, или што-то почти непригодное для жизни, но из-за крайне дорогих квартир среднее находится меньше медианы. Большинство квартир стоит от трёх, до семи миллионов. Оставляем только ценой от 300 000 до 30 000 000."
   ]
  },
  {
   "cell_type": "code",
   "execution_count": 29,
   "metadata": {},
   "outputs": [],
   "source": [
    "data.drop(data[(data['last_price'] < 300000) | (data['last_price'] > 30000000)].index, inplace = True)"
   ]
  },
  {
   "cell_type": "markdown",
   "metadata": {},
   "source": [
    "Для площадей среднее больше медианного из-за особо больших квартир. Убраем квартиры площадью более 250 метров."
   ]
  },
  {
   "cell_type": "code",
   "execution_count": 30,
   "metadata": {},
   "outputs": [],
   "source": [
    "data.drop(data[data['total_area'] > 250].index, inplace = True)"
   ]
  },
  {
   "cell_type": "markdown",
   "metadata": {},
   "source": [
    "Большинство высот потолка соответсвуют стандарту по стрене — от 2.5 до трёх метров. На диаграмме отскоки уже были убраны, а полное исключение из таблицы не требуется, поскольку значения не применяются далее. "
   ]
  },
  {
   "cell_type": "markdown",
   "metadata": {},
   "source": [
    "Самое многочисленные квартиры — однокомнатые, прослеживается точная обратная зависимость между числом комнат и количеством квартир, что не удивительно. Значения комнат более восьми можно считать крайне редкими. Убираем."
   ]
  },
  {
   "cell_type": "code",
   "execution_count": 31,
   "metadata": {},
   "outputs": [],
   "source": [
    "data.drop(data[data['rooms'] > 8].index, inplace = True)"
   ]
  },
  {
   "cell_type": "markdown",
   "metadata": {},
   "source": [
    "### Изучения влияния на стоимость"
   ]
  },
  {
   "cell_type": "markdown",
   "metadata": {},
   "source": [
    "#### Зависимость от площади"
   ]
  },
  {
   "cell_type": "code",
   "execution_count": 32,
   "metadata": {
    "scrolled": true
   },
   "outputs": [
    {
     "data": {
      "text/plain": [
       "<matplotlib.axes._subplots.AxesSubplot at 0x7fab94315f90>"
      ]
     },
     "execution_count": 32,
     "metadata": {},
     "output_type": "execute_result"
    },
    {
     "data": {
      "image/png": "[encoded data removed]",
      "text/plain": [
       "<Figure size 1152x576 with 1 Axes>"
      ]
     },
     "metadata": {
      "needs_background": "light"
     },
     "output_type": "display_data"
    }
   ],
   "source": [
    "import matplotlib.pyplot as plt\n",
    "fig = plt.gcf()\n",
    "fig.set_size_inches(16, 8)\n",
    "sns.scatterplot(data=data, x=\"total_area\", y=\"last_price\", alpha = 0.1)"
   ]
  },
  {
   "cell_type": "markdown",
   "metadata": {},
   "source": [
    "Как ни странно, действительно прослеживается прямая зависимость между площадью и ценой."
   ]
  },
  {
   "cell_type": "markdown",
   "metadata": {},
   "source": [
    "#### Зависимость от количества комнат"
   ]
  },
  {
   "cell_type": "code",
   "execution_count": 33,
   "metadata": {
    "scrolled": false
   },
   "outputs": [
    {
     "data": {
      "text/plain": [
       "<matplotlib.axes._subplots.AxesSubplot at 0x7fab9428d0d0>"
      ]
     },
     "execution_count": 33,
     "metadata": {},
     "output_type": "execute_result"
    },
    {
     "data": {
      "image/png": "[encoded data removed]",
      "text/plain": [
       "<Figure size 432x288 with 1 Axes>"
      ]
     },
     "metadata": {
      "needs_background": "light"
     },
     "output_type": "display_data"
    }
   ],
   "source": [
    "sns.barplot(data=data, x= 'rooms', y= 'last_price')"
   ]
  },
  {
   "cell_type": "markdown",
   "metadata": {},
   "source": [
    "Как ни странно, опять же прямая зависимоть, кроме восмикомнатных. Их слишком мало, и статистику портят другие факторы."
   ]
  },
  {
   "cell_type": "markdown",
   "metadata": {},
   "source": [
    "#### Зависимость от удалённости от цента"
   ]
  },
  {
   "cell_type": "code",
   "execution_count": 34,
   "metadata": {
    "scrolled": true
   },
   "outputs": [
    {
     "data": {
      "text/plain": [
       "<matplotlib.axes._subplots.AxesSubplot at 0x7fab929cef10>"
      ]
     },
     "execution_count": 34,
     "metadata": {},
     "output_type": "execute_result"
    },
    {
     "data": {
      "image/png": "[encoded data removed]",
      "text/plain": [
       "<Figure size 1152x576 with 1 Axes>"
      ]
     },
     "metadata": {
      "needs_background": "light"
     },
     "output_type": "display_data"
    }
   ],
   "source": [
    "fig = plt.gcf()\n",
    "fig.set_size_inches(16, 8)\n",
    "sns.scatterplot(data=data, x=\"center_distance\", y=\"last_price\", alpha = 0.05)"
   ]
  },
  {
   "cell_type": "markdown",
   "metadata": {},
   "source": [
    "С расстоянием от центра квартиры в среднем действительно становится дешевле, но с расстоянием на самом падает максимальные цены, а минимальные остаются на том же уровне."
   ]
  },
  {
   "cell_type": "markdown",
   "metadata": {},
   "source": [
    "#### Зависимость от этажа"
   ]
  },
  {
   "cell_type": "code",
   "execution_count": 35,
   "metadata": {},
   "outputs": [
    {
     "data": {
      "text/plain": [
       "<matplotlib.axes._subplots.AxesSubplot at 0x7fab9293ea10>"
      ]
     },
     "execution_count": 35,
     "metadata": {},
     "output_type": "execute_result"
    },
    {
     "data": {
      "image/png": "[encoded data removed]",
      "text/plain": [
       "<Figure size 432x288 with 1 Axes>"
      ]
     },
     "metadata": {
      "needs_background": "light"
     },
     "output_type": "display_data"
    }
   ],
   "source": [
    "sns.barplot(data=data, x= 'floor_type', y= 'last_price')"
   ]
  },
  {
   "cell_type": "markdown",
   "metadata": {},
   "source": [
    "Квартиры на первом и последних этажах стоят дешевле основной массы, причём на первом значительно дешевле."
   ]
  },
  {
   "cell_type": "markdown",
   "metadata": {},
   "source": [
    "#### Зависимость от даты размещения"
   ]
  },
  {
   "cell_type": "code",
   "execution_count": 36,
   "metadata": {},
   "outputs": [
    {
     "data": {
      "image/png": "[encoded data removed]",
      "text/plain": [
       "<Figure size 432x288 with 1 Axes>"
      ]
     },
     "metadata": {
      "needs_background": "light"
     },
     "output_type": "display_data"
    },
    {
     "data": {
      "image/png": "[encoded data removed]",
      "text/plain": [
       "<Figure size 432x288 with 1 Axes>"
      ]
     },
     "metadata": {
      "needs_background": "light"
     },
     "output_type": "display_data"
    },
    {
     "data": {
      "image/png": "[encoded data removed]",
      "text/plain": [
       "<Figure size 432x288 with 1 Axes>"
      ]
     },
     "metadata": {
      "needs_background": "light"
     },
     "output_type": "display_data"
    }
   ],
   "source": [
    "plot_list = ['weekday','month','year']\n",
    "for item in plot_list:\n",
    "    sns.barplot(data=data, x= item, y= 'last_price')\n",
    "    plt.grid()\n",
    "    plt.show()"
   ]
  },
  {
   "cell_type": "markdown",
   "metadata": {},
   "source": [
    "Учитывая, что объявления закрываются спустя дни и месяцы, то если зависимость и есть, то скорее от даты закрытия.\n",
    "По годам видно снижение стоимости проданных квартир. Возможно, это связано с возросшим числом сделок по более дешевым квартирам."
   ]
  },
  {
   "cell_type": "code",
   "execution_count": 37,
   "metadata": {},
   "outputs": [
    {
     "data": {
      "text/plain": [
       "<seaborn.axisgrid.FacetGrid at 0x7fab928f0690>"
      ]
     },
     "execution_count": 37,
     "metadata": {},
     "output_type": "execute_result"
    },
    {
     "data": {
      "image/png": "[encoded data removed]",
      "text/plain": [
       "<Figure size 915.875x576 with 1 Axes>"
      ]
     },
     "metadata": {
      "needs_background": "light"
     },
     "output_type": "display_data"
    }
   ],
   "source": [
    "year_rooms_price = data.groupby(['year', 'rooms'])['last_price'].median().reset_index()\n",
    "\n",
    "sns.catplot(x=\"year\", y=\"last_price\", hue=\"rooms\", kind=\"bar\", data=year_rooms_price, height=8, aspect=12/8)\n"
   ]
  },
  {
   "cell_type": "code",
   "execution_count": 38,
   "metadata": {},
   "outputs": [
    {
     "data": {
      "text/plain": [
       "<seaborn.axisgrid.FacetGrid at 0x7fab926be950>"
      ]
     },
     "execution_count": 38,
     "metadata": {},
     "output_type": "execute_result"
    },
    {
     "data": {
      "image/png": "[encoded data removed]",
      "text/plain": [
       "<Figure size 915.875x576 with 1 Axes>"
      ]
     },
     "metadata": {
      "needs_background": "light"
     },
     "output_type": "display_data"
    }
   ],
   "source": [
    "year_rooms_size = data.groupby(['year', 'rooms']).size().reset_index()\n",
    "year_rooms_size.columns = ['year', 'rooms', 'sales']\n",
    "sns.catplot(x=\"year\", y=\"sales\", hue=\"rooms\", kind=\"bar\", data=year_rooms_size, height=8, aspect=12/8)"
   ]
  },
  {
   "cell_type": "markdown",
   "metadata": {},
   "source": [
    "На диаграмме хорошо видно, что данных за 19-й год откровенно мало, скорее всего, данные были взяты где-то из его начала. Можно сказать, что в этот период основная часть квартир на самом деле дешевела."
   ]
  },
  {
   "cell_type": "markdown",
   "metadata": {},
   "source": [
    "### Населенные пункты с самым дешевым и самым дорогим жильём"
   ]
  },
  {
   "cell_type": "code",
   "execution_count": 39,
   "metadata": {},
   "outputs": [
    {
     "data": {
      "text/plain": [
       "locality_name\n",
       "Выборг                57084.582948\n",
       "Гатчина               67928.326990\n",
       "Всеволожск            68570.615292\n",
       "Колпино               74763.339311\n",
       "посёлок Шушары        78010.167480\n",
       "посёлок Мурино        85818.383555\n",
       "посёлок Парголово     89505.043917\n",
       "деревня Кудрово       92473.547576\n",
       "Пушкин               102073.791546\n",
       "Санкт-Петербург      108600.436765\n",
       "Name: meter_price, dtype: float64"
      ]
     },
     "execution_count": 39,
     "metadata": {},
     "output_type": "execute_result"
    }
   ],
   "source": [
    "most_size_list = data.groupby('locality_name').size().sort_values().tail(10).index\n",
    "locality_cost = data[data['locality_name'].isin(most_size_list)].groupby('locality_name')['meter_price'].mean().sort_values()\n",
    "locality_cost"
   ]
  },
  {
   "cell_type": "markdown",
   "metadata": {},
   "source": [
    "Самое дешевое жильё — в Выборге, самое дорогое — в Санкт-Петербурге."
   ]
  },
  {
   "cell_type": "markdown",
   "metadata": {},
   "source": [
    "### Изучение предложения квартир в Санк-Петербурге"
   ]
  },
  {
   "cell_type": "markdown",
   "metadata": {},
   "source": [
    "Информация по расстоянию до центра:"
   ]
  },
  {
   "cell_type": "code",
   "execution_count": 40,
   "metadata": {},
   "outputs": [
    {
     "data": {
      "text/plain": [
       "count    15603.000000\n",
       "mean     14435.810613\n",
       "std       8540.745319\n",
       "min        208.000000\n",
       "25%       9734.000000\n",
       "50%      13251.000000\n",
       "75%      16454.000000\n",
       "max      65968.000000\n",
       "Name: center_distance, dtype: float64"
      ]
     },
     "execution_count": 40,
     "metadata": {},
     "output_type": "execute_result"
    }
   ],
   "source": [
    "data['center_distance'].describe()"
   ]
  },
  {
   "cell_type": "markdown",
   "metadata": {},
   "source": [
    "Расстояние до центра в километрах:"
   ]
  },
  {
   "cell_type": "code",
   "execution_count": 41,
   "metadata": {},
   "outputs": [],
   "source": [
    "data['center_distance_km'] = (data['center_distance']/1000).round()"
   ]
  },
  {
   "cell_type": "code",
   "execution_count": 42,
   "metadata": {
    "scrolled": true
   },
   "outputs": [
    {
     "data": {
      "text/plain": [
       "<matplotlib.axes._subplots.AxesSubplot at 0x7fab923bda50>"
      ]
     },
     "execution_count": 42,
     "metadata": {},
     "output_type": "execute_result"
    },
    {
     "data": {
      "image/png": "[encoded data removed]",
      "text/plain": [
       "<Figure size 1152x288 with 1 Axes>"
      ]
     },
     "metadata": {
      "needs_background": "light"
     },
     "output_type": "display_data"
    }
   ],
   "source": [
    "spb_distance_price = data[data['locality_name'] == 'Санкт-Петербург'].groupby('center_distance_km')['last_price'].mean()\n",
    "spb_distance_price.plot(figsize = (16,4), grid=True, xticks = range(30))"
   ]
  },
  {
   "cell_type": "markdown",
   "metadata": {},
   "source": [
    "После пяти километров график устремояется вниз. Именно это значение можно взять за радиус центра."
   ]
  },
  {
   "cell_type": "markdown",
   "metadata": {},
   "source": [
    "Проанализируем квартиры в центре Санкт-Петербурга:"
   ]
  },
  {
   "cell_type": "code",
   "execution_count": 43,
   "metadata": {},
   "outputs": [
    {
     "data": {
      "text/html": [
       "<div>\n",
       "<style scoped>\n",
       "    .dataframe tbody tr th:only-of-type {\n",
       "        vertical-align: middle;\n",
       "    }\n",
       "\n",
       "    .dataframe tbody tr th {\n",
       "        vertical-align: top;\n",
       "    }\n",
       "\n",
       "    .dataframe thead th {\n",
       "        text-align: right;\n",
       "    }\n",
       "</style>\n",
       "<table border=\"1\" class=\"dataframe\">\n",
       "  <thead>\n",
       "    <tr style=\"text-align: right;\">\n",
       "      <th></th>\n",
       "      <th>total_area</th>\n",
       "      <th>last_price</th>\n",
       "      <th>rooms</th>\n",
       "      <th>floor</th>\n",
       "      <th>floors_total</th>\n",
       "      <th>ceiling_height</th>\n",
       "      <th>center_distance</th>\n",
       "      <th>year</th>\n",
       "    </tr>\n",
       "  </thead>\n",
       "  <tbody>\n",
       "    <tr>\n",
       "      <td>count</td>\n",
       "      <td>1938.000000</td>\n",
       "      <td>1.938000e+03</td>\n",
       "      <td>1937.000000</td>\n",
       "      <td>1938.000000</td>\n",
       "      <td>1934.000000</td>\n",
       "      <td>1223.000000</td>\n",
       "      <td>1938.000000</td>\n",
       "      <td>1938.000000</td>\n",
       "    </tr>\n",
       "    <tr>\n",
       "      <td>mean</td>\n",
       "      <td>83.713937</td>\n",
       "      <td>1.017504e+07</td>\n",
       "      <td>2.767682</td>\n",
       "      <td>3.885449</td>\n",
       "      <td>6.573423</td>\n",
       "      <td>3.117302</td>\n",
       "      <td>3791.138287</td>\n",
       "      <td>2016.967492</td>\n",
       "    </tr>\n",
       "    <tr>\n",
       "      <td>std</td>\n",
       "      <td>37.449768</td>\n",
       "      <td>5.243758e+06</td>\n",
       "      <td>1.253396</td>\n",
       "      <td>2.754877</td>\n",
       "      <td>3.630579</td>\n",
       "      <td>0.339471</td>\n",
       "      <td>1282.173477</td>\n",
       "      <td>1.036493</td>\n",
       "    </tr>\n",
       "    <tr>\n",
       "      <td>min</td>\n",
       "      <td>12.000000</td>\n",
       "      <td>1.600000e+06</td>\n",
       "      <td>1.000000</td>\n",
       "      <td>1.000000</td>\n",
       "      <td>2.000000</td>\n",
       "      <td>2.400000</td>\n",
       "      <td>208.000000</td>\n",
       "      <td>2014.000000</td>\n",
       "    </tr>\n",
       "    <tr>\n",
       "      <td>25%</td>\n",
       "      <td>57.000000</td>\n",
       "      <td>6.600000e+06</td>\n",
       "      <td>2.000000</td>\n",
       "      <td>2.000000</td>\n",
       "      <td>5.000000</td>\n",
       "      <td>2.900000</td>\n",
       "      <td>3042.000000</td>\n",
       "      <td>2016.000000</td>\n",
       "    </tr>\n",
       "    <tr>\n",
       "      <td>50%</td>\n",
       "      <td>76.600000</td>\n",
       "      <td>8.700000e+06</td>\n",
       "      <td>3.000000</td>\n",
       "      <td>3.000000</td>\n",
       "      <td>5.000000</td>\n",
       "      <td>3.070000</td>\n",
       "      <td>4160.500000</td>\n",
       "      <td>2017.000000</td>\n",
       "    </tr>\n",
       "    <tr>\n",
       "      <td>75%</td>\n",
       "      <td>102.232500</td>\n",
       "      <td>1.229700e+07</td>\n",
       "      <td>3.000000</td>\n",
       "      <td>5.000000</td>\n",
       "      <td>7.000000</td>\n",
       "      <td>3.300000</td>\n",
       "      <td>4831.000000</td>\n",
       "      <td>2018.000000</td>\n",
       "    </tr>\n",
       "    <tr>\n",
       "      <td>max</td>\n",
       "      <td>248.000000</td>\n",
       "      <td>3.000000e+07</td>\n",
       "      <td>8.000000</td>\n",
       "      <td>25.000000</td>\n",
       "      <td>25.000000</td>\n",
       "      <td>4.800000</td>\n",
       "      <td>5494.000000</td>\n",
       "      <td>2019.000000</td>\n",
       "    </tr>\n",
       "  </tbody>\n",
       "</table>\n",
       "</div>"
      ],
      "text/plain": [
       "        total_area    last_price        rooms        floor  floors_total  \\\n",
       "count  1938.000000  1.938000e+03  1937.000000  1938.000000   1934.000000   \n",
       "mean     83.713937  1.017504e+07     2.767682     3.885449      6.573423   \n",
       "std      37.449768  5.243758e+06     1.253396     2.754877      3.630579   \n",
       "min      12.000000  1.600000e+06     1.000000     1.000000      2.000000   \n",
       "25%      57.000000  6.600000e+06     2.000000     2.000000      5.000000   \n",
       "50%      76.600000  8.700000e+06     3.000000     3.000000      5.000000   \n",
       "75%     102.232500  1.229700e+07     3.000000     5.000000      7.000000   \n",
       "max     248.000000  3.000000e+07     8.000000    25.000000     25.000000   \n",
       "\n",
       "       ceiling_height  center_distance         year  \n",
       "count     1223.000000      1938.000000  1938.000000  \n",
       "mean         3.117302      3791.138287  2016.967492  \n",
       "std          0.339471      1282.173477     1.036493  \n",
       "min          2.400000       208.000000  2014.000000  \n",
       "25%          2.900000      3042.000000  2016.000000  \n",
       "50%          3.070000      4160.500000  2017.000000  \n",
       "75%          3.300000      4831.000000  2018.000000  \n",
       "max          4.800000      5494.000000  2019.000000  "
      ]
     },
     "execution_count": 43,
     "metadata": {},
     "output_type": "execute_result"
    }
   ],
   "source": [
    "spb_center = data[(data['locality_name'] == 'Санкт-Петербург') & (data['center_distance_km'] <= 5)][['total_area', 'last_price', 'rooms', 'floor', 'floors_total', 'floor_type', 'ceiling_height', 'center_distance', 'year']]\n",
    "spb_center.describe()"
   ]
  },
  {
   "cell_type": "markdown",
   "metadata": {},
   "source": [
    "В центре преобладают трёхкомнатные квартиры площадью 70-80 квадратов, с высотой потолков в три метра, высоток в центре немного даже с учётом того, что квартир в них больше. Скорее всего, в центре много старинных зданий."
   ]
  },
  {
   "cell_type": "markdown",
   "metadata": {},
   "source": [
    "#### Зависимость от площади"
   ]
  },
  {
   "cell_type": "code",
   "execution_count": 44,
   "metadata": {},
   "outputs": [
    {
     "data": {
      "text/plain": [
       "<matplotlib.axes._subplots.AxesSubplot at 0x7fab922d3650>"
      ]
     },
     "execution_count": 44,
     "metadata": {},
     "output_type": "execute_result"
    },
    {
     "data": {
      "image/png": "[encoded data removed]",
      "text/plain": [
       "<Figure size 1152x576 with 1 Axes>"
      ]
     },
     "metadata": {
      "needs_background": "light"
     },
     "output_type": "display_data"
    }
   ],
   "source": [
    "fig = plt.gcf()\n",
    "fig.set_size_inches(16, 8)\n",
    "sns.scatterplot(data=spb_center, x=\"total_area\", y=\"last_price\", alpha = 0.1)"
   ]
  },
  {
   "cell_type": "markdown",
   "metadata": {},
   "source": [
    "Видна прямая зависимость. Отличий нет."
   ]
  },
  {
   "cell_type": "markdown",
   "metadata": {},
   "source": [
    "#### Зависимость от количества комнат"
   ]
  },
  {
   "cell_type": "code",
   "execution_count": 45,
   "metadata": {
    "scrolled": false
   },
   "outputs": [
    {
     "data": {
      "text/plain": [
       "<matplotlib.axes._subplots.AxesSubplot at 0x7fab92708ad0>"
      ]
     },
     "execution_count": 45,
     "metadata": {},
     "output_type": "execute_result"
    },
    {
     "data": {
      "image/png": "[encoded data removed]",
      "text/plain": [
       "<Figure size 432x288 with 1 Axes>"
      ]
     },
     "metadata": {
      "needs_background": "light"
     },
     "output_type": "display_data"
    }
   ],
   "source": [
    "sns.barplot(data=spb_center, x= 'rooms', y= 'last_price')"
   ]
  },
  {
   "cell_type": "markdown",
   "metadata": {},
   "source": [
    "Как ни странно, опять же прямая зависимоть, кроме восмикомнатных. Их слишком мало, и статистику портят другие факторы. Отличий нет."
   ]
  },
  {
   "cell_type": "markdown",
   "metadata": {},
   "source": [
    "#### Зависимость от удалённости от цента"
   ]
  },
  {
   "cell_type": "code",
   "execution_count": 46,
   "metadata": {
    "scrolled": true
   },
   "outputs": [
    {
     "data": {
      "text/plain": [
       "<matplotlib.axes._subplots.AxesSubplot at 0x7fab9291ded0>"
      ]
     },
     "execution_count": 46,
     "metadata": {},
     "output_type": "execute_result"
    },
    {
     "data": {
      "image/png": "[encoded data removed]",
      "text/plain": [
       "<Figure size 1152x576 with 1 Axes>"
      ]
     },
     "metadata": {
      "needs_background": "light"
     },
     "output_type": "display_data"
    }
   ],
   "source": [
    "fig = plt.gcf()\n",
    "fig.set_size_inches(16, 8)\n",
    "sns.regplot(data=spb_center, x=\"center_distance\", y=\"last_price\", scatter_kws={'alpha':0.2})"
   ]
  },
  {
   "cell_type": "markdown",
   "metadata": {},
   "source": [
    "В самом центре зависимость цены от расстояния до географического центра крайне слабая."
   ]
  },
  {
   "cell_type": "markdown",
   "metadata": {},
   "source": [
    "#### Зависимость от этажа"
   ]
  },
  {
   "cell_type": "code",
   "execution_count": 47,
   "metadata": {},
   "outputs": [
    {
     "data": {
      "text/plain": [
       "<matplotlib.axes._subplots.AxesSubplot at 0x7fab92798750>"
      ]
     },
     "execution_count": 47,
     "metadata": {},
     "output_type": "execute_result"
    },
    {
     "data": {
      "image/png": "[encoded data removed]",
      "text/plain": [
       "<Figure size 432x288 with 1 Axes>"
      ]
     },
     "metadata": {
      "needs_background": "light"
     },
     "output_type": "display_data"
    }
   ],
   "source": [
    "sns.barplot(data=spb_center, x= 'floor_type', y= 'last_price')"
   ]
  },
  {
   "cell_type": "markdown",
   "metadata": {},
   "source": [
    "На первом этаж всё так же самые низкие цены, а вот на последнем примерно на том же уровне, что и другие, но виден большой разброс. Скорее всего, это связано с низкой этажностью зданий в центре."
   ]
  },
  {
   "cell_type": "markdown",
   "metadata": {},
   "source": [
    "#### Зависимость от даты размещения"
   ]
  },
  {
   "cell_type": "markdown",
   "metadata": {},
   "source": [
    "Имеет смысл смотреть только на год размещения."
   ]
  },
  {
   "cell_type": "code",
   "execution_count": 48,
   "metadata": {},
   "outputs": [
    {
     "data": {
      "image/png": "[encoded data removed]",
      "text/plain": [
       "<Figure size 432x288 with 1 Axes>"
      ]
     },
     "metadata": {
      "needs_background": "light"
     },
     "output_type": "display_data"
    }
   ],
   "source": [
    "sns.barplot(data=spb_center, x= 'year', y= 'last_price')\n",
    "plt.grid()\n",
    "plt.show()"
   ]
  },
  {
   "cell_type": "markdown",
   "metadata": {},
   "source": [
    "Сильное падениие после четырнадцатого года, однако после этого цены стабилизировались. Конечно, правильней было бы изучать не дату размещения, а дату продажи, но тенденцию всё равно видно."
   ]
  },
  {
   "cell_type": "markdown",
   "metadata": {},
   "source": [
    "### Вывод\n",
    "В центре Санкт-Петербурга цены значительно стабильней, чем по области."
   ]
  },
  {
   "cell_type": "markdown",
   "metadata": {},
   "source": [
    "## Общий вывод"
   ]
  },
  {
   "cell_type": "markdown",
   "metadata": {},
   "source": [
    "Большиноство пропусков были оставлены из-за отсутствия возможности их логичного заполнения, требуется уточнение по пропускам по длительности размещения — на самом деле ли они действующие.\n",
    "Цена квартиры, как бы это странно не звучало, сильно зависит от её рамера. По области хорошо прослеживается зависимоть цены от расстояния от центра, при этом в самом центре такой тенденции нет. После 2014-го квартиры сильно подешевели, при этом в центре в данный период они остановились в падении, а по окраинам тенденция продолжилась. На первом этаже всегда самые дешевые квартиры, на последнем могут быть дешевле, но это также может зависить от этажности здания. На 2019-й год мало данных, скорее всего, данные как раз были собраны на его начало."
   ]
  }
 ],
 "metadata": {
  "ExecuteTimeLog": [
   {
    "duration": 2320,
    "start_time": "2021-12-13T11:35:05.648Z"
   },
   {
    "duration": 94,
    "start_time": "2021-12-13T11:36:04.358Z"
   },
   {
    "duration": 69,
    "start_time": "2021-12-13T11:37:12.083Z"
   },
   {
    "duration": 73,
    "start_time": "2021-12-13T11:37:24.027Z"
   },
   {
    "duration": 26,
    "start_time": "2021-12-13T11:48:56.613Z"
   },
   {
    "duration": 22,
    "start_time": "2021-12-13T11:53:35.584Z"
   },
   {
    "duration": 78,
    "start_time": "2021-12-13T11:54:35.256Z"
   },
   {
    "duration": 72,
    "start_time": "2021-12-13T11:54:41.816Z"
   },
   {
    "duration": 297,
    "start_time": "2021-12-13T11:56:16.056Z"
   },
   {
    "duration": 47,
    "start_time": "2021-12-13T11:57:25.193Z"
   },
   {
    "duration": 31,
    "start_time": "2021-12-13T11:57:47.113Z"
   },
   {
    "duration": 211,
    "start_time": "2021-12-13T12:01:26.873Z"
   },
   {
    "duration": 258,
    "start_time": "2021-12-13T12:01:41.137Z"
   },
   {
    "duration": 227,
    "start_time": "2021-12-13T12:02:28.657Z"
   },
   {
    "duration": 359,
    "start_time": "2021-12-13T12:03:45.233Z"
   },
   {
    "duration": 11,
    "start_time": "2021-12-13T12:03:53.162Z"
   },
   {
    "duration": 182,
    "start_time": "2021-12-13T12:26:53.391Z"
   },
   {
    "duration": 5,
    "start_time": "2021-12-13T12:27:05.751Z"
   },
   {
    "duration": 5,
    "start_time": "2021-12-13T12:32:15.368Z"
   },
   {
    "duration": 183,
    "start_time": "2021-12-13T12:32:27.600Z"
   },
   {
    "duration": 4,
    "start_time": "2021-12-13T12:32:50.944Z"
   },
   {
    "duration": 1343,
    "start_time": "2021-12-13T12:38:50.153Z"
   },
   {
    "duration": 1450,
    "start_time": "2021-12-13T12:39:11.905Z"
   },
   {
    "duration": 9,
    "start_time": "2021-12-13T12:44:09.251Z"
   },
   {
    "duration": 7,
    "start_time": "2021-12-13T12:44:22.762Z"
   },
   {
    "duration": 5,
    "start_time": "2021-12-13T12:45:05.379Z"
   },
   {
    "duration": 182,
    "start_time": "2021-12-13T13:03:29.128Z"
   },
   {
    "duration": 17,
    "start_time": "2021-12-13T13:10:00.907Z"
   },
   {
    "duration": 193,
    "start_time": "2021-12-13T13:12:21.636Z"
   },
   {
    "duration": 4,
    "start_time": "2021-12-13T13:12:36.524Z"
   },
   {
    "duration": 63,
    "start_time": "2021-12-13T13:12:44.593Z"
   },
   {
    "duration": 47,
    "start_time": "2021-12-13T13:12:44.611Z"
   },
   {
    "duration": 43,
    "start_time": "2021-12-13T13:12:44.616Z"
   },
   {
    "duration": 40,
    "start_time": "2021-12-13T13:12:44.619Z"
   },
   {
    "duration": 4,
    "start_time": "2021-12-13T13:12:53.644Z"
   },
   {
    "duration": 15,
    "start_time": "2021-12-13T13:18:32.871Z"
   },
   {
    "duration": 33,
    "start_time": "2021-12-13T13:18:50.230Z"
   },
   {
    "duration": 4,
    "start_time": "2021-12-13T13:20:29.720Z"
   },
   {
    "duration": 55,
    "start_time": "2021-12-13T13:20:36.497Z"
   },
   {
    "duration": 89,
    "start_time": "2021-12-13T13:20:36.465Z"
   },
   {
    "duration": 87,
    "start_time": "2021-12-13T13:20:36.469Z"
   },
   {
    "duration": 85,
    "start_time": "2021-12-13T13:20:36.472Z"
   },
   {
    "duration": 4,
    "start_time": "2021-12-13T13:20:39.142Z"
   },
   {
    "duration": 67,
    "start_time": "2021-12-13T13:20:58.642Z"
   },
   {
    "duration": 89,
    "start_time": "2021-12-13T13:20:58.622Z"
   },
   {
    "duration": 88,
    "start_time": "2021-12-13T13:20:58.624Z"
   },
   {
    "duration": 87,
    "start_time": "2021-12-13T13:20:58.626Z"
   },
   {
    "duration": 43,
    "start_time": "2021-12-13T13:20:58.671Z"
   },
   {
    "duration": 41,
    "start_time": "2021-12-13T13:20:58.674Z"
   },
   {
    "duration": 69,
    "start_time": "2021-12-13T13:21:19.784Z"
   },
   {
    "duration": 32,
    "start_time": "2021-12-13T13:21:19.854Z"
   },
   {
    "duration": 12,
    "start_time": "2021-12-13T13:21:19.892Z"
   },
   {
    "duration": 5,
    "start_time": "2021-12-13T13:21:19.906Z"
   },
   {
    "duration": 11,
    "start_time": "2021-12-13T13:21:19.913Z"
   },
   {
    "duration": 30,
    "start_time": "2021-12-13T13:25:16.337Z"
   },
   {
    "duration": 8,
    "start_time": "2021-12-13T13:28:55.723Z"
   },
   {
    "duration": 31,
    "start_time": "2021-12-13T13:29:06.642Z"
   },
   {
    "duration": 65,
    "start_time": "2021-12-13T14:05:13.278Z"
   },
   {
    "duration": 70,
    "start_time": "2021-12-13T14:06:01.206Z"
   },
   {
    "duration": 61,
    "start_time": "2021-12-13T14:08:41.376Z"
   },
   {
    "duration": 394,
    "start_time": "2021-12-13T14:10:59.072Z"
   },
   {
    "duration": 375,
    "start_time": "2021-12-13T14:13:51.992Z"
   },
   {
    "duration": 494,
    "start_time": "2021-12-13T14:16:25.528Z"
   },
   {
    "duration": 384,
    "start_time": "2021-12-13T14:16:43.119Z"
   },
   {
    "duration": 466,
    "start_time": "2021-12-13T14:20:25.245Z"
   },
   {
    "duration": 807,
    "start_time": "2021-12-13T14:20:48.789Z"
   },
   {
    "duration": 62,
    "start_time": "2021-12-13T14:24:36.474Z"
   },
   {
    "duration": 68,
    "start_time": "2021-12-13T14:30:26.252Z"
   },
   {
    "duration": 1349,
    "start_time": "2021-12-13T14:31:25.220Z"
   },
   {
    "duration": 1232,
    "start_time": "2021-12-13T14:32:54.619Z"
   },
   {
    "duration": 1303,
    "start_time": "2021-12-13T14:33:08.747Z"
   },
   {
    "duration": 1289,
    "start_time": "2021-12-13T14:33:23.315Z"
   },
   {
    "duration": 1289,
    "start_time": "2021-12-13T14:34:10.076Z"
   },
   {
    "duration": 1256,
    "start_time": "2021-12-13T14:34:25.980Z"
   },
   {
    "duration": 5,
    "start_time": "2021-12-13T14:46:29.043Z"
   },
   {
    "duration": 7,
    "start_time": "2021-12-13T14:48:28.581Z"
   },
   {
    "duration": 20,
    "start_time": "2021-12-13T14:49:38.651Z"
   },
   {
    "duration": 8,
    "start_time": "2021-12-13T14:55:30.823Z"
   },
   {
    "duration": 5,
    "start_time": "2021-12-13T14:56:57.584Z"
   },
   {
    "duration": 65,
    "start_time": "2021-12-13T15:10:36.380Z"
   },
   {
    "duration": 58,
    "start_time": "2021-12-13T15:11:11.381Z"
   },
   {
    "duration": 60,
    "start_time": "2021-12-13T15:13:19.181Z"
   },
   {
    "duration": 59,
    "start_time": "2021-12-13T15:13:56.869Z"
   },
   {
    "duration": 56,
    "start_time": "2021-12-13T15:14:15.861Z"
   },
   {
    "duration": 62,
    "start_time": "2021-12-13T15:15:44.094Z"
   },
   {
    "duration": 59,
    "start_time": "2021-12-13T15:16:09.894Z"
   },
   {
    "duration": 428,
    "start_time": "2021-12-13T15:16:20.853Z"
   },
   {
    "duration": 1167,
    "start_time": "2021-12-13T15:17:35.110Z"
   },
   {
    "duration": 1213,
    "start_time": "2021-12-13T15:18:33.542Z"
   },
   {
    "duration": 1162,
    "start_time": "2021-12-13T15:19:35.120Z"
   },
   {
    "duration": 1235,
    "start_time": "2021-12-13T15:20:06.927Z"
   },
   {
    "duration": 9,
    "start_time": "2021-12-13T15:21:27.063Z"
   },
   {
    "duration": 7,
    "start_time": "2021-12-13T15:22:50.344Z"
   },
   {
    "duration": 6,
    "start_time": "2021-12-13T15:23:12.791Z"
   },
   {
    "duration": 619,
    "start_time": "2021-12-14T16:59:09.902Z"
   },
   {
    "duration": 29,
    "start_time": "2021-12-14T16:59:10.523Z"
   },
   {
    "duration": 9,
    "start_time": "2021-12-14T16:59:10.554Z"
   },
   {
    "duration": 4,
    "start_time": "2021-12-14T16:59:10.565Z"
   },
   {
    "duration": 28,
    "start_time": "2021-12-14T16:59:10.570Z"
   },
   {
    "duration": 8,
    "start_time": "2021-12-14T16:59:10.600Z"
   },
   {
    "duration": 6,
    "start_time": "2021-12-14T16:59:10.610Z"
   },
   {
    "duration": 1403,
    "start_time": "2021-12-14T16:59:10.618Z"
   },
   {
    "duration": 5,
    "start_time": "2021-12-14T16:59:12.023Z"
   },
   {
    "duration": 19,
    "start_time": "2021-12-14T16:59:12.030Z"
   },
   {
    "duration": 5,
    "start_time": "2021-12-14T16:59:12.050Z"
   },
   {
    "duration": 1217,
    "start_time": "2021-12-14T16:59:12.056Z"
   },
   {
    "duration": 35,
    "start_time": "2021-12-14T16:59:13.275Z"
   },
   {
    "duration": 24,
    "start_time": "2021-12-14T16:59:17.384Z"
   },
   {
    "duration": 71,
    "start_time": "2021-12-14T17:40:08.261Z"
   },
   {
    "duration": 30,
    "start_time": "2021-12-14T17:40:08.334Z"
   },
   {
    "duration": 31,
    "start_time": "2021-12-14T17:40:08.367Z"
   },
   {
    "duration": 6,
    "start_time": "2021-12-14T17:40:08.400Z"
   },
   {
    "duration": 14,
    "start_time": "2021-12-14T17:40:08.408Z"
   },
   {
    "duration": 18,
    "start_time": "2021-12-14T17:40:08.424Z"
   },
   {
    "duration": 10,
    "start_time": "2021-12-14T17:40:08.444Z"
   },
   {
    "duration": 1387,
    "start_time": "2021-12-14T17:40:08.456Z"
   },
   {
    "duration": 6,
    "start_time": "2021-12-14T17:40:09.844Z"
   },
   {
    "duration": 19,
    "start_time": "2021-12-14T17:40:09.851Z"
   },
   {
    "duration": 20,
    "start_time": "2021-12-14T17:40:09.872Z"
   },
   {
    "duration": 1224,
    "start_time": "2021-12-14T17:40:09.894Z"
   },
   {
    "duration": 24,
    "start_time": "2021-12-14T17:40:11.120Z"
   },
   {
    "duration": 72,
    "start_time": "2021-12-14T17:45:17.299Z"
   },
   {
    "duration": 31,
    "start_time": "2021-12-14T17:45:17.373Z"
   },
   {
    "duration": 9,
    "start_time": "2021-12-14T17:45:17.406Z"
   },
   {
    "duration": 3,
    "start_time": "2021-12-14T17:45:17.417Z"
   },
   {
    "duration": 11,
    "start_time": "2021-12-14T17:45:17.422Z"
   },
   {
    "duration": 8,
    "start_time": "2021-12-14T17:45:17.435Z"
   },
   {
    "duration": 238,
    "start_time": "2021-12-14T17:49:37.063Z"
   },
   {
    "duration": 174,
    "start_time": "2021-12-14T17:49:52.608Z"
   },
   {
    "duration": 8,
    "start_time": "2021-12-14T17:50:02.879Z"
   },
   {
    "duration": 5,
    "start_time": "2021-12-14T17:56:19.946Z"
   },
   {
    "duration": 6,
    "start_time": "2021-12-14T17:56:24.450Z"
   },
   {
    "duration": 20,
    "start_time": "2021-12-14T17:56:24.930Z"
   },
   {
    "duration": 6,
    "start_time": "2021-12-14T17:56:25.873Z"
   },
   {
    "duration": 1192,
    "start_time": "2021-12-14T17:56:28.849Z"
   },
   {
    "duration": 23,
    "start_time": "2021-12-14T17:56:31.353Z"
   },
   {
    "duration": 8,
    "start_time": "2021-12-14T18:32:30.093Z"
   },
   {
    "duration": 58,
    "start_time": "2021-12-14T18:40:23.823Z"
   },
   {
    "duration": 175,
    "start_time": "2021-12-14T18:46:07.386Z"
   },
   {
    "duration": 8,
    "start_time": "2021-12-14T18:47:21.340Z"
   },
   {
    "duration": 10,
    "start_time": "2021-12-14T18:47:30.956Z"
   },
   {
    "duration": 14,
    "start_time": "2021-12-14T18:48:37.083Z"
   },
   {
    "duration": 191,
    "start_time": "2021-12-14T18:48:55.317Z"
   },
   {
    "duration": 13,
    "start_time": "2021-12-14T18:49:02.405Z"
   },
   {
    "duration": 66,
    "start_time": "2021-12-14T19:29:31.269Z"
   },
   {
    "duration": 557,
    "start_time": "2021-12-14T19:29:49.598Z"
   },
   {
    "duration": 807,
    "start_time": "2021-12-14T19:31:46.321Z"
   },
   {
    "duration": 807,
    "start_time": "2021-12-14T19:32:00.669Z"
   },
   {
    "duration": 6,
    "start_time": "2021-12-14T19:40:11.320Z"
   },
   {
    "duration": 4,
    "start_time": "2021-12-14T19:46:42.803Z"
   },
   {
    "duration": 352,
    "start_time": "2021-12-15T06:45:32.973Z"
   },
   {
    "duration": 636,
    "start_time": "2021-12-15T06:46:36.595Z"
   },
   {
    "duration": 28,
    "start_time": "2021-12-15T06:46:37.233Z"
   },
   {
    "duration": 12,
    "start_time": "2021-12-15T06:46:37.263Z"
   },
   {
    "duration": 19,
    "start_time": "2021-12-15T06:46:37.277Z"
   },
   {
    "duration": 32,
    "start_time": "2021-12-15T06:46:37.298Z"
   },
   {
    "duration": 29,
    "start_time": "2021-12-15T06:46:37.331Z"
   },
   {
    "duration": 42,
    "start_time": "2021-12-15T06:46:37.361Z"
   },
   {
    "duration": 21,
    "start_time": "2021-12-15T06:46:37.404Z"
   },
   {
    "duration": 35,
    "start_time": "2021-12-15T06:46:37.427Z"
   },
   {
    "duration": 41,
    "start_time": "2021-12-15T06:46:37.464Z"
   },
   {
    "duration": 40,
    "start_time": "2021-12-15T06:46:37.507Z"
   },
   {
    "duration": 33,
    "start_time": "2021-12-15T06:46:37.549Z"
   },
   {
    "duration": 18,
    "start_time": "2021-12-15T06:46:37.584Z"
   },
   {
    "duration": 1073,
    "start_time": "2021-12-15T06:46:37.603Z"
   },
   {
    "duration": 4,
    "start_time": "2021-12-15T06:46:38.678Z"
   },
   {
    "duration": 52,
    "start_time": "2021-12-15T06:46:38.684Z"
   },
   {
    "duration": 8,
    "start_time": "2021-12-15T06:46:38.738Z"
   },
   {
    "duration": 29,
    "start_time": "2021-12-15T06:46:38.748Z"
   },
   {
    "duration": 973,
    "start_time": "2021-12-15T06:46:38.779Z"
   },
   {
    "duration": 5,
    "start_time": "2021-12-15T06:46:39.754Z"
   },
   {
    "duration": 10,
    "start_time": "2021-12-15T06:46:44.920Z"
   },
   {
    "duration": 262,
    "start_time": "2021-12-15T06:47:48.657Z"
   },
   {
    "duration": 90,
    "start_time": "2021-12-15T06:48:58.769Z"
   },
   {
    "duration": 83,
    "start_time": "2021-12-15T06:49:24.586Z"
   },
   {
    "duration": 100,
    "start_time": "2021-12-15T06:49:28.090Z"
   },
   {
    "duration": 92,
    "start_time": "2021-12-15T06:49:54.306Z"
   },
   {
    "duration": 259,
    "start_time": "2021-12-15T06:50:09.593Z"
   },
   {
    "duration": 220,
    "start_time": "2021-12-15T06:51:37.403Z"
   },
   {
    "duration": 245,
    "start_time": "2021-12-15T06:57:45.292Z"
   },
   {
    "duration": 250,
    "start_time": "2021-12-15T07:03:24.815Z"
   },
   {
    "duration": 249,
    "start_time": "2021-12-15T07:05:43.647Z"
   },
   {
    "duration": 275,
    "start_time": "2021-12-15T07:05:59.128Z"
   },
   {
    "duration": 202,
    "start_time": "2021-12-15T07:08:48.209Z"
   },
   {
    "duration": 202,
    "start_time": "2021-12-15T07:09:13.513Z"
   },
   {
    "duration": 219,
    "start_time": "2021-12-15T07:09:21.217Z"
   },
   {
    "duration": 204,
    "start_time": "2021-12-15T07:10:41.409Z"
   },
   {
    "duration": 189,
    "start_time": "2021-12-15T07:10:51.866Z"
   },
   {
    "duration": 172,
    "start_time": "2021-12-15T07:13:04.922Z"
   },
   {
    "duration": 542,
    "start_time": "2021-12-15T07:28:35.413Z"
   },
   {
    "duration": 2149,
    "start_time": "2021-12-15T07:29:47.702Z"
   },
   {
    "duration": 1893,
    "start_time": "2021-12-15T07:30:19.134Z"
   },
   {
    "duration": 2202,
    "start_time": "2021-12-15T07:30:43.495Z"
   },
   {
    "duration": 2611,
    "start_time": "2021-12-15T07:35:07.736Z"
   },
   {
    "duration": 74,
    "start_time": "2021-12-15T07:35:47.831Z"
   },
   {
    "duration": 49,
    "start_time": "2021-12-15T07:35:47.907Z"
   },
   {
    "duration": 11,
    "start_time": "2021-12-15T07:35:47.958Z"
   },
   {
    "duration": 7,
    "start_time": "2021-12-15T07:35:47.971Z"
   },
   {
    "duration": 5,
    "start_time": "2021-12-15T07:35:47.979Z"
   },
   {
    "duration": 9,
    "start_time": "2021-12-15T07:35:47.986Z"
   },
   {
    "duration": 8,
    "start_time": "2021-12-15T07:35:47.997Z"
   },
   {
    "duration": 39,
    "start_time": "2021-12-15T07:35:48.008Z"
   },
   {
    "duration": 7,
    "start_time": "2021-12-15T07:35:48.050Z"
   },
   {
    "duration": 7,
    "start_time": "2021-12-15T07:35:48.059Z"
   },
   {
    "duration": 7,
    "start_time": "2021-12-15T07:35:48.068Z"
   },
   {
    "duration": 19,
    "start_time": "2021-12-15T07:35:48.076Z"
   },
   {
    "duration": 6,
    "start_time": "2021-12-15T07:35:48.097Z"
   },
   {
    "duration": 1232,
    "start_time": "2021-12-15T07:35:48.105Z"
   },
   {
    "duration": 6,
    "start_time": "2021-12-15T07:35:49.344Z"
   },
   {
    "duration": 27,
    "start_time": "2021-12-15T07:35:49.352Z"
   },
   {
    "duration": 4,
    "start_time": "2021-12-15T07:35:49.380Z"
   },
   {
    "duration": 15,
    "start_time": "2021-12-15T07:35:49.386Z"
   },
   {
    "duration": 871,
    "start_time": "2021-12-15T07:35:49.403Z"
   },
   {
    "duration": 5,
    "start_time": "2021-12-15T07:35:50.275Z"
   },
   {
    "duration": 262,
    "start_time": "2021-12-15T07:35:50.282Z"
   },
   {
    "duration": 277,
    "start_time": "2021-12-15T07:35:50.546Z"
   },
   {
    "duration": 8,
    "start_time": "2021-12-15T07:35:50.826Z"
   },
   {
    "duration": 541,
    "start_time": "2021-12-15T07:36:03.368Z"
   },
   {
    "duration": 801,
    "start_time": "2021-12-15T07:37:21.545Z"
   },
   {
    "duration": 1470,
    "start_time": "2021-12-15T07:41:59.922Z"
   },
   {
    "duration": 821,
    "start_time": "2021-12-15T07:42:33.123Z"
   },
   {
    "duration": 5164,
    "start_time": "2021-12-15T07:46:05.507Z"
   },
   {
    "duration": 1826,
    "start_time": "2021-12-15T07:46:47.851Z"
   },
   {
    "duration": 841,
    "start_time": "2021-12-15T07:47:09.043Z"
   },
   {
    "duration": 994,
    "start_time": "2021-12-15T07:48:12.092Z"
   },
   {
    "duration": 750,
    "start_time": "2021-12-15T07:49:10.269Z"
   },
   {
    "duration": 1043,
    "start_time": "2021-12-15T07:49:20.589Z"
   },
   {
    "duration": 1007,
    "start_time": "2021-12-15T07:52:10.589Z"
   },
   {
    "duration": 689,
    "start_time": "2021-12-15T07:52:29.230Z"
   },
   {
    "duration": 173,
    "start_time": "2021-12-15T07:57:02.928Z"
   },
   {
    "duration": 8,
    "start_time": "2021-12-15T07:57:08.583Z"
   },
   {
    "duration": 534,
    "start_time": "2021-12-15T07:57:16.526Z"
   },
   {
    "duration": 187,
    "start_time": "2021-12-15T08:00:47.840Z"
   },
   {
    "duration": 180,
    "start_time": "2021-12-15T08:01:24.584Z"
   },
   {
    "duration": 774,
    "start_time": "2021-12-15T08:17:38.131Z"
   },
   {
    "duration": 700,
    "start_time": "2021-12-15T08:18:24.346Z"
   },
   {
    "duration": 905,
    "start_time": "2021-12-15T08:19:03.324Z"
   },
   {
    "duration": 823,
    "start_time": "2021-12-15T08:19:29.979Z"
   },
   {
    "duration": 7592,
    "start_time": "2021-12-15T08:20:42.635Z"
   },
   {
    "duration": 757,
    "start_time": "2021-12-15T08:24:10.669Z"
   },
   {
    "duration": 178,
    "start_time": "2021-12-15T08:26:21.240Z"
   },
   {
    "duration": 172,
    "start_time": "2021-12-15T08:26:32.148Z"
   },
   {
    "duration": 8,
    "start_time": "2021-12-15T08:26:43.718Z"
   },
   {
    "duration": 9,
    "start_time": "2021-12-15T08:37:20.160Z"
   },
   {
    "duration": 258,
    "start_time": "2021-12-15T08:38:31.544Z"
   },
   {
    "duration": 269,
    "start_time": "2021-12-15T08:38:42.889Z"
   },
   {
    "duration": 426,
    "start_time": "2021-12-15T08:39:14.857Z"
   },
   {
    "duration": 369,
    "start_time": "2021-12-15T08:40:07.465Z"
   },
   {
    "duration": 104,
    "start_time": "2021-12-15T08:40:15.993Z"
   },
   {
    "duration": 364,
    "start_time": "2021-12-15T08:40:27.025Z"
   },
   {
    "duration": 397,
    "start_time": "2021-12-15T08:40:34.850Z"
   },
   {
    "duration": 319,
    "start_time": "2021-12-15T13:45:19.117Z"
   },
   {
    "duration": 661,
    "start_time": "2021-12-15T13:45:25.386Z"
   },
   {
    "duration": 31,
    "start_time": "2021-12-15T13:45:26.049Z"
   },
   {
    "duration": 11,
    "start_time": "2021-12-15T13:45:26.082Z"
   },
   {
    "duration": 11,
    "start_time": "2021-12-15T13:45:26.095Z"
   },
   {
    "duration": 4,
    "start_time": "2021-12-15T13:45:26.107Z"
   },
   {
    "duration": 38,
    "start_time": "2021-12-15T13:45:26.113Z"
   },
   {
    "duration": 11,
    "start_time": "2021-12-15T13:45:26.153Z"
   },
   {
    "duration": 6,
    "start_time": "2021-12-15T13:45:26.166Z"
   },
   {
    "duration": 7,
    "start_time": "2021-12-15T13:45:26.175Z"
   },
   {
    "duration": 9,
    "start_time": "2021-12-15T13:45:26.185Z"
   },
   {
    "duration": 5,
    "start_time": "2021-12-15T13:45:26.196Z"
   },
   {
    "duration": 52,
    "start_time": "2021-12-15T13:45:26.203Z"
   },
   {
    "duration": 8,
    "start_time": "2021-12-15T13:45:26.258Z"
   },
   {
    "duration": 1186,
    "start_time": "2021-12-15T13:45:26.268Z"
   },
   {
    "duration": 4,
    "start_time": "2021-12-15T13:45:27.455Z"
   },
   {
    "duration": 26,
    "start_time": "2021-12-15T13:45:27.461Z"
   },
   {
    "duration": 9,
    "start_time": "2021-12-15T13:45:27.489Z"
   },
   {
    "duration": 13,
    "start_time": "2021-12-15T13:45:27.500Z"
   },
   {
    "duration": 900,
    "start_time": "2021-12-15T13:45:27.514Z"
   },
   {
    "duration": 5,
    "start_time": "2021-12-15T13:45:28.415Z"
   },
   {
    "duration": 327,
    "start_time": "2021-12-15T13:45:28.422Z"
   },
   {
    "duration": 269,
    "start_time": "2021-12-15T13:45:28.751Z"
   },
   {
    "duration": 9,
    "start_time": "2021-12-15T13:45:29.022Z"
   },
   {
    "duration": 1328,
    "start_time": "2021-12-15T13:45:29.032Z"
   },
   {
    "duration": 8,
    "start_time": "2021-12-15T13:45:30.362Z"
   },
   {
    "duration": 200,
    "start_time": "2021-12-15T13:45:30.372Z"
   },
   {
    "duration": 393,
    "start_time": "2021-12-15T13:45:30.575Z"
   },
   {
    "duration": 320,
    "start_time": "2021-12-15T13:47:44.393Z"
   },
   {
    "duration": 275,
    "start_time": "2021-12-15T13:48:21.530Z"
   },
   {
    "duration": 17,
    "start_time": "2021-12-15T13:53:17.659Z"
   },
   {
    "duration": 277,
    "start_time": "2021-12-15T13:53:52.644Z"
   },
   {
    "duration": 274,
    "start_time": "2021-12-15T13:55:22.916Z"
   },
   {
    "duration": 9,
    "start_time": "2021-12-15T13:56:26.476Z"
   },
   {
    "duration": 10,
    "start_time": "2021-12-15T13:56:38.252Z"
   },
   {
    "duration": 86,
    "start_time": "2021-12-15T13:57:17.860Z"
   },
   {
    "duration": 9,
    "start_time": "2021-12-15T13:57:25.053Z"
   },
   {
    "duration": 7,
    "start_time": "2021-12-15T14:00:19.613Z"
   },
   {
    "duration": 115,
    "start_time": "2021-12-15T14:05:00.894Z"
   },
   {
    "duration": 7,
    "start_time": "2021-12-15T14:08:51.104Z"
   },
   {
    "duration": 345,
    "start_time": "2021-12-15T14:40:59.088Z"
   },
   {
    "duration": 483,
    "start_time": "2021-12-15T14:42:35.961Z"
   },
   {
    "duration": 484,
    "start_time": "2021-12-15T14:44:35.931Z"
   },
   {
    "duration": 495,
    "start_time": "2021-12-15T14:45:57.426Z"
   },
   {
    "duration": 509,
    "start_time": "2021-12-15T14:46:06.995Z"
   },
   {
    "duration": 667,
    "start_time": "2021-12-15T14:51:57.988Z"
   },
   {
    "duration": 455,
    "start_time": "2021-12-15T14:54:41.316Z"
   },
   {
    "duration": 464,
    "start_time": "2021-12-15T14:55:13.285Z"
   },
   {
    "duration": 500,
    "start_time": "2021-12-15T14:55:46.525Z"
   },
   {
    "duration": 294,
    "start_time": "2021-12-15T14:55:50.438Z"
   },
   {
    "duration": 402,
    "start_time": "2021-12-15T14:57:23.070Z"
   },
   {
    "duration": 460,
    "start_time": "2021-12-15T14:58:20.216Z"
   },
   {
    "duration": 470,
    "start_time": "2021-12-15T14:58:42.590Z"
   },
   {
    "duration": 459,
    "start_time": "2021-12-15T14:58:54.510Z"
   },
   {
    "duration": 140,
    "start_time": "2021-12-15T15:07:25.153Z"
   },
   {
    "duration": 180,
    "start_time": "2021-12-15T15:07:44.985Z"
   },
   {
    "duration": 269,
    "start_time": "2021-12-15T15:09:32.931Z"
   },
   {
    "duration": 92,
    "start_time": "2021-12-15T15:10:50.716Z"
   },
   {
    "duration": 130,
    "start_time": "2021-12-15T15:11:05.194Z"
   },
   {
    "duration": 283,
    "start_time": "2021-12-15T15:11:43.731Z"
   },
   {
    "duration": 430,
    "start_time": "2021-12-15T15:11:54.106Z"
   },
   {
    "duration": 123,
    "start_time": "2021-12-15T15:13:06.515Z"
   },
   {
    "duration": 136,
    "start_time": "2021-12-15T15:13:12.835Z"
   },
   {
    "duration": 138,
    "start_time": "2021-12-15T15:14:05.484Z"
   },
   {
    "duration": 84,
    "start_time": "2021-12-15T15:15:40.803Z"
   },
   {
    "duration": 914,
    "start_time": "2021-12-15T15:19:00.380Z"
   },
   {
    "duration": 840,
    "start_time": "2021-12-15T15:19:16.186Z"
   },
   {
    "duration": 6,
    "start_time": "2021-12-15T15:21:57.557Z"
   },
   {
    "duration": 86,
    "start_time": "2021-12-15T15:21:57.565Z"
   },
   {
    "duration": 26,
    "start_time": "2021-12-15T15:21:57.653Z"
   },
   {
    "duration": 18,
    "start_time": "2021-12-15T15:21:57.681Z"
   },
   {
    "duration": 29,
    "start_time": "2021-12-15T15:21:57.700Z"
   },
   {
    "duration": 19,
    "start_time": "2021-12-15T15:21:57.731Z"
   },
   {
    "duration": 42,
    "start_time": "2021-12-15T15:21:57.751Z"
   },
   {
    "duration": 22,
    "start_time": "2021-12-15T15:21:57.795Z"
   },
   {
    "duration": 23,
    "start_time": "2021-12-15T15:21:57.819Z"
   },
   {
    "duration": 34,
    "start_time": "2021-12-15T15:21:57.844Z"
   },
   {
    "duration": 51,
    "start_time": "2021-12-15T15:21:57.879Z"
   },
   {
    "duration": 21,
    "start_time": "2021-12-15T15:21:57.932Z"
   },
   {
    "duration": 55,
    "start_time": "2021-12-15T15:21:57.955Z"
   },
   {
    "duration": 32,
    "start_time": "2021-12-15T15:21:58.012Z"
   },
   {
    "duration": 1056,
    "start_time": "2021-12-15T15:21:58.046Z"
   },
   {
    "duration": 4,
    "start_time": "2021-12-15T15:21:59.103Z"
   },
   {
    "duration": 51,
    "start_time": "2021-12-15T15:21:59.109Z"
   },
   {
    "duration": 4,
    "start_time": "2021-12-15T15:21:59.162Z"
   },
   {
    "duration": 46,
    "start_time": "2021-12-15T15:21:59.168Z"
   },
   {
    "duration": 954,
    "start_time": "2021-12-15T15:21:59.216Z"
   },
   {
    "duration": 5,
    "start_time": "2021-12-15T15:22:00.172Z"
   },
   {
    "duration": 250,
    "start_time": "2021-12-15T15:22:00.178Z"
   },
   {
    "duration": 236,
    "start_time": "2021-12-15T15:22:00.431Z"
   },
   {
    "duration": 8,
    "start_time": "2021-12-15T15:22:00.669Z"
   },
   {
    "duration": 762,
    "start_time": "2021-12-15T15:22:00.678Z"
   },
   {
    "duration": 8,
    "start_time": "2021-12-15T15:22:01.442Z"
   },
   {
    "duration": 203,
    "start_time": "2021-12-15T15:22:01.451Z"
   },
   {
    "duration": 476,
    "start_time": "2021-12-15T15:22:01.656Z"
   },
   {
    "duration": 15,
    "start_time": "2021-12-15T15:22:02.133Z"
   },
   {
    "duration": 37,
    "start_time": "2021-12-15T15:22:02.149Z"
   },
   {
    "duration": 61,
    "start_time": "2021-12-15T15:22:02.187Z"
   },
   {
    "duration": 568,
    "start_time": "2021-12-15T15:22:02.250Z"
   },
   {
    "duration": 670,
    "start_time": "2021-12-15T15:22:02.820Z"
   },
   {
    "duration": 466,
    "start_time": "2021-12-15T15:22:03.491Z"
   },
   {
    "duration": 466,
    "start_time": "2021-12-15T15:22:03.959Z"
   },
   {
    "duration": 3,
    "start_time": "2021-12-15T15:22:04.427Z"
   },
   {
    "duration": 1530,
    "start_time": "2021-12-15T15:23:35.114Z"
   },
   {
    "duration": 1814,
    "start_time": "2021-12-15T15:24:31.234Z"
   },
   {
    "duration": 27,
    "start_time": "2021-12-15T17:06:39.980Z"
   },
   {
    "duration": 614,
    "start_time": "2021-12-15T17:06:40.009Z"
   },
   {
    "duration": 27,
    "start_time": "2021-12-15T17:06:40.625Z"
   },
   {
    "duration": 9,
    "start_time": "2021-12-15T17:06:40.654Z"
   },
   {
    "duration": 23,
    "start_time": "2021-12-15T17:06:40.665Z"
   },
   {
    "duration": 18,
    "start_time": "2021-12-15T17:06:40.690Z"
   },
   {
    "duration": 23,
    "start_time": "2021-12-15T17:06:40.710Z"
   },
   {
    "duration": 20,
    "start_time": "2021-12-15T17:06:40.735Z"
   },
   {
    "duration": 16,
    "start_time": "2021-12-15T17:06:40.757Z"
   },
   {
    "duration": 18,
    "start_time": "2021-12-15T17:06:40.774Z"
   },
   {
    "duration": 24,
    "start_time": "2021-12-15T17:06:40.793Z"
   },
   {
    "duration": 13,
    "start_time": "2021-12-15T17:06:40.819Z"
   },
   {
    "duration": 18,
    "start_time": "2021-12-15T17:06:40.833Z"
   },
   {
    "duration": 5,
    "start_time": "2021-12-15T17:06:40.853Z"
   },
   {
    "duration": 1004,
    "start_time": "2021-12-15T17:06:40.860Z"
   },
   {
    "duration": 3,
    "start_time": "2021-12-15T17:06:41.866Z"
   },
   {
    "duration": 40,
    "start_time": "2021-12-15T17:06:41.871Z"
   },
   {
    "duration": 9,
    "start_time": "2021-12-15T17:06:41.913Z"
   },
   {
    "duration": 17,
    "start_time": "2021-12-15T17:06:41.924Z"
   },
   {
    "duration": 1189,
    "start_time": "2021-12-15T17:06:41.943Z"
   },
   {
    "duration": 5,
    "start_time": "2021-12-15T17:06:43.134Z"
   },
   {
    "duration": 297,
    "start_time": "2021-12-15T17:06:43.141Z"
   },
   {
    "duration": 231,
    "start_time": "2021-12-15T17:06:43.441Z"
   },
   {
    "duration": 16,
    "start_time": "2021-12-15T17:06:43.674Z"
   },
   {
    "duration": 1191,
    "start_time": "2021-12-15T17:06:43.692Z"
   },
   {
    "duration": 8,
    "start_time": "2021-12-15T17:06:44.887Z"
   },
   {
    "duration": 172,
    "start_time": "2021-12-15T17:06:44.896Z"
   },
   {
    "duration": 365,
    "start_time": "2021-12-15T17:06:45.069Z"
   },
   {
    "duration": 11,
    "start_time": "2021-12-15T17:06:45.435Z"
   },
   {
    "duration": 8,
    "start_time": "2021-12-15T17:06:45.447Z"
   },
   {
    "duration": 20,
    "start_time": "2021-12-15T17:06:45.456Z"
   },
   {
    "duration": 454,
    "start_time": "2021-12-15T17:06:45.477Z"
   },
   {
    "duration": 688,
    "start_time": "2021-12-15T17:06:45.932Z"
   },
   {
    "duration": 434,
    "start_time": "2021-12-15T17:06:46.621Z"
   },
   {
    "duration": 535,
    "start_time": "2021-12-15T17:06:47.056Z"
   },
   {
    "duration": 2190,
    "start_time": "2021-12-15T17:06:47.593Z"
   },
   {
    "duration": 156,
    "start_time": "2021-12-15T17:14:02.411Z"
   },
   {
    "duration": 320,
    "start_time": "2021-12-15T17:14:10.658Z"
   },
   {
    "duration": 9,
    "start_time": "2021-12-15T17:14:33.197Z"
   },
   {
    "duration": 20,
    "start_time": "2021-12-15T17:19:16.652Z"
   },
   {
    "duration": 13,
    "start_time": "2021-12-15T17:19:53.317Z"
   },
   {
    "duration": 616,
    "start_time": "2021-12-15T17:22:13.749Z"
   },
   {
    "duration": 566,
    "start_time": "2021-12-15T17:25:23.118Z"
   },
   {
    "duration": 630,
    "start_time": "2021-12-15T17:25:31.389Z"
   },
   {
    "duration": 589,
    "start_time": "2021-12-15T17:25:37.870Z"
   },
   {
    "duration": 665,
    "start_time": "2021-12-15T17:28:10.079Z"
   },
   {
    "duration": 669,
    "start_time": "2021-12-15T17:28:32.518Z"
   },
   {
    "duration": 234,
    "start_time": "2021-12-15T17:30:40.599Z"
   },
   {
    "duration": 12,
    "start_time": "2021-12-15T17:30:59.176Z"
   },
   {
    "duration": 278,
    "start_time": "2021-12-15T17:31:28.416Z"
   },
   {
    "duration": 241,
    "start_time": "2021-12-15T17:31:43.319Z"
   },
   {
    "duration": 16,
    "start_time": "2021-12-15T17:31:55.631Z"
   },
   {
    "duration": 247,
    "start_time": "2021-12-15T17:33:44.889Z"
   },
   {
    "duration": 257,
    "start_time": "2021-12-15T17:33:58.513Z"
   },
   {
    "duration": 7,
    "start_time": "2021-12-15T17:34:15.176Z"
   },
   {
    "duration": 9,
    "start_time": "2021-12-15T17:34:19.489Z"
   },
   {
    "duration": 15,
    "start_time": "2021-12-15T17:34:25.984Z"
   },
   {
    "duration": 7,
    "start_time": "2021-12-15T17:34:34.974Z"
   },
   {
    "duration": 237,
    "start_time": "2021-12-15T17:34:58.416Z"
   },
   {
    "duration": 672,
    "start_time": "2021-12-15T17:35:22.769Z"
   },
   {
    "duration": 250,
    "start_time": "2021-12-15T17:52:37.838Z"
   },
   {
    "duration": 7,
    "start_time": "2021-12-15T17:52:48.951Z"
   },
   {
    "duration": 7,
    "start_time": "2021-12-15T17:53:07.303Z"
   },
   {
    "duration": 84,
    "start_time": "2021-12-15T17:54:48.496Z"
   },
   {
    "duration": 11,
    "start_time": "2021-12-15T17:55:29.552Z"
   },
   {
    "duration": 13,
    "start_time": "2021-12-15T17:55:35.551Z"
   },
   {
    "duration": 12,
    "start_time": "2021-12-15T17:55:55.888Z"
   },
   {
    "duration": 12,
    "start_time": "2021-12-15T17:56:01.848Z"
   },
   {
    "duration": 32,
    "start_time": "2021-12-16T07:57:29.410Z"
   },
   {
    "duration": 658,
    "start_time": "2021-12-16T07:57:29.443Z"
   },
   {
    "duration": 27,
    "start_time": "2021-12-16T07:57:30.103Z"
   },
   {
    "duration": 10,
    "start_time": "2021-12-16T07:57:30.131Z"
   },
   {
    "duration": 9,
    "start_time": "2021-12-16T07:57:30.143Z"
   },
   {
    "duration": 6,
    "start_time": "2021-12-16T07:57:30.153Z"
   },
   {
    "duration": 32,
    "start_time": "2021-12-16T07:57:30.160Z"
   },
   {
    "duration": 8,
    "start_time": "2021-12-16T07:57:30.194Z"
   },
   {
    "duration": 11,
    "start_time": "2021-12-16T07:57:30.204Z"
   },
   {
    "duration": 13,
    "start_time": "2021-12-16T07:57:30.216Z"
   },
   {
    "duration": 21,
    "start_time": "2021-12-16T07:57:30.230Z"
   },
   {
    "duration": 16,
    "start_time": "2021-12-16T07:57:30.253Z"
   },
   {
    "duration": 27,
    "start_time": "2021-12-16T07:57:30.271Z"
   },
   {
    "duration": 5,
    "start_time": "2021-12-16T07:57:30.300Z"
   },
   {
    "duration": 1074,
    "start_time": "2021-12-16T07:57:30.306Z"
   },
   {
    "duration": 8,
    "start_time": "2021-12-16T07:57:31.381Z"
   },
   {
    "duration": 31,
    "start_time": "2021-12-16T07:57:31.390Z"
   },
   {
    "duration": 8,
    "start_time": "2021-12-16T07:57:31.422Z"
   },
   {
    "duration": 27,
    "start_time": "2021-12-16T07:57:31.431Z"
   },
   {
    "duration": 809,
    "start_time": "2021-12-16T07:57:31.459Z"
   },
   {
    "duration": 5,
    "start_time": "2021-12-16T07:57:32.269Z"
   },
   {
    "duration": 294,
    "start_time": "2021-12-16T07:57:32.275Z"
   },
   {
    "duration": 225,
    "start_time": "2021-12-16T07:57:32.572Z"
   },
   {
    "duration": 7,
    "start_time": "2021-12-16T07:57:32.798Z"
   },
   {
    "duration": 1750,
    "start_time": "2021-12-16T07:57:32.807Z"
   },
   {
    "duration": 9,
    "start_time": "2021-12-16T07:57:34.559Z"
   },
   {
    "duration": 270,
    "start_time": "2021-12-16T07:57:34.570Z"
   },
   {
    "duration": 562,
    "start_time": "2021-12-16T07:57:34.842Z"
   },
   {
    "duration": 13,
    "start_time": "2021-12-16T07:57:35.406Z"
   },
   {
    "duration": 10,
    "start_time": "2021-12-16T07:57:35.421Z"
   },
   {
    "duration": 15,
    "start_time": "2021-12-16T07:57:35.433Z"
   },
   {
    "duration": 670,
    "start_time": "2021-12-16T07:57:35.450Z"
   },
   {
    "duration": 1039,
    "start_time": "2021-12-16T07:57:36.122Z"
   },
   {
    "duration": 588,
    "start_time": "2021-12-16T07:57:37.163Z"
   },
   {
    "duration": 739,
    "start_time": "2021-12-16T07:57:37.753Z"
   },
   {
    "duration": 2910,
    "start_time": "2021-12-16T07:57:38.494Z"
   },
   {
    "duration": 1017,
    "start_time": "2021-12-16T07:57:41.406Z"
   },
   {
    "duration": 999,
    "start_time": "2021-12-16T07:57:42.425Z"
   },
   {
    "duration": 17,
    "start_time": "2021-12-16T07:57:43.426Z"
   },
   {
    "duration": 605,
    "start_time": "2021-12-16T07:58:04.433Z"
   },
   {
    "duration": 571,
    "start_time": "2021-12-16T07:58:11.944Z"
   },
   {
    "duration": 347,
    "start_time": "2021-12-16T07:59:48.615Z"
   },
   {
    "duration": 304,
    "start_time": "2021-12-16T08:00:27.640Z"
   },
   {
    "duration": 509,
    "start_time": "2021-12-16T08:00:39.745Z"
   },
   {
    "duration": 556,
    "start_time": "2021-12-16T08:00:52.192Z"
   },
   {
    "duration": 576,
    "start_time": "2021-12-16T08:01:10.672Z"
   },
   {
    "duration": 751,
    "start_time": "2021-12-16T08:01:20.128Z"
   },
   {
    "duration": 466,
    "start_time": "2021-12-16T08:01:51.976Z"
   },
   {
    "duration": 566,
    "start_time": "2021-12-16T08:01:55.089Z"
   },
   {
    "duration": 1376,
    "start_time": "2021-12-16T08:19:26.334Z"
   },
   {
    "duration": 316,
    "start_time": "2021-12-16T08:20:12.350Z"
   },
   {
    "duration": 1746,
    "start_time": "2021-12-16T08:20:21.077Z"
   },
   {
    "duration": 6,
    "start_time": "2021-12-16T08:36:42.019Z"
   },
   {
    "duration": 6,
    "start_time": "2021-12-16T08:37:34.274Z"
   },
   {
    "duration": 71,
    "start_time": "2021-12-16T08:37:34.282Z"
   },
   {
    "duration": 35,
    "start_time": "2021-12-16T08:37:34.355Z"
   },
   {
    "duration": 9,
    "start_time": "2021-12-16T08:37:34.392Z"
   },
   {
    "duration": 11,
    "start_time": "2021-12-16T08:37:34.403Z"
   },
   {
    "duration": 5,
    "start_time": "2021-12-16T08:37:34.415Z"
   },
   {
    "duration": 10,
    "start_time": "2021-12-16T08:37:34.422Z"
   },
   {
    "duration": 10,
    "start_time": "2021-12-16T08:37:34.435Z"
   },
   {
    "duration": 7,
    "start_time": "2021-12-16T08:37:34.447Z"
   },
   {
    "duration": 11,
    "start_time": "2021-12-16T08:37:34.488Z"
   },
   {
    "duration": 19,
    "start_time": "2021-12-16T08:37:34.501Z"
   },
   {
    "duration": 5,
    "start_time": "2021-12-16T08:37:34.522Z"
   },
   {
    "duration": 16,
    "start_time": "2021-12-16T08:37:34.529Z"
   },
   {
    "duration": 5,
    "start_time": "2021-12-16T08:37:34.547Z"
   },
   {
    "duration": 1052,
    "start_time": "2021-12-16T08:37:34.553Z"
   },
   {
    "duration": 3,
    "start_time": "2021-12-16T08:37:35.607Z"
   },
   {
    "duration": 27,
    "start_time": "2021-12-16T08:37:35.612Z"
   },
   {
    "duration": 3,
    "start_time": "2021-12-16T08:37:35.640Z"
   },
   {
    "duration": 22,
    "start_time": "2021-12-16T08:37:35.645Z"
   },
   {
    "duration": 752,
    "start_time": "2021-12-16T08:37:35.669Z"
   },
   {
    "duration": 5,
    "start_time": "2021-12-16T08:37:36.423Z"
   },
   {
    "duration": 230,
    "start_time": "2021-12-16T08:37:36.430Z"
   },
   {
    "duration": 218,
    "start_time": "2021-12-16T08:37:36.664Z"
   },
   {
    "duration": 8,
    "start_time": "2021-12-16T08:37:36.884Z"
   },
   {
    "duration": 705,
    "start_time": "2021-12-16T08:37:36.894Z"
   },
   {
    "duration": 7,
    "start_time": "2021-12-16T08:37:37.601Z"
   },
   {
    "duration": 248,
    "start_time": "2021-12-16T08:37:37.609Z"
   },
   {
    "duration": 363,
    "start_time": "2021-12-16T08:37:37.859Z"
   },
   {
    "duration": 11,
    "start_time": "2021-12-16T08:37:38.224Z"
   },
   {
    "duration": 7,
    "start_time": "2021-12-16T08:37:38.237Z"
   },
   {
    "duration": 5,
    "start_time": "2021-12-16T08:37:38.246Z"
   },
   {
    "duration": 682,
    "start_time": "2021-12-16T08:37:38.253Z"
   },
   {
    "duration": 563,
    "start_time": "2021-12-16T08:37:38.937Z"
   },
   {
    "duration": 534,
    "start_time": "2021-12-16T08:37:39.501Z"
   },
   {
    "duration": 433,
    "start_time": "2021-12-16T08:37:40.036Z"
   },
   {
    "duration": 1848,
    "start_time": "2021-12-16T08:37:40.471Z"
   },
   {
    "duration": 660,
    "start_time": "2021-12-16T08:37:42.321Z"
   },
   {
    "duration": 721,
    "start_time": "2021-12-16T08:37:42.987Z"
   },
   {
    "duration": 18,
    "start_time": "2021-12-16T08:37:43.709Z"
   },
   {
    "duration": 13,
    "start_time": "2021-12-16T08:37:43.729Z"
   },
   {
    "duration": 10,
    "start_time": "2021-12-16T08:38:08.413Z"
   },
   {
    "duration": 19,
    "start_time": "2021-12-16T08:42:45.196Z"
   },
   {
    "duration": 4,
    "start_time": "2021-12-16T08:43:01.841Z"
   },
   {
    "duration": 13,
    "start_time": "2021-12-16T08:52:29.164Z"
   },
   {
    "duration": 16,
    "start_time": "2021-12-16T08:57:45.029Z"
   },
   {
    "duration": 12,
    "start_time": "2021-12-16T08:58:18.453Z"
   },
   {
    "duration": 14,
    "start_time": "2021-12-16T08:58:26.749Z"
   },
   {
    "duration": 253,
    "start_time": "2021-12-16T08:58:50.102Z"
   },
   {
    "duration": 272,
    "start_time": "2021-12-16T09:00:41.223Z"
   },
   {
    "duration": 217,
    "start_time": "2021-12-16T09:00:50.317Z"
   },
   {
    "duration": 276,
    "start_time": "2021-12-16T09:01:39.782Z"
   },
   {
    "duration": 276,
    "start_time": "2021-12-16T09:01:52.014Z"
   },
   {
    "duration": 340,
    "start_time": "2021-12-16T09:02:57.815Z"
   },
   {
    "duration": 347,
    "start_time": "2021-12-16T09:04:43.179Z"
   },
   {
    "duration": 276,
    "start_time": "2021-12-16T09:04:53.045Z"
   },
   {
    "duration": 267,
    "start_time": "2021-12-16T09:05:22.423Z"
   },
   {
    "duration": 174,
    "start_time": "2021-12-16T09:10:36.217Z"
   },
   {
    "duration": 168,
    "start_time": "2021-12-16T09:11:12.273Z"
   },
   {
    "duration": 271,
    "start_time": "2021-12-16T09:24:12.228Z"
   },
   {
    "duration": 262,
    "start_time": "2021-12-16T09:24:44.517Z"
   },
   {
    "duration": 39,
    "start_time": "2021-12-16T09:26:23.701Z"
   },
   {
    "duration": 20,
    "start_time": "2021-12-16T09:26:28.502Z"
   },
   {
    "duration": 29,
    "start_time": "2021-12-16T09:45:57.665Z"
   },
   {
    "duration": 285,
    "start_time": "2021-12-16T09:51:31.418Z"
   },
   {
    "duration": 31,
    "start_time": "2021-12-16T09:51:47.690Z"
   },
   {
    "duration": 31,
    "start_time": "2021-12-16T09:56:05.117Z"
   },
   {
    "duration": 26,
    "start_time": "2021-12-16T10:00:06.413Z"
   },
   {
    "duration": 7,
    "start_time": "2021-12-16T10:00:30.717Z"
   },
   {
    "duration": 101,
    "start_time": "2021-12-16T10:00:30.726Z"
   },
   {
    "duration": 65,
    "start_time": "2021-12-16T10:00:30.829Z"
   },
   {
    "duration": 15,
    "start_time": "2021-12-16T10:00:30.897Z"
   },
   {
    "duration": 13,
    "start_time": "2021-12-16T10:00:30.914Z"
   },
   {
    "duration": 13,
    "start_time": "2021-12-16T10:00:30.929Z"
   },
   {
    "duration": 16,
    "start_time": "2021-12-16T10:00:30.944Z"
   },
   {
    "duration": 29,
    "start_time": "2021-12-16T10:00:30.964Z"
   },
   {
    "duration": 9,
    "start_time": "2021-12-16T10:00:30.996Z"
   },
   {
    "duration": 14,
    "start_time": "2021-12-16T10:00:31.007Z"
   },
   {
    "duration": 27,
    "start_time": "2021-12-16T10:00:31.023Z"
   },
   {
    "duration": 14,
    "start_time": "2021-12-16T10:00:31.052Z"
   },
   {
    "duration": 36,
    "start_time": "2021-12-16T10:00:31.068Z"
   },
   {
    "duration": 18,
    "start_time": "2021-12-16T10:00:31.106Z"
   },
   {
    "duration": 1273,
    "start_time": "2021-12-16T10:00:31.126Z"
   },
   {
    "duration": 3,
    "start_time": "2021-12-16T10:00:32.401Z"
   },
   {
    "duration": 25,
    "start_time": "2021-12-16T10:00:32.406Z"
   },
   {
    "duration": 4,
    "start_time": "2021-12-16T10:00:32.432Z"
   },
   {
    "duration": 15,
    "start_time": "2021-12-16T10:00:32.438Z"
   },
   {
    "duration": 820,
    "start_time": "2021-12-16T10:00:32.454Z"
   },
   {
    "duration": 13,
    "start_time": "2021-12-16T10:00:33.276Z"
   },
   {
    "duration": 351,
    "start_time": "2021-12-16T10:00:33.291Z"
   },
   {
    "duration": 257,
    "start_time": "2021-12-16T10:00:33.647Z"
   },
   {
    "duration": 8,
    "start_time": "2021-12-16T10:00:33.907Z"
   },
   {
    "duration": 764,
    "start_time": "2021-12-16T10:00:33.916Z"
   },
   {
    "duration": 12,
    "start_time": "2021-12-16T10:00:34.682Z"
   },
   {
    "duration": 197,
    "start_time": "2021-12-16T10:00:34.695Z"
   },
   {
    "duration": 419,
    "start_time": "2021-12-16T10:00:34.894Z"
   },
   {
    "duration": 13,
    "start_time": "2021-12-16T10:00:35.315Z"
   },
   {
    "duration": 10,
    "start_time": "2021-12-16T10:00:35.330Z"
   },
   {
    "duration": 9,
    "start_time": "2021-12-16T10:00:35.342Z"
   },
   {
    "duration": 621,
    "start_time": "2021-12-16T10:00:35.353Z"
   },
   {
    "duration": 612,
    "start_time": "2021-12-16T10:00:35.976Z"
   },
   {
    "duration": 595,
    "start_time": "2021-12-16T10:00:36.589Z"
   },
   {
    "duration": 504,
    "start_time": "2021-12-16T10:00:37.185Z"
   },
   {
    "duration": 3213,
    "start_time": "2021-12-16T10:00:37.691Z"
   },
   {
    "duration": 683,
    "start_time": "2021-12-16T10:00:40.906Z"
   },
   {
    "duration": 674,
    "start_time": "2021-12-16T10:00:41.591Z"
   },
   {
    "duration": 27,
    "start_time": "2021-12-16T10:00:42.268Z"
   },
   {
    "duration": 11,
    "start_time": "2021-12-16T10:00:42.297Z"
   },
   {
    "duration": 26,
    "start_time": "2021-12-16T10:00:42.310Z"
   },
   {
    "duration": 434,
    "start_time": "2021-12-16T10:00:42.338Z"
   },
   {
    "duration": 38,
    "start_time": "2021-12-16T10:00:42.774Z"
   },
   {
    "duration": 33,
    "start_time": "2021-12-16T10:01:04.134Z"
   },
   {
    "duration": 434,
    "start_time": "2021-12-16T10:01:08.413Z"
   },
   {
    "duration": 361,
    "start_time": "2021-12-16T10:04:07.990Z"
   },
   {
    "duration": 410,
    "start_time": "2021-12-16T10:05:33.102Z"
   },
   {
    "duration": 423,
    "start_time": "2021-12-16T10:05:44.046Z"
   },
   {
    "duration": 249,
    "start_time": "2021-12-16T10:10:10.088Z"
   },
   {
    "duration": 578,
    "start_time": "2021-12-16T10:10:19.295Z"
   },
   {
    "duration": 865,
    "start_time": "2021-12-16T10:11:55.408Z"
   },
   {
    "duration": 891,
    "start_time": "2021-12-16T10:12:04.184Z"
   },
   {
    "duration": 260,
    "start_time": "2021-12-16T10:17:41.265Z"
   },
   {
    "duration": 261,
    "start_time": "2021-12-16T10:18:16.217Z"
   },
   {
    "duration": 30,
    "start_time": "2021-12-16T10:18:21.066Z"
   },
   {
    "duration": 212,
    "start_time": "2021-12-16T10:18:36.145Z"
   },
   {
    "duration": 237,
    "start_time": "2021-12-16T10:21:40.122Z"
   },
   {
    "duration": 599,
    "start_time": "2021-12-16T10:25:09.595Z"
   },
   {
    "duration": 396,
    "start_time": "2021-12-16T10:25:32.779Z"
   },
   {
    "duration": 399,
    "start_time": "2021-12-16T10:25:49.403Z"
   },
   {
    "duration": 273,
    "start_time": "2021-12-16T10:31:53.693Z"
   },
   {
    "duration": 580,
    "start_time": "2021-12-16T10:32:03.029Z"
   },
   {
    "duration": 451,
    "start_time": "2021-12-16T10:32:47.309Z"
   },
   {
    "duration": 740,
    "start_time": "2021-12-16T10:34:11.429Z"
   },
   {
    "duration": 790,
    "start_time": "2021-12-16T10:34:29.390Z"
   },
   {
    "duration": 771,
    "start_time": "2021-12-16T10:35:01.055Z"
   },
   {
    "duration": 792,
    "start_time": "2021-12-16T10:35:21.453Z"
   },
   {
    "duration": 33,
    "start_time": "2021-12-16T10:37:56.183Z"
   },
   {
    "duration": 293,
    "start_time": "2021-12-16T10:38:28.856Z"
   },
   {
    "duration": 23,
    "start_time": "2021-12-16T13:18:28.316Z"
   },
   {
    "duration": 726,
    "start_time": "2021-12-16T13:18:28.341Z"
   },
   {
    "duration": 29,
    "start_time": "2021-12-16T13:18:29.070Z"
   },
   {
    "duration": 10,
    "start_time": "2021-12-16T13:18:29.101Z"
   },
   {
    "duration": 9,
    "start_time": "2021-12-16T13:18:29.113Z"
   },
   {
    "duration": 22,
    "start_time": "2021-12-16T13:18:29.124Z"
   },
   {
    "duration": 14,
    "start_time": "2021-12-16T13:18:29.148Z"
   },
   {
    "duration": 16,
    "start_time": "2021-12-16T13:18:29.164Z"
   },
   {
    "duration": 7,
    "start_time": "2021-12-16T13:18:29.182Z"
   },
   {
    "duration": 14,
    "start_time": "2021-12-16T13:18:29.191Z"
   },
   {
    "duration": 12,
    "start_time": "2021-12-16T13:18:29.207Z"
   },
   {
    "duration": 16,
    "start_time": "2021-12-16T13:18:29.221Z"
   },
   {
    "duration": 32,
    "start_time": "2021-12-16T13:18:29.239Z"
   },
   {
    "duration": 12,
    "start_time": "2021-12-16T13:18:29.273Z"
   },
   {
    "duration": 1370,
    "start_time": "2021-12-16T13:18:29.287Z"
   },
   {
    "duration": 3,
    "start_time": "2021-12-16T13:18:30.659Z"
   },
   {
    "duration": 26,
    "start_time": "2021-12-16T13:18:30.664Z"
   },
   {
    "duration": 9,
    "start_time": "2021-12-16T13:18:30.691Z"
   },
   {
    "duration": 13,
    "start_time": "2021-12-16T13:18:30.702Z"
   },
   {
    "duration": 856,
    "start_time": "2021-12-16T13:18:30.717Z"
   },
   {
    "duration": 5,
    "start_time": "2021-12-16T13:18:31.574Z"
   },
   {
    "duration": 323,
    "start_time": "2021-12-16T13:18:31.581Z"
   },
   {
    "duration": 244,
    "start_time": "2021-12-16T13:18:31.905Z"
   },
   {
    "duration": 8,
    "start_time": "2021-12-16T13:18:32.150Z"
   },
   {
    "duration": 1257,
    "start_time": "2021-12-16T13:18:32.160Z"
   },
   {
    "duration": 7,
    "start_time": "2021-12-16T13:18:33.419Z"
   },
   {
    "duration": 188,
    "start_time": "2021-12-16T13:18:33.430Z"
   },
   {
    "duration": 376,
    "start_time": "2021-12-16T13:18:33.620Z"
   },
   {
    "duration": 10,
    "start_time": "2021-12-16T13:18:33.998Z"
   },
   {
    "duration": 7,
    "start_time": "2021-12-16T13:18:34.010Z"
   },
   {
    "duration": 19,
    "start_time": "2021-12-16T13:18:34.019Z"
   },
   {
    "duration": 589,
    "start_time": "2021-12-16T13:18:34.045Z"
   },
   {
    "duration": 687,
    "start_time": "2021-12-16T13:18:34.636Z"
   },
   {
    "duration": 599,
    "start_time": "2021-12-16T13:18:35.325Z"
   },
   {
    "duration": 470,
    "start_time": "2021-12-16T13:18:35.926Z"
   },
   {
    "duration": 1942,
    "start_time": "2021-12-16T13:18:36.398Z"
   },
   {
    "duration": 695,
    "start_time": "2021-12-16T13:18:38.342Z"
   },
   {
    "duration": 691,
    "start_time": "2021-12-16T13:18:39.039Z"
   },
   {
    "duration": 17,
    "start_time": "2021-12-16T13:18:39.732Z"
   },
   {
    "duration": 7,
    "start_time": "2021-12-16T13:18:39.751Z"
   },
   {
    "duration": 24,
    "start_time": "2021-12-16T13:18:39.760Z"
   },
   {
    "duration": 300,
    "start_time": "2021-12-16T13:18:39.785Z"
   },
   {
    "duration": 33,
    "start_time": "2021-12-16T13:18:40.087Z"
   },
   {
    "duration": 514,
    "start_time": "2021-12-16T13:18:40.122Z"
   },
   {
    "duration": 377,
    "start_time": "2021-12-16T13:18:40.638Z"
   },
   {
    "duration": 650,
    "start_time": "2021-12-16T13:18:41.016Z"
   },
   {
    "duration": 235,
    "start_time": "2021-12-16T13:18:41.668Z"
   },
   {
    "duration": 342,
    "start_time": "2021-12-16T13:18:41.904Z"
   }
  ],
  "kernelspec": {
   "display_name": "Python 3 (ipykernel)",
   "language": "python",
   "name": "python3"
  },
  "language_info": {
   "codemirror_mode": {
    "name": "ipython",
    "version": 3
   },
   "file_extension": ".py",
   "mimetype": "text/x-python",
   "name": "python",
   "nbconvert_exporter": "python",
   "pygments_lexer": "ipython3",
   "version": "3.9.0"
  },
  "toc": {
   "base_numbering": 1,
   "nav_menu": {},
   "number_sections": true,
   "sideBar": true,
   "skip_h1_title": true,
   "title_cell": "Содержание",
   "title_sidebar": "Contents",
   "toc_cell": true,
   "toc_position": {
    "height": "calc(100% - 180px)",
    "left": "10px",
    "top": "150px",
    "width": "343.767px"
   },
   "toc_section_display": true,
   "toc_window_display": true
  }
 },
 "nbformat": 4,
 "nbformat_minor": 2
}
