{
 "cells": [
  {
   "cell_type": "markdown",
   "id": "396b19f2",
   "metadata": {
    "toc": true
   },
   "source": [
    "<h1>Содержание<span class=\"tocSkip\"></span></h1>\n",
    "<div class=\"toc\"><ul class=\"toc-item\"><li><span><a href=\"#Поиск-реплик-приветствия-менеджера\" data-toc-modified-id=\"Поиск-реплик-приветствия-менеджера-1\"><span class=\"toc-item-num\">1&nbsp;&nbsp;</span>Поиск реплик приветствия менеджера</a></span></li><li><span><a href=\"#Извлечение-имени-менеджера\" data-toc-modified-id=\"Извлечение-имени-менеджера-2\"><span class=\"toc-item-num\">2&nbsp;&nbsp;</span>Извлечение имени менеджера</a></span></li><li><span><a href=\"#Извлечение-названия-компании\" data-toc-modified-id=\"Извлечение-названия-компании-3\"><span class=\"toc-item-num\">3&nbsp;&nbsp;</span>Извлечение названия компании</a></span></li><li><span><a href=\"#Поиск-реплик-прощания-менеджера\" data-toc-modified-id=\"Поиск-реплик-прощания-менеджера-4\"><span class=\"toc-item-num\">4&nbsp;&nbsp;</span>Поиск реплик прощания менеджера</a></span></li><li><span><a href=\"#Проверка-менеджера\" data-toc-modified-id=\"Проверка-менеджера-5\"><span class=\"toc-item-num\">5&nbsp;&nbsp;</span>Проверка менеджера</a></span></li><li><span><a href=\"#Экспорт-таблицы\" data-toc-modified-id=\"Экспорт-таблицы-6\"><span class=\"toc-item-num\">6&nbsp;&nbsp;</span>Экспорт таблицы</a></span></li></ul></div>"
   ]
  },
  {
   "cell_type": "code",
   "execution_count": 1,
   "id": "26002523-859b-4260-9bec-08f3f80bd3f6",
   "metadata": {},
   "outputs": [
    {
     "name": "stderr",
     "output_type": "stream",
     "text": [
      "Using state Tyumenâ Oblast server backend.\n"
     ]
    }
   ],
   "source": [
    "import pandas as pd\n",
    "import spacy\n",
    "import translators as ts\n",
    "\n",
    "from natasha import Segmenter, NewsEmbedding, NewsNERTagger, Doc\n",
    "\n",
    "import nltk\n",
    "import pymorphy2\n",
    "\n",
    "import numpy as np"
   ]
  },
  {
   "cell_type": "code",
   "execution_count": 2,
   "id": "9712d800-aee8-4234-a3de-df1738d8a458",
   "metadata": {},
   "outputs": [
    {
     "data": {
      "text/plain": [
       "True"
      ]
     },
     "execution_count": 2,
     "metadata": {},
     "output_type": "execute_result"
    }
   ],
   "source": [
    "spacy.prefer_gpu()"
   ]
  },
  {
   "cell_type": "code",
   "execution_count": 3,
   "id": "35c765e1-82fe-4387-a1ef-23e29442addc",
   "metadata": {},
   "outputs": [
    {
     "data": {
      "text/html": [
       "<div>\n",
       "<style scoped>\n",
       "    .dataframe tbody tr th:only-of-type {\n",
       "        vertical-align: middle;\n",
       "    }\n",
       "\n",
       "    .dataframe tbody tr th {\n",
       "        vertical-align: top;\n",
       "    }\n",
       "\n",
       "    .dataframe thead th {\n",
       "        text-align: right;\n",
       "    }\n",
       "</style>\n",
       "<table border=\"1\" class=\"dataframe\">\n",
       "  <thead>\n",
       "    <tr style=\"text-align: right;\">\n",
       "      <th></th>\n",
       "      <th>dlg_id</th>\n",
       "      <th>line_n</th>\n",
       "      <th>role</th>\n",
       "      <th>text</th>\n",
       "    </tr>\n",
       "  </thead>\n",
       "  <tbody>\n",
       "    <tr>\n",
       "      <th>0</th>\n",
       "      <td>0</td>\n",
       "      <td>0</td>\n",
       "      <td>manager</td>\n",
       "      <td>Алло</td>\n",
       "    </tr>\n",
       "    <tr>\n",
       "      <th>1</th>\n",
       "      <td>0</td>\n",
       "      <td>1</td>\n",
       "      <td>client</td>\n",
       "      <td>Алло здравствуйте</td>\n",
       "    </tr>\n",
       "    <tr>\n",
       "      <th>2</th>\n",
       "      <td>0</td>\n",
       "      <td>2</td>\n",
       "      <td>manager</td>\n",
       "      <td>Добрый день</td>\n",
       "    </tr>\n",
       "    <tr>\n",
       "      <th>3</th>\n",
       "      <td>0</td>\n",
       "      <td>3</td>\n",
       "      <td>client</td>\n",
       "      <td>Меня зовут ангелина компания диджитал бизнес з...</td>\n",
       "    </tr>\n",
       "    <tr>\n",
       "      <th>4</th>\n",
       "      <td>0</td>\n",
       "      <td>4</td>\n",
       "      <td>manager</td>\n",
       "      <td>Ага</td>\n",
       "    </tr>\n",
       "    <tr>\n",
       "      <th>...</th>\n",
       "      <td>...</td>\n",
       "      <td>...</td>\n",
       "      <td>...</td>\n",
       "      <td>...</td>\n",
       "    </tr>\n",
       "    <tr>\n",
       "      <th>475</th>\n",
       "      <td>5</td>\n",
       "      <td>138</td>\n",
       "      <td>client</td>\n",
       "      <td>По поводу виджетов и с ними уже обсудите конкр...</td>\n",
       "    </tr>\n",
       "    <tr>\n",
       "      <th>476</th>\n",
       "      <td>5</td>\n",
       "      <td>139</td>\n",
       "      <td>client</td>\n",
       "      <td>Все я вам высылаю счет и с вами на связи если ...</td>\n",
       "    </tr>\n",
       "    <tr>\n",
       "      <th>477</th>\n",
       "      <td>5</td>\n",
       "      <td>140</td>\n",
       "      <td>manager</td>\n",
       "      <td>Спасибо спасибо</td>\n",
       "    </tr>\n",
       "    <tr>\n",
       "      <th>478</th>\n",
       "      <td>5</td>\n",
       "      <td>141</td>\n",
       "      <td>manager</td>\n",
       "      <td>Да да тогда созвонимся ага спасибо вам давайте</td>\n",
       "    </tr>\n",
       "    <tr>\n",
       "      <th>479</th>\n",
       "      <td>5</td>\n",
       "      <td>142</td>\n",
       "      <td>client</td>\n",
       "      <td>Ну до свидания хорошего вечера</td>\n",
       "    </tr>\n",
       "  </tbody>\n",
       "</table>\n",
       "<p>480 rows × 4 columns</p>\n",
       "</div>"
      ],
      "text/plain": [
       "     dlg_id  line_n     role  \\\n",
       "0         0       0  manager   \n",
       "1         0       1   client   \n",
       "2         0       2  manager   \n",
       "3         0       3   client   \n",
       "4         0       4  manager   \n",
       "..      ...     ...      ...   \n",
       "475       5     138   client   \n",
       "476       5     139   client   \n",
       "477       5     140  manager   \n",
       "478       5     141  manager   \n",
       "479       5     142   client   \n",
       "\n",
       "                                                  text  \n",
       "0                                                 Алло  \n",
       "1                                    Алло здравствуйте  \n",
       "2                                          Добрый день  \n",
       "3    Меня зовут ангелина компания диджитал бизнес з...  \n",
       "4                                                  Ага  \n",
       "..                                                 ...  \n",
       "475  По поводу виджетов и с ними уже обсудите конкр...  \n",
       "476  Все я вам высылаю счет и с вами на связи если ...  \n",
       "477                                    Спасибо спасибо  \n",
       "478     Да да тогда созвонимся ага спасибо вам давайте  \n",
       "479                     Ну до свидания хорошего вечера  \n",
       "\n",
       "[480 rows x 4 columns]"
      ]
     },
     "execution_count": 3,
     "metadata": {},
     "output_type": "execute_result"
    }
   ],
   "source": [
    "data = pd.read_csv('test_data.csv')\n",
    "data"
   ]
  },
  {
   "cell_type": "markdown",
   "id": "87935888-49e8-47fe-96ae-295179f5f836",
   "metadata": {},
   "source": [
    "## Поиск реплик приветствия менеджера"
   ]
  },
  {
   "cell_type": "markdown",
   "id": "173c213e-5b25-4d0c-ad9c-3b6a84aca2ec",
   "metadata": {},
   "source": [
    "Поскольку приветствие менеджера должно быть формальным, а темы для разговора весьма ограничены, для определение реплик с приветствием будет достаточно самого простого способа."
   ]
  },
  {
   "cell_type": "markdown",
   "id": "99588050-d7dc-45a2-8d5a-f23afdbf2a9f",
   "metadata": {},
   "source": [
    "Кортеж с корнями формальных слов-приветствий:"
   ]
  },
  {
   "cell_type": "code",
   "execution_count": 4,
   "id": "fc57e7cc-49db-4e86-ac9b-f4462d61b87a",
   "metadata": {},
   "outputs": [],
   "source": [
    "greets = ('здравст', 'привет', 'здоров', 'здрави', 'добры', 'доброго')"
   ]
  },
  {
   "cell_type": "markdown",
   "id": "b0832146-c7de-4497-bd11-07079a4ffca0",
   "metadata": {},
   "source": [
    "Функция для поиска приветствия:"
   ]
  },
  {
   "cell_type": "code",
   "execution_count": 5,
   "id": "98d60e76-feb3-47e4-baa0-f818b589cd21",
   "metadata": {},
   "outputs": [],
   "source": [
    "def Find_Greeting(x, limit=3):\n",
    "    \n",
    "    if x['line_n'] >= limit:\n",
    "        return np.nan\n",
    "    \n",
    "    text = x['text'].lower()\n",
    "    \n",
    "    for greet in greets:\n",
    "        if greet in text:\n",
    "            return True"
   ]
  },
  {
   "cell_type": "code",
   "execution_count": 6,
   "id": "00e58fc0-be69-4d0a-be02-7f7b705fce84",
   "metadata": {},
   "outputs": [],
   "source": [
    "data['greeting'] = data[data['role'] == 'manager'].apply(Find_Greeting, axis = 1)"
   ]
  },
  {
   "cell_type": "code",
   "execution_count": 7,
   "id": "a7d7518e",
   "metadata": {},
   "outputs": [
    {
     "data": {
      "text/html": [
       "<div>\n",
       "<style scoped>\n",
       "    .dataframe tbody tr th:only-of-type {\n",
       "        vertical-align: middle;\n",
       "    }\n",
       "\n",
       "    .dataframe tbody tr th {\n",
       "        vertical-align: top;\n",
       "    }\n",
       "\n",
       "    .dataframe thead th {\n",
       "        text-align: right;\n",
       "    }\n",
       "</style>\n",
       "<table border=\"1\" class=\"dataframe\">\n",
       "  <thead>\n",
       "    <tr style=\"text-align: right;\">\n",
       "      <th></th>\n",
       "      <th>dlg_id</th>\n",
       "      <th>line_n</th>\n",
       "      <th>role</th>\n",
       "      <th>text</th>\n",
       "      <th>greeting</th>\n",
       "    </tr>\n",
       "  </thead>\n",
       "  <tbody>\n",
       "    <tr>\n",
       "      <th>2</th>\n",
       "      <td>0</td>\n",
       "      <td>2</td>\n",
       "      <td>manager</td>\n",
       "      <td>Добрый день</td>\n",
       "      <td>True</td>\n",
       "    </tr>\n",
       "    <tr>\n",
       "      <th>109</th>\n",
       "      <td>1</td>\n",
       "      <td>0</td>\n",
       "      <td>manager</td>\n",
       "      <td>Да здравствуйте когда заканчивается</td>\n",
       "      <td>True</td>\n",
       "    </tr>\n",
       "    <tr>\n",
       "      <th>165</th>\n",
       "      <td>2</td>\n",
       "      <td>1</td>\n",
       "      <td>manager</td>\n",
       "      <td>Здравствуйте</td>\n",
       "      <td>True</td>\n",
       "    </tr>\n",
       "    <tr>\n",
       "      <th>249</th>\n",
       "      <td>3</td>\n",
       "      <td>0</td>\n",
       "      <td>manager</td>\n",
       "      <td>Добрый день</td>\n",
       "      <td>True</td>\n",
       "    </tr>\n",
       "    <tr>\n",
       "      <th>304</th>\n",
       "      <td>4</td>\n",
       "      <td>2</td>\n",
       "      <td>manager</td>\n",
       "      <td>Добрый</td>\n",
       "      <td>True</td>\n",
       "    </tr>\n",
       "  </tbody>\n",
       "</table>\n",
       "</div>"
      ],
      "text/plain": [
       "     dlg_id  line_n     role                                 text greeting\n",
       "2         0       2  manager                          Добрый день     True\n",
       "109       1       0  manager  Да здравствуйте когда заканчивается     True\n",
       "165       2       1  manager                         Здравствуйте     True\n",
       "249       3       0  manager                          Добрый день     True\n",
       "304       4       2  manager                               Добрый     True"
      ]
     },
     "execution_count": 7,
     "metadata": {},
     "output_type": "execute_result"
    }
   ],
   "source": [
    "data[data['greeting'].notna()]"
   ]
  },
  {
   "cell_type": "markdown",
   "id": "4acd88c1-165a-46a0-88d0-37176a00e3d3",
   "metadata": {},
   "source": [
    "## Извлечение имени менеджера"
   ]
  },
  {
   "cell_type": "markdown",
   "id": "23e191d2-ade2-4d4a-ad0d-a995b565aefa",
   "metadata": {},
   "source": [
    "Реплику можно будет определить по начилию имени в столбце. Представление себя может быть осуществлено только в начальной форме имени и начале диалога."
   ]
  },
  {
   "cell_type": "code",
   "execution_count": 8,
   "id": "0e3bd509-c8c0-4153-a224-3c5eb8418dbd",
   "metadata": {},
   "outputs": [],
   "source": [
    "spacy_ru = spacy.load('ru_core_news_lg')\n",
    "morph = pymorphy2.MorphAnalyzer()\n",
    "\n",
    "prob_thresh = 0.4"
   ]
  },
  {
   "cell_type": "code",
   "execution_count": 9,
   "id": "aa149903-2ae8-40ab-b5c5-9cb359114692",
   "metadata": {},
   "outputs": [],
   "source": [
    "def Extract_Name(x, limit=3):\n",
    "    \n",
    "    if x['line_n'] >= limit:\n",
    "        return np.nan\n",
    "    \n",
    "    # поиск имени с помощью spacy\n",
    "    for ent in spacy_ru(x['text']).ents:\n",
    "        if ent.label_ == 'PER' and ent.text.lower() == ent.lemma_:\n",
    "            #print('spacy')\n",
    "            return ent.text\n",
    "        \n",
    "    # поиск имени с помощью pymorphy2    \n",
    "    name = ''\n",
    "    for word in nltk.word_tokenize(x['text']):\n",
    "        for p in morph.parse(word):\n",
    "            if 'Name' in p.tag and p.score >= prob_thresh and word == p.normal_form:\n",
    "                #print('morph')\n",
    "                if name == '':\n",
    "                    name += p.normal_form\n",
    "                else:\n",
    "                    name = name + ' ' + p.normal_form\n",
    "    \n",
    "    if name == '':\n",
    "        return np.nan\n",
    "    else:\n",
    "        return name"
   ]
  },
  {
   "cell_type": "code",
   "execution_count": 10,
   "id": "d9b57f34-28f9-46b6-b07b-6c23d14a6961",
   "metadata": {},
   "outputs": [],
   "source": [
    "data['name_manager'] = data[data['role'] == 'manager'].apply(Extract_Name, axis = 1)"
   ]
  },
  {
   "cell_type": "code",
   "execution_count": 11,
   "id": "18598f7b-bf97-4625-9764-6b361f55d766",
   "metadata": {},
   "outputs": [
    {
     "data": {
      "text/plain": [
       "0"
      ]
     },
     "execution_count": 11,
     "metadata": {},
     "output_type": "execute_result"
    }
   ],
   "source": [
    "data['name_manager'].notna().sum()"
   ]
  },
  {
   "cell_type": "markdown",
   "id": "446979ef-d168-4b90-950e-3f3d240cabad",
   "metadata": {},
   "source": [
    "Похоже, что менеджер ни разу не представился."
   ]
  },
  {
   "cell_type": "markdown",
   "id": "4e5c04cb-963e-4be7-891b-97c81ba7bb82",
   "metadata": {},
   "source": [
    "## Извлечение названия компании"
   ]
  },
  {
   "cell_type": "markdown",
   "id": "f27ced8d-9975-45a7-9770-5f68bf4b15bf",
   "metadata": {},
   "source": [
    "Извлечение с помощью spacy и Natasha. В трудных случаях с помощью перевода на английский язык."
   ]
  },
  {
   "cell_type": "code",
   "execution_count": 12,
   "id": "9a5a4e20-b829-4722-b89f-e3bef9d29d02",
   "metadata": {},
   "outputs": [],
   "source": [
    "spacy_eng = spacy.load('en_core_web_lg')\n",
    "\n",
    "emb = NewsEmbedding()\n",
    "ner_tagger = NewsNERTagger(emb)\n",
    "segmenter = Segmenter()"
   ]
  },
  {
   "cell_type": "markdown",
   "id": "a7caac36-1edf-4589-a0ec-595ed8548a9f",
   "metadata": {},
   "source": [
    "Кортеж для использользования с переводом:"
   ]
  },
  {
   "cell_type": "code",
   "execution_count": 13,
   "id": "164f437a-def1-41d9-a173-98ea47d0f493",
   "metadata": {},
   "outputs": [],
   "source": [
    "orgs = ('орган', 'фирм', 'предприятие', 'завод', 'ооо', 'оао', 'обществ', 'заведен', 'компан')"
   ]
  },
  {
   "cell_type": "code",
   "execution_count": 14,
   "id": "4ec405f2-00a0-48db-b1df-9837d3cc21fc",
   "metadata": {},
   "outputs": [],
   "source": [
    "ts_works = True\n",
    "def Extract_Org(x):\n",
    "    \n",
    "    fakes = ['амо']   \n",
    "    global ts_works\n",
    "    orgname = ''\n",
    "    \n",
    "    if len(x) < 12:\n",
    "        return np.nan\n",
    "    \n",
    "    # spacy русском\n",
    "    for ent in spacy_ru(x).ents:\n",
    "        if ent.label_ == 'ORG':\n",
    "            if orgname == '':\n",
    "                orgname = ent.text\n",
    "            else:\n",
    "                orgname = orgname + ', ' + ent.text\n",
    "                \n",
    "    if orgname != '' and not any(elem in fakes for elem in orgname.split()):\n",
    "        return orgname\n",
    "        \n",
    "    # Natasha\n",
    "    doc = Doc(x)\n",
    "    doc.segment(segmenter)\n",
    "    doc.tag_ner(ner_tagger)\n",
    "    for span in doc.spans:\n",
    "        if span.type == 'ORG':\n",
    "            if orgname == '':\n",
    "                    orgname = span.text\n",
    "            else:\n",
    "                orgname = orgname + ', ' + span.text\n",
    "                \n",
    "    if orgname != '' and not any(elem in fakes for elem in orgname.split()):\n",
    "        return orgname\n",
    "    \n",
    "    # spacy с переводом на английский\n",
    "    if ts_works:\n",
    "         for org in orgs:\n",
    "                if org in x.lower():\n",
    "                    try:   \n",
    "                        tstext = ts.google(x)\n",
    "                        #print(x)\n",
    "                    except:\n",
    "                        print('Перевод не удался.')\n",
    "                        ts_works = False\n",
    "                        break\n",
    "                        \n",
    "                    for ent in spacy_eng(tstext).ents:\n",
    "                        if ent.label_ == 'ORG':\n",
    "                            if orgname == '':\n",
    "                                orgname = ent.text\n",
    "                            else:\n",
    "                                orgname = orgname + ', ' + ent.text\n",
    "    if orgname != '' and not any(elem in fakes for elem in orgname.split()):\n",
    "        return orgname"
   ]
  },
  {
   "cell_type": "code",
   "execution_count": 15,
   "id": "10e81741-7600-4364-916e-120f67bebf5d",
   "metadata": {},
   "outputs": [
    {
     "name": "stdout",
     "output_type": "stream",
     "text": [
      "CPU times: total: 12.8 s\n",
      "Wall time: 31.7 s\n"
     ]
    }
   ],
   "source": [
    "%%time\n",
    "data['name_org'] = data['text'].apply(Extract_Org)"
   ]
  },
  {
   "cell_type": "code",
   "execution_count": 16,
   "id": "503a8366-16d3-4b3d-bf07-7ce10ee2f379",
   "metadata": {},
   "outputs": [
    {
     "data": {
      "text/plain": [
       "6"
      ]
     },
     "execution_count": 16,
     "metadata": {},
     "output_type": "execute_result"
    }
   ],
   "source": [
    "data['name_org'].notna().sum()"
   ]
  },
  {
   "cell_type": "code",
   "execution_count": 17,
   "id": "a5742762-9388-47b8-a4b0-071b49a8eee5",
   "metadata": {},
   "outputs": [
    {
     "data": {
      "text/html": [
       "<div>\n",
       "<style scoped>\n",
       "    .dataframe tbody tr th:only-of-type {\n",
       "        vertical-align: middle;\n",
       "    }\n",
       "\n",
       "    .dataframe tbody tr th {\n",
       "        vertical-align: top;\n",
       "    }\n",
       "\n",
       "    .dataframe thead th {\n",
       "        text-align: right;\n",
       "    }\n",
       "</style>\n",
       "<table border=\"1\" class=\"dataframe\">\n",
       "  <thead>\n",
       "    <tr style=\"text-align: right;\">\n",
       "      <th></th>\n",
       "      <th>dlg_id</th>\n",
       "      <th>line_n</th>\n",
       "      <th>role</th>\n",
       "      <th>text</th>\n",
       "      <th>greeting</th>\n",
       "      <th>name_manager</th>\n",
       "      <th>name_org</th>\n",
       "    </tr>\n",
       "  </thead>\n",
       "  <tbody>\n",
       "    <tr>\n",
       "      <th>3</th>\n",
       "      <td>0</td>\n",
       "      <td>3</td>\n",
       "      <td>client</td>\n",
       "      <td>Меня зовут ангелина компания диджитал бизнес з...</td>\n",
       "      <td>NaN</td>\n",
       "      <td>NaN</td>\n",
       "      <td>Dijital Business</td>\n",
       "    </tr>\n",
       "    <tr>\n",
       "      <th>111</th>\n",
       "      <td>1</td>\n",
       "      <td>2</td>\n",
       "      <td>client</td>\n",
       "      <td>Меня зовут ангелина компания диджитал бизнес з...</td>\n",
       "      <td>NaN</td>\n",
       "      <td>NaN</td>\n",
       "      <td>Dijital</td>\n",
       "    </tr>\n",
       "    <tr>\n",
       "      <th>167</th>\n",
       "      <td>2</td>\n",
       "      <td>3</td>\n",
       "      <td>client</td>\n",
       "      <td>Меня зовут ангелина компания диджитал бизнес з...</td>\n",
       "      <td>NaN</td>\n",
       "      <td>NaN</td>\n",
       "      <td>Angelina Company Dijital</td>\n",
       "    </tr>\n",
       "    <tr>\n",
       "      <th>177</th>\n",
       "      <td>2</td>\n",
       "      <td>13</td>\n",
       "      <td>client</td>\n",
       "      <td>Диджитал бизнес</td>\n",
       "      <td>NaN</td>\n",
       "      <td>NaN</td>\n",
       "      <td>Диджитал бизнес</td>\n",
       "    </tr>\n",
       "    <tr>\n",
       "      <th>251</th>\n",
       "      <td>3</td>\n",
       "      <td>2</td>\n",
       "      <td>client</td>\n",
       "      <td>Добрый меня максим зовут компания китобизнес у...</td>\n",
       "      <td>NaN</td>\n",
       "      <td>NaN</td>\n",
       "      <td>Maxim, Kitobovusiness</td>\n",
       "    </tr>\n",
       "    <tr>\n",
       "      <th>272</th>\n",
       "      <td>3</td>\n",
       "      <td>23</td>\n",
       "      <td>manager</td>\n",
       "      <td>Транспортная компания</td>\n",
       "      <td>NaN</td>\n",
       "      <td>NaN</td>\n",
       "      <td>Транспортная компания</td>\n",
       "    </tr>\n",
       "  </tbody>\n",
       "</table>\n",
       "</div>"
      ],
      "text/plain": [
       "     dlg_id  line_n     role  \\\n",
       "3         0       3   client   \n",
       "111       1       2   client   \n",
       "167       2       3   client   \n",
       "177       2      13   client   \n",
       "251       3       2   client   \n",
       "272       3      23  manager   \n",
       "\n",
       "                                                  text greeting  name_manager  \\\n",
       "3    Меня зовут ангелина компания диджитал бизнес з...      NaN           NaN   \n",
       "111  Меня зовут ангелина компания диджитал бизнес з...      NaN           NaN   \n",
       "167  Меня зовут ангелина компания диджитал бизнес з...      NaN           NaN   \n",
       "177                                    Диджитал бизнес      NaN           NaN   \n",
       "251  Добрый меня максим зовут компания китобизнес у...      NaN           NaN   \n",
       "272                              Транспортная компания      NaN           NaN   \n",
       "\n",
       "                     name_org  \n",
       "3            Dijital Business  \n",
       "111                   Dijital  \n",
       "167  Angelina Company Dijital  \n",
       "177           Диджитал бизнес  \n",
       "251     Maxim, Kitobovusiness  \n",
       "272     Транспортная компания  "
      ]
     },
     "execution_count": 17,
     "metadata": {},
     "output_type": "execute_result"
    }
   ],
   "source": [
    "data[data['name_org'].notna()]"
   ]
  },
  {
   "cell_type": "markdown",
   "id": "c9e2e6b7-92b7-411e-82a3-efe7e00c7539",
   "metadata": {},
   "source": [
    "## Поиск реплик прощания менеджера"
   ]
  },
  {
   "cell_type": "markdown",
   "id": "6afaf72a-118c-4c05-ad53-da51c1a2bf9b",
   "metadata": {},
   "source": [
    "Прощание также должно было формальным."
   ]
  },
  {
   "cell_type": "code",
   "execution_count": 18,
   "id": "9a357f0d-0e77-49a4-9cc5-7e6ccbcbcb67",
   "metadata": {},
   "outputs": [],
   "source": [
    "goodbyes = ('свидан','проща','скорог','скорой','встреч','давай','пиши','звони','всего наилучшего','до завтра','до послезавтра')"
   ]
  },
  {
   "cell_type": "code",
   "execution_count": 19,
   "id": "9ff5d464-46ef-4435-8e5f-96d353e20bb4",
   "metadata": {},
   "outputs": [],
   "source": [
    "max_lines_dict = data[data['role'] == 'manager'].groupby('dlg_id')['line_n'].max().to_dict()"
   ]
  },
  {
   "cell_type": "code",
   "execution_count": 20,
   "id": "7a248d4c",
   "metadata": {},
   "outputs": [],
   "source": [
    "def Find_Bye(x, limit=3):\n",
    "    \n",
    "    if x['line_n'] <= max_lines_dict[x['dlg_id']] - limit:\n",
    "        return np.nan\n",
    "    \n",
    "    text = x['text'].lower()\n",
    "    \n",
    "    for bye in goodbyes:\n",
    "        if bye in text:\n",
    "            return True"
   ]
  },
  {
   "cell_type": "code",
   "execution_count": 21,
   "id": "bf3d46e1-fbb1-4bc4-94dc-de812e4525a4",
   "metadata": {},
   "outputs": [
    {
     "data": {
      "text/html": [
       "<div>\n",
       "<style scoped>\n",
       "    .dataframe tbody tr th:only-of-type {\n",
       "        vertical-align: middle;\n",
       "    }\n",
       "\n",
       "    .dataframe tbody tr th {\n",
       "        vertical-align: top;\n",
       "    }\n",
       "\n",
       "    .dataframe thead th {\n",
       "        text-align: right;\n",
       "    }\n",
       "</style>\n",
       "<table border=\"1\" class=\"dataframe\">\n",
       "  <thead>\n",
       "    <tr style=\"text-align: right;\">\n",
       "      <th></th>\n",
       "      <th>dlg_id</th>\n",
       "      <th>line_n</th>\n",
       "      <th>role</th>\n",
       "      <th>text</th>\n",
       "      <th>greeting</th>\n",
       "      <th>name_manager</th>\n",
       "      <th>name_org</th>\n",
       "      <th>goodbye</th>\n",
       "    </tr>\n",
       "  </thead>\n",
       "  <tbody>\n",
       "    <tr>\n",
       "      <th>301</th>\n",
       "      <td>3</td>\n",
       "      <td>52</td>\n",
       "      <td>manager</td>\n",
       "      <td>Да до свидания</td>\n",
       "      <td>NaN</td>\n",
       "      <td>NaN</td>\n",
       "      <td>None</td>\n",
       "      <td>True</td>\n",
       "    </tr>\n",
       "    <tr>\n",
       "      <th>336</th>\n",
       "      <td>4</td>\n",
       "      <td>34</td>\n",
       "      <td>manager</td>\n",
       "      <td>Угу да до свидания</td>\n",
       "      <td>NaN</td>\n",
       "      <td>NaN</td>\n",
       "      <td>None</td>\n",
       "      <td>True</td>\n",
       "    </tr>\n",
       "    <tr>\n",
       "      <th>478</th>\n",
       "      <td>5</td>\n",
       "      <td>141</td>\n",
       "      <td>manager</td>\n",
       "      <td>Да да тогда созвонимся ага спасибо вам давайте</td>\n",
       "      <td>NaN</td>\n",
       "      <td>NaN</td>\n",
       "      <td>None</td>\n",
       "      <td>True</td>\n",
       "    </tr>\n",
       "  </tbody>\n",
       "</table>\n",
       "</div>"
      ],
      "text/plain": [
       "     dlg_id  line_n     role                                            text  \\\n",
       "301       3      52  manager                                  Да до свидания   \n",
       "336       4      34  manager                              Угу да до свидания   \n",
       "478       5     141  manager  Да да тогда созвонимся ага спасибо вам давайте   \n",
       "\n",
       "    greeting  name_manager name_org goodbye  \n",
       "301      NaN           NaN     None    True  \n",
       "336      NaN           NaN     None    True  \n",
       "478      NaN           NaN     None    True  "
      ]
     },
     "execution_count": 21,
     "metadata": {},
     "output_type": "execute_result"
    }
   ],
   "source": [
    "data['goodbye'] = data[data['role'] == 'manager'].apply(Find_Bye, axis = 1)\n",
    "data[data['goodbye'].notna()]"
   ]
  },
  {
   "cell_type": "markdown",
   "id": "f839b04e-7cfa-48eb-b9fc-85412856aefa",
   "metadata": {},
   "source": [
    "## Проверка менеджера"
   ]
  },
  {
   "cell_type": "markdown",
   "id": "4391fe5f",
   "metadata": {},
   "source": [
    "«В каждом диалоге обязательно необходимо поздороваться и попрощаться с клиентом»"
   ]
  },
  {
   "cell_type": "code",
   "execution_count": 22,
   "id": "c38ef369-035f-4d41-9425-d7d750984c10",
   "metadata": {},
   "outputs": [
    {
     "data": {
      "text/plain": [
       "dlg_id\n",
       "0    False\n",
       "1    False\n",
       "2    False\n",
       "3     True\n",
       "4     True\n",
       "5    False\n",
       "dtype: bool"
      ]
     },
     "execution_count": 22,
     "metadata": {},
     "output_type": "execute_result"
    }
   ],
   "source": [
    "data[data['role'] == 'manager'].groupby('dlg_id')[['greeting','goodbye']].sum().apply(lambda x: x['greeting'] is True and x['goodbye'] is True, axis = 1)"
   ]
  },
  {
   "cell_type": "markdown",
   "id": "a621e27a",
   "metadata": {},
   "source": [
    "Менеджер поздоровался и попрощался только в диалогах 3 и 4."
   ]
  },
  {
   "cell_type": "markdown",
   "id": "3e6780cb",
   "metadata": {},
   "source": [
    "## Экспорт таблицы"
   ]
  },
  {
   "cell_type": "code",
   "execution_count": 23,
   "id": "4d1aec73",
   "metadata": {},
   "outputs": [],
   "source": [
    "data.to_csv('test_data.csv')"
   ]
  }
 ],
 "metadata": {
  "kernelspec": {
   "display_name": "Python 3 (ipykernel)",
   "language": "python",
   "name": "python3"
  },
  "language_info": {
   "codemirror_mode": {
    "name": "ipython",
    "version": 3
   },
   "file_extension": ".py",
   "mimetype": "text/x-python",
   "name": "python",
   "nbconvert_exporter": "python",
   "pygments_lexer": "ipython3",
   "version": "3.9.0"
  },
  "toc": {
   "base_numbering": 1,
   "nav_menu": {},
   "number_sections": true,
   "sideBar": true,
   "skip_h1_title": true,
   "title_cell": "Содержание",
   "title_sidebar": "Contents",
   "toc_cell": true,
   "toc_position": {
    "height": "calc(100% - 180px)",
    "left": "10px",
    "top": "150px",
    "width": "288.167px"
   },
   "toc_section_display": true,
   "toc_window_display": true
  }
 },
 "nbformat": 4,
 "nbformat_minor": 5
}
